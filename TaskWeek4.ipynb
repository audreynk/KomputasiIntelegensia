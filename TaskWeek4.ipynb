{
  "nbformat": 4,
  "nbformat_minor": 0,
  "metadata": {
    "colab": {
      "provenance": [],
      "gpuType": "T4",
      "authorship_tag": "ABX9TyMtcoDkqvZxx9T7FNY69V4E",
      "include_colab_link": true
    },
    "kernelspec": {
      "name": "python3",
      "display_name": "Python 3"
    },
    "language_info": {
      "name": "python"
    },
    "accelerator": "GPU"
  },
  "cells": [
    {
      "cell_type": "markdown",
      "metadata": {
        "id": "view-in-github",
        "colab_type": "text"
      },
      "source": [
        "<a href=\"https://colab.research.google.com/github/audreynk/KomputasiIntelegensia/blob/main/TaskWeek4.ipynb\" target=\"_parent\"><img src=\"https://colab.research.google.com/assets/colab-badge.svg\" alt=\"Open In Colab\"/></a>"
      ]
    },
    {
      "cell_type": "markdown",
      "source": [
        "Nama: Audrey Naomi Karenina\\\n",
        "NPM: 2206048796"
      ],
      "metadata": {
        "id": "V3NG7Klfgv1B"
      }
    },
    {
      "cell_type": "code",
      "execution_count": 1,
      "metadata": {
        "colab": {
          "base_uri": "https://localhost:8080/"
        },
        "id": "cT6663c4gZMi",
        "outputId": "a3f20e7c-8c6e-4fd3-f62a-5a2820562f7a"
      },
      "outputs": [
        {
          "output_type": "stream",
          "name": "stdout",
          "text": [
            "Requirement already satisfied: d2l in /usr/local/lib/python3.10/dist-packages (1.0.3)\n",
            "Requirement already satisfied: jupyter==1.0.0 in /usr/local/lib/python3.10/dist-packages (from d2l) (1.0.0)\n",
            "Requirement already satisfied: numpy==1.23.5 in /usr/local/lib/python3.10/dist-packages (from d2l) (1.23.5)\n",
            "Requirement already satisfied: matplotlib==3.7.2 in /usr/local/lib/python3.10/dist-packages (from d2l) (3.7.2)\n",
            "Requirement already satisfied: matplotlib-inline==0.1.6 in /usr/local/lib/python3.10/dist-packages (from d2l) (0.1.6)\n",
            "Requirement already satisfied: requests==2.31.0 in /usr/local/lib/python3.10/dist-packages (from d2l) (2.31.0)\n",
            "Requirement already satisfied: pandas==2.0.3 in /usr/local/lib/python3.10/dist-packages (from d2l) (2.0.3)\n",
            "Requirement already satisfied: scipy==1.10.1 in /usr/local/lib/python3.10/dist-packages (from d2l) (1.10.1)\n",
            "Requirement already satisfied: notebook in /usr/local/lib/python3.10/dist-packages (from jupyter==1.0.0->d2l) (6.5.5)\n",
            "Requirement already satisfied: qtconsole in /usr/local/lib/python3.10/dist-packages (from jupyter==1.0.0->d2l) (5.6.0)\n",
            "Requirement already satisfied: jupyter-console in /usr/local/lib/python3.10/dist-packages (from jupyter==1.0.0->d2l) (6.1.0)\n",
            "Requirement already satisfied: nbconvert in /usr/local/lib/python3.10/dist-packages (from jupyter==1.0.0->d2l) (6.5.4)\n",
            "Requirement already satisfied: ipykernel in /usr/local/lib/python3.10/dist-packages (from jupyter==1.0.0->d2l) (5.5.6)\n",
            "Requirement already satisfied: ipywidgets in /usr/local/lib/python3.10/dist-packages (from jupyter==1.0.0->d2l) (7.7.1)\n",
            "Requirement already satisfied: contourpy>=1.0.1 in /usr/local/lib/python3.10/dist-packages (from matplotlib==3.7.2->d2l) (1.3.0)\n",
            "Requirement already satisfied: cycler>=0.10 in /usr/local/lib/python3.10/dist-packages (from matplotlib==3.7.2->d2l) (0.12.1)\n",
            "Requirement already satisfied: fonttools>=4.22.0 in /usr/local/lib/python3.10/dist-packages (from matplotlib==3.7.2->d2l) (4.54.1)\n",
            "Requirement already satisfied: kiwisolver>=1.0.1 in /usr/local/lib/python3.10/dist-packages (from matplotlib==3.7.2->d2l) (1.4.7)\n",
            "Requirement already satisfied: packaging>=20.0 in /usr/local/lib/python3.10/dist-packages (from matplotlib==3.7.2->d2l) (24.1)\n",
            "Requirement already satisfied: pillow>=6.2.0 in /usr/local/lib/python3.10/dist-packages (from matplotlib==3.7.2->d2l) (10.4.0)\n",
            "Requirement already satisfied: pyparsing<3.1,>=2.3.1 in /usr/local/lib/python3.10/dist-packages (from matplotlib==3.7.2->d2l) (3.0.9)\n",
            "Requirement already satisfied: python-dateutil>=2.7 in /usr/local/lib/python3.10/dist-packages (from matplotlib==3.7.2->d2l) (2.8.2)\n",
            "Requirement already satisfied: traitlets in /usr/local/lib/python3.10/dist-packages (from matplotlib-inline==0.1.6->d2l) (5.7.1)\n",
            "Requirement already satisfied: pytz>=2020.1 in /usr/local/lib/python3.10/dist-packages (from pandas==2.0.3->d2l) (2024.2)\n",
            "Requirement already satisfied: tzdata>=2022.1 in /usr/local/lib/python3.10/dist-packages (from pandas==2.0.3->d2l) (2024.2)\n",
            "Requirement already satisfied: charset-normalizer<4,>=2 in /usr/local/lib/python3.10/dist-packages (from requests==2.31.0->d2l) (3.3.2)\n",
            "Requirement already satisfied: idna<4,>=2.5 in /usr/local/lib/python3.10/dist-packages (from requests==2.31.0->d2l) (3.10)\n",
            "Requirement already satisfied: urllib3<3,>=1.21.1 in /usr/local/lib/python3.10/dist-packages (from requests==2.31.0->d2l) (2.2.3)\n",
            "Requirement already satisfied: certifi>=2017.4.17 in /usr/local/lib/python3.10/dist-packages (from requests==2.31.0->d2l) (2024.8.30)\n",
            "Requirement already satisfied: six>=1.5 in /usr/local/lib/python3.10/dist-packages (from python-dateutil>=2.7->matplotlib==3.7.2->d2l) (1.16.0)\n",
            "Requirement already satisfied: ipython-genutils in /usr/local/lib/python3.10/dist-packages (from ipykernel->jupyter==1.0.0->d2l) (0.2.0)\n",
            "Requirement already satisfied: ipython>=5.0.0 in /usr/local/lib/python3.10/dist-packages (from ipykernel->jupyter==1.0.0->d2l) (7.34.0)\n",
            "Requirement already satisfied: jupyter-client in /usr/local/lib/python3.10/dist-packages (from ipykernel->jupyter==1.0.0->d2l) (6.1.12)\n",
            "Requirement already satisfied: tornado>=4.2 in /usr/local/lib/python3.10/dist-packages (from ipykernel->jupyter==1.0.0->d2l) (6.3.3)\n",
            "Requirement already satisfied: widgetsnbextension~=3.6.0 in /usr/local/lib/python3.10/dist-packages (from ipywidgets->jupyter==1.0.0->d2l) (3.6.9)\n",
            "Requirement already satisfied: jupyterlab-widgets>=1.0.0 in /usr/local/lib/python3.10/dist-packages (from ipywidgets->jupyter==1.0.0->d2l) (3.0.13)\n",
            "Requirement already satisfied: prompt-toolkit!=3.0.0,!=3.0.1,<3.1.0,>=2.0.0 in /usr/local/lib/python3.10/dist-packages (from jupyter-console->jupyter==1.0.0->d2l) (3.0.48)\n",
            "Requirement already satisfied: pygments in /usr/local/lib/python3.10/dist-packages (from jupyter-console->jupyter==1.0.0->d2l) (2.18.0)\n",
            "Requirement already satisfied: lxml in /usr/local/lib/python3.10/dist-packages (from nbconvert->jupyter==1.0.0->d2l) (4.9.4)\n",
            "Requirement already satisfied: beautifulsoup4 in /usr/local/lib/python3.10/dist-packages (from nbconvert->jupyter==1.0.0->d2l) (4.12.3)\n",
            "Requirement already satisfied: bleach in /usr/local/lib/python3.10/dist-packages (from nbconvert->jupyter==1.0.0->d2l) (6.1.0)\n",
            "Requirement already satisfied: defusedxml in /usr/local/lib/python3.10/dist-packages (from nbconvert->jupyter==1.0.0->d2l) (0.7.1)\n",
            "Requirement already satisfied: entrypoints>=0.2.2 in /usr/local/lib/python3.10/dist-packages (from nbconvert->jupyter==1.0.0->d2l) (0.4)\n",
            "Requirement already satisfied: jinja2>=3.0 in /usr/local/lib/python3.10/dist-packages (from nbconvert->jupyter==1.0.0->d2l) (3.1.4)\n",
            "Requirement already satisfied: jupyter-core>=4.7 in /usr/local/lib/python3.10/dist-packages (from nbconvert->jupyter==1.0.0->d2l) (5.7.2)\n",
            "Requirement already satisfied: jupyterlab-pygments in /usr/local/lib/python3.10/dist-packages (from nbconvert->jupyter==1.0.0->d2l) (0.3.0)\n",
            "Requirement already satisfied: MarkupSafe>=2.0 in /usr/local/lib/python3.10/dist-packages (from nbconvert->jupyter==1.0.0->d2l) (2.1.5)\n",
            "Requirement already satisfied: mistune<2,>=0.8.1 in /usr/local/lib/python3.10/dist-packages (from nbconvert->jupyter==1.0.0->d2l) (0.8.4)\n",
            "Requirement already satisfied: nbclient>=0.5.0 in /usr/local/lib/python3.10/dist-packages (from nbconvert->jupyter==1.0.0->d2l) (0.10.0)\n",
            "Requirement already satisfied: nbformat>=5.1 in /usr/local/lib/python3.10/dist-packages (from nbconvert->jupyter==1.0.0->d2l) (5.10.4)\n",
            "Requirement already satisfied: pandocfilters>=1.4.1 in /usr/local/lib/python3.10/dist-packages (from nbconvert->jupyter==1.0.0->d2l) (1.5.1)\n",
            "Requirement already satisfied: tinycss2 in /usr/local/lib/python3.10/dist-packages (from nbconvert->jupyter==1.0.0->d2l) (1.3.0)\n",
            "Requirement already satisfied: pyzmq<25,>=17 in /usr/local/lib/python3.10/dist-packages (from notebook->jupyter==1.0.0->d2l) (24.0.1)\n",
            "Requirement already satisfied: argon2-cffi in /usr/local/lib/python3.10/dist-packages (from notebook->jupyter==1.0.0->d2l) (23.1.0)\n",
            "Requirement already satisfied: nest-asyncio>=1.5 in /usr/local/lib/python3.10/dist-packages (from notebook->jupyter==1.0.0->d2l) (1.6.0)\n",
            "Requirement already satisfied: Send2Trash>=1.8.0 in /usr/local/lib/python3.10/dist-packages (from notebook->jupyter==1.0.0->d2l) (1.8.3)\n",
            "Requirement already satisfied: terminado>=0.8.3 in /usr/local/lib/python3.10/dist-packages (from notebook->jupyter==1.0.0->d2l) (0.18.1)\n",
            "Requirement already satisfied: prometheus-client in /usr/local/lib/python3.10/dist-packages (from notebook->jupyter==1.0.0->d2l) (0.21.0)\n",
            "Requirement already satisfied: nbclassic>=0.4.7 in /usr/local/lib/python3.10/dist-packages (from notebook->jupyter==1.0.0->d2l) (1.1.0)\n",
            "Requirement already satisfied: qtpy>=2.4.0 in /usr/local/lib/python3.10/dist-packages (from qtconsole->jupyter==1.0.0->d2l) (2.4.1)\n",
            "Requirement already satisfied: setuptools>=18.5 in /usr/local/lib/python3.10/dist-packages (from ipython>=5.0.0->ipykernel->jupyter==1.0.0->d2l) (71.0.4)\n",
            "Requirement already satisfied: jedi>=0.16 in /usr/local/lib/python3.10/dist-packages (from ipython>=5.0.0->ipykernel->jupyter==1.0.0->d2l) (0.19.1)\n",
            "Requirement already satisfied: decorator in /usr/local/lib/python3.10/dist-packages (from ipython>=5.0.0->ipykernel->jupyter==1.0.0->d2l) (4.4.2)\n",
            "Requirement already satisfied: pickleshare in /usr/local/lib/python3.10/dist-packages (from ipython>=5.0.0->ipykernel->jupyter==1.0.0->d2l) (0.7.5)\n",
            "Requirement already satisfied: backcall in /usr/local/lib/python3.10/dist-packages (from ipython>=5.0.0->ipykernel->jupyter==1.0.0->d2l) (0.2.0)\n",
            "Requirement already satisfied: pexpect>4.3 in /usr/local/lib/python3.10/dist-packages (from ipython>=5.0.0->ipykernel->jupyter==1.0.0->d2l) (4.9.0)\n",
            "Requirement already satisfied: platformdirs>=2.5 in /usr/local/lib/python3.10/dist-packages (from jupyter-core>=4.7->nbconvert->jupyter==1.0.0->d2l) (4.3.6)\n",
            "Requirement already satisfied: notebook-shim>=0.2.3 in /usr/local/lib/python3.10/dist-packages (from nbclassic>=0.4.7->notebook->jupyter==1.0.0->d2l) (0.2.4)\n",
            "Requirement already satisfied: fastjsonschema>=2.15 in /usr/local/lib/python3.10/dist-packages (from nbformat>=5.1->nbconvert->jupyter==1.0.0->d2l) (2.20.0)\n",
            "Requirement already satisfied: jsonschema>=2.6 in /usr/local/lib/python3.10/dist-packages (from nbformat>=5.1->nbconvert->jupyter==1.0.0->d2l) (4.23.0)\n",
            "Requirement already satisfied: wcwidth in /usr/local/lib/python3.10/dist-packages (from prompt-toolkit!=3.0.0,!=3.0.1,<3.1.0,>=2.0.0->jupyter-console->jupyter==1.0.0->d2l) (0.2.13)\n",
            "Requirement already satisfied: ptyprocess in /usr/local/lib/python3.10/dist-packages (from terminado>=0.8.3->notebook->jupyter==1.0.0->d2l) (0.7.0)\n",
            "Requirement already satisfied: argon2-cffi-bindings in /usr/local/lib/python3.10/dist-packages (from argon2-cffi->notebook->jupyter==1.0.0->d2l) (21.2.0)\n",
            "Requirement already satisfied: soupsieve>1.2 in /usr/local/lib/python3.10/dist-packages (from beautifulsoup4->nbconvert->jupyter==1.0.0->d2l) (2.6)\n",
            "Requirement already satisfied: webencodings in /usr/local/lib/python3.10/dist-packages (from bleach->nbconvert->jupyter==1.0.0->d2l) (0.5.1)\n",
            "Requirement already satisfied: parso<0.9.0,>=0.8.3 in /usr/local/lib/python3.10/dist-packages (from jedi>=0.16->ipython>=5.0.0->ipykernel->jupyter==1.0.0->d2l) (0.8.4)\n",
            "Requirement already satisfied: attrs>=22.2.0 in /usr/local/lib/python3.10/dist-packages (from jsonschema>=2.6->nbformat>=5.1->nbconvert->jupyter==1.0.0->d2l) (24.2.0)\n",
            "Requirement already satisfied: jsonschema-specifications>=2023.03.6 in /usr/local/lib/python3.10/dist-packages (from jsonschema>=2.6->nbformat>=5.1->nbconvert->jupyter==1.0.0->d2l) (2023.12.1)\n",
            "Requirement already satisfied: referencing>=0.28.4 in /usr/local/lib/python3.10/dist-packages (from jsonschema>=2.6->nbformat>=5.1->nbconvert->jupyter==1.0.0->d2l) (0.35.1)\n",
            "Requirement already satisfied: rpds-py>=0.7.1 in /usr/local/lib/python3.10/dist-packages (from jsonschema>=2.6->nbformat>=5.1->nbconvert->jupyter==1.0.0->d2l) (0.20.0)\n",
            "Requirement already satisfied: jupyter-server<3,>=1.8 in /usr/local/lib/python3.10/dist-packages (from notebook-shim>=0.2.3->nbclassic>=0.4.7->notebook->jupyter==1.0.0->d2l) (1.24.0)\n",
            "Requirement already satisfied: cffi>=1.0.1 in /usr/local/lib/python3.10/dist-packages (from argon2-cffi-bindings->argon2-cffi->notebook->jupyter==1.0.0->d2l) (1.17.1)\n",
            "Requirement already satisfied: pycparser in /usr/local/lib/python3.10/dist-packages (from cffi>=1.0.1->argon2-cffi-bindings->argon2-cffi->notebook->jupyter==1.0.0->d2l) (2.22)\n",
            "Requirement already satisfied: anyio<4,>=3.1.0 in /usr/local/lib/python3.10/dist-packages (from jupyter-server<3,>=1.8->notebook-shim>=0.2.3->nbclassic>=0.4.7->notebook->jupyter==1.0.0->d2l) (3.7.1)\n",
            "Requirement already satisfied: websocket-client in /usr/local/lib/python3.10/dist-packages (from jupyter-server<3,>=1.8->notebook-shim>=0.2.3->nbclassic>=0.4.7->notebook->jupyter==1.0.0->d2l) (1.8.0)\n",
            "Requirement already satisfied: sniffio>=1.1 in /usr/local/lib/python3.10/dist-packages (from anyio<4,>=3.1.0->jupyter-server<3,>=1.8->notebook-shim>=0.2.3->nbclassic>=0.4.7->notebook->jupyter==1.0.0->d2l) (1.3.1)\n",
            "Requirement already satisfied: exceptiongroup in /usr/local/lib/python3.10/dist-packages (from anyio<4,>=3.1.0->jupyter-server<3,>=1.8->notebook-shim>=0.2.3->nbclassic>=0.4.7->notebook->jupyter==1.0.0->d2l) (1.2.2)\n"
          ]
        }
      ],
      "source": [
        "!pip install d2l"
      ]
    },
    {
      "cell_type": "markdown",
      "source": [
        "# 8.1 Deep Convolutional Neural Networks (AlexNet)"
      ],
      "metadata": {
        "id": "7rb-u2vGhYkL"
      }
    },
    {
      "cell_type": "code",
      "source": [
        "import torch\n",
        "from torch import nn\n",
        "from d2l import torch as d2l"
      ],
      "metadata": {
        "id": "fp5uJ41qhb0Z"
      },
      "execution_count": 2,
      "outputs": []
    },
    {
      "cell_type": "markdown",
      "source": [
        "### Capacity Control and Preprocessing"
      ],
      "metadata": {
        "id": "3CK7JK6khtsS"
      }
    },
    {
      "cell_type": "code",
      "source": [
        "class AlexNet(d2l.Classifier):\n",
        "    def __init__(self, lr=0.1, num_classes=10):\n",
        "        super().__init__()\n",
        "        self.save_hyperparameters()\n",
        "        self.net = nn.Sequential(\n",
        "            nn.LazyConv2d(96, kernel_size=11, stride=4, padding=1),\n",
        "            nn.ReLU(), nn.MaxPool2d(kernel_size=3, stride=2),\n",
        "            nn.LazyConv2d(256, kernel_size=5, padding=2), nn.ReLU(),\n",
        "            nn.MaxPool2d(kernel_size=3, stride=2),\n",
        "            nn.LazyConv2d(384, kernel_size=3, padding=1), nn.ReLU(),\n",
        "            nn.LazyConv2d(384, kernel_size=3, padding=1), nn.ReLU(),\n",
        "            nn.LazyConv2d(256, kernel_size=3, padding=1), nn.ReLU(),\n",
        "            nn.MaxPool2d(kernel_size=3, stride=2), nn.Flatten(),\n",
        "            nn.LazyLinear(4096), nn.ReLU(), nn.Dropout(p=0.5),\n",
        "            nn.LazyLinear(4096), nn.ReLU(),nn.Dropout(p=0.5),\n",
        "            nn.LazyLinear(num_classes))\n",
        "        self.net.apply(d2l.init_cnn)"
      ],
      "metadata": {
        "id": "JzaJzCGphuvR"
      },
      "execution_count": 3,
      "outputs": []
    },
    {
      "cell_type": "code",
      "source": [
        "AlexNet().layer_summary((1, 1, 224, 224))"
      ],
      "metadata": {
        "colab": {
          "base_uri": "https://localhost:8080/"
        },
        "id": "6jysrZnmhxBb",
        "outputId": "068893d6-5dfe-4fcd-85a9-a1db6c80da3c"
      },
      "execution_count": 4,
      "outputs": [
        {
          "output_type": "stream",
          "name": "stdout",
          "text": [
            "Conv2d output shape:\t torch.Size([1, 96, 54, 54])\n",
            "ReLU output shape:\t torch.Size([1, 96, 54, 54])\n",
            "MaxPool2d output shape:\t torch.Size([1, 96, 26, 26])\n",
            "Conv2d output shape:\t torch.Size([1, 256, 26, 26])\n",
            "ReLU output shape:\t torch.Size([1, 256, 26, 26])\n",
            "MaxPool2d output shape:\t torch.Size([1, 256, 12, 12])\n",
            "Conv2d output shape:\t torch.Size([1, 384, 12, 12])\n",
            "ReLU output shape:\t torch.Size([1, 384, 12, 12])\n",
            "Conv2d output shape:\t torch.Size([1, 384, 12, 12])\n",
            "ReLU output shape:\t torch.Size([1, 384, 12, 12])\n",
            "Conv2d output shape:\t torch.Size([1, 256, 12, 12])\n",
            "ReLU output shape:\t torch.Size([1, 256, 12, 12])\n",
            "MaxPool2d output shape:\t torch.Size([1, 256, 5, 5])\n",
            "Flatten output shape:\t torch.Size([1, 6400])\n",
            "Linear output shape:\t torch.Size([1, 4096])\n",
            "ReLU output shape:\t torch.Size([1, 4096])\n",
            "Dropout output shape:\t torch.Size([1, 4096])\n",
            "Linear output shape:\t torch.Size([1, 4096])\n",
            "ReLU output shape:\t torch.Size([1, 4096])\n",
            "Dropout output shape:\t torch.Size([1, 4096])\n",
            "Linear output shape:\t torch.Size([1, 10])\n"
          ]
        }
      ]
    },
    {
      "cell_type": "markdown",
      "source": [
        "## Training"
      ],
      "metadata": {
        "id": "EfzcTNFxhyxa"
      }
    },
    {
      "cell_type": "code",
      "source": [
        "model = AlexNet(lr=0.01)\n",
        "data = d2l.FashionMNIST(batch_size=128, resize=(224, 224))\n",
        "trainer = d2l.Trainer(max_epochs=10, num_gpus=1)\n",
        "trainer.fit(model, data)"
      ],
      "metadata": {
        "id": "XA_MTGz7h67n",
        "colab": {
          "base_uri": "https://localhost:8080/",
          "height": 266
        },
        "outputId": "4dbd8885-abd9-4770-d036-a180bf03ec44"
      },
      "execution_count": 5,
      "outputs": [
        {
          "output_type": "display_data",
          "data": {
            "text/plain": [
              "<Figure size 350x250 with 1 Axes>"
            ],
            "image/svg+xml": "<?xml version=\"1.0\" encoding=\"utf-8\" standalone=\"no\"?>\n<!DOCTYPE svg PUBLIC \"-//W3C//DTD SVG 1.1//EN\"\n  \"http://www.w3.org/Graphics/SVG/1.1/DTD/svg11.dtd\">\n<svg xmlns:xlink=\"http://www.w3.org/1999/xlink\" width=\"238.965625pt\" height=\"183.35625pt\" viewBox=\"0 0 238.965625 183.35625\" xmlns=\"http://www.w3.org/2000/svg\" version=\"1.1\">\n <metadata>\n  <rdf:RDF xmlns:dc=\"http://purl.org/dc/elements/1.1/\" xmlns:cc=\"http://creativecommons.org/ns#\" xmlns:rdf=\"http://www.w3.org/1999/02/22-rdf-syntax-ns#\">\n   <cc:Work>\n    <dc:type rdf:resource=\"http://purl.org/dc/dcmitype/StillImage\"/>\n    <dc:date>2024-10-05T15:11:59.700943</dc:date>\n    <dc:format>image/svg+xml</dc:format>\n    <dc:creator>\n     <cc:Agent>\n      <dc:title>Matplotlib v3.7.2, https://matplotlib.org/</dc:title>\n     </cc:Agent>\n    </dc:creator>\n   </cc:Work>\n  </rdf:RDF>\n </metadata>\n <defs>\n  <style type=\"text/css\">*{stroke-linejoin: round; stroke-linecap: butt}</style>\n </defs>\n <g id=\"figure_1\">\n  <g id=\"patch_1\">\n   <path d=\"M 0 183.35625 \nL 238.965625 183.35625 \nL 238.965625 0 \nL 0 0 \nz\n\" style=\"fill: #ffffff\"/>\n  </g>\n  <g id=\"axes_1\">\n   <g id=\"patch_2\">\n    <path d=\"M 30.103125 145.8 \nL 225.403125 145.8 \nL 225.403125 7.2 \nL 30.103125 7.2 \nz\n\" style=\"fill: #ffffff\"/>\n   </g>\n   <g id=\"matplotlib.axis_1\">\n    <g id=\"xtick_1\">\n     <g id=\"line2d_1\">\n      <defs>\n       <path id=\"m584ae0eab4\" d=\"M 0 0 \nL 0 3.5 \n\" style=\"stroke: #000000; stroke-width: 0.8\"/>\n      </defs>\n      <g>\n       <use xlink:href=\"#m584ae0eab4\" x=\"30.103125\" y=\"145.8\" style=\"stroke: #000000; stroke-width: 0.8\"/>\n      </g>\n     </g>\n     <g id=\"text_1\">\n      <!-- 0 -->\n      <g transform=\"translate(26.921875 160.398438) scale(0.1 -0.1)\">\n       <defs>\n        <path id=\"DejaVuSans-30\" d=\"M 2034 4250 \nQ 1547 4250 1301 3770 \nQ 1056 3291 1056 2328 \nQ 1056 1369 1301 889 \nQ 1547 409 2034 409 \nQ 2525 409 2770 889 \nQ 3016 1369 3016 2328 \nQ 3016 3291 2770 3770 \nQ 2525 4250 2034 4250 \nz\nM 2034 4750 \nQ 2819 4750 3233 4129 \nQ 3647 3509 3647 2328 \nQ 3647 1150 3233 529 \nQ 2819 -91 2034 -91 \nQ 1250 -91 836 529 \nQ 422 1150 422 2328 \nQ 422 3509 836 4129 \nQ 1250 4750 2034 4750 \nz\n\" transform=\"scale(0.015625)\"/>\n       </defs>\n       <use xlink:href=\"#DejaVuSans-30\"/>\n      </g>\n     </g>\n    </g>\n    <g id=\"xtick_2\">\n     <g id=\"line2d_2\">\n      <g>\n       <use xlink:href=\"#m584ae0eab4\" x=\"69.163125\" y=\"145.8\" style=\"stroke: #000000; stroke-width: 0.8\"/>\n      </g>\n     </g>\n     <g id=\"text_2\">\n      <!-- 2 -->\n      <g transform=\"translate(65.981875 160.398438) scale(0.1 -0.1)\">\n       <defs>\n        <path id=\"DejaVuSans-32\" d=\"M 1228 531 \nL 3431 531 \nL 3431 0 \nL 469 0 \nL 469 531 \nQ 828 903 1448 1529 \nQ 2069 2156 2228 2338 \nQ 2531 2678 2651 2914 \nQ 2772 3150 2772 3378 \nQ 2772 3750 2511 3984 \nQ 2250 4219 1831 4219 \nQ 1534 4219 1204 4116 \nQ 875 4013 500 3803 \nL 500 4441 \nQ 881 4594 1212 4672 \nQ 1544 4750 1819 4750 \nQ 2544 4750 2975 4387 \nQ 3406 4025 3406 3419 \nQ 3406 3131 3298 2873 \nQ 3191 2616 2906 2266 \nQ 2828 2175 2409 1742 \nQ 1991 1309 1228 531 \nz\n\" transform=\"scale(0.015625)\"/>\n       </defs>\n       <use xlink:href=\"#DejaVuSans-32\"/>\n      </g>\n     </g>\n    </g>\n    <g id=\"xtick_3\">\n     <g id=\"line2d_3\">\n      <g>\n       <use xlink:href=\"#m584ae0eab4\" x=\"108.223125\" y=\"145.8\" style=\"stroke: #000000; stroke-width: 0.8\"/>\n      </g>\n     </g>\n     <g id=\"text_3\">\n      <!-- 4 -->\n      <g transform=\"translate(105.041875 160.398438) scale(0.1 -0.1)\">\n       <defs>\n        <path id=\"DejaVuSans-34\" d=\"M 2419 4116 \nL 825 1625 \nL 2419 1625 \nL 2419 4116 \nz\nM 2253 4666 \nL 3047 4666 \nL 3047 1625 \nL 3713 1625 \nL 3713 1100 \nL 3047 1100 \nL 3047 0 \nL 2419 0 \nL 2419 1100 \nL 313 1100 \nL 313 1709 \nL 2253 4666 \nz\n\" transform=\"scale(0.015625)\"/>\n       </defs>\n       <use xlink:href=\"#DejaVuSans-34\"/>\n      </g>\n     </g>\n    </g>\n    <g id=\"xtick_4\">\n     <g id=\"line2d_4\">\n      <g>\n       <use xlink:href=\"#m584ae0eab4\" x=\"147.283125\" y=\"145.8\" style=\"stroke: #000000; stroke-width: 0.8\"/>\n      </g>\n     </g>\n     <g id=\"text_4\">\n      <!-- 6 -->\n      <g transform=\"translate(144.101875 160.398438) scale(0.1 -0.1)\">\n       <defs>\n        <path id=\"DejaVuSans-36\" d=\"M 2113 2584 \nQ 1688 2584 1439 2293 \nQ 1191 2003 1191 1497 \nQ 1191 994 1439 701 \nQ 1688 409 2113 409 \nQ 2538 409 2786 701 \nQ 3034 994 3034 1497 \nQ 3034 2003 2786 2293 \nQ 2538 2584 2113 2584 \nz\nM 3366 4563 \nL 3366 3988 \nQ 3128 4100 2886 4159 \nQ 2644 4219 2406 4219 \nQ 1781 4219 1451 3797 \nQ 1122 3375 1075 2522 \nQ 1259 2794 1537 2939 \nQ 1816 3084 2150 3084 \nQ 2853 3084 3261 2657 \nQ 3669 2231 3669 1497 \nQ 3669 778 3244 343 \nQ 2819 -91 2113 -91 \nQ 1303 -91 875 529 \nQ 447 1150 447 2328 \nQ 447 3434 972 4092 \nQ 1497 4750 2381 4750 \nQ 2619 4750 2861 4703 \nQ 3103 4656 3366 4563 \nz\n\" transform=\"scale(0.015625)\"/>\n       </defs>\n       <use xlink:href=\"#DejaVuSans-36\"/>\n      </g>\n     </g>\n    </g>\n    <g id=\"xtick_5\">\n     <g id=\"line2d_5\">\n      <g>\n       <use xlink:href=\"#m584ae0eab4\" x=\"186.343125\" y=\"145.8\" style=\"stroke: #000000; stroke-width: 0.8\"/>\n      </g>\n     </g>\n     <g id=\"text_5\">\n      <!-- 8 -->\n      <g transform=\"translate(183.161875 160.398438) scale(0.1 -0.1)\">\n       <defs>\n        <path id=\"DejaVuSans-38\" d=\"M 2034 2216 \nQ 1584 2216 1326 1975 \nQ 1069 1734 1069 1313 \nQ 1069 891 1326 650 \nQ 1584 409 2034 409 \nQ 2484 409 2743 651 \nQ 3003 894 3003 1313 \nQ 3003 1734 2745 1975 \nQ 2488 2216 2034 2216 \nz\nM 1403 2484 \nQ 997 2584 770 2862 \nQ 544 3141 544 3541 \nQ 544 4100 942 4425 \nQ 1341 4750 2034 4750 \nQ 2731 4750 3128 4425 \nQ 3525 4100 3525 3541 \nQ 3525 3141 3298 2862 \nQ 3072 2584 2669 2484 \nQ 3125 2378 3379 2068 \nQ 3634 1759 3634 1313 \nQ 3634 634 3220 271 \nQ 2806 -91 2034 -91 \nQ 1263 -91 848 271 \nQ 434 634 434 1313 \nQ 434 1759 690 2068 \nQ 947 2378 1403 2484 \nz\nM 1172 3481 \nQ 1172 3119 1398 2916 \nQ 1625 2713 2034 2713 \nQ 2441 2713 2670 2916 \nQ 2900 3119 2900 3481 \nQ 2900 3844 2670 4047 \nQ 2441 4250 2034 4250 \nQ 1625 4250 1398 4047 \nQ 1172 3844 1172 3481 \nz\n\" transform=\"scale(0.015625)\"/>\n       </defs>\n       <use xlink:href=\"#DejaVuSans-38\"/>\n      </g>\n     </g>\n    </g>\n    <g id=\"xtick_6\">\n     <g id=\"line2d_6\">\n      <g>\n       <use xlink:href=\"#m584ae0eab4\" x=\"225.403125\" y=\"145.8\" style=\"stroke: #000000; stroke-width: 0.8\"/>\n      </g>\n     </g>\n     <g id=\"text_6\">\n      <!-- 10 -->\n      <g transform=\"translate(219.040625 160.398438) scale(0.1 -0.1)\">\n       <defs>\n        <path id=\"DejaVuSans-31\" d=\"M 794 531 \nL 1825 531 \nL 1825 4091 \nL 703 3866 \nL 703 4441 \nL 1819 4666 \nL 2450 4666 \nL 2450 531 \nL 3481 531 \nL 3481 0 \nL 794 0 \nL 794 531 \nz\n\" transform=\"scale(0.015625)\"/>\n       </defs>\n       <use xlink:href=\"#DejaVuSans-31\"/>\n       <use xlink:href=\"#DejaVuSans-30\" x=\"63.623047\"/>\n      </g>\n     </g>\n    </g>\n    <g id=\"text_7\">\n     <!-- epoch -->\n     <g transform=\"translate(112.525 174.076563) scale(0.1 -0.1)\">\n      <defs>\n       <path id=\"DejaVuSans-65\" d=\"M 3597 1894 \nL 3597 1613 \nL 953 1613 \nQ 991 1019 1311 708 \nQ 1631 397 2203 397 \nQ 2534 397 2845 478 \nQ 3156 559 3463 722 \nL 3463 178 \nQ 3153 47 2828 -22 \nQ 2503 -91 2169 -91 \nQ 1331 -91 842 396 \nQ 353 884 353 1716 \nQ 353 2575 817 3079 \nQ 1281 3584 2069 3584 \nQ 2775 3584 3186 3129 \nQ 3597 2675 3597 1894 \nz\nM 3022 2063 \nQ 3016 2534 2758 2815 \nQ 2500 3097 2075 3097 \nQ 1594 3097 1305 2825 \nQ 1016 2553 972 2059 \nL 3022 2063 \nz\n\" transform=\"scale(0.015625)\"/>\n       <path id=\"DejaVuSans-70\" d=\"M 1159 525 \nL 1159 -1331 \nL 581 -1331 \nL 581 3500 \nL 1159 3500 \nL 1159 2969 \nQ 1341 3281 1617 3432 \nQ 1894 3584 2278 3584 \nQ 2916 3584 3314 3078 \nQ 3713 2572 3713 1747 \nQ 3713 922 3314 415 \nQ 2916 -91 2278 -91 \nQ 1894 -91 1617 61 \nQ 1341 213 1159 525 \nz\nM 3116 1747 \nQ 3116 2381 2855 2742 \nQ 2594 3103 2138 3103 \nQ 1681 3103 1420 2742 \nQ 1159 2381 1159 1747 \nQ 1159 1113 1420 752 \nQ 1681 391 2138 391 \nQ 2594 391 2855 752 \nQ 3116 1113 3116 1747 \nz\n\" transform=\"scale(0.015625)\"/>\n       <path id=\"DejaVuSans-6f\" d=\"M 1959 3097 \nQ 1497 3097 1228 2736 \nQ 959 2375 959 1747 \nQ 959 1119 1226 758 \nQ 1494 397 1959 397 \nQ 2419 397 2687 759 \nQ 2956 1122 2956 1747 \nQ 2956 2369 2687 2733 \nQ 2419 3097 1959 3097 \nz\nM 1959 3584 \nQ 2709 3584 3137 3096 \nQ 3566 2609 3566 1747 \nQ 3566 888 3137 398 \nQ 2709 -91 1959 -91 \nQ 1206 -91 779 398 \nQ 353 888 353 1747 \nQ 353 2609 779 3096 \nQ 1206 3584 1959 3584 \nz\n\" transform=\"scale(0.015625)\"/>\n       <path id=\"DejaVuSans-63\" d=\"M 3122 3366 \nL 3122 2828 \nQ 2878 2963 2633 3030 \nQ 2388 3097 2138 3097 \nQ 1578 3097 1268 2742 \nQ 959 2388 959 1747 \nQ 959 1106 1268 751 \nQ 1578 397 2138 397 \nQ 2388 397 2633 464 \nQ 2878 531 3122 666 \nL 3122 134 \nQ 2881 22 2623 -34 \nQ 2366 -91 2075 -91 \nQ 1284 -91 818 406 \nQ 353 903 353 1747 \nQ 353 2603 823 3093 \nQ 1294 3584 2113 3584 \nQ 2378 3584 2631 3529 \nQ 2884 3475 3122 3366 \nz\n\" transform=\"scale(0.015625)\"/>\n       <path id=\"DejaVuSans-68\" d=\"M 3513 2113 \nL 3513 0 \nL 2938 0 \nL 2938 2094 \nQ 2938 2591 2744 2837 \nQ 2550 3084 2163 3084 \nQ 1697 3084 1428 2787 \nQ 1159 2491 1159 1978 \nL 1159 0 \nL 581 0 \nL 581 4863 \nL 1159 4863 \nL 1159 2956 \nQ 1366 3272 1645 3428 \nQ 1925 3584 2291 3584 \nQ 2894 3584 3203 3211 \nQ 3513 2838 3513 2113 \nz\n\" transform=\"scale(0.015625)\"/>\n      </defs>\n      <use xlink:href=\"#DejaVuSans-65\"/>\n      <use xlink:href=\"#DejaVuSans-70\" x=\"61.523438\"/>\n      <use xlink:href=\"#DejaVuSans-6f\" x=\"125\"/>\n      <use xlink:href=\"#DejaVuSans-63\" x=\"186.181641\"/>\n      <use xlink:href=\"#DejaVuSans-68\" x=\"241.162109\"/>\n     </g>\n    </g>\n   </g>\n   <g id=\"matplotlib.axis_2\">\n    <g id=\"ytick_1\">\n     <g id=\"line2d_7\">\n      <defs>\n       <path id=\"m77647bdf53\" d=\"M 0 0 \nL -3.5 0 \n\" style=\"stroke: #000000; stroke-width: 0.8\"/>\n      </defs>\n      <g>\n       <use xlink:href=\"#m77647bdf53\" x=\"30.103125\" y=\"120.948976\" style=\"stroke: #000000; stroke-width: 0.8\"/>\n      </g>\n     </g>\n     <g id=\"text_8\">\n      <!-- 0.5 -->\n      <g transform=\"translate(7.2 124.748195) scale(0.1 -0.1)\">\n       <defs>\n        <path id=\"DejaVuSans-2e\" d=\"M 684 794 \nL 1344 794 \nL 1344 0 \nL 684 0 \nL 684 794 \nz\n\" transform=\"scale(0.015625)\"/>\n        <path id=\"DejaVuSans-35\" d=\"M 691 4666 \nL 3169 4666 \nL 3169 4134 \nL 1269 4134 \nL 1269 2991 \nQ 1406 3038 1543 3061 \nQ 1681 3084 1819 3084 \nQ 2600 3084 3056 2656 \nQ 3513 2228 3513 1497 \nQ 3513 744 3044 326 \nQ 2575 -91 1722 -91 \nQ 1428 -91 1123 -41 \nQ 819 9 494 109 \nL 494 744 \nQ 775 591 1075 516 \nQ 1375 441 1709 441 \nQ 2250 441 2565 725 \nQ 2881 1009 2881 1497 \nQ 2881 1984 2565 2268 \nQ 2250 2553 1709 2553 \nQ 1456 2553 1204 2497 \nQ 953 2441 691 2322 \nL 691 4666 \nz\n\" transform=\"scale(0.015625)\"/>\n       </defs>\n       <use xlink:href=\"#DejaVuSans-30\"/>\n       <use xlink:href=\"#DejaVuSans-2e\" x=\"63.623047\"/>\n       <use xlink:href=\"#DejaVuSans-35\" x=\"95.410156\"/>\n      </g>\n     </g>\n    </g>\n    <g id=\"ytick_2\">\n     <g id=\"line2d_8\">\n      <g>\n       <use xlink:href=\"#m77647bdf53\" x=\"30.103125\" y=\"91.135252\" style=\"stroke: #000000; stroke-width: 0.8\"/>\n      </g>\n     </g>\n     <g id=\"text_9\">\n      <!-- 1.0 -->\n      <g transform=\"translate(7.2 94.93447) scale(0.1 -0.1)\">\n       <use xlink:href=\"#DejaVuSans-31\"/>\n       <use xlink:href=\"#DejaVuSans-2e\" x=\"63.623047\"/>\n       <use xlink:href=\"#DejaVuSans-30\" x=\"95.410156\"/>\n      </g>\n     </g>\n    </g>\n    <g id=\"ytick_3\">\n     <g id=\"line2d_9\">\n      <g>\n       <use xlink:href=\"#m77647bdf53\" x=\"30.103125\" y=\"61.321527\" style=\"stroke: #000000; stroke-width: 0.8\"/>\n      </g>\n     </g>\n     <g id=\"text_10\">\n      <!-- 1.5 -->\n      <g transform=\"translate(7.2 65.120746) scale(0.1 -0.1)\">\n       <use xlink:href=\"#DejaVuSans-31\"/>\n       <use xlink:href=\"#DejaVuSans-2e\" x=\"63.623047\"/>\n       <use xlink:href=\"#DejaVuSans-35\" x=\"95.410156\"/>\n      </g>\n     </g>\n    </g>\n    <g id=\"ytick_4\">\n     <g id=\"line2d_10\">\n      <g>\n       <use xlink:href=\"#m77647bdf53\" x=\"30.103125\" y=\"31.507803\" style=\"stroke: #000000; stroke-width: 0.8\"/>\n      </g>\n     </g>\n     <g id=\"text_11\">\n      <!-- 2.0 -->\n      <g transform=\"translate(7.2 35.307022) scale(0.1 -0.1)\">\n       <use xlink:href=\"#DejaVuSans-32\"/>\n       <use xlink:href=\"#DejaVuSans-2e\" x=\"63.623047\"/>\n       <use xlink:href=\"#DejaVuSans-30\" x=\"95.410156\"/>\n      </g>\n     </g>\n    </g>\n   </g>\n   <g id=\"line2d_11\">\n    <path d=\"M 34.954394 13.5 \n\" clip-path=\"url(#p8cea16121e)\" style=\"fill: none; stroke: #1f77b4; stroke-width: 1.5; stroke-linecap: square\"/>\n   </g>\n   <g id=\"line2d_12\">\n    <path d=\"M 34.954394 13.5 \nL 44.698573 13.59856 \n\" clip-path=\"url(#p8cea16121e)\" style=\"fill: none; stroke: #1f77b4; stroke-width: 1.5; stroke-linecap: square\"/>\n   </g>\n   <g id=\"line2d_13\">\n    <path d=\"M 34.954394 13.5 \nL 44.698573 13.59856 \n\" clip-path=\"url(#p8cea16121e)\" style=\"fill: none; stroke: #1f77b4; stroke-width: 1.5; stroke-linecap: square\"/>\n   </g>\n   <g id=\"line2d_14\">\n    <path d=\"M 49.633125 13.719138 \n\" clip-path=\"url(#p8cea16121e)\" style=\"fill: none; stroke-dasharray: 5.55,2.4; stroke-dashoffset: 0; stroke: #ff7f0e; stroke-width: 1.5\"/>\n   </g>\n   <g id=\"line2d_15\"/>\n   <g id=\"line2d_16\">\n    <path d=\"M 34.954394 13.5 \nL 44.698573 13.59856 \n\" clip-path=\"url(#p8cea16121e)\" style=\"fill: none; stroke: #1f77b4; stroke-width: 1.5; stroke-linecap: square\"/>\n   </g>\n   <g id=\"line2d_17\">\n    <path d=\"M 49.633125 13.719138 \n\" clip-path=\"url(#p8cea16121e)\" style=\"fill: none; stroke-dasharray: 5.55,2.4; stroke-dashoffset: 0; stroke: #ff7f0e; stroke-width: 1.5\"/>\n   </g>\n   <g id=\"line2d_18\">\n    <path d=\"M 49.633125 139.5 \n\" clip-path=\"url(#p8cea16121e)\" style=\"fill: none; stroke-dasharray: 9.6,2.4,1.5,2.4; stroke-dashoffset: 0; stroke: #2ca02c; stroke-width: 1.5\"/>\n   </g>\n   <g id=\"line2d_19\">\n    <path d=\"M 34.954394 13.5 \nL 44.698573 13.59856 \nL 54.442752 13.969348 \n\" clip-path=\"url(#p8cea16121e)\" style=\"fill: none; stroke: #1f77b4; stroke-width: 1.5; stroke-linecap: square\"/>\n   </g>\n   <g id=\"line2d_20\">\n    <path d=\"M 49.633125 13.719138 \n\" clip-path=\"url(#p8cea16121e)\" style=\"fill: none; stroke-dasharray: 5.55,2.4; stroke-dashoffset: 0; stroke: #ff7f0e; stroke-width: 1.5\"/>\n   </g>\n   <g id=\"line2d_21\">\n    <path d=\"M 49.633125 139.5 \n\" clip-path=\"url(#p8cea16121e)\" style=\"fill: none; stroke-dasharray: 9.6,2.4,1.5,2.4; stroke-dashoffset: 0; stroke: #2ca02c; stroke-width: 1.5\"/>\n   </g>\n   <g id=\"line2d_22\">\n    <path d=\"M 34.954394 13.5 \nL 44.698573 13.59856 \nL 54.442752 13.969348 \nL 64.186931 48.215407 \n\" clip-path=\"url(#p8cea16121e)\" style=\"fill: none; stroke: #1f77b4; stroke-width: 1.5; stroke-linecap: square\"/>\n   </g>\n   <g id=\"line2d_23\">\n    <path d=\"M 49.633125 13.719138 \n\" clip-path=\"url(#p8cea16121e)\" style=\"fill: none; stroke-dasharray: 5.55,2.4; stroke-dashoffset: 0; stroke: #ff7f0e; stroke-width: 1.5\"/>\n   </g>\n   <g id=\"line2d_24\">\n    <path d=\"M 49.633125 139.5 \n\" clip-path=\"url(#p8cea16121e)\" style=\"fill: none; stroke-dasharray: 9.6,2.4,1.5,2.4; stroke-dashoffset: 0; stroke: #2ca02c; stroke-width: 1.5\"/>\n   </g>\n   <g id=\"line2d_25\">\n    <path d=\"M 34.954394 13.5 \nL 44.698573 13.59856 \nL 54.442752 13.969348 \nL 64.186931 48.215407 \n\" clip-path=\"url(#p8cea16121e)\" style=\"fill: none; stroke: #1f77b4; stroke-width: 1.5; stroke-linecap: square\"/>\n   </g>\n   <g id=\"line2d_26\">\n    <path d=\"M 49.633125 13.719138 \nL 69.163125 84.628296 \n\" clip-path=\"url(#p8cea16121e)\" style=\"fill: none; stroke-dasharray: 5.55,2.4; stroke-dashoffset: 0; stroke: #ff7f0e; stroke-width: 1.5\"/>\n   </g>\n   <g id=\"line2d_27\">\n    <path d=\"M 49.633125 139.5 \n\" clip-path=\"url(#p8cea16121e)\" style=\"fill: none; stroke-dasharray: 9.6,2.4,1.5,2.4; stroke-dashoffset: 0; stroke: #2ca02c; stroke-width: 1.5\"/>\n   </g>\n   <g id=\"line2d_28\">\n    <path d=\"M 34.954394 13.5 \nL 44.698573 13.59856 \nL 54.442752 13.969348 \nL 64.186931 48.215407 \n\" clip-path=\"url(#p8cea16121e)\" style=\"fill: none; stroke: #1f77b4; stroke-width: 1.5; stroke-linecap: square\"/>\n   </g>\n   <g id=\"line2d_29\">\n    <path d=\"M 49.633125 13.719138 \nL 69.163125 84.628296 \n\" clip-path=\"url(#p8cea16121e)\" style=\"fill: none; stroke-dasharray: 5.55,2.4; stroke-dashoffset: 0; stroke: #ff7f0e; stroke-width: 1.5\"/>\n   </g>\n   <g id=\"line2d_30\">\n    <path d=\"M 49.633125 139.5 \nL 69.163125 118.720023 \n\" clip-path=\"url(#p8cea16121e)\" style=\"fill: none; stroke-dasharray: 9.6,2.4,1.5,2.4; stroke-dashoffset: 0; stroke: #2ca02c; stroke-width: 1.5\"/>\n   </g>\n   <g id=\"line2d_31\">\n    <path d=\"M 34.954394 13.5 \nL 44.698573 13.59856 \nL 54.442752 13.969348 \nL 64.186931 48.215407 \nL 73.93111 88.230717 \n\" clip-path=\"url(#p8cea16121e)\" style=\"fill: none; stroke: #1f77b4; stroke-width: 1.5; stroke-linecap: square\"/>\n   </g>\n   <g id=\"line2d_32\">\n    <path d=\"M 49.633125 13.719138 \nL 69.163125 84.628296 \n\" clip-path=\"url(#p8cea16121e)\" style=\"fill: none; stroke-dasharray: 5.55,2.4; stroke-dashoffset: 0; stroke: #ff7f0e; stroke-width: 1.5\"/>\n   </g>\n   <g id=\"line2d_33\">\n    <path d=\"M 49.633125 139.5 \nL 69.163125 118.720023 \n\" clip-path=\"url(#p8cea16121e)\" style=\"fill: none; stroke-dasharray: 9.6,2.4,1.5,2.4; stroke-dashoffset: 0; stroke: #2ca02c; stroke-width: 1.5\"/>\n   </g>\n   <g id=\"line2d_34\">\n    <path d=\"M 34.954394 13.5 \nL 44.698573 13.59856 \nL 54.442752 13.969348 \nL 64.186931 48.215407 \nL 73.93111 88.230717 \nL 83.675289 95.828439 \n\" clip-path=\"url(#p8cea16121e)\" style=\"fill: none; stroke: #1f77b4; stroke-width: 1.5; stroke-linecap: square\"/>\n   </g>\n   <g id=\"line2d_35\">\n    <path d=\"M 49.633125 13.719138 \nL 69.163125 84.628296 \n\" clip-path=\"url(#p8cea16121e)\" style=\"fill: none; stroke-dasharray: 5.55,2.4; stroke-dashoffset: 0; stroke: #ff7f0e; stroke-width: 1.5\"/>\n   </g>\n   <g id=\"line2d_36\">\n    <path d=\"M 49.633125 139.5 \nL 69.163125 118.720023 \n\" clip-path=\"url(#p8cea16121e)\" style=\"fill: none; stroke-dasharray: 9.6,2.4,1.5,2.4; stroke-dashoffset: 0; stroke: #2ca02c; stroke-width: 1.5\"/>\n   </g>\n   <g id=\"line2d_37\">\n    <path d=\"M 34.954394 13.5 \nL 44.698573 13.59856 \nL 54.442752 13.969348 \nL 64.186931 48.215407 \nL 73.93111 88.230717 \nL 83.675289 95.828439 \n\" clip-path=\"url(#p8cea16121e)\" style=\"fill: none; stroke: #1f77b4; stroke-width: 1.5; stroke-linecap: square\"/>\n   </g>\n   <g id=\"line2d_38\">\n    <path d=\"M 49.633125 13.719138 \nL 69.163125 84.628296 \nL 88.693125 99.42202 \n\" clip-path=\"url(#p8cea16121e)\" style=\"fill: none; stroke-dasharray: 5.55,2.4; stroke-dashoffset: 0; stroke: #ff7f0e; stroke-width: 1.5\"/>\n   </g>\n   <g id=\"line2d_39\">\n    <path d=\"M 49.633125 139.5 \nL 69.163125 118.720023 \n\" clip-path=\"url(#p8cea16121e)\" style=\"fill: none; stroke-dasharray: 9.6,2.4,1.5,2.4; stroke-dashoffset: 0; stroke: #2ca02c; stroke-width: 1.5\"/>\n   </g>\n   <g id=\"line2d_40\">\n    <path d=\"M 34.954394 13.5 \nL 44.698573 13.59856 \nL 54.442752 13.969348 \nL 64.186931 48.215407 \nL 73.93111 88.230717 \nL 83.675289 95.828439 \n\" clip-path=\"url(#p8cea16121e)\" style=\"fill: none; stroke: #1f77b4; stroke-width: 1.5; stroke-linecap: square\"/>\n   </g>\n   <g id=\"line2d_41\">\n    <path d=\"M 49.633125 13.719138 \nL 69.163125 84.628296 \nL 88.693125 99.42202 \n\" clip-path=\"url(#p8cea16121e)\" style=\"fill: none; stroke-dasharray: 5.55,2.4; stroke-dashoffset: 0; stroke: #ff7f0e; stroke-width: 1.5\"/>\n   </g>\n   <g id=\"line2d_42\">\n    <path d=\"M 49.633125 139.5 \nL 69.163125 118.720023 \nL 88.693125 110.806649 \n\" clip-path=\"url(#p8cea16121e)\" style=\"fill: none; stroke-dasharray: 9.6,2.4,1.5,2.4; stroke-dashoffset: 0; stroke: #2ca02c; stroke-width: 1.5\"/>\n   </g>\n   <g id=\"line2d_43\">\n    <path d=\"M 34.954394 13.5 \nL 44.698573 13.59856 \nL 54.442752 13.969348 \nL 64.186931 48.215407 \nL 73.93111 88.230717 \nL 83.675289 95.828439 \nL 93.419468 101.086645 \n\" clip-path=\"url(#p8cea16121e)\" style=\"fill: none; stroke: #1f77b4; stroke-width: 1.5; stroke-linecap: square\"/>\n   </g>\n   <g id=\"line2d_44\">\n    <path d=\"M 49.633125 13.719138 \nL 69.163125 84.628296 \nL 88.693125 99.42202 \n\" clip-path=\"url(#p8cea16121e)\" style=\"fill: none; stroke-dasharray: 5.55,2.4; stroke-dashoffset: 0; stroke: #ff7f0e; stroke-width: 1.5\"/>\n   </g>\n   <g id=\"line2d_45\">\n    <path d=\"M 49.633125 139.5 \nL 69.163125 118.720023 \nL 88.693125 110.806649 \n\" clip-path=\"url(#p8cea16121e)\" style=\"fill: none; stroke-dasharray: 9.6,2.4,1.5,2.4; stroke-dashoffset: 0; stroke: #2ca02c; stroke-width: 1.5\"/>\n   </g>\n   <g id=\"line2d_46\">\n    <path d=\"M 34.954394 13.5 \nL 44.698573 13.59856 \nL 54.442752 13.969348 \nL 64.186931 48.215407 \nL 73.93111 88.230717 \nL 83.675289 95.828439 \nL 93.419468 101.086645 \nL 103.163647 103.972166 \n\" clip-path=\"url(#p8cea16121e)\" style=\"fill: none; stroke: #1f77b4; stroke-width: 1.5; stroke-linecap: square\"/>\n   </g>\n   <g id=\"line2d_47\">\n    <path d=\"M 49.633125 13.719138 \nL 69.163125 84.628296 \nL 88.693125 99.42202 \n\" clip-path=\"url(#p8cea16121e)\" style=\"fill: none; stroke-dasharray: 5.55,2.4; stroke-dashoffset: 0; stroke: #ff7f0e; stroke-width: 1.5\"/>\n   </g>\n   <g id=\"line2d_48\">\n    <path d=\"M 49.633125 139.5 \nL 69.163125 118.720023 \nL 88.693125 110.806649 \n\" clip-path=\"url(#p8cea16121e)\" style=\"fill: none; stroke-dasharray: 9.6,2.4,1.5,2.4; stroke-dashoffset: 0; stroke: #2ca02c; stroke-width: 1.5\"/>\n   </g>\n   <g id=\"line2d_49\">\n    <path d=\"M 34.954394 13.5 \nL 44.698573 13.59856 \nL 54.442752 13.969348 \nL 64.186931 48.215407 \nL 73.93111 88.230717 \nL 83.675289 95.828439 \nL 93.419468 101.086645 \nL 103.163647 103.972166 \n\" clip-path=\"url(#p8cea16121e)\" style=\"fill: none; stroke: #1f77b4; stroke-width: 1.5; stroke-linecap: square\"/>\n   </g>\n   <g id=\"line2d_50\">\n    <path d=\"M 49.633125 13.719138 \nL 69.163125 84.628296 \nL 88.693125 99.42202 \nL 108.223125 104.415427 \n\" clip-path=\"url(#p8cea16121e)\" style=\"fill: none; stroke-dasharray: 5.55,2.4; stroke-dashoffset: 0; stroke: #ff7f0e; stroke-width: 1.5\"/>\n   </g>\n   <g id=\"line2d_51\">\n    <path d=\"M 49.633125 139.5 \nL 69.163125 118.720023 \nL 88.693125 110.806649 \n\" clip-path=\"url(#p8cea16121e)\" style=\"fill: none; stroke-dasharray: 9.6,2.4,1.5,2.4; stroke-dashoffset: 0; stroke: #2ca02c; stroke-width: 1.5\"/>\n   </g>\n   <g id=\"line2d_52\">\n    <path d=\"M 34.954394 13.5 \nL 44.698573 13.59856 \nL 54.442752 13.969348 \nL 64.186931 48.215407 \nL 73.93111 88.230717 \nL 83.675289 95.828439 \nL 93.419468 101.086645 \nL 103.163647 103.972166 \n\" clip-path=\"url(#p8cea16121e)\" style=\"fill: none; stroke: #1f77b4; stroke-width: 1.5; stroke-linecap: square\"/>\n   </g>\n   <g id=\"line2d_53\">\n    <path d=\"M 49.633125 13.719138 \nL 69.163125 84.628296 \nL 88.693125 99.42202 \nL 108.223125 104.415427 \n\" clip-path=\"url(#p8cea16121e)\" style=\"fill: none; stroke-dasharray: 5.55,2.4; stroke-dashoffset: 0; stroke: #ff7f0e; stroke-width: 1.5\"/>\n   </g>\n   <g id=\"line2d_54\">\n    <path d=\"M 49.633125 139.5 \nL 69.163125 118.720023 \nL 88.693125 110.806649 \nL 108.223125 108.866634 \n\" clip-path=\"url(#p8cea16121e)\" style=\"fill: none; stroke-dasharray: 9.6,2.4,1.5,2.4; stroke-dashoffset: 0; stroke: #2ca02c; stroke-width: 1.5\"/>\n   </g>\n   <g id=\"line2d_55\">\n    <path d=\"M 34.954394 13.5 \nL 44.698573 13.59856 \nL 54.442752 13.969348 \nL 64.186931 48.215407 \nL 73.93111 88.230717 \nL 83.675289 95.828439 \nL 93.419468 101.086645 \nL 103.163647 103.972166 \nL 112.907826 107.233668 \n\" clip-path=\"url(#p8cea16121e)\" style=\"fill: none; stroke: #1f77b4; stroke-width: 1.5; stroke-linecap: square\"/>\n   </g>\n   <g id=\"line2d_56\">\n    <path d=\"M 49.633125 13.719138 \nL 69.163125 84.628296 \nL 88.693125 99.42202 \nL 108.223125 104.415427 \n\" clip-path=\"url(#p8cea16121e)\" style=\"fill: none; stroke-dasharray: 5.55,2.4; stroke-dashoffset: 0; stroke: #ff7f0e; stroke-width: 1.5\"/>\n   </g>\n   <g id=\"line2d_57\">\n    <path d=\"M 49.633125 139.5 \nL 69.163125 118.720023 \nL 88.693125 110.806649 \nL 108.223125 108.866634 \n\" clip-path=\"url(#p8cea16121e)\" style=\"fill: none; stroke-dasharray: 9.6,2.4,1.5,2.4; stroke-dashoffset: 0; stroke: #2ca02c; stroke-width: 1.5\"/>\n   </g>\n   <g id=\"line2d_58\">\n    <path d=\"M 34.954394 13.5 \nL 44.698573 13.59856 \nL 54.442752 13.969348 \nL 64.186931 48.215407 \nL 73.93111 88.230717 \nL 83.675289 95.828439 \nL 93.419468 101.086645 \nL 103.163647 103.972166 \nL 112.907826 107.233668 \nL 122.652006 110.289373 \n\" clip-path=\"url(#p8cea16121e)\" style=\"fill: none; stroke: #1f77b4; stroke-width: 1.5; stroke-linecap: square\"/>\n   </g>\n   <g id=\"line2d_59\">\n    <path d=\"M 49.633125 13.719138 \nL 69.163125 84.628296 \nL 88.693125 99.42202 \nL 108.223125 104.415427 \n\" clip-path=\"url(#p8cea16121e)\" style=\"fill: none; stroke-dasharray: 5.55,2.4; stroke-dashoffset: 0; stroke: #ff7f0e; stroke-width: 1.5\"/>\n   </g>\n   <g id=\"line2d_60\">\n    <path d=\"M 49.633125 139.5 \nL 69.163125 118.720023 \nL 88.693125 110.806649 \nL 108.223125 108.866634 \n\" clip-path=\"url(#p8cea16121e)\" style=\"fill: none; stroke-dasharray: 9.6,2.4,1.5,2.4; stroke-dashoffset: 0; stroke: #2ca02c; stroke-width: 1.5\"/>\n   </g>\n   <g id=\"line2d_61\">\n    <path d=\"M 34.954394 13.5 \nL 44.698573 13.59856 \nL 54.442752 13.969348 \nL 64.186931 48.215407 \nL 73.93111 88.230717 \nL 83.675289 95.828439 \nL 93.419468 101.086645 \nL 103.163647 103.972166 \nL 112.907826 107.233668 \nL 122.652006 110.289373 \n\" clip-path=\"url(#p8cea16121e)\" style=\"fill: none; stroke: #1f77b4; stroke-width: 1.5; stroke-linecap: square\"/>\n   </g>\n   <g id=\"line2d_62\">\n    <path d=\"M 49.633125 13.719138 \nL 69.163125 84.628296 \nL 88.693125 99.42202 \nL 108.223125 104.415427 \nL 127.753125 112.032766 \n\" clip-path=\"url(#p8cea16121e)\" style=\"fill: none; stroke-dasharray: 5.55,2.4; stroke-dashoffset: 0; stroke: #ff7f0e; stroke-width: 1.5\"/>\n   </g>\n   <g id=\"line2d_63\">\n    <path d=\"M 49.633125 139.5 \nL 69.163125 118.720023 \nL 88.693125 110.806649 \nL 108.223125 108.866634 \n\" clip-path=\"url(#p8cea16121e)\" style=\"fill: none; stroke-dasharray: 9.6,2.4,1.5,2.4; stroke-dashoffset: 0; stroke: #2ca02c; stroke-width: 1.5\"/>\n   </g>\n   <g id=\"line2d_64\">\n    <path d=\"M 34.954394 13.5 \nL 44.698573 13.59856 \nL 54.442752 13.969348 \nL 64.186931 48.215407 \nL 73.93111 88.230717 \nL 83.675289 95.828439 \nL 93.419468 101.086645 \nL 103.163647 103.972166 \nL 112.907826 107.233668 \nL 122.652006 110.289373 \n\" clip-path=\"url(#p8cea16121e)\" style=\"fill: none; stroke: #1f77b4; stroke-width: 1.5; stroke-linecap: square\"/>\n   </g>\n   <g id=\"line2d_65\">\n    <path d=\"M 49.633125 13.719138 \nL 69.163125 84.628296 \nL 88.693125 99.42202 \nL 108.223125 104.415427 \nL 127.753125 112.032766 \n\" clip-path=\"url(#p8cea16121e)\" style=\"fill: none; stroke-dasharray: 5.55,2.4; stroke-dashoffset: 0; stroke: #ff7f0e; stroke-width: 1.5\"/>\n   </g>\n   <g id=\"line2d_66\">\n    <path d=\"M 49.633125 139.5 \nL 69.163125 118.720023 \nL 88.693125 110.806649 \nL 108.223125 108.866634 \nL 127.753125 105.658828 \n\" clip-path=\"url(#p8cea16121e)\" style=\"fill: none; stroke-dasharray: 9.6,2.4,1.5,2.4; stroke-dashoffset: 0; stroke: #2ca02c; stroke-width: 1.5\"/>\n   </g>\n   <g id=\"line2d_67\">\n    <path d=\"M 34.954394 13.5 \nL 44.698573 13.59856 \nL 54.442752 13.969348 \nL 64.186931 48.215407 \nL 73.93111 88.230717 \nL 83.675289 95.828439 \nL 93.419468 101.086645 \nL 103.163647 103.972166 \nL 112.907826 107.233668 \nL 122.652006 110.289373 \nL 132.396185 112.651639 \n\" clip-path=\"url(#p8cea16121e)\" style=\"fill: none; stroke: #1f77b4; stroke-width: 1.5; stroke-linecap: square\"/>\n   </g>\n   <g id=\"line2d_68\">\n    <path d=\"M 49.633125 13.719138 \nL 69.163125 84.628296 \nL 88.693125 99.42202 \nL 108.223125 104.415427 \nL 127.753125 112.032766 \n\" clip-path=\"url(#p8cea16121e)\" style=\"fill: none; stroke-dasharray: 5.55,2.4; stroke-dashoffset: 0; stroke: #ff7f0e; stroke-width: 1.5\"/>\n   </g>\n   <g id=\"line2d_69\">\n    <path d=\"M 49.633125 139.5 \nL 69.163125 118.720023 \nL 88.693125 110.806649 \nL 108.223125 108.866634 \nL 127.753125 105.658828 \n\" clip-path=\"url(#p8cea16121e)\" style=\"fill: none; stroke-dasharray: 9.6,2.4,1.5,2.4; stroke-dashoffset: 0; stroke: #2ca02c; stroke-width: 1.5\"/>\n   </g>\n   <g id=\"line2d_70\">\n    <path d=\"M 34.954394 13.5 \nL 44.698573 13.59856 \nL 54.442752 13.969348 \nL 64.186931 48.215407 \nL 73.93111 88.230717 \nL 83.675289 95.828439 \nL 93.419468 101.086645 \nL 103.163647 103.972166 \nL 112.907826 107.233668 \nL 122.652006 110.289373 \nL 132.396185 112.651639 \nL 142.140364 115.059113 \n\" clip-path=\"url(#p8cea16121e)\" style=\"fill: none; stroke: #1f77b4; stroke-width: 1.5; stroke-linecap: square\"/>\n   </g>\n   <g id=\"line2d_71\">\n    <path d=\"M 49.633125 13.719138 \nL 69.163125 84.628296 \nL 88.693125 99.42202 \nL 108.223125 104.415427 \nL 127.753125 112.032766 \n\" clip-path=\"url(#p8cea16121e)\" style=\"fill: none; stroke-dasharray: 5.55,2.4; stroke-dashoffset: 0; stroke: #ff7f0e; stroke-width: 1.5\"/>\n   </g>\n   <g id=\"line2d_72\">\n    <path d=\"M 49.633125 139.5 \nL 69.163125 118.720023 \nL 88.693125 110.806649 \nL 108.223125 108.866634 \nL 127.753125 105.658828 \n\" clip-path=\"url(#p8cea16121e)\" style=\"fill: none; stroke-dasharray: 9.6,2.4,1.5,2.4; stroke-dashoffset: 0; stroke: #2ca02c; stroke-width: 1.5\"/>\n   </g>\n   <g id=\"line2d_73\">\n    <path d=\"M 34.954394 13.5 \nL 44.698573 13.59856 \nL 54.442752 13.969348 \nL 64.186931 48.215407 \nL 73.93111 88.230717 \nL 83.675289 95.828439 \nL 93.419468 101.086645 \nL 103.163647 103.972166 \nL 112.907826 107.233668 \nL 122.652006 110.289373 \nL 132.396185 112.651639 \nL 142.140364 115.059113 \n\" clip-path=\"url(#p8cea16121e)\" style=\"fill: none; stroke: #1f77b4; stroke-width: 1.5; stroke-linecap: square\"/>\n   </g>\n   <g id=\"line2d_74\">\n    <path d=\"M 49.633125 13.719138 \nL 69.163125 84.628296 \nL 88.693125 99.42202 \nL 108.223125 104.415427 \nL 127.753125 112.032766 \nL 147.283125 115.330786 \n\" clip-path=\"url(#p8cea16121e)\" style=\"fill: none; stroke-dasharray: 5.55,2.4; stroke-dashoffset: 0; stroke: #ff7f0e; stroke-width: 1.5\"/>\n   </g>\n   <g id=\"line2d_75\">\n    <path d=\"M 49.633125 139.5 \nL 69.163125 118.720023 \nL 88.693125 110.806649 \nL 108.223125 108.866634 \nL 127.753125 105.658828 \n\" clip-path=\"url(#p8cea16121e)\" style=\"fill: none; stroke-dasharray: 9.6,2.4,1.5,2.4; stroke-dashoffset: 0; stroke: #2ca02c; stroke-width: 1.5\"/>\n   </g>\n   <g id=\"line2d_76\">\n    <path d=\"M 34.954394 13.5 \nL 44.698573 13.59856 \nL 54.442752 13.969348 \nL 64.186931 48.215407 \nL 73.93111 88.230717 \nL 83.675289 95.828439 \nL 93.419468 101.086645 \nL 103.163647 103.972166 \nL 112.907826 107.233668 \nL 122.652006 110.289373 \nL 132.396185 112.651639 \nL 142.140364 115.059113 \n\" clip-path=\"url(#p8cea16121e)\" style=\"fill: none; stroke: #1f77b4; stroke-width: 1.5; stroke-linecap: square\"/>\n   </g>\n   <g id=\"line2d_77\">\n    <path d=\"M 49.633125 13.719138 \nL 69.163125 84.628296 \nL 88.693125 99.42202 \nL 108.223125 104.415427 \nL 127.753125 112.032766 \nL 147.283125 115.330786 \n\" clip-path=\"url(#p8cea16121e)\" style=\"fill: none; stroke-dasharray: 5.55,2.4; stroke-dashoffset: 0; stroke: #ff7f0e; stroke-width: 1.5\"/>\n   </g>\n   <g id=\"line2d_78\">\n    <path d=\"M 49.633125 139.5 \nL 69.163125 118.720023 \nL 88.693125 110.806649 \nL 108.223125 108.866634 \nL 127.753125 105.658828 \nL 147.283125 104.279 \n\" clip-path=\"url(#p8cea16121e)\" style=\"fill: none; stroke-dasharray: 9.6,2.4,1.5,2.4; stroke-dashoffset: 0; stroke: #2ca02c; stroke-width: 1.5\"/>\n   </g>\n   <g id=\"line2d_79\">\n    <path d=\"M 34.954394 13.5 \nL 44.698573 13.59856 \nL 54.442752 13.969348 \nL 64.186931 48.215407 \nL 73.93111 88.230717 \nL 83.675289 95.828439 \nL 93.419468 101.086645 \nL 103.163647 103.972166 \nL 112.907826 107.233668 \nL 122.652006 110.289373 \nL 132.396185 112.651639 \nL 142.140364 115.059113 \nL 151.884543 116.909043 \n\" clip-path=\"url(#p8cea16121e)\" style=\"fill: none; stroke: #1f77b4; stroke-width: 1.5; stroke-linecap: square\"/>\n   </g>\n   <g id=\"line2d_80\">\n    <path d=\"M 49.633125 13.719138 \nL 69.163125 84.628296 \nL 88.693125 99.42202 \nL 108.223125 104.415427 \nL 127.753125 112.032766 \nL 147.283125 115.330786 \n\" clip-path=\"url(#p8cea16121e)\" style=\"fill: none; stroke-dasharray: 5.55,2.4; stroke-dashoffset: 0; stroke: #ff7f0e; stroke-width: 1.5\"/>\n   </g>\n   <g id=\"line2d_81\">\n    <path d=\"M 49.633125 139.5 \nL 69.163125 118.720023 \nL 88.693125 110.806649 \nL 108.223125 108.866634 \nL 127.753125 105.658828 \nL 147.283125 104.279 \n\" clip-path=\"url(#p8cea16121e)\" style=\"fill: none; stroke-dasharray: 9.6,2.4,1.5,2.4; stroke-dashoffset: 0; stroke: #2ca02c; stroke-width: 1.5\"/>\n   </g>\n   <g id=\"line2d_82\">\n    <path d=\"M 34.954394 13.5 \nL 44.698573 13.59856 \nL 54.442752 13.969348 \nL 64.186931 48.215407 \nL 73.93111 88.230717 \nL 83.675289 95.828439 \nL 93.419468 101.086645 \nL 103.163647 103.972166 \nL 112.907826 107.233668 \nL 122.652006 110.289373 \nL 132.396185 112.651639 \nL 142.140364 115.059113 \nL 151.884543 116.909043 \nL 161.628722 118.029437 \n\" clip-path=\"url(#p8cea16121e)\" style=\"fill: none; stroke: #1f77b4; stroke-width: 1.5; stroke-linecap: square\"/>\n   </g>\n   <g id=\"line2d_83\">\n    <path d=\"M 49.633125 13.719138 \nL 69.163125 84.628296 \nL 88.693125 99.42202 \nL 108.223125 104.415427 \nL 127.753125 112.032766 \nL 147.283125 115.330786 \n\" clip-path=\"url(#p8cea16121e)\" style=\"fill: none; stroke-dasharray: 5.55,2.4; stroke-dashoffset: 0; stroke: #ff7f0e; stroke-width: 1.5\"/>\n   </g>\n   <g id=\"line2d_84\">\n    <path d=\"M 49.633125 139.5 \nL 69.163125 118.720023 \nL 88.693125 110.806649 \nL 108.223125 108.866634 \nL 127.753125 105.658828 \nL 147.283125 104.279 \n\" clip-path=\"url(#p8cea16121e)\" style=\"fill: none; stroke-dasharray: 9.6,2.4,1.5,2.4; stroke-dashoffset: 0; stroke: #2ca02c; stroke-width: 1.5\"/>\n   </g>\n   <g id=\"line2d_85\">\n    <path d=\"M 34.954394 13.5 \nL 44.698573 13.59856 \nL 54.442752 13.969348 \nL 64.186931 48.215407 \nL 73.93111 88.230717 \nL 83.675289 95.828439 \nL 93.419468 101.086645 \nL 103.163647 103.972166 \nL 112.907826 107.233668 \nL 122.652006 110.289373 \nL 132.396185 112.651639 \nL 142.140364 115.059113 \nL 151.884543 116.909043 \nL 161.628722 118.029437 \n\" clip-path=\"url(#p8cea16121e)\" style=\"fill: none; stroke: #1f77b4; stroke-width: 1.5; stroke-linecap: square\"/>\n   </g>\n   <g id=\"line2d_86\">\n    <path d=\"M 49.633125 13.719138 \nL 69.163125 84.628296 \nL 88.693125 99.42202 \nL 108.223125 104.415427 \nL 127.753125 112.032766 \nL 147.283125 115.330786 \nL 166.813125 119.689623 \n\" clip-path=\"url(#p8cea16121e)\" style=\"fill: none; stroke-dasharray: 5.55,2.4; stroke-dashoffset: 0; stroke: #ff7f0e; stroke-width: 1.5\"/>\n   </g>\n   <g id=\"line2d_87\">\n    <path d=\"M 49.633125 139.5 \nL 69.163125 118.720023 \nL 88.693125 110.806649 \nL 108.223125 108.866634 \nL 127.753125 105.658828 \nL 147.283125 104.279 \n\" clip-path=\"url(#p8cea16121e)\" style=\"fill: none; stroke-dasharray: 9.6,2.4,1.5,2.4; stroke-dashoffset: 0; stroke: #2ca02c; stroke-width: 1.5\"/>\n   </g>\n   <g id=\"line2d_88\">\n    <path d=\"M 34.954394 13.5 \nL 44.698573 13.59856 \nL 54.442752 13.969348 \nL 64.186931 48.215407 \nL 73.93111 88.230717 \nL 83.675289 95.828439 \nL 93.419468 101.086645 \nL 103.163647 103.972166 \nL 112.907826 107.233668 \nL 122.652006 110.289373 \nL 132.396185 112.651639 \nL 142.140364 115.059113 \nL 151.884543 116.909043 \nL 161.628722 118.029437 \n\" clip-path=\"url(#p8cea16121e)\" style=\"fill: none; stroke: #1f77b4; stroke-width: 1.5; stroke-linecap: square\"/>\n   </g>\n   <g id=\"line2d_89\">\n    <path d=\"M 49.633125 13.719138 \nL 69.163125 84.628296 \nL 88.693125 99.42202 \nL 108.223125 104.415427 \nL 127.753125 112.032766 \nL 147.283125 115.330786 \nL 166.813125 119.689623 \n\" clip-path=\"url(#p8cea16121e)\" style=\"fill: none; stroke-dasharray: 5.55,2.4; stroke-dashoffset: 0; stroke: #ff7f0e; stroke-width: 1.5\"/>\n   </g>\n   <g id=\"line2d_90\">\n    <path d=\"M 49.633125 139.5 \nL 69.163125 118.720023 \nL 88.693125 110.806649 \nL 108.223125 108.866634 \nL 127.753125 105.658828 \nL 147.283125 104.279 \nL 166.813125 102.816618 \n\" clip-path=\"url(#p8cea16121e)\" style=\"fill: none; stroke-dasharray: 9.6,2.4,1.5,2.4; stroke-dashoffset: 0; stroke: #2ca02c; stroke-width: 1.5\"/>\n   </g>\n   <g id=\"line2d_91\">\n    <path d=\"M 34.954394 13.5 \nL 44.698573 13.59856 \nL 54.442752 13.969348 \nL 64.186931 48.215407 \nL 73.93111 88.230717 \nL 83.675289 95.828439 \nL 93.419468 101.086645 \nL 103.163647 103.972166 \nL 112.907826 107.233668 \nL 122.652006 110.289373 \nL 132.396185 112.651639 \nL 142.140364 115.059113 \nL 151.884543 116.909043 \nL 161.628722 118.029437 \nL 171.372901 119.670673 \n\" clip-path=\"url(#p8cea16121e)\" style=\"fill: none; stroke: #1f77b4; stroke-width: 1.5; stroke-linecap: square\"/>\n   </g>\n   <g id=\"line2d_92\">\n    <path d=\"M 49.633125 13.719138 \nL 69.163125 84.628296 \nL 88.693125 99.42202 \nL 108.223125 104.415427 \nL 127.753125 112.032766 \nL 147.283125 115.330786 \nL 166.813125 119.689623 \n\" clip-path=\"url(#p8cea16121e)\" style=\"fill: none; stroke-dasharray: 5.55,2.4; stroke-dashoffset: 0; stroke: #ff7f0e; stroke-width: 1.5\"/>\n   </g>\n   <g id=\"line2d_93\">\n    <path d=\"M 49.633125 139.5 \nL 69.163125 118.720023 \nL 88.693125 110.806649 \nL 108.223125 108.866634 \nL 127.753125 105.658828 \nL 147.283125 104.279 \nL 166.813125 102.816618 \n\" clip-path=\"url(#p8cea16121e)\" style=\"fill: none; stroke-dasharray: 9.6,2.4,1.5,2.4; stroke-dashoffset: 0; stroke: #2ca02c; stroke-width: 1.5\"/>\n   </g>\n   <g id=\"line2d_94\">\n    <path d=\"M 34.954394 13.5 \nL 44.698573 13.59856 \nL 54.442752 13.969348 \nL 64.186931 48.215407 \nL 73.93111 88.230717 \nL 83.675289 95.828439 \nL 93.419468 101.086645 \nL 103.163647 103.972166 \nL 112.907826 107.233668 \nL 122.652006 110.289373 \nL 132.396185 112.651639 \nL 142.140364 115.059113 \nL 151.884543 116.909043 \nL 161.628722 118.029437 \nL 171.372901 119.670673 \nL 181.11708 120.647486 \n\" clip-path=\"url(#p8cea16121e)\" style=\"fill: none; stroke: #1f77b4; stroke-width: 1.5; stroke-linecap: square\"/>\n   </g>\n   <g id=\"line2d_95\">\n    <path d=\"M 49.633125 13.719138 \nL 69.163125 84.628296 \nL 88.693125 99.42202 \nL 108.223125 104.415427 \nL 127.753125 112.032766 \nL 147.283125 115.330786 \nL 166.813125 119.689623 \n\" clip-path=\"url(#p8cea16121e)\" style=\"fill: none; stroke-dasharray: 5.55,2.4; stroke-dashoffset: 0; stroke: #ff7f0e; stroke-width: 1.5\"/>\n   </g>\n   <g id=\"line2d_96\">\n    <path d=\"M 49.633125 139.5 \nL 69.163125 118.720023 \nL 88.693125 110.806649 \nL 108.223125 108.866634 \nL 127.753125 105.658828 \nL 147.283125 104.279 \nL 166.813125 102.816618 \n\" clip-path=\"url(#p8cea16121e)\" style=\"fill: none; stroke-dasharray: 9.6,2.4,1.5,2.4; stroke-dashoffset: 0; stroke: #2ca02c; stroke-width: 1.5\"/>\n   </g>\n   <g id=\"line2d_97\">\n    <path d=\"M 34.954394 13.5 \nL 44.698573 13.59856 \nL 54.442752 13.969348 \nL 64.186931 48.215407 \nL 73.93111 88.230717 \nL 83.675289 95.828439 \nL 93.419468 101.086645 \nL 103.163647 103.972166 \nL 112.907826 107.233668 \nL 122.652006 110.289373 \nL 132.396185 112.651639 \nL 142.140364 115.059113 \nL 151.884543 116.909043 \nL 161.628722 118.029437 \nL 171.372901 119.670673 \nL 181.11708 120.647486 \n\" clip-path=\"url(#p8cea16121e)\" style=\"fill: none; stroke: #1f77b4; stroke-width: 1.5; stroke-linecap: square\"/>\n   </g>\n   <g id=\"line2d_98\">\n    <path d=\"M 49.633125 13.719138 \nL 69.163125 84.628296 \nL 88.693125 99.42202 \nL 108.223125 104.415427 \nL 127.753125 112.032766 \nL 147.283125 115.330786 \nL 166.813125 119.689623 \nL 186.343125 119.596487 \n\" clip-path=\"url(#p8cea16121e)\" style=\"fill: none; stroke-dasharray: 5.55,2.4; stroke-dashoffset: 0; stroke: #ff7f0e; stroke-width: 1.5\"/>\n   </g>\n   <g id=\"line2d_99\">\n    <path d=\"M 49.633125 139.5 \nL 69.163125 118.720023 \nL 88.693125 110.806649 \nL 108.223125 108.866634 \nL 127.753125 105.658828 \nL 147.283125 104.279 \nL 166.813125 102.816618 \n\" clip-path=\"url(#p8cea16121e)\" style=\"fill: none; stroke-dasharray: 9.6,2.4,1.5,2.4; stroke-dashoffset: 0; stroke: #2ca02c; stroke-width: 1.5\"/>\n   </g>\n   <g id=\"line2d_100\">\n    <path d=\"M 34.954394 13.5 \nL 44.698573 13.59856 \nL 54.442752 13.969348 \nL 64.186931 48.215407 \nL 73.93111 88.230717 \nL 83.675289 95.828439 \nL 93.419468 101.086645 \nL 103.163647 103.972166 \nL 112.907826 107.233668 \nL 122.652006 110.289373 \nL 132.396185 112.651639 \nL 142.140364 115.059113 \nL 151.884543 116.909043 \nL 161.628722 118.029437 \nL 171.372901 119.670673 \nL 181.11708 120.647486 \n\" clip-path=\"url(#p8cea16121e)\" style=\"fill: none; stroke: #1f77b4; stroke-width: 1.5; stroke-linecap: square\"/>\n   </g>\n   <g id=\"line2d_101\">\n    <path d=\"M 49.633125 13.719138 \nL 69.163125 84.628296 \nL 88.693125 99.42202 \nL 108.223125 104.415427 \nL 127.753125 112.032766 \nL 147.283125 115.330786 \nL 166.813125 119.689623 \nL 186.343125 119.596487 \n\" clip-path=\"url(#p8cea16121e)\" style=\"fill: none; stroke-dasharray: 5.55,2.4; stroke-dashoffset: 0; stroke: #ff7f0e; stroke-width: 1.5\"/>\n   </g>\n   <g id=\"line2d_102\">\n    <path d=\"M 49.633125 139.5 \nL 69.163125 118.720023 \nL 88.693125 110.806649 \nL 108.223125 108.866634 \nL 127.753125 105.658828 \nL 147.283125 104.279 \nL 166.813125 102.816618 \nL 186.343125 102.680994 \n\" clip-path=\"url(#p8cea16121e)\" style=\"fill: none; stroke-dasharray: 9.6,2.4,1.5,2.4; stroke-dashoffset: 0; stroke: #2ca02c; stroke-width: 1.5\"/>\n   </g>\n   <g id=\"line2d_103\">\n    <path d=\"M 34.954394 13.5 \nL 44.698573 13.59856 \nL 54.442752 13.969348 \nL 64.186931 48.215407 \nL 73.93111 88.230717 \nL 83.675289 95.828439 \nL 93.419468 101.086645 \nL 103.163647 103.972166 \nL 112.907826 107.233668 \nL 122.652006 110.289373 \nL 132.396185 112.651639 \nL 142.140364 115.059113 \nL 151.884543 116.909043 \nL 161.628722 118.029437 \nL 171.372901 119.670673 \nL 181.11708 120.647486 \nL 190.861259 121.824026 \n\" clip-path=\"url(#p8cea16121e)\" style=\"fill: none; stroke: #1f77b4; stroke-width: 1.5; stroke-linecap: square\"/>\n   </g>\n   <g id=\"line2d_104\">\n    <path d=\"M 49.633125 13.719138 \nL 69.163125 84.628296 \nL 88.693125 99.42202 \nL 108.223125 104.415427 \nL 127.753125 112.032766 \nL 147.283125 115.330786 \nL 166.813125 119.689623 \nL 186.343125 119.596487 \n\" clip-path=\"url(#p8cea16121e)\" style=\"fill: none; stroke-dasharray: 5.55,2.4; stroke-dashoffset: 0; stroke: #ff7f0e; stroke-width: 1.5\"/>\n   </g>\n   <g id=\"line2d_105\">\n    <path d=\"M 49.633125 139.5 \nL 69.163125 118.720023 \nL 88.693125 110.806649 \nL 108.223125 108.866634 \nL 127.753125 105.658828 \nL 147.283125 104.279 \nL 166.813125 102.816618 \nL 186.343125 102.680994 \n\" clip-path=\"url(#p8cea16121e)\" style=\"fill: none; stroke-dasharray: 9.6,2.4,1.5,2.4; stroke-dashoffset: 0; stroke: #2ca02c; stroke-width: 1.5\"/>\n   </g>\n   <g id=\"line2d_106\">\n    <path d=\"M 34.954394 13.5 \nL 44.698573 13.59856 \nL 54.442752 13.969348 \nL 64.186931 48.215407 \nL 73.93111 88.230717 \nL 83.675289 95.828439 \nL 93.419468 101.086645 \nL 103.163647 103.972166 \nL 112.907826 107.233668 \nL 122.652006 110.289373 \nL 132.396185 112.651639 \nL 142.140364 115.059113 \nL 151.884543 116.909043 \nL 161.628722 118.029437 \nL 171.372901 119.670673 \nL 181.11708 120.647486 \nL 190.861259 121.824026 \nL 200.605438 122.538567 \n\" clip-path=\"url(#p8cea16121e)\" style=\"fill: none; stroke: #1f77b4; stroke-width: 1.5; stroke-linecap: square\"/>\n   </g>\n   <g id=\"line2d_107\">\n    <path d=\"M 49.633125 13.719138 \nL 69.163125 84.628296 \nL 88.693125 99.42202 \nL 108.223125 104.415427 \nL 127.753125 112.032766 \nL 147.283125 115.330786 \nL 166.813125 119.689623 \nL 186.343125 119.596487 \n\" clip-path=\"url(#p8cea16121e)\" style=\"fill: none; stroke-dasharray: 5.55,2.4; stroke-dashoffset: 0; stroke: #ff7f0e; stroke-width: 1.5\"/>\n   </g>\n   <g id=\"line2d_108\">\n    <path d=\"M 49.633125 139.5 \nL 69.163125 118.720023 \nL 88.693125 110.806649 \nL 108.223125 108.866634 \nL 127.753125 105.658828 \nL 147.283125 104.279 \nL 166.813125 102.816618 \nL 186.343125 102.680994 \n\" clip-path=\"url(#p8cea16121e)\" style=\"fill: none; stroke-dasharray: 9.6,2.4,1.5,2.4; stroke-dashoffset: 0; stroke: #2ca02c; stroke-width: 1.5\"/>\n   </g>\n   <g id=\"line2d_109\">\n    <path d=\"M 34.954394 13.5 \nL 44.698573 13.59856 \nL 54.442752 13.969348 \nL 64.186931 48.215407 \nL 73.93111 88.230717 \nL 83.675289 95.828439 \nL 93.419468 101.086645 \nL 103.163647 103.972166 \nL 112.907826 107.233668 \nL 122.652006 110.289373 \nL 132.396185 112.651639 \nL 142.140364 115.059113 \nL 151.884543 116.909043 \nL 161.628722 118.029437 \nL 171.372901 119.670673 \nL 181.11708 120.647486 \nL 190.861259 121.824026 \nL 200.605438 122.538567 \n\" clip-path=\"url(#p8cea16121e)\" style=\"fill: none; stroke: #1f77b4; stroke-width: 1.5; stroke-linecap: square\"/>\n   </g>\n   <g id=\"line2d_110\">\n    <path d=\"M 49.633125 13.719138 \nL 69.163125 84.628296 \nL 88.693125 99.42202 \nL 108.223125 104.415427 \nL 127.753125 112.032766 \nL 147.283125 115.330786 \nL 166.813125 119.689623 \nL 186.343125 119.596487 \nL 205.873125 121.317829 \n\" clip-path=\"url(#p8cea16121e)\" style=\"fill: none; stroke-dasharray: 5.55,2.4; stroke-dashoffset: 0; stroke: #ff7f0e; stroke-width: 1.5\"/>\n   </g>\n   <g id=\"line2d_111\">\n    <path d=\"M 49.633125 139.5 \nL 69.163125 118.720023 \nL 88.693125 110.806649 \nL 108.223125 108.866634 \nL 127.753125 105.658828 \nL 147.283125 104.279 \nL 166.813125 102.816618 \nL 186.343125 102.680994 \n\" clip-path=\"url(#p8cea16121e)\" style=\"fill: none; stroke-dasharray: 9.6,2.4,1.5,2.4; stroke-dashoffset: 0; stroke: #2ca02c; stroke-width: 1.5\"/>\n   </g>\n   <g id=\"line2d_112\">\n    <path d=\"M 34.954394 13.5 \nL 44.698573 13.59856 \nL 54.442752 13.969348 \nL 64.186931 48.215407 \nL 73.93111 88.230717 \nL 83.675289 95.828439 \nL 93.419468 101.086645 \nL 103.163647 103.972166 \nL 112.907826 107.233668 \nL 122.652006 110.289373 \nL 132.396185 112.651639 \nL 142.140364 115.059113 \nL 151.884543 116.909043 \nL 161.628722 118.029437 \nL 171.372901 119.670673 \nL 181.11708 120.647486 \nL 190.861259 121.824026 \nL 200.605438 122.538567 \n\" clip-path=\"url(#p8cea16121e)\" style=\"fill: none; stroke: #1f77b4; stroke-width: 1.5; stroke-linecap: square\"/>\n   </g>\n   <g id=\"line2d_113\">\n    <path d=\"M 49.633125 13.719138 \nL 69.163125 84.628296 \nL 88.693125 99.42202 \nL 108.223125 104.415427 \nL 127.753125 112.032766 \nL 147.283125 115.330786 \nL 166.813125 119.689623 \nL 186.343125 119.596487 \nL 205.873125 121.317829 \n\" clip-path=\"url(#p8cea16121e)\" style=\"fill: none; stroke-dasharray: 5.55,2.4; stroke-dashoffset: 0; stroke: #ff7f0e; stroke-width: 1.5\"/>\n   </g>\n   <g id=\"line2d_114\">\n    <path d=\"M 49.633125 139.5 \nL 69.163125 118.720023 \nL 88.693125 110.806649 \nL 108.223125 108.866634 \nL 127.753125 105.658828 \nL 147.283125 104.279 \nL 166.813125 102.816618 \nL 186.343125 102.680994 \nL 205.873125 102.350779 \n\" clip-path=\"url(#p8cea16121e)\" style=\"fill: none; stroke-dasharray: 9.6,2.4,1.5,2.4; stroke-dashoffset: 0; stroke: #2ca02c; stroke-width: 1.5\"/>\n   </g>\n   <g id=\"line2d_115\">\n    <path d=\"M 34.954394 13.5 \nL 44.698573 13.59856 \nL 54.442752 13.969348 \nL 64.186931 48.215407 \nL 73.93111 88.230717 \nL 83.675289 95.828439 \nL 93.419468 101.086645 \nL 103.163647 103.972166 \nL 112.907826 107.233668 \nL 122.652006 110.289373 \nL 132.396185 112.651639 \nL 142.140364 115.059113 \nL 151.884543 116.909043 \nL 161.628722 118.029437 \nL 171.372901 119.670673 \nL 181.11708 120.647486 \nL 190.861259 121.824026 \nL 200.605438 122.538567 \nL 210.349618 123.438872 \n\" clip-path=\"url(#p8cea16121e)\" style=\"fill: none; stroke: #1f77b4; stroke-width: 1.5; stroke-linecap: square\"/>\n   </g>\n   <g id=\"line2d_116\">\n    <path d=\"M 49.633125 13.719138 \nL 69.163125 84.628296 \nL 88.693125 99.42202 \nL 108.223125 104.415427 \nL 127.753125 112.032766 \nL 147.283125 115.330786 \nL 166.813125 119.689623 \nL 186.343125 119.596487 \nL 205.873125 121.317829 \n\" clip-path=\"url(#p8cea16121e)\" style=\"fill: none; stroke-dasharray: 5.55,2.4; stroke-dashoffset: 0; stroke: #ff7f0e; stroke-width: 1.5\"/>\n   </g>\n   <g id=\"line2d_117\">\n    <path d=\"M 49.633125 139.5 \nL 69.163125 118.720023 \nL 88.693125 110.806649 \nL 108.223125 108.866634 \nL 127.753125 105.658828 \nL 147.283125 104.279 \nL 166.813125 102.816618 \nL 186.343125 102.680994 \nL 205.873125 102.350779 \n\" clip-path=\"url(#p8cea16121e)\" style=\"fill: none; stroke-dasharray: 9.6,2.4,1.5,2.4; stroke-dashoffset: 0; stroke: #2ca02c; stroke-width: 1.5\"/>\n   </g>\n   <g id=\"line2d_118\">\n    <path d=\"M 34.954394 13.5 \nL 44.698573 13.59856 \nL 54.442752 13.969348 \nL 64.186931 48.215407 \nL 73.93111 88.230717 \nL 83.675289 95.828439 \nL 93.419468 101.086645 \nL 103.163647 103.972166 \nL 112.907826 107.233668 \nL 122.652006 110.289373 \nL 132.396185 112.651639 \nL 142.140364 115.059113 \nL 151.884543 116.909043 \nL 161.628722 118.029437 \nL 171.372901 119.670673 \nL 181.11708 120.647486 \nL 190.861259 121.824026 \nL 200.605438 122.538567 \nL 210.349618 123.438872 \nL 220.093797 124.112213 \n\" clip-path=\"url(#p8cea16121e)\" style=\"fill: none; stroke: #1f77b4; stroke-width: 1.5; stroke-linecap: square\"/>\n   </g>\n   <g id=\"line2d_119\">\n    <path d=\"M 49.633125 13.719138 \nL 69.163125 84.628296 \nL 88.693125 99.42202 \nL 108.223125 104.415427 \nL 127.753125 112.032766 \nL 147.283125 115.330786 \nL 166.813125 119.689623 \nL 186.343125 119.596487 \nL 205.873125 121.317829 \n\" clip-path=\"url(#p8cea16121e)\" style=\"fill: none; stroke-dasharray: 5.55,2.4; stroke-dashoffset: 0; stroke: #ff7f0e; stroke-width: 1.5\"/>\n   </g>\n   <g id=\"line2d_120\">\n    <path d=\"M 49.633125 139.5 \nL 69.163125 118.720023 \nL 88.693125 110.806649 \nL 108.223125 108.866634 \nL 127.753125 105.658828 \nL 147.283125 104.279 \nL 166.813125 102.816618 \nL 186.343125 102.680994 \nL 205.873125 102.350779 \n\" clip-path=\"url(#p8cea16121e)\" style=\"fill: none; stroke-dasharray: 9.6,2.4,1.5,2.4; stroke-dashoffset: 0; stroke: #2ca02c; stroke-width: 1.5\"/>\n   </g>\n   <g id=\"line2d_121\">\n    <path d=\"M 34.954394 13.5 \nL 44.698573 13.59856 \nL 54.442752 13.969348 \nL 64.186931 48.215407 \nL 73.93111 88.230717 \nL 83.675289 95.828439 \nL 93.419468 101.086645 \nL 103.163647 103.972166 \nL 112.907826 107.233668 \nL 122.652006 110.289373 \nL 132.396185 112.651639 \nL 142.140364 115.059113 \nL 151.884543 116.909043 \nL 161.628722 118.029437 \nL 171.372901 119.670673 \nL 181.11708 120.647486 \nL 190.861259 121.824026 \nL 200.605438 122.538567 \nL 210.349618 123.438872 \nL 220.093797 124.112213 \n\" clip-path=\"url(#p8cea16121e)\" style=\"fill: none; stroke: #1f77b4; stroke-width: 1.5; stroke-linecap: square\"/>\n   </g>\n   <g id=\"line2d_122\">\n    <path d=\"M 49.633125 13.719138 \nL 69.163125 84.628296 \nL 88.693125 99.42202 \nL 108.223125 104.415427 \nL 127.753125 112.032766 \nL 147.283125 115.330786 \nL 166.813125 119.689623 \nL 186.343125 119.596487 \nL 205.873125 121.317829 \nL 225.403125 124.755812 \n\" clip-path=\"url(#p8cea16121e)\" style=\"fill: none; stroke-dasharray: 5.55,2.4; stroke-dashoffset: 0; stroke: #ff7f0e; stroke-width: 1.5\"/>\n   </g>\n   <g id=\"line2d_123\">\n    <path d=\"M 49.633125 139.5 \nL 69.163125 118.720023 \nL 88.693125 110.806649 \nL 108.223125 108.866634 \nL 127.753125 105.658828 \nL 147.283125 104.279 \nL 166.813125 102.816618 \nL 186.343125 102.680994 \nL 205.873125 102.350779 \n\" clip-path=\"url(#p8cea16121e)\" style=\"fill: none; stroke-dasharray: 9.6,2.4,1.5,2.4; stroke-dashoffset: 0; stroke: #2ca02c; stroke-width: 1.5\"/>\n   </g>\n   <g id=\"line2d_124\">\n    <path d=\"M 34.954394 13.5 \nL 44.698573 13.59856 \nL 54.442752 13.969348 \nL 64.186931 48.215407 \nL 73.93111 88.230717 \nL 83.675289 95.828439 \nL 93.419468 101.086645 \nL 103.163647 103.972166 \nL 112.907826 107.233668 \nL 122.652006 110.289373 \nL 132.396185 112.651639 \nL 142.140364 115.059113 \nL 151.884543 116.909043 \nL 161.628722 118.029437 \nL 171.372901 119.670673 \nL 181.11708 120.647486 \nL 190.861259 121.824026 \nL 200.605438 122.538567 \nL 210.349618 123.438872 \nL 220.093797 124.112213 \n\" clip-path=\"url(#p8cea16121e)\" style=\"fill: none; stroke: #1f77b4; stroke-width: 1.5; stroke-linecap: square\"/>\n   </g>\n   <g id=\"line2d_125\">\n    <path d=\"M 49.633125 13.719138 \nL 69.163125 84.628296 \nL 88.693125 99.42202 \nL 108.223125 104.415427 \nL 127.753125 112.032766 \nL 147.283125 115.330786 \nL 166.813125 119.689623 \nL 186.343125 119.596487 \nL 205.873125 121.317829 \nL 225.403125 124.755812 \n\" clip-path=\"url(#p8cea16121e)\" style=\"fill: none; stroke-dasharray: 5.55,2.4; stroke-dashoffset: 0; stroke: #ff7f0e; stroke-width: 1.5\"/>\n   </g>\n   <g id=\"line2d_126\">\n    <path d=\"M 49.633125 139.5 \nL 69.163125 118.720023 \nL 88.693125 110.806649 \nL 108.223125 108.866634 \nL 127.753125 105.658828 \nL 147.283125 104.279 \nL 166.813125 102.816618 \nL 186.343125 102.680994 \nL 205.873125 102.350779 \nL 225.403125 100.682012 \n\" clip-path=\"url(#p8cea16121e)\" style=\"fill: none; stroke-dasharray: 9.6,2.4,1.5,2.4; stroke-dashoffset: 0; stroke: #2ca02c; stroke-width: 1.5\"/>\n   </g>\n   <g id=\"patch_3\">\n    <path d=\"M 30.103125 145.8 \nL 30.103125 7.2 \n\" style=\"fill: none; stroke: #000000; stroke-width: 0.8; stroke-linejoin: miter; stroke-linecap: square\"/>\n   </g>\n   <g id=\"patch_4\">\n    <path d=\"M 225.403125 145.8 \nL 225.403125 7.2 \n\" style=\"fill: none; stroke: #000000; stroke-width: 0.8; stroke-linejoin: miter; stroke-linecap: square\"/>\n   </g>\n   <g id=\"patch_5\">\n    <path d=\"M 30.103125 145.8 \nL 225.403125 145.8 \n\" style=\"fill: none; stroke: #000000; stroke-width: 0.8; stroke-linejoin: miter; stroke-linecap: square\"/>\n   </g>\n   <g id=\"patch_6\">\n    <path d=\"M 30.103125 7.2 \nL 225.403125 7.2 \n\" style=\"fill: none; stroke: #000000; stroke-width: 0.8; stroke-linejoin: miter; stroke-linecap: square\"/>\n   </g>\n   <g id=\"legend_1\">\n    <g id=\"patch_7\">\n     <path d=\"M 138.8125 60.06875 \nL 218.403125 60.06875 \nQ 220.403125 60.06875 220.403125 58.06875 \nL 220.403125 14.2 \nQ 220.403125 12.2 218.403125 12.2 \nL 138.8125 12.2 \nQ 136.8125 12.2 136.8125 14.2 \nL 136.8125 58.06875 \nQ 136.8125 60.06875 138.8125 60.06875 \nz\n\" style=\"fill: #ffffff; opacity: 0.8; stroke: #cccccc; stroke-linejoin: miter\"/>\n    </g>\n    <g id=\"line2d_127\">\n     <path d=\"M 140.8125 20.298438 \nL 150.8125 20.298438 \nL 160.8125 20.298438 \n\" style=\"fill: none; stroke: #1f77b4; stroke-width: 1.5; stroke-linecap: square\"/>\n    </g>\n    <g id=\"text_12\">\n     <!-- train_loss -->\n     <g transform=\"translate(168.8125 23.798438) scale(0.1 -0.1)\">\n      <defs>\n       <path id=\"DejaVuSans-74\" d=\"M 1172 4494 \nL 1172 3500 \nL 2356 3500 \nL 2356 3053 \nL 1172 3053 \nL 1172 1153 \nQ 1172 725 1289 603 \nQ 1406 481 1766 481 \nL 2356 481 \nL 2356 0 \nL 1766 0 \nQ 1100 0 847 248 \nQ 594 497 594 1153 \nL 594 3053 \nL 172 3053 \nL 172 3500 \nL 594 3500 \nL 594 4494 \nL 1172 4494 \nz\n\" transform=\"scale(0.015625)\"/>\n       <path id=\"DejaVuSans-72\" d=\"M 2631 2963 \nQ 2534 3019 2420 3045 \nQ 2306 3072 2169 3072 \nQ 1681 3072 1420 2755 \nQ 1159 2438 1159 1844 \nL 1159 0 \nL 581 0 \nL 581 3500 \nL 1159 3500 \nL 1159 2956 \nQ 1341 3275 1631 3429 \nQ 1922 3584 2338 3584 \nQ 2397 3584 2469 3576 \nQ 2541 3569 2628 3553 \nL 2631 2963 \nz\n\" transform=\"scale(0.015625)\"/>\n       <path id=\"DejaVuSans-61\" d=\"M 2194 1759 \nQ 1497 1759 1228 1600 \nQ 959 1441 959 1056 \nQ 959 750 1161 570 \nQ 1363 391 1709 391 \nQ 2188 391 2477 730 \nQ 2766 1069 2766 1631 \nL 2766 1759 \nL 2194 1759 \nz\nM 3341 1997 \nL 3341 0 \nL 2766 0 \nL 2766 531 \nQ 2569 213 2275 61 \nQ 1981 -91 1556 -91 \nQ 1019 -91 701 211 \nQ 384 513 384 1019 \nQ 384 1609 779 1909 \nQ 1175 2209 1959 2209 \nL 2766 2209 \nL 2766 2266 \nQ 2766 2663 2505 2880 \nQ 2244 3097 1772 3097 \nQ 1472 3097 1187 3025 \nQ 903 2953 641 2809 \nL 641 3341 \nQ 956 3463 1253 3523 \nQ 1550 3584 1831 3584 \nQ 2591 3584 2966 3190 \nQ 3341 2797 3341 1997 \nz\n\" transform=\"scale(0.015625)\"/>\n       <path id=\"DejaVuSans-69\" d=\"M 603 3500 \nL 1178 3500 \nL 1178 0 \nL 603 0 \nL 603 3500 \nz\nM 603 4863 \nL 1178 4863 \nL 1178 4134 \nL 603 4134 \nL 603 4863 \nz\n\" transform=\"scale(0.015625)\"/>\n       <path id=\"DejaVuSans-6e\" d=\"M 3513 2113 \nL 3513 0 \nL 2938 0 \nL 2938 2094 \nQ 2938 2591 2744 2837 \nQ 2550 3084 2163 3084 \nQ 1697 3084 1428 2787 \nQ 1159 2491 1159 1978 \nL 1159 0 \nL 581 0 \nL 581 3500 \nL 1159 3500 \nL 1159 2956 \nQ 1366 3272 1645 3428 \nQ 1925 3584 2291 3584 \nQ 2894 3584 3203 3211 \nQ 3513 2838 3513 2113 \nz\n\" transform=\"scale(0.015625)\"/>\n       <path id=\"DejaVuSans-5f\" d=\"M 3263 -1063 \nL 3263 -1509 \nL -63 -1509 \nL -63 -1063 \nL 3263 -1063 \nz\n\" transform=\"scale(0.015625)\"/>\n       <path id=\"DejaVuSans-6c\" d=\"M 603 4863 \nL 1178 4863 \nL 1178 0 \nL 603 0 \nL 603 4863 \nz\n\" transform=\"scale(0.015625)\"/>\n       <path id=\"DejaVuSans-73\" d=\"M 2834 3397 \nL 2834 2853 \nQ 2591 2978 2328 3040 \nQ 2066 3103 1784 3103 \nQ 1356 3103 1142 2972 \nQ 928 2841 928 2578 \nQ 928 2378 1081 2264 \nQ 1234 2150 1697 2047 \nL 1894 2003 \nQ 2506 1872 2764 1633 \nQ 3022 1394 3022 966 \nQ 3022 478 2636 193 \nQ 2250 -91 1575 -91 \nQ 1294 -91 989 -36 \nQ 684 19 347 128 \nL 347 722 \nQ 666 556 975 473 \nQ 1284 391 1588 391 \nQ 1994 391 2212 530 \nQ 2431 669 2431 922 \nQ 2431 1156 2273 1281 \nQ 2116 1406 1581 1522 \nL 1381 1569 \nQ 847 1681 609 1914 \nQ 372 2147 372 2553 \nQ 372 3047 722 3315 \nQ 1072 3584 1716 3584 \nQ 2034 3584 2315 3537 \nQ 2597 3491 2834 3397 \nz\n\" transform=\"scale(0.015625)\"/>\n      </defs>\n      <use xlink:href=\"#DejaVuSans-74\"/>\n      <use xlink:href=\"#DejaVuSans-72\" x=\"39.208984\"/>\n      <use xlink:href=\"#DejaVuSans-61\" x=\"80.322266\"/>\n      <use xlink:href=\"#DejaVuSans-69\" x=\"141.601562\"/>\n      <use xlink:href=\"#DejaVuSans-6e\" x=\"169.384766\"/>\n      <use xlink:href=\"#DejaVuSans-5f\" x=\"232.763672\"/>\n      <use xlink:href=\"#DejaVuSans-6c\" x=\"282.763672\"/>\n      <use xlink:href=\"#DejaVuSans-6f\" x=\"310.546875\"/>\n      <use xlink:href=\"#DejaVuSans-73\" x=\"371.728516\"/>\n      <use xlink:href=\"#DejaVuSans-73\" x=\"423.828125\"/>\n     </g>\n    </g>\n    <g id=\"line2d_128\">\n     <path d=\"M 140.8125 35.254688 \nL 150.8125 35.254688 \nL 160.8125 35.254688 \n\" style=\"fill: none; stroke-dasharray: 5.55,2.4; stroke-dashoffset: 0; stroke: #ff7f0e; stroke-width: 1.5\"/>\n    </g>\n    <g id=\"text_13\">\n     <!-- val_loss -->\n     <g transform=\"translate(168.8125 38.754688) scale(0.1 -0.1)\">\n      <defs>\n       <path id=\"DejaVuSans-76\" d=\"M 191 3500 \nL 800 3500 \nL 1894 563 \nL 2988 3500 \nL 3597 3500 \nL 2284 0 \nL 1503 0 \nL 191 3500 \nz\n\" transform=\"scale(0.015625)\"/>\n      </defs>\n      <use xlink:href=\"#DejaVuSans-76\"/>\n      <use xlink:href=\"#DejaVuSans-61\" x=\"59.179688\"/>\n      <use xlink:href=\"#DejaVuSans-6c\" x=\"120.458984\"/>\n      <use xlink:href=\"#DejaVuSans-5f\" x=\"148.242188\"/>\n      <use xlink:href=\"#DejaVuSans-6c\" x=\"198.242188\"/>\n      <use xlink:href=\"#DejaVuSans-6f\" x=\"226.025391\"/>\n      <use xlink:href=\"#DejaVuSans-73\" x=\"287.207031\"/>\n      <use xlink:href=\"#DejaVuSans-73\" x=\"339.306641\"/>\n     </g>\n    </g>\n    <g id=\"line2d_129\">\n     <path d=\"M 140.8125 50.210938 \nL 150.8125 50.210938 \nL 160.8125 50.210938 \n\" style=\"fill: none; stroke-dasharray: 9.6,2.4,1.5,2.4; stroke-dashoffset: 0; stroke: #2ca02c; stroke-width: 1.5\"/>\n    </g>\n    <g id=\"text_14\">\n     <!-- val_acc -->\n     <g transform=\"translate(168.8125 53.710938) scale(0.1 -0.1)\">\n      <use xlink:href=\"#DejaVuSans-76\"/>\n      <use xlink:href=\"#DejaVuSans-61\" x=\"59.179688\"/>\n      <use xlink:href=\"#DejaVuSans-6c\" x=\"120.458984\"/>\n      <use xlink:href=\"#DejaVuSans-5f\" x=\"148.242188\"/>\n      <use xlink:href=\"#DejaVuSans-61\" x=\"198.242188\"/>\n      <use xlink:href=\"#DejaVuSans-63\" x=\"259.521484\"/>\n      <use xlink:href=\"#DejaVuSans-63\" x=\"314.501953\"/>\n     </g>\n    </g>\n   </g>\n  </g>\n </g>\n <defs>\n  <clipPath id=\"p8cea16121e\">\n   <rect x=\"30.103125\" y=\"7.2\" width=\"195.3\" height=\"138.6\"/>\n  </clipPath>\n </defs>\n</svg>\n"
          },
          "metadata": {}
        }
      ]
    },
    {
      "cell_type": "markdown",
      "source": [
        "## Exercises"
      ],
      "metadata": {
        "id": "StBjKEgamlRX"
      }
    },
    {
      "cell_type": "code",
      "source": [
        "import sys\n",
        "import torch.nn as nn\n",
        "import torch\n",
        "import warnings\n",
        "sys.path.append('/home/jovyan/work/d2l_solutions/notebooks/exercises/d2l_utils/')\n",
        "from d2l import torch as d2l\n",
        "from torchsummary import summary\n",
        "warnings.filterwarnings(\"ignore\")\n",
        "\n",
        "class Alexnet(d2l.Classifier):\n",
        "    def __init__(self,lr=0.1, num_classes=10):\n",
        "        super().__init__()\n",
        "        self.save_hyperparameters()\n",
        "        self.net = nn.Sequential(nn.LazyConv2d(96, kernel_size=11, stride=4, padding=1),\n",
        "                                 nn.ReLU(), nn.MaxPool2d(kernel_size=3, stride=2),\n",
        "                                 nn.LazyConv2d(256, kernel_size=5, padding=2),\n",
        "                                 nn.ReLU(), nn.MaxPool2d(kernel_size=3, stride=2),\n",
        "                                 nn.LazyConv2d(384, kernel_size=3, padding=1),nn.ReLU(),\n",
        "                                 nn.LazyConv2d(384, kernel_size=3, padding=1),nn.ReLU(),\n",
        "                                 nn.LazyConv2d(256, kernel_size=3, padding=1),nn.ReLU(),\n",
        "                                 nn.MaxPool2d(kernel_size=3, stride=2), nn.Flatten(),\n",
        "                                 nn.LazyLinear(4096), nn.ReLU(), nn.Dropout(0.5),\n",
        "                                 nn.LazyLinear(4096), nn.ReLU(), nn.Dropout(0.5),\n",
        "                                 nn.LazyLinear(num_classes)\n",
        "                                 )"
      ],
      "metadata": {
        "id": "b2B34qdoPmJt"
      },
      "execution_count": 6,
      "outputs": []
    },
    {
      "cell_type": "markdown",
      "source": [
        "**1.   Following up on the discussion above, analyze the computational properties of AlexNet.**\n",
        "*   **Compute the memory footprint for convolutions and fully connected layers, respectively. Which one dominates?**\n"
      ],
      "metadata": {
        "id": "kQZ6KM6qqSSE"
      }
    },
    {
      "cell_type": "code",
      "source": [
        "model = Alexnet()\n",
        "X = torch.randn(1,3, 224, 224)\n",
        "_ = model(X)\n",
        "params = {'conv':0, 'lr':0}\n",
        "for idx, module in enumerate(model.net):\n",
        "    if type(module) not in (nn.Linear,nn.Conv2d):\n",
        "        continue\n",
        "    num = sum(p.numel() for p in module.parameters())\n",
        "    # print(f\"Module {idx + 1}: {num} parameters type:{type(module)}\")\n",
        "    if type(module) == nn.Conv2d:\n",
        "        params['conv'] += num\n",
        "\n",
        "    else:\n",
        "        params['lr'] += num\n",
        "\n",
        "params"
      ],
      "metadata": {
        "colab": {
          "base_uri": "https://localhost:8080/"
        },
        "id": "bb0FqSD8Px3s",
        "outputId": "4d4c21d1-da65-4946-e83a-61a96dfa3110"
      },
      "execution_count": 7,
      "outputs": [
        {
          "output_type": "execute_result",
          "data": {
            "text/plain": [
              "{'conv': 3747200, 'lr': 43040778}"
            ]
          },
          "metadata": {},
          "execution_count": 7
        }
      ]
    },
    {
      "cell_type": "markdown",
      "source": [
        "The fully connected layers dominates"
      ],
      "metadata": {
        "id": "mG6-HRCmP3Cb"
      }
    },
    {
      "cell_type": "markdown",
      "source": [
        "*   **Calculate the computational cost for the convolutions and the fully connected layers.**"
      ],
      "metadata": {
        "id": "j5l1Fi0JPvEa"
      }
    },
    {
      "cell_type": "code",
      "source": [
        "x = torch.randn(1,3, 224, 224)\n",
        "params = {'conv':0, 'lr':0}\n",
        "for idx, module in enumerate(model.net):\n",
        "    c_i = x.shape[1]\n",
        "    x = module(x)\n",
        "    if type(module) == nn.Conv2d:\n",
        "        k = [p.shape for p in module.parameters()]\n",
        "        c_o,h_o,w_o = x.shape[1], x.shape[2], x.shape[3]\n",
        "        params['conv'] += c_i*c_o*h_o*w_o*k[0][-1]*k[0][-2]\n",
        "    if type(module) == nn.Linear:\n",
        "        params['lr'] += sum(p.numel() for p in module.parameters())\n",
        "params"
      ],
      "metadata": {
        "colab": {
          "base_uri": "https://localhost:8080/"
        },
        "id": "o1nXObraP54j",
        "outputId": "6eba2162-5fee-455c-ce24-4e6811d21d9c"
      },
      "execution_count": 8,
      "outputs": [
        {
          "output_type": "execute_result",
          "data": {
            "text/plain": [
              "{'conv': 962858112, 'lr': 43040778}"
            ]
          },
          "metadata": {},
          "execution_count": 8
        }
      ]
    },
    {
      "cell_type": "code",
      "source": [
        "X = torch.randn(1,3, 224, 224)\n",
        "_ = model(X)\n",
        "total_params = sum(p.numel() for p in model.parameters())\n",
        "print(\"Total parameters:\", total_params)"
      ],
      "metadata": {
        "colab": {
          "base_uri": "https://localhost:8080/"
        },
        "id": "XQlc2cwgP8Nn",
        "outputId": "e8c9f6c2-6676-4eae-eae2-fd540e17a585"
      },
      "execution_count": 9,
      "outputs": [
        {
          "output_type": "stream",
          "name": "stdout",
          "text": [
            "Total parameters: 46787978\n"
          ]
        }
      ]
    },
    {
      "cell_type": "markdown",
      "source": [
        "*   **How does the memory (read and write bandwidth, latency, size) affect computation? Is there any difference in its effects for training and inference?**"
      ],
      "metadata": {
        "id": "a01R_xQhPwuE"
      }
    },
    {
      "cell_type": "markdown",
      "source": [
        "Karakteristik memori seperti bandwidth baca dan tulis, latensi, dan ukuran memori sangat mempengaruhi komputasi dalam pelatihan dan inferensi jaringan neural.\n",
        "\n",
        "* Bandwidth Baca dan Tulis: Bandwidth yang tinggi memungkinkan perpindahan data lebih cepat antara memori dan unit pemrosesan, yang mempercepat pelatihan dan inferensi karena mengurangi waktu menunggu data.\n",
        "\n",
        "* Latensi: Latensi rendah mempercepat akses data dan komputasi. Dalam pelatihan, latensi rendah penting untuk pembaruan bobot dan gradien yang sering, sementara dalam inferensi penting untuk memastikan respon yang cepat, terutama di aplikasi waktu nyata.\n",
        "\n",
        "* Ukuran Memori: Memori yang besar memungkinkan penyimpanan data lebih banyak, mengurangi kebutuhan perpindahan data yang sering. Dalam pelatihan, ini membantu menampung gradien dan parameter model, sedangkan dalam inferensi memori yang cukup membantu menyimpan hasil perantara.\n",
        "\n",
        "* Perbedaan Pelatihan dan Inferensi: Pelatihan memerlukan bandwidth tinggi karena pembaruan bobot yang sering, sedangkan inferensi memerlukan latensi rendah untuk respon cepat.\n",
        "\n",
        "* Hierarki Memori: Mengoptimalkan data di berbagai tingkat memori (seperti cache dan memori GPU) penting untuk meningkatkan efisiensi baik dalam pelatihan maupun inferensi."
      ],
      "metadata": {
        "id": "74iLPvboP_Yh"
      }
    },
    {
      "cell_type": "markdown",
      "source": [
        "**2. You are a chip designer and need to trade off computation and memory bandwidth. For example, a faster chip requires more power and possibly a larger chip area. More memory bandwidth requires more pins and control logic, thus also more area. How do you optimize?**"
      ],
      "metadata": {
        "id": "0bhwn-GtQDOu"
      }
    },
    {
      "cell_type": "markdown",
      "source": [
        "Mengoptimalkan trade-off antara komputasi dan bandwidth memori dalam desain chip memerlukan langkah-langkah berikut:\n",
        "\n",
        "* Tentukan Tujuan Kinerja: Definisikan kebutuhan aplikasi dan tetapkan target kinerja.\n",
        "\n",
        "* Profil dan Analisis Pekerjaan: Analisis pola akses memori dan komputasi.\n",
        "\n",
        "* Eksplorasi Arsitektur: Seimbangkan antara unit komputasi dan memori dengan menyesuaikan jumlah inti, ukuran cache, dan hirarki memori.\n",
        "\n",
        "* Desain Hirarki Memori: Buat hirarki memori yang efisien untuk mengurangi bottleneck.\n",
        "\n",
        "* Optimasi Daya dan Area: Gunakan teknik hemat energi, dan seimbangkan area chip untuk komputasi dan memori.\n",
        "\n",
        "* Peningkatan Bandwidth dan Paralelisme: Tingkatkan bandwidth memori dan gunakan paralelisme untuk meningkatkan efisiensi.\n",
        "\n",
        "* Simulasi dan Penyempurnaan: Evaluasi dan sesuaikan desain berdasarkan hasil simulasi dan umpan balik."
      ],
      "metadata": {
        "id": "SDtTOxOSQF9C"
      }
    },
    {
      "cell_type": "markdown",
      "source": [
        "**3. Why do engineers no longer report performance benchmarks on AlexNet?**"
      ],
      "metadata": {
        "id": "lW95VHHIQI5c"
      }
    },
    {
      "cell_type": "markdown",
      "source": [
        "* Usia Benchmark: AlexNet diperkenalkan pada 2012 dan tidak lagi mencerminkan efisiensi dan akurasi model terkini.\n",
        "\n",
        "* Kemajuan Arsitektur: Model modern seperti VGG, ResNet, dan model berbasis Transformer telah lebih populer dan efisien.\n",
        "\n",
        "* Model Spesifik Domain: Insinyur lebih memilih model yang disesuaikan untuk tugas tertentu, seperti EfficientNet untuk klasifikasi gambar.\n",
        "\n",
        "* Fokus pada Aplikasi Dunia Nyata: Kinerja dalam aplikasi nyata lebih diutamakan, seperti analisis citra medis dan pemahaman bahasa alami.\n",
        "\n",
        "* Evolusi Hardware dan Software: Dengan kemajuan teknologi, insinyur cenderung menguji model baru yang dioptimalkan untuk perangkat keras dan perangkat lunak terkini."
      ],
      "metadata": {
        "id": "oDA1_Tq3QM3r"
      }
    },
    {
      "cell_type": "markdown",
      "source": [
        "**4. Try increasing the number of epochs when training AlexNet. Compared with LeNet, how do the results differ? Why?**"
      ],
      "metadata": {
        "id": "kRYHz6nLQPly"
      }
    },
    {
      "cell_type": "markdown",
      "source": [
        "Dalam eksperimen pelatihan AlexNet dan LeNet, peningkatan jumlah epoch untuk AlexNet secara signifikan mempengaruhi kinerjanya dibandingkan dengan LeNet. Dengan lebih banyak epoch pelatihan, AlexNet biasanya menunjukkan peningkatan akurasi dan ketahanan dalam mengklasifikasikan pola yang kompleks karena arsitekturnya yang lebih dalam dan jumlah parameter yang lebih besar, yang memungkinkannya untuk mempelajari fitur-fitur yang lebih rumit dari dataset. Di sisi lain, meskipun LeNet mungkin menunjukkan sedikit peningkatan dengan bertambahnya epoch, arsitektur yang lebih sederhana membatasi kemampuannya untuk menangkap tingkat detail yang sama seperti AlexNet. Akibatnya, AlexNet lebih efektif untuk dataset yang lebih besar dan tugas yang lebih menantang, sehingga menghasilkan kinerja yang lebih baik seiring dengan peningkatan jumlah epoch pelatihan. Perilaku ini dapat dijelaskan oleh kemampuan jaringan yang lebih dalam untuk memanfaatkan data dengan lebih efektif, sehingga meningkatkan kemampuan generalisasi sambil meminimalkan risiko overfitting."
      ],
      "metadata": {
        "id": "pipA0QHhQRh6"
      }
    },
    {
      "cell_type": "markdown",
      "source": [
        "**5. AlexNet may be too complex for the Fashion-MNIST dataset, in particular due to the low resolution of the initial images.**\n",
        "* **Try simplifying the model to make the training faster, while ensuring that the accuracy does not drop significantly.**"
      ],
      "metadata": {
        "id": "3nfsnDIBQUc9"
      }
    },
    {
      "cell_type": "markdown",
      "source": [
        "Langkah-langkah menyederhanakan model:\n",
        "* Mengurangi jumlah layer\n",
        "* Mengurangi ukuran filter\n",
        "* Mengurangi dimensi input\n",
        "* Menggunakan pengaturan pembelajaran yang berbeda\n",
        "* Penggunaan regularization\n",
        "* Penggunaan data augmentation"
      ],
      "metadata": {
        "id": "QlPX8ugqQaxx"
      }
    },
    {
      "cell_type": "markdown",
      "source": [
        "* **Design a better model that works directly on 28 x 28 images.**"
      ],
      "metadata": {
        "id": "HKGLQBWpQeGY"
      }
    },
    {
      "cell_type": "code",
      "source": [
        "class SimplifiedSmallAlexnet(d2l.Classifier):\n",
        "    def __init__(self, lr=0.1, num_classes=10):\n",
        "        super().__init__()\n",
        "        self.save_hyperparameters()\n",
        "        self.net = nn.Sequential(\n",
        "            nn.LazyConv2d(128, kernel_size=3, padding=1), nn.ReLU(),\n",
        "            nn.LazyConv2d(128, kernel_size=3, padding=1), nn.ReLU(),\n",
        "            nn.MaxPool2d(kernel_size=2, stride=2),  # Mengurangi dimensi lebih awal\n",
        "            nn.LazyConv2d(256, kernel_size=3, padding=1), nn.ReLU(),\n",
        "            nn.MaxPool2d(kernel_size=2, stride=2),  # Mengurangi dimensi lebih awal\n",
        "            nn.Flatten(),\n",
        "            nn.LazyLinear(256),  # Mengurangi jumlah neuron\n",
        "            nn.LazyLinear(num_classes)\n",
        "        )"
      ],
      "metadata": {
        "id": "odI3F47-QhNH"
      },
      "execution_count": 10,
      "outputs": []
    },
    {
      "cell_type": "markdown",
      "source": [
        "**6. Modify the batch size, and observe the changes in throughput (images/s), accuracy, and GPU memory.**"
      ],
      "metadata": {
        "id": "FuK-LpSMQkhX"
      }
    },
    {
      "cell_type": "markdown",
      "source": [
        "Dalam eksperimen ini, memodifikasi ukuran batch dapat memberikan dampak yang signifikan terhadap throughput (jumlah gambar yang diproses per detik), akurasi, dan penggunaan memori GPU. Ketika ukuran batch ditingkatkan, throughput biasanya meningkat karena pemrosesan paralel yang lebih efisien, memungkinkan model untuk memproses lebih banyak gambar dalam satu waktu. Namun, ukuran batch yang terlalu besar dapat menyebabkan penggunaan memori GPU yang lebih tinggi, berpotensi menyebabkan out-of-memory error, terutama pada arsitektur jaringan yang lebih dalam seperti AlexNet. Sebaliknya, mengurangi ukuran batch dapat menurunkan throughput tetapi mungkin meningkatkan akurasi, terutama jika ukuran batch yang kecil memungkinkan model untuk belajar dari variasi data yang lebih baik dan mengurangi risiko overfitting. Pengaruh ukuran batch juga tergantung pada arsitektur model dan karakteristik dataset yang digunakan; oleh karena itu, eksperimen lebih lanjut diperlukan untuk menemukan ukuran batch yang optimal yang seimbang antara throughput dan akurasi sambil mempertimbangkan keterbatasan memori GPU."
      ],
      "metadata": {
        "id": "AobRLNKyQnyG"
      }
    },
    {
      "cell_type": "markdown",
      "source": [
        "**7. Apply dropout and ReLU to LeNet-5. Does it improve? Can you improve things further by preprocessing to take advantage of the invariances inherent in the images?**"
      ],
      "metadata": {
        "id": "0Pwy46B1QudH"
      }
    },
    {
      "cell_type": "code",
      "source": [
        "class LeNet(d2l.Classifier):\n",
        "    def __init__(self, lr=0.1, num_classes=10):\n",
        "        super().__init__()\n",
        "        self.save_hyperparameters()\n",
        "        self.net = nn.Sequential(nn.LazyConv2d(6, kernel_size=5, padding=2),\n",
        "                                 nn.ReLU(),\n",
        "                                 nn.MaxPool2d(kernel_size=2, stride=2),\n",
        "                                 nn.LazyConv2d(16, kernel_size=5),\n",
        "                                 nn.ReLU(),\n",
        "                                 nn.MaxPool2d(kernel_size=2, stride=2),\n",
        "                                 nn.Flatten(),\n",
        "                                 nn.LazyLinear(120),\n",
        "                                 nn.ReLU(), nn.Dropout(0.5),\n",
        "                                 nn.LazyLinear(84),\n",
        "                                 nn.ReLU(), nn.Dropout(0.5),\n",
        "                                 nn.LazyLinear(num_classes))\n",
        "model = LeNet(lr=0.01)\n",
        "data = d2l.FashionMNIST(batch_size=128, resize=(28, 28))\n",
        "trainer = d2l.Trainer(max_epochs=10, num_gpus=1)\n",
        "trainer.fit(model, data)\n",
        "X,y = next(iter(data.get_dataloader(False)))\n",
        "X = X.to('cuda')\n",
        "y = y.to('cuda')\n",
        "y_hat = model(X)\n",
        "print(f'acc: {model.accuracy(y_hat,y).item():.2f}')"
      ],
      "metadata": {
        "colab": {
          "base_uri": "https://localhost:8080/",
          "height": 284
        },
        "id": "6gYed8A1QwyT",
        "outputId": "84a4c99f-66a9-41ce-d382-37567bd4d645"
      },
      "execution_count": 11,
      "outputs": [
        {
          "output_type": "stream",
          "name": "stdout",
          "text": [
            "acc: 0.75\n"
          ]
        },
        {
          "output_type": "display_data",
          "data": {
            "text/plain": [
              "<Figure size 350x250 with 1 Axes>"
            ],
            "image/svg+xml": "<?xml version=\"1.0\" encoding=\"utf-8\" standalone=\"no\"?>\n<!DOCTYPE svg PUBLIC \"-//W3C//DTD SVG 1.1//EN\"\n  \"http://www.w3.org/Graphics/SVG/1.1/DTD/svg11.dtd\">\n<svg xmlns:xlink=\"http://www.w3.org/1999/xlink\" width=\"238.965625pt\" height=\"183.35625pt\" viewBox=\"0 0 238.965625 183.35625\" xmlns=\"http://www.w3.org/2000/svg\" version=\"1.1\">\n <metadata>\n  <rdf:RDF xmlns:dc=\"http://purl.org/dc/elements/1.1/\" xmlns:cc=\"http://creativecommons.org/ns#\" xmlns:rdf=\"http://www.w3.org/1999/02/22-rdf-syntax-ns#\">\n   <cc:Work>\n    <dc:type rdf:resource=\"http://purl.org/dc/dcmitype/StillImage\"/>\n    <dc:date>2024-10-05T15:20:57.982900</dc:date>\n    <dc:format>image/svg+xml</dc:format>\n    <dc:creator>\n     <cc:Agent>\n      <dc:title>Matplotlib v3.7.2, https://matplotlib.org/</dc:title>\n     </cc:Agent>\n    </dc:creator>\n   </cc:Work>\n  </rdf:RDF>\n </metadata>\n <defs>\n  <style type=\"text/css\">*{stroke-linejoin: round; stroke-linecap: butt}</style>\n </defs>\n <g id=\"figure_1\">\n  <g id=\"patch_1\">\n   <path d=\"M 0 183.35625 \nL 238.965625 183.35625 \nL 238.965625 0 \nL 0 0 \nz\n\" style=\"fill: #ffffff\"/>\n  </g>\n  <g id=\"axes_1\">\n   <g id=\"patch_2\">\n    <path d=\"M 30.103125 145.8 \nL 225.403125 145.8 \nL 225.403125 7.2 \nL 30.103125 7.2 \nz\n\" style=\"fill: #ffffff\"/>\n   </g>\n   <g id=\"matplotlib.axis_1\">\n    <g id=\"xtick_1\">\n     <g id=\"line2d_1\">\n      <defs>\n       <path id=\"m468f04a05a\" d=\"M 0 0 \nL 0 3.5 \n\" style=\"stroke: #000000; stroke-width: 0.8\"/>\n      </defs>\n      <g>\n       <use xlink:href=\"#m468f04a05a\" x=\"30.103125\" y=\"145.8\" style=\"stroke: #000000; stroke-width: 0.8\"/>\n      </g>\n     </g>\n     <g id=\"text_1\">\n      <!-- 0 -->\n      <g transform=\"translate(26.921875 160.398438) scale(0.1 -0.1)\">\n       <defs>\n        <path id=\"DejaVuSans-30\" d=\"M 2034 4250 \nQ 1547 4250 1301 3770 \nQ 1056 3291 1056 2328 \nQ 1056 1369 1301 889 \nQ 1547 409 2034 409 \nQ 2525 409 2770 889 \nQ 3016 1369 3016 2328 \nQ 3016 3291 2770 3770 \nQ 2525 4250 2034 4250 \nz\nM 2034 4750 \nQ 2819 4750 3233 4129 \nQ 3647 3509 3647 2328 \nQ 3647 1150 3233 529 \nQ 2819 -91 2034 -91 \nQ 1250 -91 836 529 \nQ 422 1150 422 2328 \nQ 422 3509 836 4129 \nQ 1250 4750 2034 4750 \nz\n\" transform=\"scale(0.015625)\"/>\n       </defs>\n       <use xlink:href=\"#DejaVuSans-30\"/>\n      </g>\n     </g>\n    </g>\n    <g id=\"xtick_2\">\n     <g id=\"line2d_2\">\n      <g>\n       <use xlink:href=\"#m468f04a05a\" x=\"69.163125\" y=\"145.8\" style=\"stroke: #000000; stroke-width: 0.8\"/>\n      </g>\n     </g>\n     <g id=\"text_2\">\n      <!-- 2 -->\n      <g transform=\"translate(65.981875 160.398438) scale(0.1 -0.1)\">\n       <defs>\n        <path id=\"DejaVuSans-32\" d=\"M 1228 531 \nL 3431 531 \nL 3431 0 \nL 469 0 \nL 469 531 \nQ 828 903 1448 1529 \nQ 2069 2156 2228 2338 \nQ 2531 2678 2651 2914 \nQ 2772 3150 2772 3378 \nQ 2772 3750 2511 3984 \nQ 2250 4219 1831 4219 \nQ 1534 4219 1204 4116 \nQ 875 4013 500 3803 \nL 500 4441 \nQ 881 4594 1212 4672 \nQ 1544 4750 1819 4750 \nQ 2544 4750 2975 4387 \nQ 3406 4025 3406 3419 \nQ 3406 3131 3298 2873 \nQ 3191 2616 2906 2266 \nQ 2828 2175 2409 1742 \nQ 1991 1309 1228 531 \nz\n\" transform=\"scale(0.015625)\"/>\n       </defs>\n       <use xlink:href=\"#DejaVuSans-32\"/>\n      </g>\n     </g>\n    </g>\n    <g id=\"xtick_3\">\n     <g id=\"line2d_3\">\n      <g>\n       <use xlink:href=\"#m468f04a05a\" x=\"108.223125\" y=\"145.8\" style=\"stroke: #000000; stroke-width: 0.8\"/>\n      </g>\n     </g>\n     <g id=\"text_3\">\n      <!-- 4 -->\n      <g transform=\"translate(105.041875 160.398438) scale(0.1 -0.1)\">\n       <defs>\n        <path id=\"DejaVuSans-34\" d=\"M 2419 4116 \nL 825 1625 \nL 2419 1625 \nL 2419 4116 \nz\nM 2253 4666 \nL 3047 4666 \nL 3047 1625 \nL 3713 1625 \nL 3713 1100 \nL 3047 1100 \nL 3047 0 \nL 2419 0 \nL 2419 1100 \nL 313 1100 \nL 313 1709 \nL 2253 4666 \nz\n\" transform=\"scale(0.015625)\"/>\n       </defs>\n       <use xlink:href=\"#DejaVuSans-34\"/>\n      </g>\n     </g>\n    </g>\n    <g id=\"xtick_4\">\n     <g id=\"line2d_4\">\n      <g>\n       <use xlink:href=\"#m468f04a05a\" x=\"147.283125\" y=\"145.8\" style=\"stroke: #000000; stroke-width: 0.8\"/>\n      </g>\n     </g>\n     <g id=\"text_4\">\n      <!-- 6 -->\n      <g transform=\"translate(144.101875 160.398438) scale(0.1 -0.1)\">\n       <defs>\n        <path id=\"DejaVuSans-36\" d=\"M 2113 2584 \nQ 1688 2584 1439 2293 \nQ 1191 2003 1191 1497 \nQ 1191 994 1439 701 \nQ 1688 409 2113 409 \nQ 2538 409 2786 701 \nQ 3034 994 3034 1497 \nQ 3034 2003 2786 2293 \nQ 2538 2584 2113 2584 \nz\nM 3366 4563 \nL 3366 3988 \nQ 3128 4100 2886 4159 \nQ 2644 4219 2406 4219 \nQ 1781 4219 1451 3797 \nQ 1122 3375 1075 2522 \nQ 1259 2794 1537 2939 \nQ 1816 3084 2150 3084 \nQ 2853 3084 3261 2657 \nQ 3669 2231 3669 1497 \nQ 3669 778 3244 343 \nQ 2819 -91 2113 -91 \nQ 1303 -91 875 529 \nQ 447 1150 447 2328 \nQ 447 3434 972 4092 \nQ 1497 4750 2381 4750 \nQ 2619 4750 2861 4703 \nQ 3103 4656 3366 4563 \nz\n\" transform=\"scale(0.015625)\"/>\n       </defs>\n       <use xlink:href=\"#DejaVuSans-36\"/>\n      </g>\n     </g>\n    </g>\n    <g id=\"xtick_5\">\n     <g id=\"line2d_5\">\n      <g>\n       <use xlink:href=\"#m468f04a05a\" x=\"186.343125\" y=\"145.8\" style=\"stroke: #000000; stroke-width: 0.8\"/>\n      </g>\n     </g>\n     <g id=\"text_5\">\n      <!-- 8 -->\n      <g transform=\"translate(183.161875 160.398438) scale(0.1 -0.1)\">\n       <defs>\n        <path id=\"DejaVuSans-38\" d=\"M 2034 2216 \nQ 1584 2216 1326 1975 \nQ 1069 1734 1069 1313 \nQ 1069 891 1326 650 \nQ 1584 409 2034 409 \nQ 2484 409 2743 651 \nQ 3003 894 3003 1313 \nQ 3003 1734 2745 1975 \nQ 2488 2216 2034 2216 \nz\nM 1403 2484 \nQ 997 2584 770 2862 \nQ 544 3141 544 3541 \nQ 544 4100 942 4425 \nQ 1341 4750 2034 4750 \nQ 2731 4750 3128 4425 \nQ 3525 4100 3525 3541 \nQ 3525 3141 3298 2862 \nQ 3072 2584 2669 2484 \nQ 3125 2378 3379 2068 \nQ 3634 1759 3634 1313 \nQ 3634 634 3220 271 \nQ 2806 -91 2034 -91 \nQ 1263 -91 848 271 \nQ 434 634 434 1313 \nQ 434 1759 690 2068 \nQ 947 2378 1403 2484 \nz\nM 1172 3481 \nQ 1172 3119 1398 2916 \nQ 1625 2713 2034 2713 \nQ 2441 2713 2670 2916 \nQ 2900 3119 2900 3481 \nQ 2900 3844 2670 4047 \nQ 2441 4250 2034 4250 \nQ 1625 4250 1398 4047 \nQ 1172 3844 1172 3481 \nz\n\" transform=\"scale(0.015625)\"/>\n       </defs>\n       <use xlink:href=\"#DejaVuSans-38\"/>\n      </g>\n     </g>\n    </g>\n    <g id=\"xtick_6\">\n     <g id=\"line2d_6\">\n      <g>\n       <use xlink:href=\"#m468f04a05a\" x=\"225.403125\" y=\"145.8\" style=\"stroke: #000000; stroke-width: 0.8\"/>\n      </g>\n     </g>\n     <g id=\"text_6\">\n      <!-- 10 -->\n      <g transform=\"translate(219.040625 160.398438) scale(0.1 -0.1)\">\n       <defs>\n        <path id=\"DejaVuSans-31\" d=\"M 794 531 \nL 1825 531 \nL 1825 4091 \nL 703 3866 \nL 703 4441 \nL 1819 4666 \nL 2450 4666 \nL 2450 531 \nL 3481 531 \nL 3481 0 \nL 794 0 \nL 794 531 \nz\n\" transform=\"scale(0.015625)\"/>\n       </defs>\n       <use xlink:href=\"#DejaVuSans-31\"/>\n       <use xlink:href=\"#DejaVuSans-30\" x=\"63.623047\"/>\n      </g>\n     </g>\n    </g>\n    <g id=\"text_7\">\n     <!-- epoch -->\n     <g transform=\"translate(112.525 174.076563) scale(0.1 -0.1)\">\n      <defs>\n       <path id=\"DejaVuSans-65\" d=\"M 3597 1894 \nL 3597 1613 \nL 953 1613 \nQ 991 1019 1311 708 \nQ 1631 397 2203 397 \nQ 2534 397 2845 478 \nQ 3156 559 3463 722 \nL 3463 178 \nQ 3153 47 2828 -22 \nQ 2503 -91 2169 -91 \nQ 1331 -91 842 396 \nQ 353 884 353 1716 \nQ 353 2575 817 3079 \nQ 1281 3584 2069 3584 \nQ 2775 3584 3186 3129 \nQ 3597 2675 3597 1894 \nz\nM 3022 2063 \nQ 3016 2534 2758 2815 \nQ 2500 3097 2075 3097 \nQ 1594 3097 1305 2825 \nQ 1016 2553 972 2059 \nL 3022 2063 \nz\n\" transform=\"scale(0.015625)\"/>\n       <path id=\"DejaVuSans-70\" d=\"M 1159 525 \nL 1159 -1331 \nL 581 -1331 \nL 581 3500 \nL 1159 3500 \nL 1159 2969 \nQ 1341 3281 1617 3432 \nQ 1894 3584 2278 3584 \nQ 2916 3584 3314 3078 \nQ 3713 2572 3713 1747 \nQ 3713 922 3314 415 \nQ 2916 -91 2278 -91 \nQ 1894 -91 1617 61 \nQ 1341 213 1159 525 \nz\nM 3116 1747 \nQ 3116 2381 2855 2742 \nQ 2594 3103 2138 3103 \nQ 1681 3103 1420 2742 \nQ 1159 2381 1159 1747 \nQ 1159 1113 1420 752 \nQ 1681 391 2138 391 \nQ 2594 391 2855 752 \nQ 3116 1113 3116 1747 \nz\n\" transform=\"scale(0.015625)\"/>\n       <path id=\"DejaVuSans-6f\" d=\"M 1959 3097 \nQ 1497 3097 1228 2736 \nQ 959 2375 959 1747 \nQ 959 1119 1226 758 \nQ 1494 397 1959 397 \nQ 2419 397 2687 759 \nQ 2956 1122 2956 1747 \nQ 2956 2369 2687 2733 \nQ 2419 3097 1959 3097 \nz\nM 1959 3584 \nQ 2709 3584 3137 3096 \nQ 3566 2609 3566 1747 \nQ 3566 888 3137 398 \nQ 2709 -91 1959 -91 \nQ 1206 -91 779 398 \nQ 353 888 353 1747 \nQ 353 2609 779 3096 \nQ 1206 3584 1959 3584 \nz\n\" transform=\"scale(0.015625)\"/>\n       <path id=\"DejaVuSans-63\" d=\"M 3122 3366 \nL 3122 2828 \nQ 2878 2963 2633 3030 \nQ 2388 3097 2138 3097 \nQ 1578 3097 1268 2742 \nQ 959 2388 959 1747 \nQ 959 1106 1268 751 \nQ 1578 397 2138 397 \nQ 2388 397 2633 464 \nQ 2878 531 3122 666 \nL 3122 134 \nQ 2881 22 2623 -34 \nQ 2366 -91 2075 -91 \nQ 1284 -91 818 406 \nQ 353 903 353 1747 \nQ 353 2603 823 3093 \nQ 1294 3584 2113 3584 \nQ 2378 3584 2631 3529 \nQ 2884 3475 3122 3366 \nz\n\" transform=\"scale(0.015625)\"/>\n       <path id=\"DejaVuSans-68\" d=\"M 3513 2113 \nL 3513 0 \nL 2938 0 \nL 2938 2094 \nQ 2938 2591 2744 2837 \nQ 2550 3084 2163 3084 \nQ 1697 3084 1428 2787 \nQ 1159 2491 1159 1978 \nL 1159 0 \nL 581 0 \nL 581 4863 \nL 1159 4863 \nL 1159 2956 \nQ 1366 3272 1645 3428 \nQ 1925 3584 2291 3584 \nQ 2894 3584 3203 3211 \nQ 3513 2838 3513 2113 \nz\n\" transform=\"scale(0.015625)\"/>\n      </defs>\n      <use xlink:href=\"#DejaVuSans-65\"/>\n      <use xlink:href=\"#DejaVuSans-70\" x=\"61.523438\"/>\n      <use xlink:href=\"#DejaVuSans-6f\" x=\"125\"/>\n      <use xlink:href=\"#DejaVuSans-63\" x=\"186.181641\"/>\n      <use xlink:href=\"#DejaVuSans-68\" x=\"241.162109\"/>\n     </g>\n    </g>\n   </g>\n   <g id=\"matplotlib.axis_2\">\n    <g id=\"ytick_1\">\n     <g id=\"line2d_7\">\n      <defs>\n       <path id=\"m7392de130f\" d=\"M 0 0 \nL -3.5 0 \n\" style=\"stroke: #000000; stroke-width: 0.8\"/>\n      </defs>\n      <g>\n       <use xlink:href=\"#m7392de130f\" x=\"30.103125\" y=\"121.534988\" style=\"stroke: #000000; stroke-width: 0.8\"/>\n      </g>\n     </g>\n     <g id=\"text_8\">\n      <!-- 0.5 -->\n      <g transform=\"translate(7.2 125.334207) scale(0.1 -0.1)\">\n       <defs>\n        <path id=\"DejaVuSans-2e\" d=\"M 684 794 \nL 1344 794 \nL 1344 0 \nL 684 0 \nL 684 794 \nz\n\" transform=\"scale(0.015625)\"/>\n        <path id=\"DejaVuSans-35\" d=\"M 691 4666 \nL 3169 4666 \nL 3169 4134 \nL 1269 4134 \nL 1269 2991 \nQ 1406 3038 1543 3061 \nQ 1681 3084 1819 3084 \nQ 2600 3084 3056 2656 \nQ 3513 2228 3513 1497 \nQ 3513 744 3044 326 \nQ 2575 -91 1722 -91 \nQ 1428 -91 1123 -41 \nQ 819 9 494 109 \nL 494 744 \nQ 775 591 1075 516 \nQ 1375 441 1709 441 \nQ 2250 441 2565 725 \nQ 2881 1009 2881 1497 \nQ 2881 1984 2565 2268 \nQ 2250 2553 1709 2553 \nQ 1456 2553 1204 2497 \nQ 953 2441 691 2322 \nL 691 4666 \nz\n\" transform=\"scale(0.015625)\"/>\n       </defs>\n       <use xlink:href=\"#DejaVuSans-30\"/>\n       <use xlink:href=\"#DejaVuSans-2e\" x=\"63.623047\"/>\n       <use xlink:href=\"#DejaVuSans-35\" x=\"95.410156\"/>\n      </g>\n     </g>\n    </g>\n    <g id=\"ytick_2\">\n     <g id=\"line2d_8\">\n      <g>\n       <use xlink:href=\"#m7392de130f\" x=\"30.103125\" y=\"91.528017\" style=\"stroke: #000000; stroke-width: 0.8\"/>\n      </g>\n     </g>\n     <g id=\"text_9\">\n      <!-- 1.0 -->\n      <g transform=\"translate(7.2 95.327236) scale(0.1 -0.1)\">\n       <use xlink:href=\"#DejaVuSans-31\"/>\n       <use xlink:href=\"#DejaVuSans-2e\" x=\"63.623047\"/>\n       <use xlink:href=\"#DejaVuSans-30\" x=\"95.410156\"/>\n      </g>\n     </g>\n    </g>\n    <g id=\"ytick_3\">\n     <g id=\"line2d_9\">\n      <g>\n       <use xlink:href=\"#m7392de130f\" x=\"30.103125\" y=\"61.521046\" style=\"stroke: #000000; stroke-width: 0.8\"/>\n      </g>\n     </g>\n     <g id=\"text_10\">\n      <!-- 1.5 -->\n      <g transform=\"translate(7.2 65.320265) scale(0.1 -0.1)\">\n       <use xlink:href=\"#DejaVuSans-31\"/>\n       <use xlink:href=\"#DejaVuSans-2e\" x=\"63.623047\"/>\n       <use xlink:href=\"#DejaVuSans-35\" x=\"95.410156\"/>\n      </g>\n     </g>\n    </g>\n    <g id=\"ytick_4\">\n     <g id=\"line2d_10\">\n      <g>\n       <use xlink:href=\"#m7392de130f\" x=\"30.103125\" y=\"31.514076\" style=\"stroke: #000000; stroke-width: 0.8\"/>\n      </g>\n     </g>\n     <g id=\"text_11\">\n      <!-- 2.0 -->\n      <g transform=\"translate(7.2 35.313294) scale(0.1 -0.1)\">\n       <use xlink:href=\"#DejaVuSans-32\"/>\n       <use xlink:href=\"#DejaVuSans-2e\" x=\"63.623047\"/>\n       <use xlink:href=\"#DejaVuSans-30\" x=\"95.410156\"/>\n      </g>\n     </g>\n    </g>\n   </g>\n   <g id=\"line2d_11\">\n    <path d=\"M 34.954394 13.5 \n\" clip-path=\"url(#p276ca43f5a)\" style=\"fill: none; stroke: #1f77b4; stroke-width: 1.5; stroke-linecap: square\"/>\n   </g>\n   <g id=\"line2d_12\">\n    <path d=\"M 34.954394 13.5 \nL 44.698573 14.331498 \n\" clip-path=\"url(#p276ca43f5a)\" style=\"fill: none; stroke: #1f77b4; stroke-width: 1.5; stroke-linecap: square\"/>\n   </g>\n   <g id=\"line2d_13\">\n    <path d=\"M 34.954394 13.5 \nL 44.698573 14.331498 \n\" clip-path=\"url(#p276ca43f5a)\" style=\"fill: none; stroke: #1f77b4; stroke-width: 1.5; stroke-linecap: square\"/>\n   </g>\n   <g id=\"line2d_14\">\n    <path d=\"M 49.633125 15.394944 \n\" clip-path=\"url(#p276ca43f5a)\" style=\"fill: none; stroke-dasharray: 5.55,2.4; stroke-dashoffset: 0; stroke: #ff7f0e; stroke-width: 1.5\"/>\n   </g>\n   <g id=\"line2d_15\"/>\n   <g id=\"line2d_16\">\n    <path d=\"M 34.954394 13.5 \nL 44.698573 14.331498 \n\" clip-path=\"url(#p276ca43f5a)\" style=\"fill: none; stroke: #1f77b4; stroke-width: 1.5; stroke-linecap: square\"/>\n   </g>\n   <g id=\"line2d_17\">\n    <path d=\"M 49.633125 15.394944 \n\" clip-path=\"url(#p276ca43f5a)\" style=\"fill: none; stroke-dasharray: 5.55,2.4; stroke-dashoffset: 0; stroke: #ff7f0e; stroke-width: 1.5\"/>\n   </g>\n   <g id=\"line2d_18\">\n    <path d=\"M 49.633125 139.5 \n\" clip-path=\"url(#p276ca43f5a)\" style=\"fill: none; stroke-dasharray: 9.6,2.4,1.5,2.4; stroke-dashoffset: 0; stroke: #2ca02c; stroke-width: 1.5\"/>\n   </g>\n   <g id=\"line2d_19\">\n    <path d=\"M 34.954394 13.5 \nL 44.698573 14.331498 \nL 54.442752 17.630226 \n\" clip-path=\"url(#p276ca43f5a)\" style=\"fill: none; stroke: #1f77b4; stroke-width: 1.5; stroke-linecap: square\"/>\n   </g>\n   <g id=\"line2d_20\">\n    <path d=\"M 49.633125 15.394944 \n\" clip-path=\"url(#p276ca43f5a)\" style=\"fill: none; stroke-dasharray: 5.55,2.4; stroke-dashoffset: 0; stroke: #ff7f0e; stroke-width: 1.5\"/>\n   </g>\n   <g id=\"line2d_21\">\n    <path d=\"M 49.633125 139.5 \n\" clip-path=\"url(#p276ca43f5a)\" style=\"fill: none; stroke-dasharray: 9.6,2.4,1.5,2.4; stroke-dashoffset: 0; stroke: #2ca02c; stroke-width: 1.5\"/>\n   </g>\n   <g id=\"line2d_22\">\n    <path d=\"M 34.954394 13.5 \nL 44.698573 14.331498 \nL 54.442752 17.630226 \nL 64.186931 44.307098 \n\" clip-path=\"url(#p276ca43f5a)\" style=\"fill: none; stroke: #1f77b4; stroke-width: 1.5; stroke-linecap: square\"/>\n   </g>\n   <g id=\"line2d_23\">\n    <path d=\"M 49.633125 15.394944 \n\" clip-path=\"url(#p276ca43f5a)\" style=\"fill: none; stroke-dasharray: 5.55,2.4; stroke-dashoffset: 0; stroke: #ff7f0e; stroke-width: 1.5\"/>\n   </g>\n   <g id=\"line2d_24\">\n    <path d=\"M 49.633125 139.5 \n\" clip-path=\"url(#p276ca43f5a)\" style=\"fill: none; stroke-dasharray: 9.6,2.4,1.5,2.4; stroke-dashoffset: 0; stroke: #2ca02c; stroke-width: 1.5\"/>\n   </g>\n   <g id=\"line2d_25\">\n    <path d=\"M 34.954394 13.5 \nL 44.698573 14.331498 \nL 54.442752 17.630226 \nL 64.186931 44.307098 \n\" clip-path=\"url(#p276ca43f5a)\" style=\"fill: none; stroke: #1f77b4; stroke-width: 1.5; stroke-linecap: square\"/>\n   </g>\n   <g id=\"line2d_26\">\n    <path d=\"M 49.633125 15.394944 \nL 69.163125 76.1886 \n\" clip-path=\"url(#p276ca43f5a)\" style=\"fill: none; stroke-dasharray: 5.55,2.4; stroke-dashoffset: 0; stroke: #ff7f0e; stroke-width: 1.5\"/>\n   </g>\n   <g id=\"line2d_27\">\n    <path d=\"M 49.633125 139.5 \n\" clip-path=\"url(#p276ca43f5a)\" style=\"fill: none; stroke-dasharray: 9.6,2.4,1.5,2.4; stroke-dashoffset: 0; stroke: #2ca02c; stroke-width: 1.5\"/>\n   </g>\n   <g id=\"line2d_28\">\n    <path d=\"M 34.954394 13.5 \nL 44.698573 14.331498 \nL 54.442752 17.630226 \nL 64.186931 44.307098 \n\" clip-path=\"url(#p276ca43f5a)\" style=\"fill: none; stroke: #1f77b4; stroke-width: 1.5; stroke-linecap: square\"/>\n   </g>\n   <g id=\"line2d_29\">\n    <path d=\"M 49.633125 15.394944 \nL 69.163125 76.1886 \n\" clip-path=\"url(#p276ca43f5a)\" style=\"fill: none; stroke-dasharray: 5.55,2.4; stroke-dashoffset: 0; stroke: #ff7f0e; stroke-width: 1.5\"/>\n   </g>\n   <g id=\"line2d_30\">\n    <path d=\"M 49.633125 139.5 \nL 69.163125 118.804923 \n\" clip-path=\"url(#p276ca43f5a)\" style=\"fill: none; stroke-dasharray: 9.6,2.4,1.5,2.4; stroke-dashoffset: 0; stroke: #2ca02c; stroke-width: 1.5\"/>\n   </g>\n   <g id=\"line2d_31\">\n    <path d=\"M 34.954394 13.5 \nL 44.698573 14.331498 \nL 54.442752 17.630226 \nL 64.186931 44.307098 \nL 73.93111 72.34207 \n\" clip-path=\"url(#p276ca43f5a)\" style=\"fill: none; stroke: #1f77b4; stroke-width: 1.5; stroke-linecap: square\"/>\n   </g>\n   <g id=\"line2d_32\">\n    <path d=\"M 49.633125 15.394944 \nL 69.163125 76.1886 \n\" clip-path=\"url(#p276ca43f5a)\" style=\"fill: none; stroke-dasharray: 5.55,2.4; stroke-dashoffset: 0; stroke: #ff7f0e; stroke-width: 1.5\"/>\n   </g>\n   <g id=\"line2d_33\">\n    <path d=\"M 49.633125 139.5 \nL 69.163125 118.804923 \n\" clip-path=\"url(#p276ca43f5a)\" style=\"fill: none; stroke-dasharray: 9.6,2.4,1.5,2.4; stroke-dashoffset: 0; stroke: #2ca02c; stroke-width: 1.5\"/>\n   </g>\n   <g id=\"line2d_34\">\n    <path d=\"M 34.954394 13.5 \nL 44.698573 14.331498 \nL 54.442752 17.630226 \nL 64.186931 44.307098 \nL 73.93111 72.34207 \nL 83.675289 81.175619 \n\" clip-path=\"url(#p276ca43f5a)\" style=\"fill: none; stroke: #1f77b4; stroke-width: 1.5; stroke-linecap: square\"/>\n   </g>\n   <g id=\"line2d_35\">\n    <path d=\"M 49.633125 15.394944 \nL 69.163125 76.1886 \n\" clip-path=\"url(#p276ca43f5a)\" style=\"fill: none; stroke-dasharray: 5.55,2.4; stroke-dashoffset: 0; stroke: #ff7f0e; stroke-width: 1.5\"/>\n   </g>\n   <g id=\"line2d_36\">\n    <path d=\"M 49.633125 139.5 \nL 69.163125 118.804923 \n\" clip-path=\"url(#p276ca43f5a)\" style=\"fill: none; stroke-dasharray: 9.6,2.4,1.5,2.4; stroke-dashoffset: 0; stroke: #2ca02c; stroke-width: 1.5\"/>\n   </g>\n   <g id=\"line2d_37\">\n    <path d=\"M 34.954394 13.5 \nL 44.698573 14.331498 \nL 54.442752 17.630226 \nL 64.186931 44.307098 \nL 73.93111 72.34207 \nL 83.675289 81.175619 \n\" clip-path=\"url(#p276ca43f5a)\" style=\"fill: none; stroke: #1f77b4; stroke-width: 1.5; stroke-linecap: square\"/>\n   </g>\n   <g id=\"line2d_38\">\n    <path d=\"M 49.633125 15.394944 \nL 69.163125 76.1886 \nL 88.693125 93.3284 \n\" clip-path=\"url(#p276ca43f5a)\" style=\"fill: none; stroke-dasharray: 5.55,2.4; stroke-dashoffset: 0; stroke: #ff7f0e; stroke-width: 1.5\"/>\n   </g>\n   <g id=\"line2d_39\">\n    <path d=\"M 49.633125 139.5 \nL 69.163125 118.804923 \n\" clip-path=\"url(#p276ca43f5a)\" style=\"fill: none; stroke-dasharray: 9.6,2.4,1.5,2.4; stroke-dashoffset: 0; stroke: #2ca02c; stroke-width: 1.5\"/>\n   </g>\n   <g id=\"line2d_40\">\n    <path d=\"M 34.954394 13.5 \nL 44.698573 14.331498 \nL 54.442752 17.630226 \nL 64.186931 44.307098 \nL 73.93111 72.34207 \nL 83.675289 81.175619 \n\" clip-path=\"url(#p276ca43f5a)\" style=\"fill: none; stroke: #1f77b4; stroke-width: 1.5; stroke-linecap: square\"/>\n   </g>\n   <g id=\"line2d_41\">\n    <path d=\"M 49.633125 15.394944 \nL 69.163125 76.1886 \nL 88.693125 93.3284 \n\" clip-path=\"url(#p276ca43f5a)\" style=\"fill: none; stroke-dasharray: 5.55,2.4; stroke-dashoffset: 0; stroke: #ff7f0e; stroke-width: 1.5\"/>\n   </g>\n   <g id=\"line2d_42\">\n    <path d=\"M 49.633125 139.5 \nL 69.163125 118.804923 \nL 88.693125 114.650477 \n\" clip-path=\"url(#p276ca43f5a)\" style=\"fill: none; stroke-dasharray: 9.6,2.4,1.5,2.4; stroke-dashoffset: 0; stroke: #2ca02c; stroke-width: 1.5\"/>\n   </g>\n   <g id=\"line2d_43\">\n    <path d=\"M 34.954394 13.5 \nL 44.698573 14.331498 \nL 54.442752 17.630226 \nL 64.186931 44.307098 \nL 73.93111 72.34207 \nL 83.675289 81.175619 \nL 93.419468 86.296708 \n\" clip-path=\"url(#p276ca43f5a)\" style=\"fill: none; stroke: #1f77b4; stroke-width: 1.5; stroke-linecap: square\"/>\n   </g>\n   <g id=\"line2d_44\">\n    <path d=\"M 49.633125 15.394944 \nL 69.163125 76.1886 \nL 88.693125 93.3284 \n\" clip-path=\"url(#p276ca43f5a)\" style=\"fill: none; stroke-dasharray: 5.55,2.4; stroke-dashoffset: 0; stroke: #ff7f0e; stroke-width: 1.5\"/>\n   </g>\n   <g id=\"line2d_45\">\n    <path d=\"M 49.633125 139.5 \nL 69.163125 118.804923 \nL 88.693125 114.650477 \n\" clip-path=\"url(#p276ca43f5a)\" style=\"fill: none; stroke-dasharray: 9.6,2.4,1.5,2.4; stroke-dashoffset: 0; stroke: #2ca02c; stroke-width: 1.5\"/>\n   </g>\n   <g id=\"line2d_46\">\n    <path d=\"M 34.954394 13.5 \nL 44.698573 14.331498 \nL 54.442752 17.630226 \nL 64.186931 44.307098 \nL 73.93111 72.34207 \nL 83.675289 81.175619 \nL 93.419468 86.296708 \nL 103.163647 91.116026 \n\" clip-path=\"url(#p276ca43f5a)\" style=\"fill: none; stroke: #1f77b4; stroke-width: 1.5; stroke-linecap: square\"/>\n   </g>\n   <g id=\"line2d_47\">\n    <path d=\"M 49.633125 15.394944 \nL 69.163125 76.1886 \nL 88.693125 93.3284 \n\" clip-path=\"url(#p276ca43f5a)\" style=\"fill: none; stroke-dasharray: 5.55,2.4; stroke-dashoffset: 0; stroke: #ff7f0e; stroke-width: 1.5\"/>\n   </g>\n   <g id=\"line2d_48\">\n    <path d=\"M 49.633125 139.5 \nL 69.163125 118.804923 \nL 88.693125 114.650477 \n\" clip-path=\"url(#p276ca43f5a)\" style=\"fill: none; stroke-dasharray: 9.6,2.4,1.5,2.4; stroke-dashoffset: 0; stroke: #2ca02c; stroke-width: 1.5\"/>\n   </g>\n   <g id=\"line2d_49\">\n    <path d=\"M 34.954394 13.5 \nL 44.698573 14.331498 \nL 54.442752 17.630226 \nL 64.186931 44.307098 \nL 73.93111 72.34207 \nL 83.675289 81.175619 \nL 93.419468 86.296708 \nL 103.163647 91.116026 \n\" clip-path=\"url(#p276ca43f5a)\" style=\"fill: none; stroke: #1f77b4; stroke-width: 1.5; stroke-linecap: square\"/>\n   </g>\n   <g id=\"line2d_50\">\n    <path d=\"M 49.633125 15.394944 \nL 69.163125 76.1886 \nL 88.693125 93.3284 \nL 108.223125 102.59139 \n\" clip-path=\"url(#p276ca43f5a)\" style=\"fill: none; stroke-dasharray: 5.55,2.4; stroke-dashoffset: 0; stroke: #ff7f0e; stroke-width: 1.5\"/>\n   </g>\n   <g id=\"line2d_51\">\n    <path d=\"M 49.633125 139.5 \nL 69.163125 118.804923 \nL 88.693125 114.650477 \n\" clip-path=\"url(#p276ca43f5a)\" style=\"fill: none; stroke-dasharray: 9.6,2.4,1.5,2.4; stroke-dashoffset: 0; stroke: #2ca02c; stroke-width: 1.5\"/>\n   </g>\n   <g id=\"line2d_52\">\n    <path d=\"M 34.954394 13.5 \nL 44.698573 14.331498 \nL 54.442752 17.630226 \nL 64.186931 44.307098 \nL 73.93111 72.34207 \nL 83.675289 81.175619 \nL 93.419468 86.296708 \nL 103.163647 91.116026 \n\" clip-path=\"url(#p276ca43f5a)\" style=\"fill: none; stroke: #1f77b4; stroke-width: 1.5; stroke-linecap: square\"/>\n   </g>\n   <g id=\"line2d_53\">\n    <path d=\"M 49.633125 15.394944 \nL 69.163125 76.1886 \nL 88.693125 93.3284 \nL 108.223125 102.59139 \n\" clip-path=\"url(#p276ca43f5a)\" style=\"fill: none; stroke-dasharray: 5.55,2.4; stroke-dashoffset: 0; stroke: #ff7f0e; stroke-width: 1.5\"/>\n   </g>\n   <g id=\"line2d_54\">\n    <path d=\"M 49.633125 139.5 \nL 69.163125 118.804923 \nL 88.693125 114.650477 \nL 108.223125 109.46929 \n\" clip-path=\"url(#p276ca43f5a)\" style=\"fill: none; stroke-dasharray: 9.6,2.4,1.5,2.4; stroke-dashoffset: 0; stroke: #2ca02c; stroke-width: 1.5\"/>\n   </g>\n   <g id=\"line2d_55\">\n    <path d=\"M 34.954394 13.5 \nL 44.698573 14.331498 \nL 54.442752 17.630226 \nL 64.186931 44.307098 \nL 73.93111 72.34207 \nL 83.675289 81.175619 \nL 93.419468 86.296708 \nL 103.163647 91.116026 \nL 112.907826 94.509004 \n\" clip-path=\"url(#p276ca43f5a)\" style=\"fill: none; stroke: #1f77b4; stroke-width: 1.5; stroke-linecap: square\"/>\n   </g>\n   <g id=\"line2d_56\">\n    <path d=\"M 49.633125 15.394944 \nL 69.163125 76.1886 \nL 88.693125 93.3284 \nL 108.223125 102.59139 \n\" clip-path=\"url(#p276ca43f5a)\" style=\"fill: none; stroke-dasharray: 5.55,2.4; stroke-dashoffset: 0; stroke: #ff7f0e; stroke-width: 1.5\"/>\n   </g>\n   <g id=\"line2d_57\">\n    <path d=\"M 49.633125 139.5 \nL 69.163125 118.804923 \nL 88.693125 114.650477 \nL 108.223125 109.46929 \n\" clip-path=\"url(#p276ca43f5a)\" style=\"fill: none; stroke-dasharray: 9.6,2.4,1.5,2.4; stroke-dashoffset: 0; stroke: #2ca02c; stroke-width: 1.5\"/>\n   </g>\n   <g id=\"line2d_58\">\n    <path d=\"M 34.954394 13.5 \nL 44.698573 14.331498 \nL 54.442752 17.630226 \nL 64.186931 44.307098 \nL 73.93111 72.34207 \nL 83.675289 81.175619 \nL 93.419468 86.296708 \nL 103.163647 91.116026 \nL 112.907826 94.509004 \nL 122.652006 96.947598 \n\" clip-path=\"url(#p276ca43f5a)\" style=\"fill: none; stroke: #1f77b4; stroke-width: 1.5; stroke-linecap: square\"/>\n   </g>\n   <g id=\"line2d_59\">\n    <path d=\"M 49.633125 15.394944 \nL 69.163125 76.1886 \nL 88.693125 93.3284 \nL 108.223125 102.59139 \n\" clip-path=\"url(#p276ca43f5a)\" style=\"fill: none; stroke-dasharray: 5.55,2.4; stroke-dashoffset: 0; stroke: #ff7f0e; stroke-width: 1.5\"/>\n   </g>\n   <g id=\"line2d_60\">\n    <path d=\"M 49.633125 139.5 \nL 69.163125 118.804923 \nL 88.693125 114.650477 \nL 108.223125 109.46929 \n\" clip-path=\"url(#p276ca43f5a)\" style=\"fill: none; stroke-dasharray: 9.6,2.4,1.5,2.4; stroke-dashoffset: 0; stroke: #2ca02c; stroke-width: 1.5\"/>\n   </g>\n   <g id=\"line2d_61\">\n    <path d=\"M 34.954394 13.5 \nL 44.698573 14.331498 \nL 54.442752 17.630226 \nL 64.186931 44.307098 \nL 73.93111 72.34207 \nL 83.675289 81.175619 \nL 93.419468 86.296708 \nL 103.163647 91.116026 \nL 112.907826 94.509004 \nL 122.652006 96.947598 \n\" clip-path=\"url(#p276ca43f5a)\" style=\"fill: none; stroke: #1f77b4; stroke-width: 1.5; stroke-linecap: square\"/>\n   </g>\n   <g id=\"line2d_62\">\n    <path d=\"M 49.633125 15.394944 \nL 69.163125 76.1886 \nL 88.693125 93.3284 \nL 108.223125 102.59139 \nL 127.753125 106.951486 \n\" clip-path=\"url(#p276ca43f5a)\" style=\"fill: none; stroke-dasharray: 5.55,2.4; stroke-dashoffset: 0; stroke: #ff7f0e; stroke-width: 1.5\"/>\n   </g>\n   <g id=\"line2d_63\">\n    <path d=\"M 49.633125 139.5 \nL 69.163125 118.804923 \nL 88.693125 114.650477 \nL 108.223125 109.46929 \n\" clip-path=\"url(#p276ca43f5a)\" style=\"fill: none; stroke-dasharray: 9.6,2.4,1.5,2.4; stroke-dashoffset: 0; stroke: #2ca02c; stroke-width: 1.5\"/>\n   </g>\n   <g id=\"line2d_64\">\n    <path d=\"M 34.954394 13.5 \nL 44.698573 14.331498 \nL 54.442752 17.630226 \nL 64.186931 44.307098 \nL 73.93111 72.34207 \nL 83.675289 81.175619 \nL 93.419468 86.296708 \nL 103.163647 91.116026 \nL 112.907826 94.509004 \nL 122.652006 96.947598 \n\" clip-path=\"url(#p276ca43f5a)\" style=\"fill: none; stroke: #1f77b4; stroke-width: 1.5; stroke-linecap: square\"/>\n   </g>\n   <g id=\"line2d_65\">\n    <path d=\"M 49.633125 15.394944 \nL 69.163125 76.1886 \nL 88.693125 93.3284 \nL 108.223125 102.59139 \nL 127.753125 106.951486 \n\" clip-path=\"url(#p276ca43f5a)\" style=\"fill: none; stroke-dasharray: 5.55,2.4; stroke-dashoffset: 0; stroke: #ff7f0e; stroke-width: 1.5\"/>\n   </g>\n   <g id=\"line2d_66\">\n    <path d=\"M 49.633125 139.5 \nL 69.163125 118.804923 \nL 88.693125 114.650477 \nL 108.223125 109.46929 \nL 127.753125 108.270435 \n\" clip-path=\"url(#p276ca43f5a)\" style=\"fill: none; stroke-dasharray: 9.6,2.4,1.5,2.4; stroke-dashoffset: 0; stroke: #2ca02c; stroke-width: 1.5\"/>\n   </g>\n   <g id=\"line2d_67\">\n    <path d=\"M 34.954394 13.5 \nL 44.698573 14.331498 \nL 54.442752 17.630226 \nL 64.186931 44.307098 \nL 73.93111 72.34207 \nL 83.675289 81.175619 \nL 93.419468 86.296708 \nL 103.163647 91.116026 \nL 112.907826 94.509004 \nL 122.652006 96.947598 \nL 132.396185 99.100869 \n\" clip-path=\"url(#p276ca43f5a)\" style=\"fill: none; stroke: #1f77b4; stroke-width: 1.5; stroke-linecap: square\"/>\n   </g>\n   <g id=\"line2d_68\">\n    <path d=\"M 49.633125 15.394944 \nL 69.163125 76.1886 \nL 88.693125 93.3284 \nL 108.223125 102.59139 \nL 127.753125 106.951486 \n\" clip-path=\"url(#p276ca43f5a)\" style=\"fill: none; stroke-dasharray: 5.55,2.4; stroke-dashoffset: 0; stroke: #ff7f0e; stroke-width: 1.5\"/>\n   </g>\n   <g id=\"line2d_69\">\n    <path d=\"M 49.633125 139.5 \nL 69.163125 118.804923 \nL 88.693125 114.650477 \nL 108.223125 109.46929 \nL 127.753125 108.270435 \n\" clip-path=\"url(#p276ca43f5a)\" style=\"fill: none; stroke-dasharray: 9.6,2.4,1.5,2.4; stroke-dashoffset: 0; stroke: #2ca02c; stroke-width: 1.5\"/>\n   </g>\n   <g id=\"line2d_70\">\n    <path d=\"M 34.954394 13.5 \nL 44.698573 14.331498 \nL 54.442752 17.630226 \nL 64.186931 44.307098 \nL 73.93111 72.34207 \nL 83.675289 81.175619 \nL 93.419468 86.296708 \nL 103.163647 91.116026 \nL 112.907826 94.509004 \nL 122.652006 96.947598 \nL 132.396185 99.100869 \nL 142.140364 100.829386 \n\" clip-path=\"url(#p276ca43f5a)\" style=\"fill: none; stroke: #1f77b4; stroke-width: 1.5; stroke-linecap: square\"/>\n   </g>\n   <g id=\"line2d_71\">\n    <path d=\"M 49.633125 15.394944 \nL 69.163125 76.1886 \nL 88.693125 93.3284 \nL 108.223125 102.59139 \nL 127.753125 106.951486 \n\" clip-path=\"url(#p276ca43f5a)\" style=\"fill: none; stroke-dasharray: 5.55,2.4; stroke-dashoffset: 0; stroke: #ff7f0e; stroke-width: 1.5\"/>\n   </g>\n   <g id=\"line2d_72\">\n    <path d=\"M 49.633125 139.5 \nL 69.163125 118.804923 \nL 88.693125 114.650477 \nL 108.223125 109.46929 \nL 127.753125 108.270435 \n\" clip-path=\"url(#p276ca43f5a)\" style=\"fill: none; stroke-dasharray: 9.6,2.4,1.5,2.4; stroke-dashoffset: 0; stroke: #2ca02c; stroke-width: 1.5\"/>\n   </g>\n   <g id=\"line2d_73\">\n    <path d=\"M 34.954394 13.5 \nL 44.698573 14.331498 \nL 54.442752 17.630226 \nL 64.186931 44.307098 \nL 73.93111 72.34207 \nL 83.675289 81.175619 \nL 93.419468 86.296708 \nL 103.163647 91.116026 \nL 112.907826 94.509004 \nL 122.652006 96.947598 \nL 132.396185 99.100869 \nL 142.140364 100.829386 \n\" clip-path=\"url(#p276ca43f5a)\" style=\"fill: none; stroke: #1f77b4; stroke-width: 1.5; stroke-linecap: square\"/>\n   </g>\n   <g id=\"line2d_74\">\n    <path d=\"M 49.633125 15.394944 \nL 69.163125 76.1886 \nL 88.693125 93.3284 \nL 108.223125 102.59139 \nL 127.753125 106.951486 \nL 147.283125 109.137138 \n\" clip-path=\"url(#p276ca43f5a)\" style=\"fill: none; stroke-dasharray: 5.55,2.4; stroke-dashoffset: 0; stroke: #ff7f0e; stroke-width: 1.5\"/>\n   </g>\n   <g id=\"line2d_75\">\n    <path d=\"M 49.633125 139.5 \nL 69.163125 118.804923 \nL 88.693125 114.650477 \nL 108.223125 109.46929 \nL 127.753125 108.270435 \n\" clip-path=\"url(#p276ca43f5a)\" style=\"fill: none; stroke-dasharray: 9.6,2.4,1.5,2.4; stroke-dashoffset: 0; stroke: #2ca02c; stroke-width: 1.5\"/>\n   </g>\n   <g id=\"line2d_76\">\n    <path d=\"M 34.954394 13.5 \nL 44.698573 14.331498 \nL 54.442752 17.630226 \nL 64.186931 44.307098 \nL 73.93111 72.34207 \nL 83.675289 81.175619 \nL 93.419468 86.296708 \nL 103.163647 91.116026 \nL 112.907826 94.509004 \nL 122.652006 96.947598 \nL 132.396185 99.100869 \nL 142.140364 100.829386 \n\" clip-path=\"url(#p276ca43f5a)\" style=\"fill: none; stroke: #1f77b4; stroke-width: 1.5; stroke-linecap: square\"/>\n   </g>\n   <g id=\"line2d_77\">\n    <path d=\"M 49.633125 15.394944 \nL 69.163125 76.1886 \nL 88.693125 93.3284 \nL 108.223125 102.59139 \nL 127.753125 106.951486 \nL 147.283125 109.137138 \n\" clip-path=\"url(#p276ca43f5a)\" style=\"fill: none; stroke-dasharray: 5.55,2.4; stroke-dashoffset: 0; stroke: #ff7f0e; stroke-width: 1.5\"/>\n   </g>\n   <g id=\"line2d_78\">\n    <path d=\"M 49.633125 139.5 \nL 69.163125 118.804923 \nL 88.693125 114.650477 \nL 108.223125 109.46929 \nL 127.753125 108.270435 \nL 147.283125 108.003364 \n\" clip-path=\"url(#p276ca43f5a)\" style=\"fill: none; stroke-dasharray: 9.6,2.4,1.5,2.4; stroke-dashoffset: 0; stroke: #2ca02c; stroke-width: 1.5\"/>\n   </g>\n   <g id=\"line2d_79\">\n    <path d=\"M 34.954394 13.5 \nL 44.698573 14.331498 \nL 54.442752 17.630226 \nL 64.186931 44.307098 \nL 73.93111 72.34207 \nL 83.675289 81.175619 \nL 93.419468 86.296708 \nL 103.163647 91.116026 \nL 112.907826 94.509004 \nL 122.652006 96.947598 \nL 132.396185 99.100869 \nL 142.140364 100.829386 \nL 151.884543 102.30053 \n\" clip-path=\"url(#p276ca43f5a)\" style=\"fill: none; stroke: #1f77b4; stroke-width: 1.5; stroke-linecap: square\"/>\n   </g>\n   <g id=\"line2d_80\">\n    <path d=\"M 49.633125 15.394944 \nL 69.163125 76.1886 \nL 88.693125 93.3284 \nL 108.223125 102.59139 \nL 127.753125 106.951486 \nL 147.283125 109.137138 \n\" clip-path=\"url(#p276ca43f5a)\" style=\"fill: none; stroke-dasharray: 5.55,2.4; stroke-dashoffset: 0; stroke: #ff7f0e; stroke-width: 1.5\"/>\n   </g>\n   <g id=\"line2d_81\">\n    <path d=\"M 49.633125 139.5 \nL 69.163125 118.804923 \nL 88.693125 114.650477 \nL 108.223125 109.46929 \nL 127.753125 108.270435 \nL 147.283125 108.003364 \n\" clip-path=\"url(#p276ca43f5a)\" style=\"fill: none; stroke-dasharray: 9.6,2.4,1.5,2.4; stroke-dashoffset: 0; stroke: #2ca02c; stroke-width: 1.5\"/>\n   </g>\n   <g id=\"line2d_82\">\n    <path d=\"M 34.954394 13.5 \nL 44.698573 14.331498 \nL 54.442752 17.630226 \nL 64.186931 44.307098 \nL 73.93111 72.34207 \nL 83.675289 81.175619 \nL 93.419468 86.296708 \nL 103.163647 91.116026 \nL 112.907826 94.509004 \nL 122.652006 96.947598 \nL 132.396185 99.100869 \nL 142.140364 100.829386 \nL 151.884543 102.30053 \nL 161.628722 103.519918 \n\" clip-path=\"url(#p276ca43f5a)\" style=\"fill: none; stroke: #1f77b4; stroke-width: 1.5; stroke-linecap: square\"/>\n   </g>\n   <g id=\"line2d_83\">\n    <path d=\"M 49.633125 15.394944 \nL 69.163125 76.1886 \nL 88.693125 93.3284 \nL 108.223125 102.59139 \nL 127.753125 106.951486 \nL 147.283125 109.137138 \n\" clip-path=\"url(#p276ca43f5a)\" style=\"fill: none; stroke-dasharray: 5.55,2.4; stroke-dashoffset: 0; stroke: #ff7f0e; stroke-width: 1.5\"/>\n   </g>\n   <g id=\"line2d_84\">\n    <path d=\"M 49.633125 139.5 \nL 69.163125 118.804923 \nL 88.693125 114.650477 \nL 108.223125 109.46929 \nL 127.753125 108.270435 \nL 147.283125 108.003364 \n\" clip-path=\"url(#p276ca43f5a)\" style=\"fill: none; stroke-dasharray: 9.6,2.4,1.5,2.4; stroke-dashoffset: 0; stroke: #2ca02c; stroke-width: 1.5\"/>\n   </g>\n   <g id=\"line2d_85\">\n    <path d=\"M 34.954394 13.5 \nL 44.698573 14.331498 \nL 54.442752 17.630226 \nL 64.186931 44.307098 \nL 73.93111 72.34207 \nL 83.675289 81.175619 \nL 93.419468 86.296708 \nL 103.163647 91.116026 \nL 112.907826 94.509004 \nL 122.652006 96.947598 \nL 132.396185 99.100869 \nL 142.140364 100.829386 \nL 151.884543 102.30053 \nL 161.628722 103.519918 \n\" clip-path=\"url(#p276ca43f5a)\" style=\"fill: none; stroke: #1f77b4; stroke-width: 1.5; stroke-linecap: square\"/>\n   </g>\n   <g id=\"line2d_86\">\n    <path d=\"M 49.633125 15.394944 \nL 69.163125 76.1886 \nL 88.693125 93.3284 \nL 108.223125 102.59139 \nL 127.753125 106.951486 \nL 147.283125 109.137138 \nL 166.813125 111.614133 \n\" clip-path=\"url(#p276ca43f5a)\" style=\"fill: none; stroke-dasharray: 5.55,2.4; stroke-dashoffset: 0; stroke: #ff7f0e; stroke-width: 1.5\"/>\n   </g>\n   <g id=\"line2d_87\">\n    <path d=\"M 49.633125 139.5 \nL 69.163125 118.804923 \nL 88.693125 114.650477 \nL 108.223125 109.46929 \nL 127.753125 108.270435 \nL 147.283125 108.003364 \n\" clip-path=\"url(#p276ca43f5a)\" style=\"fill: none; stroke-dasharray: 9.6,2.4,1.5,2.4; stroke-dashoffset: 0; stroke: #2ca02c; stroke-width: 1.5\"/>\n   </g>\n   <g id=\"line2d_88\">\n    <path d=\"M 34.954394 13.5 \nL 44.698573 14.331498 \nL 54.442752 17.630226 \nL 64.186931 44.307098 \nL 73.93111 72.34207 \nL 83.675289 81.175619 \nL 93.419468 86.296708 \nL 103.163647 91.116026 \nL 112.907826 94.509004 \nL 122.652006 96.947598 \nL 132.396185 99.100869 \nL 142.140364 100.829386 \nL 151.884543 102.30053 \nL 161.628722 103.519918 \n\" clip-path=\"url(#p276ca43f5a)\" style=\"fill: none; stroke: #1f77b4; stroke-width: 1.5; stroke-linecap: square\"/>\n   </g>\n   <g id=\"line2d_89\">\n    <path d=\"M 49.633125 15.394944 \nL 69.163125 76.1886 \nL 88.693125 93.3284 \nL 108.223125 102.59139 \nL 127.753125 106.951486 \nL 147.283125 109.137138 \nL 166.813125 111.614133 \n\" clip-path=\"url(#p276ca43f5a)\" style=\"fill: none; stroke-dasharray: 5.55,2.4; stroke-dashoffset: 0; stroke: #ff7f0e; stroke-width: 1.5\"/>\n   </g>\n   <g id=\"line2d_90\">\n    <path d=\"M 49.633125 139.5 \nL 69.163125 118.804923 \nL 88.693125 114.650477 \nL 108.223125 109.46929 \nL 127.753125 108.270435 \nL 147.283125 108.003364 \nL 166.813125 107.059711 \n\" clip-path=\"url(#p276ca43f5a)\" style=\"fill: none; stroke-dasharray: 9.6,2.4,1.5,2.4; stroke-dashoffset: 0; stroke: #2ca02c; stroke-width: 1.5\"/>\n   </g>\n   <g id=\"line2d_91\">\n    <path d=\"M 34.954394 13.5 \nL 44.698573 14.331498 \nL 54.442752 17.630226 \nL 64.186931 44.307098 \nL 73.93111 72.34207 \nL 83.675289 81.175619 \nL 93.419468 86.296708 \nL 103.163647 91.116026 \nL 112.907826 94.509004 \nL 122.652006 96.947598 \nL 132.396185 99.100869 \nL 142.140364 100.829386 \nL 151.884543 102.30053 \nL 161.628722 103.519918 \nL 171.372901 104.357972 \n\" clip-path=\"url(#p276ca43f5a)\" style=\"fill: none; stroke: #1f77b4; stroke-width: 1.5; stroke-linecap: square\"/>\n   </g>\n   <g id=\"line2d_92\">\n    <path d=\"M 49.633125 15.394944 \nL 69.163125 76.1886 \nL 88.693125 93.3284 \nL 108.223125 102.59139 \nL 127.753125 106.951486 \nL 147.283125 109.137138 \nL 166.813125 111.614133 \n\" clip-path=\"url(#p276ca43f5a)\" style=\"fill: none; stroke-dasharray: 5.55,2.4; stroke-dashoffset: 0; stroke: #ff7f0e; stroke-width: 1.5\"/>\n   </g>\n   <g id=\"line2d_93\">\n    <path d=\"M 49.633125 139.5 \nL 69.163125 118.804923 \nL 88.693125 114.650477 \nL 108.223125 109.46929 \nL 127.753125 108.270435 \nL 147.283125 108.003364 \nL 166.813125 107.059711 \n\" clip-path=\"url(#p276ca43f5a)\" style=\"fill: none; stroke-dasharray: 9.6,2.4,1.5,2.4; stroke-dashoffset: 0; stroke: #2ca02c; stroke-width: 1.5\"/>\n   </g>\n   <g id=\"line2d_94\">\n    <path d=\"M 34.954394 13.5 \nL 44.698573 14.331498 \nL 54.442752 17.630226 \nL 64.186931 44.307098 \nL 73.93111 72.34207 \nL 83.675289 81.175619 \nL 93.419468 86.296708 \nL 103.163647 91.116026 \nL 112.907826 94.509004 \nL 122.652006 96.947598 \nL 132.396185 99.100869 \nL 142.140364 100.829386 \nL 151.884543 102.30053 \nL 161.628722 103.519918 \nL 171.372901 104.357972 \nL 181.11708 105.477508 \n\" clip-path=\"url(#p276ca43f5a)\" style=\"fill: none; stroke: #1f77b4; stroke-width: 1.5; stroke-linecap: square\"/>\n   </g>\n   <g id=\"line2d_95\">\n    <path d=\"M 49.633125 15.394944 \nL 69.163125 76.1886 \nL 88.693125 93.3284 \nL 108.223125 102.59139 \nL 127.753125 106.951486 \nL 147.283125 109.137138 \nL 166.813125 111.614133 \n\" clip-path=\"url(#p276ca43f5a)\" style=\"fill: none; stroke-dasharray: 5.55,2.4; stroke-dashoffset: 0; stroke: #ff7f0e; stroke-width: 1.5\"/>\n   </g>\n   <g id=\"line2d_96\">\n    <path d=\"M 49.633125 139.5 \nL 69.163125 118.804923 \nL 88.693125 114.650477 \nL 108.223125 109.46929 \nL 127.753125 108.270435 \nL 147.283125 108.003364 \nL 166.813125 107.059711 \n\" clip-path=\"url(#p276ca43f5a)\" style=\"fill: none; stroke-dasharray: 9.6,2.4,1.5,2.4; stroke-dashoffset: 0; stroke: #2ca02c; stroke-width: 1.5\"/>\n   </g>\n   <g id=\"line2d_97\">\n    <path d=\"M 34.954394 13.5 \nL 44.698573 14.331498 \nL 54.442752 17.630226 \nL 64.186931 44.307098 \nL 73.93111 72.34207 \nL 83.675289 81.175619 \nL 93.419468 86.296708 \nL 103.163647 91.116026 \nL 112.907826 94.509004 \nL 122.652006 96.947598 \nL 132.396185 99.100869 \nL 142.140364 100.829386 \nL 151.884543 102.30053 \nL 161.628722 103.519918 \nL 171.372901 104.357972 \nL 181.11708 105.477508 \n\" clip-path=\"url(#p276ca43f5a)\" style=\"fill: none; stroke: #1f77b4; stroke-width: 1.5; stroke-linecap: square\"/>\n   </g>\n   <g id=\"line2d_98\">\n    <path d=\"M 49.633125 15.394944 \nL 69.163125 76.1886 \nL 88.693125 93.3284 \nL 108.223125 102.59139 \nL 127.753125 106.951486 \nL 147.283125 109.137138 \nL 166.813125 111.614133 \nL 186.343125 112.453833 \n\" clip-path=\"url(#p276ca43f5a)\" style=\"fill: none; stroke-dasharray: 5.55,2.4; stroke-dashoffset: 0; stroke: #ff7f0e; stroke-width: 1.5\"/>\n   </g>\n   <g id=\"line2d_99\">\n    <path d=\"M 49.633125 139.5 \nL 69.163125 118.804923 \nL 88.693125 114.650477 \nL 108.223125 109.46929 \nL 127.753125 108.270435 \nL 147.283125 108.003364 \nL 166.813125 107.059711 \n\" clip-path=\"url(#p276ca43f5a)\" style=\"fill: none; stroke-dasharray: 9.6,2.4,1.5,2.4; stroke-dashoffset: 0; stroke: #2ca02c; stroke-width: 1.5\"/>\n   </g>\n   <g id=\"line2d_100\">\n    <path d=\"M 34.954394 13.5 \nL 44.698573 14.331498 \nL 54.442752 17.630226 \nL 64.186931 44.307098 \nL 73.93111 72.34207 \nL 83.675289 81.175619 \nL 93.419468 86.296708 \nL 103.163647 91.116026 \nL 112.907826 94.509004 \nL 122.652006 96.947598 \nL 132.396185 99.100869 \nL 142.140364 100.829386 \nL 151.884543 102.30053 \nL 161.628722 103.519918 \nL 171.372901 104.357972 \nL 181.11708 105.477508 \n\" clip-path=\"url(#p276ca43f5a)\" style=\"fill: none; stroke: #1f77b4; stroke-width: 1.5; stroke-linecap: square\"/>\n   </g>\n   <g id=\"line2d_101\">\n    <path d=\"M 49.633125 15.394944 \nL 69.163125 76.1886 \nL 88.693125 93.3284 \nL 108.223125 102.59139 \nL 127.753125 106.951486 \nL 147.283125 109.137138 \nL 166.813125 111.614133 \nL 186.343125 112.453833 \n\" clip-path=\"url(#p276ca43f5a)\" style=\"fill: none; stroke-dasharray: 5.55,2.4; stroke-dashoffset: 0; stroke: #ff7f0e; stroke-width: 1.5\"/>\n   </g>\n   <g id=\"line2d_102\">\n    <path d=\"M 49.633125 139.5 \nL 69.163125 118.804923 \nL 88.693125 114.650477 \nL 108.223125 109.46929 \nL 127.753125 108.270435 \nL 147.283125 108.003364 \nL 166.813125 107.059711 \nL 186.343125 107.160604 \n\" clip-path=\"url(#p276ca43f5a)\" style=\"fill: none; stroke-dasharray: 9.6,2.4,1.5,2.4; stroke-dashoffset: 0; stroke: #2ca02c; stroke-width: 1.5\"/>\n   </g>\n   <g id=\"line2d_103\">\n    <path d=\"M 34.954394 13.5 \nL 44.698573 14.331498 \nL 54.442752 17.630226 \nL 64.186931 44.307098 \nL 73.93111 72.34207 \nL 83.675289 81.175619 \nL 93.419468 86.296708 \nL 103.163647 91.116026 \nL 112.907826 94.509004 \nL 122.652006 96.947598 \nL 132.396185 99.100869 \nL 142.140364 100.829386 \nL 151.884543 102.30053 \nL 161.628722 103.519918 \nL 171.372901 104.357972 \nL 181.11708 105.477508 \nL 190.861259 106.230522 \n\" clip-path=\"url(#p276ca43f5a)\" style=\"fill: none; stroke: #1f77b4; stroke-width: 1.5; stroke-linecap: square\"/>\n   </g>\n   <g id=\"line2d_104\">\n    <path d=\"M 49.633125 15.394944 \nL 69.163125 76.1886 \nL 88.693125 93.3284 \nL 108.223125 102.59139 \nL 127.753125 106.951486 \nL 147.283125 109.137138 \nL 166.813125 111.614133 \nL 186.343125 112.453833 \n\" clip-path=\"url(#p276ca43f5a)\" style=\"fill: none; stroke-dasharray: 5.55,2.4; stroke-dashoffset: 0; stroke: #ff7f0e; stroke-width: 1.5\"/>\n   </g>\n   <g id=\"line2d_105\">\n    <path d=\"M 49.633125 139.5 \nL 69.163125 118.804923 \nL 88.693125 114.650477 \nL 108.223125 109.46929 \nL 127.753125 108.270435 \nL 147.283125 108.003364 \nL 166.813125 107.059711 \nL 186.343125 107.160604 \n\" clip-path=\"url(#p276ca43f5a)\" style=\"fill: none; stroke-dasharray: 9.6,2.4,1.5,2.4; stroke-dashoffset: 0; stroke: #2ca02c; stroke-width: 1.5\"/>\n   </g>\n   <g id=\"line2d_106\">\n    <path d=\"M 34.954394 13.5 \nL 44.698573 14.331498 \nL 54.442752 17.630226 \nL 64.186931 44.307098 \nL 73.93111 72.34207 \nL 83.675289 81.175619 \nL 93.419468 86.296708 \nL 103.163647 91.116026 \nL 112.907826 94.509004 \nL 122.652006 96.947598 \nL 132.396185 99.100869 \nL 142.140364 100.829386 \nL 151.884543 102.30053 \nL 161.628722 103.519918 \nL 171.372901 104.357972 \nL 181.11708 105.477508 \nL 190.861259 106.230522 \nL 200.605438 106.912509 \n\" clip-path=\"url(#p276ca43f5a)\" style=\"fill: none; stroke: #1f77b4; stroke-width: 1.5; stroke-linecap: square\"/>\n   </g>\n   <g id=\"line2d_107\">\n    <path d=\"M 49.633125 15.394944 \nL 69.163125 76.1886 \nL 88.693125 93.3284 \nL 108.223125 102.59139 \nL 127.753125 106.951486 \nL 147.283125 109.137138 \nL 166.813125 111.614133 \nL 186.343125 112.453833 \n\" clip-path=\"url(#p276ca43f5a)\" style=\"fill: none; stroke-dasharray: 5.55,2.4; stroke-dashoffset: 0; stroke: #ff7f0e; stroke-width: 1.5\"/>\n   </g>\n   <g id=\"line2d_108\">\n    <path d=\"M 49.633125 139.5 \nL 69.163125 118.804923 \nL 88.693125 114.650477 \nL 108.223125 109.46929 \nL 127.753125 108.270435 \nL 147.283125 108.003364 \nL 166.813125 107.059711 \nL 186.343125 107.160604 \n\" clip-path=\"url(#p276ca43f5a)\" style=\"fill: none; stroke-dasharray: 9.6,2.4,1.5,2.4; stroke-dashoffset: 0; stroke: #2ca02c; stroke-width: 1.5\"/>\n   </g>\n   <g id=\"line2d_109\">\n    <path d=\"M 34.954394 13.5 \nL 44.698573 14.331498 \nL 54.442752 17.630226 \nL 64.186931 44.307098 \nL 73.93111 72.34207 \nL 83.675289 81.175619 \nL 93.419468 86.296708 \nL 103.163647 91.116026 \nL 112.907826 94.509004 \nL 122.652006 96.947598 \nL 132.396185 99.100869 \nL 142.140364 100.829386 \nL 151.884543 102.30053 \nL 161.628722 103.519918 \nL 171.372901 104.357972 \nL 181.11708 105.477508 \nL 190.861259 106.230522 \nL 200.605438 106.912509 \n\" clip-path=\"url(#p276ca43f5a)\" style=\"fill: none; stroke: #1f77b4; stroke-width: 1.5; stroke-linecap: square\"/>\n   </g>\n   <g id=\"line2d_110\">\n    <path d=\"M 49.633125 15.394944 \nL 69.163125 76.1886 \nL 88.693125 93.3284 \nL 108.223125 102.59139 \nL 127.753125 106.951486 \nL 147.283125 109.137138 \nL 166.813125 111.614133 \nL 186.343125 112.453833 \nL 205.873125 113.91485 \n\" clip-path=\"url(#p276ca43f5a)\" style=\"fill: none; stroke-dasharray: 5.55,2.4; stroke-dashoffset: 0; stroke: #ff7f0e; stroke-width: 1.5\"/>\n   </g>\n   <g id=\"line2d_111\">\n    <path d=\"M 49.633125 139.5 \nL 69.163125 118.804923 \nL 88.693125 114.650477 \nL 108.223125 109.46929 \nL 127.753125 108.270435 \nL 147.283125 108.003364 \nL 166.813125 107.059711 \nL 186.343125 107.160604 \n\" clip-path=\"url(#p276ca43f5a)\" style=\"fill: none; stroke-dasharray: 9.6,2.4,1.5,2.4; stroke-dashoffset: 0; stroke: #2ca02c; stroke-width: 1.5\"/>\n   </g>\n   <g id=\"line2d_112\">\n    <path d=\"M 34.954394 13.5 \nL 44.698573 14.331498 \nL 54.442752 17.630226 \nL 64.186931 44.307098 \nL 73.93111 72.34207 \nL 83.675289 81.175619 \nL 93.419468 86.296708 \nL 103.163647 91.116026 \nL 112.907826 94.509004 \nL 122.652006 96.947598 \nL 132.396185 99.100869 \nL 142.140364 100.829386 \nL 151.884543 102.30053 \nL 161.628722 103.519918 \nL 171.372901 104.357972 \nL 181.11708 105.477508 \nL 190.861259 106.230522 \nL 200.605438 106.912509 \n\" clip-path=\"url(#p276ca43f5a)\" style=\"fill: none; stroke: #1f77b4; stroke-width: 1.5; stroke-linecap: square\"/>\n   </g>\n   <g id=\"line2d_113\">\n    <path d=\"M 49.633125 15.394944 \nL 69.163125 76.1886 \nL 88.693125 93.3284 \nL 108.223125 102.59139 \nL 127.753125 106.951486 \nL 147.283125 109.137138 \nL 166.813125 111.614133 \nL 186.343125 112.453833 \nL 205.873125 113.91485 \n\" clip-path=\"url(#p276ca43f5a)\" style=\"fill: none; stroke-dasharray: 5.55,2.4; stroke-dashoffset: 0; stroke: #ff7f0e; stroke-width: 1.5\"/>\n   </g>\n   <g id=\"line2d_114\">\n    <path d=\"M 49.633125 139.5 \nL 69.163125 118.804923 \nL 88.693125 114.650477 \nL 108.223125 109.46929 \nL 127.753125 108.270435 \nL 147.283125 108.003364 \nL 166.813125 107.059711 \nL 186.343125 107.160604 \nL 205.873125 106.151668 \n\" clip-path=\"url(#p276ca43f5a)\" style=\"fill: none; stroke-dasharray: 9.6,2.4,1.5,2.4; stroke-dashoffset: 0; stroke: #2ca02c; stroke-width: 1.5\"/>\n   </g>\n   <g id=\"line2d_115\">\n    <path d=\"M 34.954394 13.5 \nL 44.698573 14.331498 \nL 54.442752 17.630226 \nL 64.186931 44.307098 \nL 73.93111 72.34207 \nL 83.675289 81.175619 \nL 93.419468 86.296708 \nL 103.163647 91.116026 \nL 112.907826 94.509004 \nL 122.652006 96.947598 \nL 132.396185 99.100869 \nL 142.140364 100.829386 \nL 151.884543 102.30053 \nL 161.628722 103.519918 \nL 171.372901 104.357972 \nL 181.11708 105.477508 \nL 190.861259 106.230522 \nL 200.605438 106.912509 \nL 210.349618 107.756119 \n\" clip-path=\"url(#p276ca43f5a)\" style=\"fill: none; stroke: #1f77b4; stroke-width: 1.5; stroke-linecap: square\"/>\n   </g>\n   <g id=\"line2d_116\">\n    <path d=\"M 49.633125 15.394944 \nL 69.163125 76.1886 \nL 88.693125 93.3284 \nL 108.223125 102.59139 \nL 127.753125 106.951486 \nL 147.283125 109.137138 \nL 166.813125 111.614133 \nL 186.343125 112.453833 \nL 205.873125 113.91485 \n\" clip-path=\"url(#p276ca43f5a)\" style=\"fill: none; stroke-dasharray: 5.55,2.4; stroke-dashoffset: 0; stroke: #ff7f0e; stroke-width: 1.5\"/>\n   </g>\n   <g id=\"line2d_117\">\n    <path d=\"M 49.633125 139.5 \nL 69.163125 118.804923 \nL 88.693125 114.650477 \nL 108.223125 109.46929 \nL 127.753125 108.270435 \nL 147.283125 108.003364 \nL 166.813125 107.059711 \nL 186.343125 107.160604 \nL 205.873125 106.151668 \n\" clip-path=\"url(#p276ca43f5a)\" style=\"fill: none; stroke-dasharray: 9.6,2.4,1.5,2.4; stroke-dashoffset: 0; stroke: #2ca02c; stroke-width: 1.5\"/>\n   </g>\n   <g id=\"line2d_118\">\n    <path d=\"M 34.954394 13.5 \nL 44.698573 14.331498 \nL 54.442752 17.630226 \nL 64.186931 44.307098 \nL 73.93111 72.34207 \nL 83.675289 81.175619 \nL 93.419468 86.296708 \nL 103.163647 91.116026 \nL 112.907826 94.509004 \nL 122.652006 96.947598 \nL 132.396185 99.100869 \nL 142.140364 100.829386 \nL 151.884543 102.30053 \nL 161.628722 103.519918 \nL 171.372901 104.357972 \nL 181.11708 105.477508 \nL 190.861259 106.230522 \nL 200.605438 106.912509 \nL 210.349618 107.756119 \nL 220.093797 108.580925 \n\" clip-path=\"url(#p276ca43f5a)\" style=\"fill: none; stroke: #1f77b4; stroke-width: 1.5; stroke-linecap: square\"/>\n   </g>\n   <g id=\"line2d_119\">\n    <path d=\"M 49.633125 15.394944 \nL 69.163125 76.1886 \nL 88.693125 93.3284 \nL 108.223125 102.59139 \nL 127.753125 106.951486 \nL 147.283125 109.137138 \nL 166.813125 111.614133 \nL 186.343125 112.453833 \nL 205.873125 113.91485 \n\" clip-path=\"url(#p276ca43f5a)\" style=\"fill: none; stroke-dasharray: 5.55,2.4; stroke-dashoffset: 0; stroke: #ff7f0e; stroke-width: 1.5\"/>\n   </g>\n   <g id=\"line2d_120\">\n    <path d=\"M 49.633125 139.5 \nL 69.163125 118.804923 \nL 88.693125 114.650477 \nL 108.223125 109.46929 \nL 127.753125 108.270435 \nL 147.283125 108.003364 \nL 166.813125 107.059711 \nL 186.343125 107.160604 \nL 205.873125 106.151668 \n\" clip-path=\"url(#p276ca43f5a)\" style=\"fill: none; stroke-dasharray: 9.6,2.4,1.5,2.4; stroke-dashoffset: 0; stroke: #2ca02c; stroke-width: 1.5\"/>\n   </g>\n   <g id=\"line2d_121\">\n    <path d=\"M 34.954394 13.5 \nL 44.698573 14.331498 \nL 54.442752 17.630226 \nL 64.186931 44.307098 \nL 73.93111 72.34207 \nL 83.675289 81.175619 \nL 93.419468 86.296708 \nL 103.163647 91.116026 \nL 112.907826 94.509004 \nL 122.652006 96.947598 \nL 132.396185 99.100869 \nL 142.140364 100.829386 \nL 151.884543 102.30053 \nL 161.628722 103.519918 \nL 171.372901 104.357972 \nL 181.11708 105.477508 \nL 190.861259 106.230522 \nL 200.605438 106.912509 \nL 210.349618 107.756119 \nL 220.093797 108.580925 \n\" clip-path=\"url(#p276ca43f5a)\" style=\"fill: none; stroke: #1f77b4; stroke-width: 1.5; stroke-linecap: square\"/>\n   </g>\n   <g id=\"line2d_122\">\n    <path d=\"M 49.633125 15.394944 \nL 69.163125 76.1886 \nL 88.693125 93.3284 \nL 108.223125 102.59139 \nL 127.753125 106.951486 \nL 147.283125 109.137138 \nL 166.813125 111.614133 \nL 186.343125 112.453833 \nL 205.873125 113.91485 \nL 225.403125 113.933964 \n\" clip-path=\"url(#p276ca43f5a)\" style=\"fill: none; stroke-dasharray: 5.55,2.4; stroke-dashoffset: 0; stroke: #ff7f0e; stroke-width: 1.5\"/>\n   </g>\n   <g id=\"line2d_123\">\n    <path d=\"M 49.633125 139.5 \nL 69.163125 118.804923 \nL 88.693125 114.650477 \nL 108.223125 109.46929 \nL 127.753125 108.270435 \nL 147.283125 108.003364 \nL 166.813125 107.059711 \nL 186.343125 107.160604 \nL 205.873125 106.151668 \n\" clip-path=\"url(#p276ca43f5a)\" style=\"fill: none; stroke-dasharray: 9.6,2.4,1.5,2.4; stroke-dashoffset: 0; stroke: #2ca02c; stroke-width: 1.5\"/>\n   </g>\n   <g id=\"line2d_124\">\n    <path d=\"M 34.954394 13.5 \nL 44.698573 14.331498 \nL 54.442752 17.630226 \nL 64.186931 44.307098 \nL 73.93111 72.34207 \nL 83.675289 81.175619 \nL 93.419468 86.296708 \nL 103.163647 91.116026 \nL 112.907826 94.509004 \nL 122.652006 96.947598 \nL 132.396185 99.100869 \nL 142.140364 100.829386 \nL 151.884543 102.30053 \nL 161.628722 103.519918 \nL 171.372901 104.357972 \nL 181.11708 105.477508 \nL 190.861259 106.230522 \nL 200.605438 106.912509 \nL 210.349618 107.756119 \nL 220.093797 108.580925 \n\" clip-path=\"url(#p276ca43f5a)\" style=\"fill: none; stroke: #1f77b4; stroke-width: 1.5; stroke-linecap: square\"/>\n   </g>\n   <g id=\"line2d_125\">\n    <path d=\"M 49.633125 15.394944 \nL 69.163125 76.1886 \nL 88.693125 93.3284 \nL 108.223125 102.59139 \nL 127.753125 106.951486 \nL 147.283125 109.137138 \nL 166.813125 111.614133 \nL 186.343125 112.453833 \nL 205.873125 113.91485 \nL 225.403125 113.933964 \n\" clip-path=\"url(#p276ca43f5a)\" style=\"fill: none; stroke-dasharray: 5.55,2.4; stroke-dashoffset: 0; stroke: #ff7f0e; stroke-width: 1.5\"/>\n   </g>\n   <g id=\"line2d_126\">\n    <path d=\"M 49.633125 139.5 \nL 69.163125 118.804923 \nL 88.693125 114.650477 \nL 108.223125 109.46929 \nL 127.753125 108.270435 \nL 147.283125 108.003364 \nL 166.813125 107.059711 \nL 186.343125 107.160604 \nL 205.873125 106.151668 \nL 225.403125 106.780769 \n\" clip-path=\"url(#p276ca43f5a)\" style=\"fill: none; stroke-dasharray: 9.6,2.4,1.5,2.4; stroke-dashoffset: 0; stroke: #2ca02c; stroke-width: 1.5\"/>\n   </g>\n   <g id=\"patch_3\">\n    <path d=\"M 30.103125 145.8 \nL 30.103125 7.2 \n\" style=\"fill: none; stroke: #000000; stroke-width: 0.8; stroke-linejoin: miter; stroke-linecap: square\"/>\n   </g>\n   <g id=\"patch_4\">\n    <path d=\"M 225.403125 145.8 \nL 225.403125 7.2 \n\" style=\"fill: none; stroke: #000000; stroke-width: 0.8; stroke-linejoin: miter; stroke-linecap: square\"/>\n   </g>\n   <g id=\"patch_5\">\n    <path d=\"M 30.103125 145.8 \nL 225.403125 145.8 \n\" style=\"fill: none; stroke: #000000; stroke-width: 0.8; stroke-linejoin: miter; stroke-linecap: square\"/>\n   </g>\n   <g id=\"patch_6\">\n    <path d=\"M 30.103125 7.2 \nL 225.403125 7.2 \n\" style=\"fill: none; stroke: #000000; stroke-width: 0.8; stroke-linejoin: miter; stroke-linecap: square\"/>\n   </g>\n   <g id=\"legend_1\">\n    <g id=\"patch_7\">\n     <path d=\"M 138.8125 60.06875 \nL 218.403125 60.06875 \nQ 220.403125 60.06875 220.403125 58.06875 \nL 220.403125 14.2 \nQ 220.403125 12.2 218.403125 12.2 \nL 138.8125 12.2 \nQ 136.8125 12.2 136.8125 14.2 \nL 136.8125 58.06875 \nQ 136.8125 60.06875 138.8125 60.06875 \nz\n\" style=\"fill: #ffffff; opacity: 0.8; stroke: #cccccc; stroke-linejoin: miter\"/>\n    </g>\n    <g id=\"line2d_127\">\n     <path d=\"M 140.8125 20.298438 \nL 150.8125 20.298438 \nL 160.8125 20.298438 \n\" style=\"fill: none; stroke: #1f77b4; stroke-width: 1.5; stroke-linecap: square\"/>\n    </g>\n    <g id=\"text_12\">\n     <!-- train_loss -->\n     <g transform=\"translate(168.8125 23.798438) scale(0.1 -0.1)\">\n      <defs>\n       <path id=\"DejaVuSans-74\" d=\"M 1172 4494 \nL 1172 3500 \nL 2356 3500 \nL 2356 3053 \nL 1172 3053 \nL 1172 1153 \nQ 1172 725 1289 603 \nQ 1406 481 1766 481 \nL 2356 481 \nL 2356 0 \nL 1766 0 \nQ 1100 0 847 248 \nQ 594 497 594 1153 \nL 594 3053 \nL 172 3053 \nL 172 3500 \nL 594 3500 \nL 594 4494 \nL 1172 4494 \nz\n\" transform=\"scale(0.015625)\"/>\n       <path id=\"DejaVuSans-72\" d=\"M 2631 2963 \nQ 2534 3019 2420 3045 \nQ 2306 3072 2169 3072 \nQ 1681 3072 1420 2755 \nQ 1159 2438 1159 1844 \nL 1159 0 \nL 581 0 \nL 581 3500 \nL 1159 3500 \nL 1159 2956 \nQ 1341 3275 1631 3429 \nQ 1922 3584 2338 3584 \nQ 2397 3584 2469 3576 \nQ 2541 3569 2628 3553 \nL 2631 2963 \nz\n\" transform=\"scale(0.015625)\"/>\n       <path id=\"DejaVuSans-61\" d=\"M 2194 1759 \nQ 1497 1759 1228 1600 \nQ 959 1441 959 1056 \nQ 959 750 1161 570 \nQ 1363 391 1709 391 \nQ 2188 391 2477 730 \nQ 2766 1069 2766 1631 \nL 2766 1759 \nL 2194 1759 \nz\nM 3341 1997 \nL 3341 0 \nL 2766 0 \nL 2766 531 \nQ 2569 213 2275 61 \nQ 1981 -91 1556 -91 \nQ 1019 -91 701 211 \nQ 384 513 384 1019 \nQ 384 1609 779 1909 \nQ 1175 2209 1959 2209 \nL 2766 2209 \nL 2766 2266 \nQ 2766 2663 2505 2880 \nQ 2244 3097 1772 3097 \nQ 1472 3097 1187 3025 \nQ 903 2953 641 2809 \nL 641 3341 \nQ 956 3463 1253 3523 \nQ 1550 3584 1831 3584 \nQ 2591 3584 2966 3190 \nQ 3341 2797 3341 1997 \nz\n\" transform=\"scale(0.015625)\"/>\n       <path id=\"DejaVuSans-69\" d=\"M 603 3500 \nL 1178 3500 \nL 1178 0 \nL 603 0 \nL 603 3500 \nz\nM 603 4863 \nL 1178 4863 \nL 1178 4134 \nL 603 4134 \nL 603 4863 \nz\n\" transform=\"scale(0.015625)\"/>\n       <path id=\"DejaVuSans-6e\" d=\"M 3513 2113 \nL 3513 0 \nL 2938 0 \nL 2938 2094 \nQ 2938 2591 2744 2837 \nQ 2550 3084 2163 3084 \nQ 1697 3084 1428 2787 \nQ 1159 2491 1159 1978 \nL 1159 0 \nL 581 0 \nL 581 3500 \nL 1159 3500 \nL 1159 2956 \nQ 1366 3272 1645 3428 \nQ 1925 3584 2291 3584 \nQ 2894 3584 3203 3211 \nQ 3513 2838 3513 2113 \nz\n\" transform=\"scale(0.015625)\"/>\n       <path id=\"DejaVuSans-5f\" d=\"M 3263 -1063 \nL 3263 -1509 \nL -63 -1509 \nL -63 -1063 \nL 3263 -1063 \nz\n\" transform=\"scale(0.015625)\"/>\n       <path id=\"DejaVuSans-6c\" d=\"M 603 4863 \nL 1178 4863 \nL 1178 0 \nL 603 0 \nL 603 4863 \nz\n\" transform=\"scale(0.015625)\"/>\n       <path id=\"DejaVuSans-73\" d=\"M 2834 3397 \nL 2834 2853 \nQ 2591 2978 2328 3040 \nQ 2066 3103 1784 3103 \nQ 1356 3103 1142 2972 \nQ 928 2841 928 2578 \nQ 928 2378 1081 2264 \nQ 1234 2150 1697 2047 \nL 1894 2003 \nQ 2506 1872 2764 1633 \nQ 3022 1394 3022 966 \nQ 3022 478 2636 193 \nQ 2250 -91 1575 -91 \nQ 1294 -91 989 -36 \nQ 684 19 347 128 \nL 347 722 \nQ 666 556 975 473 \nQ 1284 391 1588 391 \nQ 1994 391 2212 530 \nQ 2431 669 2431 922 \nQ 2431 1156 2273 1281 \nQ 2116 1406 1581 1522 \nL 1381 1569 \nQ 847 1681 609 1914 \nQ 372 2147 372 2553 \nQ 372 3047 722 3315 \nQ 1072 3584 1716 3584 \nQ 2034 3584 2315 3537 \nQ 2597 3491 2834 3397 \nz\n\" transform=\"scale(0.015625)\"/>\n      </defs>\n      <use xlink:href=\"#DejaVuSans-74\"/>\n      <use xlink:href=\"#DejaVuSans-72\" x=\"39.208984\"/>\n      <use xlink:href=\"#DejaVuSans-61\" x=\"80.322266\"/>\n      <use xlink:href=\"#DejaVuSans-69\" x=\"141.601562\"/>\n      <use xlink:href=\"#DejaVuSans-6e\" x=\"169.384766\"/>\n      <use xlink:href=\"#DejaVuSans-5f\" x=\"232.763672\"/>\n      <use xlink:href=\"#DejaVuSans-6c\" x=\"282.763672\"/>\n      <use xlink:href=\"#DejaVuSans-6f\" x=\"310.546875\"/>\n      <use xlink:href=\"#DejaVuSans-73\" x=\"371.728516\"/>\n      <use xlink:href=\"#DejaVuSans-73\" x=\"423.828125\"/>\n     </g>\n    </g>\n    <g id=\"line2d_128\">\n     <path d=\"M 140.8125 35.254688 \nL 150.8125 35.254688 \nL 160.8125 35.254688 \n\" style=\"fill: none; stroke-dasharray: 5.55,2.4; stroke-dashoffset: 0; stroke: #ff7f0e; stroke-width: 1.5\"/>\n    </g>\n    <g id=\"text_13\">\n     <!-- val_loss -->\n     <g transform=\"translate(168.8125 38.754688) scale(0.1 -0.1)\">\n      <defs>\n       <path id=\"DejaVuSans-76\" d=\"M 191 3500 \nL 800 3500 \nL 1894 563 \nL 2988 3500 \nL 3597 3500 \nL 2284 0 \nL 1503 0 \nL 191 3500 \nz\n\" transform=\"scale(0.015625)\"/>\n      </defs>\n      <use xlink:href=\"#DejaVuSans-76\"/>\n      <use xlink:href=\"#DejaVuSans-61\" x=\"59.179688\"/>\n      <use xlink:href=\"#DejaVuSans-6c\" x=\"120.458984\"/>\n      <use xlink:href=\"#DejaVuSans-5f\" x=\"148.242188\"/>\n      <use xlink:href=\"#DejaVuSans-6c\" x=\"198.242188\"/>\n      <use xlink:href=\"#DejaVuSans-6f\" x=\"226.025391\"/>\n      <use xlink:href=\"#DejaVuSans-73\" x=\"287.207031\"/>\n      <use xlink:href=\"#DejaVuSans-73\" x=\"339.306641\"/>\n     </g>\n    </g>\n    <g id=\"line2d_129\">\n     <path d=\"M 140.8125 50.210938 \nL 150.8125 50.210938 \nL 160.8125 50.210938 \n\" style=\"fill: none; stroke-dasharray: 9.6,2.4,1.5,2.4; stroke-dashoffset: 0; stroke: #2ca02c; stroke-width: 1.5\"/>\n    </g>\n    <g id=\"text_14\">\n     <!-- val_acc -->\n     <g transform=\"translate(168.8125 53.710938) scale(0.1 -0.1)\">\n      <use xlink:href=\"#DejaVuSans-76\"/>\n      <use xlink:href=\"#DejaVuSans-61\" x=\"59.179688\"/>\n      <use xlink:href=\"#DejaVuSans-6c\" x=\"120.458984\"/>\n      <use xlink:href=\"#DejaVuSans-5f\" x=\"148.242188\"/>\n      <use xlink:href=\"#DejaVuSans-61\" x=\"198.242188\"/>\n      <use xlink:href=\"#DejaVuSans-63\" x=\"259.521484\"/>\n      <use xlink:href=\"#DejaVuSans-63\" x=\"314.501953\"/>\n     </g>\n    </g>\n   </g>\n  </g>\n </g>\n <defs>\n  <clipPath id=\"p276ca43f5a\">\n   <rect x=\"30.103125\" y=\"7.2\" width=\"195.3\" height=\"138.6\"/>\n  </clipPath>\n </defs>\n</svg>\n"
          },
          "metadata": {}
        }
      ]
    },
    {
      "cell_type": "markdown",
      "source": [
        "**8. Can you make AlexNet overfit? Which feature do you need to remove or change to break training?**"
      ],
      "metadata": {
        "id": "nMPcHoFZQ0YM"
      }
    },
    {
      "cell_type": "markdown",
      "source": [
        "AlexNet dapat mengalami overfitting dengan memanipulasi beberapa aspek pelatihan, seperti:\n",
        "\n",
        "* Mengurangi ukuran dataset pelatihan.\n",
        "* Meningkatkan kompleksitas model dengan menambah lapisan dan parameter.\n",
        "* Mengurangi atau menghilangkan teknik regulasi.\n",
        "* Menggunakan tingkat pembelajaran yang rendah dan jumlah epoch yang terbatas.\n",
        "* Memberikan label yang bersih tanpa noise.\n",
        "* Menghindari teknik augmentasi data.\n",
        "* Menggunakan optimizer kompleks."
      ],
      "metadata": {
        "id": "VSkNtU9VQ3Vr"
      }
    },
    {
      "cell_type": "markdown",
      "source": [
        "# 8.2 Networks Using Blocks (VGG)"
      ],
      "metadata": {
        "id": "iIp1MPNAiS0s"
      }
    },
    {
      "cell_type": "code",
      "source": [
        "import torch\n",
        "from torch import nn\n",
        "from d2l import torch as d2l"
      ],
      "metadata": {
        "id": "vsG_LK-wRWSs"
      },
      "execution_count": 12,
      "outputs": []
    },
    {
      "cell_type": "markdown",
      "source": [
        "## VGG Blocks"
      ],
      "metadata": {
        "id": "2sOqEMKLiaaq"
      }
    },
    {
      "cell_type": "code",
      "source": [
        "def vgg_block(num_convs, out_channels):\n",
        "    layers = []\n",
        "    for _ in range(num_convs):\n",
        "        layers.append(nn.LazyConv2d(out_channels, kernel_size=3, padding=1))\n",
        "        layers.append(nn.ReLU())\n",
        "    layers.append(nn.MaxPool2d(kernel_size=2,stride=2))\n",
        "    return nn.Sequential(*layers)"
      ],
      "metadata": {
        "id": "bIWATGNiib3u"
      },
      "execution_count": 13,
      "outputs": []
    },
    {
      "cell_type": "markdown",
      "source": [
        "## VGG Network"
      ],
      "metadata": {
        "id": "nWITYkk-ijYw"
      }
    },
    {
      "cell_type": "code",
      "source": [
        "class VGG(d2l.Classifier):\n",
        "    def __init__(self, arch, lr=0.1, num_classes=10):\n",
        "        super().__init__()\n",
        "        self.save_hyperparameters()\n",
        "        conv_blks = []\n",
        "        for (num_convs, out_channels) in arch:\n",
        "            conv_blks.append(vgg_block(num_convs, out_channels))\n",
        "        self.net = nn.Sequential(\n",
        "            *conv_blks, nn.Flatten(),\n",
        "            nn.LazyLinear(4096), nn.ReLU(), nn.Dropout(0.5),\n",
        "            nn.LazyLinear(4096), nn.ReLU(), nn.Dropout(0.5),\n",
        "            nn.LazyLinear(num_classes))\n",
        "        self.net.apply(d2l.init_cnn)"
      ],
      "metadata": {
        "id": "EKI-F2SFikwx"
      },
      "execution_count": 14,
      "outputs": []
    },
    {
      "cell_type": "code",
      "source": [
        "VGG(arch=((1, 64), (1, 128), (2, 256), (2, 512), (2, 512))).layer_summary(\n",
        "    (1, 1, 224, 224))"
      ],
      "metadata": {
        "id": "BrKvaiDXimXd",
        "colab": {
          "base_uri": "https://localhost:8080/"
        },
        "outputId": "da9b01ad-8994-4e7c-acc3-b3f63191dde5"
      },
      "execution_count": 15,
      "outputs": [
        {
          "output_type": "stream",
          "name": "stdout",
          "text": [
            "Sequential output shape:\t torch.Size([1, 64, 112, 112])\n",
            "Sequential output shape:\t torch.Size([1, 128, 56, 56])\n",
            "Sequential output shape:\t torch.Size([1, 256, 28, 28])\n",
            "Sequential output shape:\t torch.Size([1, 512, 14, 14])\n",
            "Sequential output shape:\t torch.Size([1, 512, 7, 7])\n",
            "Flatten output shape:\t torch.Size([1, 25088])\n",
            "Linear output shape:\t torch.Size([1, 4096])\n",
            "ReLU output shape:\t torch.Size([1, 4096])\n",
            "Dropout output shape:\t torch.Size([1, 4096])\n",
            "Linear output shape:\t torch.Size([1, 4096])\n",
            "ReLU output shape:\t torch.Size([1, 4096])\n",
            "Dropout output shape:\t torch.Size([1, 4096])\n",
            "Linear output shape:\t torch.Size([1, 10])\n"
          ]
        }
      ]
    },
    {
      "cell_type": "markdown",
      "source": [
        "## Training"
      ],
      "metadata": {
        "id": "0GVRJaasincR"
      }
    },
    {
      "cell_type": "code",
      "source": [
        "model = VGG(arch=((1, 16), (1, 32), (2, 64), (2, 128), (2, 128)), lr=0.01)\n",
        "trainer = d2l.Trainer(max_epochs=10, num_gpus=1)\n",
        "data = d2l.FashionMNIST(batch_size=128, resize=(224, 224))\n",
        "model.apply_init([next(iter(data.get_dataloader(True)))[0]], d2l.init_cnn)\n",
        "trainer.fit(model, data)"
      ],
      "metadata": {
        "id": "W3q_4My2ipPf",
        "colab": {
          "base_uri": "https://localhost:8080/",
          "height": 266
        },
        "outputId": "e4415513-4151-4b57-d59e-df57672b9c3a"
      },
      "execution_count": 16,
      "outputs": [
        {
          "output_type": "display_data",
          "data": {
            "text/plain": [
              "<Figure size 350x250 with 1 Axes>"
            ],
            "image/svg+xml": "<?xml version=\"1.0\" encoding=\"utf-8\" standalone=\"no\"?>\n<!DOCTYPE svg PUBLIC \"-//W3C//DTD SVG 1.1//EN\"\n  \"http://www.w3.org/Graphics/SVG/1.1/DTD/svg11.dtd\">\n<svg xmlns:xlink=\"http://www.w3.org/1999/xlink\" width=\"238.965625pt\" height=\"183.35625pt\" viewBox=\"0 0 238.965625 183.35625\" xmlns=\"http://www.w3.org/2000/svg\" version=\"1.1\">\n <metadata>\n  <rdf:RDF xmlns:dc=\"http://purl.org/dc/elements/1.1/\" xmlns:cc=\"http://creativecommons.org/ns#\" xmlns:rdf=\"http://www.w3.org/1999/02/22-rdf-syntax-ns#\">\n   <cc:Work>\n    <dc:type rdf:resource=\"http://purl.org/dc/dcmitype/StillImage\"/>\n    <dc:date>2024-10-05T15:36:23.870919</dc:date>\n    <dc:format>image/svg+xml</dc:format>\n    <dc:creator>\n     <cc:Agent>\n      <dc:title>Matplotlib v3.7.2, https://matplotlib.org/</dc:title>\n     </cc:Agent>\n    </dc:creator>\n   </cc:Work>\n  </rdf:RDF>\n </metadata>\n <defs>\n  <style type=\"text/css\">*{stroke-linejoin: round; stroke-linecap: butt}</style>\n </defs>\n <g id=\"figure_1\">\n  <g id=\"patch_1\">\n   <path d=\"M 0 183.35625 \nL 238.965625 183.35625 \nL 238.965625 0 \nL 0 0 \nz\n\" style=\"fill: #ffffff\"/>\n  </g>\n  <g id=\"axes_1\">\n   <g id=\"patch_2\">\n    <path d=\"M 30.103125 145.8 \nL 225.403125 145.8 \nL 225.403125 7.2 \nL 30.103125 7.2 \nz\n\" style=\"fill: #ffffff\"/>\n   </g>\n   <g id=\"matplotlib.axis_1\">\n    <g id=\"xtick_1\">\n     <g id=\"line2d_1\">\n      <defs>\n       <path id=\"m650f50d723\" d=\"M 0 0 \nL 0 3.5 \n\" style=\"stroke: #000000; stroke-width: 0.8\"/>\n      </defs>\n      <g>\n       <use xlink:href=\"#m650f50d723\" x=\"30.103125\" y=\"145.8\" style=\"stroke: #000000; stroke-width: 0.8\"/>\n      </g>\n     </g>\n     <g id=\"text_1\">\n      <!-- 0 -->\n      <g transform=\"translate(26.921875 160.398438) scale(0.1 -0.1)\">\n       <defs>\n        <path id=\"DejaVuSans-30\" d=\"M 2034 4250 \nQ 1547 4250 1301 3770 \nQ 1056 3291 1056 2328 \nQ 1056 1369 1301 889 \nQ 1547 409 2034 409 \nQ 2525 409 2770 889 \nQ 3016 1369 3016 2328 \nQ 3016 3291 2770 3770 \nQ 2525 4250 2034 4250 \nz\nM 2034 4750 \nQ 2819 4750 3233 4129 \nQ 3647 3509 3647 2328 \nQ 3647 1150 3233 529 \nQ 2819 -91 2034 -91 \nQ 1250 -91 836 529 \nQ 422 1150 422 2328 \nQ 422 3509 836 4129 \nQ 1250 4750 2034 4750 \nz\n\" transform=\"scale(0.015625)\"/>\n       </defs>\n       <use xlink:href=\"#DejaVuSans-30\"/>\n      </g>\n     </g>\n    </g>\n    <g id=\"xtick_2\">\n     <g id=\"line2d_2\">\n      <g>\n       <use xlink:href=\"#m650f50d723\" x=\"69.163125\" y=\"145.8\" style=\"stroke: #000000; stroke-width: 0.8\"/>\n      </g>\n     </g>\n     <g id=\"text_2\">\n      <!-- 2 -->\n      <g transform=\"translate(65.981875 160.398438) scale(0.1 -0.1)\">\n       <defs>\n        <path id=\"DejaVuSans-32\" d=\"M 1228 531 \nL 3431 531 \nL 3431 0 \nL 469 0 \nL 469 531 \nQ 828 903 1448 1529 \nQ 2069 2156 2228 2338 \nQ 2531 2678 2651 2914 \nQ 2772 3150 2772 3378 \nQ 2772 3750 2511 3984 \nQ 2250 4219 1831 4219 \nQ 1534 4219 1204 4116 \nQ 875 4013 500 3803 \nL 500 4441 \nQ 881 4594 1212 4672 \nQ 1544 4750 1819 4750 \nQ 2544 4750 2975 4387 \nQ 3406 4025 3406 3419 \nQ 3406 3131 3298 2873 \nQ 3191 2616 2906 2266 \nQ 2828 2175 2409 1742 \nQ 1991 1309 1228 531 \nz\n\" transform=\"scale(0.015625)\"/>\n       </defs>\n       <use xlink:href=\"#DejaVuSans-32\"/>\n      </g>\n     </g>\n    </g>\n    <g id=\"xtick_3\">\n     <g id=\"line2d_3\">\n      <g>\n       <use xlink:href=\"#m650f50d723\" x=\"108.223125\" y=\"145.8\" style=\"stroke: #000000; stroke-width: 0.8\"/>\n      </g>\n     </g>\n     <g id=\"text_3\">\n      <!-- 4 -->\n      <g transform=\"translate(105.041875 160.398438) scale(0.1 -0.1)\">\n       <defs>\n        <path id=\"DejaVuSans-34\" d=\"M 2419 4116 \nL 825 1625 \nL 2419 1625 \nL 2419 4116 \nz\nM 2253 4666 \nL 3047 4666 \nL 3047 1625 \nL 3713 1625 \nL 3713 1100 \nL 3047 1100 \nL 3047 0 \nL 2419 0 \nL 2419 1100 \nL 313 1100 \nL 313 1709 \nL 2253 4666 \nz\n\" transform=\"scale(0.015625)\"/>\n       </defs>\n       <use xlink:href=\"#DejaVuSans-34\"/>\n      </g>\n     </g>\n    </g>\n    <g id=\"xtick_4\">\n     <g id=\"line2d_4\">\n      <g>\n       <use xlink:href=\"#m650f50d723\" x=\"147.283125\" y=\"145.8\" style=\"stroke: #000000; stroke-width: 0.8\"/>\n      </g>\n     </g>\n     <g id=\"text_4\">\n      <!-- 6 -->\n      <g transform=\"translate(144.101875 160.398438) scale(0.1 -0.1)\">\n       <defs>\n        <path id=\"DejaVuSans-36\" d=\"M 2113 2584 \nQ 1688 2584 1439 2293 \nQ 1191 2003 1191 1497 \nQ 1191 994 1439 701 \nQ 1688 409 2113 409 \nQ 2538 409 2786 701 \nQ 3034 994 3034 1497 \nQ 3034 2003 2786 2293 \nQ 2538 2584 2113 2584 \nz\nM 3366 4563 \nL 3366 3988 \nQ 3128 4100 2886 4159 \nQ 2644 4219 2406 4219 \nQ 1781 4219 1451 3797 \nQ 1122 3375 1075 2522 \nQ 1259 2794 1537 2939 \nQ 1816 3084 2150 3084 \nQ 2853 3084 3261 2657 \nQ 3669 2231 3669 1497 \nQ 3669 778 3244 343 \nQ 2819 -91 2113 -91 \nQ 1303 -91 875 529 \nQ 447 1150 447 2328 \nQ 447 3434 972 4092 \nQ 1497 4750 2381 4750 \nQ 2619 4750 2861 4703 \nQ 3103 4656 3366 4563 \nz\n\" transform=\"scale(0.015625)\"/>\n       </defs>\n       <use xlink:href=\"#DejaVuSans-36\"/>\n      </g>\n     </g>\n    </g>\n    <g id=\"xtick_5\">\n     <g id=\"line2d_5\">\n      <g>\n       <use xlink:href=\"#m650f50d723\" x=\"186.343125\" y=\"145.8\" style=\"stroke: #000000; stroke-width: 0.8\"/>\n      </g>\n     </g>\n     <g id=\"text_5\">\n      <!-- 8 -->\n      <g transform=\"translate(183.161875 160.398438) scale(0.1 -0.1)\">\n       <defs>\n        <path id=\"DejaVuSans-38\" d=\"M 2034 2216 \nQ 1584 2216 1326 1975 \nQ 1069 1734 1069 1313 \nQ 1069 891 1326 650 \nQ 1584 409 2034 409 \nQ 2484 409 2743 651 \nQ 3003 894 3003 1313 \nQ 3003 1734 2745 1975 \nQ 2488 2216 2034 2216 \nz\nM 1403 2484 \nQ 997 2584 770 2862 \nQ 544 3141 544 3541 \nQ 544 4100 942 4425 \nQ 1341 4750 2034 4750 \nQ 2731 4750 3128 4425 \nQ 3525 4100 3525 3541 \nQ 3525 3141 3298 2862 \nQ 3072 2584 2669 2484 \nQ 3125 2378 3379 2068 \nQ 3634 1759 3634 1313 \nQ 3634 634 3220 271 \nQ 2806 -91 2034 -91 \nQ 1263 -91 848 271 \nQ 434 634 434 1313 \nQ 434 1759 690 2068 \nQ 947 2378 1403 2484 \nz\nM 1172 3481 \nQ 1172 3119 1398 2916 \nQ 1625 2713 2034 2713 \nQ 2441 2713 2670 2916 \nQ 2900 3119 2900 3481 \nQ 2900 3844 2670 4047 \nQ 2441 4250 2034 4250 \nQ 1625 4250 1398 4047 \nQ 1172 3844 1172 3481 \nz\n\" transform=\"scale(0.015625)\"/>\n       </defs>\n       <use xlink:href=\"#DejaVuSans-38\"/>\n      </g>\n     </g>\n    </g>\n    <g id=\"xtick_6\">\n     <g id=\"line2d_6\">\n      <g>\n       <use xlink:href=\"#m650f50d723\" x=\"225.403125\" y=\"145.8\" style=\"stroke: #000000; stroke-width: 0.8\"/>\n      </g>\n     </g>\n     <g id=\"text_6\">\n      <!-- 10 -->\n      <g transform=\"translate(219.040625 160.398438) scale(0.1 -0.1)\">\n       <defs>\n        <path id=\"DejaVuSans-31\" d=\"M 794 531 \nL 1825 531 \nL 1825 4091 \nL 703 3866 \nL 703 4441 \nL 1819 4666 \nL 2450 4666 \nL 2450 531 \nL 3481 531 \nL 3481 0 \nL 794 0 \nL 794 531 \nz\n\" transform=\"scale(0.015625)\"/>\n       </defs>\n       <use xlink:href=\"#DejaVuSans-31\"/>\n       <use xlink:href=\"#DejaVuSans-30\" x=\"63.623047\"/>\n      </g>\n     </g>\n    </g>\n    <g id=\"text_7\">\n     <!-- epoch -->\n     <g transform=\"translate(112.525 174.076563) scale(0.1 -0.1)\">\n      <defs>\n       <path id=\"DejaVuSans-65\" d=\"M 3597 1894 \nL 3597 1613 \nL 953 1613 \nQ 991 1019 1311 708 \nQ 1631 397 2203 397 \nQ 2534 397 2845 478 \nQ 3156 559 3463 722 \nL 3463 178 \nQ 3153 47 2828 -22 \nQ 2503 -91 2169 -91 \nQ 1331 -91 842 396 \nQ 353 884 353 1716 \nQ 353 2575 817 3079 \nQ 1281 3584 2069 3584 \nQ 2775 3584 3186 3129 \nQ 3597 2675 3597 1894 \nz\nM 3022 2063 \nQ 3016 2534 2758 2815 \nQ 2500 3097 2075 3097 \nQ 1594 3097 1305 2825 \nQ 1016 2553 972 2059 \nL 3022 2063 \nz\n\" transform=\"scale(0.015625)\"/>\n       <path id=\"DejaVuSans-70\" d=\"M 1159 525 \nL 1159 -1331 \nL 581 -1331 \nL 581 3500 \nL 1159 3500 \nL 1159 2969 \nQ 1341 3281 1617 3432 \nQ 1894 3584 2278 3584 \nQ 2916 3584 3314 3078 \nQ 3713 2572 3713 1747 \nQ 3713 922 3314 415 \nQ 2916 -91 2278 -91 \nQ 1894 -91 1617 61 \nQ 1341 213 1159 525 \nz\nM 3116 1747 \nQ 3116 2381 2855 2742 \nQ 2594 3103 2138 3103 \nQ 1681 3103 1420 2742 \nQ 1159 2381 1159 1747 \nQ 1159 1113 1420 752 \nQ 1681 391 2138 391 \nQ 2594 391 2855 752 \nQ 3116 1113 3116 1747 \nz\n\" transform=\"scale(0.015625)\"/>\n       <path id=\"DejaVuSans-6f\" d=\"M 1959 3097 \nQ 1497 3097 1228 2736 \nQ 959 2375 959 1747 \nQ 959 1119 1226 758 \nQ 1494 397 1959 397 \nQ 2419 397 2687 759 \nQ 2956 1122 2956 1747 \nQ 2956 2369 2687 2733 \nQ 2419 3097 1959 3097 \nz\nM 1959 3584 \nQ 2709 3584 3137 3096 \nQ 3566 2609 3566 1747 \nQ 3566 888 3137 398 \nQ 2709 -91 1959 -91 \nQ 1206 -91 779 398 \nQ 353 888 353 1747 \nQ 353 2609 779 3096 \nQ 1206 3584 1959 3584 \nz\n\" transform=\"scale(0.015625)\"/>\n       <path id=\"DejaVuSans-63\" d=\"M 3122 3366 \nL 3122 2828 \nQ 2878 2963 2633 3030 \nQ 2388 3097 2138 3097 \nQ 1578 3097 1268 2742 \nQ 959 2388 959 1747 \nQ 959 1106 1268 751 \nQ 1578 397 2138 397 \nQ 2388 397 2633 464 \nQ 2878 531 3122 666 \nL 3122 134 \nQ 2881 22 2623 -34 \nQ 2366 -91 2075 -91 \nQ 1284 -91 818 406 \nQ 353 903 353 1747 \nQ 353 2603 823 3093 \nQ 1294 3584 2113 3584 \nQ 2378 3584 2631 3529 \nQ 2884 3475 3122 3366 \nz\n\" transform=\"scale(0.015625)\"/>\n       <path id=\"DejaVuSans-68\" d=\"M 3513 2113 \nL 3513 0 \nL 2938 0 \nL 2938 2094 \nQ 2938 2591 2744 2837 \nQ 2550 3084 2163 3084 \nQ 1697 3084 1428 2787 \nQ 1159 2491 1159 1978 \nL 1159 0 \nL 581 0 \nL 581 4863 \nL 1159 4863 \nL 1159 2956 \nQ 1366 3272 1645 3428 \nQ 1925 3584 2291 3584 \nQ 2894 3584 3203 3211 \nQ 3513 2838 3513 2113 \nz\n\" transform=\"scale(0.015625)\"/>\n      </defs>\n      <use xlink:href=\"#DejaVuSans-65\"/>\n      <use xlink:href=\"#DejaVuSans-70\" x=\"61.523438\"/>\n      <use xlink:href=\"#DejaVuSans-6f\" x=\"125\"/>\n      <use xlink:href=\"#DejaVuSans-63\" x=\"186.181641\"/>\n      <use xlink:href=\"#DejaVuSans-68\" x=\"241.162109\"/>\n     </g>\n    </g>\n   </g>\n   <g id=\"matplotlib.axis_2\">\n    <g id=\"ytick_1\">\n     <g id=\"line2d_7\">\n      <defs>\n       <path id=\"m33402da3fe\" d=\"M 0 0 \nL -3.5 0 \n\" style=\"stroke: #000000; stroke-width: 0.8\"/>\n      </defs>\n      <g>\n       <use xlink:href=\"#m33402da3fe\" x=\"30.103125\" y=\"126.769431\" style=\"stroke: #000000; stroke-width: 0.8\"/>\n      </g>\n     </g>\n     <g id=\"text_8\">\n      <!-- 0.5 -->\n      <g transform=\"translate(7.2 130.56865) scale(0.1 -0.1)\">\n       <defs>\n        <path id=\"DejaVuSans-2e\" d=\"M 684 794 \nL 1344 794 \nL 1344 0 \nL 684 0 \nL 684 794 \nz\n\" transform=\"scale(0.015625)\"/>\n        <path id=\"DejaVuSans-35\" d=\"M 691 4666 \nL 3169 4666 \nL 3169 4134 \nL 1269 4134 \nL 1269 2991 \nQ 1406 3038 1543 3061 \nQ 1681 3084 1819 3084 \nQ 2600 3084 3056 2656 \nQ 3513 2228 3513 1497 \nQ 3513 744 3044 326 \nQ 2575 -91 1722 -91 \nQ 1428 -91 1123 -41 \nQ 819 9 494 109 \nL 494 744 \nQ 775 591 1075 516 \nQ 1375 441 1709 441 \nQ 2250 441 2565 725 \nQ 2881 1009 2881 1497 \nQ 2881 1984 2565 2268 \nQ 2250 2553 1709 2553 \nQ 1456 2553 1204 2497 \nQ 953 2441 691 2322 \nL 691 4666 \nz\n\" transform=\"scale(0.015625)\"/>\n       </defs>\n       <use xlink:href=\"#DejaVuSans-30\"/>\n       <use xlink:href=\"#DejaVuSans-2e\" x=\"63.623047\"/>\n       <use xlink:href=\"#DejaVuSans-35\" x=\"95.410156\"/>\n      </g>\n     </g>\n    </g>\n    <g id=\"ytick_2\">\n     <g id=\"line2d_8\">\n      <g>\n       <use xlink:href=\"#m33402da3fe\" x=\"30.103125\" y=\"95.237932\" style=\"stroke: #000000; stroke-width: 0.8\"/>\n      </g>\n     </g>\n     <g id=\"text_9\">\n      <!-- 1.0 -->\n      <g transform=\"translate(7.2 99.037151) scale(0.1 -0.1)\">\n       <use xlink:href=\"#DejaVuSans-31\"/>\n       <use xlink:href=\"#DejaVuSans-2e\" x=\"63.623047\"/>\n       <use xlink:href=\"#DejaVuSans-30\" x=\"95.410156\"/>\n      </g>\n     </g>\n    </g>\n    <g id=\"ytick_3\">\n     <g id=\"line2d_9\">\n      <g>\n       <use xlink:href=\"#m33402da3fe\" x=\"30.103125\" y=\"63.706433\" style=\"stroke: #000000; stroke-width: 0.8\"/>\n      </g>\n     </g>\n     <g id=\"text_10\">\n      <!-- 1.5 -->\n      <g transform=\"translate(7.2 67.505652) scale(0.1 -0.1)\">\n       <use xlink:href=\"#DejaVuSans-31\"/>\n       <use xlink:href=\"#DejaVuSans-2e\" x=\"63.623047\"/>\n       <use xlink:href=\"#DejaVuSans-35\" x=\"95.410156\"/>\n      </g>\n     </g>\n    </g>\n    <g id=\"ytick_4\">\n     <g id=\"line2d_10\">\n      <g>\n       <use xlink:href=\"#m33402da3fe\" x=\"30.103125\" y=\"32.174934\" style=\"stroke: #000000; stroke-width: 0.8\"/>\n      </g>\n     </g>\n     <g id=\"text_11\">\n      <!-- 2.0 -->\n      <g transform=\"translate(7.2 35.974153) scale(0.1 -0.1)\">\n       <use xlink:href=\"#DejaVuSans-32\"/>\n       <use xlink:href=\"#DejaVuSans-2e\" x=\"63.623047\"/>\n       <use xlink:href=\"#DejaVuSans-30\" x=\"95.410156\"/>\n      </g>\n     </g>\n    </g>\n   </g>\n   <g id=\"line2d_11\">\n    <path d=\"M 34.954394 13.5 \n\" clip-path=\"url(#pa4152ad848)\" style=\"fill: none; stroke: #1f77b4; stroke-width: 1.5; stroke-linecap: square\"/>\n   </g>\n   <g id=\"line2d_12\">\n    <path d=\"M 34.954394 13.5 \nL 44.698573 60.569251 \n\" clip-path=\"url(#pa4152ad848)\" style=\"fill: none; stroke: #1f77b4; stroke-width: 1.5; stroke-linecap: square\"/>\n   </g>\n   <g id=\"line2d_13\">\n    <path d=\"M 34.954394 13.5 \nL 44.698573 60.569251 \n\" clip-path=\"url(#pa4152ad848)\" style=\"fill: none; stroke: #1f77b4; stroke-width: 1.5; stroke-linecap: square\"/>\n   </g>\n   <g id=\"line2d_14\">\n    <path d=\"M 49.633125 104.69878 \n\" clip-path=\"url(#pa4152ad848)\" style=\"fill: none; stroke-dasharray: 5.55,2.4; stroke-dashoffset: 0; stroke: #ff7f0e; stroke-width: 1.5\"/>\n   </g>\n   <g id=\"line2d_15\"/>\n   <g id=\"line2d_16\">\n    <path d=\"M 34.954394 13.5 \nL 44.698573 60.569251 \n\" clip-path=\"url(#pa4152ad848)\" style=\"fill: none; stroke: #1f77b4; stroke-width: 1.5; stroke-linecap: square\"/>\n   </g>\n   <g id=\"line2d_17\">\n    <path d=\"M 49.633125 104.69878 \n\" clip-path=\"url(#pa4152ad848)\" style=\"fill: none; stroke-dasharray: 5.55,2.4; stroke-dashoffset: 0; stroke: #ff7f0e; stroke-width: 1.5\"/>\n   </g>\n   <g id=\"line2d_18\">\n    <path d=\"M 49.633125 115.387907 \n\" clip-path=\"url(#pa4152ad848)\" style=\"fill: none; stroke-dasharray: 9.6,2.4,1.5,2.4; stroke-dashoffset: 0; stroke: #2ca02c; stroke-width: 1.5\"/>\n   </g>\n   <g id=\"line2d_19\">\n    <path d=\"M 34.954394 13.5 \nL 44.698573 60.569251 \nL 54.442752 110.914952 \n\" clip-path=\"url(#pa4152ad848)\" style=\"fill: none; stroke: #1f77b4; stroke-width: 1.5; stroke-linecap: square\"/>\n   </g>\n   <g id=\"line2d_20\">\n    <path d=\"M 49.633125 104.69878 \n\" clip-path=\"url(#pa4152ad848)\" style=\"fill: none; stroke-dasharray: 5.55,2.4; stroke-dashoffset: 0; stroke: #ff7f0e; stroke-width: 1.5\"/>\n   </g>\n   <g id=\"line2d_21\">\n    <path d=\"M 49.633125 115.387907 \n\" clip-path=\"url(#pa4152ad848)\" style=\"fill: none; stroke-dasharray: 9.6,2.4,1.5,2.4; stroke-dashoffset: 0; stroke: #2ca02c; stroke-width: 1.5\"/>\n   </g>\n   <g id=\"line2d_22\">\n    <path d=\"M 34.954394 13.5 \nL 44.698573 60.569251 \nL 54.442752 110.914952 \nL 64.186931 119.581167 \n\" clip-path=\"url(#pa4152ad848)\" style=\"fill: none; stroke: #1f77b4; stroke-width: 1.5; stroke-linecap: square\"/>\n   </g>\n   <g id=\"line2d_23\">\n    <path d=\"M 49.633125 104.69878 \n\" clip-path=\"url(#pa4152ad848)\" style=\"fill: none; stroke-dasharray: 5.55,2.4; stroke-dashoffset: 0; stroke: #ff7f0e; stroke-width: 1.5\"/>\n   </g>\n   <g id=\"line2d_24\">\n    <path d=\"M 49.633125 115.387907 \n\" clip-path=\"url(#pa4152ad848)\" style=\"fill: none; stroke-dasharray: 9.6,2.4,1.5,2.4; stroke-dashoffset: 0; stroke: #2ca02c; stroke-width: 1.5\"/>\n   </g>\n   <g id=\"line2d_25\">\n    <path d=\"M 34.954394 13.5 \nL 44.698573 60.569251 \nL 54.442752 110.914952 \nL 64.186931 119.581167 \n\" clip-path=\"url(#pa4152ad848)\" style=\"fill: none; stroke: #1f77b4; stroke-width: 1.5; stroke-linecap: square\"/>\n   </g>\n   <g id=\"line2d_26\">\n    <path d=\"M 49.633125 104.69878 \nL 69.163125 125.586177 \n\" clip-path=\"url(#pa4152ad848)\" style=\"fill: none; stroke-dasharray: 5.55,2.4; stroke-dashoffset: 0; stroke: #ff7f0e; stroke-width: 1.5\"/>\n   </g>\n   <g id=\"line2d_27\">\n    <path d=\"M 49.633125 115.387907 \n\" clip-path=\"url(#pa4152ad848)\" style=\"fill: none; stroke-dasharray: 9.6,2.4,1.5,2.4; stroke-dashoffset: 0; stroke: #2ca02c; stroke-width: 1.5\"/>\n   </g>\n   <g id=\"line2d_28\">\n    <path d=\"M 34.954394 13.5 \nL 44.698573 60.569251 \nL 54.442752 110.914952 \nL 64.186931 119.581167 \n\" clip-path=\"url(#pa4152ad848)\" style=\"fill: none; stroke: #1f77b4; stroke-width: 1.5; stroke-linecap: square\"/>\n   </g>\n   <g id=\"line2d_29\">\n    <path d=\"M 49.633125 104.69878 \nL 69.163125 125.586177 \n\" clip-path=\"url(#pa4152ad848)\" style=\"fill: none; stroke-dasharray: 5.55,2.4; stroke-dashoffset: 0; stroke: #ff7f0e; stroke-width: 1.5\"/>\n   </g>\n   <g id=\"line2d_30\">\n    <path d=\"M 49.633125 115.387907 \nL 69.163125 107.891692 \n\" clip-path=\"url(#pa4152ad848)\" style=\"fill: none; stroke-dasharray: 9.6,2.4,1.5,2.4; stroke-dashoffset: 0; stroke: #2ca02c; stroke-width: 1.5\"/>\n   </g>\n   <g id=\"line2d_31\">\n    <path d=\"M 34.954394 13.5 \nL 44.698573 60.569251 \nL 54.442752 110.914952 \nL 64.186931 119.581167 \nL 73.93111 124.273579 \n\" clip-path=\"url(#pa4152ad848)\" style=\"fill: none; stroke: #1f77b4; stroke-width: 1.5; stroke-linecap: square\"/>\n   </g>\n   <g id=\"line2d_32\">\n    <path d=\"M 49.633125 104.69878 \nL 69.163125 125.586177 \n\" clip-path=\"url(#pa4152ad848)\" style=\"fill: none; stroke-dasharray: 5.55,2.4; stroke-dashoffset: 0; stroke: #ff7f0e; stroke-width: 1.5\"/>\n   </g>\n   <g id=\"line2d_33\">\n    <path d=\"M 49.633125 115.387907 \nL 69.163125 107.891692 \n\" clip-path=\"url(#pa4152ad848)\" style=\"fill: none; stroke-dasharray: 9.6,2.4,1.5,2.4; stroke-dashoffset: 0; stroke: #2ca02c; stroke-width: 1.5\"/>\n   </g>\n   <g id=\"line2d_34\">\n    <path d=\"M 34.954394 13.5 \nL 44.698573 60.569251 \nL 54.442752 110.914952 \nL 64.186931 119.581167 \nL 73.93111 124.273579 \nL 83.675289 127.457864 \n\" clip-path=\"url(#pa4152ad848)\" style=\"fill: none; stroke: #1f77b4; stroke-width: 1.5; stroke-linecap: square\"/>\n   </g>\n   <g id=\"line2d_35\">\n    <path d=\"M 49.633125 104.69878 \nL 69.163125 125.586177 \n\" clip-path=\"url(#pa4152ad848)\" style=\"fill: none; stroke-dasharray: 5.55,2.4; stroke-dashoffset: 0; stroke: #ff7f0e; stroke-width: 1.5\"/>\n   </g>\n   <g id=\"line2d_36\">\n    <path d=\"M 49.633125 115.387907 \nL 69.163125 107.891692 \n\" clip-path=\"url(#pa4152ad848)\" style=\"fill: none; stroke-dasharray: 9.6,2.4,1.5,2.4; stroke-dashoffset: 0; stroke: #2ca02c; stroke-width: 1.5\"/>\n   </g>\n   <g id=\"line2d_37\">\n    <path d=\"M 34.954394 13.5 \nL 44.698573 60.569251 \nL 54.442752 110.914952 \nL 64.186931 119.581167 \nL 73.93111 124.273579 \nL 83.675289 127.457864 \n\" clip-path=\"url(#pa4152ad848)\" style=\"fill: none; stroke: #1f77b4; stroke-width: 1.5; stroke-linecap: square\"/>\n   </g>\n   <g id=\"line2d_38\">\n    <path d=\"M 49.633125 104.69878 \nL 69.163125 125.586177 \nL 88.693125 130.678673 \n\" clip-path=\"url(#pa4152ad848)\" style=\"fill: none; stroke-dasharray: 5.55,2.4; stroke-dashoffset: 0; stroke: #ff7f0e; stroke-width: 1.5\"/>\n   </g>\n   <g id=\"line2d_39\">\n    <path d=\"M 49.633125 115.387907 \nL 69.163125 107.891692 \n\" clip-path=\"url(#pa4152ad848)\" style=\"fill: none; stroke-dasharray: 9.6,2.4,1.5,2.4; stroke-dashoffset: 0; stroke: #2ca02c; stroke-width: 1.5\"/>\n   </g>\n   <g id=\"line2d_40\">\n    <path d=\"M 34.954394 13.5 \nL 44.698573 60.569251 \nL 54.442752 110.914952 \nL 64.186931 119.581167 \nL 73.93111 124.273579 \nL 83.675289 127.457864 \n\" clip-path=\"url(#pa4152ad848)\" style=\"fill: none; stroke: #1f77b4; stroke-width: 1.5; stroke-linecap: square\"/>\n   </g>\n   <g id=\"line2d_41\">\n    <path d=\"M 49.633125 104.69878 \nL 69.163125 125.586177 \nL 88.693125 130.678673 \n\" clip-path=\"url(#pa4152ad848)\" style=\"fill: none; stroke-dasharray: 5.55,2.4; stroke-dashoffset: 0; stroke: #ff7f0e; stroke-width: 1.5\"/>\n   </g>\n   <g id=\"line2d_42\">\n    <path d=\"M 49.633125 115.387907 \nL 69.163125 107.891692 \nL 88.693125 105.428294 \n\" clip-path=\"url(#pa4152ad848)\" style=\"fill: none; stroke-dasharray: 9.6,2.4,1.5,2.4; stroke-dashoffset: 0; stroke: #2ca02c; stroke-width: 1.5\"/>\n   </g>\n   <g id=\"line2d_43\">\n    <path d=\"M 34.954394 13.5 \nL 44.698573 60.569251 \nL 54.442752 110.914952 \nL 64.186931 119.581167 \nL 73.93111 124.273579 \nL 83.675289 127.457864 \nL 93.419468 129.426437 \n\" clip-path=\"url(#pa4152ad848)\" style=\"fill: none; stroke: #1f77b4; stroke-width: 1.5; stroke-linecap: square\"/>\n   </g>\n   <g id=\"line2d_44\">\n    <path d=\"M 49.633125 104.69878 \nL 69.163125 125.586177 \nL 88.693125 130.678673 \n\" clip-path=\"url(#pa4152ad848)\" style=\"fill: none; stroke-dasharray: 5.55,2.4; stroke-dashoffset: 0; stroke: #ff7f0e; stroke-width: 1.5\"/>\n   </g>\n   <g id=\"line2d_45\">\n    <path d=\"M 49.633125 115.387907 \nL 69.163125 107.891692 \nL 88.693125 105.428294 \n\" clip-path=\"url(#pa4152ad848)\" style=\"fill: none; stroke-dasharray: 9.6,2.4,1.5,2.4; stroke-dashoffset: 0; stroke: #2ca02c; stroke-width: 1.5\"/>\n   </g>\n   <g id=\"line2d_46\">\n    <path d=\"M 34.954394 13.5 \nL 44.698573 60.569251 \nL 54.442752 110.914952 \nL 64.186931 119.581167 \nL 73.93111 124.273579 \nL 83.675289 127.457864 \nL 93.419468 129.426437 \nL 103.163647 131.51647 \n\" clip-path=\"url(#pa4152ad848)\" style=\"fill: none; stroke: #1f77b4; stroke-width: 1.5; stroke-linecap: square\"/>\n   </g>\n   <g id=\"line2d_47\">\n    <path d=\"M 49.633125 104.69878 \nL 69.163125 125.586177 \nL 88.693125 130.678673 \n\" clip-path=\"url(#pa4152ad848)\" style=\"fill: none; stroke-dasharray: 5.55,2.4; stroke-dashoffset: 0; stroke: #ff7f0e; stroke-width: 1.5\"/>\n   </g>\n   <g id=\"line2d_48\">\n    <path d=\"M 49.633125 115.387907 \nL 69.163125 107.891692 \nL 88.693125 105.428294 \n\" clip-path=\"url(#pa4152ad848)\" style=\"fill: none; stroke-dasharray: 9.6,2.4,1.5,2.4; stroke-dashoffset: 0; stroke: #2ca02c; stroke-width: 1.5\"/>\n   </g>\n   <g id=\"line2d_49\">\n    <path d=\"M 34.954394 13.5 \nL 44.698573 60.569251 \nL 54.442752 110.914952 \nL 64.186931 119.581167 \nL 73.93111 124.273579 \nL 83.675289 127.457864 \nL 93.419468 129.426437 \nL 103.163647 131.51647 \n\" clip-path=\"url(#pa4152ad848)\" style=\"fill: none; stroke: #1f77b4; stroke-width: 1.5; stroke-linecap: square\"/>\n   </g>\n   <g id=\"line2d_50\">\n    <path d=\"M 49.633125 104.69878 \nL 69.163125 125.586177 \nL 88.693125 130.678673 \nL 108.223125 133.624487 \n\" clip-path=\"url(#pa4152ad848)\" style=\"fill: none; stroke-dasharray: 5.55,2.4; stroke-dashoffset: 0; stroke: #ff7f0e; stroke-width: 1.5\"/>\n   </g>\n   <g id=\"line2d_51\">\n    <path d=\"M 49.633125 115.387907 \nL 69.163125 107.891692 \nL 88.693125 105.428294 \n\" clip-path=\"url(#pa4152ad848)\" style=\"fill: none; stroke-dasharray: 9.6,2.4,1.5,2.4; stroke-dashoffset: 0; stroke: #2ca02c; stroke-width: 1.5\"/>\n   </g>\n   <g id=\"line2d_52\">\n    <path d=\"M 34.954394 13.5 \nL 44.698573 60.569251 \nL 54.442752 110.914952 \nL 64.186931 119.581167 \nL 73.93111 124.273579 \nL 83.675289 127.457864 \nL 93.419468 129.426437 \nL 103.163647 131.51647 \n\" clip-path=\"url(#pa4152ad848)\" style=\"fill: none; stroke: #1f77b4; stroke-width: 1.5; stroke-linecap: square\"/>\n   </g>\n   <g id=\"line2d_53\">\n    <path d=\"M 49.633125 104.69878 \nL 69.163125 125.586177 \nL 88.693125 130.678673 \nL 108.223125 133.624487 \n\" clip-path=\"url(#pa4152ad848)\" style=\"fill: none; stroke-dasharray: 5.55,2.4; stroke-dashoffset: 0; stroke: #ff7f0e; stroke-width: 1.5\"/>\n   </g>\n   <g id=\"line2d_54\">\n    <path d=\"M 49.633125 115.387907 \nL 69.163125 107.891692 \nL 88.693125 105.428294 \nL 108.223125 104.193477 \n\" clip-path=\"url(#pa4152ad848)\" style=\"fill: none; stroke-dasharray: 9.6,2.4,1.5,2.4; stroke-dashoffset: 0; stroke: #2ca02c; stroke-width: 1.5\"/>\n   </g>\n   <g id=\"line2d_55\">\n    <path d=\"M 34.954394 13.5 \nL 44.698573 60.569251 \nL 54.442752 110.914952 \nL 64.186931 119.581167 \nL 73.93111 124.273579 \nL 83.675289 127.457864 \nL 93.419468 129.426437 \nL 103.163647 131.51647 \nL 112.907826 132.938481 \n\" clip-path=\"url(#pa4152ad848)\" style=\"fill: none; stroke: #1f77b4; stroke-width: 1.5; stroke-linecap: square\"/>\n   </g>\n   <g id=\"line2d_56\">\n    <path d=\"M 49.633125 104.69878 \nL 69.163125 125.586177 \nL 88.693125 130.678673 \nL 108.223125 133.624487 \n\" clip-path=\"url(#pa4152ad848)\" style=\"fill: none; stroke-dasharray: 5.55,2.4; stroke-dashoffset: 0; stroke: #ff7f0e; stroke-width: 1.5\"/>\n   </g>\n   <g id=\"line2d_57\">\n    <path d=\"M 49.633125 115.387907 \nL 69.163125 107.891692 \nL 88.693125 105.428294 \nL 108.223125 104.193477 \n\" clip-path=\"url(#pa4152ad848)\" style=\"fill: none; stroke-dasharray: 9.6,2.4,1.5,2.4; stroke-dashoffset: 0; stroke: #2ca02c; stroke-width: 1.5\"/>\n   </g>\n   <g id=\"line2d_58\">\n    <path d=\"M 34.954394 13.5 \nL 44.698573 60.569251 \nL 54.442752 110.914952 \nL 64.186931 119.581167 \nL 73.93111 124.273579 \nL 83.675289 127.457864 \nL 93.419468 129.426437 \nL 103.163647 131.51647 \nL 112.907826 132.938481 \nL 122.652006 133.239483 \n\" clip-path=\"url(#pa4152ad848)\" style=\"fill: none; stroke: #1f77b4; stroke-width: 1.5; stroke-linecap: square\"/>\n   </g>\n   <g id=\"line2d_59\">\n    <path d=\"M 49.633125 104.69878 \nL 69.163125 125.586177 \nL 88.693125 130.678673 \nL 108.223125 133.624487 \n\" clip-path=\"url(#pa4152ad848)\" style=\"fill: none; stroke-dasharray: 5.55,2.4; stroke-dashoffset: 0; stroke: #ff7f0e; stroke-width: 1.5\"/>\n   </g>\n   <g id=\"line2d_60\">\n    <path d=\"M 49.633125 115.387907 \nL 69.163125 107.891692 \nL 88.693125 105.428294 \nL 108.223125 104.193477 \n\" clip-path=\"url(#pa4152ad848)\" style=\"fill: none; stroke-dasharray: 9.6,2.4,1.5,2.4; stroke-dashoffset: 0; stroke: #2ca02c; stroke-width: 1.5\"/>\n   </g>\n   <g id=\"line2d_61\">\n    <path d=\"M 34.954394 13.5 \nL 44.698573 60.569251 \nL 54.442752 110.914952 \nL 64.186931 119.581167 \nL 73.93111 124.273579 \nL 83.675289 127.457864 \nL 93.419468 129.426437 \nL 103.163647 131.51647 \nL 112.907826 132.938481 \nL 122.652006 133.239483 \n\" clip-path=\"url(#pa4152ad848)\" style=\"fill: none; stroke: #1f77b4; stroke-width: 1.5; stroke-linecap: square\"/>\n   </g>\n   <g id=\"line2d_62\">\n    <path d=\"M 49.633125 104.69878 \nL 69.163125 125.586177 \nL 88.693125 130.678673 \nL 108.223125 133.624487 \nL 127.753125 135.558641 \n\" clip-path=\"url(#pa4152ad848)\" style=\"fill: none; stroke-dasharray: 5.55,2.4; stroke-dashoffset: 0; stroke: #ff7f0e; stroke-width: 1.5\"/>\n   </g>\n   <g id=\"line2d_63\">\n    <path d=\"M 49.633125 115.387907 \nL 69.163125 107.891692 \nL 88.693125 105.428294 \nL 108.223125 104.193477 \n\" clip-path=\"url(#pa4152ad848)\" style=\"fill: none; stroke-dasharray: 9.6,2.4,1.5,2.4; stroke-dashoffset: 0; stroke: #2ca02c; stroke-width: 1.5\"/>\n   </g>\n   <g id=\"line2d_64\">\n    <path d=\"M 34.954394 13.5 \nL 44.698573 60.569251 \nL 54.442752 110.914952 \nL 64.186931 119.581167 \nL 73.93111 124.273579 \nL 83.675289 127.457864 \nL 93.419468 129.426437 \nL 103.163647 131.51647 \nL 112.907826 132.938481 \nL 122.652006 133.239483 \n\" clip-path=\"url(#pa4152ad848)\" style=\"fill: none; stroke: #1f77b4; stroke-width: 1.5; stroke-linecap: square\"/>\n   </g>\n   <g id=\"line2d_65\">\n    <path d=\"M 49.633125 104.69878 \nL 69.163125 125.586177 \nL 88.693125 130.678673 \nL 108.223125 133.624487 \nL 127.753125 135.558641 \n\" clip-path=\"url(#pa4152ad848)\" style=\"fill: none; stroke-dasharray: 5.55,2.4; stroke-dashoffset: 0; stroke: #ff7f0e; stroke-width: 1.5\"/>\n   </g>\n   <g id=\"line2d_66\">\n    <path d=\"M 49.633125 115.387907 \nL 69.163125 107.891692 \nL 88.693125 105.428294 \nL 108.223125 104.193477 \nL 127.753125 103.669615 \n\" clip-path=\"url(#pa4152ad848)\" style=\"fill: none; stroke-dasharray: 9.6,2.4,1.5,2.4; stroke-dashoffset: 0; stroke: #2ca02c; stroke-width: 1.5\"/>\n   </g>\n   <g id=\"line2d_67\">\n    <path d=\"M 34.954394 13.5 \nL 44.698573 60.569251 \nL 54.442752 110.914952 \nL 64.186931 119.581167 \nL 73.93111 124.273579 \nL 83.675289 127.457864 \nL 93.419468 129.426437 \nL 103.163647 131.51647 \nL 112.907826 132.938481 \nL 122.652006 133.239483 \nL 132.396185 134.313207 \n\" clip-path=\"url(#pa4152ad848)\" style=\"fill: none; stroke: #1f77b4; stroke-width: 1.5; stroke-linecap: square\"/>\n   </g>\n   <g id=\"line2d_68\">\n    <path d=\"M 49.633125 104.69878 \nL 69.163125 125.586177 \nL 88.693125 130.678673 \nL 108.223125 133.624487 \nL 127.753125 135.558641 \n\" clip-path=\"url(#pa4152ad848)\" style=\"fill: none; stroke-dasharray: 5.55,2.4; stroke-dashoffset: 0; stroke: #ff7f0e; stroke-width: 1.5\"/>\n   </g>\n   <g id=\"line2d_69\">\n    <path d=\"M 49.633125 115.387907 \nL 69.163125 107.891692 \nL 88.693125 105.428294 \nL 108.223125 104.193477 \nL 127.753125 103.669615 \n\" clip-path=\"url(#pa4152ad848)\" style=\"fill: none; stroke-dasharray: 9.6,2.4,1.5,2.4; stroke-dashoffset: 0; stroke: #2ca02c; stroke-width: 1.5\"/>\n   </g>\n   <g id=\"line2d_70\">\n    <path d=\"M 34.954394 13.5 \nL 44.698573 60.569251 \nL 54.442752 110.914952 \nL 64.186931 119.581167 \nL 73.93111 124.273579 \nL 83.675289 127.457864 \nL 93.419468 129.426437 \nL 103.163647 131.51647 \nL 112.907826 132.938481 \nL 122.652006 133.239483 \nL 132.396185 134.313207 \nL 142.140364 135.401724 \n\" clip-path=\"url(#pa4152ad848)\" style=\"fill: none; stroke: #1f77b4; stroke-width: 1.5; stroke-linecap: square\"/>\n   </g>\n   <g id=\"line2d_71\">\n    <path d=\"M 49.633125 104.69878 \nL 69.163125 125.586177 \nL 88.693125 130.678673 \nL 108.223125 133.624487 \nL 127.753125 135.558641 \n\" clip-path=\"url(#pa4152ad848)\" style=\"fill: none; stroke-dasharray: 5.55,2.4; stroke-dashoffset: 0; stroke: #ff7f0e; stroke-width: 1.5\"/>\n   </g>\n   <g id=\"line2d_72\">\n    <path d=\"M 49.633125 115.387907 \nL 69.163125 107.891692 \nL 88.693125 105.428294 \nL 108.223125 104.193477 \nL 127.753125 103.669615 \n\" clip-path=\"url(#pa4152ad848)\" style=\"fill: none; stroke-dasharray: 9.6,2.4,1.5,2.4; stroke-dashoffset: 0; stroke: #2ca02c; stroke-width: 1.5\"/>\n   </g>\n   <g id=\"line2d_73\">\n    <path d=\"M 34.954394 13.5 \nL 44.698573 60.569251 \nL 54.442752 110.914952 \nL 64.186931 119.581167 \nL 73.93111 124.273579 \nL 83.675289 127.457864 \nL 93.419468 129.426437 \nL 103.163647 131.51647 \nL 112.907826 132.938481 \nL 122.652006 133.239483 \nL 132.396185 134.313207 \nL 142.140364 135.401724 \n\" clip-path=\"url(#pa4152ad848)\" style=\"fill: none; stroke: #1f77b4; stroke-width: 1.5; stroke-linecap: square\"/>\n   </g>\n   <g id=\"line2d_74\">\n    <path d=\"M 49.633125 104.69878 \nL 69.163125 125.586177 \nL 88.693125 130.678673 \nL 108.223125 133.624487 \nL 127.753125 135.558641 \nL 147.283125 136.607894 \n\" clip-path=\"url(#pa4152ad848)\" style=\"fill: none; stroke-dasharray: 5.55,2.4; stroke-dashoffset: 0; stroke: #ff7f0e; stroke-width: 1.5\"/>\n   </g>\n   <g id=\"line2d_75\">\n    <path d=\"M 49.633125 115.387907 \nL 69.163125 107.891692 \nL 88.693125 105.428294 \nL 108.223125 104.193477 \nL 127.753125 103.669615 \n\" clip-path=\"url(#pa4152ad848)\" style=\"fill: none; stroke-dasharray: 9.6,2.4,1.5,2.4; stroke-dashoffset: 0; stroke: #2ca02c; stroke-width: 1.5\"/>\n   </g>\n   <g id=\"line2d_76\">\n    <path d=\"M 34.954394 13.5 \nL 44.698573 60.569251 \nL 54.442752 110.914952 \nL 64.186931 119.581167 \nL 73.93111 124.273579 \nL 83.675289 127.457864 \nL 93.419468 129.426437 \nL 103.163647 131.51647 \nL 112.907826 132.938481 \nL 122.652006 133.239483 \nL 132.396185 134.313207 \nL 142.140364 135.401724 \n\" clip-path=\"url(#pa4152ad848)\" style=\"fill: none; stroke: #1f77b4; stroke-width: 1.5; stroke-linecap: square\"/>\n   </g>\n   <g id=\"line2d_77\">\n    <path d=\"M 49.633125 104.69878 \nL 69.163125 125.586177 \nL 88.693125 130.678673 \nL 108.223125 133.624487 \nL 127.753125 135.558641 \nL 147.283125 136.607894 \n\" clip-path=\"url(#pa4152ad848)\" style=\"fill: none; stroke-dasharray: 5.55,2.4; stroke-dashoffset: 0; stroke: #ff7f0e; stroke-width: 1.5\"/>\n   </g>\n   <g id=\"line2d_78\">\n    <path d=\"M 49.633125 115.387907 \nL 69.163125 107.891692 \nL 88.693125 105.428294 \nL 108.223125 104.193477 \nL 127.753125 103.669615 \nL 147.283125 103.201881 \n\" clip-path=\"url(#pa4152ad848)\" style=\"fill: none; stroke-dasharray: 9.6,2.4,1.5,2.4; stroke-dashoffset: 0; stroke: #2ca02c; stroke-width: 1.5\"/>\n   </g>\n   <g id=\"line2d_79\">\n    <path d=\"M 34.954394 13.5 \nL 44.698573 60.569251 \nL 54.442752 110.914952 \nL 64.186931 119.581167 \nL 73.93111 124.273579 \nL 83.675289 127.457864 \nL 93.419468 129.426437 \nL 103.163647 131.51647 \nL 112.907826 132.938481 \nL 122.652006 133.239483 \nL 132.396185 134.313207 \nL 142.140364 135.401724 \nL 151.884543 136.033176 \n\" clip-path=\"url(#pa4152ad848)\" style=\"fill: none; stroke: #1f77b4; stroke-width: 1.5; stroke-linecap: square\"/>\n   </g>\n   <g id=\"line2d_80\">\n    <path d=\"M 49.633125 104.69878 \nL 69.163125 125.586177 \nL 88.693125 130.678673 \nL 108.223125 133.624487 \nL 127.753125 135.558641 \nL 147.283125 136.607894 \n\" clip-path=\"url(#pa4152ad848)\" style=\"fill: none; stroke-dasharray: 5.55,2.4; stroke-dashoffset: 0; stroke: #ff7f0e; stroke-width: 1.5\"/>\n   </g>\n   <g id=\"line2d_81\">\n    <path d=\"M 49.633125 115.387907 \nL 69.163125 107.891692 \nL 88.693125 105.428294 \nL 108.223125 104.193477 \nL 127.753125 103.669615 \nL 147.283125 103.201881 \n\" clip-path=\"url(#pa4152ad848)\" style=\"fill: none; stroke-dasharray: 9.6,2.4,1.5,2.4; stroke-dashoffset: 0; stroke: #2ca02c; stroke-width: 1.5\"/>\n   </g>\n   <g id=\"line2d_82\">\n    <path d=\"M 34.954394 13.5 \nL 44.698573 60.569251 \nL 54.442752 110.914952 \nL 64.186931 119.581167 \nL 73.93111 124.273579 \nL 83.675289 127.457864 \nL 93.419468 129.426437 \nL 103.163647 131.51647 \nL 112.907826 132.938481 \nL 122.652006 133.239483 \nL 132.396185 134.313207 \nL 142.140364 135.401724 \nL 151.884543 136.033176 \nL 161.628722 136.369971 \n\" clip-path=\"url(#pa4152ad848)\" style=\"fill: none; stroke: #1f77b4; stroke-width: 1.5; stroke-linecap: square\"/>\n   </g>\n   <g id=\"line2d_83\">\n    <path d=\"M 49.633125 104.69878 \nL 69.163125 125.586177 \nL 88.693125 130.678673 \nL 108.223125 133.624487 \nL 127.753125 135.558641 \nL 147.283125 136.607894 \n\" clip-path=\"url(#pa4152ad848)\" style=\"fill: none; stroke-dasharray: 5.55,2.4; stroke-dashoffset: 0; stroke: #ff7f0e; stroke-width: 1.5\"/>\n   </g>\n   <g id=\"line2d_84\">\n    <path d=\"M 49.633125 115.387907 \nL 69.163125 107.891692 \nL 88.693125 105.428294 \nL 108.223125 104.193477 \nL 127.753125 103.669615 \nL 147.283125 103.201881 \n\" clip-path=\"url(#pa4152ad848)\" style=\"fill: none; stroke-dasharray: 9.6,2.4,1.5,2.4; stroke-dashoffset: 0; stroke: #2ca02c; stroke-width: 1.5\"/>\n   </g>\n   <g id=\"line2d_85\">\n    <path d=\"M 34.954394 13.5 \nL 44.698573 60.569251 \nL 54.442752 110.914952 \nL 64.186931 119.581167 \nL 73.93111 124.273579 \nL 83.675289 127.457864 \nL 93.419468 129.426437 \nL 103.163647 131.51647 \nL 112.907826 132.938481 \nL 122.652006 133.239483 \nL 132.396185 134.313207 \nL 142.140364 135.401724 \nL 151.884543 136.033176 \nL 161.628722 136.369971 \n\" clip-path=\"url(#pa4152ad848)\" style=\"fill: none; stroke: #1f77b4; stroke-width: 1.5; stroke-linecap: square\"/>\n   </g>\n   <g id=\"line2d_86\">\n    <path d=\"M 49.633125 104.69878 \nL 69.163125 125.586177 \nL 88.693125 130.678673 \nL 108.223125 133.624487 \nL 127.753125 135.558641 \nL 147.283125 136.607894 \nL 166.813125 137.335166 \n\" clip-path=\"url(#pa4152ad848)\" style=\"fill: none; stroke-dasharray: 5.55,2.4; stroke-dashoffset: 0; stroke: #ff7f0e; stroke-width: 1.5\"/>\n   </g>\n   <g id=\"line2d_87\">\n    <path d=\"M 49.633125 115.387907 \nL 69.163125 107.891692 \nL 88.693125 105.428294 \nL 108.223125 104.193477 \nL 127.753125 103.669615 \nL 147.283125 103.201881 \n\" clip-path=\"url(#pa4152ad848)\" style=\"fill: none; stroke-dasharray: 9.6,2.4,1.5,2.4; stroke-dashoffset: 0; stroke: #2ca02c; stroke-width: 1.5\"/>\n   </g>\n   <g id=\"line2d_88\">\n    <path d=\"M 34.954394 13.5 \nL 44.698573 60.569251 \nL 54.442752 110.914952 \nL 64.186931 119.581167 \nL 73.93111 124.273579 \nL 83.675289 127.457864 \nL 93.419468 129.426437 \nL 103.163647 131.51647 \nL 112.907826 132.938481 \nL 122.652006 133.239483 \nL 132.396185 134.313207 \nL 142.140364 135.401724 \nL 151.884543 136.033176 \nL 161.628722 136.369971 \n\" clip-path=\"url(#pa4152ad848)\" style=\"fill: none; stroke: #1f77b4; stroke-width: 1.5; stroke-linecap: square\"/>\n   </g>\n   <g id=\"line2d_89\">\n    <path d=\"M 49.633125 104.69878 \nL 69.163125 125.586177 \nL 88.693125 130.678673 \nL 108.223125 133.624487 \nL 127.753125 135.558641 \nL 147.283125 136.607894 \nL 166.813125 137.335166 \n\" clip-path=\"url(#pa4152ad848)\" style=\"fill: none; stroke-dasharray: 5.55,2.4; stroke-dashoffset: 0; stroke: #ff7f0e; stroke-width: 1.5\"/>\n   </g>\n   <g id=\"line2d_90\">\n    <path d=\"M 49.633125 115.387907 \nL 69.163125 107.891692 \nL 88.693125 105.428294 \nL 108.223125 104.193477 \nL 127.753125 103.669615 \nL 147.283125 103.201881 \nL 166.813125 102.883822 \n\" clip-path=\"url(#pa4152ad848)\" style=\"fill: none; stroke-dasharray: 9.6,2.4,1.5,2.4; stroke-dashoffset: 0; stroke: #2ca02c; stroke-width: 1.5\"/>\n   </g>\n   <g id=\"line2d_91\">\n    <path d=\"M 34.954394 13.5 \nL 44.698573 60.569251 \nL 54.442752 110.914952 \nL 64.186931 119.581167 \nL 73.93111 124.273579 \nL 83.675289 127.457864 \nL 93.419468 129.426437 \nL 103.163647 131.51647 \nL 112.907826 132.938481 \nL 122.652006 133.239483 \nL 132.396185 134.313207 \nL 142.140364 135.401724 \nL 151.884543 136.033176 \nL 161.628722 136.369971 \nL 171.372901 137.177794 \n\" clip-path=\"url(#pa4152ad848)\" style=\"fill: none; stroke: #1f77b4; stroke-width: 1.5; stroke-linecap: square\"/>\n   </g>\n   <g id=\"line2d_92\">\n    <path d=\"M 49.633125 104.69878 \nL 69.163125 125.586177 \nL 88.693125 130.678673 \nL 108.223125 133.624487 \nL 127.753125 135.558641 \nL 147.283125 136.607894 \nL 166.813125 137.335166 \n\" clip-path=\"url(#pa4152ad848)\" style=\"fill: none; stroke-dasharray: 5.55,2.4; stroke-dashoffset: 0; stroke: #ff7f0e; stroke-width: 1.5\"/>\n   </g>\n   <g id=\"line2d_93\">\n    <path d=\"M 49.633125 115.387907 \nL 69.163125 107.891692 \nL 88.693125 105.428294 \nL 108.223125 104.193477 \nL 127.753125 103.669615 \nL 147.283125 103.201881 \nL 166.813125 102.883822 \n\" clip-path=\"url(#pa4152ad848)\" style=\"fill: none; stroke-dasharray: 9.6,2.4,1.5,2.4; stroke-dashoffset: 0; stroke: #2ca02c; stroke-width: 1.5\"/>\n   </g>\n   <g id=\"line2d_94\">\n    <path d=\"M 34.954394 13.5 \nL 44.698573 60.569251 \nL 54.442752 110.914952 \nL 64.186931 119.581167 \nL 73.93111 124.273579 \nL 83.675289 127.457864 \nL 93.419468 129.426437 \nL 103.163647 131.51647 \nL 112.907826 132.938481 \nL 122.652006 133.239483 \nL 132.396185 134.313207 \nL 142.140364 135.401724 \nL 151.884543 136.033176 \nL 161.628722 136.369971 \nL 171.372901 137.177794 \nL 181.11708 137.60792 \n\" clip-path=\"url(#pa4152ad848)\" style=\"fill: none; stroke: #1f77b4; stroke-width: 1.5; stroke-linecap: square\"/>\n   </g>\n   <g id=\"line2d_95\">\n    <path d=\"M 49.633125 104.69878 \nL 69.163125 125.586177 \nL 88.693125 130.678673 \nL 108.223125 133.624487 \nL 127.753125 135.558641 \nL 147.283125 136.607894 \nL 166.813125 137.335166 \n\" clip-path=\"url(#pa4152ad848)\" style=\"fill: none; stroke-dasharray: 5.55,2.4; stroke-dashoffset: 0; stroke: #ff7f0e; stroke-width: 1.5\"/>\n   </g>\n   <g id=\"line2d_96\">\n    <path d=\"M 49.633125 115.387907 \nL 69.163125 107.891692 \nL 88.693125 105.428294 \nL 108.223125 104.193477 \nL 127.753125 103.669615 \nL 147.283125 103.201881 \nL 166.813125 102.883822 \n\" clip-path=\"url(#pa4152ad848)\" style=\"fill: none; stroke-dasharray: 9.6,2.4,1.5,2.4; stroke-dashoffset: 0; stroke: #2ca02c; stroke-width: 1.5\"/>\n   </g>\n   <g id=\"line2d_97\">\n    <path d=\"M 34.954394 13.5 \nL 44.698573 60.569251 \nL 54.442752 110.914952 \nL 64.186931 119.581167 \nL 73.93111 124.273579 \nL 83.675289 127.457864 \nL 93.419468 129.426437 \nL 103.163647 131.51647 \nL 112.907826 132.938481 \nL 122.652006 133.239483 \nL 132.396185 134.313207 \nL 142.140364 135.401724 \nL 151.884543 136.033176 \nL 161.628722 136.369971 \nL 171.372901 137.177794 \nL 181.11708 137.60792 \n\" clip-path=\"url(#pa4152ad848)\" style=\"fill: none; stroke: #1f77b4; stroke-width: 1.5; stroke-linecap: square\"/>\n   </g>\n   <g id=\"line2d_98\">\n    <path d=\"M 49.633125 104.69878 \nL 69.163125 125.586177 \nL 88.693125 130.678673 \nL 108.223125 133.624487 \nL 127.753125 135.558641 \nL 147.283125 136.607894 \nL 166.813125 137.335166 \nL 186.343125 138.493667 \n\" clip-path=\"url(#pa4152ad848)\" style=\"fill: none; stroke-dasharray: 5.55,2.4; stroke-dashoffset: 0; stroke: #ff7f0e; stroke-width: 1.5\"/>\n   </g>\n   <g id=\"line2d_99\">\n    <path d=\"M 49.633125 115.387907 \nL 69.163125 107.891692 \nL 88.693125 105.428294 \nL 108.223125 104.193477 \nL 127.753125 103.669615 \nL 147.283125 103.201881 \nL 166.813125 102.883822 \n\" clip-path=\"url(#pa4152ad848)\" style=\"fill: none; stroke-dasharray: 9.6,2.4,1.5,2.4; stroke-dashoffset: 0; stroke: #2ca02c; stroke-width: 1.5\"/>\n   </g>\n   <g id=\"line2d_100\">\n    <path d=\"M 34.954394 13.5 \nL 44.698573 60.569251 \nL 54.442752 110.914952 \nL 64.186931 119.581167 \nL 73.93111 124.273579 \nL 83.675289 127.457864 \nL 93.419468 129.426437 \nL 103.163647 131.51647 \nL 112.907826 132.938481 \nL 122.652006 133.239483 \nL 132.396185 134.313207 \nL 142.140364 135.401724 \nL 151.884543 136.033176 \nL 161.628722 136.369971 \nL 171.372901 137.177794 \nL 181.11708 137.60792 \n\" clip-path=\"url(#pa4152ad848)\" style=\"fill: none; stroke: #1f77b4; stroke-width: 1.5; stroke-linecap: square\"/>\n   </g>\n   <g id=\"line2d_101\">\n    <path d=\"M 49.633125 104.69878 \nL 69.163125 125.586177 \nL 88.693125 130.678673 \nL 108.223125 133.624487 \nL 127.753125 135.558641 \nL 147.283125 136.607894 \nL 166.813125 137.335166 \nL 186.343125 138.493667 \n\" clip-path=\"url(#pa4152ad848)\" style=\"fill: none; stroke-dasharray: 5.55,2.4; stroke-dashoffset: 0; stroke: #ff7f0e; stroke-width: 1.5\"/>\n   </g>\n   <g id=\"line2d_102\">\n    <path d=\"M 49.633125 115.387907 \nL 69.163125 107.891692 \nL 88.693125 105.428294 \nL 108.223125 104.193477 \nL 127.753125 103.669615 \nL 147.283125 103.201881 \nL 166.813125 102.883822 \nL 186.343125 102.453507 \n\" clip-path=\"url(#pa4152ad848)\" style=\"fill: none; stroke-dasharray: 9.6,2.4,1.5,2.4; stroke-dashoffset: 0; stroke: #2ca02c; stroke-width: 1.5\"/>\n   </g>\n   <g id=\"line2d_103\">\n    <path d=\"M 34.954394 13.5 \nL 44.698573 60.569251 \nL 54.442752 110.914952 \nL 64.186931 119.581167 \nL 73.93111 124.273579 \nL 83.675289 127.457864 \nL 93.419468 129.426437 \nL 103.163647 131.51647 \nL 112.907826 132.938481 \nL 122.652006 133.239483 \nL 132.396185 134.313207 \nL 142.140364 135.401724 \nL 151.884543 136.033176 \nL 161.628722 136.369971 \nL 171.372901 137.177794 \nL 181.11708 137.60792 \nL 190.861259 138.46656 \n\" clip-path=\"url(#pa4152ad848)\" style=\"fill: none; stroke: #1f77b4; stroke-width: 1.5; stroke-linecap: square\"/>\n   </g>\n   <g id=\"line2d_104\">\n    <path d=\"M 49.633125 104.69878 \nL 69.163125 125.586177 \nL 88.693125 130.678673 \nL 108.223125 133.624487 \nL 127.753125 135.558641 \nL 147.283125 136.607894 \nL 166.813125 137.335166 \nL 186.343125 138.493667 \n\" clip-path=\"url(#pa4152ad848)\" style=\"fill: none; stroke-dasharray: 5.55,2.4; stroke-dashoffset: 0; stroke: #ff7f0e; stroke-width: 1.5\"/>\n   </g>\n   <g id=\"line2d_105\">\n    <path d=\"M 49.633125 115.387907 \nL 69.163125 107.891692 \nL 88.693125 105.428294 \nL 108.223125 104.193477 \nL 127.753125 103.669615 \nL 147.283125 103.201881 \nL 166.813125 102.883822 \nL 186.343125 102.453507 \n\" clip-path=\"url(#pa4152ad848)\" style=\"fill: none; stroke-dasharray: 9.6,2.4,1.5,2.4; stroke-dashoffset: 0; stroke: #2ca02c; stroke-width: 1.5\"/>\n   </g>\n   <g id=\"line2d_106\">\n    <path d=\"M 34.954394 13.5 \nL 44.698573 60.569251 \nL 54.442752 110.914952 \nL 64.186931 119.581167 \nL 73.93111 124.273579 \nL 83.675289 127.457864 \nL 93.419468 129.426437 \nL 103.163647 131.51647 \nL 112.907826 132.938481 \nL 122.652006 133.239483 \nL 132.396185 134.313207 \nL 142.140364 135.401724 \nL 151.884543 136.033176 \nL 161.628722 136.369971 \nL 171.372901 137.177794 \nL 181.11708 137.60792 \nL 190.861259 138.46656 \nL 200.605438 138.670524 \n\" clip-path=\"url(#pa4152ad848)\" style=\"fill: none; stroke: #1f77b4; stroke-width: 1.5; stroke-linecap: square\"/>\n   </g>\n   <g id=\"line2d_107\">\n    <path d=\"M 49.633125 104.69878 \nL 69.163125 125.586177 \nL 88.693125 130.678673 \nL 108.223125 133.624487 \nL 127.753125 135.558641 \nL 147.283125 136.607894 \nL 166.813125 137.335166 \nL 186.343125 138.493667 \n\" clip-path=\"url(#pa4152ad848)\" style=\"fill: none; stroke-dasharray: 5.55,2.4; stroke-dashoffset: 0; stroke: #ff7f0e; stroke-width: 1.5\"/>\n   </g>\n   <g id=\"line2d_108\">\n    <path d=\"M 49.633125 115.387907 \nL 69.163125 107.891692 \nL 88.693125 105.428294 \nL 108.223125 104.193477 \nL 127.753125 103.669615 \nL 147.283125 103.201881 \nL 166.813125 102.883822 \nL 186.343125 102.453507 \n\" clip-path=\"url(#pa4152ad848)\" style=\"fill: none; stroke-dasharray: 9.6,2.4,1.5,2.4; stroke-dashoffset: 0; stroke: #2ca02c; stroke-width: 1.5\"/>\n   </g>\n   <g id=\"line2d_109\">\n    <path d=\"M 34.954394 13.5 \nL 44.698573 60.569251 \nL 54.442752 110.914952 \nL 64.186931 119.581167 \nL 73.93111 124.273579 \nL 83.675289 127.457864 \nL 93.419468 129.426437 \nL 103.163647 131.51647 \nL 112.907826 132.938481 \nL 122.652006 133.239483 \nL 132.396185 134.313207 \nL 142.140364 135.401724 \nL 151.884543 136.033176 \nL 161.628722 136.369971 \nL 171.372901 137.177794 \nL 181.11708 137.60792 \nL 190.861259 138.46656 \nL 200.605438 138.670524 \n\" clip-path=\"url(#pa4152ad848)\" style=\"fill: none; stroke: #1f77b4; stroke-width: 1.5; stroke-linecap: square\"/>\n   </g>\n   <g id=\"line2d_110\">\n    <path d=\"M 49.633125 104.69878 \nL 69.163125 125.586177 \nL 88.693125 130.678673 \nL 108.223125 133.624487 \nL 127.753125 135.558641 \nL 147.283125 136.607894 \nL 166.813125 137.335166 \nL 186.343125 138.493667 \nL 205.873125 138.069247 \n\" clip-path=\"url(#pa4152ad848)\" style=\"fill: none; stroke-dasharray: 5.55,2.4; stroke-dashoffset: 0; stroke: #ff7f0e; stroke-width: 1.5\"/>\n   </g>\n   <g id=\"line2d_111\">\n    <path d=\"M 49.633125 115.387907 \nL 69.163125 107.891692 \nL 88.693125 105.428294 \nL 108.223125 104.193477 \nL 127.753125 103.669615 \nL 147.283125 103.201881 \nL 166.813125 102.883822 \nL 186.343125 102.453507 \n\" clip-path=\"url(#pa4152ad848)\" style=\"fill: none; stroke-dasharray: 9.6,2.4,1.5,2.4; stroke-dashoffset: 0; stroke: #2ca02c; stroke-width: 1.5\"/>\n   </g>\n   <g id=\"line2d_112\">\n    <path d=\"M 34.954394 13.5 \nL 44.698573 60.569251 \nL 54.442752 110.914952 \nL 64.186931 119.581167 \nL 73.93111 124.273579 \nL 83.675289 127.457864 \nL 93.419468 129.426437 \nL 103.163647 131.51647 \nL 112.907826 132.938481 \nL 122.652006 133.239483 \nL 132.396185 134.313207 \nL 142.140364 135.401724 \nL 151.884543 136.033176 \nL 161.628722 136.369971 \nL 171.372901 137.177794 \nL 181.11708 137.60792 \nL 190.861259 138.46656 \nL 200.605438 138.670524 \n\" clip-path=\"url(#pa4152ad848)\" style=\"fill: none; stroke: #1f77b4; stroke-width: 1.5; stroke-linecap: square\"/>\n   </g>\n   <g id=\"line2d_113\">\n    <path d=\"M 49.633125 104.69878 \nL 69.163125 125.586177 \nL 88.693125 130.678673 \nL 108.223125 133.624487 \nL 127.753125 135.558641 \nL 147.283125 136.607894 \nL 166.813125 137.335166 \nL 186.343125 138.493667 \nL 205.873125 138.069247 \n\" clip-path=\"url(#pa4152ad848)\" style=\"fill: none; stroke-dasharray: 5.55,2.4; stroke-dashoffset: 0; stroke: #ff7f0e; stroke-width: 1.5\"/>\n   </g>\n   <g id=\"line2d_114\">\n    <path d=\"M 49.633125 115.387907 \nL 69.163125 107.891692 \nL 88.693125 105.428294 \nL 108.223125 104.193477 \nL 127.753125 103.669615 \nL 147.283125 103.201881 \nL 166.813125 102.883822 \nL 186.343125 102.453507 \nL 205.873125 102.509635 \n\" clip-path=\"url(#pa4152ad848)\" style=\"fill: none; stroke-dasharray: 9.6,2.4,1.5,2.4; stroke-dashoffset: 0; stroke: #2ca02c; stroke-width: 1.5\"/>\n   </g>\n   <g id=\"line2d_115\">\n    <path d=\"M 34.954394 13.5 \nL 44.698573 60.569251 \nL 54.442752 110.914952 \nL 64.186931 119.581167 \nL 73.93111 124.273579 \nL 83.675289 127.457864 \nL 93.419468 129.426437 \nL 103.163647 131.51647 \nL 112.907826 132.938481 \nL 122.652006 133.239483 \nL 132.396185 134.313207 \nL 142.140364 135.401724 \nL 151.884543 136.033176 \nL 161.628722 136.369971 \nL 171.372901 137.177794 \nL 181.11708 137.60792 \nL 190.861259 138.46656 \nL 200.605438 138.670524 \nL 210.349618 139.180242 \n\" clip-path=\"url(#pa4152ad848)\" style=\"fill: none; stroke: #1f77b4; stroke-width: 1.5; stroke-linecap: square\"/>\n   </g>\n   <g id=\"line2d_116\">\n    <path d=\"M 49.633125 104.69878 \nL 69.163125 125.586177 \nL 88.693125 130.678673 \nL 108.223125 133.624487 \nL 127.753125 135.558641 \nL 147.283125 136.607894 \nL 166.813125 137.335166 \nL 186.343125 138.493667 \nL 205.873125 138.069247 \n\" clip-path=\"url(#pa4152ad848)\" style=\"fill: none; stroke-dasharray: 5.55,2.4; stroke-dashoffset: 0; stroke: #ff7f0e; stroke-width: 1.5\"/>\n   </g>\n   <g id=\"line2d_117\">\n    <path d=\"M 49.633125 115.387907 \nL 69.163125 107.891692 \nL 88.693125 105.428294 \nL 108.223125 104.193477 \nL 127.753125 103.669615 \nL 147.283125 103.201881 \nL 166.813125 102.883822 \nL 186.343125 102.453507 \nL 205.873125 102.509635 \n\" clip-path=\"url(#pa4152ad848)\" style=\"fill: none; stroke-dasharray: 9.6,2.4,1.5,2.4; stroke-dashoffset: 0; stroke: #2ca02c; stroke-width: 1.5\"/>\n   </g>\n   <g id=\"line2d_118\">\n    <path d=\"M 34.954394 13.5 \nL 44.698573 60.569251 \nL 54.442752 110.914952 \nL 64.186931 119.581167 \nL 73.93111 124.273579 \nL 83.675289 127.457864 \nL 93.419468 129.426437 \nL 103.163647 131.51647 \nL 112.907826 132.938481 \nL 122.652006 133.239483 \nL 132.396185 134.313207 \nL 142.140364 135.401724 \nL 151.884543 136.033176 \nL 161.628722 136.369971 \nL 171.372901 137.177794 \nL 181.11708 137.60792 \nL 190.861259 138.46656 \nL 200.605438 138.670524 \nL 210.349618 139.180242 \nL 220.093797 139.403254 \n\" clip-path=\"url(#pa4152ad848)\" style=\"fill: none; stroke: #1f77b4; stroke-width: 1.5; stroke-linecap: square\"/>\n   </g>\n   <g id=\"line2d_119\">\n    <path d=\"M 49.633125 104.69878 \nL 69.163125 125.586177 \nL 88.693125 130.678673 \nL 108.223125 133.624487 \nL 127.753125 135.558641 \nL 147.283125 136.607894 \nL 166.813125 137.335166 \nL 186.343125 138.493667 \nL 205.873125 138.069247 \n\" clip-path=\"url(#pa4152ad848)\" style=\"fill: none; stroke-dasharray: 5.55,2.4; stroke-dashoffset: 0; stroke: #ff7f0e; stroke-width: 1.5\"/>\n   </g>\n   <g id=\"line2d_120\">\n    <path d=\"M 49.633125 115.387907 \nL 69.163125 107.891692 \nL 88.693125 105.428294 \nL 108.223125 104.193477 \nL 127.753125 103.669615 \nL 147.283125 103.201881 \nL 166.813125 102.883822 \nL 186.343125 102.453507 \nL 205.873125 102.509635 \n\" clip-path=\"url(#pa4152ad848)\" style=\"fill: none; stroke-dasharray: 9.6,2.4,1.5,2.4; stroke-dashoffset: 0; stroke: #2ca02c; stroke-width: 1.5\"/>\n   </g>\n   <g id=\"line2d_121\">\n    <path d=\"M 34.954394 13.5 \nL 44.698573 60.569251 \nL 54.442752 110.914952 \nL 64.186931 119.581167 \nL 73.93111 124.273579 \nL 83.675289 127.457864 \nL 93.419468 129.426437 \nL 103.163647 131.51647 \nL 112.907826 132.938481 \nL 122.652006 133.239483 \nL 132.396185 134.313207 \nL 142.140364 135.401724 \nL 151.884543 136.033176 \nL 161.628722 136.369971 \nL 171.372901 137.177794 \nL 181.11708 137.60792 \nL 190.861259 138.46656 \nL 200.605438 138.670524 \nL 210.349618 139.180242 \nL 220.093797 139.403254 \n\" clip-path=\"url(#pa4152ad848)\" style=\"fill: none; stroke: #1f77b4; stroke-width: 1.5; stroke-linecap: square\"/>\n   </g>\n   <g id=\"line2d_122\">\n    <path d=\"M 49.633125 104.69878 \nL 69.163125 125.586177 \nL 88.693125 130.678673 \nL 108.223125 133.624487 \nL 127.753125 135.558641 \nL 147.283125 136.607894 \nL 166.813125 137.335166 \nL 186.343125 138.493667 \nL 205.873125 138.069247 \nL 225.403125 139.5 \n\" clip-path=\"url(#pa4152ad848)\" style=\"fill: none; stroke-dasharray: 5.55,2.4; stroke-dashoffset: 0; stroke: #ff7f0e; stroke-width: 1.5\"/>\n   </g>\n   <g id=\"line2d_123\">\n    <path d=\"M 49.633125 115.387907 \nL 69.163125 107.891692 \nL 88.693125 105.428294 \nL 108.223125 104.193477 \nL 127.753125 103.669615 \nL 147.283125 103.201881 \nL 166.813125 102.883822 \nL 186.343125 102.453507 \nL 205.873125 102.509635 \n\" clip-path=\"url(#pa4152ad848)\" style=\"fill: none; stroke-dasharray: 9.6,2.4,1.5,2.4; stroke-dashoffset: 0; stroke: #2ca02c; stroke-width: 1.5\"/>\n   </g>\n   <g id=\"line2d_124\">\n    <path d=\"M 34.954394 13.5 \nL 44.698573 60.569251 \nL 54.442752 110.914952 \nL 64.186931 119.581167 \nL 73.93111 124.273579 \nL 83.675289 127.457864 \nL 93.419468 129.426437 \nL 103.163647 131.51647 \nL 112.907826 132.938481 \nL 122.652006 133.239483 \nL 132.396185 134.313207 \nL 142.140364 135.401724 \nL 151.884543 136.033176 \nL 161.628722 136.369971 \nL 171.372901 137.177794 \nL 181.11708 137.60792 \nL 190.861259 138.46656 \nL 200.605438 138.670524 \nL 210.349618 139.180242 \nL 220.093797 139.403254 \n\" clip-path=\"url(#pa4152ad848)\" style=\"fill: none; stroke: #1f77b4; stroke-width: 1.5; stroke-linecap: square\"/>\n   </g>\n   <g id=\"line2d_125\">\n    <path d=\"M 49.633125 104.69878 \nL 69.163125 125.586177 \nL 88.693125 130.678673 \nL 108.223125 133.624487 \nL 127.753125 135.558641 \nL 147.283125 136.607894 \nL 166.813125 137.335166 \nL 186.343125 138.493667 \nL 205.873125 138.069247 \nL 225.403125 139.5 \n\" clip-path=\"url(#pa4152ad848)\" style=\"fill: none; stroke-dasharray: 5.55,2.4; stroke-dashoffset: 0; stroke: #ff7f0e; stroke-width: 1.5\"/>\n   </g>\n   <g id=\"line2d_126\">\n    <path d=\"M 49.633125 115.387907 \nL 69.163125 107.891692 \nL 88.693125 105.428294 \nL 108.223125 104.193477 \nL 127.753125 103.669615 \nL 147.283125 103.201881 \nL 166.813125 102.883822 \nL 186.343125 102.453507 \nL 205.873125 102.509635 \nL 225.403125 101.823625 \n\" clip-path=\"url(#pa4152ad848)\" style=\"fill: none; stroke-dasharray: 9.6,2.4,1.5,2.4; stroke-dashoffset: 0; stroke: #2ca02c; stroke-width: 1.5\"/>\n   </g>\n   <g id=\"patch_3\">\n    <path d=\"M 30.103125 145.8 \nL 30.103125 7.2 \n\" style=\"fill: none; stroke: #000000; stroke-width: 0.8; stroke-linejoin: miter; stroke-linecap: square\"/>\n   </g>\n   <g id=\"patch_4\">\n    <path d=\"M 225.403125 145.8 \nL 225.403125 7.2 \n\" style=\"fill: none; stroke: #000000; stroke-width: 0.8; stroke-linejoin: miter; stroke-linecap: square\"/>\n   </g>\n   <g id=\"patch_5\">\n    <path d=\"M 30.103125 145.8 \nL 225.403125 145.8 \n\" style=\"fill: none; stroke: #000000; stroke-width: 0.8; stroke-linejoin: miter; stroke-linecap: square\"/>\n   </g>\n   <g id=\"patch_6\">\n    <path d=\"M 30.103125 7.2 \nL 225.403125 7.2 \n\" style=\"fill: none; stroke: #000000; stroke-width: 0.8; stroke-linejoin: miter; stroke-linecap: square\"/>\n   </g>\n   <g id=\"legend_1\">\n    <g id=\"patch_7\">\n     <path d=\"M 138.8125 60.06875 \nL 218.403125 60.06875 \nQ 220.403125 60.06875 220.403125 58.06875 \nL 220.403125 14.2 \nQ 220.403125 12.2 218.403125 12.2 \nL 138.8125 12.2 \nQ 136.8125 12.2 136.8125 14.2 \nL 136.8125 58.06875 \nQ 136.8125 60.06875 138.8125 60.06875 \nz\n\" style=\"fill: #ffffff; opacity: 0.8; stroke: #cccccc; stroke-linejoin: miter\"/>\n    </g>\n    <g id=\"line2d_127\">\n     <path d=\"M 140.8125 20.298438 \nL 150.8125 20.298438 \nL 160.8125 20.298438 \n\" style=\"fill: none; stroke: #1f77b4; stroke-width: 1.5; stroke-linecap: square\"/>\n    </g>\n    <g id=\"text_12\">\n     <!-- train_loss -->\n     <g transform=\"translate(168.8125 23.798438) scale(0.1 -0.1)\">\n      <defs>\n       <path id=\"DejaVuSans-74\" d=\"M 1172 4494 \nL 1172 3500 \nL 2356 3500 \nL 2356 3053 \nL 1172 3053 \nL 1172 1153 \nQ 1172 725 1289 603 \nQ 1406 481 1766 481 \nL 2356 481 \nL 2356 0 \nL 1766 0 \nQ 1100 0 847 248 \nQ 594 497 594 1153 \nL 594 3053 \nL 172 3053 \nL 172 3500 \nL 594 3500 \nL 594 4494 \nL 1172 4494 \nz\n\" transform=\"scale(0.015625)\"/>\n       <path id=\"DejaVuSans-72\" d=\"M 2631 2963 \nQ 2534 3019 2420 3045 \nQ 2306 3072 2169 3072 \nQ 1681 3072 1420 2755 \nQ 1159 2438 1159 1844 \nL 1159 0 \nL 581 0 \nL 581 3500 \nL 1159 3500 \nL 1159 2956 \nQ 1341 3275 1631 3429 \nQ 1922 3584 2338 3584 \nQ 2397 3584 2469 3576 \nQ 2541 3569 2628 3553 \nL 2631 2963 \nz\n\" transform=\"scale(0.015625)\"/>\n       <path id=\"DejaVuSans-61\" d=\"M 2194 1759 \nQ 1497 1759 1228 1600 \nQ 959 1441 959 1056 \nQ 959 750 1161 570 \nQ 1363 391 1709 391 \nQ 2188 391 2477 730 \nQ 2766 1069 2766 1631 \nL 2766 1759 \nL 2194 1759 \nz\nM 3341 1997 \nL 3341 0 \nL 2766 0 \nL 2766 531 \nQ 2569 213 2275 61 \nQ 1981 -91 1556 -91 \nQ 1019 -91 701 211 \nQ 384 513 384 1019 \nQ 384 1609 779 1909 \nQ 1175 2209 1959 2209 \nL 2766 2209 \nL 2766 2266 \nQ 2766 2663 2505 2880 \nQ 2244 3097 1772 3097 \nQ 1472 3097 1187 3025 \nQ 903 2953 641 2809 \nL 641 3341 \nQ 956 3463 1253 3523 \nQ 1550 3584 1831 3584 \nQ 2591 3584 2966 3190 \nQ 3341 2797 3341 1997 \nz\n\" transform=\"scale(0.015625)\"/>\n       <path id=\"DejaVuSans-69\" d=\"M 603 3500 \nL 1178 3500 \nL 1178 0 \nL 603 0 \nL 603 3500 \nz\nM 603 4863 \nL 1178 4863 \nL 1178 4134 \nL 603 4134 \nL 603 4863 \nz\n\" transform=\"scale(0.015625)\"/>\n       <path id=\"DejaVuSans-6e\" d=\"M 3513 2113 \nL 3513 0 \nL 2938 0 \nL 2938 2094 \nQ 2938 2591 2744 2837 \nQ 2550 3084 2163 3084 \nQ 1697 3084 1428 2787 \nQ 1159 2491 1159 1978 \nL 1159 0 \nL 581 0 \nL 581 3500 \nL 1159 3500 \nL 1159 2956 \nQ 1366 3272 1645 3428 \nQ 1925 3584 2291 3584 \nQ 2894 3584 3203 3211 \nQ 3513 2838 3513 2113 \nz\n\" transform=\"scale(0.015625)\"/>\n       <path id=\"DejaVuSans-5f\" d=\"M 3263 -1063 \nL 3263 -1509 \nL -63 -1509 \nL -63 -1063 \nL 3263 -1063 \nz\n\" transform=\"scale(0.015625)\"/>\n       <path id=\"DejaVuSans-6c\" d=\"M 603 4863 \nL 1178 4863 \nL 1178 0 \nL 603 0 \nL 603 4863 \nz\n\" transform=\"scale(0.015625)\"/>\n       <path id=\"DejaVuSans-73\" d=\"M 2834 3397 \nL 2834 2853 \nQ 2591 2978 2328 3040 \nQ 2066 3103 1784 3103 \nQ 1356 3103 1142 2972 \nQ 928 2841 928 2578 \nQ 928 2378 1081 2264 \nQ 1234 2150 1697 2047 \nL 1894 2003 \nQ 2506 1872 2764 1633 \nQ 3022 1394 3022 966 \nQ 3022 478 2636 193 \nQ 2250 -91 1575 -91 \nQ 1294 -91 989 -36 \nQ 684 19 347 128 \nL 347 722 \nQ 666 556 975 473 \nQ 1284 391 1588 391 \nQ 1994 391 2212 530 \nQ 2431 669 2431 922 \nQ 2431 1156 2273 1281 \nQ 2116 1406 1581 1522 \nL 1381 1569 \nQ 847 1681 609 1914 \nQ 372 2147 372 2553 \nQ 372 3047 722 3315 \nQ 1072 3584 1716 3584 \nQ 2034 3584 2315 3537 \nQ 2597 3491 2834 3397 \nz\n\" transform=\"scale(0.015625)\"/>\n      </defs>\n      <use xlink:href=\"#DejaVuSans-74\"/>\n      <use xlink:href=\"#DejaVuSans-72\" x=\"39.208984\"/>\n      <use xlink:href=\"#DejaVuSans-61\" x=\"80.322266\"/>\n      <use xlink:href=\"#DejaVuSans-69\" x=\"141.601562\"/>\n      <use xlink:href=\"#DejaVuSans-6e\" x=\"169.384766\"/>\n      <use xlink:href=\"#DejaVuSans-5f\" x=\"232.763672\"/>\n      <use xlink:href=\"#DejaVuSans-6c\" x=\"282.763672\"/>\n      <use xlink:href=\"#DejaVuSans-6f\" x=\"310.546875\"/>\n      <use xlink:href=\"#DejaVuSans-73\" x=\"371.728516\"/>\n      <use xlink:href=\"#DejaVuSans-73\" x=\"423.828125\"/>\n     </g>\n    </g>\n    <g id=\"line2d_128\">\n     <path d=\"M 140.8125 35.254688 \nL 150.8125 35.254688 \nL 160.8125 35.254688 \n\" style=\"fill: none; stroke-dasharray: 5.55,2.4; stroke-dashoffset: 0; stroke: #ff7f0e; stroke-width: 1.5\"/>\n    </g>\n    <g id=\"text_13\">\n     <!-- val_loss -->\n     <g transform=\"translate(168.8125 38.754688) scale(0.1 -0.1)\">\n      <defs>\n       <path id=\"DejaVuSans-76\" d=\"M 191 3500 \nL 800 3500 \nL 1894 563 \nL 2988 3500 \nL 3597 3500 \nL 2284 0 \nL 1503 0 \nL 191 3500 \nz\n\" transform=\"scale(0.015625)\"/>\n      </defs>\n      <use xlink:href=\"#DejaVuSans-76\"/>\n      <use xlink:href=\"#DejaVuSans-61\" x=\"59.179688\"/>\n      <use xlink:href=\"#DejaVuSans-6c\" x=\"120.458984\"/>\n      <use xlink:href=\"#DejaVuSans-5f\" x=\"148.242188\"/>\n      <use xlink:href=\"#DejaVuSans-6c\" x=\"198.242188\"/>\n      <use xlink:href=\"#DejaVuSans-6f\" x=\"226.025391\"/>\n      <use xlink:href=\"#DejaVuSans-73\" x=\"287.207031\"/>\n      <use xlink:href=\"#DejaVuSans-73\" x=\"339.306641\"/>\n     </g>\n    </g>\n    <g id=\"line2d_129\">\n     <path d=\"M 140.8125 50.210938 \nL 150.8125 50.210938 \nL 160.8125 50.210938 \n\" style=\"fill: none; stroke-dasharray: 9.6,2.4,1.5,2.4; stroke-dashoffset: 0; stroke: #2ca02c; stroke-width: 1.5\"/>\n    </g>\n    <g id=\"text_14\">\n     <!-- val_acc -->\n     <g transform=\"translate(168.8125 53.710938) scale(0.1 -0.1)\">\n      <use xlink:href=\"#DejaVuSans-76\"/>\n      <use xlink:href=\"#DejaVuSans-61\" x=\"59.179688\"/>\n      <use xlink:href=\"#DejaVuSans-6c\" x=\"120.458984\"/>\n      <use xlink:href=\"#DejaVuSans-5f\" x=\"148.242188\"/>\n      <use xlink:href=\"#DejaVuSans-61\" x=\"198.242188\"/>\n      <use xlink:href=\"#DejaVuSans-63\" x=\"259.521484\"/>\n      <use xlink:href=\"#DejaVuSans-63\" x=\"314.501953\"/>\n     </g>\n    </g>\n   </g>\n  </g>\n </g>\n <defs>\n  <clipPath id=\"pa4152ad848\">\n   <rect x=\"30.103125\" y=\"7.2\" width=\"195.3\" height=\"138.6\"/>\n  </clipPath>\n </defs>\n</svg>\n"
          },
          "metadata": {}
        }
      ]
    },
    {
      "cell_type": "markdown",
      "source": [
        "## Exercises"
      ],
      "metadata": {
        "id": "BaqGz9VkRahz"
      }
    },
    {
      "cell_type": "code",
      "source": [
        "import sys\n",
        "import torch.nn as nn\n",
        "import torch\n",
        "import warnings\n",
        "from d2l import torch as d2l\n",
        "from torchsummary import summary\n",
        "warnings.filterwarnings(\"ignore\")\n",
        "\n",
        "\n",
        "def stat_params(net, params):\n",
        "    for idx, module in enumerate(net):\n",
        "        if type(module) not in (nn.Linear,nn.Conv2d):\n",
        "            continue\n",
        "        num = sum(p.numel() for p in module.parameters())\n",
        "        if type(module) == nn.Conv2d:\n",
        "            params['conv'] += num\n",
        "        else:\n",
        "            params['lr'] += num\n",
        "\n",
        "def stat_comp(net, params, x):\n",
        "    for idx, module in enumerate(net):\n",
        "        c_i = x.shape[1]\n",
        "        x = module(x)\n",
        "        if type(module) == nn.Conv2d:\n",
        "            k = [p.shape for p in module.parameters()]\n",
        "            c_o,h_o,w_o = x.shape[1], x.shape[2], x.shape[3]\n",
        "            params['conv'] += c_i*c_o*h_o*w_o*k[0][-1]*k[0][-2]\n",
        "        if type(module) == nn.Linear:\n",
        "            params['lr'] += sum(p.numel() for p in module.parameters())\n",
        "    return x\n",
        "\n",
        "\n",
        "def vgg_block(num_convs, out_channels):\n",
        "    layers = []\n",
        "    for _ in range(num_convs):\n",
        "        layers.append(nn.LazyConv2d(out_channels, kernel_size=3, padding=1))\n",
        "        layers.append(nn.ReLU())\n",
        "    layers.append(nn.MaxPool2d(kernel_size=2, stride=2))\n",
        "    return nn.Sequential(*layers)\n",
        "\n",
        "class VGG(d2l.Classifier):\n",
        "    def __init__(self, arch, lr=0.1, num_classes=10):\n",
        "        super().__init__()\n",
        "        self.save_hyperparameters()\n",
        "        conv_blks = []\n",
        "        for (num_convs, out_channels) in arch:\n",
        "            conv_blks.append(vgg_block(num_convs, out_channels))\n",
        "        self.net = nn.Sequential(*conv_blks, nn.Flatten(),\n",
        "                                 nn.LazyLinear(4096), nn.ReLU(), nn.Dropout(0.5),\n",
        "                                 nn.LazyLinear(4096), nn.ReLU(), nn.Dropout(0.5),\n",
        "                                 nn.LazyLinear(num_classes))\n",
        "        self.net.apply(d2l.init_cnn)"
      ],
      "metadata": {
        "id": "7D5Q8AhQRcOX"
      },
      "execution_count": 17,
      "outputs": []
    },
    {
      "cell_type": "markdown",
      "source": [
        "**1. Compared with AlexNet, VGG is much slower in terms of computation, and it also needs more GPU memory.**\n",
        "\n",
        "* **Compare the number of parameters needed for AlexNet and VGG.**"
      ],
      "metadata": {
        "id": "nrF-8BZVRgT6"
      }
    },
    {
      "cell_type": "code",
      "source": [
        "arch=((1, 64), (1, 128), (2, 256), (2, 512), (2, 512))\n",
        "vgg = VGG(arch=arch)\n",
        "X = torch.randn(1,3, 224, 224)\n",
        "_ = vgg(X)\n",
        "params = {'conv':0, 'lr':0}\n",
        "for idx, module in enumerate(vgg.net):\n",
        "    if type(module) == nn.Sequential:\n",
        "        stat_params(module,params)\n",
        "    if type(module) == nn.Linear:\n",
        "        num = sum(p.numel() for p in module.parameters())\n",
        "        params['lr'] += num\n",
        "params"
      ],
      "metadata": {
        "colab": {
          "base_uri": "https://localhost:8080/"
        },
        "id": "oB6trIGcRo17",
        "outputId": "3fb0504e-1022-4f52-8a0f-62438f2c5d6e"
      },
      "execution_count": 18,
      "outputs": [
        {
          "output_type": "execute_result",
          "data": {
            "text/plain": [
              "{'conv': 9220480, 'lr': 119586826}"
            ]
          },
          "metadata": {},
          "execution_count": 18
        }
      ]
    },
    {
      "cell_type": "markdown",
      "source": [
        "* **Compare the number of floating point operations used in the convolutional layers and in the fully connected layers.**"
      ],
      "metadata": {
        "id": "rV8SoNJ7RrOF"
      }
    },
    {
      "cell_type": "code",
      "source": [
        "x = torch.randn(1,3, 224, 224)\n",
        "params = {'conv':0, 'lr':0}\n",
        "for idx, module in enumerate(vgg.net):\n",
        "    if type(module) == nn.Sequential:\n",
        "        x = stat_comp(module, params, x)\n",
        "    if type(module) == nn.Linear:\n",
        "        params['lr'] += sum(p.numel() for p in module.parameters())\n",
        "params"
      ],
      "metadata": {
        "colab": {
          "base_uri": "https://localhost:8080/"
        },
        "id": "XBOR4aJIRuHi",
        "outputId": "7d7e1499-2b03-4ff7-f5fa-60a3bfb7efdf"
      },
      "execution_count": 19,
      "outputs": [
        {
          "output_type": "execute_result",
          "data": {
            "text/plain": [
              "{'conv': 7485456384, 'lr': 119586826}"
            ]
          },
          "metadata": {},
          "execution_count": 19
        }
      ]
    },
    {
      "cell_type": "code",
      "source": [
        "X = torch.randn(1,3, 224, 224)\n",
        "_ = vgg(X)\n",
        "total_params = sum(p.numel() for p in vgg.parameters())\n",
        "print(\"Total parameters:\", total_params)"
      ],
      "metadata": {
        "colab": {
          "base_uri": "https://localhost:8080/"
        },
        "id": "IcbAmXMhRxQY",
        "outputId": "45e47e29-fe88-4749-e598-854795327cf1"
      },
      "execution_count": 20,
      "outputs": [
        {
          "output_type": "stream",
          "name": "stdout",
          "text": [
            "Total parameters: 128807306\n"
          ]
        }
      ]
    },
    {
      "cell_type": "markdown",
      "source": [
        "* **How could you reduce the computational cost created by the fully connected layers?**"
      ],
      "metadata": {
        "id": "aDQEn6tBRz0F"
      }
    },
    {
      "cell_type": "markdown",
      "source": [
        "* Global Average Pooling (GAP): Menggunakan GAP menggantikan lapisan terhubung penuh untuk mengurangi jumlah parameter.\n",
        "\n",
        "* Lapisan Konvolusional 1x1: Mengubah lapisan terhubung penuh menjadi konvolusi 1x1 untuk berbagi bobot dan mengurangi parameter.\n",
        "\n",
        "* Pruning Jaringan: Menghapus koneksi atau neuron yang tidak perlu untuk mengurangi jumlah parameter.\n",
        "\n",
        "* Aproksimasi Low-Rank: Menggunakan teknik seperti Singular Value Decomposition (SVD) untuk mengurangi ukuran matriks bobot.\n",
        "\n",
        "* Reduksi Dimensi: Menerapkan teknik seperti PCA untuk mengurangi dimensi input lapisan terhubung penuh.\n",
        "\n",
        "* Konvolusi Terpisah Berdasarkan Kedalaman: Mengganti lapisan terhubung penuh dengan konvolusi terpisah untuk efisiensi lebih tinggi.\n",
        "\n",
        "* Kuantisasi: Menggunakan presisi lebih rendah untuk mengurangi penggunaan memori dan komputasi.\n",
        "\n",
        "* Distilasi Pengetahuan: Melatih jaringan yang lebih kecil untuk meniru jaringan yang lebih besar untuk efisiensi.\n",
        "\n",
        "* Kompresi Model: Menerapkan teknik kompresi untuk mengurangi ukuran dan kompleksitas model.\n",
        "\n",
        "* Arsitektur Hibrida: Menggabungkan lapisan konvolusional dan terhubung penuh hanya di bagian penting dari jaringan."
      ],
      "metadata": {
        "id": "RU0q_MXiR3Sr"
      }
    },
    {
      "cell_type": "markdown",
      "source": [
        "**2. When displaying the dimensions associated with the various layers of the network, we only see the information associated with eight blocks (plus some auxiliary transforms), even though the network has 11 layers. Where did the remaining three layers go?**"
      ],
      "metadata": {
        "id": "4Cencg9UR6Tc"
      }
    },
    {
      "cell_type": "markdown",
      "source": [
        "Blok konvolusi dianggap sebagai satu lapisan dalam jaringan, dan tiga blok konvolusi terakhir dalam VGG masing-masing terdiri dari dua lapisan konvolusi, sehingga menjadi tiga lapisan yang tersisa."
      ],
      "metadata": {
        "id": "KRKw4an-R88K"
      }
    },
    {
      "cell_type": "code",
      "source": [
        "vgg"
      ],
      "metadata": {
        "colab": {
          "base_uri": "https://localhost:8080/"
        },
        "id": "2fJXPMEFR-Ma",
        "outputId": "21fd375b-befe-45da-da23-ae87a56cc3fa"
      },
      "execution_count": 21,
      "outputs": [
        {
          "output_type": "execute_result",
          "data": {
            "text/plain": [
              "VGG(\n",
              "  (net): Sequential(\n",
              "    (0): Sequential(\n",
              "      (0): Conv2d(3, 64, kernel_size=(3, 3), stride=(1, 1), padding=(1, 1))\n",
              "      (1): ReLU()\n",
              "      (2): MaxPool2d(kernel_size=2, stride=2, padding=0, dilation=1, ceil_mode=False)\n",
              "    )\n",
              "    (1): Sequential(\n",
              "      (0): Conv2d(64, 128, kernel_size=(3, 3), stride=(1, 1), padding=(1, 1))\n",
              "      (1): ReLU()\n",
              "      (2): MaxPool2d(kernel_size=2, stride=2, padding=0, dilation=1, ceil_mode=False)\n",
              "    )\n",
              "    (2): Sequential(\n",
              "      (0): Conv2d(128, 256, kernel_size=(3, 3), stride=(1, 1), padding=(1, 1))\n",
              "      (1): ReLU()\n",
              "      (2): Conv2d(256, 256, kernel_size=(3, 3), stride=(1, 1), padding=(1, 1))\n",
              "      (3): ReLU()\n",
              "      (4): MaxPool2d(kernel_size=2, stride=2, padding=0, dilation=1, ceil_mode=False)\n",
              "    )\n",
              "    (3): Sequential(\n",
              "      (0): Conv2d(256, 512, kernel_size=(3, 3), stride=(1, 1), padding=(1, 1))\n",
              "      (1): ReLU()\n",
              "      (2): Conv2d(512, 512, kernel_size=(3, 3), stride=(1, 1), padding=(1, 1))\n",
              "      (3): ReLU()\n",
              "      (4): MaxPool2d(kernel_size=2, stride=2, padding=0, dilation=1, ceil_mode=False)\n",
              "    )\n",
              "    (4): Sequential(\n",
              "      (0): Conv2d(512, 512, kernel_size=(3, 3), stride=(1, 1), padding=(1, 1))\n",
              "      (1): ReLU()\n",
              "      (2): Conv2d(512, 512, kernel_size=(3, 3), stride=(1, 1), padding=(1, 1))\n",
              "      (3): ReLU()\n",
              "      (4): MaxPool2d(kernel_size=2, stride=2, padding=0, dilation=1, ceil_mode=False)\n",
              "    )\n",
              "    (5): Flatten(start_dim=1, end_dim=-1)\n",
              "    (6): Linear(in_features=25088, out_features=4096, bias=True)\n",
              "    (7): ReLU()\n",
              "    (8): Dropout(p=0.5, inplace=False)\n",
              "    (9): Linear(in_features=4096, out_features=4096, bias=True)\n",
              "    (10): ReLU()\n",
              "    (11): Dropout(p=0.5, inplace=False)\n",
              "    (12): Linear(in_features=4096, out_features=10, bias=True)\n",
              "  )\n",
              ")"
            ]
          },
          "metadata": {},
          "execution_count": 21
        }
      ]
    },
    {
      "cell_type": "markdown",
      "source": [
        "**3. Use Table 1 in the VGG paper (Simonyan and Zisserman, 2014) to construct other common models, such as VGG-16 or VGG-19.**"
      ],
      "metadata": {
        "id": "JpN2J5iXSBX9"
      }
    },
    {
      "cell_type": "code",
      "source": [
        "arch16=((2, 64), (2, 128), (3, 256), (3, 512), (3, 512))\n",
        "vgg16 = VGG(arch=arch16)\n",
        "vgg16"
      ],
      "metadata": {
        "colab": {
          "base_uri": "https://localhost:8080/"
        },
        "id": "wy6ZYsogSC8R",
        "outputId": "1f055051-3e2f-4119-d92d-9e0bc2306b8e"
      },
      "execution_count": 22,
      "outputs": [
        {
          "output_type": "execute_result",
          "data": {
            "text/plain": [
              "VGG(\n",
              "  (net): Sequential(\n",
              "    (0): Sequential(\n",
              "      (0): LazyConv2d(0, 64, kernel_size=(3, 3), stride=(1, 1), padding=(1, 1))\n",
              "      (1): ReLU()\n",
              "      (2): LazyConv2d(0, 64, kernel_size=(3, 3), stride=(1, 1), padding=(1, 1))\n",
              "      (3): ReLU()\n",
              "      (4): MaxPool2d(kernel_size=2, stride=2, padding=0, dilation=1, ceil_mode=False)\n",
              "    )\n",
              "    (1): Sequential(\n",
              "      (0): LazyConv2d(0, 128, kernel_size=(3, 3), stride=(1, 1), padding=(1, 1))\n",
              "      (1): ReLU()\n",
              "      (2): LazyConv2d(0, 128, kernel_size=(3, 3), stride=(1, 1), padding=(1, 1))\n",
              "      (3): ReLU()\n",
              "      (4): MaxPool2d(kernel_size=2, stride=2, padding=0, dilation=1, ceil_mode=False)\n",
              "    )\n",
              "    (2): Sequential(\n",
              "      (0): LazyConv2d(0, 256, kernel_size=(3, 3), stride=(1, 1), padding=(1, 1))\n",
              "      (1): ReLU()\n",
              "      (2): LazyConv2d(0, 256, kernel_size=(3, 3), stride=(1, 1), padding=(1, 1))\n",
              "      (3): ReLU()\n",
              "      (4): LazyConv2d(0, 256, kernel_size=(3, 3), stride=(1, 1), padding=(1, 1))\n",
              "      (5): ReLU()\n",
              "      (6): MaxPool2d(kernel_size=2, stride=2, padding=0, dilation=1, ceil_mode=False)\n",
              "    )\n",
              "    (3): Sequential(\n",
              "      (0): LazyConv2d(0, 512, kernel_size=(3, 3), stride=(1, 1), padding=(1, 1))\n",
              "      (1): ReLU()\n",
              "      (2): LazyConv2d(0, 512, kernel_size=(3, 3), stride=(1, 1), padding=(1, 1))\n",
              "      (3): ReLU()\n",
              "      (4): LazyConv2d(0, 512, kernel_size=(3, 3), stride=(1, 1), padding=(1, 1))\n",
              "      (5): ReLU()\n",
              "      (6): MaxPool2d(kernel_size=2, stride=2, padding=0, dilation=1, ceil_mode=False)\n",
              "    )\n",
              "    (4): Sequential(\n",
              "      (0): LazyConv2d(0, 512, kernel_size=(3, 3), stride=(1, 1), padding=(1, 1))\n",
              "      (1): ReLU()\n",
              "      (2): LazyConv2d(0, 512, kernel_size=(3, 3), stride=(1, 1), padding=(1, 1))\n",
              "      (3): ReLU()\n",
              "      (4): LazyConv2d(0, 512, kernel_size=(3, 3), stride=(1, 1), padding=(1, 1))\n",
              "      (5): ReLU()\n",
              "      (6): MaxPool2d(kernel_size=2, stride=2, padding=0, dilation=1, ceil_mode=False)\n",
              "    )\n",
              "    (5): Flatten(start_dim=1, end_dim=-1)\n",
              "    (6): LazyLinear(in_features=0, out_features=4096, bias=True)\n",
              "    (7): ReLU()\n",
              "    (8): Dropout(p=0.5, inplace=False)\n",
              "    (9): LazyLinear(in_features=0, out_features=4096, bias=True)\n",
              "    (10): ReLU()\n",
              "    (11): Dropout(p=0.5, inplace=False)\n",
              "    (12): LazyLinear(in_features=0, out_features=10, bias=True)\n",
              "  )\n",
              ")"
            ]
          },
          "metadata": {},
          "execution_count": 22
        }
      ]
    },
    {
      "cell_type": "code",
      "source": [
        "arch19=((2, 64), (2, 128), (4, 256), (4, 512), (4, 512))\n",
        "vgg19 = VGG(arch=arch19)\n",
        "vgg19"
      ],
      "metadata": {
        "colab": {
          "base_uri": "https://localhost:8080/"
        },
        "id": "ga3g4b4DSImR",
        "outputId": "d37c7787-583c-472b-ffea-ded931bf10a2"
      },
      "execution_count": 23,
      "outputs": [
        {
          "output_type": "execute_result",
          "data": {
            "text/plain": [
              "VGG(\n",
              "  (net): Sequential(\n",
              "    (0): Sequential(\n",
              "      (0): LazyConv2d(0, 64, kernel_size=(3, 3), stride=(1, 1), padding=(1, 1))\n",
              "      (1): ReLU()\n",
              "      (2): LazyConv2d(0, 64, kernel_size=(3, 3), stride=(1, 1), padding=(1, 1))\n",
              "      (3): ReLU()\n",
              "      (4): MaxPool2d(kernel_size=2, stride=2, padding=0, dilation=1, ceil_mode=False)\n",
              "    )\n",
              "    (1): Sequential(\n",
              "      (0): LazyConv2d(0, 128, kernel_size=(3, 3), stride=(1, 1), padding=(1, 1))\n",
              "      (1): ReLU()\n",
              "      (2): LazyConv2d(0, 128, kernel_size=(3, 3), stride=(1, 1), padding=(1, 1))\n",
              "      (3): ReLU()\n",
              "      (4): MaxPool2d(kernel_size=2, stride=2, padding=0, dilation=1, ceil_mode=False)\n",
              "    )\n",
              "    (2): Sequential(\n",
              "      (0): LazyConv2d(0, 256, kernel_size=(3, 3), stride=(1, 1), padding=(1, 1))\n",
              "      (1): ReLU()\n",
              "      (2): LazyConv2d(0, 256, kernel_size=(3, 3), stride=(1, 1), padding=(1, 1))\n",
              "      (3): ReLU()\n",
              "      (4): LazyConv2d(0, 256, kernel_size=(3, 3), stride=(1, 1), padding=(1, 1))\n",
              "      (5): ReLU()\n",
              "      (6): LazyConv2d(0, 256, kernel_size=(3, 3), stride=(1, 1), padding=(1, 1))\n",
              "      (7): ReLU()\n",
              "      (8): MaxPool2d(kernel_size=2, stride=2, padding=0, dilation=1, ceil_mode=False)\n",
              "    )\n",
              "    (3): Sequential(\n",
              "      (0): LazyConv2d(0, 512, kernel_size=(3, 3), stride=(1, 1), padding=(1, 1))\n",
              "      (1): ReLU()\n",
              "      (2): LazyConv2d(0, 512, kernel_size=(3, 3), stride=(1, 1), padding=(1, 1))\n",
              "      (3): ReLU()\n",
              "      (4): LazyConv2d(0, 512, kernel_size=(3, 3), stride=(1, 1), padding=(1, 1))\n",
              "      (5): ReLU()\n",
              "      (6): LazyConv2d(0, 512, kernel_size=(3, 3), stride=(1, 1), padding=(1, 1))\n",
              "      (7): ReLU()\n",
              "      (8): MaxPool2d(kernel_size=2, stride=2, padding=0, dilation=1, ceil_mode=False)\n",
              "    )\n",
              "    (4): Sequential(\n",
              "      (0): LazyConv2d(0, 512, kernel_size=(3, 3), stride=(1, 1), padding=(1, 1))\n",
              "      (1): ReLU()\n",
              "      (2): LazyConv2d(0, 512, kernel_size=(3, 3), stride=(1, 1), padding=(1, 1))\n",
              "      (3): ReLU()\n",
              "      (4): LazyConv2d(0, 512, kernel_size=(3, 3), stride=(1, 1), padding=(1, 1))\n",
              "      (5): ReLU()\n",
              "      (6): LazyConv2d(0, 512, kernel_size=(3, 3), stride=(1, 1), padding=(1, 1))\n",
              "      (7): ReLU()\n",
              "      (8): MaxPool2d(kernel_size=2, stride=2, padding=0, dilation=1, ceil_mode=False)\n",
              "    )\n",
              "    (5): Flatten(start_dim=1, end_dim=-1)\n",
              "    (6): LazyLinear(in_features=0, out_features=4096, bias=True)\n",
              "    (7): ReLU()\n",
              "    (8): Dropout(p=0.5, inplace=False)\n",
              "    (9): LazyLinear(in_features=0, out_features=4096, bias=True)\n",
              "    (10): ReLU()\n",
              "    (11): Dropout(p=0.5, inplace=False)\n",
              "    (12): LazyLinear(in_features=0, out_features=10, bias=True)\n",
              "  )\n",
              ")"
            ]
          },
          "metadata": {},
          "execution_count": 23
        }
      ]
    },
    {
      "cell_type": "markdown",
      "source": [
        "**4. Upsampling the resolution in Fashion-MNIST eight-fold from 28x28 to 224 x 224 dimensions is very wasteful. Try modifying the network architecture and resolution conversion, e.g., to 56 or to 84 dimensions for its input instead. Can you do so without reducing the accuracy of the network? Consult the VGG paper (Simonyan and Zisserman, 2014) for ideas on adding more nonlinearities prior to downsampling.**"
      ],
      "metadata": {
        "id": "mjlSNNRESLBk"
      }
    },
    {
      "cell_type": "code",
      "source": [
        "model = VGG(arch=((3, 128), (3, 256)), lr=0.01)\n",
        "trainer = d2l.Trainer(max_epochs=10, num_gpus=1)\n",
        "data = d2l.FashionMNIST(batch_size=128, resize=(28, 28))\n",
        "trainer.fit(model, data)"
      ],
      "metadata": {
        "colab": {
          "base_uri": "https://localhost:8080/",
          "height": 266
        },
        "id": "fMFAXvYsSnAl",
        "outputId": "24e1dac9-59b9-487c-e155-441f9ed623e4"
      },
      "execution_count": 24,
      "outputs": [
        {
          "output_type": "display_data",
          "data": {
            "text/plain": [
              "<Figure size 350x250 with 1 Axes>"
            ],
            "image/svg+xml": "<?xml version=\"1.0\" encoding=\"utf-8\" standalone=\"no\"?>\n<!DOCTYPE svg PUBLIC \"-//W3C//DTD SVG 1.1//EN\"\n  \"http://www.w3.org/Graphics/SVG/1.1/DTD/svg11.dtd\">\n<svg xmlns:xlink=\"http://www.w3.org/1999/xlink\" width=\"238.965625pt\" height=\"183.35625pt\" viewBox=\"0 0 238.965625 183.35625\" xmlns=\"http://www.w3.org/2000/svg\" version=\"1.1\">\n <metadata>\n  <rdf:RDF xmlns:dc=\"http://purl.org/dc/elements/1.1/\" xmlns:cc=\"http://creativecommons.org/ns#\" xmlns:rdf=\"http://www.w3.org/1999/02/22-rdf-syntax-ns#\">\n   <cc:Work>\n    <dc:type rdf:resource=\"http://purl.org/dc/dcmitype/StillImage\"/>\n    <dc:date>2024-10-05T15:44:03.181169</dc:date>\n    <dc:format>image/svg+xml</dc:format>\n    <dc:creator>\n     <cc:Agent>\n      <dc:title>Matplotlib v3.7.2, https://matplotlib.org/</dc:title>\n     </cc:Agent>\n    </dc:creator>\n   </cc:Work>\n  </rdf:RDF>\n </metadata>\n <defs>\n  <style type=\"text/css\">*{stroke-linejoin: round; stroke-linecap: butt}</style>\n </defs>\n <g id=\"figure_1\">\n  <g id=\"patch_1\">\n   <path d=\"M 0 183.35625 \nL 238.965625 183.35625 \nL 238.965625 0 \nL 0 0 \nz\n\" style=\"fill: #ffffff\"/>\n  </g>\n  <g id=\"axes_1\">\n   <g id=\"patch_2\">\n    <path d=\"M 30.103125 145.8 \nL 225.403125 145.8 \nL 225.403125 7.2 \nL 30.103125 7.2 \nz\n\" style=\"fill: #ffffff\"/>\n   </g>\n   <g id=\"matplotlib.axis_1\">\n    <g id=\"xtick_1\">\n     <g id=\"line2d_1\">\n      <defs>\n       <path id=\"m1ff5f9709b\" d=\"M 0 0 \nL 0 3.5 \n\" style=\"stroke: #000000; stroke-width: 0.8\"/>\n      </defs>\n      <g>\n       <use xlink:href=\"#m1ff5f9709b\" x=\"30.103125\" y=\"145.8\" style=\"stroke: #000000; stroke-width: 0.8\"/>\n      </g>\n     </g>\n     <g id=\"text_1\">\n      <!-- 0 -->\n      <g transform=\"translate(26.921875 160.398438) scale(0.1 -0.1)\">\n       <defs>\n        <path id=\"DejaVuSans-30\" d=\"M 2034 4250 \nQ 1547 4250 1301 3770 \nQ 1056 3291 1056 2328 \nQ 1056 1369 1301 889 \nQ 1547 409 2034 409 \nQ 2525 409 2770 889 \nQ 3016 1369 3016 2328 \nQ 3016 3291 2770 3770 \nQ 2525 4250 2034 4250 \nz\nM 2034 4750 \nQ 2819 4750 3233 4129 \nQ 3647 3509 3647 2328 \nQ 3647 1150 3233 529 \nQ 2819 -91 2034 -91 \nQ 1250 -91 836 529 \nQ 422 1150 422 2328 \nQ 422 3509 836 4129 \nQ 1250 4750 2034 4750 \nz\n\" transform=\"scale(0.015625)\"/>\n       </defs>\n       <use xlink:href=\"#DejaVuSans-30\"/>\n      </g>\n     </g>\n    </g>\n    <g id=\"xtick_2\">\n     <g id=\"line2d_2\">\n      <g>\n       <use xlink:href=\"#m1ff5f9709b\" x=\"69.163125\" y=\"145.8\" style=\"stroke: #000000; stroke-width: 0.8\"/>\n      </g>\n     </g>\n     <g id=\"text_2\">\n      <!-- 2 -->\n      <g transform=\"translate(65.981875 160.398438) scale(0.1 -0.1)\">\n       <defs>\n        <path id=\"DejaVuSans-32\" d=\"M 1228 531 \nL 3431 531 \nL 3431 0 \nL 469 0 \nL 469 531 \nQ 828 903 1448 1529 \nQ 2069 2156 2228 2338 \nQ 2531 2678 2651 2914 \nQ 2772 3150 2772 3378 \nQ 2772 3750 2511 3984 \nQ 2250 4219 1831 4219 \nQ 1534 4219 1204 4116 \nQ 875 4013 500 3803 \nL 500 4441 \nQ 881 4594 1212 4672 \nQ 1544 4750 1819 4750 \nQ 2544 4750 2975 4387 \nQ 3406 4025 3406 3419 \nQ 3406 3131 3298 2873 \nQ 3191 2616 2906 2266 \nQ 2828 2175 2409 1742 \nQ 1991 1309 1228 531 \nz\n\" transform=\"scale(0.015625)\"/>\n       </defs>\n       <use xlink:href=\"#DejaVuSans-32\"/>\n      </g>\n     </g>\n    </g>\n    <g id=\"xtick_3\">\n     <g id=\"line2d_3\">\n      <g>\n       <use xlink:href=\"#m1ff5f9709b\" x=\"108.223125\" y=\"145.8\" style=\"stroke: #000000; stroke-width: 0.8\"/>\n      </g>\n     </g>\n     <g id=\"text_3\">\n      <!-- 4 -->\n      <g transform=\"translate(105.041875 160.398438) scale(0.1 -0.1)\">\n       <defs>\n        <path id=\"DejaVuSans-34\" d=\"M 2419 4116 \nL 825 1625 \nL 2419 1625 \nL 2419 4116 \nz\nM 2253 4666 \nL 3047 4666 \nL 3047 1625 \nL 3713 1625 \nL 3713 1100 \nL 3047 1100 \nL 3047 0 \nL 2419 0 \nL 2419 1100 \nL 313 1100 \nL 313 1709 \nL 2253 4666 \nz\n\" transform=\"scale(0.015625)\"/>\n       </defs>\n       <use xlink:href=\"#DejaVuSans-34\"/>\n      </g>\n     </g>\n    </g>\n    <g id=\"xtick_4\">\n     <g id=\"line2d_4\">\n      <g>\n       <use xlink:href=\"#m1ff5f9709b\" x=\"147.283125\" y=\"145.8\" style=\"stroke: #000000; stroke-width: 0.8\"/>\n      </g>\n     </g>\n     <g id=\"text_4\">\n      <!-- 6 -->\n      <g transform=\"translate(144.101875 160.398438) scale(0.1 -0.1)\">\n       <defs>\n        <path id=\"DejaVuSans-36\" d=\"M 2113 2584 \nQ 1688 2584 1439 2293 \nQ 1191 2003 1191 1497 \nQ 1191 994 1439 701 \nQ 1688 409 2113 409 \nQ 2538 409 2786 701 \nQ 3034 994 3034 1497 \nQ 3034 2003 2786 2293 \nQ 2538 2584 2113 2584 \nz\nM 3366 4563 \nL 3366 3988 \nQ 3128 4100 2886 4159 \nQ 2644 4219 2406 4219 \nQ 1781 4219 1451 3797 \nQ 1122 3375 1075 2522 \nQ 1259 2794 1537 2939 \nQ 1816 3084 2150 3084 \nQ 2853 3084 3261 2657 \nQ 3669 2231 3669 1497 \nQ 3669 778 3244 343 \nQ 2819 -91 2113 -91 \nQ 1303 -91 875 529 \nQ 447 1150 447 2328 \nQ 447 3434 972 4092 \nQ 1497 4750 2381 4750 \nQ 2619 4750 2861 4703 \nQ 3103 4656 3366 4563 \nz\n\" transform=\"scale(0.015625)\"/>\n       </defs>\n       <use xlink:href=\"#DejaVuSans-36\"/>\n      </g>\n     </g>\n    </g>\n    <g id=\"xtick_5\">\n     <g id=\"line2d_5\">\n      <g>\n       <use xlink:href=\"#m1ff5f9709b\" x=\"186.343125\" y=\"145.8\" style=\"stroke: #000000; stroke-width: 0.8\"/>\n      </g>\n     </g>\n     <g id=\"text_5\">\n      <!-- 8 -->\n      <g transform=\"translate(183.161875 160.398438) scale(0.1 -0.1)\">\n       <defs>\n        <path id=\"DejaVuSans-38\" d=\"M 2034 2216 \nQ 1584 2216 1326 1975 \nQ 1069 1734 1069 1313 \nQ 1069 891 1326 650 \nQ 1584 409 2034 409 \nQ 2484 409 2743 651 \nQ 3003 894 3003 1313 \nQ 3003 1734 2745 1975 \nQ 2488 2216 2034 2216 \nz\nM 1403 2484 \nQ 997 2584 770 2862 \nQ 544 3141 544 3541 \nQ 544 4100 942 4425 \nQ 1341 4750 2034 4750 \nQ 2731 4750 3128 4425 \nQ 3525 4100 3525 3541 \nQ 3525 3141 3298 2862 \nQ 3072 2584 2669 2484 \nQ 3125 2378 3379 2068 \nQ 3634 1759 3634 1313 \nQ 3634 634 3220 271 \nQ 2806 -91 2034 -91 \nQ 1263 -91 848 271 \nQ 434 634 434 1313 \nQ 434 1759 690 2068 \nQ 947 2378 1403 2484 \nz\nM 1172 3481 \nQ 1172 3119 1398 2916 \nQ 1625 2713 2034 2713 \nQ 2441 2713 2670 2916 \nQ 2900 3119 2900 3481 \nQ 2900 3844 2670 4047 \nQ 2441 4250 2034 4250 \nQ 1625 4250 1398 4047 \nQ 1172 3844 1172 3481 \nz\n\" transform=\"scale(0.015625)\"/>\n       </defs>\n       <use xlink:href=\"#DejaVuSans-38\"/>\n      </g>\n     </g>\n    </g>\n    <g id=\"xtick_6\">\n     <g id=\"line2d_6\">\n      <g>\n       <use xlink:href=\"#m1ff5f9709b\" x=\"225.403125\" y=\"145.8\" style=\"stroke: #000000; stroke-width: 0.8\"/>\n      </g>\n     </g>\n     <g id=\"text_6\">\n      <!-- 10 -->\n      <g transform=\"translate(219.040625 160.398438) scale(0.1 -0.1)\">\n       <defs>\n        <path id=\"DejaVuSans-31\" d=\"M 794 531 \nL 1825 531 \nL 1825 4091 \nL 703 3866 \nL 703 4441 \nL 1819 4666 \nL 2450 4666 \nL 2450 531 \nL 3481 531 \nL 3481 0 \nL 794 0 \nL 794 531 \nz\n\" transform=\"scale(0.015625)\"/>\n       </defs>\n       <use xlink:href=\"#DejaVuSans-31\"/>\n       <use xlink:href=\"#DejaVuSans-30\" x=\"63.623047\"/>\n      </g>\n     </g>\n    </g>\n    <g id=\"text_7\">\n     <!-- epoch -->\n     <g transform=\"translate(112.525 174.076563) scale(0.1 -0.1)\">\n      <defs>\n       <path id=\"DejaVuSans-65\" d=\"M 3597 1894 \nL 3597 1613 \nL 953 1613 \nQ 991 1019 1311 708 \nQ 1631 397 2203 397 \nQ 2534 397 2845 478 \nQ 3156 559 3463 722 \nL 3463 178 \nQ 3153 47 2828 -22 \nQ 2503 -91 2169 -91 \nQ 1331 -91 842 396 \nQ 353 884 353 1716 \nQ 353 2575 817 3079 \nQ 1281 3584 2069 3584 \nQ 2775 3584 3186 3129 \nQ 3597 2675 3597 1894 \nz\nM 3022 2063 \nQ 3016 2534 2758 2815 \nQ 2500 3097 2075 3097 \nQ 1594 3097 1305 2825 \nQ 1016 2553 972 2059 \nL 3022 2063 \nz\n\" transform=\"scale(0.015625)\"/>\n       <path id=\"DejaVuSans-70\" d=\"M 1159 525 \nL 1159 -1331 \nL 581 -1331 \nL 581 3500 \nL 1159 3500 \nL 1159 2969 \nQ 1341 3281 1617 3432 \nQ 1894 3584 2278 3584 \nQ 2916 3584 3314 3078 \nQ 3713 2572 3713 1747 \nQ 3713 922 3314 415 \nQ 2916 -91 2278 -91 \nQ 1894 -91 1617 61 \nQ 1341 213 1159 525 \nz\nM 3116 1747 \nQ 3116 2381 2855 2742 \nQ 2594 3103 2138 3103 \nQ 1681 3103 1420 2742 \nQ 1159 2381 1159 1747 \nQ 1159 1113 1420 752 \nQ 1681 391 2138 391 \nQ 2594 391 2855 752 \nQ 3116 1113 3116 1747 \nz\n\" transform=\"scale(0.015625)\"/>\n       <path id=\"DejaVuSans-6f\" d=\"M 1959 3097 \nQ 1497 3097 1228 2736 \nQ 959 2375 959 1747 \nQ 959 1119 1226 758 \nQ 1494 397 1959 397 \nQ 2419 397 2687 759 \nQ 2956 1122 2956 1747 \nQ 2956 2369 2687 2733 \nQ 2419 3097 1959 3097 \nz\nM 1959 3584 \nQ 2709 3584 3137 3096 \nQ 3566 2609 3566 1747 \nQ 3566 888 3137 398 \nQ 2709 -91 1959 -91 \nQ 1206 -91 779 398 \nQ 353 888 353 1747 \nQ 353 2609 779 3096 \nQ 1206 3584 1959 3584 \nz\n\" transform=\"scale(0.015625)\"/>\n       <path id=\"DejaVuSans-63\" d=\"M 3122 3366 \nL 3122 2828 \nQ 2878 2963 2633 3030 \nQ 2388 3097 2138 3097 \nQ 1578 3097 1268 2742 \nQ 959 2388 959 1747 \nQ 959 1106 1268 751 \nQ 1578 397 2138 397 \nQ 2388 397 2633 464 \nQ 2878 531 3122 666 \nL 3122 134 \nQ 2881 22 2623 -34 \nQ 2366 -91 2075 -91 \nQ 1284 -91 818 406 \nQ 353 903 353 1747 \nQ 353 2603 823 3093 \nQ 1294 3584 2113 3584 \nQ 2378 3584 2631 3529 \nQ 2884 3475 3122 3366 \nz\n\" transform=\"scale(0.015625)\"/>\n       <path id=\"DejaVuSans-68\" d=\"M 3513 2113 \nL 3513 0 \nL 2938 0 \nL 2938 2094 \nQ 2938 2591 2744 2837 \nQ 2550 3084 2163 3084 \nQ 1697 3084 1428 2787 \nQ 1159 2491 1159 1978 \nL 1159 0 \nL 581 0 \nL 581 4863 \nL 1159 4863 \nL 1159 2956 \nQ 1366 3272 1645 3428 \nQ 1925 3584 2291 3584 \nQ 2894 3584 3203 3211 \nQ 3513 2838 3513 2113 \nz\n\" transform=\"scale(0.015625)\"/>\n      </defs>\n      <use xlink:href=\"#DejaVuSans-65\"/>\n      <use xlink:href=\"#DejaVuSans-70\" x=\"61.523438\"/>\n      <use xlink:href=\"#DejaVuSans-6f\" x=\"125\"/>\n      <use xlink:href=\"#DejaVuSans-63\" x=\"186.181641\"/>\n      <use xlink:href=\"#DejaVuSans-68\" x=\"241.162109\"/>\n     </g>\n    </g>\n   </g>\n   <g id=\"matplotlib.axis_2\">\n    <g id=\"ytick_1\">\n     <g id=\"line2d_7\">\n      <defs>\n       <path id=\"maf52eeb18a\" d=\"M 0 0 \nL -3.5 0 \n\" style=\"stroke: #000000; stroke-width: 0.8\"/>\n      </defs>\n      <g>\n       <use xlink:href=\"#maf52eeb18a\" x=\"30.103125\" y=\"145.278587\" style=\"stroke: #000000; stroke-width: 0.8\"/>\n      </g>\n     </g>\n     <g id=\"text_8\">\n      <!-- 0.0 -->\n      <g transform=\"translate(7.2 149.077805) scale(0.1 -0.1)\">\n       <defs>\n        <path id=\"DejaVuSans-2e\" d=\"M 684 794 \nL 1344 794 \nL 1344 0 \nL 684 0 \nL 684 794 \nz\n\" transform=\"scale(0.015625)\"/>\n       </defs>\n       <use xlink:href=\"#DejaVuSans-30\"/>\n       <use xlink:href=\"#DejaVuSans-2e\" x=\"63.623047\"/>\n       <use xlink:href=\"#DejaVuSans-30\" x=\"95.410156\"/>\n      </g>\n     </g>\n    </g>\n    <g id=\"ytick_2\">\n     <g id=\"line2d_8\">\n      <g>\n       <use xlink:href=\"#maf52eeb18a\" x=\"30.103125\" y=\"116.66298\" style=\"stroke: #000000; stroke-width: 0.8\"/>\n      </g>\n     </g>\n     <g id=\"text_9\">\n      <!-- 0.5 -->\n      <g transform=\"translate(7.2 120.462199) scale(0.1 -0.1)\">\n       <defs>\n        <path id=\"DejaVuSans-35\" d=\"M 691 4666 \nL 3169 4666 \nL 3169 4134 \nL 1269 4134 \nL 1269 2991 \nQ 1406 3038 1543 3061 \nQ 1681 3084 1819 3084 \nQ 2600 3084 3056 2656 \nQ 3513 2228 3513 1497 \nQ 3513 744 3044 326 \nQ 2575 -91 1722 -91 \nQ 1428 -91 1123 -41 \nQ 819 9 494 109 \nL 494 744 \nQ 775 591 1075 516 \nQ 1375 441 1709 441 \nQ 2250 441 2565 725 \nQ 2881 1009 2881 1497 \nQ 2881 1984 2565 2268 \nQ 2250 2553 1709 2553 \nQ 1456 2553 1204 2497 \nQ 953 2441 691 2322 \nL 691 4666 \nz\n\" transform=\"scale(0.015625)\"/>\n       </defs>\n       <use xlink:href=\"#DejaVuSans-30\"/>\n       <use xlink:href=\"#DejaVuSans-2e\" x=\"63.623047\"/>\n       <use xlink:href=\"#DejaVuSans-35\" x=\"95.410156\"/>\n      </g>\n     </g>\n    </g>\n    <g id=\"ytick_3\">\n     <g id=\"line2d_9\">\n      <g>\n       <use xlink:href=\"#maf52eeb18a\" x=\"30.103125\" y=\"88.047374\" style=\"stroke: #000000; stroke-width: 0.8\"/>\n      </g>\n     </g>\n     <g id=\"text_10\">\n      <!-- 1.0 -->\n      <g transform=\"translate(7.2 91.846593) scale(0.1 -0.1)\">\n       <use xlink:href=\"#DejaVuSans-31\"/>\n       <use xlink:href=\"#DejaVuSans-2e\" x=\"63.623047\"/>\n       <use xlink:href=\"#DejaVuSans-30\" x=\"95.410156\"/>\n      </g>\n     </g>\n    </g>\n    <g id=\"ytick_4\">\n     <g id=\"line2d_10\">\n      <g>\n       <use xlink:href=\"#maf52eeb18a\" x=\"30.103125\" y=\"59.431768\" style=\"stroke: #000000; stroke-width: 0.8\"/>\n      </g>\n     </g>\n     <g id=\"text_11\">\n      <!-- 1.5 -->\n      <g transform=\"translate(7.2 63.230987) scale(0.1 -0.1)\">\n       <use xlink:href=\"#DejaVuSans-31\"/>\n       <use xlink:href=\"#DejaVuSans-2e\" x=\"63.623047\"/>\n       <use xlink:href=\"#DejaVuSans-35\" x=\"95.410156\"/>\n      </g>\n     </g>\n    </g>\n    <g id=\"ytick_5\">\n     <g id=\"line2d_11\">\n      <g>\n       <use xlink:href=\"#maf52eeb18a\" x=\"30.103125\" y=\"30.816162\" style=\"stroke: #000000; stroke-width: 0.8\"/>\n      </g>\n     </g>\n     <g id=\"text_12\">\n      <!-- 2.0 -->\n      <g transform=\"translate(7.2 34.615381) scale(0.1 -0.1)\">\n       <use xlink:href=\"#DejaVuSans-32\"/>\n       <use xlink:href=\"#DejaVuSans-2e\" x=\"63.623047\"/>\n       <use xlink:href=\"#DejaVuSans-30\" x=\"95.410156\"/>\n      </g>\n     </g>\n    </g>\n   </g>\n   <g id=\"line2d_12\">\n    <path d=\"M 34.954394 13.5 \n\" clip-path=\"url(#paa2b91f86b)\" style=\"fill: none; stroke: #1f77b4; stroke-width: 1.5; stroke-linecap: square\"/>\n   </g>\n   <g id=\"line2d_13\">\n    <path d=\"M 34.954394 13.5 \nL 44.698573 13.501986 \n\" clip-path=\"url(#paa2b91f86b)\" style=\"fill: none; stroke: #1f77b4; stroke-width: 1.5; stroke-linecap: square\"/>\n   </g>\n   <g id=\"line2d_14\">\n    <path d=\"M 34.954394 13.5 \nL 44.698573 13.501986 \n\" clip-path=\"url(#paa2b91f86b)\" style=\"fill: none; stroke: #1f77b4; stroke-width: 1.5; stroke-linecap: square\"/>\n   </g>\n   <g id=\"line2d_15\">\n    <path d=\"M 49.633125 13.51274 \n\" clip-path=\"url(#paa2b91f86b)\" style=\"fill: none; stroke-dasharray: 5.55,2.4; stroke-dashoffset: 0; stroke: #ff7f0e; stroke-width: 1.5\"/>\n   </g>\n   <g id=\"line2d_16\"/>\n   <g id=\"line2d_17\">\n    <path d=\"M 34.954394 13.5 \nL 44.698573 13.501986 \n\" clip-path=\"url(#paa2b91f86b)\" style=\"fill: none; stroke: #1f77b4; stroke-width: 1.5; stroke-linecap: square\"/>\n   </g>\n   <g id=\"line2d_18\">\n    <path d=\"M 49.633125 13.51274 \n\" clip-path=\"url(#paa2b91f86b)\" style=\"fill: none; stroke-dasharray: 5.55,2.4; stroke-dashoffset: 0; stroke: #ff7f0e; stroke-width: 1.5\"/>\n   </g>\n   <g id=\"line2d_19\">\n    <path d=\"M 49.633125 139.5 \n\" clip-path=\"url(#paa2b91f86b)\" style=\"fill: none; stroke-dasharray: 9.6,2.4,1.5,2.4; stroke-dashoffset: 0; stroke: #2ca02c; stroke-width: 1.5\"/>\n   </g>\n   <g id=\"line2d_20\">\n    <path d=\"M 34.954394 13.5 \nL 44.698573 13.501986 \nL 54.442752 13.514835 \n\" clip-path=\"url(#paa2b91f86b)\" style=\"fill: none; stroke: #1f77b4; stroke-width: 1.5; stroke-linecap: square\"/>\n   </g>\n   <g id=\"line2d_21\">\n    <path d=\"M 49.633125 13.51274 \n\" clip-path=\"url(#paa2b91f86b)\" style=\"fill: none; stroke-dasharray: 5.55,2.4; stroke-dashoffset: 0; stroke: #ff7f0e; stroke-width: 1.5\"/>\n   </g>\n   <g id=\"line2d_22\">\n    <path d=\"M 49.633125 139.5 \n\" clip-path=\"url(#paa2b91f86b)\" style=\"fill: none; stroke-dasharray: 9.6,2.4,1.5,2.4; stroke-dashoffset: 0; stroke: #2ca02c; stroke-width: 1.5\"/>\n   </g>\n   <g id=\"line2d_23\">\n    <path d=\"M 34.954394 13.5 \nL 44.698573 13.501986 \nL 54.442752 13.514835 \nL 64.186931 13.518887 \n\" clip-path=\"url(#paa2b91f86b)\" style=\"fill: none; stroke: #1f77b4; stroke-width: 1.5; stroke-linecap: square\"/>\n   </g>\n   <g id=\"line2d_24\">\n    <path d=\"M 49.633125 13.51274 \n\" clip-path=\"url(#paa2b91f86b)\" style=\"fill: none; stroke-dasharray: 5.55,2.4; stroke-dashoffset: 0; stroke: #ff7f0e; stroke-width: 1.5\"/>\n   </g>\n   <g id=\"line2d_25\">\n    <path d=\"M 49.633125 139.5 \n\" clip-path=\"url(#paa2b91f86b)\" style=\"fill: none; stroke-dasharray: 9.6,2.4,1.5,2.4; stroke-dashoffset: 0; stroke: #2ca02c; stroke-width: 1.5\"/>\n   </g>\n   <g id=\"line2d_26\">\n    <path d=\"M 34.954394 13.5 \nL 44.698573 13.501986 \nL 54.442752 13.514835 \nL 64.186931 13.518887 \n\" clip-path=\"url(#paa2b91f86b)\" style=\"fill: none; stroke: #1f77b4; stroke-width: 1.5; stroke-linecap: square\"/>\n   </g>\n   <g id=\"line2d_27\">\n    <path d=\"M 49.633125 13.51274 \nL 69.163125 13.531098 \n\" clip-path=\"url(#paa2b91f86b)\" style=\"fill: none; stroke-dasharray: 5.55,2.4; stroke-dashoffset: 0; stroke: #ff7f0e; stroke-width: 1.5\"/>\n   </g>\n   <g id=\"line2d_28\">\n    <path d=\"M 49.633125 139.5 \n\" clip-path=\"url(#paa2b91f86b)\" style=\"fill: none; stroke-dasharray: 9.6,2.4,1.5,2.4; stroke-dashoffset: 0; stroke: #2ca02c; stroke-width: 1.5\"/>\n   </g>\n   <g id=\"line2d_29\">\n    <path d=\"M 34.954394 13.5 \nL 44.698573 13.501986 \nL 54.442752 13.514835 \nL 64.186931 13.518887 \n\" clip-path=\"url(#paa2b91f86b)\" style=\"fill: none; stroke: #1f77b4; stroke-width: 1.5; stroke-linecap: square\"/>\n   </g>\n   <g id=\"line2d_30\">\n    <path d=\"M 49.633125 13.51274 \nL 69.163125 13.531098 \n\" clip-path=\"url(#paa2b91f86b)\" style=\"fill: none; stroke-dasharray: 5.55,2.4; stroke-dashoffset: 0; stroke: #ff7f0e; stroke-width: 1.5\"/>\n   </g>\n   <g id=\"line2d_31\">\n    <path d=\"M 49.633125 139.5 \nL 69.163125 137.734164 \n\" clip-path=\"url(#paa2b91f86b)\" style=\"fill: none; stroke-dasharray: 9.6,2.4,1.5,2.4; stroke-dashoffset: 0; stroke: #2ca02c; stroke-width: 1.5\"/>\n   </g>\n   <g id=\"line2d_32\">\n    <path d=\"M 34.954394 13.5 \nL 44.698573 13.501986 \nL 54.442752 13.514835 \nL 64.186931 13.518887 \nL 73.93111 13.53568 \n\" clip-path=\"url(#paa2b91f86b)\" style=\"fill: none; stroke: #1f77b4; stroke-width: 1.5; stroke-linecap: square\"/>\n   </g>\n   <g id=\"line2d_33\">\n    <path d=\"M 49.633125 13.51274 \nL 69.163125 13.531098 \n\" clip-path=\"url(#paa2b91f86b)\" style=\"fill: none; stroke-dasharray: 5.55,2.4; stroke-dashoffset: 0; stroke: #ff7f0e; stroke-width: 1.5\"/>\n   </g>\n   <g id=\"line2d_34\">\n    <path d=\"M 49.633125 139.5 \nL 69.163125 137.734164 \n\" clip-path=\"url(#paa2b91f86b)\" style=\"fill: none; stroke-dasharray: 9.6,2.4,1.5,2.4; stroke-dashoffset: 0; stroke: #2ca02c; stroke-width: 1.5\"/>\n   </g>\n   <g id=\"line2d_35\">\n    <path d=\"M 34.954394 13.5 \nL 44.698573 13.501986 \nL 54.442752 13.514835 \nL 64.186931 13.518887 \nL 73.93111 13.53568 \nL 83.675289 13.55361 \n\" clip-path=\"url(#paa2b91f86b)\" style=\"fill: none; stroke: #1f77b4; stroke-width: 1.5; stroke-linecap: square\"/>\n   </g>\n   <g id=\"line2d_36\">\n    <path d=\"M 49.633125 13.51274 \nL 69.163125 13.531098 \n\" clip-path=\"url(#paa2b91f86b)\" style=\"fill: none; stroke-dasharray: 5.55,2.4; stroke-dashoffset: 0; stroke: #ff7f0e; stroke-width: 1.5\"/>\n   </g>\n   <g id=\"line2d_37\">\n    <path d=\"M 49.633125 139.5 \nL 69.163125 137.734164 \n\" clip-path=\"url(#paa2b91f86b)\" style=\"fill: none; stroke-dasharray: 9.6,2.4,1.5,2.4; stroke-dashoffset: 0; stroke: #2ca02c; stroke-width: 1.5\"/>\n   </g>\n   <g id=\"line2d_38\">\n    <path d=\"M 34.954394 13.5 \nL 44.698573 13.501986 \nL 54.442752 13.514835 \nL 64.186931 13.518887 \nL 73.93111 13.53568 \nL 83.675289 13.55361 \n\" clip-path=\"url(#paa2b91f86b)\" style=\"fill: none; stroke: #1f77b4; stroke-width: 1.5; stroke-linecap: square\"/>\n   </g>\n   <g id=\"line2d_39\">\n    <path d=\"M 49.633125 13.51274 \nL 69.163125 13.531098 \nL 88.693125 13.581357 \n\" clip-path=\"url(#paa2b91f86b)\" style=\"fill: none; stroke-dasharray: 5.55,2.4; stroke-dashoffset: 0; stroke: #ff7f0e; stroke-width: 1.5\"/>\n   </g>\n   <g id=\"line2d_40\">\n    <path d=\"M 49.633125 139.5 \nL 69.163125 137.734164 \n\" clip-path=\"url(#paa2b91f86b)\" style=\"fill: none; stroke-dasharray: 9.6,2.4,1.5,2.4; stroke-dashoffset: 0; stroke: #2ca02c; stroke-width: 1.5\"/>\n   </g>\n   <g id=\"line2d_41\">\n    <path d=\"M 34.954394 13.5 \nL 44.698573 13.501986 \nL 54.442752 13.514835 \nL 64.186931 13.518887 \nL 73.93111 13.53568 \nL 83.675289 13.55361 \n\" clip-path=\"url(#paa2b91f86b)\" style=\"fill: none; stroke: #1f77b4; stroke-width: 1.5; stroke-linecap: square\"/>\n   </g>\n   <g id=\"line2d_42\">\n    <path d=\"M 49.633125 13.51274 \nL 69.163125 13.531098 \nL 88.693125 13.581357 \n\" clip-path=\"url(#paa2b91f86b)\" style=\"fill: none; stroke-dasharray: 5.55,2.4; stroke-dashoffset: 0; stroke: #ff7f0e; stroke-width: 1.5\"/>\n   </g>\n   <g id=\"line2d_43\">\n    <path d=\"M 49.633125 139.5 \nL 69.163125 137.734164 \nL 88.693125 133.710094 \n\" clip-path=\"url(#paa2b91f86b)\" style=\"fill: none; stroke-dasharray: 9.6,2.4,1.5,2.4; stroke-dashoffset: 0; stroke: #2ca02c; stroke-width: 1.5\"/>\n   </g>\n   <g id=\"line2d_44\">\n    <path d=\"M 34.954394 13.5 \nL 44.698573 13.501986 \nL 54.442752 13.514835 \nL 64.186931 13.518887 \nL 73.93111 13.53568 \nL 83.675289 13.55361 \nL 93.419468 13.600006 \n\" clip-path=\"url(#paa2b91f86b)\" style=\"fill: none; stroke: #1f77b4; stroke-width: 1.5; stroke-linecap: square\"/>\n   </g>\n   <g id=\"line2d_45\">\n    <path d=\"M 49.633125 13.51274 \nL 69.163125 13.531098 \nL 88.693125 13.581357 \n\" clip-path=\"url(#paa2b91f86b)\" style=\"fill: none; stroke-dasharray: 5.55,2.4; stroke-dashoffset: 0; stroke: #ff7f0e; stroke-width: 1.5\"/>\n   </g>\n   <g id=\"line2d_46\">\n    <path d=\"M 49.633125 139.5 \nL 69.163125 137.734164 \nL 88.693125 133.710094 \n\" clip-path=\"url(#paa2b91f86b)\" style=\"fill: none; stroke-dasharray: 9.6,2.4,1.5,2.4; stroke-dashoffset: 0; stroke: #2ca02c; stroke-width: 1.5\"/>\n   </g>\n   <g id=\"line2d_47\">\n    <path d=\"M 34.954394 13.5 \nL 44.698573 13.501986 \nL 54.442752 13.514835 \nL 64.186931 13.518887 \nL 73.93111 13.53568 \nL 83.675289 13.55361 \nL 93.419468 13.600006 \nL 103.163647 13.710385 \n\" clip-path=\"url(#paa2b91f86b)\" style=\"fill: none; stroke: #1f77b4; stroke-width: 1.5; stroke-linecap: square\"/>\n   </g>\n   <g id=\"line2d_48\">\n    <path d=\"M 49.633125 13.51274 \nL 69.163125 13.531098 \nL 88.693125 13.581357 \n\" clip-path=\"url(#paa2b91f86b)\" style=\"fill: none; stroke-dasharray: 5.55,2.4; stroke-dashoffset: 0; stroke: #ff7f0e; stroke-width: 1.5\"/>\n   </g>\n   <g id=\"line2d_49\">\n    <path d=\"M 49.633125 139.5 \nL 69.163125 137.734164 \nL 88.693125 133.710094 \n\" clip-path=\"url(#paa2b91f86b)\" style=\"fill: none; stroke-dasharray: 9.6,2.4,1.5,2.4; stroke-dashoffset: 0; stroke: #2ca02c; stroke-width: 1.5\"/>\n   </g>\n   <g id=\"line2d_50\">\n    <path d=\"M 34.954394 13.5 \nL 44.698573 13.501986 \nL 54.442752 13.514835 \nL 64.186931 13.518887 \nL 73.93111 13.53568 \nL 83.675289 13.55361 \nL 93.419468 13.600006 \nL 103.163647 13.710385 \n\" clip-path=\"url(#paa2b91f86b)\" style=\"fill: none; stroke: #1f77b4; stroke-width: 1.5; stroke-linecap: square\"/>\n   </g>\n   <g id=\"line2d_51\">\n    <path d=\"M 49.633125 13.51274 \nL 69.163125 13.531098 \nL 88.693125 13.581357 \nL 108.223125 13.843376 \n\" clip-path=\"url(#paa2b91f86b)\" style=\"fill: none; stroke-dasharray: 5.55,2.4; stroke-dashoffset: 0; stroke: #ff7f0e; stroke-width: 1.5\"/>\n   </g>\n   <g id=\"line2d_52\">\n    <path d=\"M 49.633125 139.5 \nL 69.163125 137.734164 \nL 88.693125 133.710094 \n\" clip-path=\"url(#paa2b91f86b)\" style=\"fill: none; stroke-dasharray: 9.6,2.4,1.5,2.4; stroke-dashoffset: 0; stroke: #2ca02c; stroke-width: 1.5\"/>\n   </g>\n   <g id=\"line2d_53\">\n    <path d=\"M 34.954394 13.5 \nL 44.698573 13.501986 \nL 54.442752 13.514835 \nL 64.186931 13.518887 \nL 73.93111 13.53568 \nL 83.675289 13.55361 \nL 93.419468 13.600006 \nL 103.163647 13.710385 \n\" clip-path=\"url(#paa2b91f86b)\" style=\"fill: none; stroke: #1f77b4; stroke-width: 1.5; stroke-linecap: square\"/>\n   </g>\n   <g id=\"line2d_54\">\n    <path d=\"M 49.633125 13.51274 \nL 69.163125 13.531098 \nL 88.693125 13.581357 \nL 108.223125 13.843376 \n\" clip-path=\"url(#paa2b91f86b)\" style=\"fill: none; stroke-dasharray: 5.55,2.4; stroke-dashoffset: 0; stroke: #ff7f0e; stroke-width: 1.5\"/>\n   </g>\n   <g id=\"line2d_55\">\n    <path d=\"M 49.633125 139.5 \nL 69.163125 137.734164 \nL 88.693125 133.710094 \nL 108.223125 118.983471 \n\" clip-path=\"url(#paa2b91f86b)\" style=\"fill: none; stroke-dasharray: 9.6,2.4,1.5,2.4; stroke-dashoffset: 0; stroke: #2ca02c; stroke-width: 1.5\"/>\n   </g>\n   <g id=\"line2d_56\">\n    <path d=\"M 34.954394 13.5 \nL 44.698573 13.501986 \nL 54.442752 13.514835 \nL 64.186931 13.518887 \nL 73.93111 13.53568 \nL 83.675289 13.55361 \nL 93.419468 13.600006 \nL 103.163647 13.710385 \nL 112.907826 14.084987 \n\" clip-path=\"url(#paa2b91f86b)\" style=\"fill: none; stroke: #1f77b4; stroke-width: 1.5; stroke-linecap: square\"/>\n   </g>\n   <g id=\"line2d_57\">\n    <path d=\"M 49.633125 13.51274 \nL 69.163125 13.531098 \nL 88.693125 13.581357 \nL 108.223125 13.843376 \n\" clip-path=\"url(#paa2b91f86b)\" style=\"fill: none; stroke-dasharray: 5.55,2.4; stroke-dashoffset: 0; stroke: #ff7f0e; stroke-width: 1.5\"/>\n   </g>\n   <g id=\"line2d_58\">\n    <path d=\"M 49.633125 139.5 \nL 69.163125 137.734164 \nL 88.693125 133.710094 \nL 108.223125 118.983471 \n\" clip-path=\"url(#paa2b91f86b)\" style=\"fill: none; stroke-dasharray: 9.6,2.4,1.5,2.4; stroke-dashoffset: 0; stroke: #2ca02c; stroke-width: 1.5\"/>\n   </g>\n   <g id=\"line2d_59\">\n    <path d=\"M 34.954394 13.5 \nL 44.698573 13.501986 \nL 54.442752 13.514835 \nL 64.186931 13.518887 \nL 73.93111 13.53568 \nL 83.675289 13.55361 \nL 93.419468 13.600006 \nL 103.163647 13.710385 \nL 112.907826 14.084987 \nL 122.652006 42.535267 \n\" clip-path=\"url(#paa2b91f86b)\" style=\"fill: none; stroke: #1f77b4; stroke-width: 1.5; stroke-linecap: square\"/>\n   </g>\n   <g id=\"line2d_60\">\n    <path d=\"M 49.633125 13.51274 \nL 69.163125 13.531098 \nL 88.693125 13.581357 \nL 108.223125 13.843376 \n\" clip-path=\"url(#paa2b91f86b)\" style=\"fill: none; stroke-dasharray: 5.55,2.4; stroke-dashoffset: 0; stroke: #ff7f0e; stroke-width: 1.5\"/>\n   </g>\n   <g id=\"line2d_61\">\n    <path d=\"M 49.633125 139.5 \nL 69.163125 137.734164 \nL 88.693125 133.710094 \nL 108.223125 118.983471 \n\" clip-path=\"url(#paa2b91f86b)\" style=\"fill: none; stroke-dasharray: 9.6,2.4,1.5,2.4; stroke-dashoffset: 0; stroke: #2ca02c; stroke-width: 1.5\"/>\n   </g>\n   <g id=\"line2d_62\">\n    <path d=\"M 34.954394 13.5 \nL 44.698573 13.501986 \nL 54.442752 13.514835 \nL 64.186931 13.518887 \nL 73.93111 13.53568 \nL 83.675289 13.55361 \nL 93.419468 13.600006 \nL 103.163647 13.710385 \nL 112.907826 14.084987 \nL 122.652006 42.535267 \n\" clip-path=\"url(#paa2b91f86b)\" style=\"fill: none; stroke: #1f77b4; stroke-width: 1.5; stroke-linecap: square\"/>\n   </g>\n   <g id=\"line2d_63\">\n    <path d=\"M 49.633125 13.51274 \nL 69.163125 13.531098 \nL 88.693125 13.581357 \nL 108.223125 13.843376 \nL 127.753125 78.29771 \n\" clip-path=\"url(#paa2b91f86b)\" style=\"fill: none; stroke-dasharray: 5.55,2.4; stroke-dashoffset: 0; stroke: #ff7f0e; stroke-width: 1.5\"/>\n   </g>\n   <g id=\"line2d_64\">\n    <path d=\"M 49.633125 139.5 \nL 69.163125 137.734164 \nL 88.693125 133.710094 \nL 108.223125 118.983471 \n\" clip-path=\"url(#paa2b91f86b)\" style=\"fill: none; stroke-dasharray: 9.6,2.4,1.5,2.4; stroke-dashoffset: 0; stroke: #2ca02c; stroke-width: 1.5\"/>\n   </g>\n   <g id=\"line2d_65\">\n    <path d=\"M 34.954394 13.5 \nL 44.698573 13.501986 \nL 54.442752 13.514835 \nL 64.186931 13.518887 \nL 73.93111 13.53568 \nL 83.675289 13.55361 \nL 93.419468 13.600006 \nL 103.163647 13.710385 \nL 112.907826 14.084987 \nL 122.652006 42.535267 \n\" clip-path=\"url(#paa2b91f86b)\" style=\"fill: none; stroke: #1f77b4; stroke-width: 1.5; stroke-linecap: square\"/>\n   </g>\n   <g id=\"line2d_66\">\n    <path d=\"M 49.633125 13.51274 \nL 69.163125 13.531098 \nL 88.693125 13.581357 \nL 108.223125 13.843376 \nL 127.753125 78.29771 \n\" clip-path=\"url(#paa2b91f86b)\" style=\"fill: none; stroke-dasharray: 5.55,2.4; stroke-dashoffset: 0; stroke: #ff7f0e; stroke-width: 1.5\"/>\n   </g>\n   <g id=\"line2d_67\">\n    <path d=\"M 49.633125 139.5 \nL 69.163125 137.734164 \nL 88.693125 133.710094 \nL 108.223125 118.983471 \nL 127.753125 112.621932 \n\" clip-path=\"url(#paa2b91f86b)\" style=\"fill: none; stroke-dasharray: 9.6,2.4,1.5,2.4; stroke-dashoffset: 0; stroke: #2ca02c; stroke-width: 1.5\"/>\n   </g>\n   <g id=\"line2d_68\">\n    <path d=\"M 34.954394 13.5 \nL 44.698573 13.501986 \nL 54.442752 13.514835 \nL 64.186931 13.518887 \nL 73.93111 13.53568 \nL 83.675289 13.55361 \nL 93.419468 13.600006 \nL 103.163647 13.710385 \nL 112.907826 14.084987 \nL 122.652006 42.535267 \nL 132.396185 91.594618 \n\" clip-path=\"url(#paa2b91f86b)\" style=\"fill: none; stroke: #1f77b4; stroke-width: 1.5; stroke-linecap: square\"/>\n   </g>\n   <g id=\"line2d_69\">\n    <path d=\"M 49.633125 13.51274 \nL 69.163125 13.531098 \nL 88.693125 13.581357 \nL 108.223125 13.843376 \nL 127.753125 78.29771 \n\" clip-path=\"url(#paa2b91f86b)\" style=\"fill: none; stroke-dasharray: 5.55,2.4; stroke-dashoffset: 0; stroke: #ff7f0e; stroke-width: 1.5\"/>\n   </g>\n   <g id=\"line2d_70\">\n    <path d=\"M 49.633125 139.5 \nL 69.163125 137.734164 \nL 88.693125 133.710094 \nL 108.223125 118.983471 \nL 127.753125 112.621932 \n\" clip-path=\"url(#paa2b91f86b)\" style=\"fill: none; stroke-dasharray: 9.6,2.4,1.5,2.4; stroke-dashoffset: 0; stroke: #2ca02c; stroke-width: 1.5\"/>\n   </g>\n   <g id=\"line2d_71\">\n    <path d=\"M 34.954394 13.5 \nL 44.698573 13.501986 \nL 54.442752 13.514835 \nL 64.186931 13.518887 \nL 73.93111 13.53568 \nL 83.675289 13.55361 \nL 93.419468 13.600006 \nL 103.163647 13.710385 \nL 112.907826 14.084987 \nL 122.652006 42.535267 \nL 132.396185 91.594618 \nL 142.140364 98.684826 \n\" clip-path=\"url(#paa2b91f86b)\" style=\"fill: none; stroke: #1f77b4; stroke-width: 1.5; stroke-linecap: square\"/>\n   </g>\n   <g id=\"line2d_72\">\n    <path d=\"M 49.633125 13.51274 \nL 69.163125 13.531098 \nL 88.693125 13.581357 \nL 108.223125 13.843376 \nL 127.753125 78.29771 \n\" clip-path=\"url(#paa2b91f86b)\" style=\"fill: none; stroke-dasharray: 5.55,2.4; stroke-dashoffset: 0; stroke: #ff7f0e; stroke-width: 1.5\"/>\n   </g>\n   <g id=\"line2d_73\">\n    <path d=\"M 49.633125 139.5 \nL 69.163125 137.734164 \nL 88.693125 133.710094 \nL 108.223125 118.983471 \nL 127.753125 112.621932 \n\" clip-path=\"url(#paa2b91f86b)\" style=\"fill: none; stroke-dasharray: 9.6,2.4,1.5,2.4; stroke-dashoffset: 0; stroke: #2ca02c; stroke-width: 1.5\"/>\n   </g>\n   <g id=\"line2d_74\">\n    <path d=\"M 34.954394 13.5 \nL 44.698573 13.501986 \nL 54.442752 13.514835 \nL 64.186931 13.518887 \nL 73.93111 13.53568 \nL 83.675289 13.55361 \nL 93.419468 13.600006 \nL 103.163647 13.710385 \nL 112.907826 14.084987 \nL 122.652006 42.535267 \nL 132.396185 91.594618 \nL 142.140364 98.684826 \n\" clip-path=\"url(#paa2b91f86b)\" style=\"fill: none; stroke: #1f77b4; stroke-width: 1.5; stroke-linecap: square\"/>\n   </g>\n   <g id=\"line2d_75\">\n    <path d=\"M 49.633125 13.51274 \nL 69.163125 13.531098 \nL 88.693125 13.581357 \nL 108.223125 13.843376 \nL 127.753125 78.29771 \nL 147.283125 102.364876 \n\" clip-path=\"url(#paa2b91f86b)\" style=\"fill: none; stroke-dasharray: 5.55,2.4; stroke-dashoffset: 0; stroke: #ff7f0e; stroke-width: 1.5\"/>\n   </g>\n   <g id=\"line2d_76\">\n    <path d=\"M 49.633125 139.5 \nL 69.163125 137.734164 \nL 88.693125 133.710094 \nL 108.223125 118.983471 \nL 127.753125 112.621932 \n\" clip-path=\"url(#paa2b91f86b)\" style=\"fill: none; stroke-dasharray: 9.6,2.4,1.5,2.4; stroke-dashoffset: 0; stroke: #2ca02c; stroke-width: 1.5\"/>\n   </g>\n   <g id=\"line2d_77\">\n    <path d=\"M 34.954394 13.5 \nL 44.698573 13.501986 \nL 54.442752 13.514835 \nL 64.186931 13.518887 \nL 73.93111 13.53568 \nL 83.675289 13.55361 \nL 93.419468 13.600006 \nL 103.163647 13.710385 \nL 112.907826 14.084987 \nL 122.652006 42.535267 \nL 132.396185 91.594618 \nL 142.140364 98.684826 \n\" clip-path=\"url(#paa2b91f86b)\" style=\"fill: none; stroke: #1f77b4; stroke-width: 1.5; stroke-linecap: square\"/>\n   </g>\n   <g id=\"line2d_78\">\n    <path d=\"M 49.633125 13.51274 \nL 69.163125 13.531098 \nL 88.693125 13.581357 \nL 108.223125 13.843376 \nL 127.753125 78.29771 \nL 147.283125 102.364876 \n\" clip-path=\"url(#paa2b91f86b)\" style=\"fill: none; stroke-dasharray: 5.55,2.4; stroke-dashoffset: 0; stroke: #ff7f0e; stroke-width: 1.5\"/>\n   </g>\n   <g id=\"line2d_79\">\n    <path d=\"M 49.633125 139.5 \nL 69.163125 137.734164 \nL 88.693125 133.710094 \nL 108.223125 118.983471 \nL 127.753125 112.621932 \nL 147.283125 104.675668 \n\" clip-path=\"url(#paa2b91f86b)\" style=\"fill: none; stroke-dasharray: 9.6,2.4,1.5,2.4; stroke-dashoffset: 0; stroke: #2ca02c; stroke-width: 1.5\"/>\n   </g>\n   <g id=\"line2d_80\">\n    <path d=\"M 34.954394 13.5 \nL 44.698573 13.501986 \nL 54.442752 13.514835 \nL 64.186931 13.518887 \nL 73.93111 13.53568 \nL 83.675289 13.55361 \nL 93.419468 13.600006 \nL 103.163647 13.710385 \nL 112.907826 14.084987 \nL 122.652006 42.535267 \nL 132.396185 91.594618 \nL 142.140364 98.684826 \nL 151.884543 102.351278 \n\" clip-path=\"url(#paa2b91f86b)\" style=\"fill: none; stroke: #1f77b4; stroke-width: 1.5; stroke-linecap: square\"/>\n   </g>\n   <g id=\"line2d_81\">\n    <path d=\"M 49.633125 13.51274 \nL 69.163125 13.531098 \nL 88.693125 13.581357 \nL 108.223125 13.843376 \nL 127.753125 78.29771 \nL 147.283125 102.364876 \n\" clip-path=\"url(#paa2b91f86b)\" style=\"fill: none; stroke-dasharray: 5.55,2.4; stroke-dashoffset: 0; stroke: #ff7f0e; stroke-width: 1.5\"/>\n   </g>\n   <g id=\"line2d_82\">\n    <path d=\"M 49.633125 139.5 \nL 69.163125 137.734164 \nL 88.693125 133.710094 \nL 108.223125 118.983471 \nL 127.753125 112.621932 \nL 147.283125 104.675668 \n\" clip-path=\"url(#paa2b91f86b)\" style=\"fill: none; stroke-dasharray: 9.6,2.4,1.5,2.4; stroke-dashoffset: 0; stroke: #2ca02c; stroke-width: 1.5\"/>\n   </g>\n   <g id=\"line2d_83\">\n    <path d=\"M 34.954394 13.5 \nL 44.698573 13.501986 \nL 54.442752 13.514835 \nL 64.186931 13.518887 \nL 73.93111 13.53568 \nL 83.675289 13.55361 \nL 93.419468 13.600006 \nL 103.163647 13.710385 \nL 112.907826 14.084987 \nL 122.652006 42.535267 \nL 132.396185 91.594618 \nL 142.140364 98.684826 \nL 151.884543 102.351278 \nL 161.628722 106.613946 \n\" clip-path=\"url(#paa2b91f86b)\" style=\"fill: none; stroke: #1f77b4; stroke-width: 1.5; stroke-linecap: square\"/>\n   </g>\n   <g id=\"line2d_84\">\n    <path d=\"M 49.633125 13.51274 \nL 69.163125 13.531098 \nL 88.693125 13.581357 \nL 108.223125 13.843376 \nL 127.753125 78.29771 \nL 147.283125 102.364876 \n\" clip-path=\"url(#paa2b91f86b)\" style=\"fill: none; stroke-dasharray: 5.55,2.4; stroke-dashoffset: 0; stroke: #ff7f0e; stroke-width: 1.5\"/>\n   </g>\n   <g id=\"line2d_85\">\n    <path d=\"M 49.633125 139.5 \nL 69.163125 137.734164 \nL 88.693125 133.710094 \nL 108.223125 118.983471 \nL 127.753125 112.621932 \nL 147.283125 104.675668 \n\" clip-path=\"url(#paa2b91f86b)\" style=\"fill: none; stroke-dasharray: 9.6,2.4,1.5,2.4; stroke-dashoffset: 0; stroke: #2ca02c; stroke-width: 1.5\"/>\n   </g>\n   <g id=\"line2d_86\">\n    <path d=\"M 34.954394 13.5 \nL 44.698573 13.501986 \nL 54.442752 13.514835 \nL 64.186931 13.518887 \nL 73.93111 13.53568 \nL 83.675289 13.55361 \nL 93.419468 13.600006 \nL 103.163647 13.710385 \nL 112.907826 14.084987 \nL 122.652006 42.535267 \nL 132.396185 91.594618 \nL 142.140364 98.684826 \nL 151.884543 102.351278 \nL 161.628722 106.613946 \n\" clip-path=\"url(#paa2b91f86b)\" style=\"fill: none; stroke: #1f77b4; stroke-width: 1.5; stroke-linecap: square\"/>\n   </g>\n   <g id=\"line2d_87\">\n    <path d=\"M 49.633125 13.51274 \nL 69.163125 13.531098 \nL 88.693125 13.581357 \nL 108.223125 13.843376 \nL 127.753125 78.29771 \nL 147.283125 102.364876 \nL 166.813125 107.797545 \n\" clip-path=\"url(#paa2b91f86b)\" style=\"fill: none; stroke-dasharray: 5.55,2.4; stroke-dashoffset: 0; stroke: #ff7f0e; stroke-width: 1.5\"/>\n   </g>\n   <g id=\"line2d_88\">\n    <path d=\"M 49.633125 139.5 \nL 69.163125 137.734164 \nL 88.693125 133.710094 \nL 108.223125 118.983471 \nL 127.753125 112.621932 \nL 147.283125 104.675668 \n\" clip-path=\"url(#paa2b91f86b)\" style=\"fill: none; stroke-dasharray: 9.6,2.4,1.5,2.4; stroke-dashoffset: 0; stroke: #2ca02c; stroke-width: 1.5\"/>\n   </g>\n   <g id=\"line2d_89\">\n    <path d=\"M 34.954394 13.5 \nL 44.698573 13.501986 \nL 54.442752 13.514835 \nL 64.186931 13.518887 \nL 73.93111 13.53568 \nL 83.675289 13.55361 \nL 93.419468 13.600006 \nL 103.163647 13.710385 \nL 112.907826 14.084987 \nL 122.652006 42.535267 \nL 132.396185 91.594618 \nL 142.140364 98.684826 \nL 151.884543 102.351278 \nL 161.628722 106.613946 \n\" clip-path=\"url(#paa2b91f86b)\" style=\"fill: none; stroke: #1f77b4; stroke-width: 1.5; stroke-linecap: square\"/>\n   </g>\n   <g id=\"line2d_90\">\n    <path d=\"M 49.633125 13.51274 \nL 69.163125 13.531098 \nL 88.693125 13.581357 \nL 108.223125 13.843376 \nL 127.753125 78.29771 \nL 147.283125 102.364876 \nL 166.813125 107.797545 \n\" clip-path=\"url(#paa2b91f86b)\" style=\"fill: none; stroke-dasharray: 5.55,2.4; stroke-dashoffset: 0; stroke: #ff7f0e; stroke-width: 1.5\"/>\n   </g>\n   <g id=\"line2d_91\">\n    <path d=\"M 49.633125 139.5 \nL 69.163125 137.734164 \nL 88.693125 133.710094 \nL 108.223125 118.983471 \nL 127.753125 112.621932 \nL 147.283125 104.675668 \nL 166.813125 102.326879 \n\" clip-path=\"url(#paa2b91f86b)\" style=\"fill: none; stroke-dasharray: 9.6,2.4,1.5,2.4; stroke-dashoffset: 0; stroke: #2ca02c; stroke-width: 1.5\"/>\n   </g>\n   <g id=\"line2d_92\">\n    <path d=\"M 34.954394 13.5 \nL 44.698573 13.501986 \nL 54.442752 13.514835 \nL 64.186931 13.518887 \nL 73.93111 13.53568 \nL 83.675289 13.55361 \nL 93.419468 13.600006 \nL 103.163647 13.710385 \nL 112.907826 14.084987 \nL 122.652006 42.535267 \nL 132.396185 91.594618 \nL 142.140364 98.684826 \nL 151.884543 102.351278 \nL 161.628722 106.613946 \nL 171.372901 109.270877 \n\" clip-path=\"url(#paa2b91f86b)\" style=\"fill: none; stroke: #1f77b4; stroke-width: 1.5; stroke-linecap: square\"/>\n   </g>\n   <g id=\"line2d_93\">\n    <path d=\"M 49.633125 13.51274 \nL 69.163125 13.531098 \nL 88.693125 13.581357 \nL 108.223125 13.843376 \nL 127.753125 78.29771 \nL 147.283125 102.364876 \nL 166.813125 107.797545 \n\" clip-path=\"url(#paa2b91f86b)\" style=\"fill: none; stroke-dasharray: 5.55,2.4; stroke-dashoffset: 0; stroke: #ff7f0e; stroke-width: 1.5\"/>\n   </g>\n   <g id=\"line2d_94\">\n    <path d=\"M 49.633125 139.5 \nL 69.163125 137.734164 \nL 88.693125 133.710094 \nL 108.223125 118.983471 \nL 127.753125 112.621932 \nL 147.283125 104.675668 \nL 166.813125 102.326879 \n\" clip-path=\"url(#paa2b91f86b)\" style=\"fill: none; stroke-dasharray: 9.6,2.4,1.5,2.4; stroke-dashoffset: 0; stroke: #2ca02c; stroke-width: 1.5\"/>\n   </g>\n   <g id=\"line2d_95\">\n    <path d=\"M 34.954394 13.5 \nL 44.698573 13.501986 \nL 54.442752 13.514835 \nL 64.186931 13.518887 \nL 73.93111 13.53568 \nL 83.675289 13.55361 \nL 93.419468 13.600006 \nL 103.163647 13.710385 \nL 112.907826 14.084987 \nL 122.652006 42.535267 \nL 132.396185 91.594618 \nL 142.140364 98.684826 \nL 151.884543 102.351278 \nL 161.628722 106.613946 \nL 171.372901 109.270877 \nL 181.11708 111.048259 \n\" clip-path=\"url(#paa2b91f86b)\" style=\"fill: none; stroke: #1f77b4; stroke-width: 1.5; stroke-linecap: square\"/>\n   </g>\n   <g id=\"line2d_96\">\n    <path d=\"M 49.633125 13.51274 \nL 69.163125 13.531098 \nL 88.693125 13.581357 \nL 108.223125 13.843376 \nL 127.753125 78.29771 \nL 147.283125 102.364876 \nL 166.813125 107.797545 \n\" clip-path=\"url(#paa2b91f86b)\" style=\"fill: none; stroke-dasharray: 5.55,2.4; stroke-dashoffset: 0; stroke: #ff7f0e; stroke-width: 1.5\"/>\n   </g>\n   <g id=\"line2d_97\">\n    <path d=\"M 49.633125 139.5 \nL 69.163125 137.734164 \nL 88.693125 133.710094 \nL 108.223125 118.983471 \nL 127.753125 112.621932 \nL 147.283125 104.675668 \nL 166.813125 102.326879 \n\" clip-path=\"url(#paa2b91f86b)\" style=\"fill: none; stroke-dasharray: 9.6,2.4,1.5,2.4; stroke-dashoffset: 0; stroke: #2ca02c; stroke-width: 1.5\"/>\n   </g>\n   <g id=\"line2d_98\">\n    <path d=\"M 34.954394 13.5 \nL 44.698573 13.501986 \nL 54.442752 13.514835 \nL 64.186931 13.518887 \nL 73.93111 13.53568 \nL 83.675289 13.55361 \nL 93.419468 13.600006 \nL 103.163647 13.710385 \nL 112.907826 14.084987 \nL 122.652006 42.535267 \nL 132.396185 91.594618 \nL 142.140364 98.684826 \nL 151.884543 102.351278 \nL 161.628722 106.613946 \nL 171.372901 109.270877 \nL 181.11708 111.048259 \n\" clip-path=\"url(#paa2b91f86b)\" style=\"fill: none; stroke: #1f77b4; stroke-width: 1.5; stroke-linecap: square\"/>\n   </g>\n   <g id=\"line2d_99\">\n    <path d=\"M 49.633125 13.51274 \nL 69.163125 13.531098 \nL 88.693125 13.581357 \nL 108.223125 13.843376 \nL 127.753125 78.29771 \nL 147.283125 102.364876 \nL 166.813125 107.797545 \nL 186.343125 111.093238 \n\" clip-path=\"url(#paa2b91f86b)\" style=\"fill: none; stroke-dasharray: 5.55,2.4; stroke-dashoffset: 0; stroke: #ff7f0e; stroke-width: 1.5\"/>\n   </g>\n   <g id=\"line2d_100\">\n    <path d=\"M 49.633125 139.5 \nL 69.163125 137.734164 \nL 88.693125 133.710094 \nL 108.223125 118.983471 \nL 127.753125 112.621932 \nL 147.283125 104.675668 \nL 166.813125 102.326879 \n\" clip-path=\"url(#paa2b91f86b)\" style=\"fill: none; stroke-dasharray: 9.6,2.4,1.5,2.4; stroke-dashoffset: 0; stroke: #2ca02c; stroke-width: 1.5\"/>\n   </g>\n   <g id=\"line2d_101\">\n    <path d=\"M 34.954394 13.5 \nL 44.698573 13.501986 \nL 54.442752 13.514835 \nL 64.186931 13.518887 \nL 73.93111 13.53568 \nL 83.675289 13.55361 \nL 93.419468 13.600006 \nL 103.163647 13.710385 \nL 112.907826 14.084987 \nL 122.652006 42.535267 \nL 132.396185 91.594618 \nL 142.140364 98.684826 \nL 151.884543 102.351278 \nL 161.628722 106.613946 \nL 171.372901 109.270877 \nL 181.11708 111.048259 \n\" clip-path=\"url(#paa2b91f86b)\" style=\"fill: none; stroke: #1f77b4; stroke-width: 1.5; stroke-linecap: square\"/>\n   </g>\n   <g id=\"line2d_102\">\n    <path d=\"M 49.633125 13.51274 \nL 69.163125 13.531098 \nL 88.693125 13.581357 \nL 108.223125 13.843376 \nL 127.753125 78.29771 \nL 147.283125 102.364876 \nL 166.813125 107.797545 \nL 186.343125 111.093238 \n\" clip-path=\"url(#paa2b91f86b)\" style=\"fill: none; stroke-dasharray: 5.55,2.4; stroke-dashoffset: 0; stroke: #ff7f0e; stroke-width: 1.5\"/>\n   </g>\n   <g id=\"line2d_103\">\n    <path d=\"M 49.633125 139.5 \nL 69.163125 137.734164 \nL 88.693125 133.710094 \nL 108.223125 118.983471 \nL 127.753125 112.621932 \nL 147.283125 104.675668 \nL 166.813125 102.326879 \nL 186.343125 101.398683 \n\" clip-path=\"url(#paa2b91f86b)\" style=\"fill: none; stroke-dasharray: 9.6,2.4,1.5,2.4; stroke-dashoffset: 0; stroke: #2ca02c; stroke-width: 1.5\"/>\n   </g>\n   <g id=\"line2d_104\">\n    <path d=\"M 34.954394 13.5 \nL 44.698573 13.501986 \nL 54.442752 13.514835 \nL 64.186931 13.518887 \nL 73.93111 13.53568 \nL 83.675289 13.55361 \nL 93.419468 13.600006 \nL 103.163647 13.710385 \nL 112.907826 14.084987 \nL 122.652006 42.535267 \nL 132.396185 91.594618 \nL 142.140364 98.684826 \nL 151.884543 102.351278 \nL 161.628722 106.613946 \nL 171.372901 109.270877 \nL 181.11708 111.048259 \nL 190.861259 113.217421 \n\" clip-path=\"url(#paa2b91f86b)\" style=\"fill: none; stroke: #1f77b4; stroke-width: 1.5; stroke-linecap: square\"/>\n   </g>\n   <g id=\"line2d_105\">\n    <path d=\"M 49.633125 13.51274 \nL 69.163125 13.531098 \nL 88.693125 13.581357 \nL 108.223125 13.843376 \nL 127.753125 78.29771 \nL 147.283125 102.364876 \nL 166.813125 107.797545 \nL 186.343125 111.093238 \n\" clip-path=\"url(#paa2b91f86b)\" style=\"fill: none; stroke-dasharray: 5.55,2.4; stroke-dashoffset: 0; stroke: #ff7f0e; stroke-width: 1.5\"/>\n   </g>\n   <g id=\"line2d_106\">\n    <path d=\"M 49.633125 139.5 \nL 69.163125 137.734164 \nL 88.693125 133.710094 \nL 108.223125 118.983471 \nL 127.753125 112.621932 \nL 147.283125 104.675668 \nL 166.813125 102.326879 \nL 186.343125 101.398683 \n\" clip-path=\"url(#paa2b91f86b)\" style=\"fill: none; stroke-dasharray: 9.6,2.4,1.5,2.4; stroke-dashoffset: 0; stroke: #2ca02c; stroke-width: 1.5\"/>\n   </g>\n   <g id=\"line2d_107\">\n    <path d=\"M 34.954394 13.5 \nL 44.698573 13.501986 \nL 54.442752 13.514835 \nL 64.186931 13.518887 \nL 73.93111 13.53568 \nL 83.675289 13.55361 \nL 93.419468 13.600006 \nL 103.163647 13.710385 \nL 112.907826 14.084987 \nL 122.652006 42.535267 \nL 132.396185 91.594618 \nL 142.140364 98.684826 \nL 151.884543 102.351278 \nL 161.628722 106.613946 \nL 171.372901 109.270877 \nL 181.11708 111.048259 \nL 190.861259 113.217421 \nL 200.605438 114.814461 \n\" clip-path=\"url(#paa2b91f86b)\" style=\"fill: none; stroke: #1f77b4; stroke-width: 1.5; stroke-linecap: square\"/>\n   </g>\n   <g id=\"line2d_108\">\n    <path d=\"M 49.633125 13.51274 \nL 69.163125 13.531098 \nL 88.693125 13.581357 \nL 108.223125 13.843376 \nL 127.753125 78.29771 \nL 147.283125 102.364876 \nL 166.813125 107.797545 \nL 186.343125 111.093238 \n\" clip-path=\"url(#paa2b91f86b)\" style=\"fill: none; stroke-dasharray: 5.55,2.4; stroke-dashoffset: 0; stroke: #ff7f0e; stroke-width: 1.5\"/>\n   </g>\n   <g id=\"line2d_109\">\n    <path d=\"M 49.633125 139.5 \nL 69.163125 137.734164 \nL 88.693125 133.710094 \nL 108.223125 118.983471 \nL 127.753125 112.621932 \nL 147.283125 104.675668 \nL 166.813125 102.326879 \nL 186.343125 101.398683 \n\" clip-path=\"url(#paa2b91f86b)\" style=\"fill: none; stroke-dasharray: 9.6,2.4,1.5,2.4; stroke-dashoffset: 0; stroke: #2ca02c; stroke-width: 1.5\"/>\n   </g>\n   <g id=\"line2d_110\">\n    <path d=\"M 34.954394 13.5 \nL 44.698573 13.501986 \nL 54.442752 13.514835 \nL 64.186931 13.518887 \nL 73.93111 13.53568 \nL 83.675289 13.55361 \nL 93.419468 13.600006 \nL 103.163647 13.710385 \nL 112.907826 14.084987 \nL 122.652006 42.535267 \nL 132.396185 91.594618 \nL 142.140364 98.684826 \nL 151.884543 102.351278 \nL 161.628722 106.613946 \nL 171.372901 109.270877 \nL 181.11708 111.048259 \nL 190.861259 113.217421 \nL 200.605438 114.814461 \n\" clip-path=\"url(#paa2b91f86b)\" style=\"fill: none; stroke: #1f77b4; stroke-width: 1.5; stroke-linecap: square\"/>\n   </g>\n   <g id=\"line2d_111\">\n    <path d=\"M 49.633125 13.51274 \nL 69.163125 13.531098 \nL 88.693125 13.581357 \nL 108.223125 13.843376 \nL 127.753125 78.29771 \nL 147.283125 102.364876 \nL 166.813125 107.797545 \nL 186.343125 111.093238 \nL 205.873125 115.765891 \n\" clip-path=\"url(#paa2b91f86b)\" style=\"fill: none; stroke-dasharray: 5.55,2.4; stroke-dashoffset: 0; stroke: #ff7f0e; stroke-width: 1.5\"/>\n   </g>\n   <g id=\"line2d_112\">\n    <path d=\"M 49.633125 139.5 \nL 69.163125 137.734164 \nL 88.693125 133.710094 \nL 108.223125 118.983471 \nL 127.753125 112.621932 \nL 147.283125 104.675668 \nL 166.813125 102.326879 \nL 186.343125 101.398683 \n\" clip-path=\"url(#paa2b91f86b)\" style=\"fill: none; stroke-dasharray: 9.6,2.4,1.5,2.4; stroke-dashoffset: 0; stroke: #2ca02c; stroke-width: 1.5\"/>\n   </g>\n   <g id=\"line2d_113\">\n    <path d=\"M 34.954394 13.5 \nL 44.698573 13.501986 \nL 54.442752 13.514835 \nL 64.186931 13.518887 \nL 73.93111 13.53568 \nL 83.675289 13.55361 \nL 93.419468 13.600006 \nL 103.163647 13.710385 \nL 112.907826 14.084987 \nL 122.652006 42.535267 \nL 132.396185 91.594618 \nL 142.140364 98.684826 \nL 151.884543 102.351278 \nL 161.628722 106.613946 \nL 171.372901 109.270877 \nL 181.11708 111.048259 \nL 190.861259 113.217421 \nL 200.605438 114.814461 \n\" clip-path=\"url(#paa2b91f86b)\" style=\"fill: none; stroke: #1f77b4; stroke-width: 1.5; stroke-linecap: square\"/>\n   </g>\n   <g id=\"line2d_114\">\n    <path d=\"M 49.633125 13.51274 \nL 69.163125 13.531098 \nL 88.693125 13.581357 \nL 108.223125 13.843376 \nL 127.753125 78.29771 \nL 147.283125 102.364876 \nL 166.813125 107.797545 \nL 186.343125 111.093238 \nL 205.873125 115.765891 \n\" clip-path=\"url(#paa2b91f86b)\" style=\"fill: none; stroke-dasharray: 5.55,2.4; stroke-dashoffset: 0; stroke: #ff7f0e; stroke-width: 1.5\"/>\n   </g>\n   <g id=\"line2d_115\">\n    <path d=\"M 49.633125 139.5 \nL 69.163125 137.734164 \nL 88.693125 133.710094 \nL 108.223125 118.983471 \nL 127.753125 112.621932 \nL 147.283125 104.675668 \nL 166.813125 102.326879 \nL 186.343125 101.398683 \nL 205.873125 98.880102 \n\" clip-path=\"url(#paa2b91f86b)\" style=\"fill: none; stroke-dasharray: 9.6,2.4,1.5,2.4; stroke-dashoffset: 0; stroke: #2ca02c; stroke-width: 1.5\"/>\n   </g>\n   <g id=\"line2d_116\">\n    <path d=\"M 34.954394 13.5 \nL 44.698573 13.501986 \nL 54.442752 13.514835 \nL 64.186931 13.518887 \nL 73.93111 13.53568 \nL 83.675289 13.55361 \nL 93.419468 13.600006 \nL 103.163647 13.710385 \nL 112.907826 14.084987 \nL 122.652006 42.535267 \nL 132.396185 91.594618 \nL 142.140364 98.684826 \nL 151.884543 102.351278 \nL 161.628722 106.613946 \nL 171.372901 109.270877 \nL 181.11708 111.048259 \nL 190.861259 113.217421 \nL 200.605438 114.814461 \nL 210.349618 116.270584 \n\" clip-path=\"url(#paa2b91f86b)\" style=\"fill: none; stroke: #1f77b4; stroke-width: 1.5; stroke-linecap: square\"/>\n   </g>\n   <g id=\"line2d_117\">\n    <path d=\"M 49.633125 13.51274 \nL 69.163125 13.531098 \nL 88.693125 13.581357 \nL 108.223125 13.843376 \nL 127.753125 78.29771 \nL 147.283125 102.364876 \nL 166.813125 107.797545 \nL 186.343125 111.093238 \nL 205.873125 115.765891 \n\" clip-path=\"url(#paa2b91f86b)\" style=\"fill: none; stroke-dasharray: 5.55,2.4; stroke-dashoffset: 0; stroke: #ff7f0e; stroke-width: 1.5\"/>\n   </g>\n   <g id=\"line2d_118\">\n    <path d=\"M 49.633125 139.5 \nL 69.163125 137.734164 \nL 88.693125 133.710094 \nL 108.223125 118.983471 \nL 127.753125 112.621932 \nL 147.283125 104.675668 \nL 166.813125 102.326879 \nL 186.343125 101.398683 \nL 205.873125 98.880102 \n\" clip-path=\"url(#paa2b91f86b)\" style=\"fill: none; stroke-dasharray: 9.6,2.4,1.5,2.4; stroke-dashoffset: 0; stroke: #2ca02c; stroke-width: 1.5\"/>\n   </g>\n   <g id=\"line2d_119\">\n    <path d=\"M 34.954394 13.5 \nL 44.698573 13.501986 \nL 54.442752 13.514835 \nL 64.186931 13.518887 \nL 73.93111 13.53568 \nL 83.675289 13.55361 \nL 93.419468 13.600006 \nL 103.163647 13.710385 \nL 112.907826 14.084987 \nL 122.652006 42.535267 \nL 132.396185 91.594618 \nL 142.140364 98.684826 \nL 151.884543 102.351278 \nL 161.628722 106.613946 \nL 171.372901 109.270877 \nL 181.11708 111.048259 \nL 190.861259 113.217421 \nL 200.605438 114.814461 \nL 210.349618 116.270584 \nL 220.093797 117.164086 \n\" clip-path=\"url(#paa2b91f86b)\" style=\"fill: none; stroke: #1f77b4; stroke-width: 1.5; stroke-linecap: square\"/>\n   </g>\n   <g id=\"line2d_120\">\n    <path d=\"M 49.633125 13.51274 \nL 69.163125 13.531098 \nL 88.693125 13.581357 \nL 108.223125 13.843376 \nL 127.753125 78.29771 \nL 147.283125 102.364876 \nL 166.813125 107.797545 \nL 186.343125 111.093238 \nL 205.873125 115.765891 \n\" clip-path=\"url(#paa2b91f86b)\" style=\"fill: none; stroke-dasharray: 5.55,2.4; stroke-dashoffset: 0; stroke: #ff7f0e; stroke-width: 1.5\"/>\n   </g>\n   <g id=\"line2d_121\">\n    <path d=\"M 49.633125 139.5 \nL 69.163125 137.734164 \nL 88.693125 133.710094 \nL 108.223125 118.983471 \nL 127.753125 112.621932 \nL 147.283125 104.675668 \nL 166.813125 102.326879 \nL 186.343125 101.398683 \nL 205.873125 98.880102 \n\" clip-path=\"url(#paa2b91f86b)\" style=\"fill: none; stroke-dasharray: 9.6,2.4,1.5,2.4; stroke-dashoffset: 0; stroke: #2ca02c; stroke-width: 1.5\"/>\n   </g>\n   <g id=\"line2d_122\">\n    <path d=\"M 34.954394 13.5 \nL 44.698573 13.501986 \nL 54.442752 13.514835 \nL 64.186931 13.518887 \nL 73.93111 13.53568 \nL 83.675289 13.55361 \nL 93.419468 13.600006 \nL 103.163647 13.710385 \nL 112.907826 14.084987 \nL 122.652006 42.535267 \nL 132.396185 91.594618 \nL 142.140364 98.684826 \nL 151.884543 102.351278 \nL 161.628722 106.613946 \nL 171.372901 109.270877 \nL 181.11708 111.048259 \nL 190.861259 113.217421 \nL 200.605438 114.814461 \nL 210.349618 116.270584 \nL 220.093797 117.164086 \n\" clip-path=\"url(#paa2b91f86b)\" style=\"fill: none; stroke: #1f77b4; stroke-width: 1.5; stroke-linecap: square\"/>\n   </g>\n   <g id=\"line2d_123\">\n    <path d=\"M 49.633125 13.51274 \nL 69.163125 13.531098 \nL 88.693125 13.581357 \nL 108.223125 13.843376 \nL 127.753125 78.29771 \nL 147.283125 102.364876 \nL 166.813125 107.797545 \nL 186.343125 111.093238 \nL 205.873125 115.765891 \nL 225.403125 118.016964 \n\" clip-path=\"url(#paa2b91f86b)\" style=\"fill: none; stroke-dasharray: 5.55,2.4; stroke-dashoffset: 0; stroke: #ff7f0e; stroke-width: 1.5\"/>\n   </g>\n   <g id=\"line2d_124\">\n    <path d=\"M 49.633125 139.5 \nL 69.163125 137.734164 \nL 88.693125 133.710094 \nL 108.223125 118.983471 \nL 127.753125 112.621932 \nL 147.283125 104.675668 \nL 166.813125 102.326879 \nL 186.343125 101.398683 \nL 205.873125 98.880102 \n\" clip-path=\"url(#paa2b91f86b)\" style=\"fill: none; stroke-dasharray: 9.6,2.4,1.5,2.4; stroke-dashoffset: 0; stroke: #2ca02c; stroke-width: 1.5\"/>\n   </g>\n   <g id=\"line2d_125\">\n    <path d=\"M 34.954394 13.5 \nL 44.698573 13.501986 \nL 54.442752 13.514835 \nL 64.186931 13.518887 \nL 73.93111 13.53568 \nL 83.675289 13.55361 \nL 93.419468 13.600006 \nL 103.163647 13.710385 \nL 112.907826 14.084987 \nL 122.652006 42.535267 \nL 132.396185 91.594618 \nL 142.140364 98.684826 \nL 151.884543 102.351278 \nL 161.628722 106.613946 \nL 171.372901 109.270877 \nL 181.11708 111.048259 \nL 190.861259 113.217421 \nL 200.605438 114.814461 \nL 210.349618 116.270584 \nL 220.093797 117.164086 \n\" clip-path=\"url(#paa2b91f86b)\" style=\"fill: none; stroke: #1f77b4; stroke-width: 1.5; stroke-linecap: square\"/>\n   </g>\n   <g id=\"line2d_126\">\n    <path d=\"M 49.633125 13.51274 \nL 69.163125 13.531098 \nL 88.693125 13.581357 \nL 108.223125 13.843376 \nL 127.753125 78.29771 \nL 147.283125 102.364876 \nL 166.813125 107.797545 \nL 186.343125 111.093238 \nL 205.873125 115.765891 \nL 225.403125 118.016964 \n\" clip-path=\"url(#paa2b91f86b)\" style=\"fill: none; stroke-dasharray: 5.55,2.4; stroke-dashoffset: 0; stroke: #ff7f0e; stroke-width: 1.5\"/>\n   </g>\n   <g id=\"line2d_127\">\n    <path d=\"M 49.633125 139.5 \nL 69.163125 137.734164 \nL 88.693125 133.710094 \nL 108.223125 118.983471 \nL 127.753125 112.621932 \nL 147.283125 104.675668 \nL 166.813125 102.326879 \nL 186.343125 101.398683 \nL 205.873125 98.880102 \nL 225.403125 97.991524 \n\" clip-path=\"url(#paa2b91f86b)\" style=\"fill: none; stroke-dasharray: 9.6,2.4,1.5,2.4; stroke-dashoffset: 0; stroke: #2ca02c; stroke-width: 1.5\"/>\n   </g>\n   <g id=\"patch_3\">\n    <path d=\"M 30.103125 145.8 \nL 30.103125 7.2 \n\" style=\"fill: none; stroke: #000000; stroke-width: 0.8; stroke-linejoin: miter; stroke-linecap: square\"/>\n   </g>\n   <g id=\"patch_4\">\n    <path d=\"M 225.403125 145.8 \nL 225.403125 7.2 \n\" style=\"fill: none; stroke: #000000; stroke-width: 0.8; stroke-linejoin: miter; stroke-linecap: square\"/>\n   </g>\n   <g id=\"patch_5\">\n    <path d=\"M 30.103125 145.8 \nL 225.403125 145.8 \n\" style=\"fill: none; stroke: #000000; stroke-width: 0.8; stroke-linejoin: miter; stroke-linecap: square\"/>\n   </g>\n   <g id=\"patch_6\">\n    <path d=\"M 30.103125 7.2 \nL 225.403125 7.2 \n\" style=\"fill: none; stroke: #000000; stroke-width: 0.8; stroke-linejoin: miter; stroke-linecap: square\"/>\n   </g>\n   <g id=\"legend_1\">\n    <g id=\"patch_7\">\n     <path d=\"M 138.8125 60.06875 \nL 218.403125 60.06875 \nQ 220.403125 60.06875 220.403125 58.06875 \nL 220.403125 14.2 \nQ 220.403125 12.2 218.403125 12.2 \nL 138.8125 12.2 \nQ 136.8125 12.2 136.8125 14.2 \nL 136.8125 58.06875 \nQ 136.8125 60.06875 138.8125 60.06875 \nz\n\" style=\"fill: #ffffff; opacity: 0.8; stroke: #cccccc; stroke-linejoin: miter\"/>\n    </g>\n    <g id=\"line2d_128\">\n     <path d=\"M 140.8125 20.298438 \nL 150.8125 20.298438 \nL 160.8125 20.298438 \n\" style=\"fill: none; stroke: #1f77b4; stroke-width: 1.5; stroke-linecap: square\"/>\n    </g>\n    <g id=\"text_13\">\n     <!-- train_loss -->\n     <g transform=\"translate(168.8125 23.798438) scale(0.1 -0.1)\">\n      <defs>\n       <path id=\"DejaVuSans-74\" d=\"M 1172 4494 \nL 1172 3500 \nL 2356 3500 \nL 2356 3053 \nL 1172 3053 \nL 1172 1153 \nQ 1172 725 1289 603 \nQ 1406 481 1766 481 \nL 2356 481 \nL 2356 0 \nL 1766 0 \nQ 1100 0 847 248 \nQ 594 497 594 1153 \nL 594 3053 \nL 172 3053 \nL 172 3500 \nL 594 3500 \nL 594 4494 \nL 1172 4494 \nz\n\" transform=\"scale(0.015625)\"/>\n       <path id=\"DejaVuSans-72\" d=\"M 2631 2963 \nQ 2534 3019 2420 3045 \nQ 2306 3072 2169 3072 \nQ 1681 3072 1420 2755 \nQ 1159 2438 1159 1844 \nL 1159 0 \nL 581 0 \nL 581 3500 \nL 1159 3500 \nL 1159 2956 \nQ 1341 3275 1631 3429 \nQ 1922 3584 2338 3584 \nQ 2397 3584 2469 3576 \nQ 2541 3569 2628 3553 \nL 2631 2963 \nz\n\" transform=\"scale(0.015625)\"/>\n       <path id=\"DejaVuSans-61\" d=\"M 2194 1759 \nQ 1497 1759 1228 1600 \nQ 959 1441 959 1056 \nQ 959 750 1161 570 \nQ 1363 391 1709 391 \nQ 2188 391 2477 730 \nQ 2766 1069 2766 1631 \nL 2766 1759 \nL 2194 1759 \nz\nM 3341 1997 \nL 3341 0 \nL 2766 0 \nL 2766 531 \nQ 2569 213 2275 61 \nQ 1981 -91 1556 -91 \nQ 1019 -91 701 211 \nQ 384 513 384 1019 \nQ 384 1609 779 1909 \nQ 1175 2209 1959 2209 \nL 2766 2209 \nL 2766 2266 \nQ 2766 2663 2505 2880 \nQ 2244 3097 1772 3097 \nQ 1472 3097 1187 3025 \nQ 903 2953 641 2809 \nL 641 3341 \nQ 956 3463 1253 3523 \nQ 1550 3584 1831 3584 \nQ 2591 3584 2966 3190 \nQ 3341 2797 3341 1997 \nz\n\" transform=\"scale(0.015625)\"/>\n       <path id=\"DejaVuSans-69\" d=\"M 603 3500 \nL 1178 3500 \nL 1178 0 \nL 603 0 \nL 603 3500 \nz\nM 603 4863 \nL 1178 4863 \nL 1178 4134 \nL 603 4134 \nL 603 4863 \nz\n\" transform=\"scale(0.015625)\"/>\n       <path id=\"DejaVuSans-6e\" d=\"M 3513 2113 \nL 3513 0 \nL 2938 0 \nL 2938 2094 \nQ 2938 2591 2744 2837 \nQ 2550 3084 2163 3084 \nQ 1697 3084 1428 2787 \nQ 1159 2491 1159 1978 \nL 1159 0 \nL 581 0 \nL 581 3500 \nL 1159 3500 \nL 1159 2956 \nQ 1366 3272 1645 3428 \nQ 1925 3584 2291 3584 \nQ 2894 3584 3203 3211 \nQ 3513 2838 3513 2113 \nz\n\" transform=\"scale(0.015625)\"/>\n       <path id=\"DejaVuSans-5f\" d=\"M 3263 -1063 \nL 3263 -1509 \nL -63 -1509 \nL -63 -1063 \nL 3263 -1063 \nz\n\" transform=\"scale(0.015625)\"/>\n       <path id=\"DejaVuSans-6c\" d=\"M 603 4863 \nL 1178 4863 \nL 1178 0 \nL 603 0 \nL 603 4863 \nz\n\" transform=\"scale(0.015625)\"/>\n       <path id=\"DejaVuSans-73\" d=\"M 2834 3397 \nL 2834 2853 \nQ 2591 2978 2328 3040 \nQ 2066 3103 1784 3103 \nQ 1356 3103 1142 2972 \nQ 928 2841 928 2578 \nQ 928 2378 1081 2264 \nQ 1234 2150 1697 2047 \nL 1894 2003 \nQ 2506 1872 2764 1633 \nQ 3022 1394 3022 966 \nQ 3022 478 2636 193 \nQ 2250 -91 1575 -91 \nQ 1294 -91 989 -36 \nQ 684 19 347 128 \nL 347 722 \nQ 666 556 975 473 \nQ 1284 391 1588 391 \nQ 1994 391 2212 530 \nQ 2431 669 2431 922 \nQ 2431 1156 2273 1281 \nQ 2116 1406 1581 1522 \nL 1381 1569 \nQ 847 1681 609 1914 \nQ 372 2147 372 2553 \nQ 372 3047 722 3315 \nQ 1072 3584 1716 3584 \nQ 2034 3584 2315 3537 \nQ 2597 3491 2834 3397 \nz\n\" transform=\"scale(0.015625)\"/>\n      </defs>\n      <use xlink:href=\"#DejaVuSans-74\"/>\n      <use xlink:href=\"#DejaVuSans-72\" x=\"39.208984\"/>\n      <use xlink:href=\"#DejaVuSans-61\" x=\"80.322266\"/>\n      <use xlink:href=\"#DejaVuSans-69\" x=\"141.601562\"/>\n      <use xlink:href=\"#DejaVuSans-6e\" x=\"169.384766\"/>\n      <use xlink:href=\"#DejaVuSans-5f\" x=\"232.763672\"/>\n      <use xlink:href=\"#DejaVuSans-6c\" x=\"282.763672\"/>\n      <use xlink:href=\"#DejaVuSans-6f\" x=\"310.546875\"/>\n      <use xlink:href=\"#DejaVuSans-73\" x=\"371.728516\"/>\n      <use xlink:href=\"#DejaVuSans-73\" x=\"423.828125\"/>\n     </g>\n    </g>\n    <g id=\"line2d_129\">\n     <path d=\"M 140.8125 35.254688 \nL 150.8125 35.254688 \nL 160.8125 35.254688 \n\" style=\"fill: none; stroke-dasharray: 5.55,2.4; stroke-dashoffset: 0; stroke: #ff7f0e; stroke-width: 1.5\"/>\n    </g>\n    <g id=\"text_14\">\n     <!-- val_loss -->\n     <g transform=\"translate(168.8125 38.754688) scale(0.1 -0.1)\">\n      <defs>\n       <path id=\"DejaVuSans-76\" d=\"M 191 3500 \nL 800 3500 \nL 1894 563 \nL 2988 3500 \nL 3597 3500 \nL 2284 0 \nL 1503 0 \nL 191 3500 \nz\n\" transform=\"scale(0.015625)\"/>\n      </defs>\n      <use xlink:href=\"#DejaVuSans-76\"/>\n      <use xlink:href=\"#DejaVuSans-61\" x=\"59.179688\"/>\n      <use xlink:href=\"#DejaVuSans-6c\" x=\"120.458984\"/>\n      <use xlink:href=\"#DejaVuSans-5f\" x=\"148.242188\"/>\n      <use xlink:href=\"#DejaVuSans-6c\" x=\"198.242188\"/>\n      <use xlink:href=\"#DejaVuSans-6f\" x=\"226.025391\"/>\n      <use xlink:href=\"#DejaVuSans-73\" x=\"287.207031\"/>\n      <use xlink:href=\"#DejaVuSans-73\" x=\"339.306641\"/>\n     </g>\n    </g>\n    <g id=\"line2d_130\">\n     <path d=\"M 140.8125 50.210938 \nL 150.8125 50.210938 \nL 160.8125 50.210938 \n\" style=\"fill: none; stroke-dasharray: 9.6,2.4,1.5,2.4; stroke-dashoffset: 0; stroke: #2ca02c; stroke-width: 1.5\"/>\n    </g>\n    <g id=\"text_15\">\n     <!-- val_acc -->\n     <g transform=\"translate(168.8125 53.710938) scale(0.1 -0.1)\">\n      <use xlink:href=\"#DejaVuSans-76\"/>\n      <use xlink:href=\"#DejaVuSans-61\" x=\"59.179688\"/>\n      <use xlink:href=\"#DejaVuSans-6c\" x=\"120.458984\"/>\n      <use xlink:href=\"#DejaVuSans-5f\" x=\"148.242188\"/>\n      <use xlink:href=\"#DejaVuSans-61\" x=\"198.242188\"/>\n      <use xlink:href=\"#DejaVuSans-63\" x=\"259.521484\"/>\n      <use xlink:href=\"#DejaVuSans-63\" x=\"314.501953\"/>\n     </g>\n    </g>\n   </g>\n  </g>\n </g>\n <defs>\n  <clipPath id=\"paa2b91f86b\">\n   <rect x=\"30.103125\" y=\"7.2\" width=\"195.3\" height=\"138.6\"/>\n  </clipPath>\n </defs>\n</svg>\n"
          },
          "metadata": {}
        }
      ]
    },
    {
      "cell_type": "markdown",
      "source": [
        "# 8.3 Network in Network (NiN)"
      ],
      "metadata": {
        "id": "UrQV0YuMiy06"
      }
    },
    {
      "cell_type": "markdown",
      "source": [
        "## NiN Blocks"
      ],
      "metadata": {
        "id": "sdOHcgiIi44X"
      }
    },
    {
      "cell_type": "code",
      "source": [
        "def nin_block(out_channels, kernel_size, strides, padding):\n",
        "    return nn.Sequential(\n",
        "        nn.LazyConv2d(out_channels, kernel_size, strides, padding), nn.ReLU(),\n",
        "        nn.LazyConv2d(out_channels, kernel_size=1), nn.ReLU(),\n",
        "        nn.LazyConv2d(out_channels, kernel_size=1), nn.ReLU())"
      ],
      "metadata": {
        "id": "8NCt7Txdi7dt"
      },
      "execution_count": 25,
      "outputs": []
    },
    {
      "cell_type": "markdown",
      "source": [
        "## NiN Model"
      ],
      "metadata": {
        "id": "L84tkWAMi9oV"
      }
    },
    {
      "cell_type": "code",
      "source": [
        "class NiN(d2l.Classifier):\n",
        "    def __init__(self, lr=0.1, num_classes=10):\n",
        "        super().__init__()\n",
        "        self.save_hyperparameters()\n",
        "        self.net = nn.Sequential(\n",
        "            nin_block(96, kernel_size=11, strides=4, padding=0),\n",
        "            nn.MaxPool2d(3, stride=2),\n",
        "            nin_block(256, kernel_size=5, strides=1, padding=2),\n",
        "            nn.MaxPool2d(3, stride=2),\n",
        "            nin_block(384, kernel_size=3, strides=1, padding=1),\n",
        "            nn.MaxPool2d(3, stride=2),\n",
        "            nn.Dropout(0.5),\n",
        "            nin_block(num_classes, kernel_size=3, strides=1, padding=1),\n",
        "            nn.AdaptiveAvgPool2d((1, 1)),\n",
        "            nn.Flatten())\n",
        "        self.net.apply(d2l.init_cnn)"
      ],
      "metadata": {
        "id": "00xIssyXi-zk"
      },
      "execution_count": 26,
      "outputs": []
    },
    {
      "cell_type": "code",
      "source": [
        "NiN().layer_summary((1, 1, 224, 224))"
      ],
      "metadata": {
        "id": "QlIGo2fsjAHE",
        "colab": {
          "base_uri": "https://localhost:8080/"
        },
        "outputId": "8c0d0c84-40d7-4044-fc4b-3911d9449bf9"
      },
      "execution_count": 27,
      "outputs": [
        {
          "output_type": "stream",
          "name": "stdout",
          "text": [
            "Sequential output shape:\t torch.Size([1, 96, 54, 54])\n",
            "MaxPool2d output shape:\t torch.Size([1, 96, 26, 26])\n",
            "Sequential output shape:\t torch.Size([1, 256, 26, 26])\n",
            "MaxPool2d output shape:\t torch.Size([1, 256, 12, 12])\n",
            "Sequential output shape:\t torch.Size([1, 384, 12, 12])\n",
            "MaxPool2d output shape:\t torch.Size([1, 384, 5, 5])\n",
            "Dropout output shape:\t torch.Size([1, 384, 5, 5])\n",
            "Sequential output shape:\t torch.Size([1, 10, 5, 5])\n",
            "AdaptiveAvgPool2d output shape:\t torch.Size([1, 10, 1, 1])\n",
            "Flatten output shape:\t torch.Size([1, 10])\n"
          ]
        }
      ]
    },
    {
      "cell_type": "markdown",
      "source": [
        "## Training"
      ],
      "metadata": {
        "id": "mq71cXSmjFUP"
      }
    },
    {
      "cell_type": "code",
      "source": [
        "model = NiN(lr=0.05)\n",
        "trainer = d2l.Trainer(max_epochs=10, num_gpus=1)\n",
        "data = d2l.FashionMNIST(batch_size=128, resize=(224, 224))\n",
        "model.apply_init([next(iter(data.get_dataloader(True)))[0]], d2l.init_cnn)\n",
        "trainer.fit(model, data)"
      ],
      "metadata": {
        "id": "KbSQgffujGpV",
        "colab": {
          "base_uri": "https://localhost:8080/",
          "height": 266
        },
        "outputId": "1643ca46-4243-4190-f59d-90ba5a4978fe"
      },
      "execution_count": 28,
      "outputs": [
        {
          "output_type": "display_data",
          "data": {
            "text/plain": [
              "<Figure size 350x250 with 1 Axes>"
            ],
            "image/svg+xml": "<?xml version=\"1.0\" encoding=\"utf-8\" standalone=\"no\"?>\n<!DOCTYPE svg PUBLIC \"-//W3C//DTD SVG 1.1//EN\"\n  \"http://www.w3.org/Graphics/SVG/1.1/DTD/svg11.dtd\">\n<svg xmlns:xlink=\"http://www.w3.org/1999/xlink\" width=\"238.965625pt\" height=\"183.35625pt\" viewBox=\"0 0 238.965625 183.35625\" xmlns=\"http://www.w3.org/2000/svg\" version=\"1.1\">\n <metadata>\n  <rdf:RDF xmlns:dc=\"http://purl.org/dc/elements/1.1/\" xmlns:cc=\"http://creativecommons.org/ns#\" xmlns:rdf=\"http://www.w3.org/1999/02/22-rdf-syntax-ns#\">\n   <cc:Work>\n    <dc:type rdf:resource=\"http://purl.org/dc/dcmitype/StillImage\"/>\n    <dc:date>2024-10-05T15:56:07.228012</dc:date>\n    <dc:format>image/svg+xml</dc:format>\n    <dc:creator>\n     <cc:Agent>\n      <dc:title>Matplotlib v3.7.2, https://matplotlib.org/</dc:title>\n     </cc:Agent>\n    </dc:creator>\n   </cc:Work>\n  </rdf:RDF>\n </metadata>\n <defs>\n  <style type=\"text/css\">*{stroke-linejoin: round; stroke-linecap: butt}</style>\n </defs>\n <g id=\"figure_1\">\n  <g id=\"patch_1\">\n   <path d=\"M 0 183.35625 \nL 238.965625 183.35625 \nL 238.965625 0 \nL 0 0 \nz\n\" style=\"fill: #ffffff\"/>\n  </g>\n  <g id=\"axes_1\">\n   <g id=\"patch_2\">\n    <path d=\"M 30.103125 145.8 \nL 225.403125 145.8 \nL 225.403125 7.2 \nL 30.103125 7.2 \nz\n\" style=\"fill: #ffffff\"/>\n   </g>\n   <g id=\"matplotlib.axis_1\">\n    <g id=\"xtick_1\">\n     <g id=\"line2d_1\">\n      <defs>\n       <path id=\"mdbbd8c22a0\" d=\"M 0 0 \nL 0 3.5 \n\" style=\"stroke: #000000; stroke-width: 0.8\"/>\n      </defs>\n      <g>\n       <use xlink:href=\"#mdbbd8c22a0\" x=\"30.103125\" y=\"145.8\" style=\"stroke: #000000; stroke-width: 0.8\"/>\n      </g>\n     </g>\n     <g id=\"text_1\">\n      <!-- 0 -->\n      <g transform=\"translate(26.921875 160.398438) scale(0.1 -0.1)\">\n       <defs>\n        <path id=\"DejaVuSans-30\" d=\"M 2034 4250 \nQ 1547 4250 1301 3770 \nQ 1056 3291 1056 2328 \nQ 1056 1369 1301 889 \nQ 1547 409 2034 409 \nQ 2525 409 2770 889 \nQ 3016 1369 3016 2328 \nQ 3016 3291 2770 3770 \nQ 2525 4250 2034 4250 \nz\nM 2034 4750 \nQ 2819 4750 3233 4129 \nQ 3647 3509 3647 2328 \nQ 3647 1150 3233 529 \nQ 2819 -91 2034 -91 \nQ 1250 -91 836 529 \nQ 422 1150 422 2328 \nQ 422 3509 836 4129 \nQ 1250 4750 2034 4750 \nz\n\" transform=\"scale(0.015625)\"/>\n       </defs>\n       <use xlink:href=\"#DejaVuSans-30\"/>\n      </g>\n     </g>\n    </g>\n    <g id=\"xtick_2\">\n     <g id=\"line2d_2\">\n      <g>\n       <use xlink:href=\"#mdbbd8c22a0\" x=\"69.163125\" y=\"145.8\" style=\"stroke: #000000; stroke-width: 0.8\"/>\n      </g>\n     </g>\n     <g id=\"text_2\">\n      <!-- 2 -->\n      <g transform=\"translate(65.981875 160.398438) scale(0.1 -0.1)\">\n       <defs>\n        <path id=\"DejaVuSans-32\" d=\"M 1228 531 \nL 3431 531 \nL 3431 0 \nL 469 0 \nL 469 531 \nQ 828 903 1448 1529 \nQ 2069 2156 2228 2338 \nQ 2531 2678 2651 2914 \nQ 2772 3150 2772 3378 \nQ 2772 3750 2511 3984 \nQ 2250 4219 1831 4219 \nQ 1534 4219 1204 4116 \nQ 875 4013 500 3803 \nL 500 4441 \nQ 881 4594 1212 4672 \nQ 1544 4750 1819 4750 \nQ 2544 4750 2975 4387 \nQ 3406 4025 3406 3419 \nQ 3406 3131 3298 2873 \nQ 3191 2616 2906 2266 \nQ 2828 2175 2409 1742 \nQ 1991 1309 1228 531 \nz\n\" transform=\"scale(0.015625)\"/>\n       </defs>\n       <use xlink:href=\"#DejaVuSans-32\"/>\n      </g>\n     </g>\n    </g>\n    <g id=\"xtick_3\">\n     <g id=\"line2d_3\">\n      <g>\n       <use xlink:href=\"#mdbbd8c22a0\" x=\"108.223125\" y=\"145.8\" style=\"stroke: #000000; stroke-width: 0.8\"/>\n      </g>\n     </g>\n     <g id=\"text_3\">\n      <!-- 4 -->\n      <g transform=\"translate(105.041875 160.398438) scale(0.1 -0.1)\">\n       <defs>\n        <path id=\"DejaVuSans-34\" d=\"M 2419 4116 \nL 825 1625 \nL 2419 1625 \nL 2419 4116 \nz\nM 2253 4666 \nL 3047 4666 \nL 3047 1625 \nL 3713 1625 \nL 3713 1100 \nL 3047 1100 \nL 3047 0 \nL 2419 0 \nL 2419 1100 \nL 313 1100 \nL 313 1709 \nL 2253 4666 \nz\n\" transform=\"scale(0.015625)\"/>\n       </defs>\n       <use xlink:href=\"#DejaVuSans-34\"/>\n      </g>\n     </g>\n    </g>\n    <g id=\"xtick_4\">\n     <g id=\"line2d_4\">\n      <g>\n       <use xlink:href=\"#mdbbd8c22a0\" x=\"147.283125\" y=\"145.8\" style=\"stroke: #000000; stroke-width: 0.8\"/>\n      </g>\n     </g>\n     <g id=\"text_4\">\n      <!-- 6 -->\n      <g transform=\"translate(144.101875 160.398438) scale(0.1 -0.1)\">\n       <defs>\n        <path id=\"DejaVuSans-36\" d=\"M 2113 2584 \nQ 1688 2584 1439 2293 \nQ 1191 2003 1191 1497 \nQ 1191 994 1439 701 \nQ 1688 409 2113 409 \nQ 2538 409 2786 701 \nQ 3034 994 3034 1497 \nQ 3034 2003 2786 2293 \nQ 2538 2584 2113 2584 \nz\nM 3366 4563 \nL 3366 3988 \nQ 3128 4100 2886 4159 \nQ 2644 4219 2406 4219 \nQ 1781 4219 1451 3797 \nQ 1122 3375 1075 2522 \nQ 1259 2794 1537 2939 \nQ 1816 3084 2150 3084 \nQ 2853 3084 3261 2657 \nQ 3669 2231 3669 1497 \nQ 3669 778 3244 343 \nQ 2819 -91 2113 -91 \nQ 1303 -91 875 529 \nQ 447 1150 447 2328 \nQ 447 3434 972 4092 \nQ 1497 4750 2381 4750 \nQ 2619 4750 2861 4703 \nQ 3103 4656 3366 4563 \nz\n\" transform=\"scale(0.015625)\"/>\n       </defs>\n       <use xlink:href=\"#DejaVuSans-36\"/>\n      </g>\n     </g>\n    </g>\n    <g id=\"xtick_5\">\n     <g id=\"line2d_5\">\n      <g>\n       <use xlink:href=\"#mdbbd8c22a0\" x=\"186.343125\" y=\"145.8\" style=\"stroke: #000000; stroke-width: 0.8\"/>\n      </g>\n     </g>\n     <g id=\"text_5\">\n      <!-- 8 -->\n      <g transform=\"translate(183.161875 160.398438) scale(0.1 -0.1)\">\n       <defs>\n        <path id=\"DejaVuSans-38\" d=\"M 2034 2216 \nQ 1584 2216 1326 1975 \nQ 1069 1734 1069 1313 \nQ 1069 891 1326 650 \nQ 1584 409 2034 409 \nQ 2484 409 2743 651 \nQ 3003 894 3003 1313 \nQ 3003 1734 2745 1975 \nQ 2488 2216 2034 2216 \nz\nM 1403 2484 \nQ 997 2584 770 2862 \nQ 544 3141 544 3541 \nQ 544 4100 942 4425 \nQ 1341 4750 2034 4750 \nQ 2731 4750 3128 4425 \nQ 3525 4100 3525 3541 \nQ 3525 3141 3298 2862 \nQ 3072 2584 2669 2484 \nQ 3125 2378 3379 2068 \nQ 3634 1759 3634 1313 \nQ 3634 634 3220 271 \nQ 2806 -91 2034 -91 \nQ 1263 -91 848 271 \nQ 434 634 434 1313 \nQ 434 1759 690 2068 \nQ 947 2378 1403 2484 \nz\nM 1172 3481 \nQ 1172 3119 1398 2916 \nQ 1625 2713 2034 2713 \nQ 2441 2713 2670 2916 \nQ 2900 3119 2900 3481 \nQ 2900 3844 2670 4047 \nQ 2441 4250 2034 4250 \nQ 1625 4250 1398 4047 \nQ 1172 3844 1172 3481 \nz\n\" transform=\"scale(0.015625)\"/>\n       </defs>\n       <use xlink:href=\"#DejaVuSans-38\"/>\n      </g>\n     </g>\n    </g>\n    <g id=\"xtick_6\">\n     <g id=\"line2d_6\">\n      <g>\n       <use xlink:href=\"#mdbbd8c22a0\" x=\"225.403125\" y=\"145.8\" style=\"stroke: #000000; stroke-width: 0.8\"/>\n      </g>\n     </g>\n     <g id=\"text_6\">\n      <!-- 10 -->\n      <g transform=\"translate(219.040625 160.398438) scale(0.1 -0.1)\">\n       <defs>\n        <path id=\"DejaVuSans-31\" d=\"M 794 531 \nL 1825 531 \nL 1825 4091 \nL 703 3866 \nL 703 4441 \nL 1819 4666 \nL 2450 4666 \nL 2450 531 \nL 3481 531 \nL 3481 0 \nL 794 0 \nL 794 531 \nz\n\" transform=\"scale(0.015625)\"/>\n       </defs>\n       <use xlink:href=\"#DejaVuSans-31\"/>\n       <use xlink:href=\"#DejaVuSans-30\" x=\"63.623047\"/>\n      </g>\n     </g>\n    </g>\n    <g id=\"text_7\">\n     <!-- epoch -->\n     <g transform=\"translate(112.525 174.076563) scale(0.1 -0.1)\">\n      <defs>\n       <path id=\"DejaVuSans-65\" d=\"M 3597 1894 \nL 3597 1613 \nL 953 1613 \nQ 991 1019 1311 708 \nQ 1631 397 2203 397 \nQ 2534 397 2845 478 \nQ 3156 559 3463 722 \nL 3463 178 \nQ 3153 47 2828 -22 \nQ 2503 -91 2169 -91 \nQ 1331 -91 842 396 \nQ 353 884 353 1716 \nQ 353 2575 817 3079 \nQ 1281 3584 2069 3584 \nQ 2775 3584 3186 3129 \nQ 3597 2675 3597 1894 \nz\nM 3022 2063 \nQ 3016 2534 2758 2815 \nQ 2500 3097 2075 3097 \nQ 1594 3097 1305 2825 \nQ 1016 2553 972 2059 \nL 3022 2063 \nz\n\" transform=\"scale(0.015625)\"/>\n       <path id=\"DejaVuSans-70\" d=\"M 1159 525 \nL 1159 -1331 \nL 581 -1331 \nL 581 3500 \nL 1159 3500 \nL 1159 2969 \nQ 1341 3281 1617 3432 \nQ 1894 3584 2278 3584 \nQ 2916 3584 3314 3078 \nQ 3713 2572 3713 1747 \nQ 3713 922 3314 415 \nQ 2916 -91 2278 -91 \nQ 1894 -91 1617 61 \nQ 1341 213 1159 525 \nz\nM 3116 1747 \nQ 3116 2381 2855 2742 \nQ 2594 3103 2138 3103 \nQ 1681 3103 1420 2742 \nQ 1159 2381 1159 1747 \nQ 1159 1113 1420 752 \nQ 1681 391 2138 391 \nQ 2594 391 2855 752 \nQ 3116 1113 3116 1747 \nz\n\" transform=\"scale(0.015625)\"/>\n       <path id=\"DejaVuSans-6f\" d=\"M 1959 3097 \nQ 1497 3097 1228 2736 \nQ 959 2375 959 1747 \nQ 959 1119 1226 758 \nQ 1494 397 1959 397 \nQ 2419 397 2687 759 \nQ 2956 1122 2956 1747 \nQ 2956 2369 2687 2733 \nQ 2419 3097 1959 3097 \nz\nM 1959 3584 \nQ 2709 3584 3137 3096 \nQ 3566 2609 3566 1747 \nQ 3566 888 3137 398 \nQ 2709 -91 1959 -91 \nQ 1206 -91 779 398 \nQ 353 888 353 1747 \nQ 353 2609 779 3096 \nQ 1206 3584 1959 3584 \nz\n\" transform=\"scale(0.015625)\"/>\n       <path id=\"DejaVuSans-63\" d=\"M 3122 3366 \nL 3122 2828 \nQ 2878 2963 2633 3030 \nQ 2388 3097 2138 3097 \nQ 1578 3097 1268 2742 \nQ 959 2388 959 1747 \nQ 959 1106 1268 751 \nQ 1578 397 2138 397 \nQ 2388 397 2633 464 \nQ 2878 531 3122 666 \nL 3122 134 \nQ 2881 22 2623 -34 \nQ 2366 -91 2075 -91 \nQ 1284 -91 818 406 \nQ 353 903 353 1747 \nQ 353 2603 823 3093 \nQ 1294 3584 2113 3584 \nQ 2378 3584 2631 3529 \nQ 2884 3475 3122 3366 \nz\n\" transform=\"scale(0.015625)\"/>\n       <path id=\"DejaVuSans-68\" d=\"M 3513 2113 \nL 3513 0 \nL 2938 0 \nL 2938 2094 \nQ 2938 2591 2744 2837 \nQ 2550 3084 2163 3084 \nQ 1697 3084 1428 2787 \nQ 1159 2491 1159 1978 \nL 1159 0 \nL 581 0 \nL 581 4863 \nL 1159 4863 \nL 1159 2956 \nQ 1366 3272 1645 3428 \nQ 1925 3584 2291 3584 \nQ 2894 3584 3203 3211 \nQ 3513 2838 3513 2113 \nz\n\" transform=\"scale(0.015625)\"/>\n      </defs>\n      <use xlink:href=\"#DejaVuSans-65\"/>\n      <use xlink:href=\"#DejaVuSans-70\" x=\"61.523438\"/>\n      <use xlink:href=\"#DejaVuSans-6f\" x=\"125\"/>\n      <use xlink:href=\"#DejaVuSans-63\" x=\"186.181641\"/>\n      <use xlink:href=\"#DejaVuSans-68\" x=\"241.162109\"/>\n     </g>\n    </g>\n   </g>\n   <g id=\"matplotlib.axis_2\">\n    <g id=\"ytick_1\">\n     <g id=\"line2d_7\">\n      <defs>\n       <path id=\"m4336964b5b\" d=\"M 0 0 \nL -3.5 0 \n\" style=\"stroke: #000000; stroke-width: 0.8\"/>\n      </defs>\n      <g>\n       <use xlink:href=\"#m4336964b5b\" x=\"30.103125\" y=\"120.403674\" style=\"stroke: #000000; stroke-width: 0.8\"/>\n      </g>\n     </g>\n     <g id=\"text_8\">\n      <!-- 0.5 -->\n      <g transform=\"translate(7.2 124.202893) scale(0.1 -0.1)\">\n       <defs>\n        <path id=\"DejaVuSans-2e\" d=\"M 684 794 \nL 1344 794 \nL 1344 0 \nL 684 0 \nL 684 794 \nz\n\" transform=\"scale(0.015625)\"/>\n        <path id=\"DejaVuSans-35\" d=\"M 691 4666 \nL 3169 4666 \nL 3169 4134 \nL 1269 4134 \nL 1269 2991 \nQ 1406 3038 1543 3061 \nQ 1681 3084 1819 3084 \nQ 2600 3084 3056 2656 \nQ 3513 2228 3513 1497 \nQ 3513 744 3044 326 \nQ 2575 -91 1722 -91 \nQ 1428 -91 1123 -41 \nQ 819 9 494 109 \nL 494 744 \nQ 775 591 1075 516 \nQ 1375 441 1709 441 \nQ 2250 441 2565 725 \nQ 2881 1009 2881 1497 \nQ 2881 1984 2565 2268 \nQ 2250 2553 1709 2553 \nQ 1456 2553 1204 2497 \nQ 953 2441 691 2322 \nL 691 4666 \nz\n\" transform=\"scale(0.015625)\"/>\n       </defs>\n       <use xlink:href=\"#DejaVuSans-30\"/>\n       <use xlink:href=\"#DejaVuSans-2e\" x=\"63.623047\"/>\n       <use xlink:href=\"#DejaVuSans-35\" x=\"95.410156\"/>\n      </g>\n     </g>\n    </g>\n    <g id=\"ytick_2\">\n     <g id=\"line2d_8\">\n      <g>\n       <use xlink:href=\"#m4336964b5b\" x=\"30.103125\" y=\"90.777709\" style=\"stroke: #000000; stroke-width: 0.8\"/>\n      </g>\n     </g>\n     <g id=\"text_9\">\n      <!-- 1.0 -->\n      <g transform=\"translate(7.2 94.576927) scale(0.1 -0.1)\">\n       <use xlink:href=\"#DejaVuSans-31\"/>\n       <use xlink:href=\"#DejaVuSans-2e\" x=\"63.623047\"/>\n       <use xlink:href=\"#DejaVuSans-30\" x=\"95.410156\"/>\n      </g>\n     </g>\n    </g>\n    <g id=\"ytick_3\">\n     <g id=\"line2d_9\">\n      <g>\n       <use xlink:href=\"#m4336964b5b\" x=\"30.103125\" y=\"61.151743\" style=\"stroke: #000000; stroke-width: 0.8\"/>\n      </g>\n     </g>\n     <g id=\"text_10\">\n      <!-- 1.5 -->\n      <g transform=\"translate(7.2 64.950962) scale(0.1 -0.1)\">\n       <use xlink:href=\"#DejaVuSans-31\"/>\n       <use xlink:href=\"#DejaVuSans-2e\" x=\"63.623047\"/>\n       <use xlink:href=\"#DejaVuSans-35\" x=\"95.410156\"/>\n      </g>\n     </g>\n    </g>\n    <g id=\"ytick_4\">\n     <g id=\"line2d_10\">\n      <g>\n       <use xlink:href=\"#m4336964b5b\" x=\"30.103125\" y=\"31.525777\" style=\"stroke: #000000; stroke-width: 0.8\"/>\n      </g>\n     </g>\n     <g id=\"text_11\">\n      <!-- 2.0 -->\n      <g transform=\"translate(7.2 35.324996) scale(0.1 -0.1)\">\n       <use xlink:href=\"#DejaVuSans-32\"/>\n       <use xlink:href=\"#DejaVuSans-2e\" x=\"63.623047\"/>\n       <use xlink:href=\"#DejaVuSans-30\" x=\"95.410156\"/>\n      </g>\n     </g>\n    </g>\n   </g>\n   <g id=\"line2d_11\">\n    <path d=\"M 34.954394 13.5 \n\" clip-path=\"url(#p5c4cbb7d59)\" style=\"fill: none; stroke: #1f77b4; stroke-width: 1.5; stroke-linecap: square\"/>\n   </g>\n   <g id=\"line2d_12\">\n    <path d=\"M 34.954394 13.5 \nL 44.698573 13.727682 \n\" clip-path=\"url(#p5c4cbb7d59)\" style=\"fill: none; stroke: #1f77b4; stroke-width: 1.5; stroke-linecap: square\"/>\n   </g>\n   <g id=\"line2d_13\">\n    <path d=\"M 34.954394 13.5 \nL 44.698573 13.727682 \n\" clip-path=\"url(#p5c4cbb7d59)\" style=\"fill: none; stroke: #1f77b4; stroke-width: 1.5; stroke-linecap: square\"/>\n   </g>\n   <g id=\"line2d_14\">\n    <path d=\"M 49.633125 14.009048 \n\" clip-path=\"url(#p5c4cbb7d59)\" style=\"fill: none; stroke-dasharray: 5.55,2.4; stroke-dashoffset: 0; stroke: #ff7f0e; stroke-width: 1.5\"/>\n   </g>\n   <g id=\"line2d_15\"/>\n   <g id=\"line2d_16\">\n    <path d=\"M 34.954394 13.5 \nL 44.698573 13.727682 \n\" clip-path=\"url(#p5c4cbb7d59)\" style=\"fill: none; stroke: #1f77b4; stroke-width: 1.5; stroke-linecap: square\"/>\n   </g>\n   <g id=\"line2d_17\">\n    <path d=\"M 49.633125 14.009048 \n\" clip-path=\"url(#p5c4cbb7d59)\" style=\"fill: none; stroke-dasharray: 5.55,2.4; stroke-dashoffset: 0; stroke: #ff7f0e; stroke-width: 1.5\"/>\n   </g>\n   <g id=\"line2d_18\">\n    <path d=\"M 49.633125 139.5 \n\" clip-path=\"url(#p5c4cbb7d59)\" style=\"fill: none; stroke-dasharray: 9.6,2.4,1.5,2.4; stroke-dashoffset: 0; stroke: #2ca02c; stroke-width: 1.5\"/>\n   </g>\n   <g id=\"line2d_19\">\n    <path d=\"M 34.954394 13.5 \nL 44.698573 13.727682 \nL 54.442752 15.304334 \n\" clip-path=\"url(#p5c4cbb7d59)\" style=\"fill: none; stroke: #1f77b4; stroke-width: 1.5; stroke-linecap: square\"/>\n   </g>\n   <g id=\"line2d_20\">\n    <path d=\"M 49.633125 14.009048 \n\" clip-path=\"url(#p5c4cbb7d59)\" style=\"fill: none; stroke-dasharray: 5.55,2.4; stroke-dashoffset: 0; stroke: #ff7f0e; stroke-width: 1.5\"/>\n   </g>\n   <g id=\"line2d_21\">\n    <path d=\"M 49.633125 139.5 \n\" clip-path=\"url(#p5c4cbb7d59)\" style=\"fill: none; stroke-dasharray: 9.6,2.4,1.5,2.4; stroke-dashoffset: 0; stroke: #2ca02c; stroke-width: 1.5\"/>\n   </g>\n   <g id=\"line2d_22\">\n    <path d=\"M 34.954394 13.5 \nL 44.698573 13.727682 \nL 54.442752 15.304334 \nL 64.186931 39.017475 \n\" clip-path=\"url(#p5c4cbb7d59)\" style=\"fill: none; stroke: #1f77b4; stroke-width: 1.5; stroke-linecap: square\"/>\n   </g>\n   <g id=\"line2d_23\">\n    <path d=\"M 49.633125 14.009048 \n\" clip-path=\"url(#p5c4cbb7d59)\" style=\"fill: none; stroke-dasharray: 5.55,2.4; stroke-dashoffset: 0; stroke: #ff7f0e; stroke-width: 1.5\"/>\n   </g>\n   <g id=\"line2d_24\">\n    <path d=\"M 49.633125 139.5 \n\" clip-path=\"url(#p5c4cbb7d59)\" style=\"fill: none; stroke-dasharray: 9.6,2.4,1.5,2.4; stroke-dashoffset: 0; stroke: #2ca02c; stroke-width: 1.5\"/>\n   </g>\n   <g id=\"line2d_25\">\n    <path d=\"M 34.954394 13.5 \nL 44.698573 13.727682 \nL 54.442752 15.304334 \nL 64.186931 39.017475 \n\" clip-path=\"url(#p5c4cbb7d59)\" style=\"fill: none; stroke: #1f77b4; stroke-width: 1.5; stroke-linecap: square\"/>\n   </g>\n   <g id=\"line2d_26\">\n    <path d=\"M 49.633125 14.009048 \nL 69.163125 51.137381 \n\" clip-path=\"url(#p5c4cbb7d59)\" style=\"fill: none; stroke-dasharray: 5.55,2.4; stroke-dashoffset: 0; stroke: #ff7f0e; stroke-width: 1.5\"/>\n   </g>\n   <g id=\"line2d_27\">\n    <path d=\"M 49.633125 139.5 \n\" clip-path=\"url(#p5c4cbb7d59)\" style=\"fill: none; stroke-dasharray: 9.6,2.4,1.5,2.4; stroke-dashoffset: 0; stroke: #2ca02c; stroke-width: 1.5\"/>\n   </g>\n   <g id=\"line2d_28\">\n    <path d=\"M 34.954394 13.5 \nL 44.698573 13.727682 \nL 54.442752 15.304334 \nL 64.186931 39.017475 \n\" clip-path=\"url(#p5c4cbb7d59)\" style=\"fill: none; stroke: #1f77b4; stroke-width: 1.5; stroke-linecap: square\"/>\n   </g>\n   <g id=\"line2d_29\">\n    <path d=\"M 49.633125 14.009048 \nL 69.163125 51.137381 \n\" clip-path=\"url(#p5c4cbb7d59)\" style=\"fill: none; stroke-dasharray: 5.55,2.4; stroke-dashoffset: 0; stroke: #ff7f0e; stroke-width: 1.5\"/>\n   </g>\n   <g id=\"line2d_30\">\n    <path d=\"M 49.633125 139.5 \nL 69.163125 130.839561 \n\" clip-path=\"url(#p5c4cbb7d59)\" style=\"fill: none; stroke-dasharray: 9.6,2.4,1.5,2.4; stroke-dashoffset: 0; stroke: #2ca02c; stroke-width: 1.5\"/>\n   </g>\n   <g id=\"line2d_31\">\n    <path d=\"M 34.954394 13.5 \nL 44.698573 13.727682 \nL 54.442752 15.304334 \nL 64.186931 39.017475 \nL 73.93111 69.038851 \n\" clip-path=\"url(#p5c4cbb7d59)\" style=\"fill: none; stroke: #1f77b4; stroke-width: 1.5; stroke-linecap: square\"/>\n   </g>\n   <g id=\"line2d_32\">\n    <path d=\"M 49.633125 14.009048 \nL 69.163125 51.137381 \n\" clip-path=\"url(#p5c4cbb7d59)\" style=\"fill: none; stroke-dasharray: 5.55,2.4; stroke-dashoffset: 0; stroke: #ff7f0e; stroke-width: 1.5\"/>\n   </g>\n   <g id=\"line2d_33\">\n    <path d=\"M 49.633125 139.5 \nL 69.163125 130.839561 \n\" clip-path=\"url(#p5c4cbb7d59)\" style=\"fill: none; stroke-dasharray: 9.6,2.4,1.5,2.4; stroke-dashoffset: 0; stroke: #2ca02c; stroke-width: 1.5\"/>\n   </g>\n   <g id=\"line2d_34\">\n    <path d=\"M 34.954394 13.5 \nL 44.698573 13.727682 \nL 54.442752 15.304334 \nL 64.186931 39.017475 \nL 73.93111 69.038851 \nL 83.675289 92.705189 \n\" clip-path=\"url(#p5c4cbb7d59)\" style=\"fill: none; stroke: #1f77b4; stroke-width: 1.5; stroke-linecap: square\"/>\n   </g>\n   <g id=\"line2d_35\">\n    <path d=\"M 49.633125 14.009048 \nL 69.163125 51.137381 \n\" clip-path=\"url(#p5c4cbb7d59)\" style=\"fill: none; stroke-dasharray: 5.55,2.4; stroke-dashoffset: 0; stroke: #ff7f0e; stroke-width: 1.5\"/>\n   </g>\n   <g id=\"line2d_36\">\n    <path d=\"M 49.633125 139.5 \nL 69.163125 130.839561 \n\" clip-path=\"url(#p5c4cbb7d59)\" style=\"fill: none; stroke-dasharray: 9.6,2.4,1.5,2.4; stroke-dashoffset: 0; stroke: #2ca02c; stroke-width: 1.5\"/>\n   </g>\n   <g id=\"line2d_37\">\n    <path d=\"M 34.954394 13.5 \nL 44.698573 13.727682 \nL 54.442752 15.304334 \nL 64.186931 39.017475 \nL 73.93111 69.038851 \nL 83.675289 92.705189 \n\" clip-path=\"url(#p5c4cbb7d59)\" style=\"fill: none; stroke: #1f77b4; stroke-width: 1.5; stroke-linecap: square\"/>\n   </g>\n   <g id=\"line2d_38\">\n    <path d=\"M 49.633125 14.009048 \nL 69.163125 51.137381 \nL 88.693125 89.61151 \n\" clip-path=\"url(#p5c4cbb7d59)\" style=\"fill: none; stroke-dasharray: 5.55,2.4; stroke-dashoffset: 0; stroke: #ff7f0e; stroke-width: 1.5\"/>\n   </g>\n   <g id=\"line2d_39\">\n    <path d=\"M 49.633125 139.5 \nL 69.163125 130.839561 \n\" clip-path=\"url(#p5c4cbb7d59)\" style=\"fill: none; stroke-dasharray: 9.6,2.4,1.5,2.4; stroke-dashoffset: 0; stroke: #2ca02c; stroke-width: 1.5\"/>\n   </g>\n   <g id=\"line2d_40\">\n    <path d=\"M 34.954394 13.5 \nL 44.698573 13.727682 \nL 54.442752 15.304334 \nL 64.186931 39.017475 \nL 73.93111 69.038851 \nL 83.675289 92.705189 \n\" clip-path=\"url(#p5c4cbb7d59)\" style=\"fill: none; stroke: #1f77b4; stroke-width: 1.5; stroke-linecap: square\"/>\n   </g>\n   <g id=\"line2d_41\">\n    <path d=\"M 49.633125 14.009048 \nL 69.163125 51.137381 \nL 88.693125 89.61151 \n\" clip-path=\"url(#p5c4cbb7d59)\" style=\"fill: none; stroke-dasharray: 5.55,2.4; stroke-dashoffset: 0; stroke: #ff7f0e; stroke-width: 1.5\"/>\n   </g>\n   <g id=\"line2d_42\">\n    <path d=\"M 49.633125 139.5 \nL 69.163125 130.839561 \nL 88.693125 117.837184 \n\" clip-path=\"url(#p5c4cbb7d59)\" style=\"fill: none; stroke-dasharray: 9.6,2.4,1.5,2.4; stroke-dashoffset: 0; stroke: #2ca02c; stroke-width: 1.5\"/>\n   </g>\n   <g id=\"line2d_43\">\n    <path d=\"M 34.954394 13.5 \nL 44.698573 13.727682 \nL 54.442752 15.304334 \nL 64.186931 39.017475 \nL 73.93111 69.038851 \nL 83.675289 92.705189 \nL 93.419468 100.03028 \n\" clip-path=\"url(#p5c4cbb7d59)\" style=\"fill: none; stroke: #1f77b4; stroke-width: 1.5; stroke-linecap: square\"/>\n   </g>\n   <g id=\"line2d_44\">\n    <path d=\"M 49.633125 14.009048 \nL 69.163125 51.137381 \nL 88.693125 89.61151 \n\" clip-path=\"url(#p5c4cbb7d59)\" style=\"fill: none; stroke-dasharray: 5.55,2.4; stroke-dashoffset: 0; stroke: #ff7f0e; stroke-width: 1.5\"/>\n   </g>\n   <g id=\"line2d_45\">\n    <path d=\"M 49.633125 139.5 \nL 69.163125 130.839561 \nL 88.693125 117.837184 \n\" clip-path=\"url(#p5c4cbb7d59)\" style=\"fill: none; stroke-dasharray: 9.6,2.4,1.5,2.4; stroke-dashoffset: 0; stroke: #2ca02c; stroke-width: 1.5\"/>\n   </g>\n   <g id=\"line2d_46\">\n    <path d=\"M 34.954394 13.5 \nL 44.698573 13.727682 \nL 54.442752 15.304334 \nL 64.186931 39.017475 \nL 73.93111 69.038851 \nL 83.675289 92.705189 \nL 93.419468 100.03028 \nL 103.163647 99.099444 \n\" clip-path=\"url(#p5c4cbb7d59)\" style=\"fill: none; stroke: #1f77b4; stroke-width: 1.5; stroke-linecap: square\"/>\n   </g>\n   <g id=\"line2d_47\">\n    <path d=\"M 49.633125 14.009048 \nL 69.163125 51.137381 \nL 88.693125 89.61151 \n\" clip-path=\"url(#p5c4cbb7d59)\" style=\"fill: none; stroke-dasharray: 5.55,2.4; stroke-dashoffset: 0; stroke: #ff7f0e; stroke-width: 1.5\"/>\n   </g>\n   <g id=\"line2d_48\">\n    <path d=\"M 49.633125 139.5 \nL 69.163125 130.839561 \nL 88.693125 117.837184 \n\" clip-path=\"url(#p5c4cbb7d59)\" style=\"fill: none; stroke-dasharray: 9.6,2.4,1.5,2.4; stroke-dashoffset: 0; stroke: #2ca02c; stroke-width: 1.5\"/>\n   </g>\n   <g id=\"line2d_49\">\n    <path d=\"M 34.954394 13.5 \nL 44.698573 13.727682 \nL 54.442752 15.304334 \nL 64.186931 39.017475 \nL 73.93111 69.038851 \nL 83.675289 92.705189 \nL 93.419468 100.03028 \nL 103.163647 99.099444 \n\" clip-path=\"url(#p5c4cbb7d59)\" style=\"fill: none; stroke: #1f77b4; stroke-width: 1.5; stroke-linecap: square\"/>\n   </g>\n   <g id=\"line2d_50\">\n    <path d=\"M 49.633125 14.009048 \nL 69.163125 51.137381 \nL 88.693125 89.61151 \nL 108.223125 105.487844 \n\" clip-path=\"url(#p5c4cbb7d59)\" style=\"fill: none; stroke-dasharray: 5.55,2.4; stroke-dashoffset: 0; stroke: #ff7f0e; stroke-width: 1.5\"/>\n   </g>\n   <g id=\"line2d_51\">\n    <path d=\"M 49.633125 139.5 \nL 69.163125 130.839561 \nL 88.693125 117.837184 \n\" clip-path=\"url(#p5c4cbb7d59)\" style=\"fill: none; stroke-dasharray: 9.6,2.4,1.5,2.4; stroke-dashoffset: 0; stroke: #2ca02c; stroke-width: 1.5\"/>\n   </g>\n   <g id=\"line2d_52\">\n    <path d=\"M 34.954394 13.5 \nL 44.698573 13.727682 \nL 54.442752 15.304334 \nL 64.186931 39.017475 \nL 73.93111 69.038851 \nL 83.675289 92.705189 \nL 93.419468 100.03028 \nL 103.163647 99.099444 \n\" clip-path=\"url(#p5c4cbb7d59)\" style=\"fill: none; stroke: #1f77b4; stroke-width: 1.5; stroke-linecap: square\"/>\n   </g>\n   <g id=\"line2d_53\">\n    <path d=\"M 49.633125 14.009048 \nL 69.163125 51.137381 \nL 88.693125 89.61151 \nL 108.223125 105.487844 \n\" clip-path=\"url(#p5c4cbb7d59)\" style=\"fill: none; stroke-dasharray: 5.55,2.4; stroke-dashoffset: 0; stroke: #ff7f0e; stroke-width: 1.5\"/>\n   </g>\n   <g id=\"line2d_54\">\n    <path d=\"M 49.633125 139.5 \nL 69.163125 130.839561 \nL 88.693125 117.837184 \nL 108.223125 107.77631 \n\" clip-path=\"url(#p5c4cbb7d59)\" style=\"fill: none; stroke-dasharray: 9.6,2.4,1.5,2.4; stroke-dashoffset: 0; stroke: #2ca02c; stroke-width: 1.5\"/>\n   </g>\n   <g id=\"line2d_55\">\n    <path d=\"M 34.954394 13.5 \nL 44.698573 13.727682 \nL 54.442752 15.304334 \nL 64.186931 39.017475 \nL 73.93111 69.038851 \nL 83.675289 92.705189 \nL 93.419468 100.03028 \nL 103.163647 99.099444 \nL 112.907826 110.127485 \n\" clip-path=\"url(#p5c4cbb7d59)\" style=\"fill: none; stroke: #1f77b4; stroke-width: 1.5; stroke-linecap: square\"/>\n   </g>\n   <g id=\"line2d_56\">\n    <path d=\"M 49.633125 14.009048 \nL 69.163125 51.137381 \nL 88.693125 89.61151 \nL 108.223125 105.487844 \n\" clip-path=\"url(#p5c4cbb7d59)\" style=\"fill: none; stroke-dasharray: 5.55,2.4; stroke-dashoffset: 0; stroke: #ff7f0e; stroke-width: 1.5\"/>\n   </g>\n   <g id=\"line2d_57\">\n    <path d=\"M 49.633125 139.5 \nL 69.163125 130.839561 \nL 88.693125 117.837184 \nL 108.223125 107.77631 \n\" clip-path=\"url(#p5c4cbb7d59)\" style=\"fill: none; stroke-dasharray: 9.6,2.4,1.5,2.4; stroke-dashoffset: 0; stroke: #2ca02c; stroke-width: 1.5\"/>\n   </g>\n   <g id=\"line2d_58\">\n    <path d=\"M 34.954394 13.5 \nL 44.698573 13.727682 \nL 54.442752 15.304334 \nL 64.186931 39.017475 \nL 73.93111 69.038851 \nL 83.675289 92.705189 \nL 93.419468 100.03028 \nL 103.163647 99.099444 \nL 112.907826 110.127485 \nL 122.652006 113.28952 \n\" clip-path=\"url(#p5c4cbb7d59)\" style=\"fill: none; stroke: #1f77b4; stroke-width: 1.5; stroke-linecap: square\"/>\n   </g>\n   <g id=\"line2d_59\">\n    <path d=\"M 49.633125 14.009048 \nL 69.163125 51.137381 \nL 88.693125 89.61151 \nL 108.223125 105.487844 \n\" clip-path=\"url(#p5c4cbb7d59)\" style=\"fill: none; stroke-dasharray: 5.55,2.4; stroke-dashoffset: 0; stroke: #ff7f0e; stroke-width: 1.5\"/>\n   </g>\n   <g id=\"line2d_60\">\n    <path d=\"M 49.633125 139.5 \nL 69.163125 130.839561 \nL 88.693125 117.837184 \nL 108.223125 107.77631 \n\" clip-path=\"url(#p5c4cbb7d59)\" style=\"fill: none; stroke-dasharray: 9.6,2.4,1.5,2.4; stroke-dashoffset: 0; stroke: #2ca02c; stroke-width: 1.5\"/>\n   </g>\n   <g id=\"line2d_61\">\n    <path d=\"M 34.954394 13.5 \nL 44.698573 13.727682 \nL 54.442752 15.304334 \nL 64.186931 39.017475 \nL 73.93111 69.038851 \nL 83.675289 92.705189 \nL 93.419468 100.03028 \nL 103.163647 99.099444 \nL 112.907826 110.127485 \nL 122.652006 113.28952 \n\" clip-path=\"url(#p5c4cbb7d59)\" style=\"fill: none; stroke: #1f77b4; stroke-width: 1.5; stroke-linecap: square\"/>\n   </g>\n   <g id=\"line2d_62\">\n    <path d=\"M 49.633125 14.009048 \nL 69.163125 51.137381 \nL 88.693125 89.61151 \nL 108.223125 105.487844 \nL 127.753125 114.387071 \n\" clip-path=\"url(#p5c4cbb7d59)\" style=\"fill: none; stroke-dasharray: 5.55,2.4; stroke-dashoffset: 0; stroke: #ff7f0e; stroke-width: 1.5\"/>\n   </g>\n   <g id=\"line2d_63\">\n    <path d=\"M 49.633125 139.5 \nL 69.163125 130.839561 \nL 88.693125 117.837184 \nL 108.223125 107.77631 \n\" clip-path=\"url(#p5c4cbb7d59)\" style=\"fill: none; stroke-dasharray: 9.6,2.4,1.5,2.4; stroke-dashoffset: 0; stroke: #2ca02c; stroke-width: 1.5\"/>\n   </g>\n   <g id=\"line2d_64\">\n    <path d=\"M 34.954394 13.5 \nL 44.698573 13.727682 \nL 54.442752 15.304334 \nL 64.186931 39.017475 \nL 73.93111 69.038851 \nL 83.675289 92.705189 \nL 93.419468 100.03028 \nL 103.163647 99.099444 \nL 112.907826 110.127485 \nL 122.652006 113.28952 \n\" clip-path=\"url(#p5c4cbb7d59)\" style=\"fill: none; stroke: #1f77b4; stroke-width: 1.5; stroke-linecap: square\"/>\n   </g>\n   <g id=\"line2d_65\">\n    <path d=\"M 49.633125 14.009048 \nL 69.163125 51.137381 \nL 88.693125 89.61151 \nL 108.223125 105.487844 \nL 127.753125 114.387071 \n\" clip-path=\"url(#p5c4cbb7d59)\" style=\"fill: none; stroke-dasharray: 5.55,2.4; stroke-dashoffset: 0; stroke: #ff7f0e; stroke-width: 1.5\"/>\n   </g>\n   <g id=\"line2d_66\">\n    <path d=\"M 49.633125 139.5 \nL 69.163125 130.839561 \nL 88.693125 117.837184 \nL 108.223125 107.77631 \nL 127.753125 103.481248 \n\" clip-path=\"url(#p5c4cbb7d59)\" style=\"fill: none; stroke-dasharray: 9.6,2.4,1.5,2.4; stroke-dashoffset: 0; stroke: #2ca02c; stroke-width: 1.5\"/>\n   </g>\n   <g id=\"line2d_67\">\n    <path d=\"M 34.954394 13.5 \nL 44.698573 13.727682 \nL 54.442752 15.304334 \nL 64.186931 39.017475 \nL 73.93111 69.038851 \nL 83.675289 92.705189 \nL 93.419468 100.03028 \nL 103.163647 99.099444 \nL 112.907826 110.127485 \nL 122.652006 113.28952 \nL 132.396185 116.075989 \n\" clip-path=\"url(#p5c4cbb7d59)\" style=\"fill: none; stroke: #1f77b4; stroke-width: 1.5; stroke-linecap: square\"/>\n   </g>\n   <g id=\"line2d_68\">\n    <path d=\"M 49.633125 14.009048 \nL 69.163125 51.137381 \nL 88.693125 89.61151 \nL 108.223125 105.487844 \nL 127.753125 114.387071 \n\" clip-path=\"url(#p5c4cbb7d59)\" style=\"fill: none; stroke-dasharray: 5.55,2.4; stroke-dashoffset: 0; stroke: #ff7f0e; stroke-width: 1.5\"/>\n   </g>\n   <g id=\"line2d_69\">\n    <path d=\"M 49.633125 139.5 \nL 69.163125 130.839561 \nL 88.693125 117.837184 \nL 108.223125 107.77631 \nL 127.753125 103.481248 \n\" clip-path=\"url(#p5c4cbb7d59)\" style=\"fill: none; stroke-dasharray: 9.6,2.4,1.5,2.4; stroke-dashoffset: 0; stroke: #2ca02c; stroke-width: 1.5\"/>\n   </g>\n   <g id=\"line2d_70\">\n    <path d=\"M 34.954394 13.5 \nL 44.698573 13.727682 \nL 54.442752 15.304334 \nL 64.186931 39.017475 \nL 73.93111 69.038851 \nL 83.675289 92.705189 \nL 93.419468 100.03028 \nL 103.163647 99.099444 \nL 112.907826 110.127485 \nL 122.652006 113.28952 \nL 132.396185 116.075989 \nL 142.140364 118.038322 \n\" clip-path=\"url(#p5c4cbb7d59)\" style=\"fill: none; stroke: #1f77b4; stroke-width: 1.5; stroke-linecap: square\"/>\n   </g>\n   <g id=\"line2d_71\">\n    <path d=\"M 49.633125 14.009048 \nL 69.163125 51.137381 \nL 88.693125 89.61151 \nL 108.223125 105.487844 \nL 127.753125 114.387071 \n\" clip-path=\"url(#p5c4cbb7d59)\" style=\"fill: none; stroke-dasharray: 5.55,2.4; stroke-dashoffset: 0; stroke: #ff7f0e; stroke-width: 1.5\"/>\n   </g>\n   <g id=\"line2d_72\">\n    <path d=\"M 49.633125 139.5 \nL 69.163125 130.839561 \nL 88.693125 117.837184 \nL 108.223125 107.77631 \nL 127.753125 103.481248 \n\" clip-path=\"url(#p5c4cbb7d59)\" style=\"fill: none; stroke-dasharray: 9.6,2.4,1.5,2.4; stroke-dashoffset: 0; stroke: #2ca02c; stroke-width: 1.5\"/>\n   </g>\n   <g id=\"line2d_73\">\n    <path d=\"M 34.954394 13.5 \nL 44.698573 13.727682 \nL 54.442752 15.304334 \nL 64.186931 39.017475 \nL 73.93111 69.038851 \nL 83.675289 92.705189 \nL 93.419468 100.03028 \nL 103.163647 99.099444 \nL 112.907826 110.127485 \nL 122.652006 113.28952 \nL 132.396185 116.075989 \nL 142.140364 118.038322 \n\" clip-path=\"url(#p5c4cbb7d59)\" style=\"fill: none; stroke: #1f77b4; stroke-width: 1.5; stroke-linecap: square\"/>\n   </g>\n   <g id=\"line2d_74\">\n    <path d=\"M 49.633125 14.009048 \nL 69.163125 51.137381 \nL 88.693125 89.61151 \nL 108.223125 105.487844 \nL 127.753125 114.387071 \nL 147.283125 117.138953 \n\" clip-path=\"url(#p5c4cbb7d59)\" style=\"fill: none; stroke-dasharray: 5.55,2.4; stroke-dashoffset: 0; stroke: #ff7f0e; stroke-width: 1.5\"/>\n   </g>\n   <g id=\"line2d_75\">\n    <path d=\"M 49.633125 139.5 \nL 69.163125 130.839561 \nL 88.693125 117.837184 \nL 108.223125 107.77631 \nL 127.753125 103.481248 \n\" clip-path=\"url(#p5c4cbb7d59)\" style=\"fill: none; stroke-dasharray: 9.6,2.4,1.5,2.4; stroke-dashoffset: 0; stroke: #2ca02c; stroke-width: 1.5\"/>\n   </g>\n   <g id=\"line2d_76\">\n    <path d=\"M 34.954394 13.5 \nL 44.698573 13.727682 \nL 54.442752 15.304334 \nL 64.186931 39.017475 \nL 73.93111 69.038851 \nL 83.675289 92.705189 \nL 93.419468 100.03028 \nL 103.163647 99.099444 \nL 112.907826 110.127485 \nL 122.652006 113.28952 \nL 132.396185 116.075989 \nL 142.140364 118.038322 \n\" clip-path=\"url(#p5c4cbb7d59)\" style=\"fill: none; stroke: #1f77b4; stroke-width: 1.5; stroke-linecap: square\"/>\n   </g>\n   <g id=\"line2d_77\">\n    <path d=\"M 49.633125 14.009048 \nL 69.163125 51.137381 \nL 88.693125 89.61151 \nL 108.223125 105.487844 \nL 127.753125 114.387071 \nL 147.283125 117.138953 \n\" clip-path=\"url(#p5c4cbb7d59)\" style=\"fill: none; stroke-dasharray: 5.55,2.4; stroke-dashoffset: 0; stroke: #ff7f0e; stroke-width: 1.5\"/>\n   </g>\n   <g id=\"line2d_78\">\n    <path d=\"M 49.633125 139.5 \nL 69.163125 130.839561 \nL 88.693125 117.837184 \nL 108.223125 107.77631 \nL 127.753125 103.481248 \nL 147.283125 103.59258 \n\" clip-path=\"url(#p5c4cbb7d59)\" style=\"fill: none; stroke-dasharray: 9.6,2.4,1.5,2.4; stroke-dashoffset: 0; stroke: #2ca02c; stroke-width: 1.5\"/>\n   </g>\n   <g id=\"line2d_79\">\n    <path d=\"M 34.954394 13.5 \nL 44.698573 13.727682 \nL 54.442752 15.304334 \nL 64.186931 39.017475 \nL 73.93111 69.038851 \nL 83.675289 92.705189 \nL 93.419468 100.03028 \nL 103.163647 99.099444 \nL 112.907826 110.127485 \nL 122.652006 113.28952 \nL 132.396185 116.075989 \nL 142.140364 118.038322 \nL 151.884543 119.391347 \n\" clip-path=\"url(#p5c4cbb7d59)\" style=\"fill: none; stroke: #1f77b4; stroke-width: 1.5; stroke-linecap: square\"/>\n   </g>\n   <g id=\"line2d_80\">\n    <path d=\"M 49.633125 14.009048 \nL 69.163125 51.137381 \nL 88.693125 89.61151 \nL 108.223125 105.487844 \nL 127.753125 114.387071 \nL 147.283125 117.138953 \n\" clip-path=\"url(#p5c4cbb7d59)\" style=\"fill: none; stroke-dasharray: 5.55,2.4; stroke-dashoffset: 0; stroke: #ff7f0e; stroke-width: 1.5\"/>\n   </g>\n   <g id=\"line2d_81\">\n    <path d=\"M 49.633125 139.5 \nL 69.163125 130.839561 \nL 88.693125 117.837184 \nL 108.223125 107.77631 \nL 127.753125 103.481248 \nL 147.283125 103.59258 \n\" clip-path=\"url(#p5c4cbb7d59)\" style=\"fill: none; stroke-dasharray: 9.6,2.4,1.5,2.4; stroke-dashoffset: 0; stroke: #2ca02c; stroke-width: 1.5\"/>\n   </g>\n   <g id=\"line2d_82\">\n    <path d=\"M 34.954394 13.5 \nL 44.698573 13.727682 \nL 54.442752 15.304334 \nL 64.186931 39.017475 \nL 73.93111 69.038851 \nL 83.675289 92.705189 \nL 93.419468 100.03028 \nL 103.163647 99.099444 \nL 112.907826 110.127485 \nL 122.652006 113.28952 \nL 132.396185 116.075989 \nL 142.140364 118.038322 \nL 151.884543 119.391347 \nL 161.628722 121.18206 \n\" clip-path=\"url(#p5c4cbb7d59)\" style=\"fill: none; stroke: #1f77b4; stroke-width: 1.5; stroke-linecap: square\"/>\n   </g>\n   <g id=\"line2d_83\">\n    <path d=\"M 49.633125 14.009048 \nL 69.163125 51.137381 \nL 88.693125 89.61151 \nL 108.223125 105.487844 \nL 127.753125 114.387071 \nL 147.283125 117.138953 \n\" clip-path=\"url(#p5c4cbb7d59)\" style=\"fill: none; stroke-dasharray: 5.55,2.4; stroke-dashoffset: 0; stroke: #ff7f0e; stroke-width: 1.5\"/>\n   </g>\n   <g id=\"line2d_84\">\n    <path d=\"M 49.633125 139.5 \nL 69.163125 130.839561 \nL 88.693125 117.837184 \nL 108.223125 107.77631 \nL 127.753125 103.481248 \nL 147.283125 103.59258 \n\" clip-path=\"url(#p5c4cbb7d59)\" style=\"fill: none; stroke-dasharray: 9.6,2.4,1.5,2.4; stroke-dashoffset: 0; stroke: #2ca02c; stroke-width: 1.5\"/>\n   </g>\n   <g id=\"line2d_85\">\n    <path d=\"M 34.954394 13.5 \nL 44.698573 13.727682 \nL 54.442752 15.304334 \nL 64.186931 39.017475 \nL 73.93111 69.038851 \nL 83.675289 92.705189 \nL 93.419468 100.03028 \nL 103.163647 99.099444 \nL 112.907826 110.127485 \nL 122.652006 113.28952 \nL 132.396185 116.075989 \nL 142.140364 118.038322 \nL 151.884543 119.391347 \nL 161.628722 121.18206 \n\" clip-path=\"url(#p5c4cbb7d59)\" style=\"fill: none; stroke: #1f77b4; stroke-width: 1.5; stroke-linecap: square\"/>\n   </g>\n   <g id=\"line2d_86\">\n    <path d=\"M 49.633125 14.009048 \nL 69.163125 51.137381 \nL 88.693125 89.61151 \nL 108.223125 105.487844 \nL 127.753125 114.387071 \nL 147.283125 117.138953 \nL 166.813125 119.726765 \n\" clip-path=\"url(#p5c4cbb7d59)\" style=\"fill: none; stroke-dasharray: 5.55,2.4; stroke-dashoffset: 0; stroke: #ff7f0e; stroke-width: 1.5\"/>\n   </g>\n   <g id=\"line2d_87\">\n    <path d=\"M 49.633125 139.5 \nL 69.163125 130.839561 \nL 88.693125 117.837184 \nL 108.223125 107.77631 \nL 127.753125 103.481248 \nL 147.283125 103.59258 \n\" clip-path=\"url(#p5c4cbb7d59)\" style=\"fill: none; stroke-dasharray: 9.6,2.4,1.5,2.4; stroke-dashoffset: 0; stroke: #2ca02c; stroke-width: 1.5\"/>\n   </g>\n   <g id=\"line2d_88\">\n    <path d=\"M 34.954394 13.5 \nL 44.698573 13.727682 \nL 54.442752 15.304334 \nL 64.186931 39.017475 \nL 73.93111 69.038851 \nL 83.675289 92.705189 \nL 93.419468 100.03028 \nL 103.163647 99.099444 \nL 112.907826 110.127485 \nL 122.652006 113.28952 \nL 132.396185 116.075989 \nL 142.140364 118.038322 \nL 151.884543 119.391347 \nL 161.628722 121.18206 \n\" clip-path=\"url(#p5c4cbb7d59)\" style=\"fill: none; stroke: #1f77b4; stroke-width: 1.5; stroke-linecap: square\"/>\n   </g>\n   <g id=\"line2d_89\">\n    <path d=\"M 49.633125 14.009048 \nL 69.163125 51.137381 \nL 88.693125 89.61151 \nL 108.223125 105.487844 \nL 127.753125 114.387071 \nL 147.283125 117.138953 \nL 166.813125 119.726765 \n\" clip-path=\"url(#p5c4cbb7d59)\" style=\"fill: none; stroke-dasharray: 5.55,2.4; stroke-dashoffset: 0; stroke: #ff7f0e; stroke-width: 1.5\"/>\n   </g>\n   <g id=\"line2d_90\">\n    <path d=\"M 49.633125 139.5 \nL 69.163125 130.839561 \nL 88.693125 117.837184 \nL 108.223125 107.77631 \nL 127.753125 103.481248 \nL 147.283125 103.59258 \nL 166.813125 102.537858 \n\" clip-path=\"url(#p5c4cbb7d59)\" style=\"fill: none; stroke-dasharray: 9.6,2.4,1.5,2.4; stroke-dashoffset: 0; stroke: #2ca02c; stroke-width: 1.5\"/>\n   </g>\n   <g id=\"line2d_91\">\n    <path d=\"M 34.954394 13.5 \nL 44.698573 13.727682 \nL 54.442752 15.304334 \nL 64.186931 39.017475 \nL 73.93111 69.038851 \nL 83.675289 92.705189 \nL 93.419468 100.03028 \nL 103.163647 99.099444 \nL 112.907826 110.127485 \nL 122.652006 113.28952 \nL 132.396185 116.075989 \nL 142.140364 118.038322 \nL 151.884543 119.391347 \nL 161.628722 121.18206 \nL 171.372901 123.373407 \n\" clip-path=\"url(#p5c4cbb7d59)\" style=\"fill: none; stroke: #1f77b4; stroke-width: 1.5; stroke-linecap: square\"/>\n   </g>\n   <g id=\"line2d_92\">\n    <path d=\"M 49.633125 14.009048 \nL 69.163125 51.137381 \nL 88.693125 89.61151 \nL 108.223125 105.487844 \nL 127.753125 114.387071 \nL 147.283125 117.138953 \nL 166.813125 119.726765 \n\" clip-path=\"url(#p5c4cbb7d59)\" style=\"fill: none; stroke-dasharray: 5.55,2.4; stroke-dashoffset: 0; stroke: #ff7f0e; stroke-width: 1.5\"/>\n   </g>\n   <g id=\"line2d_93\">\n    <path d=\"M 49.633125 139.5 \nL 69.163125 130.839561 \nL 88.693125 117.837184 \nL 108.223125 107.77631 \nL 127.753125 103.481248 \nL 147.283125 103.59258 \nL 166.813125 102.537858 \n\" clip-path=\"url(#p5c4cbb7d59)\" style=\"fill: none; stroke-dasharray: 9.6,2.4,1.5,2.4; stroke-dashoffset: 0; stroke: #2ca02c; stroke-width: 1.5\"/>\n   </g>\n   <g id=\"line2d_94\">\n    <path d=\"M 34.954394 13.5 \nL 44.698573 13.727682 \nL 54.442752 15.304334 \nL 64.186931 39.017475 \nL 73.93111 69.038851 \nL 83.675289 92.705189 \nL 93.419468 100.03028 \nL 103.163647 99.099444 \nL 112.907826 110.127485 \nL 122.652006 113.28952 \nL 132.396185 116.075989 \nL 142.140364 118.038322 \nL 151.884543 119.391347 \nL 161.628722 121.18206 \nL 171.372901 123.373407 \nL 181.11708 123.344835 \n\" clip-path=\"url(#p5c4cbb7d59)\" style=\"fill: none; stroke: #1f77b4; stroke-width: 1.5; stroke-linecap: square\"/>\n   </g>\n   <g id=\"line2d_95\">\n    <path d=\"M 49.633125 14.009048 \nL 69.163125 51.137381 \nL 88.693125 89.61151 \nL 108.223125 105.487844 \nL 127.753125 114.387071 \nL 147.283125 117.138953 \nL 166.813125 119.726765 \n\" clip-path=\"url(#p5c4cbb7d59)\" style=\"fill: none; stroke-dasharray: 5.55,2.4; stroke-dashoffset: 0; stroke: #ff7f0e; stroke-width: 1.5\"/>\n   </g>\n   <g id=\"line2d_96\">\n    <path d=\"M 49.633125 139.5 \nL 69.163125 130.839561 \nL 88.693125 117.837184 \nL 108.223125 107.77631 \nL 127.753125 103.481248 \nL 147.283125 103.59258 \nL 166.813125 102.537858 \n\" clip-path=\"url(#p5c4cbb7d59)\" style=\"fill: none; stroke-dasharray: 9.6,2.4,1.5,2.4; stroke-dashoffset: 0; stroke: #2ca02c; stroke-width: 1.5\"/>\n   </g>\n   <g id=\"line2d_97\">\n    <path d=\"M 34.954394 13.5 \nL 44.698573 13.727682 \nL 54.442752 15.304334 \nL 64.186931 39.017475 \nL 73.93111 69.038851 \nL 83.675289 92.705189 \nL 93.419468 100.03028 \nL 103.163647 99.099444 \nL 112.907826 110.127485 \nL 122.652006 113.28952 \nL 132.396185 116.075989 \nL 142.140364 118.038322 \nL 151.884543 119.391347 \nL 161.628722 121.18206 \nL 171.372901 123.373407 \nL 181.11708 123.344835 \n\" clip-path=\"url(#p5c4cbb7d59)\" style=\"fill: none; stroke: #1f77b4; stroke-width: 1.5; stroke-linecap: square\"/>\n   </g>\n   <g id=\"line2d_98\">\n    <path d=\"M 49.633125 14.009048 \nL 69.163125 51.137381 \nL 88.693125 89.61151 \nL 108.223125 105.487844 \nL 127.753125 114.387071 \nL 147.283125 117.138953 \nL 166.813125 119.726765 \nL 186.343125 123.366018 \n\" clip-path=\"url(#p5c4cbb7d59)\" style=\"fill: none; stroke-dasharray: 5.55,2.4; stroke-dashoffset: 0; stroke: #ff7f0e; stroke-width: 1.5\"/>\n   </g>\n   <g id=\"line2d_99\">\n    <path d=\"M 49.633125 139.5 \nL 69.163125 130.839561 \nL 88.693125 117.837184 \nL 108.223125 107.77631 \nL 127.753125 103.481248 \nL 147.283125 103.59258 \nL 166.813125 102.537858 \n\" clip-path=\"url(#p5c4cbb7d59)\" style=\"fill: none; stroke-dasharray: 9.6,2.4,1.5,2.4; stroke-dashoffset: 0; stroke: #2ca02c; stroke-width: 1.5\"/>\n   </g>\n   <g id=\"line2d_100\">\n    <path d=\"M 34.954394 13.5 \nL 44.698573 13.727682 \nL 54.442752 15.304334 \nL 64.186931 39.017475 \nL 73.93111 69.038851 \nL 83.675289 92.705189 \nL 93.419468 100.03028 \nL 103.163647 99.099444 \nL 112.907826 110.127485 \nL 122.652006 113.28952 \nL 132.396185 116.075989 \nL 142.140364 118.038322 \nL 151.884543 119.391347 \nL 161.628722 121.18206 \nL 171.372901 123.373407 \nL 181.11708 123.344835 \n\" clip-path=\"url(#p5c4cbb7d59)\" style=\"fill: none; stroke: #1f77b4; stroke-width: 1.5; stroke-linecap: square\"/>\n   </g>\n   <g id=\"line2d_101\">\n    <path d=\"M 49.633125 14.009048 \nL 69.163125 51.137381 \nL 88.693125 89.61151 \nL 108.223125 105.487844 \nL 127.753125 114.387071 \nL 147.283125 117.138953 \nL 166.813125 119.726765 \nL 186.343125 123.366018 \n\" clip-path=\"url(#p5c4cbb7d59)\" style=\"fill: none; stroke-dasharray: 5.55,2.4; stroke-dashoffset: 0; stroke: #ff7f0e; stroke-width: 1.5\"/>\n   </g>\n   <g id=\"line2d_102\">\n    <path d=\"M 49.633125 139.5 \nL 69.163125 130.839561 \nL 88.693125 117.837184 \nL 108.223125 107.77631 \nL 127.753125 103.481248 \nL 147.283125 103.59258 \nL 166.813125 102.537858 \nL 186.343125 100.75069 \n\" clip-path=\"url(#p5c4cbb7d59)\" style=\"fill: none; stroke-dasharray: 9.6,2.4,1.5,2.4; stroke-dashoffset: 0; stroke: #2ca02c; stroke-width: 1.5\"/>\n   </g>\n   <g id=\"line2d_103\">\n    <path d=\"M 34.954394 13.5 \nL 44.698573 13.727682 \nL 54.442752 15.304334 \nL 64.186931 39.017475 \nL 73.93111 69.038851 \nL 83.675289 92.705189 \nL 93.419468 100.03028 \nL 103.163647 99.099444 \nL 112.907826 110.127485 \nL 122.652006 113.28952 \nL 132.396185 116.075989 \nL 142.140364 118.038322 \nL 151.884543 119.391347 \nL 161.628722 121.18206 \nL 171.372901 123.373407 \nL 181.11708 123.344835 \nL 190.861259 124.584722 \n\" clip-path=\"url(#p5c4cbb7d59)\" style=\"fill: none; stroke: #1f77b4; stroke-width: 1.5; stroke-linecap: square\"/>\n   </g>\n   <g id=\"line2d_104\">\n    <path d=\"M 49.633125 14.009048 \nL 69.163125 51.137381 \nL 88.693125 89.61151 \nL 108.223125 105.487844 \nL 127.753125 114.387071 \nL 147.283125 117.138953 \nL 166.813125 119.726765 \nL 186.343125 123.366018 \n\" clip-path=\"url(#p5c4cbb7d59)\" style=\"fill: none; stroke-dasharray: 5.55,2.4; stroke-dashoffset: 0; stroke: #ff7f0e; stroke-width: 1.5\"/>\n   </g>\n   <g id=\"line2d_105\">\n    <path d=\"M 49.633125 139.5 \nL 69.163125 130.839561 \nL 88.693125 117.837184 \nL 108.223125 107.77631 \nL 127.753125 103.481248 \nL 147.283125 103.59258 \nL 166.813125 102.537858 \nL 186.343125 100.75069 \n\" clip-path=\"url(#p5c4cbb7d59)\" style=\"fill: none; stroke-dasharray: 9.6,2.4,1.5,2.4; stroke-dashoffset: 0; stroke: #2ca02c; stroke-width: 1.5\"/>\n   </g>\n   <g id=\"line2d_106\">\n    <path d=\"M 34.954394 13.5 \nL 44.698573 13.727682 \nL 54.442752 15.304334 \nL 64.186931 39.017475 \nL 73.93111 69.038851 \nL 83.675289 92.705189 \nL 93.419468 100.03028 \nL 103.163647 99.099444 \nL 112.907826 110.127485 \nL 122.652006 113.28952 \nL 132.396185 116.075989 \nL 142.140364 118.038322 \nL 151.884543 119.391347 \nL 161.628722 121.18206 \nL 171.372901 123.373407 \nL 181.11708 123.344835 \nL 190.861259 124.584722 \nL 200.605438 125.686565 \n\" clip-path=\"url(#p5c4cbb7d59)\" style=\"fill: none; stroke: #1f77b4; stroke-width: 1.5; stroke-linecap: square\"/>\n   </g>\n   <g id=\"line2d_107\">\n    <path d=\"M 49.633125 14.009048 \nL 69.163125 51.137381 \nL 88.693125 89.61151 \nL 108.223125 105.487844 \nL 127.753125 114.387071 \nL 147.283125 117.138953 \nL 166.813125 119.726765 \nL 186.343125 123.366018 \n\" clip-path=\"url(#p5c4cbb7d59)\" style=\"fill: none; stroke-dasharray: 5.55,2.4; stroke-dashoffset: 0; stroke: #ff7f0e; stroke-width: 1.5\"/>\n   </g>\n   <g id=\"line2d_108\">\n    <path d=\"M 49.633125 139.5 \nL 69.163125 130.839561 \nL 88.693125 117.837184 \nL 108.223125 107.77631 \nL 127.753125 103.481248 \nL 147.283125 103.59258 \nL 166.813125 102.537858 \nL 186.343125 100.75069 \n\" clip-path=\"url(#p5c4cbb7d59)\" style=\"fill: none; stroke-dasharray: 9.6,2.4,1.5,2.4; stroke-dashoffset: 0; stroke: #2ca02c; stroke-width: 1.5\"/>\n   </g>\n   <g id=\"line2d_109\">\n    <path d=\"M 34.954394 13.5 \nL 44.698573 13.727682 \nL 54.442752 15.304334 \nL 64.186931 39.017475 \nL 73.93111 69.038851 \nL 83.675289 92.705189 \nL 93.419468 100.03028 \nL 103.163647 99.099444 \nL 112.907826 110.127485 \nL 122.652006 113.28952 \nL 132.396185 116.075989 \nL 142.140364 118.038322 \nL 151.884543 119.391347 \nL 161.628722 121.18206 \nL 171.372901 123.373407 \nL 181.11708 123.344835 \nL 190.861259 124.584722 \nL 200.605438 125.686565 \n\" clip-path=\"url(#p5c4cbb7d59)\" style=\"fill: none; stroke: #1f77b4; stroke-width: 1.5; stroke-linecap: square\"/>\n   </g>\n   <g id=\"line2d_110\">\n    <path d=\"M 49.633125 14.009048 \nL 69.163125 51.137381 \nL 88.693125 89.61151 \nL 108.223125 105.487844 \nL 127.753125 114.387071 \nL 147.283125 117.138953 \nL 166.813125 119.726765 \nL 186.343125 123.366018 \nL 205.873125 127.248769 \n\" clip-path=\"url(#p5c4cbb7d59)\" style=\"fill: none; stroke-dasharray: 5.55,2.4; stroke-dashoffset: 0; stroke: #ff7f0e; stroke-width: 1.5\"/>\n   </g>\n   <g id=\"line2d_111\">\n    <path d=\"M 49.633125 139.5 \nL 69.163125 130.839561 \nL 88.693125 117.837184 \nL 108.223125 107.77631 \nL 127.753125 103.481248 \nL 147.283125 103.59258 \nL 166.813125 102.537858 \nL 186.343125 100.75069 \n\" clip-path=\"url(#p5c4cbb7d59)\" style=\"fill: none; stroke-dasharray: 9.6,2.4,1.5,2.4; stroke-dashoffset: 0; stroke: #2ca02c; stroke-width: 1.5\"/>\n   </g>\n   <g id=\"line2d_112\">\n    <path d=\"M 34.954394 13.5 \nL 44.698573 13.727682 \nL 54.442752 15.304334 \nL 64.186931 39.017475 \nL 73.93111 69.038851 \nL 83.675289 92.705189 \nL 93.419468 100.03028 \nL 103.163647 99.099444 \nL 112.907826 110.127485 \nL 122.652006 113.28952 \nL 132.396185 116.075989 \nL 142.140364 118.038322 \nL 151.884543 119.391347 \nL 161.628722 121.18206 \nL 171.372901 123.373407 \nL 181.11708 123.344835 \nL 190.861259 124.584722 \nL 200.605438 125.686565 \n\" clip-path=\"url(#p5c4cbb7d59)\" style=\"fill: none; stroke: #1f77b4; stroke-width: 1.5; stroke-linecap: square\"/>\n   </g>\n   <g id=\"line2d_113\">\n    <path d=\"M 49.633125 14.009048 \nL 69.163125 51.137381 \nL 88.693125 89.61151 \nL 108.223125 105.487844 \nL 127.753125 114.387071 \nL 147.283125 117.138953 \nL 166.813125 119.726765 \nL 186.343125 123.366018 \nL 205.873125 127.248769 \n\" clip-path=\"url(#p5c4cbb7d59)\" style=\"fill: none; stroke-dasharray: 5.55,2.4; stroke-dashoffset: 0; stroke: #ff7f0e; stroke-width: 1.5\"/>\n   </g>\n   <g id=\"line2d_114\">\n    <path d=\"M 49.633125 139.5 \nL 69.163125 130.839561 \nL 88.693125 117.837184 \nL 108.223125 107.77631 \nL 127.753125 103.481248 \nL 147.283125 103.59258 \nL 166.813125 102.537858 \nL 186.343125 100.75069 \nL 205.873125 99.279939 \n\" clip-path=\"url(#p5c4cbb7d59)\" style=\"fill: none; stroke-dasharray: 9.6,2.4,1.5,2.4; stroke-dashoffset: 0; stroke: #2ca02c; stroke-width: 1.5\"/>\n   </g>\n   <g id=\"line2d_115\">\n    <path d=\"M 34.954394 13.5 \nL 44.698573 13.727682 \nL 54.442752 15.304334 \nL 64.186931 39.017475 \nL 73.93111 69.038851 \nL 83.675289 92.705189 \nL 93.419468 100.03028 \nL 103.163647 99.099444 \nL 112.907826 110.127485 \nL 122.652006 113.28952 \nL 132.396185 116.075989 \nL 142.140364 118.038322 \nL 151.884543 119.391347 \nL 161.628722 121.18206 \nL 171.372901 123.373407 \nL 181.11708 123.344835 \nL 190.861259 124.584722 \nL 200.605438 125.686565 \nL 210.349618 126.252782 \n\" clip-path=\"url(#p5c4cbb7d59)\" style=\"fill: none; stroke: #1f77b4; stroke-width: 1.5; stroke-linecap: square\"/>\n   </g>\n   <g id=\"line2d_116\">\n    <path d=\"M 49.633125 14.009048 \nL 69.163125 51.137381 \nL 88.693125 89.61151 \nL 108.223125 105.487844 \nL 127.753125 114.387071 \nL 147.283125 117.138953 \nL 166.813125 119.726765 \nL 186.343125 123.366018 \nL 205.873125 127.248769 \n\" clip-path=\"url(#p5c4cbb7d59)\" style=\"fill: none; stroke-dasharray: 5.55,2.4; stroke-dashoffset: 0; stroke: #ff7f0e; stroke-width: 1.5\"/>\n   </g>\n   <g id=\"line2d_117\">\n    <path d=\"M 49.633125 139.5 \nL 69.163125 130.839561 \nL 88.693125 117.837184 \nL 108.223125 107.77631 \nL 127.753125 103.481248 \nL 147.283125 103.59258 \nL 166.813125 102.537858 \nL 186.343125 100.75069 \nL 205.873125 99.279939 \n\" clip-path=\"url(#p5c4cbb7d59)\" style=\"fill: none; stroke-dasharray: 9.6,2.4,1.5,2.4; stroke-dashoffset: 0; stroke: #2ca02c; stroke-width: 1.5\"/>\n   </g>\n   <g id=\"line2d_118\">\n    <path d=\"M 34.954394 13.5 \nL 44.698573 13.727682 \nL 54.442752 15.304334 \nL 64.186931 39.017475 \nL 73.93111 69.038851 \nL 83.675289 92.705189 \nL 93.419468 100.03028 \nL 103.163647 99.099444 \nL 112.907826 110.127485 \nL 122.652006 113.28952 \nL 132.396185 116.075989 \nL 142.140364 118.038322 \nL 151.884543 119.391347 \nL 161.628722 121.18206 \nL 171.372901 123.373407 \nL 181.11708 123.344835 \nL 190.861259 124.584722 \nL 200.605438 125.686565 \nL 210.349618 126.252782 \nL 220.093797 126.95521 \n\" clip-path=\"url(#p5c4cbb7d59)\" style=\"fill: none; stroke: #1f77b4; stroke-width: 1.5; stroke-linecap: square\"/>\n   </g>\n   <g id=\"line2d_119\">\n    <path d=\"M 49.633125 14.009048 \nL 69.163125 51.137381 \nL 88.693125 89.61151 \nL 108.223125 105.487844 \nL 127.753125 114.387071 \nL 147.283125 117.138953 \nL 166.813125 119.726765 \nL 186.343125 123.366018 \nL 205.873125 127.248769 \n\" clip-path=\"url(#p5c4cbb7d59)\" style=\"fill: none; stroke-dasharray: 5.55,2.4; stroke-dashoffset: 0; stroke: #ff7f0e; stroke-width: 1.5\"/>\n   </g>\n   <g id=\"line2d_120\">\n    <path d=\"M 49.633125 139.5 \nL 69.163125 130.839561 \nL 88.693125 117.837184 \nL 108.223125 107.77631 \nL 127.753125 103.481248 \nL 147.283125 103.59258 \nL 166.813125 102.537858 \nL 186.343125 100.75069 \nL 205.873125 99.279939 \n\" clip-path=\"url(#p5c4cbb7d59)\" style=\"fill: none; stroke-dasharray: 9.6,2.4,1.5,2.4; stroke-dashoffset: 0; stroke: #2ca02c; stroke-width: 1.5\"/>\n   </g>\n   <g id=\"line2d_121\">\n    <path d=\"M 34.954394 13.5 \nL 44.698573 13.727682 \nL 54.442752 15.304334 \nL 64.186931 39.017475 \nL 73.93111 69.038851 \nL 83.675289 92.705189 \nL 93.419468 100.03028 \nL 103.163647 99.099444 \nL 112.907826 110.127485 \nL 122.652006 113.28952 \nL 132.396185 116.075989 \nL 142.140364 118.038322 \nL 151.884543 119.391347 \nL 161.628722 121.18206 \nL 171.372901 123.373407 \nL 181.11708 123.344835 \nL 190.861259 124.584722 \nL 200.605438 125.686565 \nL 210.349618 126.252782 \nL 220.093797 126.95521 \n\" clip-path=\"url(#p5c4cbb7d59)\" style=\"fill: none; stroke: #1f77b4; stroke-width: 1.5; stroke-linecap: square\"/>\n   </g>\n   <g id=\"line2d_122\">\n    <path d=\"M 49.633125 14.009048 \nL 69.163125 51.137381 \nL 88.693125 89.61151 \nL 108.223125 105.487844 \nL 127.753125 114.387071 \nL 147.283125 117.138953 \nL 166.813125 119.726765 \nL 186.343125 123.366018 \nL 205.873125 127.248769 \nL 225.403125 126.169295 \n\" clip-path=\"url(#p5c4cbb7d59)\" style=\"fill: none; stroke-dasharray: 5.55,2.4; stroke-dashoffset: 0; stroke: #ff7f0e; stroke-width: 1.5\"/>\n   </g>\n   <g id=\"line2d_123\">\n    <path d=\"M 49.633125 139.5 \nL 69.163125 130.839561 \nL 88.693125 117.837184 \nL 108.223125 107.77631 \nL 127.753125 103.481248 \nL 147.283125 103.59258 \nL 166.813125 102.537858 \nL 186.343125 100.75069 \nL 205.873125 99.279939 \n\" clip-path=\"url(#p5c4cbb7d59)\" style=\"fill: none; stroke-dasharray: 9.6,2.4,1.5,2.4; stroke-dashoffset: 0; stroke: #2ca02c; stroke-width: 1.5\"/>\n   </g>\n   <g id=\"line2d_124\">\n    <path d=\"M 34.954394 13.5 \nL 44.698573 13.727682 \nL 54.442752 15.304334 \nL 64.186931 39.017475 \nL 73.93111 69.038851 \nL 83.675289 92.705189 \nL 93.419468 100.03028 \nL 103.163647 99.099444 \nL 112.907826 110.127485 \nL 122.652006 113.28952 \nL 132.396185 116.075989 \nL 142.140364 118.038322 \nL 151.884543 119.391347 \nL 161.628722 121.18206 \nL 171.372901 123.373407 \nL 181.11708 123.344835 \nL 190.861259 124.584722 \nL 200.605438 125.686565 \nL 210.349618 126.252782 \nL 220.093797 126.95521 \n\" clip-path=\"url(#p5c4cbb7d59)\" style=\"fill: none; stroke: #1f77b4; stroke-width: 1.5; stroke-linecap: square\"/>\n   </g>\n   <g id=\"line2d_125\">\n    <path d=\"M 49.633125 14.009048 \nL 69.163125 51.137381 \nL 88.693125 89.61151 \nL 108.223125 105.487844 \nL 127.753125 114.387071 \nL 147.283125 117.138953 \nL 166.813125 119.726765 \nL 186.343125 123.366018 \nL 205.873125 127.248769 \nL 225.403125 126.169295 \n\" clip-path=\"url(#p5c4cbb7d59)\" style=\"fill: none; stroke-dasharray: 5.55,2.4; stroke-dashoffset: 0; stroke: #ff7f0e; stroke-width: 1.5\"/>\n   </g>\n   <g id=\"line2d_126\">\n    <path d=\"M 49.633125 139.5 \nL 69.163125 130.839561 \nL 88.693125 117.837184 \nL 108.223125 107.77631 \nL 127.753125 103.481248 \nL 147.283125 103.59258 \nL 166.813125 102.537858 \nL 186.343125 100.75069 \nL 205.873125 99.279939 \nL 225.403125 99.508462 \n\" clip-path=\"url(#p5c4cbb7d59)\" style=\"fill: none; stroke-dasharray: 9.6,2.4,1.5,2.4; stroke-dashoffset: 0; stroke: #2ca02c; stroke-width: 1.5\"/>\n   </g>\n   <g id=\"patch_3\">\n    <path d=\"M 30.103125 145.8 \nL 30.103125 7.2 \n\" style=\"fill: none; stroke: #000000; stroke-width: 0.8; stroke-linejoin: miter; stroke-linecap: square\"/>\n   </g>\n   <g id=\"patch_4\">\n    <path d=\"M 225.403125 145.8 \nL 225.403125 7.2 \n\" style=\"fill: none; stroke: #000000; stroke-width: 0.8; stroke-linejoin: miter; stroke-linecap: square\"/>\n   </g>\n   <g id=\"patch_5\">\n    <path d=\"M 30.103125 145.8 \nL 225.403125 145.8 \n\" style=\"fill: none; stroke: #000000; stroke-width: 0.8; stroke-linejoin: miter; stroke-linecap: square\"/>\n   </g>\n   <g id=\"patch_6\">\n    <path d=\"M 30.103125 7.2 \nL 225.403125 7.2 \n\" style=\"fill: none; stroke: #000000; stroke-width: 0.8; stroke-linejoin: miter; stroke-linecap: square\"/>\n   </g>\n   <g id=\"legend_1\">\n    <g id=\"patch_7\">\n     <path d=\"M 138.8125 60.06875 \nL 218.403125 60.06875 \nQ 220.403125 60.06875 220.403125 58.06875 \nL 220.403125 14.2 \nQ 220.403125 12.2 218.403125 12.2 \nL 138.8125 12.2 \nQ 136.8125 12.2 136.8125 14.2 \nL 136.8125 58.06875 \nQ 136.8125 60.06875 138.8125 60.06875 \nz\n\" style=\"fill: #ffffff; opacity: 0.8; stroke: #cccccc; stroke-linejoin: miter\"/>\n    </g>\n    <g id=\"line2d_127\">\n     <path d=\"M 140.8125 20.298438 \nL 150.8125 20.298438 \nL 160.8125 20.298438 \n\" style=\"fill: none; stroke: #1f77b4; stroke-width: 1.5; stroke-linecap: square\"/>\n    </g>\n    <g id=\"text_12\">\n     <!-- train_loss -->\n     <g transform=\"translate(168.8125 23.798438) scale(0.1 -0.1)\">\n      <defs>\n       <path id=\"DejaVuSans-74\" d=\"M 1172 4494 \nL 1172 3500 \nL 2356 3500 \nL 2356 3053 \nL 1172 3053 \nL 1172 1153 \nQ 1172 725 1289 603 \nQ 1406 481 1766 481 \nL 2356 481 \nL 2356 0 \nL 1766 0 \nQ 1100 0 847 248 \nQ 594 497 594 1153 \nL 594 3053 \nL 172 3053 \nL 172 3500 \nL 594 3500 \nL 594 4494 \nL 1172 4494 \nz\n\" transform=\"scale(0.015625)\"/>\n       <path id=\"DejaVuSans-72\" d=\"M 2631 2963 \nQ 2534 3019 2420 3045 \nQ 2306 3072 2169 3072 \nQ 1681 3072 1420 2755 \nQ 1159 2438 1159 1844 \nL 1159 0 \nL 581 0 \nL 581 3500 \nL 1159 3500 \nL 1159 2956 \nQ 1341 3275 1631 3429 \nQ 1922 3584 2338 3584 \nQ 2397 3584 2469 3576 \nQ 2541 3569 2628 3553 \nL 2631 2963 \nz\n\" transform=\"scale(0.015625)\"/>\n       <path id=\"DejaVuSans-61\" d=\"M 2194 1759 \nQ 1497 1759 1228 1600 \nQ 959 1441 959 1056 \nQ 959 750 1161 570 \nQ 1363 391 1709 391 \nQ 2188 391 2477 730 \nQ 2766 1069 2766 1631 \nL 2766 1759 \nL 2194 1759 \nz\nM 3341 1997 \nL 3341 0 \nL 2766 0 \nL 2766 531 \nQ 2569 213 2275 61 \nQ 1981 -91 1556 -91 \nQ 1019 -91 701 211 \nQ 384 513 384 1019 \nQ 384 1609 779 1909 \nQ 1175 2209 1959 2209 \nL 2766 2209 \nL 2766 2266 \nQ 2766 2663 2505 2880 \nQ 2244 3097 1772 3097 \nQ 1472 3097 1187 3025 \nQ 903 2953 641 2809 \nL 641 3341 \nQ 956 3463 1253 3523 \nQ 1550 3584 1831 3584 \nQ 2591 3584 2966 3190 \nQ 3341 2797 3341 1997 \nz\n\" transform=\"scale(0.015625)\"/>\n       <path id=\"DejaVuSans-69\" d=\"M 603 3500 \nL 1178 3500 \nL 1178 0 \nL 603 0 \nL 603 3500 \nz\nM 603 4863 \nL 1178 4863 \nL 1178 4134 \nL 603 4134 \nL 603 4863 \nz\n\" transform=\"scale(0.015625)\"/>\n       <path id=\"DejaVuSans-6e\" d=\"M 3513 2113 \nL 3513 0 \nL 2938 0 \nL 2938 2094 \nQ 2938 2591 2744 2837 \nQ 2550 3084 2163 3084 \nQ 1697 3084 1428 2787 \nQ 1159 2491 1159 1978 \nL 1159 0 \nL 581 0 \nL 581 3500 \nL 1159 3500 \nL 1159 2956 \nQ 1366 3272 1645 3428 \nQ 1925 3584 2291 3584 \nQ 2894 3584 3203 3211 \nQ 3513 2838 3513 2113 \nz\n\" transform=\"scale(0.015625)\"/>\n       <path id=\"DejaVuSans-5f\" d=\"M 3263 -1063 \nL 3263 -1509 \nL -63 -1509 \nL -63 -1063 \nL 3263 -1063 \nz\n\" transform=\"scale(0.015625)\"/>\n       <path id=\"DejaVuSans-6c\" d=\"M 603 4863 \nL 1178 4863 \nL 1178 0 \nL 603 0 \nL 603 4863 \nz\n\" transform=\"scale(0.015625)\"/>\n       <path id=\"DejaVuSans-73\" d=\"M 2834 3397 \nL 2834 2853 \nQ 2591 2978 2328 3040 \nQ 2066 3103 1784 3103 \nQ 1356 3103 1142 2972 \nQ 928 2841 928 2578 \nQ 928 2378 1081 2264 \nQ 1234 2150 1697 2047 \nL 1894 2003 \nQ 2506 1872 2764 1633 \nQ 3022 1394 3022 966 \nQ 3022 478 2636 193 \nQ 2250 -91 1575 -91 \nQ 1294 -91 989 -36 \nQ 684 19 347 128 \nL 347 722 \nQ 666 556 975 473 \nQ 1284 391 1588 391 \nQ 1994 391 2212 530 \nQ 2431 669 2431 922 \nQ 2431 1156 2273 1281 \nQ 2116 1406 1581 1522 \nL 1381 1569 \nQ 847 1681 609 1914 \nQ 372 2147 372 2553 \nQ 372 3047 722 3315 \nQ 1072 3584 1716 3584 \nQ 2034 3584 2315 3537 \nQ 2597 3491 2834 3397 \nz\n\" transform=\"scale(0.015625)\"/>\n      </defs>\n      <use xlink:href=\"#DejaVuSans-74\"/>\n      <use xlink:href=\"#DejaVuSans-72\" x=\"39.208984\"/>\n      <use xlink:href=\"#DejaVuSans-61\" x=\"80.322266\"/>\n      <use xlink:href=\"#DejaVuSans-69\" x=\"141.601562\"/>\n      <use xlink:href=\"#DejaVuSans-6e\" x=\"169.384766\"/>\n      <use xlink:href=\"#DejaVuSans-5f\" x=\"232.763672\"/>\n      <use xlink:href=\"#DejaVuSans-6c\" x=\"282.763672\"/>\n      <use xlink:href=\"#DejaVuSans-6f\" x=\"310.546875\"/>\n      <use xlink:href=\"#DejaVuSans-73\" x=\"371.728516\"/>\n      <use xlink:href=\"#DejaVuSans-73\" x=\"423.828125\"/>\n     </g>\n    </g>\n    <g id=\"line2d_128\">\n     <path d=\"M 140.8125 35.254688 \nL 150.8125 35.254688 \nL 160.8125 35.254688 \n\" style=\"fill: none; stroke-dasharray: 5.55,2.4; stroke-dashoffset: 0; stroke: #ff7f0e; stroke-width: 1.5\"/>\n    </g>\n    <g id=\"text_13\">\n     <!-- val_loss -->\n     <g transform=\"translate(168.8125 38.754688) scale(0.1 -0.1)\">\n      <defs>\n       <path id=\"DejaVuSans-76\" d=\"M 191 3500 \nL 800 3500 \nL 1894 563 \nL 2988 3500 \nL 3597 3500 \nL 2284 0 \nL 1503 0 \nL 191 3500 \nz\n\" transform=\"scale(0.015625)\"/>\n      </defs>\n      <use xlink:href=\"#DejaVuSans-76\"/>\n      <use xlink:href=\"#DejaVuSans-61\" x=\"59.179688\"/>\n      <use xlink:href=\"#DejaVuSans-6c\" x=\"120.458984\"/>\n      <use xlink:href=\"#DejaVuSans-5f\" x=\"148.242188\"/>\n      <use xlink:href=\"#DejaVuSans-6c\" x=\"198.242188\"/>\n      <use xlink:href=\"#DejaVuSans-6f\" x=\"226.025391\"/>\n      <use xlink:href=\"#DejaVuSans-73\" x=\"287.207031\"/>\n      <use xlink:href=\"#DejaVuSans-73\" x=\"339.306641\"/>\n     </g>\n    </g>\n    <g id=\"line2d_129\">\n     <path d=\"M 140.8125 50.210938 \nL 150.8125 50.210938 \nL 160.8125 50.210938 \n\" style=\"fill: none; stroke-dasharray: 9.6,2.4,1.5,2.4; stroke-dashoffset: 0; stroke: #2ca02c; stroke-width: 1.5\"/>\n    </g>\n    <g id=\"text_14\">\n     <!-- val_acc -->\n     <g transform=\"translate(168.8125 53.710938) scale(0.1 -0.1)\">\n      <use xlink:href=\"#DejaVuSans-76\"/>\n      <use xlink:href=\"#DejaVuSans-61\" x=\"59.179688\"/>\n      <use xlink:href=\"#DejaVuSans-6c\" x=\"120.458984\"/>\n      <use xlink:href=\"#DejaVuSans-5f\" x=\"148.242188\"/>\n      <use xlink:href=\"#DejaVuSans-61\" x=\"198.242188\"/>\n      <use xlink:href=\"#DejaVuSans-63\" x=\"259.521484\"/>\n      <use xlink:href=\"#DejaVuSans-63\" x=\"314.501953\"/>\n     </g>\n    </g>\n   </g>\n  </g>\n </g>\n <defs>\n  <clipPath id=\"p5c4cbb7d59\">\n   <rect x=\"30.103125\" y=\"7.2\" width=\"195.3\" height=\"138.6\"/>\n  </clipPath>\n </defs>\n</svg>\n"
          },
          "metadata": {}
        }
      ]
    },
    {
      "cell_type": "markdown",
      "source": [
        "## Exercises"
      ],
      "metadata": {
        "id": "kfOgV1FLS0cQ"
      }
    },
    {
      "cell_type": "code",
      "source": [
        "import sys\n",
        "import torch.nn as nn\n",
        "import torch\n",
        "import warnings\n",
        "from d2l import torch as d2l\n",
        "from torchsummary import summary\n",
        "warnings.filterwarnings(\"ignore\")\n",
        "\n",
        "def nin_block(out_channels, kernel_size, strides, padding, conv1s=[[1,0],[1,0]]):\n",
        "    layers = [nn.LazyConv2d(out_channels, kernel_size=kernel_size, stride=strides, padding=padding),nn.ReLU()]\n",
        "    for conv1_size,conv1_padding in conv1s:\n",
        "        layers.append(nn.LazyConv2d(out_channels, kernel_size=conv1_size,padding=conv1_padding))\n",
        "        layers.append(nn.ReLU())\n",
        "    return nn.Sequential(*layers)\n",
        "\n",
        "class Nin(d2l.Classifier):\n",
        "    def __init__(self, arch, lr=0.1):\n",
        "        super().__init__()\n",
        "        self.save_hyperparameters()\n",
        "        layers = []\n",
        "        for i in range(len(arch)-1):\n",
        "            layers.append(nin_block(*arch[i]))\n",
        "            layers.append(nn.MaxPool2d(3, stride=2))\n",
        "        layers.append(nn.Dropout(0.5))\n",
        "        layers.append(nin_block(*arch[-1]))\n",
        "        layers.append(nn.AdaptiveAvgPool2d((1, 1)))\n",
        "        layers.append(nn.Flatten())\n",
        "        self.net = nn.Sequential(*layers)\n",
        "        self.net.apply(d2l.init_cnn)"
      ],
      "metadata": {
        "id": "TrHkz-0tS2QD"
      },
      "execution_count": 29,
      "outputs": []
    },
    {
      "cell_type": "markdown",
      "source": [
        "**1. Why are there two 1x1 convolutional layers per NiN block? Increase their number to three. Reduce their number to one. What changes?**"
      ],
      "metadata": {
        "id": "0zLN4SRZS5Hm"
      }
    },
    {
      "cell_type": "markdown",
      "source": [
        "Dalam arsitektur Network in Network (NiN), lapisan konvolusi 1x1 digunakan untuk memperkenalkan non-linearitas tambahan dan meningkatkan kapasitas jaringan tanpa menambah terlalu banyak parameter. Penggunaan konvolusi 1x1 ini memiliki efek spesifik pada ekspresivitas dan kompleksitas jaringan:\n",
        "\n",
        "* Dua Lapisan Konvolusi 1x1 per Blok NiN:\n",
        "\n",
        "Memungkinkan banyak jalur untuk transformasi fitur. Setiap konvolusi 1x1 melakukan operasi tersendiri, sehingga jaringan dapat menangkap hubungan kompleks antara fitur dan meningkatkan pembelajaran representasi.\n",
        "Meningkatkan kapasitas dan non-linearitas model, yang berpotensi meningkatkan akurasi dan fitur yang lebih ekspresif.\n",
        "\n",
        "* Tiga Lapisan Konvolusi 1x1 per Blok NiN:\n",
        "\n",
        "Menambah kapasitas jaringan lebih jauh. Setiap lapisan konvolusi tambahan memperkenalkan lebih banyak non-linearitas dan interaksi kompleks antara fitur.\n",
        "Namun, peningkatan jumlah konvolusi juga meningkatkan jumlah parameter dan komputasi, yang dapat menyebabkan overfitting dan biaya komputasi yang lebih tinggi.\n",
        "\n",
        "* Satu Lapisan Konvolusi 1x1 per Blok NiN:\n",
        "\n",
        "Mengurangi kompleksitas setiap blok NiN, membatasi kapasitas jaringan untuk menangkap interaksi fitur kompleks. Ini dapat menyebabkan underfitting jika dataset dan tugas terlalu kompleks.\n",
        "Mengurangi jumlah konvolusi juga menurunkan jumlah parameter dan komputasi, yang bermanfaat untuk pelatihan yang lebih cepat dan penggunaan memori yang lebih sedikit."
      ],
      "metadata": {
        "id": "fSt6EYxiS8AF"
      }
    },
    {
      "cell_type": "code",
      "source": [
        "data = d2l.FashionMNIST(batch_size=128, resize=(224, 224))\n",
        "arch = ((96,11,4,0,[[1,0]]),(256,5,1,2,[[1,0]]),(384,3,1,1,[[1,0]]),(10,3,1,1,[[1,0]]))\n",
        "model = Nin(arch, lr=0.05)\n",
        "model.apply_init([next(iter(data.get_dataloader(True)))[0]], d2l.init_cnn)\n",
        "trainer = d2l.Trainer(max_epochs=10, num_gpus=1)\n",
        "trainer.fit(model, data)\n",
        "X,y = next(iter(data.get_dataloader(False)))\n",
        "X = X.to('cuda')\n",
        "y = y.to('cuda')\n",
        "y_hat = model(X)\n",
        "print(f'acc: {model.accuracy(y_hat,y).item():.2f}')"
      ],
      "metadata": {
        "colab": {
          "base_uri": "https://localhost:8080/",
          "height": 284
        },
        "id": "5dD2shP-S-sn",
        "outputId": "a3964226-d15f-4b0e-b4d2-ca09465da505"
      },
      "execution_count": 30,
      "outputs": [
        {
          "output_type": "stream",
          "name": "stdout",
          "text": [
            "acc: 0.09\n"
          ]
        },
        {
          "output_type": "display_data",
          "data": {
            "text/plain": [
              "<Figure size 350x250 with 1 Axes>"
            ],
            "image/svg+xml": "<?xml version=\"1.0\" encoding=\"utf-8\" standalone=\"no\"?>\n<!DOCTYPE svg PUBLIC \"-//W3C//DTD SVG 1.1//EN\"\n  \"http://www.w3.org/Graphics/SVG/1.1/DTD/svg11.dtd\">\n<svg xmlns:xlink=\"http://www.w3.org/1999/xlink\" width=\"238.965625pt\" height=\"183.35625pt\" viewBox=\"0 0 238.965625 183.35625\" xmlns=\"http://www.w3.org/2000/svg\" version=\"1.1\">\n <metadata>\n  <rdf:RDF xmlns:dc=\"http://purl.org/dc/elements/1.1/\" xmlns:cc=\"http://creativecommons.org/ns#\" xmlns:rdf=\"http://www.w3.org/1999/02/22-rdf-syntax-ns#\">\n   <cc:Work>\n    <dc:type rdf:resource=\"http://purl.org/dc/dcmitype/StillImage\"/>\n    <dc:date>2024-10-05T16:05:48.084170</dc:date>\n    <dc:format>image/svg+xml</dc:format>\n    <dc:creator>\n     <cc:Agent>\n      <dc:title>Matplotlib v3.7.2, https://matplotlib.org/</dc:title>\n     </cc:Agent>\n    </dc:creator>\n   </cc:Work>\n  </rdf:RDF>\n </metadata>\n <defs>\n  <style type=\"text/css\">*{stroke-linejoin: round; stroke-linecap: butt}</style>\n </defs>\n <g id=\"figure_1\">\n  <g id=\"patch_1\">\n   <path d=\"M 0 183.35625 \nL 238.965625 183.35625 \nL 238.965625 0 \nL 0 0 \nz\n\" style=\"fill: #ffffff\"/>\n  </g>\n  <g id=\"axes_1\">\n   <g id=\"patch_2\">\n    <path d=\"M 30.103125 145.8 \nL 225.403125 145.8 \nL 225.403125 7.2 \nL 30.103125 7.2 \nz\n\" style=\"fill: #ffffff\"/>\n   </g>\n   <g id=\"matplotlib.axis_1\">\n    <g id=\"xtick_1\">\n     <g id=\"line2d_1\">\n      <defs>\n       <path id=\"m39378a3122\" d=\"M 0 0 \nL 0 3.5 \n\" style=\"stroke: #000000; stroke-width: 0.8\"/>\n      </defs>\n      <g>\n       <use xlink:href=\"#m39378a3122\" x=\"30.103125\" y=\"145.8\" style=\"stroke: #000000; stroke-width: 0.8\"/>\n      </g>\n     </g>\n     <g id=\"text_1\">\n      <!-- 0 -->\n      <g transform=\"translate(26.921875 160.398438) scale(0.1 -0.1)\">\n       <defs>\n        <path id=\"DejaVuSans-30\" d=\"M 2034 4250 \nQ 1547 4250 1301 3770 \nQ 1056 3291 1056 2328 \nQ 1056 1369 1301 889 \nQ 1547 409 2034 409 \nQ 2525 409 2770 889 \nQ 3016 1369 3016 2328 \nQ 3016 3291 2770 3770 \nQ 2525 4250 2034 4250 \nz\nM 2034 4750 \nQ 2819 4750 3233 4129 \nQ 3647 3509 3647 2328 \nQ 3647 1150 3233 529 \nQ 2819 -91 2034 -91 \nQ 1250 -91 836 529 \nQ 422 1150 422 2328 \nQ 422 3509 836 4129 \nQ 1250 4750 2034 4750 \nz\n\" transform=\"scale(0.015625)\"/>\n       </defs>\n       <use xlink:href=\"#DejaVuSans-30\"/>\n      </g>\n     </g>\n    </g>\n    <g id=\"xtick_2\">\n     <g id=\"line2d_2\">\n      <g>\n       <use xlink:href=\"#m39378a3122\" x=\"69.163125\" y=\"145.8\" style=\"stroke: #000000; stroke-width: 0.8\"/>\n      </g>\n     </g>\n     <g id=\"text_2\">\n      <!-- 2 -->\n      <g transform=\"translate(65.981875 160.398438) scale(0.1 -0.1)\">\n       <defs>\n        <path id=\"DejaVuSans-32\" d=\"M 1228 531 \nL 3431 531 \nL 3431 0 \nL 469 0 \nL 469 531 \nQ 828 903 1448 1529 \nQ 2069 2156 2228 2338 \nQ 2531 2678 2651 2914 \nQ 2772 3150 2772 3378 \nQ 2772 3750 2511 3984 \nQ 2250 4219 1831 4219 \nQ 1534 4219 1204 4116 \nQ 875 4013 500 3803 \nL 500 4441 \nQ 881 4594 1212 4672 \nQ 1544 4750 1819 4750 \nQ 2544 4750 2975 4387 \nQ 3406 4025 3406 3419 \nQ 3406 3131 3298 2873 \nQ 3191 2616 2906 2266 \nQ 2828 2175 2409 1742 \nQ 1991 1309 1228 531 \nz\n\" transform=\"scale(0.015625)\"/>\n       </defs>\n       <use xlink:href=\"#DejaVuSans-32\"/>\n      </g>\n     </g>\n    </g>\n    <g id=\"xtick_3\">\n     <g id=\"line2d_3\">\n      <g>\n       <use xlink:href=\"#m39378a3122\" x=\"108.223125\" y=\"145.8\" style=\"stroke: #000000; stroke-width: 0.8\"/>\n      </g>\n     </g>\n     <g id=\"text_3\">\n      <!-- 4 -->\n      <g transform=\"translate(105.041875 160.398438) scale(0.1 -0.1)\">\n       <defs>\n        <path id=\"DejaVuSans-34\" d=\"M 2419 4116 \nL 825 1625 \nL 2419 1625 \nL 2419 4116 \nz\nM 2253 4666 \nL 3047 4666 \nL 3047 1625 \nL 3713 1625 \nL 3713 1100 \nL 3047 1100 \nL 3047 0 \nL 2419 0 \nL 2419 1100 \nL 313 1100 \nL 313 1709 \nL 2253 4666 \nz\n\" transform=\"scale(0.015625)\"/>\n       </defs>\n       <use xlink:href=\"#DejaVuSans-34\"/>\n      </g>\n     </g>\n    </g>\n    <g id=\"xtick_4\">\n     <g id=\"line2d_4\">\n      <g>\n       <use xlink:href=\"#m39378a3122\" x=\"147.283125\" y=\"145.8\" style=\"stroke: #000000; stroke-width: 0.8\"/>\n      </g>\n     </g>\n     <g id=\"text_4\">\n      <!-- 6 -->\n      <g transform=\"translate(144.101875 160.398438) scale(0.1 -0.1)\">\n       <defs>\n        <path id=\"DejaVuSans-36\" d=\"M 2113 2584 \nQ 1688 2584 1439 2293 \nQ 1191 2003 1191 1497 \nQ 1191 994 1439 701 \nQ 1688 409 2113 409 \nQ 2538 409 2786 701 \nQ 3034 994 3034 1497 \nQ 3034 2003 2786 2293 \nQ 2538 2584 2113 2584 \nz\nM 3366 4563 \nL 3366 3988 \nQ 3128 4100 2886 4159 \nQ 2644 4219 2406 4219 \nQ 1781 4219 1451 3797 \nQ 1122 3375 1075 2522 \nQ 1259 2794 1537 2939 \nQ 1816 3084 2150 3084 \nQ 2853 3084 3261 2657 \nQ 3669 2231 3669 1497 \nQ 3669 778 3244 343 \nQ 2819 -91 2113 -91 \nQ 1303 -91 875 529 \nQ 447 1150 447 2328 \nQ 447 3434 972 4092 \nQ 1497 4750 2381 4750 \nQ 2619 4750 2861 4703 \nQ 3103 4656 3366 4563 \nz\n\" transform=\"scale(0.015625)\"/>\n       </defs>\n       <use xlink:href=\"#DejaVuSans-36\"/>\n      </g>\n     </g>\n    </g>\n    <g id=\"xtick_5\">\n     <g id=\"line2d_5\">\n      <g>\n       <use xlink:href=\"#m39378a3122\" x=\"186.343125\" y=\"145.8\" style=\"stroke: #000000; stroke-width: 0.8\"/>\n      </g>\n     </g>\n     <g id=\"text_5\">\n      <!-- 8 -->\n      <g transform=\"translate(183.161875 160.398438) scale(0.1 -0.1)\">\n       <defs>\n        <path id=\"DejaVuSans-38\" d=\"M 2034 2216 \nQ 1584 2216 1326 1975 \nQ 1069 1734 1069 1313 \nQ 1069 891 1326 650 \nQ 1584 409 2034 409 \nQ 2484 409 2743 651 \nQ 3003 894 3003 1313 \nQ 3003 1734 2745 1975 \nQ 2488 2216 2034 2216 \nz\nM 1403 2484 \nQ 997 2584 770 2862 \nQ 544 3141 544 3541 \nQ 544 4100 942 4425 \nQ 1341 4750 2034 4750 \nQ 2731 4750 3128 4425 \nQ 3525 4100 3525 3541 \nQ 3525 3141 3298 2862 \nQ 3072 2584 2669 2484 \nQ 3125 2378 3379 2068 \nQ 3634 1759 3634 1313 \nQ 3634 634 3220 271 \nQ 2806 -91 2034 -91 \nQ 1263 -91 848 271 \nQ 434 634 434 1313 \nQ 434 1759 690 2068 \nQ 947 2378 1403 2484 \nz\nM 1172 3481 \nQ 1172 3119 1398 2916 \nQ 1625 2713 2034 2713 \nQ 2441 2713 2670 2916 \nQ 2900 3119 2900 3481 \nQ 2900 3844 2670 4047 \nQ 2441 4250 2034 4250 \nQ 1625 4250 1398 4047 \nQ 1172 3844 1172 3481 \nz\n\" transform=\"scale(0.015625)\"/>\n       </defs>\n       <use xlink:href=\"#DejaVuSans-38\"/>\n      </g>\n     </g>\n    </g>\n    <g id=\"xtick_6\">\n     <g id=\"line2d_6\">\n      <g>\n       <use xlink:href=\"#m39378a3122\" x=\"225.403125\" y=\"145.8\" style=\"stroke: #000000; stroke-width: 0.8\"/>\n      </g>\n     </g>\n     <g id=\"text_6\">\n      <!-- 10 -->\n      <g transform=\"translate(219.040625 160.398438) scale(0.1 -0.1)\">\n       <defs>\n        <path id=\"DejaVuSans-31\" d=\"M 794 531 \nL 1825 531 \nL 1825 4091 \nL 703 3866 \nL 703 4441 \nL 1819 4666 \nL 2450 4666 \nL 2450 531 \nL 3481 531 \nL 3481 0 \nL 794 0 \nL 794 531 \nz\n\" transform=\"scale(0.015625)\"/>\n       </defs>\n       <use xlink:href=\"#DejaVuSans-31\"/>\n       <use xlink:href=\"#DejaVuSans-30\" x=\"63.623047\"/>\n      </g>\n     </g>\n    </g>\n    <g id=\"text_7\">\n     <!-- epoch -->\n     <g transform=\"translate(112.525 174.076563) scale(0.1 -0.1)\">\n      <defs>\n       <path id=\"DejaVuSans-65\" d=\"M 3597 1894 \nL 3597 1613 \nL 953 1613 \nQ 991 1019 1311 708 \nQ 1631 397 2203 397 \nQ 2534 397 2845 478 \nQ 3156 559 3463 722 \nL 3463 178 \nQ 3153 47 2828 -22 \nQ 2503 -91 2169 -91 \nQ 1331 -91 842 396 \nQ 353 884 353 1716 \nQ 353 2575 817 3079 \nQ 1281 3584 2069 3584 \nQ 2775 3584 3186 3129 \nQ 3597 2675 3597 1894 \nz\nM 3022 2063 \nQ 3016 2534 2758 2815 \nQ 2500 3097 2075 3097 \nQ 1594 3097 1305 2825 \nQ 1016 2553 972 2059 \nL 3022 2063 \nz\n\" transform=\"scale(0.015625)\"/>\n       <path id=\"DejaVuSans-70\" d=\"M 1159 525 \nL 1159 -1331 \nL 581 -1331 \nL 581 3500 \nL 1159 3500 \nL 1159 2969 \nQ 1341 3281 1617 3432 \nQ 1894 3584 2278 3584 \nQ 2916 3584 3314 3078 \nQ 3713 2572 3713 1747 \nQ 3713 922 3314 415 \nQ 2916 -91 2278 -91 \nQ 1894 -91 1617 61 \nQ 1341 213 1159 525 \nz\nM 3116 1747 \nQ 3116 2381 2855 2742 \nQ 2594 3103 2138 3103 \nQ 1681 3103 1420 2742 \nQ 1159 2381 1159 1747 \nQ 1159 1113 1420 752 \nQ 1681 391 2138 391 \nQ 2594 391 2855 752 \nQ 3116 1113 3116 1747 \nz\n\" transform=\"scale(0.015625)\"/>\n       <path id=\"DejaVuSans-6f\" d=\"M 1959 3097 \nQ 1497 3097 1228 2736 \nQ 959 2375 959 1747 \nQ 959 1119 1226 758 \nQ 1494 397 1959 397 \nQ 2419 397 2687 759 \nQ 2956 1122 2956 1747 \nQ 2956 2369 2687 2733 \nQ 2419 3097 1959 3097 \nz\nM 1959 3584 \nQ 2709 3584 3137 3096 \nQ 3566 2609 3566 1747 \nQ 3566 888 3137 398 \nQ 2709 -91 1959 -91 \nQ 1206 -91 779 398 \nQ 353 888 353 1747 \nQ 353 2609 779 3096 \nQ 1206 3584 1959 3584 \nz\n\" transform=\"scale(0.015625)\"/>\n       <path id=\"DejaVuSans-63\" d=\"M 3122 3366 \nL 3122 2828 \nQ 2878 2963 2633 3030 \nQ 2388 3097 2138 3097 \nQ 1578 3097 1268 2742 \nQ 959 2388 959 1747 \nQ 959 1106 1268 751 \nQ 1578 397 2138 397 \nQ 2388 397 2633 464 \nQ 2878 531 3122 666 \nL 3122 134 \nQ 2881 22 2623 -34 \nQ 2366 -91 2075 -91 \nQ 1284 -91 818 406 \nQ 353 903 353 1747 \nQ 353 2603 823 3093 \nQ 1294 3584 2113 3584 \nQ 2378 3584 2631 3529 \nQ 2884 3475 3122 3366 \nz\n\" transform=\"scale(0.015625)\"/>\n       <path id=\"DejaVuSans-68\" d=\"M 3513 2113 \nL 3513 0 \nL 2938 0 \nL 2938 2094 \nQ 2938 2591 2744 2837 \nQ 2550 3084 2163 3084 \nQ 1697 3084 1428 2787 \nQ 1159 2491 1159 1978 \nL 1159 0 \nL 581 0 \nL 581 4863 \nL 1159 4863 \nL 1159 2956 \nQ 1366 3272 1645 3428 \nQ 1925 3584 2291 3584 \nQ 2894 3584 3203 3211 \nQ 3513 2838 3513 2113 \nz\n\" transform=\"scale(0.015625)\"/>\n      </defs>\n      <use xlink:href=\"#DejaVuSans-65\"/>\n      <use xlink:href=\"#DejaVuSans-70\" x=\"61.523438\"/>\n      <use xlink:href=\"#DejaVuSans-6f\" x=\"125\"/>\n      <use xlink:href=\"#DejaVuSans-63\" x=\"186.181641\"/>\n      <use xlink:href=\"#DejaVuSans-68\" x=\"241.162109\"/>\n     </g>\n    </g>\n   </g>\n   <g id=\"matplotlib.axis_2\">\n    <g id=\"ytick_1\">\n     <g id=\"line2d_7\">\n      <defs>\n       <path id=\"m67cf429d41\" d=\"M 0 0 \nL -3.5 0 \n\" style=\"stroke: #000000; stroke-width: 0.8\"/>\n      </defs>\n      <g>\n       <use xlink:href=\"#m67cf429d41\" x=\"30.103125\" y=\"145.154347\" style=\"stroke: #000000; stroke-width: 0.8\"/>\n      </g>\n     </g>\n     <g id=\"text_8\">\n      <!-- 0.0 -->\n      <g transform=\"translate(7.2 148.953566) scale(0.1 -0.1)\">\n       <defs>\n        <path id=\"DejaVuSans-2e\" d=\"M 684 794 \nL 1344 794 \nL 1344 0 \nL 684 0 \nL 684 794 \nz\n\" transform=\"scale(0.015625)\"/>\n       </defs>\n       <use xlink:href=\"#DejaVuSans-30\"/>\n       <use xlink:href=\"#DejaVuSans-2e\" x=\"63.623047\"/>\n       <use xlink:href=\"#DejaVuSans-30\" x=\"95.410156\"/>\n      </g>\n     </g>\n    </g>\n    <g id=\"ytick_2\">\n     <g id=\"line2d_8\">\n      <g>\n       <use xlink:href=\"#m67cf429d41\" x=\"30.103125\" y=\"116.565967\" style=\"stroke: #000000; stroke-width: 0.8\"/>\n      </g>\n     </g>\n     <g id=\"text_9\">\n      <!-- 0.5 -->\n      <g transform=\"translate(7.2 120.365185) scale(0.1 -0.1)\">\n       <defs>\n        <path id=\"DejaVuSans-35\" d=\"M 691 4666 \nL 3169 4666 \nL 3169 4134 \nL 1269 4134 \nL 1269 2991 \nQ 1406 3038 1543 3061 \nQ 1681 3084 1819 3084 \nQ 2600 3084 3056 2656 \nQ 3513 2228 3513 1497 \nQ 3513 744 3044 326 \nQ 2575 -91 1722 -91 \nQ 1428 -91 1123 -41 \nQ 819 9 494 109 \nL 494 744 \nQ 775 591 1075 516 \nQ 1375 441 1709 441 \nQ 2250 441 2565 725 \nQ 2881 1009 2881 1497 \nQ 2881 1984 2565 2268 \nQ 2250 2553 1709 2553 \nQ 1456 2553 1204 2497 \nQ 953 2441 691 2322 \nL 691 4666 \nz\n\" transform=\"scale(0.015625)\"/>\n       </defs>\n       <use xlink:href=\"#DejaVuSans-30\"/>\n       <use xlink:href=\"#DejaVuSans-2e\" x=\"63.623047\"/>\n       <use xlink:href=\"#DejaVuSans-35\" x=\"95.410156\"/>\n      </g>\n     </g>\n    </g>\n    <g id=\"ytick_3\">\n     <g id=\"line2d_9\">\n      <g>\n       <use xlink:href=\"#m67cf429d41\" x=\"30.103125\" y=\"87.977586\" style=\"stroke: #000000; stroke-width: 0.8\"/>\n      </g>\n     </g>\n     <g id=\"text_10\">\n      <!-- 1.0 -->\n      <g transform=\"translate(7.2 91.776805) scale(0.1 -0.1)\">\n       <use xlink:href=\"#DejaVuSans-31\"/>\n       <use xlink:href=\"#DejaVuSans-2e\" x=\"63.623047\"/>\n       <use xlink:href=\"#DejaVuSans-30\" x=\"95.410156\"/>\n      </g>\n     </g>\n    </g>\n    <g id=\"ytick_4\">\n     <g id=\"line2d_10\">\n      <g>\n       <use xlink:href=\"#m67cf429d41\" x=\"30.103125\" y=\"59.389205\" style=\"stroke: #000000; stroke-width: 0.8\"/>\n      </g>\n     </g>\n     <g id=\"text_11\">\n      <!-- 1.5 -->\n      <g transform=\"translate(7.2 63.188424) scale(0.1 -0.1)\">\n       <use xlink:href=\"#DejaVuSans-31\"/>\n       <use xlink:href=\"#DejaVuSans-2e\" x=\"63.623047\"/>\n       <use xlink:href=\"#DejaVuSans-35\" x=\"95.410156\"/>\n      </g>\n     </g>\n    </g>\n    <g id=\"ytick_5\">\n     <g id=\"line2d_11\">\n      <g>\n       <use xlink:href=\"#m67cf429d41\" x=\"30.103125\" y=\"30.800824\" style=\"stroke: #000000; stroke-width: 0.8\"/>\n      </g>\n     </g>\n     <g id=\"text_12\">\n      <!-- 2.0 -->\n      <g transform=\"translate(7.2 34.600043) scale(0.1 -0.1)\">\n       <use xlink:href=\"#DejaVuSans-32\"/>\n       <use xlink:href=\"#DejaVuSans-2e\" x=\"63.623047\"/>\n       <use xlink:href=\"#DejaVuSans-30\" x=\"95.410156\"/>\n      </g>\n     </g>\n    </g>\n   </g>\n   <g id=\"line2d_12\">\n    <path d=\"M 34.954394 14.593049 \n\" clip-path=\"url(#p27662ee179)\" style=\"fill: none; stroke: #1f77b4; stroke-width: 1.5; stroke-linecap: square\"/>\n   </g>\n   <g id=\"line2d_13\">\n    <path d=\"M 34.954394 14.593049 \nL 44.698573 42.092511 \n\" clip-path=\"url(#p27662ee179)\" style=\"fill: none; stroke: #1f77b4; stroke-width: 1.5; stroke-linecap: square\"/>\n   </g>\n   <g id=\"line2d_14\">\n    <path d=\"M 34.954394 14.593049 \nL 44.698573 42.092511 \n\" clip-path=\"url(#p27662ee179)\" style=\"fill: none; stroke: #1f77b4; stroke-width: 1.5; stroke-linecap: square\"/>\n   </g>\n   <g id=\"line2d_15\">\n    <path d=\"M 49.633125 72.084461 \n\" clip-path=\"url(#p27662ee179)\" style=\"fill: none; stroke-dasharray: 5.55,2.4; stroke-dashoffset: 0; stroke: #ff7f0e; stroke-width: 1.5\"/>\n   </g>\n   <g id=\"line2d_16\"/>\n   <g id=\"line2d_17\">\n    <path d=\"M 34.954394 14.593049 \nL 44.698573 42.092511 \n\" clip-path=\"url(#p27662ee179)\" style=\"fill: none; stroke: #1f77b4; stroke-width: 1.5; stroke-linecap: square\"/>\n   </g>\n   <g id=\"line2d_18\">\n    <path d=\"M 49.633125 72.084461 \n\" clip-path=\"url(#p27662ee179)\" style=\"fill: none; stroke-dasharray: 5.55,2.4; stroke-dashoffset: 0; stroke: #ff7f0e; stroke-width: 1.5\"/>\n   </g>\n   <g id=\"line2d_19\">\n    <path d=\"M 49.633125 114.982749 \n\" clip-path=\"url(#p27662ee179)\" style=\"fill: none; stroke-dasharray: 9.6,2.4,1.5,2.4; stroke-dashoffset: 0; stroke: #2ca02c; stroke-width: 1.5\"/>\n   </g>\n   <g id=\"line2d_20\">\n    <path d=\"M 34.954394 14.593049 \nL 44.698573 42.092511 \nL 54.442752 75.90408 \n\" clip-path=\"url(#p27662ee179)\" style=\"fill: none; stroke: #1f77b4; stroke-width: 1.5; stroke-linecap: square\"/>\n   </g>\n   <g id=\"line2d_21\">\n    <path d=\"M 49.633125 72.084461 \n\" clip-path=\"url(#p27662ee179)\" style=\"fill: none; stroke-dasharray: 5.55,2.4; stroke-dashoffset: 0; stroke: #ff7f0e; stroke-width: 1.5\"/>\n   </g>\n   <g id=\"line2d_22\">\n    <path d=\"M 49.633125 114.982749 \n\" clip-path=\"url(#p27662ee179)\" style=\"fill: none; stroke-dasharray: 9.6,2.4,1.5,2.4; stroke-dashoffset: 0; stroke: #2ca02c; stroke-width: 1.5\"/>\n   </g>\n   <g id=\"line2d_23\">\n    <path d=\"M 34.954394 14.593049 \nL 44.698573 42.092511 \nL 54.442752 75.90408 \nL 64.186931 93.527754 \n\" clip-path=\"url(#p27662ee179)\" style=\"fill: none; stroke: #1f77b4; stroke-width: 1.5; stroke-linecap: square\"/>\n   </g>\n   <g id=\"line2d_24\">\n    <path d=\"M 49.633125 72.084461 \n\" clip-path=\"url(#p27662ee179)\" style=\"fill: none; stroke-dasharray: 5.55,2.4; stroke-dashoffset: 0; stroke: #ff7f0e; stroke-width: 1.5\"/>\n   </g>\n   <g id=\"line2d_25\">\n    <path d=\"M 49.633125 114.982749 \n\" clip-path=\"url(#p27662ee179)\" style=\"fill: none; stroke-dasharray: 9.6,2.4,1.5,2.4; stroke-dashoffset: 0; stroke: #2ca02c; stroke-width: 1.5\"/>\n   </g>\n   <g id=\"line2d_26\">\n    <path d=\"M 34.954394 14.593049 \nL 44.698573 42.092511 \nL 54.442752 75.90408 \nL 64.186931 93.527754 \n\" clip-path=\"url(#p27662ee179)\" style=\"fill: none; stroke: #1f77b4; stroke-width: 1.5; stroke-linecap: square\"/>\n   </g>\n   <g id=\"line2d_27\">\n    <path d=\"M 49.633125 72.084461 \nL 69.163125 96.163766 \n\" clip-path=\"url(#p27662ee179)\" style=\"fill: none; stroke-dasharray: 5.55,2.4; stroke-dashoffset: 0; stroke: #ff7f0e; stroke-width: 1.5\"/>\n   </g>\n   <g id=\"line2d_28\">\n    <path d=\"M 49.633125 114.982749 \n\" clip-path=\"url(#p27662ee179)\" style=\"fill: none; stroke-dasharray: 9.6,2.4,1.5,2.4; stroke-dashoffset: 0; stroke: #2ca02c; stroke-width: 1.5\"/>\n   </g>\n   <g id=\"line2d_29\">\n    <path d=\"M 34.954394 14.593049 \nL 44.698573 42.092511 \nL 54.442752 75.90408 \nL 64.186931 93.527754 \n\" clip-path=\"url(#p27662ee179)\" style=\"fill: none; stroke: #1f77b4; stroke-width: 1.5; stroke-linecap: square\"/>\n   </g>\n   <g id=\"line2d_30\">\n    <path d=\"M 49.633125 72.084461 \nL 69.163125 96.163766 \n\" clip-path=\"url(#p27662ee179)\" style=\"fill: none; stroke-dasharray: 5.55,2.4; stroke-dashoffset: 0; stroke: #ff7f0e; stroke-width: 1.5\"/>\n   </g>\n   <g id=\"line2d_31\">\n    <path d=\"M 49.633125 114.982749 \nL 69.163125 105.387322 \n\" clip-path=\"url(#p27662ee179)\" style=\"fill: none; stroke-dasharray: 9.6,2.4,1.5,2.4; stroke-dashoffset: 0; stroke: #2ca02c; stroke-width: 1.5\"/>\n   </g>\n   <g id=\"line2d_32\">\n    <path d=\"M 34.954394 14.593049 \nL 44.698573 42.092511 \nL 54.442752 75.90408 \nL 64.186931 93.527754 \nL 73.93111 97.78729 \n\" clip-path=\"url(#p27662ee179)\" style=\"fill: none; stroke: #1f77b4; stroke-width: 1.5; stroke-linecap: square\"/>\n   </g>\n   <g id=\"line2d_33\">\n    <path d=\"M 49.633125 72.084461 \nL 69.163125 96.163766 \n\" clip-path=\"url(#p27662ee179)\" style=\"fill: none; stroke-dasharray: 5.55,2.4; stroke-dashoffset: 0; stroke: #ff7f0e; stroke-width: 1.5\"/>\n   </g>\n   <g id=\"line2d_34\">\n    <path d=\"M 49.633125 114.982749 \nL 69.163125 105.387322 \n\" clip-path=\"url(#p27662ee179)\" style=\"fill: none; stroke-dasharray: 9.6,2.4,1.5,2.4; stroke-dashoffset: 0; stroke: #2ca02c; stroke-width: 1.5\"/>\n   </g>\n   <g id=\"line2d_35\">\n    <path d=\"M 34.954394 14.593049 \nL 44.698573 42.092511 \nL 54.442752 75.90408 \nL 64.186931 93.527754 \nL 73.93111 97.78729 \nL 83.675289 101.390584 \n\" clip-path=\"url(#p27662ee179)\" style=\"fill: none; stroke: #1f77b4; stroke-width: 1.5; stroke-linecap: square\"/>\n   </g>\n   <g id=\"line2d_36\">\n    <path d=\"M 49.633125 72.084461 \nL 69.163125 96.163766 \n\" clip-path=\"url(#p27662ee179)\" style=\"fill: none; stroke-dasharray: 5.55,2.4; stroke-dashoffset: 0; stroke: #ff7f0e; stroke-width: 1.5\"/>\n   </g>\n   <g id=\"line2d_37\">\n    <path d=\"M 49.633125 114.982749 \nL 69.163125 105.387322 \n\" clip-path=\"url(#p27662ee179)\" style=\"fill: none; stroke-dasharray: 9.6,2.4,1.5,2.4; stroke-dashoffset: 0; stroke: #2ca02c; stroke-width: 1.5\"/>\n   </g>\n   <g id=\"line2d_38\">\n    <path d=\"M 34.954394 14.593049 \nL 44.698573 42.092511 \nL 54.442752 75.90408 \nL 64.186931 93.527754 \nL 73.93111 97.78729 \nL 83.675289 101.390584 \n\" clip-path=\"url(#p27662ee179)\" style=\"fill: none; stroke: #1f77b4; stroke-width: 1.5; stroke-linecap: square\"/>\n   </g>\n   <g id=\"line2d_39\">\n    <path d=\"M 49.633125 72.084461 \nL 69.163125 96.163766 \nL 88.693125 101.182384 \n\" clip-path=\"url(#p27662ee179)\" style=\"fill: none; stroke-dasharray: 5.55,2.4; stroke-dashoffset: 0; stroke: #ff7f0e; stroke-width: 1.5\"/>\n   </g>\n   <g id=\"line2d_40\">\n    <path d=\"M 49.633125 114.982749 \nL 69.163125 105.387322 \n\" clip-path=\"url(#p27662ee179)\" style=\"fill: none; stroke-dasharray: 9.6,2.4,1.5,2.4; stroke-dashoffset: 0; stroke: #2ca02c; stroke-width: 1.5\"/>\n   </g>\n   <g id=\"line2d_41\">\n    <path d=\"M 34.954394 14.593049 \nL 44.698573 42.092511 \nL 54.442752 75.90408 \nL 64.186931 93.527754 \nL 73.93111 97.78729 \nL 83.675289 101.390584 \n\" clip-path=\"url(#p27662ee179)\" style=\"fill: none; stroke: #1f77b4; stroke-width: 1.5; stroke-linecap: square\"/>\n   </g>\n   <g id=\"line2d_42\">\n    <path d=\"M 49.633125 72.084461 \nL 69.163125 96.163766 \nL 88.693125 101.182384 \n\" clip-path=\"url(#p27662ee179)\" style=\"fill: none; stroke-dasharray: 5.55,2.4; stroke-dashoffset: 0; stroke: #ff7f0e; stroke-width: 1.5\"/>\n   </g>\n   <g id=\"line2d_43\">\n    <path d=\"M 49.633125 114.982749 \nL 69.163125 105.387322 \nL 88.693125 104.426083 \n\" clip-path=\"url(#p27662ee179)\" style=\"fill: none; stroke-dasharray: 9.6,2.4,1.5,2.4; stroke-dashoffset: 0; stroke: #2ca02c; stroke-width: 1.5\"/>\n   </g>\n   <g id=\"line2d_44\">\n    <path d=\"M 34.954394 14.593049 \nL 44.698573 42.092511 \nL 54.442752 75.90408 \nL 64.186931 93.527754 \nL 73.93111 97.78729 \nL 83.675289 101.390584 \nL 93.419468 103.012678 \n\" clip-path=\"url(#p27662ee179)\" style=\"fill: none; stroke: #1f77b4; stroke-width: 1.5; stroke-linecap: square\"/>\n   </g>\n   <g id=\"line2d_45\">\n    <path d=\"M 49.633125 72.084461 \nL 69.163125 96.163766 \nL 88.693125 101.182384 \n\" clip-path=\"url(#p27662ee179)\" style=\"fill: none; stroke-dasharray: 5.55,2.4; stroke-dashoffset: 0; stroke: #ff7f0e; stroke-width: 1.5\"/>\n   </g>\n   <g id=\"line2d_46\">\n    <path d=\"M 49.633125 114.982749 \nL 69.163125 105.387322 \nL 88.693125 104.426083 \n\" clip-path=\"url(#p27662ee179)\" style=\"fill: none; stroke-dasharray: 9.6,2.4,1.5,2.4; stroke-dashoffset: 0; stroke: #2ca02c; stroke-width: 1.5\"/>\n   </g>\n   <g id=\"line2d_47\">\n    <path d=\"M 34.954394 14.593049 \nL 44.698573 42.092511 \nL 54.442752 75.90408 \nL 64.186931 93.527754 \nL 73.93111 97.78729 \nL 83.675289 101.390584 \nL 93.419468 103.012678 \nL 103.163647 86.195253 \n\" clip-path=\"url(#p27662ee179)\" style=\"fill: none; stroke: #1f77b4; stroke-width: 1.5; stroke-linecap: square\"/>\n   </g>\n   <g id=\"line2d_48\">\n    <path d=\"M 49.633125 72.084461 \nL 69.163125 96.163766 \nL 88.693125 101.182384 \n\" clip-path=\"url(#p27662ee179)\" style=\"fill: none; stroke-dasharray: 5.55,2.4; stroke-dashoffset: 0; stroke: #ff7f0e; stroke-width: 1.5\"/>\n   </g>\n   <g id=\"line2d_49\">\n    <path d=\"M 49.633125 114.982749 \nL 69.163125 105.387322 \nL 88.693125 104.426083 \n\" clip-path=\"url(#p27662ee179)\" style=\"fill: none; stroke-dasharray: 9.6,2.4,1.5,2.4; stroke-dashoffset: 0; stroke: #2ca02c; stroke-width: 1.5\"/>\n   </g>\n   <g id=\"line2d_50\">\n    <path d=\"M 34.954394 14.593049 \nL 44.698573 42.092511 \nL 54.442752 75.90408 \nL 64.186931 93.527754 \nL 73.93111 97.78729 \nL 83.675289 101.390584 \nL 93.419468 103.012678 \nL 103.163647 86.195253 \n\" clip-path=\"url(#p27662ee179)\" style=\"fill: none; stroke: #1f77b4; stroke-width: 1.5; stroke-linecap: square\"/>\n   </g>\n   <g id=\"line2d_51\">\n    <path d=\"M 49.633125 72.084461 \nL 69.163125 96.163766 \nL 88.693125 101.182384 \nL 108.223125 13.5 \n\" clip-path=\"url(#p27662ee179)\" style=\"fill: none; stroke-dasharray: 5.55,2.4; stroke-dashoffset: 0; stroke: #ff7f0e; stroke-width: 1.5\"/>\n   </g>\n   <g id=\"line2d_52\">\n    <path d=\"M 49.633125 114.982749 \nL 69.163125 105.387322 \nL 88.693125 104.426083 \n\" clip-path=\"url(#p27662ee179)\" style=\"fill: none; stroke-dasharray: 9.6,2.4,1.5,2.4; stroke-dashoffset: 0; stroke: #2ca02c; stroke-width: 1.5\"/>\n   </g>\n   <g id=\"line2d_53\">\n    <path d=\"M 34.954394 14.593049 \nL 44.698573 42.092511 \nL 54.442752 75.90408 \nL 64.186931 93.527754 \nL 73.93111 97.78729 \nL 83.675289 101.390584 \nL 93.419468 103.012678 \nL 103.163647 86.195253 \n\" clip-path=\"url(#p27662ee179)\" style=\"fill: none; stroke: #1f77b4; stroke-width: 1.5; stroke-linecap: square\"/>\n   </g>\n   <g id=\"line2d_54\">\n    <path d=\"M 49.633125 72.084461 \nL 69.163125 96.163766 \nL 88.693125 101.182384 \nL 108.223125 13.5 \n\" clip-path=\"url(#p27662ee179)\" style=\"fill: none; stroke-dasharray: 5.55,2.4; stroke-dashoffset: 0; stroke: #ff7f0e; stroke-width: 1.5\"/>\n   </g>\n   <g id=\"line2d_55\">\n    <path d=\"M 49.633125 114.982749 \nL 69.163125 105.387322 \nL 88.693125 104.426083 \nL 108.223125 139.5 \n\" clip-path=\"url(#p27662ee179)\" style=\"fill: none; stroke-dasharray: 9.6,2.4,1.5,2.4; stroke-dashoffset: 0; stroke: #2ca02c; stroke-width: 1.5\"/>\n   </g>\n   <g id=\"line2d_56\">\n    <path d=\"M 34.954394 14.593049 \nL 44.698573 42.092511 \nL 54.442752 75.90408 \nL 64.186931 93.527754 \nL 73.93111 97.78729 \nL 83.675289 101.390584 \nL 93.419468 103.012678 \nL 103.163647 86.195253 \nL 112.907826 13.5 \n\" clip-path=\"url(#p27662ee179)\" style=\"fill: none; stroke: #1f77b4; stroke-width: 1.5; stroke-linecap: square\"/>\n   </g>\n   <g id=\"line2d_57\">\n    <path d=\"M 49.633125 72.084461 \nL 69.163125 96.163766 \nL 88.693125 101.182384 \nL 108.223125 13.5 \n\" clip-path=\"url(#p27662ee179)\" style=\"fill: none; stroke-dasharray: 5.55,2.4; stroke-dashoffset: 0; stroke: #ff7f0e; stroke-width: 1.5\"/>\n   </g>\n   <g id=\"line2d_58\">\n    <path d=\"M 49.633125 114.982749 \nL 69.163125 105.387322 \nL 88.693125 104.426083 \nL 108.223125 139.5 \n\" clip-path=\"url(#p27662ee179)\" style=\"fill: none; stroke-dasharray: 9.6,2.4,1.5,2.4; stroke-dashoffset: 0; stroke: #2ca02c; stroke-width: 1.5\"/>\n   </g>\n   <g id=\"line2d_59\">\n    <path d=\"M 34.954394 14.593049 \nL 44.698573 42.092511 \nL 54.442752 75.90408 \nL 64.186931 93.527754 \nL 73.93111 97.78729 \nL 83.675289 101.390584 \nL 93.419468 103.012678 \nL 103.163647 86.195253 \nL 112.907826 13.5 \nL 122.652006 13.5 \n\" clip-path=\"url(#p27662ee179)\" style=\"fill: none; stroke: #1f77b4; stroke-width: 1.5; stroke-linecap: square\"/>\n   </g>\n   <g id=\"line2d_60\">\n    <path d=\"M 49.633125 72.084461 \nL 69.163125 96.163766 \nL 88.693125 101.182384 \nL 108.223125 13.5 \n\" clip-path=\"url(#p27662ee179)\" style=\"fill: none; stroke-dasharray: 5.55,2.4; stroke-dashoffset: 0; stroke: #ff7f0e; stroke-width: 1.5\"/>\n   </g>\n   <g id=\"line2d_61\">\n    <path d=\"M 49.633125 114.982749 \nL 69.163125 105.387322 \nL 88.693125 104.426083 \nL 108.223125 139.5 \n\" clip-path=\"url(#p27662ee179)\" style=\"fill: none; stroke-dasharray: 9.6,2.4,1.5,2.4; stroke-dashoffset: 0; stroke: #2ca02c; stroke-width: 1.5\"/>\n   </g>\n   <g id=\"line2d_62\">\n    <path d=\"M 34.954394 14.593049 \nL 44.698573 42.092511 \nL 54.442752 75.90408 \nL 64.186931 93.527754 \nL 73.93111 97.78729 \nL 83.675289 101.390584 \nL 93.419468 103.012678 \nL 103.163647 86.195253 \nL 112.907826 13.5 \nL 122.652006 13.5 \n\" clip-path=\"url(#p27662ee179)\" style=\"fill: none; stroke: #1f77b4; stroke-width: 1.5; stroke-linecap: square\"/>\n   </g>\n   <g id=\"line2d_63\">\n    <path d=\"M 49.633125 72.084461 \nL 69.163125 96.163766 \nL 88.693125 101.182384 \nL 108.223125 13.5 \nL 127.753125 13.5 \n\" clip-path=\"url(#p27662ee179)\" style=\"fill: none; stroke-dasharray: 5.55,2.4; stroke-dashoffset: 0; stroke: #ff7f0e; stroke-width: 1.5\"/>\n   </g>\n   <g id=\"line2d_64\">\n    <path d=\"M 49.633125 114.982749 \nL 69.163125 105.387322 \nL 88.693125 104.426083 \nL 108.223125 139.5 \n\" clip-path=\"url(#p27662ee179)\" style=\"fill: none; stroke-dasharray: 9.6,2.4,1.5,2.4; stroke-dashoffset: 0; stroke: #2ca02c; stroke-width: 1.5\"/>\n   </g>\n   <g id=\"line2d_65\">\n    <path d=\"M 34.954394 14.593049 \nL 44.698573 42.092511 \nL 54.442752 75.90408 \nL 64.186931 93.527754 \nL 73.93111 97.78729 \nL 83.675289 101.390584 \nL 93.419468 103.012678 \nL 103.163647 86.195253 \nL 112.907826 13.5 \nL 122.652006 13.5 \n\" clip-path=\"url(#p27662ee179)\" style=\"fill: none; stroke: #1f77b4; stroke-width: 1.5; stroke-linecap: square\"/>\n   </g>\n   <g id=\"line2d_66\">\n    <path d=\"M 49.633125 72.084461 \nL 69.163125 96.163766 \nL 88.693125 101.182384 \nL 108.223125 13.5 \nL 127.753125 13.5 \n\" clip-path=\"url(#p27662ee179)\" style=\"fill: none; stroke-dasharray: 5.55,2.4; stroke-dashoffset: 0; stroke: #ff7f0e; stroke-width: 1.5\"/>\n   </g>\n   <g id=\"line2d_67\">\n    <path d=\"M 49.633125 114.982749 \nL 69.163125 105.387322 \nL 88.693125 104.426083 \nL 108.223125 139.5 \nL 127.753125 139.5 \n\" clip-path=\"url(#p27662ee179)\" style=\"fill: none; stroke-dasharray: 9.6,2.4,1.5,2.4; stroke-dashoffset: 0; stroke: #2ca02c; stroke-width: 1.5\"/>\n   </g>\n   <g id=\"line2d_68\">\n    <path d=\"M 34.954394 14.593049 \nL 44.698573 42.092511 \nL 54.442752 75.90408 \nL 64.186931 93.527754 \nL 73.93111 97.78729 \nL 83.675289 101.390584 \nL 93.419468 103.012678 \nL 103.163647 86.195253 \nL 112.907826 13.5 \nL 122.652006 13.5 \nL 132.396185 13.5 \n\" clip-path=\"url(#p27662ee179)\" style=\"fill: none; stroke: #1f77b4; stroke-width: 1.5; stroke-linecap: square\"/>\n   </g>\n   <g id=\"line2d_69\">\n    <path d=\"M 49.633125 72.084461 \nL 69.163125 96.163766 \nL 88.693125 101.182384 \nL 108.223125 13.5 \nL 127.753125 13.5 \n\" clip-path=\"url(#p27662ee179)\" style=\"fill: none; stroke-dasharray: 5.55,2.4; stroke-dashoffset: 0; stroke: #ff7f0e; stroke-width: 1.5\"/>\n   </g>\n   <g id=\"line2d_70\">\n    <path d=\"M 49.633125 114.982749 \nL 69.163125 105.387322 \nL 88.693125 104.426083 \nL 108.223125 139.5 \nL 127.753125 139.5 \n\" clip-path=\"url(#p27662ee179)\" style=\"fill: none; stroke-dasharray: 9.6,2.4,1.5,2.4; stroke-dashoffset: 0; stroke: #2ca02c; stroke-width: 1.5\"/>\n   </g>\n   <g id=\"line2d_71\">\n    <path d=\"M 34.954394 14.593049 \nL 44.698573 42.092511 \nL 54.442752 75.90408 \nL 64.186931 93.527754 \nL 73.93111 97.78729 \nL 83.675289 101.390584 \nL 93.419468 103.012678 \nL 103.163647 86.195253 \nL 112.907826 13.5 \nL 122.652006 13.5 \nL 132.396185 13.5 \nL 142.140364 13.5 \n\" clip-path=\"url(#p27662ee179)\" style=\"fill: none; stroke: #1f77b4; stroke-width: 1.5; stroke-linecap: square\"/>\n   </g>\n   <g id=\"line2d_72\">\n    <path d=\"M 49.633125 72.084461 \nL 69.163125 96.163766 \nL 88.693125 101.182384 \nL 108.223125 13.5 \nL 127.753125 13.5 \n\" clip-path=\"url(#p27662ee179)\" style=\"fill: none; stroke-dasharray: 5.55,2.4; stroke-dashoffset: 0; stroke: #ff7f0e; stroke-width: 1.5\"/>\n   </g>\n   <g id=\"line2d_73\">\n    <path d=\"M 49.633125 114.982749 \nL 69.163125 105.387322 \nL 88.693125 104.426083 \nL 108.223125 139.5 \nL 127.753125 139.5 \n\" clip-path=\"url(#p27662ee179)\" style=\"fill: none; stroke-dasharray: 9.6,2.4,1.5,2.4; stroke-dashoffset: 0; stroke: #2ca02c; stroke-width: 1.5\"/>\n   </g>\n   <g id=\"line2d_74\">\n    <path d=\"M 34.954394 14.593049 \nL 44.698573 42.092511 \nL 54.442752 75.90408 \nL 64.186931 93.527754 \nL 73.93111 97.78729 \nL 83.675289 101.390584 \nL 93.419468 103.012678 \nL 103.163647 86.195253 \nL 112.907826 13.5 \nL 122.652006 13.5 \nL 132.396185 13.5 \nL 142.140364 13.5 \n\" clip-path=\"url(#p27662ee179)\" style=\"fill: none; stroke: #1f77b4; stroke-width: 1.5; stroke-linecap: square\"/>\n   </g>\n   <g id=\"line2d_75\">\n    <path d=\"M 49.633125 72.084461 \nL 69.163125 96.163766 \nL 88.693125 101.182384 \nL 108.223125 13.5 \nL 127.753125 13.5 \nL 147.283125 13.5 \n\" clip-path=\"url(#p27662ee179)\" style=\"fill: none; stroke-dasharray: 5.55,2.4; stroke-dashoffset: 0; stroke: #ff7f0e; stroke-width: 1.5\"/>\n   </g>\n   <g id=\"line2d_76\">\n    <path d=\"M 49.633125 114.982749 \nL 69.163125 105.387322 \nL 88.693125 104.426083 \nL 108.223125 139.5 \nL 127.753125 139.5 \n\" clip-path=\"url(#p27662ee179)\" style=\"fill: none; stroke-dasharray: 9.6,2.4,1.5,2.4; stroke-dashoffset: 0; stroke: #2ca02c; stroke-width: 1.5\"/>\n   </g>\n   <g id=\"line2d_77\">\n    <path d=\"M 34.954394 14.593049 \nL 44.698573 42.092511 \nL 54.442752 75.90408 \nL 64.186931 93.527754 \nL 73.93111 97.78729 \nL 83.675289 101.390584 \nL 93.419468 103.012678 \nL 103.163647 86.195253 \nL 112.907826 13.5 \nL 122.652006 13.5 \nL 132.396185 13.5 \nL 142.140364 13.5 \n\" clip-path=\"url(#p27662ee179)\" style=\"fill: none; stroke: #1f77b4; stroke-width: 1.5; stroke-linecap: square\"/>\n   </g>\n   <g id=\"line2d_78\">\n    <path d=\"M 49.633125 72.084461 \nL 69.163125 96.163766 \nL 88.693125 101.182384 \nL 108.223125 13.5 \nL 127.753125 13.5 \nL 147.283125 13.5 \n\" clip-path=\"url(#p27662ee179)\" style=\"fill: none; stroke-dasharray: 5.55,2.4; stroke-dashoffset: 0; stroke: #ff7f0e; stroke-width: 1.5\"/>\n   </g>\n   <g id=\"line2d_79\">\n    <path d=\"M 49.633125 114.982749 \nL 69.163125 105.387322 \nL 88.693125 104.426083 \nL 108.223125 139.5 \nL 127.753125 139.5 \nL 147.283125 139.5 \n\" clip-path=\"url(#p27662ee179)\" style=\"fill: none; stroke-dasharray: 9.6,2.4,1.5,2.4; stroke-dashoffset: 0; stroke: #2ca02c; stroke-width: 1.5\"/>\n   </g>\n   <g id=\"line2d_80\">\n    <path d=\"M 34.954394 14.593049 \nL 44.698573 42.092511 \nL 54.442752 75.90408 \nL 64.186931 93.527754 \nL 73.93111 97.78729 \nL 83.675289 101.390584 \nL 93.419468 103.012678 \nL 103.163647 86.195253 \nL 112.907826 13.5 \nL 122.652006 13.5 \nL 132.396185 13.5 \nL 142.140364 13.5 \nL 151.884543 13.5 \n\" clip-path=\"url(#p27662ee179)\" style=\"fill: none; stroke: #1f77b4; stroke-width: 1.5; stroke-linecap: square\"/>\n   </g>\n   <g id=\"line2d_81\">\n    <path d=\"M 49.633125 72.084461 \nL 69.163125 96.163766 \nL 88.693125 101.182384 \nL 108.223125 13.5 \nL 127.753125 13.5 \nL 147.283125 13.5 \n\" clip-path=\"url(#p27662ee179)\" style=\"fill: none; stroke-dasharray: 5.55,2.4; stroke-dashoffset: 0; stroke: #ff7f0e; stroke-width: 1.5\"/>\n   </g>\n   <g id=\"line2d_82\">\n    <path d=\"M 49.633125 114.982749 \nL 69.163125 105.387322 \nL 88.693125 104.426083 \nL 108.223125 139.5 \nL 127.753125 139.5 \nL 147.283125 139.5 \n\" clip-path=\"url(#p27662ee179)\" style=\"fill: none; stroke-dasharray: 9.6,2.4,1.5,2.4; stroke-dashoffset: 0; stroke: #2ca02c; stroke-width: 1.5\"/>\n   </g>\n   <g id=\"line2d_83\">\n    <path d=\"M 34.954394 14.593049 \nL 44.698573 42.092511 \nL 54.442752 75.90408 \nL 64.186931 93.527754 \nL 73.93111 97.78729 \nL 83.675289 101.390584 \nL 93.419468 103.012678 \nL 103.163647 86.195253 \nL 112.907826 13.5 \nL 122.652006 13.5 \nL 132.396185 13.5 \nL 142.140364 13.5 \nL 151.884543 13.5 \nL 161.628722 13.5 \n\" clip-path=\"url(#p27662ee179)\" style=\"fill: none; stroke: #1f77b4; stroke-width: 1.5; stroke-linecap: square\"/>\n   </g>\n   <g id=\"line2d_84\">\n    <path d=\"M 49.633125 72.084461 \nL 69.163125 96.163766 \nL 88.693125 101.182384 \nL 108.223125 13.5 \nL 127.753125 13.5 \nL 147.283125 13.5 \n\" clip-path=\"url(#p27662ee179)\" style=\"fill: none; stroke-dasharray: 5.55,2.4; stroke-dashoffset: 0; stroke: #ff7f0e; stroke-width: 1.5\"/>\n   </g>\n   <g id=\"line2d_85\">\n    <path d=\"M 49.633125 114.982749 \nL 69.163125 105.387322 \nL 88.693125 104.426083 \nL 108.223125 139.5 \nL 127.753125 139.5 \nL 147.283125 139.5 \n\" clip-path=\"url(#p27662ee179)\" style=\"fill: none; stroke-dasharray: 9.6,2.4,1.5,2.4; stroke-dashoffset: 0; stroke: #2ca02c; stroke-width: 1.5\"/>\n   </g>\n   <g id=\"line2d_86\">\n    <path d=\"M 34.954394 14.593049 \nL 44.698573 42.092511 \nL 54.442752 75.90408 \nL 64.186931 93.527754 \nL 73.93111 97.78729 \nL 83.675289 101.390584 \nL 93.419468 103.012678 \nL 103.163647 86.195253 \nL 112.907826 13.5 \nL 122.652006 13.5 \nL 132.396185 13.5 \nL 142.140364 13.5 \nL 151.884543 13.5 \nL 161.628722 13.5 \n\" clip-path=\"url(#p27662ee179)\" style=\"fill: none; stroke: #1f77b4; stroke-width: 1.5; stroke-linecap: square\"/>\n   </g>\n   <g id=\"line2d_87\">\n    <path d=\"M 49.633125 72.084461 \nL 69.163125 96.163766 \nL 88.693125 101.182384 \nL 108.223125 13.5 \nL 127.753125 13.5 \nL 147.283125 13.5 \nL 166.813125 13.5 \n\" clip-path=\"url(#p27662ee179)\" style=\"fill: none; stroke-dasharray: 5.55,2.4; stroke-dashoffset: 0; stroke: #ff7f0e; stroke-width: 1.5\"/>\n   </g>\n   <g id=\"line2d_88\">\n    <path d=\"M 49.633125 114.982749 \nL 69.163125 105.387322 \nL 88.693125 104.426083 \nL 108.223125 139.5 \nL 127.753125 139.5 \nL 147.283125 139.5 \n\" clip-path=\"url(#p27662ee179)\" style=\"fill: none; stroke-dasharray: 9.6,2.4,1.5,2.4; stroke-dashoffset: 0; stroke: #2ca02c; stroke-width: 1.5\"/>\n   </g>\n   <g id=\"line2d_89\">\n    <path d=\"M 34.954394 14.593049 \nL 44.698573 42.092511 \nL 54.442752 75.90408 \nL 64.186931 93.527754 \nL 73.93111 97.78729 \nL 83.675289 101.390584 \nL 93.419468 103.012678 \nL 103.163647 86.195253 \nL 112.907826 13.5 \nL 122.652006 13.5 \nL 132.396185 13.5 \nL 142.140364 13.5 \nL 151.884543 13.5 \nL 161.628722 13.5 \n\" clip-path=\"url(#p27662ee179)\" style=\"fill: none; stroke: #1f77b4; stroke-width: 1.5; stroke-linecap: square\"/>\n   </g>\n   <g id=\"line2d_90\">\n    <path d=\"M 49.633125 72.084461 \nL 69.163125 96.163766 \nL 88.693125 101.182384 \nL 108.223125 13.5 \nL 127.753125 13.5 \nL 147.283125 13.5 \nL 166.813125 13.5 \n\" clip-path=\"url(#p27662ee179)\" style=\"fill: none; stroke-dasharray: 5.55,2.4; stroke-dashoffset: 0; stroke: #ff7f0e; stroke-width: 1.5\"/>\n   </g>\n   <g id=\"line2d_91\">\n    <path d=\"M 49.633125 114.982749 \nL 69.163125 105.387322 \nL 88.693125 104.426083 \nL 108.223125 139.5 \nL 127.753125 139.5 \nL 147.283125 139.5 \nL 166.813125 139.5 \n\" clip-path=\"url(#p27662ee179)\" style=\"fill: none; stroke-dasharray: 9.6,2.4,1.5,2.4; stroke-dashoffset: 0; stroke: #2ca02c; stroke-width: 1.5\"/>\n   </g>\n   <g id=\"line2d_92\">\n    <path d=\"M 34.954394 14.593049 \nL 44.698573 42.092511 \nL 54.442752 75.90408 \nL 64.186931 93.527754 \nL 73.93111 97.78729 \nL 83.675289 101.390584 \nL 93.419468 103.012678 \nL 103.163647 86.195253 \nL 112.907826 13.5 \nL 122.652006 13.5 \nL 132.396185 13.5 \nL 142.140364 13.5 \nL 151.884543 13.5 \nL 161.628722 13.5 \nL 171.372901 13.5 \n\" clip-path=\"url(#p27662ee179)\" style=\"fill: none; stroke: #1f77b4; stroke-width: 1.5; stroke-linecap: square\"/>\n   </g>\n   <g id=\"line2d_93\">\n    <path d=\"M 49.633125 72.084461 \nL 69.163125 96.163766 \nL 88.693125 101.182384 \nL 108.223125 13.5 \nL 127.753125 13.5 \nL 147.283125 13.5 \nL 166.813125 13.5 \n\" clip-path=\"url(#p27662ee179)\" style=\"fill: none; stroke-dasharray: 5.55,2.4; stroke-dashoffset: 0; stroke: #ff7f0e; stroke-width: 1.5\"/>\n   </g>\n   <g id=\"line2d_94\">\n    <path d=\"M 49.633125 114.982749 \nL 69.163125 105.387322 \nL 88.693125 104.426083 \nL 108.223125 139.5 \nL 127.753125 139.5 \nL 147.283125 139.5 \nL 166.813125 139.5 \n\" clip-path=\"url(#p27662ee179)\" style=\"fill: none; stroke-dasharray: 9.6,2.4,1.5,2.4; stroke-dashoffset: 0; stroke: #2ca02c; stroke-width: 1.5\"/>\n   </g>\n   <g id=\"line2d_95\">\n    <path d=\"M 34.954394 14.593049 \nL 44.698573 42.092511 \nL 54.442752 75.90408 \nL 64.186931 93.527754 \nL 73.93111 97.78729 \nL 83.675289 101.390584 \nL 93.419468 103.012678 \nL 103.163647 86.195253 \nL 112.907826 13.5 \nL 122.652006 13.5 \nL 132.396185 13.5 \nL 142.140364 13.5 \nL 151.884543 13.5 \nL 161.628722 13.5 \nL 171.372901 13.5 \nL 181.11708 13.5 \n\" clip-path=\"url(#p27662ee179)\" style=\"fill: none; stroke: #1f77b4; stroke-width: 1.5; stroke-linecap: square\"/>\n   </g>\n   <g id=\"line2d_96\">\n    <path d=\"M 49.633125 72.084461 \nL 69.163125 96.163766 \nL 88.693125 101.182384 \nL 108.223125 13.5 \nL 127.753125 13.5 \nL 147.283125 13.5 \nL 166.813125 13.5 \n\" clip-path=\"url(#p27662ee179)\" style=\"fill: none; stroke-dasharray: 5.55,2.4; stroke-dashoffset: 0; stroke: #ff7f0e; stroke-width: 1.5\"/>\n   </g>\n   <g id=\"line2d_97\">\n    <path d=\"M 49.633125 114.982749 \nL 69.163125 105.387322 \nL 88.693125 104.426083 \nL 108.223125 139.5 \nL 127.753125 139.5 \nL 147.283125 139.5 \nL 166.813125 139.5 \n\" clip-path=\"url(#p27662ee179)\" style=\"fill: none; stroke-dasharray: 9.6,2.4,1.5,2.4; stroke-dashoffset: 0; stroke: #2ca02c; stroke-width: 1.5\"/>\n   </g>\n   <g id=\"line2d_98\">\n    <path d=\"M 34.954394 14.593049 \nL 44.698573 42.092511 \nL 54.442752 75.90408 \nL 64.186931 93.527754 \nL 73.93111 97.78729 \nL 83.675289 101.390584 \nL 93.419468 103.012678 \nL 103.163647 86.195253 \nL 112.907826 13.5 \nL 122.652006 13.5 \nL 132.396185 13.5 \nL 142.140364 13.5 \nL 151.884543 13.5 \nL 161.628722 13.5 \nL 171.372901 13.5 \nL 181.11708 13.5 \n\" clip-path=\"url(#p27662ee179)\" style=\"fill: none; stroke: #1f77b4; stroke-width: 1.5; stroke-linecap: square\"/>\n   </g>\n   <g id=\"line2d_99\">\n    <path d=\"M 49.633125 72.084461 \nL 69.163125 96.163766 \nL 88.693125 101.182384 \nL 108.223125 13.5 \nL 127.753125 13.5 \nL 147.283125 13.5 \nL 166.813125 13.5 \nL 186.343125 13.5 \n\" clip-path=\"url(#p27662ee179)\" style=\"fill: none; stroke-dasharray: 5.55,2.4; stroke-dashoffset: 0; stroke: #ff7f0e; stroke-width: 1.5\"/>\n   </g>\n   <g id=\"line2d_100\">\n    <path d=\"M 49.633125 114.982749 \nL 69.163125 105.387322 \nL 88.693125 104.426083 \nL 108.223125 139.5 \nL 127.753125 139.5 \nL 147.283125 139.5 \nL 166.813125 139.5 \n\" clip-path=\"url(#p27662ee179)\" style=\"fill: none; stroke-dasharray: 9.6,2.4,1.5,2.4; stroke-dashoffset: 0; stroke: #2ca02c; stroke-width: 1.5\"/>\n   </g>\n   <g id=\"line2d_101\">\n    <path d=\"M 34.954394 14.593049 \nL 44.698573 42.092511 \nL 54.442752 75.90408 \nL 64.186931 93.527754 \nL 73.93111 97.78729 \nL 83.675289 101.390584 \nL 93.419468 103.012678 \nL 103.163647 86.195253 \nL 112.907826 13.5 \nL 122.652006 13.5 \nL 132.396185 13.5 \nL 142.140364 13.5 \nL 151.884543 13.5 \nL 161.628722 13.5 \nL 171.372901 13.5 \nL 181.11708 13.5 \n\" clip-path=\"url(#p27662ee179)\" style=\"fill: none; stroke: #1f77b4; stroke-width: 1.5; stroke-linecap: square\"/>\n   </g>\n   <g id=\"line2d_102\">\n    <path d=\"M 49.633125 72.084461 \nL 69.163125 96.163766 \nL 88.693125 101.182384 \nL 108.223125 13.5 \nL 127.753125 13.5 \nL 147.283125 13.5 \nL 166.813125 13.5 \nL 186.343125 13.5 \n\" clip-path=\"url(#p27662ee179)\" style=\"fill: none; stroke-dasharray: 5.55,2.4; stroke-dashoffset: 0; stroke: #ff7f0e; stroke-width: 1.5\"/>\n   </g>\n   <g id=\"line2d_103\">\n    <path d=\"M 49.633125 114.982749 \nL 69.163125 105.387322 \nL 88.693125 104.426083 \nL 108.223125 139.5 \nL 127.753125 139.5 \nL 147.283125 139.5 \nL 166.813125 139.5 \nL 186.343125 139.5 \n\" clip-path=\"url(#p27662ee179)\" style=\"fill: none; stroke-dasharray: 9.6,2.4,1.5,2.4; stroke-dashoffset: 0; stroke: #2ca02c; stroke-width: 1.5\"/>\n   </g>\n   <g id=\"line2d_104\">\n    <path d=\"M 34.954394 14.593049 \nL 44.698573 42.092511 \nL 54.442752 75.90408 \nL 64.186931 93.527754 \nL 73.93111 97.78729 \nL 83.675289 101.390584 \nL 93.419468 103.012678 \nL 103.163647 86.195253 \nL 112.907826 13.5 \nL 122.652006 13.5 \nL 132.396185 13.5 \nL 142.140364 13.5 \nL 151.884543 13.5 \nL 161.628722 13.5 \nL 171.372901 13.5 \nL 181.11708 13.5 \nL 190.861259 13.5 \n\" clip-path=\"url(#p27662ee179)\" style=\"fill: none; stroke: #1f77b4; stroke-width: 1.5; stroke-linecap: square\"/>\n   </g>\n   <g id=\"line2d_105\">\n    <path d=\"M 49.633125 72.084461 \nL 69.163125 96.163766 \nL 88.693125 101.182384 \nL 108.223125 13.5 \nL 127.753125 13.5 \nL 147.283125 13.5 \nL 166.813125 13.5 \nL 186.343125 13.5 \n\" clip-path=\"url(#p27662ee179)\" style=\"fill: none; stroke-dasharray: 5.55,2.4; stroke-dashoffset: 0; stroke: #ff7f0e; stroke-width: 1.5\"/>\n   </g>\n   <g id=\"line2d_106\">\n    <path d=\"M 49.633125 114.982749 \nL 69.163125 105.387322 \nL 88.693125 104.426083 \nL 108.223125 139.5 \nL 127.753125 139.5 \nL 147.283125 139.5 \nL 166.813125 139.5 \nL 186.343125 139.5 \n\" clip-path=\"url(#p27662ee179)\" style=\"fill: none; stroke-dasharray: 9.6,2.4,1.5,2.4; stroke-dashoffset: 0; stroke: #2ca02c; stroke-width: 1.5\"/>\n   </g>\n   <g id=\"line2d_107\">\n    <path d=\"M 34.954394 14.593049 \nL 44.698573 42.092511 \nL 54.442752 75.90408 \nL 64.186931 93.527754 \nL 73.93111 97.78729 \nL 83.675289 101.390584 \nL 93.419468 103.012678 \nL 103.163647 86.195253 \nL 112.907826 13.5 \nL 122.652006 13.5 \nL 132.396185 13.5 \nL 142.140364 13.5 \nL 151.884543 13.5 \nL 161.628722 13.5 \nL 171.372901 13.5 \nL 181.11708 13.5 \nL 190.861259 13.5 \nL 200.605438 13.5 \n\" clip-path=\"url(#p27662ee179)\" style=\"fill: none; stroke: #1f77b4; stroke-width: 1.5; stroke-linecap: square\"/>\n   </g>\n   <g id=\"line2d_108\">\n    <path d=\"M 49.633125 72.084461 \nL 69.163125 96.163766 \nL 88.693125 101.182384 \nL 108.223125 13.5 \nL 127.753125 13.5 \nL 147.283125 13.5 \nL 166.813125 13.5 \nL 186.343125 13.5 \n\" clip-path=\"url(#p27662ee179)\" style=\"fill: none; stroke-dasharray: 5.55,2.4; stroke-dashoffset: 0; stroke: #ff7f0e; stroke-width: 1.5\"/>\n   </g>\n   <g id=\"line2d_109\">\n    <path d=\"M 49.633125 114.982749 \nL 69.163125 105.387322 \nL 88.693125 104.426083 \nL 108.223125 139.5 \nL 127.753125 139.5 \nL 147.283125 139.5 \nL 166.813125 139.5 \nL 186.343125 139.5 \n\" clip-path=\"url(#p27662ee179)\" style=\"fill: none; stroke-dasharray: 9.6,2.4,1.5,2.4; stroke-dashoffset: 0; stroke: #2ca02c; stroke-width: 1.5\"/>\n   </g>\n   <g id=\"line2d_110\">\n    <path d=\"M 34.954394 14.593049 \nL 44.698573 42.092511 \nL 54.442752 75.90408 \nL 64.186931 93.527754 \nL 73.93111 97.78729 \nL 83.675289 101.390584 \nL 93.419468 103.012678 \nL 103.163647 86.195253 \nL 112.907826 13.5 \nL 122.652006 13.5 \nL 132.396185 13.5 \nL 142.140364 13.5 \nL 151.884543 13.5 \nL 161.628722 13.5 \nL 171.372901 13.5 \nL 181.11708 13.5 \nL 190.861259 13.5 \nL 200.605438 13.5 \n\" clip-path=\"url(#p27662ee179)\" style=\"fill: none; stroke: #1f77b4; stroke-width: 1.5; stroke-linecap: square\"/>\n   </g>\n   <g id=\"line2d_111\">\n    <path d=\"M 49.633125 72.084461 \nL 69.163125 96.163766 \nL 88.693125 101.182384 \nL 108.223125 13.5 \nL 127.753125 13.5 \nL 147.283125 13.5 \nL 166.813125 13.5 \nL 186.343125 13.5 \nL 205.873125 13.5 \n\" clip-path=\"url(#p27662ee179)\" style=\"fill: none; stroke-dasharray: 5.55,2.4; stroke-dashoffset: 0; stroke: #ff7f0e; stroke-width: 1.5\"/>\n   </g>\n   <g id=\"line2d_112\">\n    <path d=\"M 49.633125 114.982749 \nL 69.163125 105.387322 \nL 88.693125 104.426083 \nL 108.223125 139.5 \nL 127.753125 139.5 \nL 147.283125 139.5 \nL 166.813125 139.5 \nL 186.343125 139.5 \n\" clip-path=\"url(#p27662ee179)\" style=\"fill: none; stroke-dasharray: 9.6,2.4,1.5,2.4; stroke-dashoffset: 0; stroke: #2ca02c; stroke-width: 1.5\"/>\n   </g>\n   <g id=\"line2d_113\">\n    <path d=\"M 34.954394 14.593049 \nL 44.698573 42.092511 \nL 54.442752 75.90408 \nL 64.186931 93.527754 \nL 73.93111 97.78729 \nL 83.675289 101.390584 \nL 93.419468 103.012678 \nL 103.163647 86.195253 \nL 112.907826 13.5 \nL 122.652006 13.5 \nL 132.396185 13.5 \nL 142.140364 13.5 \nL 151.884543 13.5 \nL 161.628722 13.5 \nL 171.372901 13.5 \nL 181.11708 13.5 \nL 190.861259 13.5 \nL 200.605438 13.5 \n\" clip-path=\"url(#p27662ee179)\" style=\"fill: none; stroke: #1f77b4; stroke-width: 1.5; stroke-linecap: square\"/>\n   </g>\n   <g id=\"line2d_114\">\n    <path d=\"M 49.633125 72.084461 \nL 69.163125 96.163766 \nL 88.693125 101.182384 \nL 108.223125 13.5 \nL 127.753125 13.5 \nL 147.283125 13.5 \nL 166.813125 13.5 \nL 186.343125 13.5 \nL 205.873125 13.5 \n\" clip-path=\"url(#p27662ee179)\" style=\"fill: none; stroke-dasharray: 5.55,2.4; stroke-dashoffset: 0; stroke: #ff7f0e; stroke-width: 1.5\"/>\n   </g>\n   <g id=\"line2d_115\">\n    <path d=\"M 49.633125 114.982749 \nL 69.163125 105.387322 \nL 88.693125 104.426083 \nL 108.223125 139.5 \nL 127.753125 139.5 \nL 147.283125 139.5 \nL 166.813125 139.5 \nL 186.343125 139.5 \nL 205.873125 139.5 \n\" clip-path=\"url(#p27662ee179)\" style=\"fill: none; stroke-dasharray: 9.6,2.4,1.5,2.4; stroke-dashoffset: 0; stroke: #2ca02c; stroke-width: 1.5\"/>\n   </g>\n   <g id=\"line2d_116\">\n    <path d=\"M 34.954394 14.593049 \nL 44.698573 42.092511 \nL 54.442752 75.90408 \nL 64.186931 93.527754 \nL 73.93111 97.78729 \nL 83.675289 101.390584 \nL 93.419468 103.012678 \nL 103.163647 86.195253 \nL 112.907826 13.5 \nL 122.652006 13.5 \nL 132.396185 13.5 \nL 142.140364 13.5 \nL 151.884543 13.5 \nL 161.628722 13.5 \nL 171.372901 13.5 \nL 181.11708 13.5 \nL 190.861259 13.5 \nL 200.605438 13.5 \nL 210.349618 13.5 \n\" clip-path=\"url(#p27662ee179)\" style=\"fill: none; stroke: #1f77b4; stroke-width: 1.5; stroke-linecap: square\"/>\n   </g>\n   <g id=\"line2d_117\">\n    <path d=\"M 49.633125 72.084461 \nL 69.163125 96.163766 \nL 88.693125 101.182384 \nL 108.223125 13.5 \nL 127.753125 13.5 \nL 147.283125 13.5 \nL 166.813125 13.5 \nL 186.343125 13.5 \nL 205.873125 13.5 \n\" clip-path=\"url(#p27662ee179)\" style=\"fill: none; stroke-dasharray: 5.55,2.4; stroke-dashoffset: 0; stroke: #ff7f0e; stroke-width: 1.5\"/>\n   </g>\n   <g id=\"line2d_118\">\n    <path d=\"M 49.633125 114.982749 \nL 69.163125 105.387322 \nL 88.693125 104.426083 \nL 108.223125 139.5 \nL 127.753125 139.5 \nL 147.283125 139.5 \nL 166.813125 139.5 \nL 186.343125 139.5 \nL 205.873125 139.5 \n\" clip-path=\"url(#p27662ee179)\" style=\"fill: none; stroke-dasharray: 9.6,2.4,1.5,2.4; stroke-dashoffset: 0; stroke: #2ca02c; stroke-width: 1.5\"/>\n   </g>\n   <g id=\"line2d_119\">\n    <path d=\"M 34.954394 14.593049 \nL 44.698573 42.092511 \nL 54.442752 75.90408 \nL 64.186931 93.527754 \nL 73.93111 97.78729 \nL 83.675289 101.390584 \nL 93.419468 103.012678 \nL 103.163647 86.195253 \nL 112.907826 13.5 \nL 122.652006 13.5 \nL 132.396185 13.5 \nL 142.140364 13.5 \nL 151.884543 13.5 \nL 161.628722 13.5 \nL 171.372901 13.5 \nL 181.11708 13.5 \nL 190.861259 13.5 \nL 200.605438 13.5 \nL 210.349618 13.5 \nL 220.093797 13.5 \n\" clip-path=\"url(#p27662ee179)\" style=\"fill: none; stroke: #1f77b4; stroke-width: 1.5; stroke-linecap: square\"/>\n   </g>\n   <g id=\"line2d_120\">\n    <path d=\"M 49.633125 72.084461 \nL 69.163125 96.163766 \nL 88.693125 101.182384 \nL 108.223125 13.5 \nL 127.753125 13.5 \nL 147.283125 13.5 \nL 166.813125 13.5 \nL 186.343125 13.5 \nL 205.873125 13.5 \n\" clip-path=\"url(#p27662ee179)\" style=\"fill: none; stroke-dasharray: 5.55,2.4; stroke-dashoffset: 0; stroke: #ff7f0e; stroke-width: 1.5\"/>\n   </g>\n   <g id=\"line2d_121\">\n    <path d=\"M 49.633125 114.982749 \nL 69.163125 105.387322 \nL 88.693125 104.426083 \nL 108.223125 139.5 \nL 127.753125 139.5 \nL 147.283125 139.5 \nL 166.813125 139.5 \nL 186.343125 139.5 \nL 205.873125 139.5 \n\" clip-path=\"url(#p27662ee179)\" style=\"fill: none; stroke-dasharray: 9.6,2.4,1.5,2.4; stroke-dashoffset: 0; stroke: #2ca02c; stroke-width: 1.5\"/>\n   </g>\n   <g id=\"line2d_122\">\n    <path d=\"M 34.954394 14.593049 \nL 44.698573 42.092511 \nL 54.442752 75.90408 \nL 64.186931 93.527754 \nL 73.93111 97.78729 \nL 83.675289 101.390584 \nL 93.419468 103.012678 \nL 103.163647 86.195253 \nL 112.907826 13.5 \nL 122.652006 13.5 \nL 132.396185 13.5 \nL 142.140364 13.5 \nL 151.884543 13.5 \nL 161.628722 13.5 \nL 171.372901 13.5 \nL 181.11708 13.5 \nL 190.861259 13.5 \nL 200.605438 13.5 \nL 210.349618 13.5 \nL 220.093797 13.5 \n\" clip-path=\"url(#p27662ee179)\" style=\"fill: none; stroke: #1f77b4; stroke-width: 1.5; stroke-linecap: square\"/>\n   </g>\n   <g id=\"line2d_123\">\n    <path d=\"M 49.633125 72.084461 \nL 69.163125 96.163766 \nL 88.693125 101.182384 \nL 108.223125 13.5 \nL 127.753125 13.5 \nL 147.283125 13.5 \nL 166.813125 13.5 \nL 186.343125 13.5 \nL 205.873125 13.5 \nL 225.403125 13.5 \n\" clip-path=\"url(#p27662ee179)\" style=\"fill: none; stroke-dasharray: 5.55,2.4; stroke-dashoffset: 0; stroke: #ff7f0e; stroke-width: 1.5\"/>\n   </g>\n   <g id=\"line2d_124\">\n    <path d=\"M 49.633125 114.982749 \nL 69.163125 105.387322 \nL 88.693125 104.426083 \nL 108.223125 139.5 \nL 127.753125 139.5 \nL 147.283125 139.5 \nL 166.813125 139.5 \nL 186.343125 139.5 \nL 205.873125 139.5 \n\" clip-path=\"url(#p27662ee179)\" style=\"fill: none; stroke-dasharray: 9.6,2.4,1.5,2.4; stroke-dashoffset: 0; stroke: #2ca02c; stroke-width: 1.5\"/>\n   </g>\n   <g id=\"line2d_125\">\n    <path d=\"M 34.954394 14.593049 \nL 44.698573 42.092511 \nL 54.442752 75.90408 \nL 64.186931 93.527754 \nL 73.93111 97.78729 \nL 83.675289 101.390584 \nL 93.419468 103.012678 \nL 103.163647 86.195253 \nL 112.907826 13.5 \nL 122.652006 13.5 \nL 132.396185 13.5 \nL 142.140364 13.5 \nL 151.884543 13.5 \nL 161.628722 13.5 \nL 171.372901 13.5 \nL 181.11708 13.5 \nL 190.861259 13.5 \nL 200.605438 13.5 \nL 210.349618 13.5 \nL 220.093797 13.5 \n\" clip-path=\"url(#p27662ee179)\" style=\"fill: none; stroke: #1f77b4; stroke-width: 1.5; stroke-linecap: square\"/>\n   </g>\n   <g id=\"line2d_126\">\n    <path d=\"M 49.633125 72.084461 \nL 69.163125 96.163766 \nL 88.693125 101.182384 \nL 108.223125 13.5 \nL 127.753125 13.5 \nL 147.283125 13.5 \nL 166.813125 13.5 \nL 186.343125 13.5 \nL 205.873125 13.5 \nL 225.403125 13.5 \n\" clip-path=\"url(#p27662ee179)\" style=\"fill: none; stroke-dasharray: 5.55,2.4; stroke-dashoffset: 0; stroke: #ff7f0e; stroke-width: 1.5\"/>\n   </g>\n   <g id=\"line2d_127\">\n    <path d=\"M 49.633125 114.982749 \nL 69.163125 105.387322 \nL 88.693125 104.426083 \nL 108.223125 139.5 \nL 127.753125 139.5 \nL 147.283125 139.5 \nL 166.813125 139.5 \nL 186.343125 139.5 \nL 205.873125 139.5 \nL 225.403125 139.5 \n\" clip-path=\"url(#p27662ee179)\" style=\"fill: none; stroke-dasharray: 9.6,2.4,1.5,2.4; stroke-dashoffset: 0; stroke: #2ca02c; stroke-width: 1.5\"/>\n   </g>\n   <g id=\"patch_3\">\n    <path d=\"M 30.103125 145.8 \nL 30.103125 7.2 \n\" style=\"fill: none; stroke: #000000; stroke-width: 0.8; stroke-linejoin: miter; stroke-linecap: square\"/>\n   </g>\n   <g id=\"patch_4\">\n    <path d=\"M 225.403125 145.8 \nL 225.403125 7.2 \n\" style=\"fill: none; stroke: #000000; stroke-width: 0.8; stroke-linejoin: miter; stroke-linecap: square\"/>\n   </g>\n   <g id=\"patch_5\">\n    <path d=\"M 30.103125 145.8 \nL 225.403125 145.8 \n\" style=\"fill: none; stroke: #000000; stroke-width: 0.8; stroke-linejoin: miter; stroke-linecap: square\"/>\n   </g>\n   <g id=\"patch_6\">\n    <path d=\"M 30.103125 7.2 \nL 225.403125 7.2 \n\" style=\"fill: none; stroke: #000000; stroke-width: 0.8; stroke-linejoin: miter; stroke-linecap: square\"/>\n   </g>\n   <g id=\"legend_1\">\n    <g id=\"patch_7\">\n     <path d=\"M 138.8125 100.434375 \nL 218.403125 100.434375 \nQ 220.403125 100.434375 220.403125 98.434375 \nL 220.403125 54.565625 \nQ 220.403125 52.565625 218.403125 52.565625 \nL 138.8125 52.565625 \nQ 136.8125 52.565625 136.8125 54.565625 \nL 136.8125 98.434375 \nQ 136.8125 100.434375 138.8125 100.434375 \nz\n\" style=\"fill: #ffffff; opacity: 0.8; stroke: #cccccc; stroke-linejoin: miter\"/>\n    </g>\n    <g id=\"line2d_128\">\n     <path d=\"M 140.8125 60.664063 \nL 150.8125 60.664063 \nL 160.8125 60.664063 \n\" style=\"fill: none; stroke: #1f77b4; stroke-width: 1.5; stroke-linecap: square\"/>\n    </g>\n    <g id=\"text_13\">\n     <!-- train_loss -->\n     <g transform=\"translate(168.8125 64.164063) scale(0.1 -0.1)\">\n      <defs>\n       <path id=\"DejaVuSans-74\" d=\"M 1172 4494 \nL 1172 3500 \nL 2356 3500 \nL 2356 3053 \nL 1172 3053 \nL 1172 1153 \nQ 1172 725 1289 603 \nQ 1406 481 1766 481 \nL 2356 481 \nL 2356 0 \nL 1766 0 \nQ 1100 0 847 248 \nQ 594 497 594 1153 \nL 594 3053 \nL 172 3053 \nL 172 3500 \nL 594 3500 \nL 594 4494 \nL 1172 4494 \nz\n\" transform=\"scale(0.015625)\"/>\n       <path id=\"DejaVuSans-72\" d=\"M 2631 2963 \nQ 2534 3019 2420 3045 \nQ 2306 3072 2169 3072 \nQ 1681 3072 1420 2755 \nQ 1159 2438 1159 1844 \nL 1159 0 \nL 581 0 \nL 581 3500 \nL 1159 3500 \nL 1159 2956 \nQ 1341 3275 1631 3429 \nQ 1922 3584 2338 3584 \nQ 2397 3584 2469 3576 \nQ 2541 3569 2628 3553 \nL 2631 2963 \nz\n\" transform=\"scale(0.015625)\"/>\n       <path id=\"DejaVuSans-61\" d=\"M 2194 1759 \nQ 1497 1759 1228 1600 \nQ 959 1441 959 1056 \nQ 959 750 1161 570 \nQ 1363 391 1709 391 \nQ 2188 391 2477 730 \nQ 2766 1069 2766 1631 \nL 2766 1759 \nL 2194 1759 \nz\nM 3341 1997 \nL 3341 0 \nL 2766 0 \nL 2766 531 \nQ 2569 213 2275 61 \nQ 1981 -91 1556 -91 \nQ 1019 -91 701 211 \nQ 384 513 384 1019 \nQ 384 1609 779 1909 \nQ 1175 2209 1959 2209 \nL 2766 2209 \nL 2766 2266 \nQ 2766 2663 2505 2880 \nQ 2244 3097 1772 3097 \nQ 1472 3097 1187 3025 \nQ 903 2953 641 2809 \nL 641 3341 \nQ 956 3463 1253 3523 \nQ 1550 3584 1831 3584 \nQ 2591 3584 2966 3190 \nQ 3341 2797 3341 1997 \nz\n\" transform=\"scale(0.015625)\"/>\n       <path id=\"DejaVuSans-69\" d=\"M 603 3500 \nL 1178 3500 \nL 1178 0 \nL 603 0 \nL 603 3500 \nz\nM 603 4863 \nL 1178 4863 \nL 1178 4134 \nL 603 4134 \nL 603 4863 \nz\n\" transform=\"scale(0.015625)\"/>\n       <path id=\"DejaVuSans-6e\" d=\"M 3513 2113 \nL 3513 0 \nL 2938 0 \nL 2938 2094 \nQ 2938 2591 2744 2837 \nQ 2550 3084 2163 3084 \nQ 1697 3084 1428 2787 \nQ 1159 2491 1159 1978 \nL 1159 0 \nL 581 0 \nL 581 3500 \nL 1159 3500 \nL 1159 2956 \nQ 1366 3272 1645 3428 \nQ 1925 3584 2291 3584 \nQ 2894 3584 3203 3211 \nQ 3513 2838 3513 2113 \nz\n\" transform=\"scale(0.015625)\"/>\n       <path id=\"DejaVuSans-5f\" d=\"M 3263 -1063 \nL 3263 -1509 \nL -63 -1509 \nL -63 -1063 \nL 3263 -1063 \nz\n\" transform=\"scale(0.015625)\"/>\n       <path id=\"DejaVuSans-6c\" d=\"M 603 4863 \nL 1178 4863 \nL 1178 0 \nL 603 0 \nL 603 4863 \nz\n\" transform=\"scale(0.015625)\"/>\n       <path id=\"DejaVuSans-73\" d=\"M 2834 3397 \nL 2834 2853 \nQ 2591 2978 2328 3040 \nQ 2066 3103 1784 3103 \nQ 1356 3103 1142 2972 \nQ 928 2841 928 2578 \nQ 928 2378 1081 2264 \nQ 1234 2150 1697 2047 \nL 1894 2003 \nQ 2506 1872 2764 1633 \nQ 3022 1394 3022 966 \nQ 3022 478 2636 193 \nQ 2250 -91 1575 -91 \nQ 1294 -91 989 -36 \nQ 684 19 347 128 \nL 347 722 \nQ 666 556 975 473 \nQ 1284 391 1588 391 \nQ 1994 391 2212 530 \nQ 2431 669 2431 922 \nQ 2431 1156 2273 1281 \nQ 2116 1406 1581 1522 \nL 1381 1569 \nQ 847 1681 609 1914 \nQ 372 2147 372 2553 \nQ 372 3047 722 3315 \nQ 1072 3584 1716 3584 \nQ 2034 3584 2315 3537 \nQ 2597 3491 2834 3397 \nz\n\" transform=\"scale(0.015625)\"/>\n      </defs>\n      <use xlink:href=\"#DejaVuSans-74\"/>\n      <use xlink:href=\"#DejaVuSans-72\" x=\"39.208984\"/>\n      <use xlink:href=\"#DejaVuSans-61\" x=\"80.322266\"/>\n      <use xlink:href=\"#DejaVuSans-69\" x=\"141.601562\"/>\n      <use xlink:href=\"#DejaVuSans-6e\" x=\"169.384766\"/>\n      <use xlink:href=\"#DejaVuSans-5f\" x=\"232.763672\"/>\n      <use xlink:href=\"#DejaVuSans-6c\" x=\"282.763672\"/>\n      <use xlink:href=\"#DejaVuSans-6f\" x=\"310.546875\"/>\n      <use xlink:href=\"#DejaVuSans-73\" x=\"371.728516\"/>\n      <use xlink:href=\"#DejaVuSans-73\" x=\"423.828125\"/>\n     </g>\n    </g>\n    <g id=\"line2d_129\">\n     <path d=\"M 140.8125 75.620313 \nL 150.8125 75.620313 \nL 160.8125 75.620313 \n\" style=\"fill: none; stroke-dasharray: 5.55,2.4; stroke-dashoffset: 0; stroke: #ff7f0e; stroke-width: 1.5\"/>\n    </g>\n    <g id=\"text_14\">\n     <!-- val_loss -->\n     <g transform=\"translate(168.8125 79.120313) scale(0.1 -0.1)\">\n      <defs>\n       <path id=\"DejaVuSans-76\" d=\"M 191 3500 \nL 800 3500 \nL 1894 563 \nL 2988 3500 \nL 3597 3500 \nL 2284 0 \nL 1503 0 \nL 191 3500 \nz\n\" transform=\"scale(0.015625)\"/>\n      </defs>\n      <use xlink:href=\"#DejaVuSans-76\"/>\n      <use xlink:href=\"#DejaVuSans-61\" x=\"59.179688\"/>\n      <use xlink:href=\"#DejaVuSans-6c\" x=\"120.458984\"/>\n      <use xlink:href=\"#DejaVuSans-5f\" x=\"148.242188\"/>\n      <use xlink:href=\"#DejaVuSans-6c\" x=\"198.242188\"/>\n      <use xlink:href=\"#DejaVuSans-6f\" x=\"226.025391\"/>\n      <use xlink:href=\"#DejaVuSans-73\" x=\"287.207031\"/>\n      <use xlink:href=\"#DejaVuSans-73\" x=\"339.306641\"/>\n     </g>\n    </g>\n    <g id=\"line2d_130\">\n     <path d=\"M 140.8125 90.576563 \nL 150.8125 90.576563 \nL 160.8125 90.576563 \n\" style=\"fill: none; stroke-dasharray: 9.6,2.4,1.5,2.4; stroke-dashoffset: 0; stroke: #2ca02c; stroke-width: 1.5\"/>\n    </g>\n    <g id=\"text_15\">\n     <!-- val_acc -->\n     <g transform=\"translate(168.8125 94.076563) scale(0.1 -0.1)\">\n      <use xlink:href=\"#DejaVuSans-76\"/>\n      <use xlink:href=\"#DejaVuSans-61\" x=\"59.179688\"/>\n      <use xlink:href=\"#DejaVuSans-6c\" x=\"120.458984\"/>\n      <use xlink:href=\"#DejaVuSans-5f\" x=\"148.242188\"/>\n      <use xlink:href=\"#DejaVuSans-61\" x=\"198.242188\"/>\n      <use xlink:href=\"#DejaVuSans-63\" x=\"259.521484\"/>\n      <use xlink:href=\"#DejaVuSans-63\" x=\"314.501953\"/>\n     </g>\n    </g>\n   </g>\n  </g>\n </g>\n <defs>\n  <clipPath id=\"p27662ee179\">\n   <rect x=\"30.103125\" y=\"7.2\" width=\"195.3\" height=\"138.6\"/>\n  </clipPath>\n </defs>\n</svg>\n"
          },
          "metadata": {}
        }
      ]
    },
    {
      "cell_type": "markdown",
      "source": [
        "**2. What changes if you replace the 1x1 convolutions by 3x3 convolutions?**"
      ],
      "metadata": {
        "id": "WWKh_9fkTBt0"
      }
    },
    {
      "cell_type": "code",
      "source": [
        "arch = ((96,11,4,0,[[3,1],[3,1]]),(256,5,1,2,[[3,1],[3,1]]),(384,3,1,1,[[3,1],[3,1]]),(10,3,1,1,[[3,1],[3,1]]))\n",
        "model = Nin(arch)\n",
        "model.apply_init([next(iter(data.get_dataloader(True)))[0]], d2l.init_cnn)\n",
        "trainer = d2l.Trainer(max_epochs=10, num_gpus=1)\n",
        "trainer.fit(model, data)\n",
        "X,y = next(iter(data.get_dataloader(False)))\n",
        "X = X.to('cuda')\n",
        "y = y.to('cuda')\n",
        "y_hat = model(X)\n",
        "print(f'acc: {model.accuracy(y_hat,y).item():.2f}')"
      ],
      "metadata": {
        "colab": {
          "base_uri": "https://localhost:8080/",
          "height": 284
        },
        "id": "Idy1oPXfTETj",
        "outputId": "07b84705-0348-4bec-cbfe-cc932c8c1047"
      },
      "execution_count": 31,
      "outputs": [
        {
          "output_type": "stream",
          "name": "stdout",
          "text": [
            "acc: 0.09\n"
          ]
        },
        {
          "output_type": "display_data",
          "data": {
            "text/plain": [
              "<Figure size 350x250 with 1 Axes>"
            ],
            "image/svg+xml": "<?xml version=\"1.0\" encoding=\"utf-8\" standalone=\"no\"?>\n<!DOCTYPE svg PUBLIC \"-//W3C//DTD SVG 1.1//EN\"\n  \"http://www.w3.org/Graphics/SVG/1.1/DTD/svg11.dtd\">\n<svg xmlns:xlink=\"http://www.w3.org/1999/xlink\" width=\"238.965625pt\" height=\"183.35625pt\" viewBox=\"0 0 238.965625 183.35625\" xmlns=\"http://www.w3.org/2000/svg\" version=\"1.1\">\n <metadata>\n  <rdf:RDF xmlns:dc=\"http://purl.org/dc/elements/1.1/\" xmlns:cc=\"http://creativecommons.org/ns#\" xmlns:rdf=\"http://www.w3.org/1999/02/22-rdf-syntax-ns#\">\n   <cc:Work>\n    <dc:type rdf:resource=\"http://purl.org/dc/dcmitype/StillImage\"/>\n    <dc:date>2024-10-05T16:26:30.582262</dc:date>\n    <dc:format>image/svg+xml</dc:format>\n    <dc:creator>\n     <cc:Agent>\n      <dc:title>Matplotlib v3.7.2, https://matplotlib.org/</dc:title>\n     </cc:Agent>\n    </dc:creator>\n   </cc:Work>\n  </rdf:RDF>\n </metadata>\n <defs>\n  <style type=\"text/css\">*{stroke-linejoin: round; stroke-linecap: butt}</style>\n </defs>\n <g id=\"figure_1\">\n  <g id=\"patch_1\">\n   <path d=\"M 0 183.35625 \nL 238.965625 183.35625 \nL 238.965625 0 \nL 0 0 \nz\n\" style=\"fill: #ffffff\"/>\n  </g>\n  <g id=\"axes_1\">\n   <g id=\"patch_2\">\n    <path d=\"M 30.103125 145.8 \nL 225.403125 145.8 \nL 225.403125 7.2 \nL 30.103125 7.2 \nz\n\" style=\"fill: #ffffff\"/>\n   </g>\n   <g id=\"matplotlib.axis_1\">\n    <g id=\"xtick_1\">\n     <g id=\"line2d_1\">\n      <defs>\n       <path id=\"m508f7fc2c4\" d=\"M 0 0 \nL 0 3.5 \n\" style=\"stroke: #000000; stroke-width: 0.8\"/>\n      </defs>\n      <g>\n       <use xlink:href=\"#m508f7fc2c4\" x=\"30.103125\" y=\"145.8\" style=\"stroke: #000000; stroke-width: 0.8\"/>\n      </g>\n     </g>\n     <g id=\"text_1\">\n      <!-- 0 -->\n      <g transform=\"translate(26.921875 160.398438) scale(0.1 -0.1)\">\n       <defs>\n        <path id=\"DejaVuSans-30\" d=\"M 2034 4250 \nQ 1547 4250 1301 3770 \nQ 1056 3291 1056 2328 \nQ 1056 1369 1301 889 \nQ 1547 409 2034 409 \nQ 2525 409 2770 889 \nQ 3016 1369 3016 2328 \nQ 3016 3291 2770 3770 \nQ 2525 4250 2034 4250 \nz\nM 2034 4750 \nQ 2819 4750 3233 4129 \nQ 3647 3509 3647 2328 \nQ 3647 1150 3233 529 \nQ 2819 -91 2034 -91 \nQ 1250 -91 836 529 \nQ 422 1150 422 2328 \nQ 422 3509 836 4129 \nQ 1250 4750 2034 4750 \nz\n\" transform=\"scale(0.015625)\"/>\n       </defs>\n       <use xlink:href=\"#DejaVuSans-30\"/>\n      </g>\n     </g>\n    </g>\n    <g id=\"xtick_2\">\n     <g id=\"line2d_2\">\n      <g>\n       <use xlink:href=\"#m508f7fc2c4\" x=\"69.163125\" y=\"145.8\" style=\"stroke: #000000; stroke-width: 0.8\"/>\n      </g>\n     </g>\n     <g id=\"text_2\">\n      <!-- 2 -->\n      <g transform=\"translate(65.981875 160.398438) scale(0.1 -0.1)\">\n       <defs>\n        <path id=\"DejaVuSans-32\" d=\"M 1228 531 \nL 3431 531 \nL 3431 0 \nL 469 0 \nL 469 531 \nQ 828 903 1448 1529 \nQ 2069 2156 2228 2338 \nQ 2531 2678 2651 2914 \nQ 2772 3150 2772 3378 \nQ 2772 3750 2511 3984 \nQ 2250 4219 1831 4219 \nQ 1534 4219 1204 4116 \nQ 875 4013 500 3803 \nL 500 4441 \nQ 881 4594 1212 4672 \nQ 1544 4750 1819 4750 \nQ 2544 4750 2975 4387 \nQ 3406 4025 3406 3419 \nQ 3406 3131 3298 2873 \nQ 3191 2616 2906 2266 \nQ 2828 2175 2409 1742 \nQ 1991 1309 1228 531 \nz\n\" transform=\"scale(0.015625)\"/>\n       </defs>\n       <use xlink:href=\"#DejaVuSans-32\"/>\n      </g>\n     </g>\n    </g>\n    <g id=\"xtick_3\">\n     <g id=\"line2d_3\">\n      <g>\n       <use xlink:href=\"#m508f7fc2c4\" x=\"108.223125\" y=\"145.8\" style=\"stroke: #000000; stroke-width: 0.8\"/>\n      </g>\n     </g>\n     <g id=\"text_3\">\n      <!-- 4 -->\n      <g transform=\"translate(105.041875 160.398438) scale(0.1 -0.1)\">\n       <defs>\n        <path id=\"DejaVuSans-34\" d=\"M 2419 4116 \nL 825 1625 \nL 2419 1625 \nL 2419 4116 \nz\nM 2253 4666 \nL 3047 4666 \nL 3047 1625 \nL 3713 1625 \nL 3713 1100 \nL 3047 1100 \nL 3047 0 \nL 2419 0 \nL 2419 1100 \nL 313 1100 \nL 313 1709 \nL 2253 4666 \nz\n\" transform=\"scale(0.015625)\"/>\n       </defs>\n       <use xlink:href=\"#DejaVuSans-34\"/>\n      </g>\n     </g>\n    </g>\n    <g id=\"xtick_4\">\n     <g id=\"line2d_4\">\n      <g>\n       <use xlink:href=\"#m508f7fc2c4\" x=\"147.283125\" y=\"145.8\" style=\"stroke: #000000; stroke-width: 0.8\"/>\n      </g>\n     </g>\n     <g id=\"text_4\">\n      <!-- 6 -->\n      <g transform=\"translate(144.101875 160.398438) scale(0.1 -0.1)\">\n       <defs>\n        <path id=\"DejaVuSans-36\" d=\"M 2113 2584 \nQ 1688 2584 1439 2293 \nQ 1191 2003 1191 1497 \nQ 1191 994 1439 701 \nQ 1688 409 2113 409 \nQ 2538 409 2786 701 \nQ 3034 994 3034 1497 \nQ 3034 2003 2786 2293 \nQ 2538 2584 2113 2584 \nz\nM 3366 4563 \nL 3366 3988 \nQ 3128 4100 2886 4159 \nQ 2644 4219 2406 4219 \nQ 1781 4219 1451 3797 \nQ 1122 3375 1075 2522 \nQ 1259 2794 1537 2939 \nQ 1816 3084 2150 3084 \nQ 2853 3084 3261 2657 \nQ 3669 2231 3669 1497 \nQ 3669 778 3244 343 \nQ 2819 -91 2113 -91 \nQ 1303 -91 875 529 \nQ 447 1150 447 2328 \nQ 447 3434 972 4092 \nQ 1497 4750 2381 4750 \nQ 2619 4750 2861 4703 \nQ 3103 4656 3366 4563 \nz\n\" transform=\"scale(0.015625)\"/>\n       </defs>\n       <use xlink:href=\"#DejaVuSans-36\"/>\n      </g>\n     </g>\n    </g>\n    <g id=\"xtick_5\">\n     <g id=\"line2d_5\">\n      <g>\n       <use xlink:href=\"#m508f7fc2c4\" x=\"186.343125\" y=\"145.8\" style=\"stroke: #000000; stroke-width: 0.8\"/>\n      </g>\n     </g>\n     <g id=\"text_5\">\n      <!-- 8 -->\n      <g transform=\"translate(183.161875 160.398438) scale(0.1 -0.1)\">\n       <defs>\n        <path id=\"DejaVuSans-38\" d=\"M 2034 2216 \nQ 1584 2216 1326 1975 \nQ 1069 1734 1069 1313 \nQ 1069 891 1326 650 \nQ 1584 409 2034 409 \nQ 2484 409 2743 651 \nQ 3003 894 3003 1313 \nQ 3003 1734 2745 1975 \nQ 2488 2216 2034 2216 \nz\nM 1403 2484 \nQ 997 2584 770 2862 \nQ 544 3141 544 3541 \nQ 544 4100 942 4425 \nQ 1341 4750 2034 4750 \nQ 2731 4750 3128 4425 \nQ 3525 4100 3525 3541 \nQ 3525 3141 3298 2862 \nQ 3072 2584 2669 2484 \nQ 3125 2378 3379 2068 \nQ 3634 1759 3634 1313 \nQ 3634 634 3220 271 \nQ 2806 -91 2034 -91 \nQ 1263 -91 848 271 \nQ 434 634 434 1313 \nQ 434 1759 690 2068 \nQ 947 2378 1403 2484 \nz\nM 1172 3481 \nQ 1172 3119 1398 2916 \nQ 1625 2713 2034 2713 \nQ 2441 2713 2670 2916 \nQ 2900 3119 2900 3481 \nQ 2900 3844 2670 4047 \nQ 2441 4250 2034 4250 \nQ 1625 4250 1398 4047 \nQ 1172 3844 1172 3481 \nz\n\" transform=\"scale(0.015625)\"/>\n       </defs>\n       <use xlink:href=\"#DejaVuSans-38\"/>\n      </g>\n     </g>\n    </g>\n    <g id=\"xtick_6\">\n     <g id=\"line2d_6\">\n      <g>\n       <use xlink:href=\"#m508f7fc2c4\" x=\"225.403125\" y=\"145.8\" style=\"stroke: #000000; stroke-width: 0.8\"/>\n      </g>\n     </g>\n     <g id=\"text_6\">\n      <!-- 10 -->\n      <g transform=\"translate(219.040625 160.398438) scale(0.1 -0.1)\">\n       <defs>\n        <path id=\"DejaVuSans-31\" d=\"M 794 531 \nL 1825 531 \nL 1825 4091 \nL 703 3866 \nL 703 4441 \nL 1819 4666 \nL 2450 4666 \nL 2450 531 \nL 3481 531 \nL 3481 0 \nL 794 0 \nL 794 531 \nz\n\" transform=\"scale(0.015625)\"/>\n       </defs>\n       <use xlink:href=\"#DejaVuSans-31\"/>\n       <use xlink:href=\"#DejaVuSans-30\" x=\"63.623047\"/>\n      </g>\n     </g>\n    </g>\n    <g id=\"text_7\">\n     <!-- epoch -->\n     <g transform=\"translate(112.525 174.076563) scale(0.1 -0.1)\">\n      <defs>\n       <path id=\"DejaVuSans-65\" d=\"M 3597 1894 \nL 3597 1613 \nL 953 1613 \nQ 991 1019 1311 708 \nQ 1631 397 2203 397 \nQ 2534 397 2845 478 \nQ 3156 559 3463 722 \nL 3463 178 \nQ 3153 47 2828 -22 \nQ 2503 -91 2169 -91 \nQ 1331 -91 842 396 \nQ 353 884 353 1716 \nQ 353 2575 817 3079 \nQ 1281 3584 2069 3584 \nQ 2775 3584 3186 3129 \nQ 3597 2675 3597 1894 \nz\nM 3022 2063 \nQ 3016 2534 2758 2815 \nQ 2500 3097 2075 3097 \nQ 1594 3097 1305 2825 \nQ 1016 2553 972 2059 \nL 3022 2063 \nz\n\" transform=\"scale(0.015625)\"/>\n       <path id=\"DejaVuSans-70\" d=\"M 1159 525 \nL 1159 -1331 \nL 581 -1331 \nL 581 3500 \nL 1159 3500 \nL 1159 2969 \nQ 1341 3281 1617 3432 \nQ 1894 3584 2278 3584 \nQ 2916 3584 3314 3078 \nQ 3713 2572 3713 1747 \nQ 3713 922 3314 415 \nQ 2916 -91 2278 -91 \nQ 1894 -91 1617 61 \nQ 1341 213 1159 525 \nz\nM 3116 1747 \nQ 3116 2381 2855 2742 \nQ 2594 3103 2138 3103 \nQ 1681 3103 1420 2742 \nQ 1159 2381 1159 1747 \nQ 1159 1113 1420 752 \nQ 1681 391 2138 391 \nQ 2594 391 2855 752 \nQ 3116 1113 3116 1747 \nz\n\" transform=\"scale(0.015625)\"/>\n       <path id=\"DejaVuSans-6f\" d=\"M 1959 3097 \nQ 1497 3097 1228 2736 \nQ 959 2375 959 1747 \nQ 959 1119 1226 758 \nQ 1494 397 1959 397 \nQ 2419 397 2687 759 \nQ 2956 1122 2956 1747 \nQ 2956 2369 2687 2733 \nQ 2419 3097 1959 3097 \nz\nM 1959 3584 \nQ 2709 3584 3137 3096 \nQ 3566 2609 3566 1747 \nQ 3566 888 3137 398 \nQ 2709 -91 1959 -91 \nQ 1206 -91 779 398 \nQ 353 888 353 1747 \nQ 353 2609 779 3096 \nQ 1206 3584 1959 3584 \nz\n\" transform=\"scale(0.015625)\"/>\n       <path id=\"DejaVuSans-63\" d=\"M 3122 3366 \nL 3122 2828 \nQ 2878 2963 2633 3030 \nQ 2388 3097 2138 3097 \nQ 1578 3097 1268 2742 \nQ 959 2388 959 1747 \nQ 959 1106 1268 751 \nQ 1578 397 2138 397 \nQ 2388 397 2633 464 \nQ 2878 531 3122 666 \nL 3122 134 \nQ 2881 22 2623 -34 \nQ 2366 -91 2075 -91 \nQ 1284 -91 818 406 \nQ 353 903 353 1747 \nQ 353 2603 823 3093 \nQ 1294 3584 2113 3584 \nQ 2378 3584 2631 3529 \nQ 2884 3475 3122 3366 \nz\n\" transform=\"scale(0.015625)\"/>\n       <path id=\"DejaVuSans-68\" d=\"M 3513 2113 \nL 3513 0 \nL 2938 0 \nL 2938 2094 \nQ 2938 2591 2744 2837 \nQ 2550 3084 2163 3084 \nQ 1697 3084 1428 2787 \nQ 1159 2491 1159 1978 \nL 1159 0 \nL 581 0 \nL 581 4863 \nL 1159 4863 \nL 1159 2956 \nQ 1366 3272 1645 3428 \nQ 1925 3584 2291 3584 \nQ 2894 3584 3203 3211 \nQ 3513 2838 3513 2113 \nz\n\" transform=\"scale(0.015625)\"/>\n      </defs>\n      <use xlink:href=\"#DejaVuSans-65\"/>\n      <use xlink:href=\"#DejaVuSans-70\" x=\"61.523438\"/>\n      <use xlink:href=\"#DejaVuSans-6f\" x=\"125\"/>\n      <use xlink:href=\"#DejaVuSans-63\" x=\"186.181641\"/>\n      <use xlink:href=\"#DejaVuSans-68\" x=\"241.162109\"/>\n     </g>\n    </g>\n   </g>\n   <g id=\"matplotlib.axis_2\">\n    <g id=\"ytick_1\">\n     <g id=\"line2d_7\">\n      <defs>\n       <path id=\"me7b8485457\" d=\"M 0 0 \nL -3.5 0 \n\" style=\"stroke: #000000; stroke-width: 0.8\"/>\n      </defs>\n      <g>\n       <use xlink:href=\"#me7b8485457\" x=\"30.103125\" y=\"145.149981\" style=\"stroke: #000000; stroke-width: 0.8\"/>\n      </g>\n     </g>\n     <g id=\"text_8\">\n      <!-- 0.0 -->\n      <g transform=\"translate(7.2 148.9492) scale(0.1 -0.1)\">\n       <defs>\n        <path id=\"DejaVuSans-2e\" d=\"M 684 794 \nL 1344 794 \nL 1344 0 \nL 684 0 \nL 684 794 \nz\n\" transform=\"scale(0.015625)\"/>\n       </defs>\n       <use xlink:href=\"#DejaVuSans-30\"/>\n       <use xlink:href=\"#DejaVuSans-2e\" x=\"63.623047\"/>\n       <use xlink:href=\"#DejaVuSans-30\" x=\"95.410156\"/>\n      </g>\n     </g>\n    </g>\n    <g id=\"ytick_2\">\n     <g id=\"line2d_8\">\n      <g>\n       <use xlink:href=\"#me7b8485457\" x=\"30.103125\" y=\"116.583678\" style=\"stroke: #000000; stroke-width: 0.8\"/>\n      </g>\n     </g>\n     <g id=\"text_9\">\n      <!-- 0.5 -->\n      <g transform=\"translate(7.2 120.382896) scale(0.1 -0.1)\">\n       <defs>\n        <path id=\"DejaVuSans-35\" d=\"M 691 4666 \nL 3169 4666 \nL 3169 4134 \nL 1269 4134 \nL 1269 2991 \nQ 1406 3038 1543 3061 \nQ 1681 3084 1819 3084 \nQ 2600 3084 3056 2656 \nQ 3513 2228 3513 1497 \nQ 3513 744 3044 326 \nQ 2575 -91 1722 -91 \nQ 1428 -91 1123 -41 \nQ 819 9 494 109 \nL 494 744 \nQ 775 591 1075 516 \nQ 1375 441 1709 441 \nQ 2250 441 2565 725 \nQ 2881 1009 2881 1497 \nQ 2881 1984 2565 2268 \nQ 2250 2553 1709 2553 \nQ 1456 2553 1204 2497 \nQ 953 2441 691 2322 \nL 691 4666 \nz\n\" transform=\"scale(0.015625)\"/>\n       </defs>\n       <use xlink:href=\"#DejaVuSans-30\"/>\n       <use xlink:href=\"#DejaVuSans-2e\" x=\"63.623047\"/>\n       <use xlink:href=\"#DejaVuSans-35\" x=\"95.410156\"/>\n      </g>\n     </g>\n    </g>\n    <g id=\"ytick_3\">\n     <g id=\"line2d_9\">\n      <g>\n       <use xlink:href=\"#me7b8485457\" x=\"30.103125\" y=\"88.017374\" style=\"stroke: #000000; stroke-width: 0.8\"/>\n      </g>\n     </g>\n     <g id=\"text_10\">\n      <!-- 1.0 -->\n      <g transform=\"translate(7.2 91.816593) scale(0.1 -0.1)\">\n       <use xlink:href=\"#DejaVuSans-31\"/>\n       <use xlink:href=\"#DejaVuSans-2e\" x=\"63.623047\"/>\n       <use xlink:href=\"#DejaVuSans-30\" x=\"95.410156\"/>\n      </g>\n     </g>\n    </g>\n    <g id=\"ytick_4\">\n     <g id=\"line2d_10\">\n      <g>\n       <use xlink:href=\"#me7b8485457\" x=\"30.103125\" y=\"59.451071\" style=\"stroke: #000000; stroke-width: 0.8\"/>\n      </g>\n     </g>\n     <g id=\"text_11\">\n      <!-- 1.5 -->\n      <g transform=\"translate(7.2 63.25029) scale(0.1 -0.1)\">\n       <use xlink:href=\"#DejaVuSans-31\"/>\n       <use xlink:href=\"#DejaVuSans-2e\" x=\"63.623047\"/>\n       <use xlink:href=\"#DejaVuSans-35\" x=\"95.410156\"/>\n      </g>\n     </g>\n    </g>\n    <g id=\"ytick_5\">\n     <g id=\"line2d_11\">\n      <g>\n       <use xlink:href=\"#me7b8485457\" x=\"30.103125\" y=\"30.884768\" style=\"stroke: #000000; stroke-width: 0.8\"/>\n      </g>\n     </g>\n     <g id=\"text_12\">\n      <!-- 2.0 -->\n      <g transform=\"translate(7.2 34.683987) scale(0.1 -0.1)\">\n       <use xlink:href=\"#DejaVuSans-32\"/>\n       <use xlink:href=\"#DejaVuSans-2e\" x=\"63.623047\"/>\n       <use xlink:href=\"#DejaVuSans-30\" x=\"95.410156\"/>\n      </g>\n     </g>\n    </g>\n   </g>\n   <g id=\"line2d_12\">\n    <path d=\"M 34.954394 14.273501 \n\" clip-path=\"url(#p7f5df87148)\" style=\"fill: none; stroke: #1f77b4; stroke-width: 1.5; stroke-linecap: square\"/>\n   </g>\n   <g id=\"line2d_13\">\n    <path d=\"M 34.954394 14.273501 \nL 44.698573 14.297494 \n\" clip-path=\"url(#p7f5df87148)\" style=\"fill: none; stroke: #1f77b4; stroke-width: 1.5; stroke-linecap: square\"/>\n   </g>\n   <g id=\"line2d_14\">\n    <path d=\"M 34.954394 14.273501 \nL 44.698573 14.297494 \n\" clip-path=\"url(#p7f5df87148)\" style=\"fill: none; stroke: #1f77b4; stroke-width: 1.5; stroke-linecap: square\"/>\n   </g>\n   <g id=\"line2d_15\">\n    <path d=\"M 49.633125 14.139419 \n\" clip-path=\"url(#p7f5df87148)\" style=\"fill: none; stroke-dasharray: 5.55,2.4; stroke-dashoffset: 0; stroke: #ff7f0e; stroke-width: 1.5\"/>\n   </g>\n   <g id=\"line2d_16\"/>\n   <g id=\"line2d_17\">\n    <path d=\"M 34.954394 14.273501 \nL 44.698573 14.297494 \n\" clip-path=\"url(#p7f5df87148)\" style=\"fill: none; stroke: #1f77b4; stroke-width: 1.5; stroke-linecap: square\"/>\n   </g>\n   <g id=\"line2d_18\">\n    <path d=\"M 49.633125 14.139419 \n\" clip-path=\"url(#p7f5df87148)\" style=\"fill: none; stroke-dasharray: 5.55,2.4; stroke-dashoffset: 0; stroke: #ff7f0e; stroke-width: 1.5\"/>\n   </g>\n   <g id=\"line2d_19\">\n    <path d=\"M 49.633125 134.991315 \n\" clip-path=\"url(#p7f5df87148)\" style=\"fill: none; stroke-dasharray: 9.6,2.4,1.5,2.4; stroke-dashoffset: 0; stroke: #2ca02c; stroke-width: 1.5\"/>\n   </g>\n   <g id=\"line2d_20\">\n    <path d=\"M 34.954394 14.273501 \nL 44.698573 14.297494 \nL 54.442752 14.545432 \n\" clip-path=\"url(#p7f5df87148)\" style=\"fill: none; stroke: #1f77b4; stroke-width: 1.5; stroke-linecap: square\"/>\n   </g>\n   <g id=\"line2d_21\">\n    <path d=\"M 49.633125 14.139419 \n\" clip-path=\"url(#p7f5df87148)\" style=\"fill: none; stroke-dasharray: 5.55,2.4; stroke-dashoffset: 0; stroke: #ff7f0e; stroke-width: 1.5\"/>\n   </g>\n   <g id=\"line2d_22\">\n    <path d=\"M 49.633125 134.991315 \n\" clip-path=\"url(#p7f5df87148)\" style=\"fill: none; stroke-dasharray: 9.6,2.4,1.5,2.4; stroke-dashoffset: 0; stroke: #2ca02c; stroke-width: 1.5\"/>\n   </g>\n   <g id=\"line2d_23\">\n    <path d=\"M 34.954394 14.273501 \nL 44.698573 14.297494 \nL 54.442752 14.545432 \nL 64.186931 14.878954 \n\" clip-path=\"url(#p7f5df87148)\" style=\"fill: none; stroke: #1f77b4; stroke-width: 1.5; stroke-linecap: square\"/>\n   </g>\n   <g id=\"line2d_24\">\n    <path d=\"M 49.633125 14.139419 \n\" clip-path=\"url(#p7f5df87148)\" style=\"fill: none; stroke-dasharray: 5.55,2.4; stroke-dashoffset: 0; stroke: #ff7f0e; stroke-width: 1.5\"/>\n   </g>\n   <g id=\"line2d_25\">\n    <path d=\"M 49.633125 134.991315 \n\" clip-path=\"url(#p7f5df87148)\" style=\"fill: none; stroke-dasharray: 9.6,2.4,1.5,2.4; stroke-dashoffset: 0; stroke: #2ca02c; stroke-width: 1.5\"/>\n   </g>\n   <g id=\"line2d_26\">\n    <path d=\"M 34.954394 14.273501 \nL 44.698573 14.297494 \nL 54.442752 14.545432 \nL 64.186931 14.878954 \n\" clip-path=\"url(#p7f5df87148)\" style=\"fill: none; stroke: #1f77b4; stroke-width: 1.5; stroke-linecap: square\"/>\n   </g>\n   <g id=\"line2d_27\">\n    <path d=\"M 49.633125 14.139419 \nL 69.163125 13.5 \n\" clip-path=\"url(#p7f5df87148)\" style=\"fill: none; stroke-dasharray: 5.55,2.4; stroke-dashoffset: 0; stroke: #ff7f0e; stroke-width: 1.5\"/>\n   </g>\n   <g id=\"line2d_28\">\n    <path d=\"M 49.633125 134.991315 \n\" clip-path=\"url(#p7f5df87148)\" style=\"fill: none; stroke-dasharray: 9.6,2.4,1.5,2.4; stroke-dashoffset: 0; stroke: #2ca02c; stroke-width: 1.5\"/>\n   </g>\n   <g id=\"line2d_29\">\n    <path d=\"M 34.954394 14.273501 \nL 44.698573 14.297494 \nL 54.442752 14.545432 \nL 64.186931 14.878954 \n\" clip-path=\"url(#p7f5df87148)\" style=\"fill: none; stroke: #1f77b4; stroke-width: 1.5; stroke-linecap: square\"/>\n   </g>\n   <g id=\"line2d_30\">\n    <path d=\"M 49.633125 14.139419 \nL 69.163125 13.5 \n\" clip-path=\"url(#p7f5df87148)\" style=\"fill: none; stroke-dasharray: 5.55,2.4; stroke-dashoffset: 0; stroke: #ff7f0e; stroke-width: 1.5\"/>\n   </g>\n   <g id=\"line2d_31\">\n    <path d=\"M 49.633125 134.991315 \nL 69.163125 139.38135 \n\" clip-path=\"url(#p7f5df87148)\" style=\"fill: none; stroke-dasharray: 9.6,2.4,1.5,2.4; stroke-dashoffset: 0; stroke: #2ca02c; stroke-width: 1.5\"/>\n   </g>\n   <g id=\"line2d_32\">\n    <path d=\"M 34.954394 14.273501 \nL 44.698573 14.297494 \nL 54.442752 14.545432 \nL 64.186931 14.878954 \nL 73.93111 13.550977 \n\" clip-path=\"url(#p7f5df87148)\" style=\"fill: none; stroke: #1f77b4; stroke-width: 1.5; stroke-linecap: square\"/>\n   </g>\n   <g id=\"line2d_33\">\n    <path d=\"M 49.633125 14.139419 \nL 69.163125 13.5 \n\" clip-path=\"url(#p7f5df87148)\" style=\"fill: none; stroke-dasharray: 5.55,2.4; stroke-dashoffset: 0; stroke: #ff7f0e; stroke-width: 1.5\"/>\n   </g>\n   <g id=\"line2d_34\">\n    <path d=\"M 49.633125 134.991315 \nL 69.163125 139.38135 \n\" clip-path=\"url(#p7f5df87148)\" style=\"fill: none; stroke-dasharray: 9.6,2.4,1.5,2.4; stroke-dashoffset: 0; stroke: #2ca02c; stroke-width: 1.5\"/>\n   </g>\n   <g id=\"line2d_35\">\n    <path d=\"M 34.954394 14.273501 \nL 44.698573 14.297494 \nL 54.442752 14.545432 \nL 64.186931 14.878954 \nL 73.93111 13.550977 \nL 83.675289 13.58678 \n\" clip-path=\"url(#p7f5df87148)\" style=\"fill: none; stroke: #1f77b4; stroke-width: 1.5; stroke-linecap: square\"/>\n   </g>\n   <g id=\"line2d_36\">\n    <path d=\"M 49.633125 14.139419 \nL 69.163125 13.5 \n\" clip-path=\"url(#p7f5df87148)\" style=\"fill: none; stroke-dasharray: 5.55,2.4; stroke-dashoffset: 0; stroke: #ff7f0e; stroke-width: 1.5\"/>\n   </g>\n   <g id=\"line2d_37\">\n    <path d=\"M 49.633125 134.991315 \nL 69.163125 139.38135 \n\" clip-path=\"url(#p7f5df87148)\" style=\"fill: none; stroke-dasharray: 9.6,2.4,1.5,2.4; stroke-dashoffset: 0; stroke: #2ca02c; stroke-width: 1.5\"/>\n   </g>\n   <g id=\"line2d_38\">\n    <path d=\"M 34.954394 14.273501 \nL 44.698573 14.297494 \nL 54.442752 14.545432 \nL 64.186931 14.878954 \nL 73.93111 13.550977 \nL 83.675289 13.58678 \n\" clip-path=\"url(#p7f5df87148)\" style=\"fill: none; stroke: #1f77b4; stroke-width: 1.5; stroke-linecap: square\"/>\n   </g>\n   <g id=\"line2d_39\">\n    <path d=\"M 49.633125 14.139419 \nL 69.163125 13.5 \nL 88.693125 13.59538 \n\" clip-path=\"url(#p7f5df87148)\" style=\"fill: none; stroke-dasharray: 5.55,2.4; stroke-dashoffset: 0; stroke: #ff7f0e; stroke-width: 1.5\"/>\n   </g>\n   <g id=\"line2d_40\">\n    <path d=\"M 49.633125 134.991315 \nL 69.163125 139.38135 \n\" clip-path=\"url(#p7f5df87148)\" style=\"fill: none; stroke-dasharray: 9.6,2.4,1.5,2.4; stroke-dashoffset: 0; stroke: #2ca02c; stroke-width: 1.5\"/>\n   </g>\n   <g id=\"line2d_41\">\n    <path d=\"M 34.954394 14.273501 \nL 44.698573 14.297494 \nL 54.442752 14.545432 \nL 64.186931 14.878954 \nL 73.93111 13.550977 \nL 83.675289 13.58678 \n\" clip-path=\"url(#p7f5df87148)\" style=\"fill: none; stroke: #1f77b4; stroke-width: 1.5; stroke-linecap: square\"/>\n   </g>\n   <g id=\"line2d_42\">\n    <path d=\"M 49.633125 14.139419 \nL 69.163125 13.5 \nL 88.693125 13.59538 \n\" clip-path=\"url(#p7f5df87148)\" style=\"fill: none; stroke-dasharray: 5.55,2.4; stroke-dashoffset: 0; stroke: #ff7f0e; stroke-width: 1.5\"/>\n   </g>\n   <g id=\"line2d_43\">\n    <path d=\"M 49.633125 134.991315 \nL 69.163125 139.38135 \nL 88.693125 139.38135 \n\" clip-path=\"url(#p7f5df87148)\" style=\"fill: none; stroke-dasharray: 9.6,2.4,1.5,2.4; stroke-dashoffset: 0; stroke: #2ca02c; stroke-width: 1.5\"/>\n   </g>\n   <g id=\"line2d_44\">\n    <path d=\"M 34.954394 14.273501 \nL 44.698573 14.297494 \nL 54.442752 14.545432 \nL 64.186931 14.878954 \nL 73.93111 13.550977 \nL 83.675289 13.58678 \nL 93.419468 13.594253 \n\" clip-path=\"url(#p7f5df87148)\" style=\"fill: none; stroke: #1f77b4; stroke-width: 1.5; stroke-linecap: square\"/>\n   </g>\n   <g id=\"line2d_45\">\n    <path d=\"M 49.633125 14.139419 \nL 69.163125 13.5 \nL 88.693125 13.59538 \n\" clip-path=\"url(#p7f5df87148)\" style=\"fill: none; stroke-dasharray: 5.55,2.4; stroke-dashoffset: 0; stroke: #ff7f0e; stroke-width: 1.5\"/>\n   </g>\n   <g id=\"line2d_46\">\n    <path d=\"M 49.633125 134.991315 \nL 69.163125 139.38135 \nL 88.693125 139.38135 \n\" clip-path=\"url(#p7f5df87148)\" style=\"fill: none; stroke-dasharray: 9.6,2.4,1.5,2.4; stroke-dashoffset: 0; stroke: #2ca02c; stroke-width: 1.5\"/>\n   </g>\n   <g id=\"line2d_47\">\n    <path d=\"M 34.954394 14.273501 \nL 44.698573 14.297494 \nL 54.442752 14.545432 \nL 64.186931 14.878954 \nL 73.93111 13.550977 \nL 83.675289 13.58678 \nL 93.419468 13.594253 \nL 103.163647 13.597162 \n\" clip-path=\"url(#p7f5df87148)\" style=\"fill: none; stroke: #1f77b4; stroke-width: 1.5; stroke-linecap: square\"/>\n   </g>\n   <g id=\"line2d_48\">\n    <path d=\"M 49.633125 14.139419 \nL 69.163125 13.5 \nL 88.693125 13.59538 \n\" clip-path=\"url(#p7f5df87148)\" style=\"fill: none; stroke-dasharray: 5.55,2.4; stroke-dashoffset: 0; stroke: #ff7f0e; stroke-width: 1.5\"/>\n   </g>\n   <g id=\"line2d_49\">\n    <path d=\"M 49.633125 134.991315 \nL 69.163125 139.38135 \nL 88.693125 139.38135 \n\" clip-path=\"url(#p7f5df87148)\" style=\"fill: none; stroke-dasharray: 9.6,2.4,1.5,2.4; stroke-dashoffset: 0; stroke: #2ca02c; stroke-width: 1.5\"/>\n   </g>\n   <g id=\"line2d_50\">\n    <path d=\"M 34.954394 14.273501 \nL 44.698573 14.297494 \nL 54.442752 14.545432 \nL 64.186931 14.878954 \nL 73.93111 13.550977 \nL 83.675289 13.58678 \nL 93.419468 13.594253 \nL 103.163647 13.597162 \n\" clip-path=\"url(#p7f5df87148)\" style=\"fill: none; stroke: #1f77b4; stroke-width: 1.5; stroke-linecap: square\"/>\n   </g>\n   <g id=\"line2d_51\">\n    <path d=\"M 49.633125 14.139419 \nL 69.163125 13.5 \nL 88.693125 13.59538 \nL 108.223125 13.597304 \n\" clip-path=\"url(#p7f5df87148)\" style=\"fill: none; stroke-dasharray: 5.55,2.4; stroke-dashoffset: 0; stroke: #ff7f0e; stroke-width: 1.5\"/>\n   </g>\n   <g id=\"line2d_52\">\n    <path d=\"M 49.633125 134.991315 \nL 69.163125 139.38135 \nL 88.693125 139.38135 \n\" clip-path=\"url(#p7f5df87148)\" style=\"fill: none; stroke-dasharray: 9.6,2.4,1.5,2.4; stroke-dashoffset: 0; stroke: #2ca02c; stroke-width: 1.5\"/>\n   </g>\n   <g id=\"line2d_53\">\n    <path d=\"M 34.954394 14.273501 \nL 44.698573 14.297494 \nL 54.442752 14.545432 \nL 64.186931 14.878954 \nL 73.93111 13.550977 \nL 83.675289 13.58678 \nL 93.419468 13.594253 \nL 103.163647 13.597162 \n\" clip-path=\"url(#p7f5df87148)\" style=\"fill: none; stroke: #1f77b4; stroke-width: 1.5; stroke-linecap: square\"/>\n   </g>\n   <g id=\"line2d_54\">\n    <path d=\"M 49.633125 14.139419 \nL 69.163125 13.5 \nL 88.693125 13.59538 \nL 108.223125 13.597304 \n\" clip-path=\"url(#p7f5df87148)\" style=\"fill: none; stroke-dasharray: 5.55,2.4; stroke-dashoffset: 0; stroke: #ff7f0e; stroke-width: 1.5\"/>\n   </g>\n   <g id=\"line2d_55\">\n    <path d=\"M 49.633125 134.991315 \nL 69.163125 139.38135 \nL 88.693125 139.38135 \nL 108.223125 139.5 \n\" clip-path=\"url(#p7f5df87148)\" style=\"fill: none; stroke-dasharray: 9.6,2.4,1.5,2.4; stroke-dashoffset: 0; stroke: #2ca02c; stroke-width: 1.5\"/>\n   </g>\n   <g id=\"line2d_56\">\n    <path d=\"M 34.954394 14.273501 \nL 44.698573 14.297494 \nL 54.442752 14.545432 \nL 64.186931 14.878954 \nL 73.93111 13.550977 \nL 83.675289 13.58678 \nL 93.419468 13.594253 \nL 103.163647 13.597162 \nL 112.907826 13.597305 \n\" clip-path=\"url(#p7f5df87148)\" style=\"fill: none; stroke: #1f77b4; stroke-width: 1.5; stroke-linecap: square\"/>\n   </g>\n   <g id=\"line2d_57\">\n    <path d=\"M 49.633125 14.139419 \nL 69.163125 13.5 \nL 88.693125 13.59538 \nL 108.223125 13.597304 \n\" clip-path=\"url(#p7f5df87148)\" style=\"fill: none; stroke-dasharray: 5.55,2.4; stroke-dashoffset: 0; stroke: #ff7f0e; stroke-width: 1.5\"/>\n   </g>\n   <g id=\"line2d_58\">\n    <path d=\"M 49.633125 134.991315 \nL 69.163125 139.38135 \nL 88.693125 139.38135 \nL 108.223125 139.5 \n\" clip-path=\"url(#p7f5df87148)\" style=\"fill: none; stroke-dasharray: 9.6,2.4,1.5,2.4; stroke-dashoffset: 0; stroke: #2ca02c; stroke-width: 1.5\"/>\n   </g>\n   <g id=\"line2d_59\">\n    <path d=\"M 34.954394 14.273501 \nL 44.698573 14.297494 \nL 54.442752 14.545432 \nL 64.186931 14.878954 \nL 73.93111 13.550977 \nL 83.675289 13.58678 \nL 93.419468 13.594253 \nL 103.163647 13.597162 \nL 112.907826 13.597305 \nL 122.652006 13.597305 \n\" clip-path=\"url(#p7f5df87148)\" style=\"fill: none; stroke: #1f77b4; stroke-width: 1.5; stroke-linecap: square\"/>\n   </g>\n   <g id=\"line2d_60\">\n    <path d=\"M 49.633125 14.139419 \nL 69.163125 13.5 \nL 88.693125 13.59538 \nL 108.223125 13.597304 \n\" clip-path=\"url(#p7f5df87148)\" style=\"fill: none; stroke-dasharray: 5.55,2.4; stroke-dashoffset: 0; stroke: #ff7f0e; stroke-width: 1.5\"/>\n   </g>\n   <g id=\"line2d_61\">\n    <path d=\"M 49.633125 134.991315 \nL 69.163125 139.38135 \nL 88.693125 139.38135 \nL 108.223125 139.5 \n\" clip-path=\"url(#p7f5df87148)\" style=\"fill: none; stroke-dasharray: 9.6,2.4,1.5,2.4; stroke-dashoffset: 0; stroke: #2ca02c; stroke-width: 1.5\"/>\n   </g>\n   <g id=\"line2d_62\">\n    <path d=\"M 34.954394 14.273501 \nL 44.698573 14.297494 \nL 54.442752 14.545432 \nL 64.186931 14.878954 \nL 73.93111 13.550977 \nL 83.675289 13.58678 \nL 93.419468 13.594253 \nL 103.163647 13.597162 \nL 112.907826 13.597305 \nL 122.652006 13.597305 \n\" clip-path=\"url(#p7f5df87148)\" style=\"fill: none; stroke: #1f77b4; stroke-width: 1.5; stroke-linecap: square\"/>\n   </g>\n   <g id=\"line2d_63\">\n    <path d=\"M 49.633125 14.139419 \nL 69.163125 13.5 \nL 88.693125 13.59538 \nL 108.223125 13.597304 \nL 127.753125 13.597304 \n\" clip-path=\"url(#p7f5df87148)\" style=\"fill: none; stroke-dasharray: 5.55,2.4; stroke-dashoffset: 0; stroke: #ff7f0e; stroke-width: 1.5\"/>\n   </g>\n   <g id=\"line2d_64\">\n    <path d=\"M 49.633125 134.991315 \nL 69.163125 139.38135 \nL 88.693125 139.38135 \nL 108.223125 139.5 \n\" clip-path=\"url(#p7f5df87148)\" style=\"fill: none; stroke-dasharray: 9.6,2.4,1.5,2.4; stroke-dashoffset: 0; stroke: #2ca02c; stroke-width: 1.5\"/>\n   </g>\n   <g id=\"line2d_65\">\n    <path d=\"M 34.954394 14.273501 \nL 44.698573 14.297494 \nL 54.442752 14.545432 \nL 64.186931 14.878954 \nL 73.93111 13.550977 \nL 83.675289 13.58678 \nL 93.419468 13.594253 \nL 103.163647 13.597162 \nL 112.907826 13.597305 \nL 122.652006 13.597305 \n\" clip-path=\"url(#p7f5df87148)\" style=\"fill: none; stroke: #1f77b4; stroke-width: 1.5; stroke-linecap: square\"/>\n   </g>\n   <g id=\"line2d_66\">\n    <path d=\"M 49.633125 14.139419 \nL 69.163125 13.5 \nL 88.693125 13.59538 \nL 108.223125 13.597304 \nL 127.753125 13.597304 \n\" clip-path=\"url(#p7f5df87148)\" style=\"fill: none; stroke-dasharray: 5.55,2.4; stroke-dashoffset: 0; stroke: #ff7f0e; stroke-width: 1.5\"/>\n   </g>\n   <g id=\"line2d_67\">\n    <path d=\"M 49.633125 134.991315 \nL 69.163125 139.38135 \nL 88.693125 139.38135 \nL 108.223125 139.5 \nL 127.753125 139.5 \n\" clip-path=\"url(#p7f5df87148)\" style=\"fill: none; stroke-dasharray: 9.6,2.4,1.5,2.4; stroke-dashoffset: 0; stroke: #2ca02c; stroke-width: 1.5\"/>\n   </g>\n   <g id=\"line2d_68\">\n    <path d=\"M 34.954394 14.273501 \nL 44.698573 14.297494 \nL 54.442752 14.545432 \nL 64.186931 14.878954 \nL 73.93111 13.550977 \nL 83.675289 13.58678 \nL 93.419468 13.594253 \nL 103.163647 13.597162 \nL 112.907826 13.597305 \nL 122.652006 13.597305 \nL 132.396185 13.597305 \n\" clip-path=\"url(#p7f5df87148)\" style=\"fill: none; stroke: #1f77b4; stroke-width: 1.5; stroke-linecap: square\"/>\n   </g>\n   <g id=\"line2d_69\">\n    <path d=\"M 49.633125 14.139419 \nL 69.163125 13.5 \nL 88.693125 13.59538 \nL 108.223125 13.597304 \nL 127.753125 13.597304 \n\" clip-path=\"url(#p7f5df87148)\" style=\"fill: none; stroke-dasharray: 5.55,2.4; stroke-dashoffset: 0; stroke: #ff7f0e; stroke-width: 1.5\"/>\n   </g>\n   <g id=\"line2d_70\">\n    <path d=\"M 49.633125 134.991315 \nL 69.163125 139.38135 \nL 88.693125 139.38135 \nL 108.223125 139.5 \nL 127.753125 139.5 \n\" clip-path=\"url(#p7f5df87148)\" style=\"fill: none; stroke-dasharray: 9.6,2.4,1.5,2.4; stroke-dashoffset: 0; stroke: #2ca02c; stroke-width: 1.5\"/>\n   </g>\n   <g id=\"line2d_71\">\n    <path d=\"M 34.954394 14.273501 \nL 44.698573 14.297494 \nL 54.442752 14.545432 \nL 64.186931 14.878954 \nL 73.93111 13.550977 \nL 83.675289 13.58678 \nL 93.419468 13.594253 \nL 103.163647 13.597162 \nL 112.907826 13.597305 \nL 122.652006 13.597305 \nL 132.396185 13.597305 \nL 142.140364 13.597305 \n\" clip-path=\"url(#p7f5df87148)\" style=\"fill: none; stroke: #1f77b4; stroke-width: 1.5; stroke-linecap: square\"/>\n   </g>\n   <g id=\"line2d_72\">\n    <path d=\"M 49.633125 14.139419 \nL 69.163125 13.5 \nL 88.693125 13.59538 \nL 108.223125 13.597304 \nL 127.753125 13.597304 \n\" clip-path=\"url(#p7f5df87148)\" style=\"fill: none; stroke-dasharray: 5.55,2.4; stroke-dashoffset: 0; stroke: #ff7f0e; stroke-width: 1.5\"/>\n   </g>\n   <g id=\"line2d_73\">\n    <path d=\"M 49.633125 134.991315 \nL 69.163125 139.38135 \nL 88.693125 139.38135 \nL 108.223125 139.5 \nL 127.753125 139.5 \n\" clip-path=\"url(#p7f5df87148)\" style=\"fill: none; stroke-dasharray: 9.6,2.4,1.5,2.4; stroke-dashoffset: 0; stroke: #2ca02c; stroke-width: 1.5\"/>\n   </g>\n   <g id=\"line2d_74\">\n    <path d=\"M 34.954394 14.273501 \nL 44.698573 14.297494 \nL 54.442752 14.545432 \nL 64.186931 14.878954 \nL 73.93111 13.550977 \nL 83.675289 13.58678 \nL 93.419468 13.594253 \nL 103.163647 13.597162 \nL 112.907826 13.597305 \nL 122.652006 13.597305 \nL 132.396185 13.597305 \nL 142.140364 13.597305 \n\" clip-path=\"url(#p7f5df87148)\" style=\"fill: none; stroke: #1f77b4; stroke-width: 1.5; stroke-linecap: square\"/>\n   </g>\n   <g id=\"line2d_75\">\n    <path d=\"M 49.633125 14.139419 \nL 69.163125 13.5 \nL 88.693125 13.59538 \nL 108.223125 13.597304 \nL 127.753125 13.597304 \nL 147.283125 13.597304 \n\" clip-path=\"url(#p7f5df87148)\" style=\"fill: none; stroke-dasharray: 5.55,2.4; stroke-dashoffset: 0; stroke: #ff7f0e; stroke-width: 1.5\"/>\n   </g>\n   <g id=\"line2d_76\">\n    <path d=\"M 49.633125 134.991315 \nL 69.163125 139.38135 \nL 88.693125 139.38135 \nL 108.223125 139.5 \nL 127.753125 139.5 \n\" clip-path=\"url(#p7f5df87148)\" style=\"fill: none; stroke-dasharray: 9.6,2.4,1.5,2.4; stroke-dashoffset: 0; stroke: #2ca02c; stroke-width: 1.5\"/>\n   </g>\n   <g id=\"line2d_77\">\n    <path d=\"M 34.954394 14.273501 \nL 44.698573 14.297494 \nL 54.442752 14.545432 \nL 64.186931 14.878954 \nL 73.93111 13.550977 \nL 83.675289 13.58678 \nL 93.419468 13.594253 \nL 103.163647 13.597162 \nL 112.907826 13.597305 \nL 122.652006 13.597305 \nL 132.396185 13.597305 \nL 142.140364 13.597305 \n\" clip-path=\"url(#p7f5df87148)\" style=\"fill: none; stroke: #1f77b4; stroke-width: 1.5; stroke-linecap: square\"/>\n   </g>\n   <g id=\"line2d_78\">\n    <path d=\"M 49.633125 14.139419 \nL 69.163125 13.5 \nL 88.693125 13.59538 \nL 108.223125 13.597304 \nL 127.753125 13.597304 \nL 147.283125 13.597304 \n\" clip-path=\"url(#p7f5df87148)\" style=\"fill: none; stroke-dasharray: 5.55,2.4; stroke-dashoffset: 0; stroke: #ff7f0e; stroke-width: 1.5\"/>\n   </g>\n   <g id=\"line2d_79\">\n    <path d=\"M 49.633125 134.991315 \nL 69.163125 139.38135 \nL 88.693125 139.38135 \nL 108.223125 139.5 \nL 127.753125 139.5 \nL 147.283125 139.5 \n\" clip-path=\"url(#p7f5df87148)\" style=\"fill: none; stroke-dasharray: 9.6,2.4,1.5,2.4; stroke-dashoffset: 0; stroke: #2ca02c; stroke-width: 1.5\"/>\n   </g>\n   <g id=\"line2d_80\">\n    <path d=\"M 34.954394 14.273501 \nL 44.698573 14.297494 \nL 54.442752 14.545432 \nL 64.186931 14.878954 \nL 73.93111 13.550977 \nL 83.675289 13.58678 \nL 93.419468 13.594253 \nL 103.163647 13.597162 \nL 112.907826 13.597305 \nL 122.652006 13.597305 \nL 132.396185 13.597305 \nL 142.140364 13.597305 \nL 151.884543 13.597305 \n\" clip-path=\"url(#p7f5df87148)\" style=\"fill: none; stroke: #1f77b4; stroke-width: 1.5; stroke-linecap: square\"/>\n   </g>\n   <g id=\"line2d_81\">\n    <path d=\"M 49.633125 14.139419 \nL 69.163125 13.5 \nL 88.693125 13.59538 \nL 108.223125 13.597304 \nL 127.753125 13.597304 \nL 147.283125 13.597304 \n\" clip-path=\"url(#p7f5df87148)\" style=\"fill: none; stroke-dasharray: 5.55,2.4; stroke-dashoffset: 0; stroke: #ff7f0e; stroke-width: 1.5\"/>\n   </g>\n   <g id=\"line2d_82\">\n    <path d=\"M 49.633125 134.991315 \nL 69.163125 139.38135 \nL 88.693125 139.38135 \nL 108.223125 139.5 \nL 127.753125 139.5 \nL 147.283125 139.5 \n\" clip-path=\"url(#p7f5df87148)\" style=\"fill: none; stroke-dasharray: 9.6,2.4,1.5,2.4; stroke-dashoffset: 0; stroke: #2ca02c; stroke-width: 1.5\"/>\n   </g>\n   <g id=\"line2d_83\">\n    <path d=\"M 34.954394 14.273501 \nL 44.698573 14.297494 \nL 54.442752 14.545432 \nL 64.186931 14.878954 \nL 73.93111 13.550977 \nL 83.675289 13.58678 \nL 93.419468 13.594253 \nL 103.163647 13.597162 \nL 112.907826 13.597305 \nL 122.652006 13.597305 \nL 132.396185 13.597305 \nL 142.140364 13.597305 \nL 151.884543 13.597305 \nL 161.628722 13.597305 \n\" clip-path=\"url(#p7f5df87148)\" style=\"fill: none; stroke: #1f77b4; stroke-width: 1.5; stroke-linecap: square\"/>\n   </g>\n   <g id=\"line2d_84\">\n    <path d=\"M 49.633125 14.139419 \nL 69.163125 13.5 \nL 88.693125 13.59538 \nL 108.223125 13.597304 \nL 127.753125 13.597304 \nL 147.283125 13.597304 \n\" clip-path=\"url(#p7f5df87148)\" style=\"fill: none; stroke-dasharray: 5.55,2.4; stroke-dashoffset: 0; stroke: #ff7f0e; stroke-width: 1.5\"/>\n   </g>\n   <g id=\"line2d_85\">\n    <path d=\"M 49.633125 134.991315 \nL 69.163125 139.38135 \nL 88.693125 139.38135 \nL 108.223125 139.5 \nL 127.753125 139.5 \nL 147.283125 139.5 \n\" clip-path=\"url(#p7f5df87148)\" style=\"fill: none; stroke-dasharray: 9.6,2.4,1.5,2.4; stroke-dashoffset: 0; stroke: #2ca02c; stroke-width: 1.5\"/>\n   </g>\n   <g id=\"line2d_86\">\n    <path d=\"M 34.954394 14.273501 \nL 44.698573 14.297494 \nL 54.442752 14.545432 \nL 64.186931 14.878954 \nL 73.93111 13.550977 \nL 83.675289 13.58678 \nL 93.419468 13.594253 \nL 103.163647 13.597162 \nL 112.907826 13.597305 \nL 122.652006 13.597305 \nL 132.396185 13.597305 \nL 142.140364 13.597305 \nL 151.884543 13.597305 \nL 161.628722 13.597305 \n\" clip-path=\"url(#p7f5df87148)\" style=\"fill: none; stroke: #1f77b4; stroke-width: 1.5; stroke-linecap: square\"/>\n   </g>\n   <g id=\"line2d_87\">\n    <path d=\"M 49.633125 14.139419 \nL 69.163125 13.5 \nL 88.693125 13.59538 \nL 108.223125 13.597304 \nL 127.753125 13.597304 \nL 147.283125 13.597304 \nL 166.813125 13.597304 \n\" clip-path=\"url(#p7f5df87148)\" style=\"fill: none; stroke-dasharray: 5.55,2.4; stroke-dashoffset: 0; stroke: #ff7f0e; stroke-width: 1.5\"/>\n   </g>\n   <g id=\"line2d_88\">\n    <path d=\"M 49.633125 134.991315 \nL 69.163125 139.38135 \nL 88.693125 139.38135 \nL 108.223125 139.5 \nL 127.753125 139.5 \nL 147.283125 139.5 \n\" clip-path=\"url(#p7f5df87148)\" style=\"fill: none; stroke-dasharray: 9.6,2.4,1.5,2.4; stroke-dashoffset: 0; stroke: #2ca02c; stroke-width: 1.5\"/>\n   </g>\n   <g id=\"line2d_89\">\n    <path d=\"M 34.954394 14.273501 \nL 44.698573 14.297494 \nL 54.442752 14.545432 \nL 64.186931 14.878954 \nL 73.93111 13.550977 \nL 83.675289 13.58678 \nL 93.419468 13.594253 \nL 103.163647 13.597162 \nL 112.907826 13.597305 \nL 122.652006 13.597305 \nL 132.396185 13.597305 \nL 142.140364 13.597305 \nL 151.884543 13.597305 \nL 161.628722 13.597305 \n\" clip-path=\"url(#p7f5df87148)\" style=\"fill: none; stroke: #1f77b4; stroke-width: 1.5; stroke-linecap: square\"/>\n   </g>\n   <g id=\"line2d_90\">\n    <path d=\"M 49.633125 14.139419 \nL 69.163125 13.5 \nL 88.693125 13.59538 \nL 108.223125 13.597304 \nL 127.753125 13.597304 \nL 147.283125 13.597304 \nL 166.813125 13.597304 \n\" clip-path=\"url(#p7f5df87148)\" style=\"fill: none; stroke-dasharray: 5.55,2.4; stroke-dashoffset: 0; stroke: #ff7f0e; stroke-width: 1.5\"/>\n   </g>\n   <g id=\"line2d_91\">\n    <path d=\"M 49.633125 134.991315 \nL 69.163125 139.38135 \nL 88.693125 139.38135 \nL 108.223125 139.5 \nL 127.753125 139.5 \nL 147.283125 139.5 \nL 166.813125 139.5 \n\" clip-path=\"url(#p7f5df87148)\" style=\"fill: none; stroke-dasharray: 9.6,2.4,1.5,2.4; stroke-dashoffset: 0; stroke: #2ca02c; stroke-width: 1.5\"/>\n   </g>\n   <g id=\"line2d_92\">\n    <path d=\"M 34.954394 14.273501 \nL 44.698573 14.297494 \nL 54.442752 14.545432 \nL 64.186931 14.878954 \nL 73.93111 13.550977 \nL 83.675289 13.58678 \nL 93.419468 13.594253 \nL 103.163647 13.597162 \nL 112.907826 13.597305 \nL 122.652006 13.597305 \nL 132.396185 13.597305 \nL 142.140364 13.597305 \nL 151.884543 13.597305 \nL 161.628722 13.597305 \nL 171.372901 13.597305 \n\" clip-path=\"url(#p7f5df87148)\" style=\"fill: none; stroke: #1f77b4; stroke-width: 1.5; stroke-linecap: square\"/>\n   </g>\n   <g id=\"line2d_93\">\n    <path d=\"M 49.633125 14.139419 \nL 69.163125 13.5 \nL 88.693125 13.59538 \nL 108.223125 13.597304 \nL 127.753125 13.597304 \nL 147.283125 13.597304 \nL 166.813125 13.597304 \n\" clip-path=\"url(#p7f5df87148)\" style=\"fill: none; stroke-dasharray: 5.55,2.4; stroke-dashoffset: 0; stroke: #ff7f0e; stroke-width: 1.5\"/>\n   </g>\n   <g id=\"line2d_94\">\n    <path d=\"M 49.633125 134.991315 \nL 69.163125 139.38135 \nL 88.693125 139.38135 \nL 108.223125 139.5 \nL 127.753125 139.5 \nL 147.283125 139.5 \nL 166.813125 139.5 \n\" clip-path=\"url(#p7f5df87148)\" style=\"fill: none; stroke-dasharray: 9.6,2.4,1.5,2.4; stroke-dashoffset: 0; stroke: #2ca02c; stroke-width: 1.5\"/>\n   </g>\n   <g id=\"line2d_95\">\n    <path d=\"M 34.954394 14.273501 \nL 44.698573 14.297494 \nL 54.442752 14.545432 \nL 64.186931 14.878954 \nL 73.93111 13.550977 \nL 83.675289 13.58678 \nL 93.419468 13.594253 \nL 103.163647 13.597162 \nL 112.907826 13.597305 \nL 122.652006 13.597305 \nL 132.396185 13.597305 \nL 142.140364 13.597305 \nL 151.884543 13.597305 \nL 161.628722 13.597305 \nL 171.372901 13.597305 \nL 181.11708 13.597305 \n\" clip-path=\"url(#p7f5df87148)\" style=\"fill: none; stroke: #1f77b4; stroke-width: 1.5; stroke-linecap: square\"/>\n   </g>\n   <g id=\"line2d_96\">\n    <path d=\"M 49.633125 14.139419 \nL 69.163125 13.5 \nL 88.693125 13.59538 \nL 108.223125 13.597304 \nL 127.753125 13.597304 \nL 147.283125 13.597304 \nL 166.813125 13.597304 \n\" clip-path=\"url(#p7f5df87148)\" style=\"fill: none; stroke-dasharray: 5.55,2.4; stroke-dashoffset: 0; stroke: #ff7f0e; stroke-width: 1.5\"/>\n   </g>\n   <g id=\"line2d_97\">\n    <path d=\"M 49.633125 134.991315 \nL 69.163125 139.38135 \nL 88.693125 139.38135 \nL 108.223125 139.5 \nL 127.753125 139.5 \nL 147.283125 139.5 \nL 166.813125 139.5 \n\" clip-path=\"url(#p7f5df87148)\" style=\"fill: none; stroke-dasharray: 9.6,2.4,1.5,2.4; stroke-dashoffset: 0; stroke: #2ca02c; stroke-width: 1.5\"/>\n   </g>\n   <g id=\"line2d_98\">\n    <path d=\"M 34.954394 14.273501 \nL 44.698573 14.297494 \nL 54.442752 14.545432 \nL 64.186931 14.878954 \nL 73.93111 13.550977 \nL 83.675289 13.58678 \nL 93.419468 13.594253 \nL 103.163647 13.597162 \nL 112.907826 13.597305 \nL 122.652006 13.597305 \nL 132.396185 13.597305 \nL 142.140364 13.597305 \nL 151.884543 13.597305 \nL 161.628722 13.597305 \nL 171.372901 13.597305 \nL 181.11708 13.597305 \n\" clip-path=\"url(#p7f5df87148)\" style=\"fill: none; stroke: #1f77b4; stroke-width: 1.5; stroke-linecap: square\"/>\n   </g>\n   <g id=\"line2d_99\">\n    <path d=\"M 49.633125 14.139419 \nL 69.163125 13.5 \nL 88.693125 13.59538 \nL 108.223125 13.597304 \nL 127.753125 13.597304 \nL 147.283125 13.597304 \nL 166.813125 13.597304 \nL 186.343125 13.597304 \n\" clip-path=\"url(#p7f5df87148)\" style=\"fill: none; stroke-dasharray: 5.55,2.4; stroke-dashoffset: 0; stroke: #ff7f0e; stroke-width: 1.5\"/>\n   </g>\n   <g id=\"line2d_100\">\n    <path d=\"M 49.633125 134.991315 \nL 69.163125 139.38135 \nL 88.693125 139.38135 \nL 108.223125 139.5 \nL 127.753125 139.5 \nL 147.283125 139.5 \nL 166.813125 139.5 \n\" clip-path=\"url(#p7f5df87148)\" style=\"fill: none; stroke-dasharray: 9.6,2.4,1.5,2.4; stroke-dashoffset: 0; stroke: #2ca02c; stroke-width: 1.5\"/>\n   </g>\n   <g id=\"line2d_101\">\n    <path d=\"M 34.954394 14.273501 \nL 44.698573 14.297494 \nL 54.442752 14.545432 \nL 64.186931 14.878954 \nL 73.93111 13.550977 \nL 83.675289 13.58678 \nL 93.419468 13.594253 \nL 103.163647 13.597162 \nL 112.907826 13.597305 \nL 122.652006 13.597305 \nL 132.396185 13.597305 \nL 142.140364 13.597305 \nL 151.884543 13.597305 \nL 161.628722 13.597305 \nL 171.372901 13.597305 \nL 181.11708 13.597305 \n\" clip-path=\"url(#p7f5df87148)\" style=\"fill: none; stroke: #1f77b4; stroke-width: 1.5; stroke-linecap: square\"/>\n   </g>\n   <g id=\"line2d_102\">\n    <path d=\"M 49.633125 14.139419 \nL 69.163125 13.5 \nL 88.693125 13.59538 \nL 108.223125 13.597304 \nL 127.753125 13.597304 \nL 147.283125 13.597304 \nL 166.813125 13.597304 \nL 186.343125 13.597304 \n\" clip-path=\"url(#p7f5df87148)\" style=\"fill: none; stroke-dasharray: 5.55,2.4; stroke-dashoffset: 0; stroke: #ff7f0e; stroke-width: 1.5\"/>\n   </g>\n   <g id=\"line2d_103\">\n    <path d=\"M 49.633125 134.991315 \nL 69.163125 139.38135 \nL 88.693125 139.38135 \nL 108.223125 139.5 \nL 127.753125 139.5 \nL 147.283125 139.5 \nL 166.813125 139.5 \nL 186.343125 139.5 \n\" clip-path=\"url(#p7f5df87148)\" style=\"fill: none; stroke-dasharray: 9.6,2.4,1.5,2.4; stroke-dashoffset: 0; stroke: #2ca02c; stroke-width: 1.5\"/>\n   </g>\n   <g id=\"line2d_104\">\n    <path d=\"M 34.954394 14.273501 \nL 44.698573 14.297494 \nL 54.442752 14.545432 \nL 64.186931 14.878954 \nL 73.93111 13.550977 \nL 83.675289 13.58678 \nL 93.419468 13.594253 \nL 103.163647 13.597162 \nL 112.907826 13.597305 \nL 122.652006 13.597305 \nL 132.396185 13.597305 \nL 142.140364 13.597305 \nL 151.884543 13.597305 \nL 161.628722 13.597305 \nL 171.372901 13.597305 \nL 181.11708 13.597305 \nL 190.861259 13.597305 \n\" clip-path=\"url(#p7f5df87148)\" style=\"fill: none; stroke: #1f77b4; stroke-width: 1.5; stroke-linecap: square\"/>\n   </g>\n   <g id=\"line2d_105\">\n    <path d=\"M 49.633125 14.139419 \nL 69.163125 13.5 \nL 88.693125 13.59538 \nL 108.223125 13.597304 \nL 127.753125 13.597304 \nL 147.283125 13.597304 \nL 166.813125 13.597304 \nL 186.343125 13.597304 \n\" clip-path=\"url(#p7f5df87148)\" style=\"fill: none; stroke-dasharray: 5.55,2.4; stroke-dashoffset: 0; stroke: #ff7f0e; stroke-width: 1.5\"/>\n   </g>\n   <g id=\"line2d_106\">\n    <path d=\"M 49.633125 134.991315 \nL 69.163125 139.38135 \nL 88.693125 139.38135 \nL 108.223125 139.5 \nL 127.753125 139.5 \nL 147.283125 139.5 \nL 166.813125 139.5 \nL 186.343125 139.5 \n\" clip-path=\"url(#p7f5df87148)\" style=\"fill: none; stroke-dasharray: 9.6,2.4,1.5,2.4; stroke-dashoffset: 0; stroke: #2ca02c; stroke-width: 1.5\"/>\n   </g>\n   <g id=\"line2d_107\">\n    <path d=\"M 34.954394 14.273501 \nL 44.698573 14.297494 \nL 54.442752 14.545432 \nL 64.186931 14.878954 \nL 73.93111 13.550977 \nL 83.675289 13.58678 \nL 93.419468 13.594253 \nL 103.163647 13.597162 \nL 112.907826 13.597305 \nL 122.652006 13.597305 \nL 132.396185 13.597305 \nL 142.140364 13.597305 \nL 151.884543 13.597305 \nL 161.628722 13.597305 \nL 171.372901 13.597305 \nL 181.11708 13.597305 \nL 190.861259 13.597305 \nL 200.605438 13.597305 \n\" clip-path=\"url(#p7f5df87148)\" style=\"fill: none; stroke: #1f77b4; stroke-width: 1.5; stroke-linecap: square\"/>\n   </g>\n   <g id=\"line2d_108\">\n    <path d=\"M 49.633125 14.139419 \nL 69.163125 13.5 \nL 88.693125 13.59538 \nL 108.223125 13.597304 \nL 127.753125 13.597304 \nL 147.283125 13.597304 \nL 166.813125 13.597304 \nL 186.343125 13.597304 \n\" clip-path=\"url(#p7f5df87148)\" style=\"fill: none; stroke-dasharray: 5.55,2.4; stroke-dashoffset: 0; stroke: #ff7f0e; stroke-width: 1.5\"/>\n   </g>\n   <g id=\"line2d_109\">\n    <path d=\"M 49.633125 134.991315 \nL 69.163125 139.38135 \nL 88.693125 139.38135 \nL 108.223125 139.5 \nL 127.753125 139.5 \nL 147.283125 139.5 \nL 166.813125 139.5 \nL 186.343125 139.5 \n\" clip-path=\"url(#p7f5df87148)\" style=\"fill: none; stroke-dasharray: 9.6,2.4,1.5,2.4; stroke-dashoffset: 0; stroke: #2ca02c; stroke-width: 1.5\"/>\n   </g>\n   <g id=\"line2d_110\">\n    <path d=\"M 34.954394 14.273501 \nL 44.698573 14.297494 \nL 54.442752 14.545432 \nL 64.186931 14.878954 \nL 73.93111 13.550977 \nL 83.675289 13.58678 \nL 93.419468 13.594253 \nL 103.163647 13.597162 \nL 112.907826 13.597305 \nL 122.652006 13.597305 \nL 132.396185 13.597305 \nL 142.140364 13.597305 \nL 151.884543 13.597305 \nL 161.628722 13.597305 \nL 171.372901 13.597305 \nL 181.11708 13.597305 \nL 190.861259 13.597305 \nL 200.605438 13.597305 \n\" clip-path=\"url(#p7f5df87148)\" style=\"fill: none; stroke: #1f77b4; stroke-width: 1.5; stroke-linecap: square\"/>\n   </g>\n   <g id=\"line2d_111\">\n    <path d=\"M 49.633125 14.139419 \nL 69.163125 13.5 \nL 88.693125 13.59538 \nL 108.223125 13.597304 \nL 127.753125 13.597304 \nL 147.283125 13.597304 \nL 166.813125 13.597304 \nL 186.343125 13.597304 \nL 205.873125 13.597304 \n\" clip-path=\"url(#p7f5df87148)\" style=\"fill: none; stroke-dasharray: 5.55,2.4; stroke-dashoffset: 0; stroke: #ff7f0e; stroke-width: 1.5\"/>\n   </g>\n   <g id=\"line2d_112\">\n    <path d=\"M 49.633125 134.991315 \nL 69.163125 139.38135 \nL 88.693125 139.38135 \nL 108.223125 139.5 \nL 127.753125 139.5 \nL 147.283125 139.5 \nL 166.813125 139.5 \nL 186.343125 139.5 \n\" clip-path=\"url(#p7f5df87148)\" style=\"fill: none; stroke-dasharray: 9.6,2.4,1.5,2.4; stroke-dashoffset: 0; stroke: #2ca02c; stroke-width: 1.5\"/>\n   </g>\n   <g id=\"line2d_113\">\n    <path d=\"M 34.954394 14.273501 \nL 44.698573 14.297494 \nL 54.442752 14.545432 \nL 64.186931 14.878954 \nL 73.93111 13.550977 \nL 83.675289 13.58678 \nL 93.419468 13.594253 \nL 103.163647 13.597162 \nL 112.907826 13.597305 \nL 122.652006 13.597305 \nL 132.396185 13.597305 \nL 142.140364 13.597305 \nL 151.884543 13.597305 \nL 161.628722 13.597305 \nL 171.372901 13.597305 \nL 181.11708 13.597305 \nL 190.861259 13.597305 \nL 200.605438 13.597305 \n\" clip-path=\"url(#p7f5df87148)\" style=\"fill: none; stroke: #1f77b4; stroke-width: 1.5; stroke-linecap: square\"/>\n   </g>\n   <g id=\"line2d_114\">\n    <path d=\"M 49.633125 14.139419 \nL 69.163125 13.5 \nL 88.693125 13.59538 \nL 108.223125 13.597304 \nL 127.753125 13.597304 \nL 147.283125 13.597304 \nL 166.813125 13.597304 \nL 186.343125 13.597304 \nL 205.873125 13.597304 \n\" clip-path=\"url(#p7f5df87148)\" style=\"fill: none; stroke-dasharray: 5.55,2.4; stroke-dashoffset: 0; stroke: #ff7f0e; stroke-width: 1.5\"/>\n   </g>\n   <g id=\"line2d_115\">\n    <path d=\"M 49.633125 134.991315 \nL 69.163125 139.38135 \nL 88.693125 139.38135 \nL 108.223125 139.5 \nL 127.753125 139.5 \nL 147.283125 139.5 \nL 166.813125 139.5 \nL 186.343125 139.5 \nL 205.873125 139.5 \n\" clip-path=\"url(#p7f5df87148)\" style=\"fill: none; stroke-dasharray: 9.6,2.4,1.5,2.4; stroke-dashoffset: 0; stroke: #2ca02c; stroke-width: 1.5\"/>\n   </g>\n   <g id=\"line2d_116\">\n    <path d=\"M 34.954394 14.273501 \nL 44.698573 14.297494 \nL 54.442752 14.545432 \nL 64.186931 14.878954 \nL 73.93111 13.550977 \nL 83.675289 13.58678 \nL 93.419468 13.594253 \nL 103.163647 13.597162 \nL 112.907826 13.597305 \nL 122.652006 13.597305 \nL 132.396185 13.597305 \nL 142.140364 13.597305 \nL 151.884543 13.597305 \nL 161.628722 13.597305 \nL 171.372901 13.597305 \nL 181.11708 13.597305 \nL 190.861259 13.597305 \nL 200.605438 13.597305 \nL 210.349618 13.597305 \n\" clip-path=\"url(#p7f5df87148)\" style=\"fill: none; stroke: #1f77b4; stroke-width: 1.5; stroke-linecap: square\"/>\n   </g>\n   <g id=\"line2d_117\">\n    <path d=\"M 49.633125 14.139419 \nL 69.163125 13.5 \nL 88.693125 13.59538 \nL 108.223125 13.597304 \nL 127.753125 13.597304 \nL 147.283125 13.597304 \nL 166.813125 13.597304 \nL 186.343125 13.597304 \nL 205.873125 13.597304 \n\" clip-path=\"url(#p7f5df87148)\" style=\"fill: none; stroke-dasharray: 5.55,2.4; stroke-dashoffset: 0; stroke: #ff7f0e; stroke-width: 1.5\"/>\n   </g>\n   <g id=\"line2d_118\">\n    <path d=\"M 49.633125 134.991315 \nL 69.163125 139.38135 \nL 88.693125 139.38135 \nL 108.223125 139.5 \nL 127.753125 139.5 \nL 147.283125 139.5 \nL 166.813125 139.5 \nL 186.343125 139.5 \nL 205.873125 139.5 \n\" clip-path=\"url(#p7f5df87148)\" style=\"fill: none; stroke-dasharray: 9.6,2.4,1.5,2.4; stroke-dashoffset: 0; stroke: #2ca02c; stroke-width: 1.5\"/>\n   </g>\n   <g id=\"line2d_119\">\n    <path d=\"M 34.954394 14.273501 \nL 44.698573 14.297494 \nL 54.442752 14.545432 \nL 64.186931 14.878954 \nL 73.93111 13.550977 \nL 83.675289 13.58678 \nL 93.419468 13.594253 \nL 103.163647 13.597162 \nL 112.907826 13.597305 \nL 122.652006 13.597305 \nL 132.396185 13.597305 \nL 142.140364 13.597305 \nL 151.884543 13.597305 \nL 161.628722 13.597305 \nL 171.372901 13.597305 \nL 181.11708 13.597305 \nL 190.861259 13.597305 \nL 200.605438 13.597305 \nL 210.349618 13.597305 \nL 220.093797 13.597305 \n\" clip-path=\"url(#p7f5df87148)\" style=\"fill: none; stroke: #1f77b4; stroke-width: 1.5; stroke-linecap: square\"/>\n   </g>\n   <g id=\"line2d_120\">\n    <path d=\"M 49.633125 14.139419 \nL 69.163125 13.5 \nL 88.693125 13.59538 \nL 108.223125 13.597304 \nL 127.753125 13.597304 \nL 147.283125 13.597304 \nL 166.813125 13.597304 \nL 186.343125 13.597304 \nL 205.873125 13.597304 \n\" clip-path=\"url(#p7f5df87148)\" style=\"fill: none; stroke-dasharray: 5.55,2.4; stroke-dashoffset: 0; stroke: #ff7f0e; stroke-width: 1.5\"/>\n   </g>\n   <g id=\"line2d_121\">\n    <path d=\"M 49.633125 134.991315 \nL 69.163125 139.38135 \nL 88.693125 139.38135 \nL 108.223125 139.5 \nL 127.753125 139.5 \nL 147.283125 139.5 \nL 166.813125 139.5 \nL 186.343125 139.5 \nL 205.873125 139.5 \n\" clip-path=\"url(#p7f5df87148)\" style=\"fill: none; stroke-dasharray: 9.6,2.4,1.5,2.4; stroke-dashoffset: 0; stroke: #2ca02c; stroke-width: 1.5\"/>\n   </g>\n   <g id=\"line2d_122\">\n    <path d=\"M 34.954394 14.273501 \nL 44.698573 14.297494 \nL 54.442752 14.545432 \nL 64.186931 14.878954 \nL 73.93111 13.550977 \nL 83.675289 13.58678 \nL 93.419468 13.594253 \nL 103.163647 13.597162 \nL 112.907826 13.597305 \nL 122.652006 13.597305 \nL 132.396185 13.597305 \nL 142.140364 13.597305 \nL 151.884543 13.597305 \nL 161.628722 13.597305 \nL 171.372901 13.597305 \nL 181.11708 13.597305 \nL 190.861259 13.597305 \nL 200.605438 13.597305 \nL 210.349618 13.597305 \nL 220.093797 13.597305 \n\" clip-path=\"url(#p7f5df87148)\" style=\"fill: none; stroke: #1f77b4; stroke-width: 1.5; stroke-linecap: square\"/>\n   </g>\n   <g id=\"line2d_123\">\n    <path d=\"M 49.633125 14.139419 \nL 69.163125 13.5 \nL 88.693125 13.59538 \nL 108.223125 13.597304 \nL 127.753125 13.597304 \nL 147.283125 13.597304 \nL 166.813125 13.597304 \nL 186.343125 13.597304 \nL 205.873125 13.597304 \nL 225.403125 13.597304 \n\" clip-path=\"url(#p7f5df87148)\" style=\"fill: none; stroke-dasharray: 5.55,2.4; stroke-dashoffset: 0; stroke: #ff7f0e; stroke-width: 1.5\"/>\n   </g>\n   <g id=\"line2d_124\">\n    <path d=\"M 49.633125 134.991315 \nL 69.163125 139.38135 \nL 88.693125 139.38135 \nL 108.223125 139.5 \nL 127.753125 139.5 \nL 147.283125 139.5 \nL 166.813125 139.5 \nL 186.343125 139.5 \nL 205.873125 139.5 \n\" clip-path=\"url(#p7f5df87148)\" style=\"fill: none; stroke-dasharray: 9.6,2.4,1.5,2.4; stroke-dashoffset: 0; stroke: #2ca02c; stroke-width: 1.5\"/>\n   </g>\n   <g id=\"line2d_125\">\n    <path d=\"M 34.954394 14.273501 \nL 44.698573 14.297494 \nL 54.442752 14.545432 \nL 64.186931 14.878954 \nL 73.93111 13.550977 \nL 83.675289 13.58678 \nL 93.419468 13.594253 \nL 103.163647 13.597162 \nL 112.907826 13.597305 \nL 122.652006 13.597305 \nL 132.396185 13.597305 \nL 142.140364 13.597305 \nL 151.884543 13.597305 \nL 161.628722 13.597305 \nL 171.372901 13.597305 \nL 181.11708 13.597305 \nL 190.861259 13.597305 \nL 200.605438 13.597305 \nL 210.349618 13.597305 \nL 220.093797 13.597305 \n\" clip-path=\"url(#p7f5df87148)\" style=\"fill: none; stroke: #1f77b4; stroke-width: 1.5; stroke-linecap: square\"/>\n   </g>\n   <g id=\"line2d_126\">\n    <path d=\"M 49.633125 14.139419 \nL 69.163125 13.5 \nL 88.693125 13.59538 \nL 108.223125 13.597304 \nL 127.753125 13.597304 \nL 147.283125 13.597304 \nL 166.813125 13.597304 \nL 186.343125 13.597304 \nL 205.873125 13.597304 \nL 225.403125 13.597304 \n\" clip-path=\"url(#p7f5df87148)\" style=\"fill: none; stroke-dasharray: 5.55,2.4; stroke-dashoffset: 0; stroke: #ff7f0e; stroke-width: 1.5\"/>\n   </g>\n   <g id=\"line2d_127\">\n    <path d=\"M 49.633125 134.991315 \nL 69.163125 139.38135 \nL 88.693125 139.38135 \nL 108.223125 139.5 \nL 127.753125 139.5 \nL 147.283125 139.5 \nL 166.813125 139.5 \nL 186.343125 139.5 \nL 205.873125 139.5 \nL 225.403125 139.5 \n\" clip-path=\"url(#p7f5df87148)\" style=\"fill: none; stroke-dasharray: 9.6,2.4,1.5,2.4; stroke-dashoffset: 0; stroke: #2ca02c; stroke-width: 1.5\"/>\n   </g>\n   <g id=\"patch_3\">\n    <path d=\"M 30.103125 145.8 \nL 30.103125 7.2 \n\" style=\"fill: none; stroke: #000000; stroke-width: 0.8; stroke-linejoin: miter; stroke-linecap: square\"/>\n   </g>\n   <g id=\"patch_4\">\n    <path d=\"M 225.403125 145.8 \nL 225.403125 7.2 \n\" style=\"fill: none; stroke: #000000; stroke-width: 0.8; stroke-linejoin: miter; stroke-linecap: square\"/>\n   </g>\n   <g id=\"patch_5\">\n    <path d=\"M 30.103125 145.8 \nL 225.403125 145.8 \n\" style=\"fill: none; stroke: #000000; stroke-width: 0.8; stroke-linejoin: miter; stroke-linecap: square\"/>\n   </g>\n   <g id=\"patch_6\">\n    <path d=\"M 30.103125 7.2 \nL 225.403125 7.2 \n\" style=\"fill: none; stroke: #000000; stroke-width: 0.8; stroke-linejoin: miter; stroke-linecap: square\"/>\n   </g>\n   <g id=\"legend_1\">\n    <g id=\"patch_7\">\n     <path d=\"M 138.8125 100.434375 \nL 218.403125 100.434375 \nQ 220.403125 100.434375 220.403125 98.434375 \nL 220.403125 54.565625 \nQ 220.403125 52.565625 218.403125 52.565625 \nL 138.8125 52.565625 \nQ 136.8125 52.565625 136.8125 54.565625 \nL 136.8125 98.434375 \nQ 136.8125 100.434375 138.8125 100.434375 \nz\n\" style=\"fill: #ffffff; opacity: 0.8; stroke: #cccccc; stroke-linejoin: miter\"/>\n    </g>\n    <g id=\"line2d_128\">\n     <path d=\"M 140.8125 60.664063 \nL 150.8125 60.664063 \nL 160.8125 60.664063 \n\" style=\"fill: none; stroke: #1f77b4; stroke-width: 1.5; stroke-linecap: square\"/>\n    </g>\n    <g id=\"text_13\">\n     <!-- train_loss -->\n     <g transform=\"translate(168.8125 64.164063) scale(0.1 -0.1)\">\n      <defs>\n       <path id=\"DejaVuSans-74\" d=\"M 1172 4494 \nL 1172 3500 \nL 2356 3500 \nL 2356 3053 \nL 1172 3053 \nL 1172 1153 \nQ 1172 725 1289 603 \nQ 1406 481 1766 481 \nL 2356 481 \nL 2356 0 \nL 1766 0 \nQ 1100 0 847 248 \nQ 594 497 594 1153 \nL 594 3053 \nL 172 3053 \nL 172 3500 \nL 594 3500 \nL 594 4494 \nL 1172 4494 \nz\n\" transform=\"scale(0.015625)\"/>\n       <path id=\"DejaVuSans-72\" d=\"M 2631 2963 \nQ 2534 3019 2420 3045 \nQ 2306 3072 2169 3072 \nQ 1681 3072 1420 2755 \nQ 1159 2438 1159 1844 \nL 1159 0 \nL 581 0 \nL 581 3500 \nL 1159 3500 \nL 1159 2956 \nQ 1341 3275 1631 3429 \nQ 1922 3584 2338 3584 \nQ 2397 3584 2469 3576 \nQ 2541 3569 2628 3553 \nL 2631 2963 \nz\n\" transform=\"scale(0.015625)\"/>\n       <path id=\"DejaVuSans-61\" d=\"M 2194 1759 \nQ 1497 1759 1228 1600 \nQ 959 1441 959 1056 \nQ 959 750 1161 570 \nQ 1363 391 1709 391 \nQ 2188 391 2477 730 \nQ 2766 1069 2766 1631 \nL 2766 1759 \nL 2194 1759 \nz\nM 3341 1997 \nL 3341 0 \nL 2766 0 \nL 2766 531 \nQ 2569 213 2275 61 \nQ 1981 -91 1556 -91 \nQ 1019 -91 701 211 \nQ 384 513 384 1019 \nQ 384 1609 779 1909 \nQ 1175 2209 1959 2209 \nL 2766 2209 \nL 2766 2266 \nQ 2766 2663 2505 2880 \nQ 2244 3097 1772 3097 \nQ 1472 3097 1187 3025 \nQ 903 2953 641 2809 \nL 641 3341 \nQ 956 3463 1253 3523 \nQ 1550 3584 1831 3584 \nQ 2591 3584 2966 3190 \nQ 3341 2797 3341 1997 \nz\n\" transform=\"scale(0.015625)\"/>\n       <path id=\"DejaVuSans-69\" d=\"M 603 3500 \nL 1178 3500 \nL 1178 0 \nL 603 0 \nL 603 3500 \nz\nM 603 4863 \nL 1178 4863 \nL 1178 4134 \nL 603 4134 \nL 603 4863 \nz\n\" transform=\"scale(0.015625)\"/>\n       <path id=\"DejaVuSans-6e\" d=\"M 3513 2113 \nL 3513 0 \nL 2938 0 \nL 2938 2094 \nQ 2938 2591 2744 2837 \nQ 2550 3084 2163 3084 \nQ 1697 3084 1428 2787 \nQ 1159 2491 1159 1978 \nL 1159 0 \nL 581 0 \nL 581 3500 \nL 1159 3500 \nL 1159 2956 \nQ 1366 3272 1645 3428 \nQ 1925 3584 2291 3584 \nQ 2894 3584 3203 3211 \nQ 3513 2838 3513 2113 \nz\n\" transform=\"scale(0.015625)\"/>\n       <path id=\"DejaVuSans-5f\" d=\"M 3263 -1063 \nL 3263 -1509 \nL -63 -1509 \nL -63 -1063 \nL 3263 -1063 \nz\n\" transform=\"scale(0.015625)\"/>\n       <path id=\"DejaVuSans-6c\" d=\"M 603 4863 \nL 1178 4863 \nL 1178 0 \nL 603 0 \nL 603 4863 \nz\n\" transform=\"scale(0.015625)\"/>\n       <path id=\"DejaVuSans-73\" d=\"M 2834 3397 \nL 2834 2853 \nQ 2591 2978 2328 3040 \nQ 2066 3103 1784 3103 \nQ 1356 3103 1142 2972 \nQ 928 2841 928 2578 \nQ 928 2378 1081 2264 \nQ 1234 2150 1697 2047 \nL 1894 2003 \nQ 2506 1872 2764 1633 \nQ 3022 1394 3022 966 \nQ 3022 478 2636 193 \nQ 2250 -91 1575 -91 \nQ 1294 -91 989 -36 \nQ 684 19 347 128 \nL 347 722 \nQ 666 556 975 473 \nQ 1284 391 1588 391 \nQ 1994 391 2212 530 \nQ 2431 669 2431 922 \nQ 2431 1156 2273 1281 \nQ 2116 1406 1581 1522 \nL 1381 1569 \nQ 847 1681 609 1914 \nQ 372 2147 372 2553 \nQ 372 3047 722 3315 \nQ 1072 3584 1716 3584 \nQ 2034 3584 2315 3537 \nQ 2597 3491 2834 3397 \nz\n\" transform=\"scale(0.015625)\"/>\n      </defs>\n      <use xlink:href=\"#DejaVuSans-74\"/>\n      <use xlink:href=\"#DejaVuSans-72\" x=\"39.208984\"/>\n      <use xlink:href=\"#DejaVuSans-61\" x=\"80.322266\"/>\n      <use xlink:href=\"#DejaVuSans-69\" x=\"141.601562\"/>\n      <use xlink:href=\"#DejaVuSans-6e\" x=\"169.384766\"/>\n      <use xlink:href=\"#DejaVuSans-5f\" x=\"232.763672\"/>\n      <use xlink:href=\"#DejaVuSans-6c\" x=\"282.763672\"/>\n      <use xlink:href=\"#DejaVuSans-6f\" x=\"310.546875\"/>\n      <use xlink:href=\"#DejaVuSans-73\" x=\"371.728516\"/>\n      <use xlink:href=\"#DejaVuSans-73\" x=\"423.828125\"/>\n     </g>\n    </g>\n    <g id=\"line2d_129\">\n     <path d=\"M 140.8125 75.620313 \nL 150.8125 75.620313 \nL 160.8125 75.620313 \n\" style=\"fill: none; stroke-dasharray: 5.55,2.4; stroke-dashoffset: 0; stroke: #ff7f0e; stroke-width: 1.5\"/>\n    </g>\n    <g id=\"text_14\">\n     <!-- val_loss -->\n     <g transform=\"translate(168.8125 79.120313) scale(0.1 -0.1)\">\n      <defs>\n       <path id=\"DejaVuSans-76\" d=\"M 191 3500 \nL 800 3500 \nL 1894 563 \nL 2988 3500 \nL 3597 3500 \nL 2284 0 \nL 1503 0 \nL 191 3500 \nz\n\" transform=\"scale(0.015625)\"/>\n      </defs>\n      <use xlink:href=\"#DejaVuSans-76\"/>\n      <use xlink:href=\"#DejaVuSans-61\" x=\"59.179688\"/>\n      <use xlink:href=\"#DejaVuSans-6c\" x=\"120.458984\"/>\n      <use xlink:href=\"#DejaVuSans-5f\" x=\"148.242188\"/>\n      <use xlink:href=\"#DejaVuSans-6c\" x=\"198.242188\"/>\n      <use xlink:href=\"#DejaVuSans-6f\" x=\"226.025391\"/>\n      <use xlink:href=\"#DejaVuSans-73\" x=\"287.207031\"/>\n      <use xlink:href=\"#DejaVuSans-73\" x=\"339.306641\"/>\n     </g>\n    </g>\n    <g id=\"line2d_130\">\n     <path d=\"M 140.8125 90.576563 \nL 150.8125 90.576563 \nL 160.8125 90.576563 \n\" style=\"fill: none; stroke-dasharray: 9.6,2.4,1.5,2.4; stroke-dashoffset: 0; stroke: #2ca02c; stroke-width: 1.5\"/>\n    </g>\n    <g id=\"text_15\">\n     <!-- val_acc -->\n     <g transform=\"translate(168.8125 94.076563) scale(0.1 -0.1)\">\n      <use xlink:href=\"#DejaVuSans-76\"/>\n      <use xlink:href=\"#DejaVuSans-61\" x=\"59.179688\"/>\n      <use xlink:href=\"#DejaVuSans-6c\" x=\"120.458984\"/>\n      <use xlink:href=\"#DejaVuSans-5f\" x=\"148.242188\"/>\n      <use xlink:href=\"#DejaVuSans-61\" x=\"198.242188\"/>\n      <use xlink:href=\"#DejaVuSans-63\" x=\"259.521484\"/>\n      <use xlink:href=\"#DejaVuSans-63\" x=\"314.501953\"/>\n     </g>\n    </g>\n   </g>\n  </g>\n </g>\n <defs>\n  <clipPath id=\"p7f5df87148\">\n   <rect x=\"30.103125\" y=\"7.2\" width=\"195.3\" height=\"138.6\"/>\n  </clipPath>\n </defs>\n</svg>\n"
          },
          "metadata": {}
        }
      ]
    },
    {
      "cell_type": "markdown",
      "source": [
        "**3. What happens if you replace the global average pooling by a fully connected layer (speed, accuracy, number of parameters)?**"
      ],
      "metadata": {
        "id": "j45U19OQTHGc"
      }
    },
    {
      "cell_type": "code",
      "source": [
        "class MLPNin(d2l.Classifier):\n",
        "    def __init__(self, arch, lr=0.1, num_classes=10):\n",
        "        super().__init__()\n",
        "        self.save_hyperparameters()\n",
        "        layers = []\n",
        "        for i in range(len(arch)-1):\n",
        "            layers.append(nin_block(*arch[i]))\n",
        "            layers.append(nn.MaxPool2d(3, stride=2))\n",
        "        layers.append(nn.Dropout(0.5))\n",
        "        layers.append(nin_block(*arch[-1]))\n",
        "        layers.append(nn.Flatten())\n",
        "        layers.append(nn.LazyLinear(num_classes))\n",
        "        self.net = nn.Sequential(*layers)\n",
        "        self.net.apply(d2l.init_cnn)"
      ],
      "metadata": {
        "id": "mPc4TBJZTJOZ"
      },
      "execution_count": 32,
      "outputs": []
    },
    {
      "cell_type": "markdown",
      "source": [
        "**4. Calculate the resource usage for NiN.**\n",
        "* **What is the number of parameters?**"
      ],
      "metadata": {
        "id": "X3SSmeyNTLyI"
      }
    },
    {
      "cell_type": "code",
      "source": [
        "import torch\n",
        "from torch import nn\n",
        "\n",
        "# Define a NiN block\n",
        "def nin_block(out_channels, kernel_size, strides, padding, conv1s=[(1, 0), (1, 0)]):\n",
        "    layers = [nn.LazyConv2d(out_channels, kernel_size=kernel_size, stride=strides, padding=padding), nn.ReLU()]\n",
        "    for conv1_size, conv1_padding in conv1s:\n",
        "        layers.append(nn.LazyConv2d(out_channels, kernel_size=conv1_size, padding=conv1_padding))\n",
        "        layers.append(nn.ReLU())\n",
        "    return nn.Sequential(*layers)\n",
        "\n",
        "# Define the NiN architecture using nin_block\n",
        "class Nin(nn.Module):\n",
        "    def __init__(self, arch):\n",
        "        super(Nin, self).__init__()\n",
        "        self.net = nn.Sequential()\n",
        "        for i, (out_channels, kernel_size, strides, padding, num_conv1) in enumerate(arch):\n",
        "            conv1s = [(1, 0) for _ in range(num_conv1)]  # Creating a list of (kernel_size, padding) for conv1\n",
        "            self.net.add_module(f\"block_{i}\", nin_block(out_channels, kernel_size, strides, padding, conv1s))\n",
        "\n",
        "    def forward(self, x):\n",
        "        return self.net(x)\n",
        "\n",
        "# Model definition and summary\n",
        "arch = ((96, 11, 4, 0, 2), (256, 5, 1, 2, 2), (384, 3, 1, 1, 2), (10, 3, 1, 1, 2))\n",
        "model = Nin(arch)\n",
        "\n",
        "# Dummy input and parameter calculation\n",
        "X = torch.randn(1, 3, 224, 224)\n",
        "_ = model(X)\n",
        "total_params = sum(p.numel() for p in model.parameters())\n",
        "print(\"Total parameters:\", total_params)"
      ],
      "metadata": {
        "colab": {
          "base_uri": "https://localhost:8080/"
        },
        "id": "vVlfdzDsTSi4",
        "outputId": "9cc4a0ab-408b-46a6-e428-4d39dddd3910"
      },
      "execution_count": 33,
      "outputs": [
        {
          "output_type": "stream",
          "name": "stdout",
          "text": [
            "Total parameters: 2015398\n"
          ]
        }
      ]
    },
    {
      "cell_type": "markdown",
      "source": [
        "* **What is the amount of computation?**"
      ],
      "metadata": {
        "id": "ZqBoeLquTVak"
      }
    },
    {
      "cell_type": "code",
      "source": [
        "# Install the required package\n",
        "!pip install thop"
      ],
      "metadata": {
        "colab": {
          "base_uri": "https://localhost:8080/"
        },
        "id": "jdPQh4xaTXaj",
        "outputId": "648fa99c-4e0c-468d-fa89-24c6dcbec39a"
      },
      "execution_count": 34,
      "outputs": [
        {
          "output_type": "stream",
          "name": "stdout",
          "text": [
            "Collecting thop\n",
            "  Downloading thop-0.1.1.post2209072238-py3-none-any.whl.metadata (2.7 kB)\n",
            "Requirement already satisfied: torch in /usr/local/lib/python3.10/dist-packages (from thop) (2.4.1+cu121)\n",
            "Requirement already satisfied: filelock in /usr/local/lib/python3.10/dist-packages (from torch->thop) (3.16.1)\n",
            "Requirement already satisfied: typing-extensions>=4.8.0 in /usr/local/lib/python3.10/dist-packages (from torch->thop) (4.12.2)\n",
            "Requirement already satisfied: sympy in /usr/local/lib/python3.10/dist-packages (from torch->thop) (1.13.3)\n",
            "Requirement already satisfied: networkx in /usr/local/lib/python3.10/dist-packages (from torch->thop) (3.3)\n",
            "Requirement already satisfied: jinja2 in /usr/local/lib/python3.10/dist-packages (from torch->thop) (3.1.4)\n",
            "Requirement already satisfied: fsspec in /usr/local/lib/python3.10/dist-packages (from torch->thop) (2024.6.1)\n",
            "Requirement already satisfied: MarkupSafe>=2.0 in /usr/local/lib/python3.10/dist-packages (from jinja2->torch->thop) (2.1.5)\n",
            "Requirement already satisfied: mpmath<1.4,>=1.1.0 in /usr/local/lib/python3.10/dist-packages (from sympy->torch->thop) (1.3.0)\n",
            "Downloading thop-0.1.1.post2209072238-py3-none-any.whl (15 kB)\n",
            "Installing collected packages: thop\n",
            "Successfully installed thop-0.1.1.post2209072238\n"
          ]
        }
      ]
    },
    {
      "cell_type": "code",
      "source": [
        "# Import the profile function from thop and calculate FLOPs and parameters\n",
        "from thop import profile\n",
        "\n",
        "# Calculate FLOPs and parameters for the model\n",
        "flops, params = profile(model, inputs=(X,))\n",
        "print(\"Total FLOPs:\", flops)\n",
        "print(\"Total parameters:\", params)"
      ],
      "metadata": {
        "colab": {
          "base_uri": "https://localhost:8080/"
        },
        "id": "jNHUYaWnTtPs",
        "outputId": "52cce249-8863-49ae-adc2-68f9f2b2861c"
      },
      "execution_count": 35,
      "outputs": [
        {
          "output_type": "stream",
          "name": "stdout",
          "text": [
            "[INFO] Register count_convNd() for <class 'torch.nn.modules.conv.Conv2d'>.\n",
            "[INFO] Register zero_ops() for <class 'torch.nn.modules.activation.ReLU'>.\n",
            "[INFO] Register zero_ops() for <class 'torch.nn.modules.container.Sequential'>.\n",
            "Total FLOPs: 5870374560.0\n",
            "Total parameters: 2015398.0\n"
          ]
        }
      ]
    },
    {
      "cell_type": "markdown",
      "source": [
        "* **What is the amount of memory needed during training?**"
      ],
      "metadata": {
        "id": "FO9Qr8m8T9jw"
      }
    },
    {
      "cell_type": "code",
      "source": [
        "import torch\n",
        "from d2l import torch as d2l\n",
        "\n",
        "class Nin(d2l.Classifier):\n",
        "    def __init__(self, arch, lr=0.01):\n",
        "        super().__init__()\n",
        "        self.save_hyperparameters()\n",
        "        self.net = nn.Sequential()\n",
        "        for i, (out_channels, kernel_size, strides, padding, num_conv1) in enumerate(arch):\n",
        "            conv1s = [(1, 0) for _ in range(num_conv1)]  # Creating a list of (kernel_size, padding) for conv1\n",
        "            self.net.add_module(f\"block_{i}\", nin_block(out_channels, kernel_size, strides, padding, conv1s))\n",
        "\n",
        "    def forward(self, x):\n",
        "        return self.net(x)"
      ],
      "metadata": {
        "id": "ihlKBXJMUAzu"
      },
      "execution_count": 36,
      "outputs": []
    },
    {
      "cell_type": "markdown",
      "source": [
        "* **What is the amount of memory needed during prediction?**"
      ],
      "metadata": {
        "id": "4VAvbub2UDPi"
      }
    },
    {
      "cell_type": "code",
      "source": [
        "device = torch.device(\"cuda\" if torch.cuda.is_available() else \"cpu\")\n",
        "torch.cuda.reset_peak_memory_stats()\n",
        "torch.cuda.empty_cache()\n",
        "_ = model(X)\n",
        "memory_stats = torch.cuda.memory_stats(device=device)\n",
        "print(\"Peak memory usage:\", memory_stats[\"allocated_bytes.all.peak\"] / (1024 ** 2), \"MB\")\n",
        "print(\"Current memory usage:\", memory_stats[\"allocated_bytes.all.current\"] / (1024 ** 2), \"MB\")"
      ],
      "metadata": {
        "colab": {
          "base_uri": "https://localhost:8080/"
        },
        "id": "kq_YA1MbUGYs",
        "outputId": "677b0acf-9195-4fb8-c0b3-5ffa4cccd277"
      },
      "execution_count": 37,
      "outputs": [
        {
          "output_type": "stream",
          "name": "stdout",
          "text": [
            "Peak memory usage: 993.8076171875 MB\n",
            "Current memory usage: 993.8076171875 MB\n"
          ]
        }
      ]
    },
    {
      "cell_type": "markdown",
      "source": [
        "**5. What are possible problems with reducing the 384 x 5 x 5 representation to a 10 x 5 x 5 representation in one step?**"
      ],
      "metadata": {
        "id": "3dZpj0JfUO3p"
      }
    },
    {
      "cell_type": "markdown",
      "source": [
        "* Kehilangan Informasi: Mengurangi jumlah saluran dari 384 menjadi hanya 10 dalam satu langkah dapat menyebabkan kehilangan informasi yang signifikan. Setiap saluran menyimpan fitur dan pola tertentu yang dipelajari oleh jaringan, sehingga pengurangan yang mendadak dapat mengurangi daya diskriminatif.\n",
        "\n",
        "* Underfitting: Representasi 10 saluran yang dikurangi mungkin tidak cukup mampu menangkap kompleksitas input asli, yang dapat menyebabkan model mengalami underfitting, sehingga menghasilkan generalisasi dan performa yang buruk.\n",
        "\n",
        "* Penyempitan Informasi: Pengurangan drastis dalam jumlah saluran menciptakan penyempitan informasi, membatasi kemampuan jaringan untuk mentransformasi input secara efektif. Ini dapat menghambat kemampuan belajar jaringan dan membatasi kekuatan ekspresifnya.\n",
        "\n",
        "* Pengurangan Ekspresivitas: Mengurangi jumlah saluran terlalu cepat dapat membatasi kemampuan model untuk mempelajari fitur tingkat tinggi dan representasi hierarkis dari data input. Jaringan dalam biasanya mengandalkan pembelajaran fitur yang lebih abstrak secara bertahap.\n",
        "\n",
        "* Fitur Spasial: Representasi 10x5x5 tidak dapat menangkap fitur spasial dengan baik. Pola dan hubungan spasial penting yang ada dalam representasi asli mungkin hilang, membuat jaringan kurang mampu mengenali objek.\n",
        "\n",
        "* Kehilangan Daya Diskriminatif: Dengan representasi yang lebih kecil, jaringan mungkin kesulitan membedakan antara kelas yang berbeda, menyebabkan kebingungan dan penurunan akurasi."
      ],
      "metadata": {
        "id": "W-LMyXvnURa-"
      }
    },
    {
      "cell_type": "markdown",
      "source": [
        "**6. Use the structural design decisions in VGG that led to VGG-11, VGG-16, and VGG-19 to design a family of NiN-like networks.**"
      ],
      "metadata": {
        "id": "JOeoBwfdUUrj"
      }
    },
    {
      "cell_type": "code",
      "source": [
        "arch = ((96,11,4,0,2),(256,5,1,2,2),(384,3,1,1,2),(10,3,1,1,2))\n",
        "nin = Nin(arch)\n",
        "nin"
      ],
      "metadata": {
        "colab": {
          "base_uri": "https://localhost:8080/"
        },
        "id": "_v__X2rnUWMZ",
        "outputId": "2d4e3675-b79e-4648-b564-a7f7979a15fa"
      },
      "execution_count": 38,
      "outputs": [
        {
          "output_type": "execute_result",
          "data": {
            "text/plain": [
              "Nin(\n",
              "  (net): Sequential(\n",
              "    (block_0): Sequential(\n",
              "      (0): LazyConv2d(0, 96, kernel_size=(11, 11), stride=(4, 4))\n",
              "      (1): ReLU()\n",
              "      (2): LazyConv2d(0, 96, kernel_size=(1, 1), stride=(1, 1))\n",
              "      (3): ReLU()\n",
              "      (4): LazyConv2d(0, 96, kernel_size=(1, 1), stride=(1, 1))\n",
              "      (5): ReLU()\n",
              "    )\n",
              "    (block_1): Sequential(\n",
              "      (0): LazyConv2d(0, 256, kernel_size=(5, 5), stride=(1, 1), padding=(2, 2))\n",
              "      (1): ReLU()\n",
              "      (2): LazyConv2d(0, 256, kernel_size=(1, 1), stride=(1, 1))\n",
              "      (3): ReLU()\n",
              "      (4): LazyConv2d(0, 256, kernel_size=(1, 1), stride=(1, 1))\n",
              "      (5): ReLU()\n",
              "    )\n",
              "    (block_2): Sequential(\n",
              "      (0): LazyConv2d(0, 384, kernel_size=(3, 3), stride=(1, 1), padding=(1, 1))\n",
              "      (1): ReLU()\n",
              "      (2): LazyConv2d(0, 384, kernel_size=(1, 1), stride=(1, 1))\n",
              "      (3): ReLU()\n",
              "      (4): LazyConv2d(0, 384, kernel_size=(1, 1), stride=(1, 1))\n",
              "      (5): ReLU()\n",
              "    )\n",
              "    (block_3): Sequential(\n",
              "      (0): LazyConv2d(0, 10, kernel_size=(3, 3), stride=(1, 1), padding=(1, 1))\n",
              "      (1): ReLU()\n",
              "      (2): LazyConv2d(0, 10, kernel_size=(1, 1), stride=(1, 1))\n",
              "      (3): ReLU()\n",
              "      (4): LazyConv2d(0, 10, kernel_size=(1, 1), stride=(1, 1))\n",
              "      (5): ReLU()\n",
              "    )\n",
              "  )\n",
              ")"
            ]
          },
          "metadata": {},
          "execution_count": 38
        }
      ]
    },
    {
      "cell_type": "code",
      "source": [
        "class Nin(d2l.Classifier):\n",
        "    def __init__(self, arch, lr=0.01):\n",
        "        super().__init__()\n",
        "        self.save_hyperparameters()\n",
        "        self.net = nn.Sequential()\n",
        "        for i, (out_channels, kernel_size, strides, padding) in enumerate(arch):\n",
        "            # Only include a basic convolutional layer without additional 1x1 convolutions\n",
        "            self.net.add_module(f\"block_{i}\", nin_block(out_channels, kernel_size, strides, padding))\n",
        "\n",
        "    def forward(self, x):\n",
        "        return self.net(x)\n",
        "\n",
        "def nin_block(out_channels, kernel_size, strides, padding):\n",
        "    layers = [\n",
        "        nn.LazyConv2d(out_channels, kernel_size=kernel_size, stride=strides, padding=padding),\n",
        "        nn.ReLU()\n",
        "    ]\n",
        "    return nn.Sequential(*layers)\n",
        "\n",
        "arch15 = ((64, 3, 2, 1),\n",
        "          (256, 3, 1, 1),\n",
        "          (256, 3, 1, 1),\n",
        "          (384, 3, 1, 1),\n",
        "          (10, 3, 1, 1))\n",
        "\n",
        "nin15 = Nin(arch15)\n",
        "print(nin15)"
      ],
      "metadata": {
        "colab": {
          "base_uri": "https://localhost:8080/"
        },
        "id": "RmHQiGtiUYru",
        "outputId": "b48855da-5f29-4bdb-d75b-c8ba08587f20"
      },
      "execution_count": 39,
      "outputs": [
        {
          "output_type": "stream",
          "name": "stdout",
          "text": [
            "Nin(\n",
            "  (net): Sequential(\n",
            "    (block_0): Sequential(\n",
            "      (0): LazyConv2d(0, 64, kernel_size=(3, 3), stride=(2, 2), padding=(1, 1))\n",
            "      (1): ReLU()\n",
            "    )\n",
            "    (block_1): Sequential(\n",
            "      (0): LazyConv2d(0, 256, kernel_size=(3, 3), stride=(1, 1), padding=(1, 1))\n",
            "      (1): ReLU()\n",
            "    )\n",
            "    (block_2): Sequential(\n",
            "      (0): LazyConv2d(0, 256, kernel_size=(3, 3), stride=(1, 1), padding=(1, 1))\n",
            "      (1): ReLU()\n",
            "    )\n",
            "    (block_3): Sequential(\n",
            "      (0): LazyConv2d(0, 384, kernel_size=(3, 3), stride=(1, 1), padding=(1, 1))\n",
            "      (1): ReLU()\n",
            "    )\n",
            "    (block_4): Sequential(\n",
            "      (0): LazyConv2d(0, 10, kernel_size=(3, 3), stride=(1, 1), padding=(1, 1))\n",
            "      (1): ReLU()\n",
            "    )\n",
            "  )\n",
            ")\n"
          ]
        }
      ]
    },
    {
      "cell_type": "markdown",
      "source": [
        "# 8.4. Multi-Branch Networks (GoogLeNet)"
      ],
      "metadata": {
        "id": "aThZ6u-BjImj"
      }
    },
    {
      "cell_type": "code",
      "source": [
        "import torch\n",
        "from torch import nn\n",
        "from torch.nn import functional as F\n",
        "from d2l import torch as d2l"
      ],
      "metadata": {
        "id": "0xjntqAwUYaT"
      },
      "execution_count": 40,
      "outputs": []
    },
    {
      "cell_type": "markdown",
      "source": [
        "## Inception Blocks"
      ],
      "metadata": {
        "id": "o_a-xzWxjL9M"
      }
    },
    {
      "cell_type": "code",
      "source": [
        "class Inception(nn.Module):\n",
        "    # c1--c4 are the number of output channels for each branch\n",
        "    def __init__(self, c1, c2, c3, c4, **kwargs):\n",
        "        super(Inception, self).__init__(**kwargs)\n",
        "        # Branch 1\n",
        "        self.b1_1 = nn.LazyConv2d(c1, kernel_size=1)\n",
        "        # Branch 2\n",
        "        self.b2_1 = nn.LazyConv2d(c2[0], kernel_size=1)\n",
        "        self.b2_2 = nn.LazyConv2d(c2[1], kernel_size=3, padding=1)\n",
        "        # Branch 3\n",
        "        self.b3_1 = nn.LazyConv2d(c3[0], kernel_size=1)\n",
        "        self.b3_2 = nn.LazyConv2d(c3[1], kernel_size=5, padding=2)\n",
        "        # Branch 4\n",
        "        self.b4_1 = nn.MaxPool2d(kernel_size=3, stride=1, padding=1)\n",
        "        self.b4_2 = nn.LazyConv2d(c4, kernel_size=1)\n",
        "\n",
        "    def forward(self, x):\n",
        "        b1 = F.relu(self.b1_1(x))\n",
        "        b2 = F.relu(self.b2_2(F.relu(self.b2_1(x))))\n",
        "        b3 = F.relu(self.b3_2(F.relu(self.b3_1(x))))\n",
        "        b4 = F.relu(self.b4_2(self.b4_1(x)))\n",
        "        return torch.cat((b1, b2, b3, b4), dim=1)"
      ],
      "metadata": {
        "id": "HvxkTiPyjNDa"
      },
      "execution_count": 41,
      "outputs": []
    },
    {
      "cell_type": "markdown",
      "source": [
        "## GoogLeNet Model"
      ],
      "metadata": {
        "id": "8E8swu8MjO9M"
      }
    },
    {
      "cell_type": "code",
      "source": [
        "class GoogleNet(d2l.Classifier):\n",
        "    def b1(self):\n",
        "        return nn.Sequential(\n",
        "            nn.LazyConv2d(64, kernel_size=7, stride=2, padding=3),\n",
        "            nn.ReLU(), nn.MaxPool2d(kernel_size=3, stride=2, padding=1))"
      ],
      "metadata": {
        "id": "QiOezbaojQSw"
      },
      "execution_count": 42,
      "outputs": []
    },
    {
      "cell_type": "code",
      "source": [
        "@d2l.add_to_class(GoogleNet)\n",
        "def b2(self):\n",
        "    return nn.Sequential(\n",
        "        nn.LazyConv2d(64, kernel_size=1), nn.ReLU(),\n",
        "        nn.LazyConv2d(192, kernel_size=3, padding=1), nn.ReLU(),\n",
        "        nn.MaxPool2d(kernel_size=3, stride=2, padding=1))"
      ],
      "metadata": {
        "id": "9dGWm1N_jRIJ"
      },
      "execution_count": 43,
      "outputs": []
    },
    {
      "cell_type": "code",
      "source": [
        "@d2l.add_to_class(GoogleNet)\n",
        "def b3(self):\n",
        "    return nn.Sequential(Inception(64, (96, 128), (16, 32), 32),\n",
        "                         Inception(128, (128, 192), (32, 96), 64),\n",
        "                         nn.MaxPool2d(kernel_size=3, stride=2, padding=1))"
      ],
      "metadata": {
        "id": "JVUZi5a2jSPp"
      },
      "execution_count": 44,
      "outputs": []
    },
    {
      "cell_type": "code",
      "source": [
        "@d2l.add_to_class(GoogleNet)\n",
        "def b4(self):\n",
        "    return nn.Sequential(Inception(192, (96, 208), (16, 48), 64),\n",
        "                         Inception(160, (112, 224), (24, 64), 64),\n",
        "                         Inception(128, (128, 256), (24, 64), 64),\n",
        "                         Inception(112, (144, 288), (32, 64), 64),\n",
        "                         Inception(256, (160, 320), (32, 128), 128),\n",
        "                         nn.MaxPool2d(kernel_size=3, stride=2, padding=1))"
      ],
      "metadata": {
        "id": "jaA7RXHNjTT0"
      },
      "execution_count": 45,
      "outputs": []
    },
    {
      "cell_type": "code",
      "source": [
        "@d2l.add_to_class(GoogleNet)\n",
        "def b5(self):\n",
        "    return nn.Sequential(Inception(256, (160, 320), (32, 128), 128),\n",
        "                         Inception(384, (192, 384), (48, 128), 128),\n",
        "                         nn.AdaptiveAvgPool2d((1,1)), nn.Flatten())"
      ],
      "metadata": {
        "id": "A5bil4A-jUeG"
      },
      "execution_count": 46,
      "outputs": []
    },
    {
      "cell_type": "code",
      "source": [
        "@d2l.add_to_class(GoogleNet)\n",
        "def __init__(self, lr=0.1, num_classes=10):\n",
        "    super(GoogleNet, self).__init__()\n",
        "    self.save_hyperparameters()\n",
        "    self.net = nn.Sequential(self.b1(), self.b2(), self.b3(), self.b4(),\n",
        "                             self.b5(), nn.LazyLinear(num_classes))\n",
        "    self.net.apply(d2l.init_cnn)"
      ],
      "metadata": {
        "id": "nFH_FanmjVey"
      },
      "execution_count": 47,
      "outputs": []
    },
    {
      "cell_type": "code",
      "source": [
        "model = GoogleNet().layer_summary((1, 1, 96, 96))"
      ],
      "metadata": {
        "id": "o4BP-cphjWrX",
        "colab": {
          "base_uri": "https://localhost:8080/"
        },
        "outputId": "e4049af1-736f-4d40-b8fe-0ee93c4b826e"
      },
      "execution_count": 48,
      "outputs": [
        {
          "output_type": "stream",
          "name": "stdout",
          "text": [
            "Sequential output shape:\t torch.Size([1, 64, 24, 24])\n",
            "Sequential output shape:\t torch.Size([1, 192, 12, 12])\n",
            "Sequential output shape:\t torch.Size([1, 480, 6, 6])\n",
            "Sequential output shape:\t torch.Size([1, 832, 3, 3])\n",
            "Sequential output shape:\t torch.Size([1, 1024])\n",
            "Linear output shape:\t torch.Size([1, 10])\n"
          ]
        }
      ]
    },
    {
      "cell_type": "markdown",
      "source": [
        "## Training"
      ],
      "metadata": {
        "id": "1hybH4bGjXDA"
      }
    },
    {
      "cell_type": "code",
      "source": [
        "model = GoogleNet(lr=0.01)\n",
        "trainer = d2l.Trainer(max_epochs=10, num_gpus=1)\n",
        "data = d2l.FashionMNIST(batch_size=128, resize=(96, 96))\n",
        "model.apply_init([next(iter(data.get_dataloader(True)))[0]], d2l.init_cnn)\n",
        "trainer.fit(model, data)"
      ],
      "metadata": {
        "id": "iKkr-OwWjYbo",
        "colab": {
          "base_uri": "https://localhost:8080/",
          "height": 266
        },
        "outputId": "ed3975c2-9441-4d6f-a891-225cc7e232f4"
      },
      "execution_count": null,
      "outputs": [
        {
          "output_type": "display_data",
          "data": {
            "text/plain": [
              "<Figure size 350x250 with 1 Axes>"
            ],
            "image/svg+xml": "<?xml version=\"1.0\" encoding=\"utf-8\" standalone=\"no\"?>\n<!DOCTYPE svg PUBLIC \"-//W3C//DTD SVG 1.1//EN\"\n  \"http://www.w3.org/Graphics/SVG/1.1/DTD/svg11.dtd\">\n<svg xmlns:xlink=\"http://www.w3.org/1999/xlink\" width=\"238.965625pt\" height=\"183.35625pt\" viewBox=\"0 0 238.965625 183.35625\" xmlns=\"http://www.w3.org/2000/svg\" version=\"1.1\">\n <metadata>\n  <rdf:RDF xmlns:dc=\"http://purl.org/dc/elements/1.1/\" xmlns:cc=\"http://creativecommons.org/ns#\" xmlns:rdf=\"http://www.w3.org/1999/02/22-rdf-syntax-ns#\">\n   <cc:Work>\n    <dc:type rdf:resource=\"http://purl.org/dc/dcmitype/StillImage\"/>\n    <dc:date>2024-10-04T16:30:33.281062</dc:date>\n    <dc:format>image/svg+xml</dc:format>\n    <dc:creator>\n     <cc:Agent>\n      <dc:title>Matplotlib v3.7.2, https://matplotlib.org/</dc:title>\n     </cc:Agent>\n    </dc:creator>\n   </cc:Work>\n  </rdf:RDF>\n </metadata>\n <defs>\n  <style type=\"text/css\">*{stroke-linejoin: round; stroke-linecap: butt}</style>\n </defs>\n <g id=\"figure_1\">\n  <g id=\"patch_1\">\n   <path d=\"M 0 183.35625 \nL 238.965625 183.35625 \nL 238.965625 0 \nL 0 0 \nz\n\" style=\"fill: #ffffff\"/>\n  </g>\n  <g id=\"axes_1\">\n   <g id=\"patch_2\">\n    <path d=\"M 30.103125 145.8 \nL 225.403125 145.8 \nL 225.403125 7.2 \nL 30.103125 7.2 \nz\n\" style=\"fill: #ffffff\"/>\n   </g>\n   <g id=\"matplotlib.axis_1\">\n    <g id=\"xtick_1\">\n     <g id=\"line2d_1\">\n      <defs>\n       <path id=\"mcdbe709320\" d=\"M 0 0 \nL 0 3.5 \n\" style=\"stroke: #000000; stroke-width: 0.8\"/>\n      </defs>\n      <g>\n       <use xlink:href=\"#mcdbe709320\" x=\"30.103125\" y=\"145.8\" style=\"stroke: #000000; stroke-width: 0.8\"/>\n      </g>\n     </g>\n     <g id=\"text_1\">\n      <!-- 0 -->\n      <g transform=\"translate(26.921875 160.398438) scale(0.1 -0.1)\">\n       <defs>\n        <path id=\"DejaVuSans-30\" d=\"M 2034 4250 \nQ 1547 4250 1301 3770 \nQ 1056 3291 1056 2328 \nQ 1056 1369 1301 889 \nQ 1547 409 2034 409 \nQ 2525 409 2770 889 \nQ 3016 1369 3016 2328 \nQ 3016 3291 2770 3770 \nQ 2525 4250 2034 4250 \nz\nM 2034 4750 \nQ 2819 4750 3233 4129 \nQ 3647 3509 3647 2328 \nQ 3647 1150 3233 529 \nQ 2819 -91 2034 -91 \nQ 1250 -91 836 529 \nQ 422 1150 422 2328 \nQ 422 3509 836 4129 \nQ 1250 4750 2034 4750 \nz\n\" transform=\"scale(0.015625)\"/>\n       </defs>\n       <use xlink:href=\"#DejaVuSans-30\"/>\n      </g>\n     </g>\n    </g>\n    <g id=\"xtick_2\">\n     <g id=\"line2d_2\">\n      <g>\n       <use xlink:href=\"#mcdbe709320\" x=\"69.163125\" y=\"145.8\" style=\"stroke: #000000; stroke-width: 0.8\"/>\n      </g>\n     </g>\n     <g id=\"text_2\">\n      <!-- 2 -->\n      <g transform=\"translate(65.981875 160.398438) scale(0.1 -0.1)\">\n       <defs>\n        <path id=\"DejaVuSans-32\" d=\"M 1228 531 \nL 3431 531 \nL 3431 0 \nL 469 0 \nL 469 531 \nQ 828 903 1448 1529 \nQ 2069 2156 2228 2338 \nQ 2531 2678 2651 2914 \nQ 2772 3150 2772 3378 \nQ 2772 3750 2511 3984 \nQ 2250 4219 1831 4219 \nQ 1534 4219 1204 4116 \nQ 875 4013 500 3803 \nL 500 4441 \nQ 881 4594 1212 4672 \nQ 1544 4750 1819 4750 \nQ 2544 4750 2975 4387 \nQ 3406 4025 3406 3419 \nQ 3406 3131 3298 2873 \nQ 3191 2616 2906 2266 \nQ 2828 2175 2409 1742 \nQ 1991 1309 1228 531 \nz\n\" transform=\"scale(0.015625)\"/>\n       </defs>\n       <use xlink:href=\"#DejaVuSans-32\"/>\n      </g>\n     </g>\n    </g>\n    <g id=\"xtick_3\">\n     <g id=\"line2d_3\">\n      <g>\n       <use xlink:href=\"#mcdbe709320\" x=\"108.223125\" y=\"145.8\" style=\"stroke: #000000; stroke-width: 0.8\"/>\n      </g>\n     </g>\n     <g id=\"text_3\">\n      <!-- 4 -->\n      <g transform=\"translate(105.041875 160.398438) scale(0.1 -0.1)\">\n       <defs>\n        <path id=\"DejaVuSans-34\" d=\"M 2419 4116 \nL 825 1625 \nL 2419 1625 \nL 2419 4116 \nz\nM 2253 4666 \nL 3047 4666 \nL 3047 1625 \nL 3713 1625 \nL 3713 1100 \nL 3047 1100 \nL 3047 0 \nL 2419 0 \nL 2419 1100 \nL 313 1100 \nL 313 1709 \nL 2253 4666 \nz\n\" transform=\"scale(0.015625)\"/>\n       </defs>\n       <use xlink:href=\"#DejaVuSans-34\"/>\n      </g>\n     </g>\n    </g>\n    <g id=\"xtick_4\">\n     <g id=\"line2d_4\">\n      <g>\n       <use xlink:href=\"#mcdbe709320\" x=\"147.283125\" y=\"145.8\" style=\"stroke: #000000; stroke-width: 0.8\"/>\n      </g>\n     </g>\n     <g id=\"text_4\">\n      <!-- 6 -->\n      <g transform=\"translate(144.101875 160.398438) scale(0.1 -0.1)\">\n       <defs>\n        <path id=\"DejaVuSans-36\" d=\"M 2113 2584 \nQ 1688 2584 1439 2293 \nQ 1191 2003 1191 1497 \nQ 1191 994 1439 701 \nQ 1688 409 2113 409 \nQ 2538 409 2786 701 \nQ 3034 994 3034 1497 \nQ 3034 2003 2786 2293 \nQ 2538 2584 2113 2584 \nz\nM 3366 4563 \nL 3366 3988 \nQ 3128 4100 2886 4159 \nQ 2644 4219 2406 4219 \nQ 1781 4219 1451 3797 \nQ 1122 3375 1075 2522 \nQ 1259 2794 1537 2939 \nQ 1816 3084 2150 3084 \nQ 2853 3084 3261 2657 \nQ 3669 2231 3669 1497 \nQ 3669 778 3244 343 \nQ 2819 -91 2113 -91 \nQ 1303 -91 875 529 \nQ 447 1150 447 2328 \nQ 447 3434 972 4092 \nQ 1497 4750 2381 4750 \nQ 2619 4750 2861 4703 \nQ 3103 4656 3366 4563 \nz\n\" transform=\"scale(0.015625)\"/>\n       </defs>\n       <use xlink:href=\"#DejaVuSans-36\"/>\n      </g>\n     </g>\n    </g>\n    <g id=\"xtick_5\">\n     <g id=\"line2d_5\">\n      <g>\n       <use xlink:href=\"#mcdbe709320\" x=\"186.343125\" y=\"145.8\" style=\"stroke: #000000; stroke-width: 0.8\"/>\n      </g>\n     </g>\n     <g id=\"text_5\">\n      <!-- 8 -->\n      <g transform=\"translate(183.161875 160.398438) scale(0.1 -0.1)\">\n       <defs>\n        <path id=\"DejaVuSans-38\" d=\"M 2034 2216 \nQ 1584 2216 1326 1975 \nQ 1069 1734 1069 1313 \nQ 1069 891 1326 650 \nQ 1584 409 2034 409 \nQ 2484 409 2743 651 \nQ 3003 894 3003 1313 \nQ 3003 1734 2745 1975 \nQ 2488 2216 2034 2216 \nz\nM 1403 2484 \nQ 997 2584 770 2862 \nQ 544 3141 544 3541 \nQ 544 4100 942 4425 \nQ 1341 4750 2034 4750 \nQ 2731 4750 3128 4425 \nQ 3525 4100 3525 3541 \nQ 3525 3141 3298 2862 \nQ 3072 2584 2669 2484 \nQ 3125 2378 3379 2068 \nQ 3634 1759 3634 1313 \nQ 3634 634 3220 271 \nQ 2806 -91 2034 -91 \nQ 1263 -91 848 271 \nQ 434 634 434 1313 \nQ 434 1759 690 2068 \nQ 947 2378 1403 2484 \nz\nM 1172 3481 \nQ 1172 3119 1398 2916 \nQ 1625 2713 2034 2713 \nQ 2441 2713 2670 2916 \nQ 2900 3119 2900 3481 \nQ 2900 3844 2670 4047 \nQ 2441 4250 2034 4250 \nQ 1625 4250 1398 4047 \nQ 1172 3844 1172 3481 \nz\n\" transform=\"scale(0.015625)\"/>\n       </defs>\n       <use xlink:href=\"#DejaVuSans-38\"/>\n      </g>\n     </g>\n    </g>\n    <g id=\"xtick_6\">\n     <g id=\"line2d_6\">\n      <g>\n       <use xlink:href=\"#mcdbe709320\" x=\"225.403125\" y=\"145.8\" style=\"stroke: #000000; stroke-width: 0.8\"/>\n      </g>\n     </g>\n     <g id=\"text_6\">\n      <!-- 10 -->\n      <g transform=\"translate(219.040625 160.398438) scale(0.1 -0.1)\">\n       <defs>\n        <path id=\"DejaVuSans-31\" d=\"M 794 531 \nL 1825 531 \nL 1825 4091 \nL 703 3866 \nL 703 4441 \nL 1819 4666 \nL 2450 4666 \nL 2450 531 \nL 3481 531 \nL 3481 0 \nL 794 0 \nL 794 531 \nz\n\" transform=\"scale(0.015625)\"/>\n       </defs>\n       <use xlink:href=\"#DejaVuSans-31\"/>\n       <use xlink:href=\"#DejaVuSans-30\" x=\"63.623047\"/>\n      </g>\n     </g>\n    </g>\n    <g id=\"text_7\">\n     <!-- epoch -->\n     <g transform=\"translate(112.525 174.076563) scale(0.1 -0.1)\">\n      <defs>\n       <path id=\"DejaVuSans-65\" d=\"M 3597 1894 \nL 3597 1613 \nL 953 1613 \nQ 991 1019 1311 708 \nQ 1631 397 2203 397 \nQ 2534 397 2845 478 \nQ 3156 559 3463 722 \nL 3463 178 \nQ 3153 47 2828 -22 \nQ 2503 -91 2169 -91 \nQ 1331 -91 842 396 \nQ 353 884 353 1716 \nQ 353 2575 817 3079 \nQ 1281 3584 2069 3584 \nQ 2775 3584 3186 3129 \nQ 3597 2675 3597 1894 \nz\nM 3022 2063 \nQ 3016 2534 2758 2815 \nQ 2500 3097 2075 3097 \nQ 1594 3097 1305 2825 \nQ 1016 2553 972 2059 \nL 3022 2063 \nz\n\" transform=\"scale(0.015625)\"/>\n       <path id=\"DejaVuSans-70\" d=\"M 1159 525 \nL 1159 -1331 \nL 581 -1331 \nL 581 3500 \nL 1159 3500 \nL 1159 2969 \nQ 1341 3281 1617 3432 \nQ 1894 3584 2278 3584 \nQ 2916 3584 3314 3078 \nQ 3713 2572 3713 1747 \nQ 3713 922 3314 415 \nQ 2916 -91 2278 -91 \nQ 1894 -91 1617 61 \nQ 1341 213 1159 525 \nz\nM 3116 1747 \nQ 3116 2381 2855 2742 \nQ 2594 3103 2138 3103 \nQ 1681 3103 1420 2742 \nQ 1159 2381 1159 1747 \nQ 1159 1113 1420 752 \nQ 1681 391 2138 391 \nQ 2594 391 2855 752 \nQ 3116 1113 3116 1747 \nz\n\" transform=\"scale(0.015625)\"/>\n       <path id=\"DejaVuSans-6f\" d=\"M 1959 3097 \nQ 1497 3097 1228 2736 \nQ 959 2375 959 1747 \nQ 959 1119 1226 758 \nQ 1494 397 1959 397 \nQ 2419 397 2687 759 \nQ 2956 1122 2956 1747 \nQ 2956 2369 2687 2733 \nQ 2419 3097 1959 3097 \nz\nM 1959 3584 \nQ 2709 3584 3137 3096 \nQ 3566 2609 3566 1747 \nQ 3566 888 3137 398 \nQ 2709 -91 1959 -91 \nQ 1206 -91 779 398 \nQ 353 888 353 1747 \nQ 353 2609 779 3096 \nQ 1206 3584 1959 3584 \nz\n\" transform=\"scale(0.015625)\"/>\n       <path id=\"DejaVuSans-63\" d=\"M 3122 3366 \nL 3122 2828 \nQ 2878 2963 2633 3030 \nQ 2388 3097 2138 3097 \nQ 1578 3097 1268 2742 \nQ 959 2388 959 1747 \nQ 959 1106 1268 751 \nQ 1578 397 2138 397 \nQ 2388 397 2633 464 \nQ 2878 531 3122 666 \nL 3122 134 \nQ 2881 22 2623 -34 \nQ 2366 -91 2075 -91 \nQ 1284 -91 818 406 \nQ 353 903 353 1747 \nQ 353 2603 823 3093 \nQ 1294 3584 2113 3584 \nQ 2378 3584 2631 3529 \nQ 2884 3475 3122 3366 \nz\n\" transform=\"scale(0.015625)\"/>\n       <path id=\"DejaVuSans-68\" d=\"M 3513 2113 \nL 3513 0 \nL 2938 0 \nL 2938 2094 \nQ 2938 2591 2744 2837 \nQ 2550 3084 2163 3084 \nQ 1697 3084 1428 2787 \nQ 1159 2491 1159 1978 \nL 1159 0 \nL 581 0 \nL 581 4863 \nL 1159 4863 \nL 1159 2956 \nQ 1366 3272 1645 3428 \nQ 1925 3584 2291 3584 \nQ 2894 3584 3203 3211 \nQ 3513 2838 3513 2113 \nz\n\" transform=\"scale(0.015625)\"/>\n      </defs>\n      <use xlink:href=\"#DejaVuSans-65\"/>\n      <use xlink:href=\"#DejaVuSans-70\" x=\"61.523438\"/>\n      <use xlink:href=\"#DejaVuSans-6f\" x=\"125\"/>\n      <use xlink:href=\"#DejaVuSans-63\" x=\"186.181641\"/>\n      <use xlink:href=\"#DejaVuSans-68\" x=\"241.162109\"/>\n     </g>\n    </g>\n   </g>\n   <g id=\"matplotlib.axis_2\">\n    <g id=\"ytick_1\">\n     <g id=\"line2d_7\">\n      <defs>\n       <path id=\"m85fdd7facd\" d=\"M 0 0 \nL -3.5 0 \n\" style=\"stroke: #000000; stroke-width: 0.8\"/>\n      </defs>\n      <g>\n       <use xlink:href=\"#m85fdd7facd\" x=\"30.103125\" y=\"145.155877\" style=\"stroke: #000000; stroke-width: 0.8\"/>\n      </g>\n     </g>\n     <g id=\"text_8\">\n      <!-- 0.0 -->\n      <g transform=\"translate(7.2 148.955096) scale(0.1 -0.1)\">\n       <defs>\n        <path id=\"DejaVuSans-2e\" d=\"M 684 794 \nL 1344 794 \nL 1344 0 \nL 684 0 \nL 684 794 \nz\n\" transform=\"scale(0.015625)\"/>\n       </defs>\n       <use xlink:href=\"#DejaVuSans-30\"/>\n       <use xlink:href=\"#DejaVuSans-2e\" x=\"63.623047\"/>\n       <use xlink:href=\"#DejaVuSans-30\" x=\"95.410156\"/>\n      </g>\n     </g>\n    </g>\n    <g id=\"ytick_2\">\n     <g id=\"line2d_8\">\n      <g>\n       <use xlink:href=\"#m85fdd7facd\" x=\"30.103125\" y=\"116.559763\" style=\"stroke: #000000; stroke-width: 0.8\"/>\n      </g>\n     </g>\n     <g id=\"text_9\">\n      <!-- 0.5 -->\n      <g transform=\"translate(7.2 120.358982) scale(0.1 -0.1)\">\n       <defs>\n        <path id=\"DejaVuSans-35\" d=\"M 691 4666 \nL 3169 4666 \nL 3169 4134 \nL 1269 4134 \nL 1269 2991 \nQ 1406 3038 1543 3061 \nQ 1681 3084 1819 3084 \nQ 2600 3084 3056 2656 \nQ 3513 2228 3513 1497 \nQ 3513 744 3044 326 \nQ 2575 -91 1722 -91 \nQ 1428 -91 1123 -41 \nQ 819 9 494 109 \nL 494 744 \nQ 775 591 1075 516 \nQ 1375 441 1709 441 \nQ 2250 441 2565 725 \nQ 2881 1009 2881 1497 \nQ 2881 1984 2565 2268 \nQ 2250 2553 1709 2553 \nQ 1456 2553 1204 2497 \nQ 953 2441 691 2322 \nL 691 4666 \nz\n\" transform=\"scale(0.015625)\"/>\n       </defs>\n       <use xlink:href=\"#DejaVuSans-30\"/>\n       <use xlink:href=\"#DejaVuSans-2e\" x=\"63.623047\"/>\n       <use xlink:href=\"#DejaVuSans-35\" x=\"95.410156\"/>\n      </g>\n     </g>\n    </g>\n    <g id=\"ytick_3\">\n     <g id=\"line2d_9\">\n      <g>\n       <use xlink:href=\"#m85fdd7facd\" x=\"30.103125\" y=\"87.963649\" style=\"stroke: #000000; stroke-width: 0.8\"/>\n      </g>\n     </g>\n     <g id=\"text_10\">\n      <!-- 1.0 -->\n      <g transform=\"translate(7.2 91.762867) scale(0.1 -0.1)\">\n       <use xlink:href=\"#DejaVuSans-31\"/>\n       <use xlink:href=\"#DejaVuSans-2e\" x=\"63.623047\"/>\n       <use xlink:href=\"#DejaVuSans-30\" x=\"95.410156\"/>\n      </g>\n     </g>\n    </g>\n    <g id=\"ytick_4\">\n     <g id=\"line2d_10\">\n      <g>\n       <use xlink:href=\"#m85fdd7facd\" x=\"30.103125\" y=\"59.367534\" style=\"stroke: #000000; stroke-width: 0.8\"/>\n      </g>\n     </g>\n     <g id=\"text_11\">\n      <!-- 1.5 -->\n      <g transform=\"translate(7.2 63.166753) scale(0.1 -0.1)\">\n       <use xlink:href=\"#DejaVuSans-31\"/>\n       <use xlink:href=\"#DejaVuSans-2e\" x=\"63.623047\"/>\n       <use xlink:href=\"#DejaVuSans-35\" x=\"95.410156\"/>\n      </g>\n     </g>\n    </g>\n    <g id=\"ytick_5\">\n     <g id=\"line2d_11\">\n      <g>\n       <use xlink:href=\"#m85fdd7facd\" x=\"30.103125\" y=\"30.77142\" style=\"stroke: #000000; stroke-width: 0.8\"/>\n      </g>\n     </g>\n     <g id=\"text_12\">\n      <!-- 2.0 -->\n      <g transform=\"translate(7.2 34.570639) scale(0.1 -0.1)\">\n       <use xlink:href=\"#DejaVuSans-32\"/>\n       <use xlink:href=\"#DejaVuSans-2e\" x=\"63.623047\"/>\n       <use xlink:href=\"#DejaVuSans-30\" x=\"95.410156\"/>\n      </g>\n     </g>\n    </g>\n   </g>\n   <g id=\"line2d_12\">\n    <path d=\"M 34.954394 13.5 \n\" clip-path=\"url(#p59ebf6a29c)\" style=\"fill: none; stroke: #1f77b4; stroke-width: 1.5; stroke-linecap: square\"/>\n   </g>\n   <g id=\"line2d_13\">\n    <path d=\"M 34.954394 13.5 \nL 44.698573 13.566261 \n\" clip-path=\"url(#p59ebf6a29c)\" style=\"fill: none; stroke: #1f77b4; stroke-width: 1.5; stroke-linecap: square\"/>\n   </g>\n   <g id=\"line2d_14\">\n    <path d=\"M 34.954394 13.5 \nL 44.698573 13.566261 \n\" clip-path=\"url(#p59ebf6a29c)\" style=\"fill: none; stroke: #1f77b4; stroke-width: 1.5; stroke-linecap: square\"/>\n   </g>\n   <g id=\"line2d_15\">\n    <path d=\"M 49.633125 13.618592 \n\" clip-path=\"url(#p59ebf6a29c)\" style=\"fill: none; stroke-dasharray: 5.55,2.4; stroke-dashoffset: 0; stroke: #ff7f0e; stroke-width: 1.5\"/>\n   </g>\n   <g id=\"line2d_16\"/>\n   <g id=\"line2d_17\">\n    <path d=\"M 34.954394 13.5 \nL 44.698573 13.566261 \n\" clip-path=\"url(#p59ebf6a29c)\" style=\"fill: none; stroke: #1f77b4; stroke-width: 1.5; stroke-linecap: square\"/>\n   </g>\n   <g id=\"line2d_18\">\n    <path d=\"M 49.633125 13.618592 \n\" clip-path=\"url(#p59ebf6a29c)\" style=\"fill: none; stroke-dasharray: 5.55,2.4; stroke-dashoffset: 0; stroke: #ff7f0e; stroke-width: 1.5\"/>\n   </g>\n   <g id=\"line2d_19\">\n    <path d=\"M 49.633125 139.5 \n\" clip-path=\"url(#p59ebf6a29c)\" style=\"fill: none; stroke-dasharray: 9.6,2.4,1.5,2.4; stroke-dashoffset: 0; stroke: #2ca02c; stroke-width: 1.5\"/>\n   </g>\n   <g id=\"line2d_20\">\n    <path d=\"M 34.954394 13.5 \nL 44.698573 13.566261 \nL 54.442752 13.665136 \n\" clip-path=\"url(#p59ebf6a29c)\" style=\"fill: none; stroke: #1f77b4; stroke-width: 1.5; stroke-linecap: square\"/>\n   </g>\n   <g id=\"line2d_21\">\n    <path d=\"M 49.633125 13.618592 \n\" clip-path=\"url(#p59ebf6a29c)\" style=\"fill: none; stroke-dasharray: 5.55,2.4; stroke-dashoffset: 0; stroke: #ff7f0e; stroke-width: 1.5\"/>\n   </g>\n   <g id=\"line2d_22\">\n    <path d=\"M 49.633125 139.5 \n\" clip-path=\"url(#p59ebf6a29c)\" style=\"fill: none; stroke-dasharray: 9.6,2.4,1.5,2.4; stroke-dashoffset: 0; stroke: #2ca02c; stroke-width: 1.5\"/>\n   </g>\n   <g id=\"line2d_23\">\n    <path d=\"M 34.954394 13.5 \nL 44.698573 13.566261 \nL 54.442752 13.665136 \nL 64.186931 13.791359 \n\" clip-path=\"url(#p59ebf6a29c)\" style=\"fill: none; stroke: #1f77b4; stroke-width: 1.5; stroke-linecap: square\"/>\n   </g>\n   <g id=\"line2d_24\">\n    <path d=\"M 49.633125 13.618592 \n\" clip-path=\"url(#p59ebf6a29c)\" style=\"fill: none; stroke-dasharray: 5.55,2.4; stroke-dashoffset: 0; stroke: #ff7f0e; stroke-width: 1.5\"/>\n   </g>\n   <g id=\"line2d_25\">\n    <path d=\"M 49.633125 139.5 \n\" clip-path=\"url(#p59ebf6a29c)\" style=\"fill: none; stroke-dasharray: 9.6,2.4,1.5,2.4; stroke-dashoffset: 0; stroke: #2ca02c; stroke-width: 1.5\"/>\n   </g>\n   <g id=\"line2d_26\">\n    <path d=\"M 34.954394 13.5 \nL 44.698573 13.566261 \nL 54.442752 13.665136 \nL 64.186931 13.791359 \n\" clip-path=\"url(#p59ebf6a29c)\" style=\"fill: none; stroke: #1f77b4; stroke-width: 1.5; stroke-linecap: square\"/>\n   </g>\n   <g id=\"line2d_27\">\n    <path d=\"M 49.633125 13.618592 \nL 69.163125 13.908465 \n\" clip-path=\"url(#p59ebf6a29c)\" style=\"fill: none; stroke-dasharray: 5.55,2.4; stroke-dashoffset: 0; stroke: #ff7f0e; stroke-width: 1.5\"/>\n   </g>\n   <g id=\"line2d_28\">\n    <path d=\"M 49.633125 139.5 \n\" clip-path=\"url(#p59ebf6a29c)\" style=\"fill: none; stroke-dasharray: 9.6,2.4,1.5,2.4; stroke-dashoffset: 0; stroke: #2ca02c; stroke-width: 1.5\"/>\n   </g>\n   <g id=\"line2d_29\">\n    <path d=\"M 34.954394 13.5 \nL 44.698573 13.566261 \nL 54.442752 13.665136 \nL 64.186931 13.791359 \n\" clip-path=\"url(#p59ebf6a29c)\" style=\"fill: none; stroke: #1f77b4; stroke-width: 1.5; stroke-linecap: square\"/>\n   </g>\n   <g id=\"line2d_30\">\n    <path d=\"M 49.633125 13.618592 \nL 69.163125 13.908465 \n\" clip-path=\"url(#p59ebf6a29c)\" style=\"fill: none; stroke-dasharray: 5.55,2.4; stroke-dashoffset: 0; stroke: #ff7f0e; stroke-width: 1.5\"/>\n   </g>\n   <g id=\"line2d_31\">\n    <path d=\"M 49.633125 139.5 \nL 69.163125 131.564805 \n\" clip-path=\"url(#p59ebf6a29c)\" style=\"fill: none; stroke-dasharray: 9.6,2.4,1.5,2.4; stroke-dashoffset: 0; stroke: #2ca02c; stroke-width: 1.5\"/>\n   </g>\n   <g id=\"line2d_32\">\n    <path d=\"M 34.954394 13.5 \nL 44.698573 13.566261 \nL 54.442752 13.665136 \nL 64.186931 13.791359 \nL 73.93111 14.080651 \n\" clip-path=\"url(#p59ebf6a29c)\" style=\"fill: none; stroke: #1f77b4; stroke-width: 1.5; stroke-linecap: square\"/>\n   </g>\n   <g id=\"line2d_33\">\n    <path d=\"M 49.633125 13.618592 \nL 69.163125 13.908465 \n\" clip-path=\"url(#p59ebf6a29c)\" style=\"fill: none; stroke-dasharray: 5.55,2.4; stroke-dashoffset: 0; stroke: #ff7f0e; stroke-width: 1.5\"/>\n   </g>\n   <g id=\"line2d_34\">\n    <path d=\"M 49.633125 139.5 \nL 69.163125 131.564805 \n\" clip-path=\"url(#p59ebf6a29c)\" style=\"fill: none; stroke-dasharray: 9.6,2.4,1.5,2.4; stroke-dashoffset: 0; stroke: #2ca02c; stroke-width: 1.5\"/>\n   </g>\n   <g id=\"line2d_35\">\n    <path d=\"M 34.954394 13.5 \nL 44.698573 13.566261 \nL 54.442752 13.665136 \nL 64.186931 13.791359 \nL 73.93111 14.080651 \nL 83.675289 14.827686 \n\" clip-path=\"url(#p59ebf6a29c)\" style=\"fill: none; stroke: #1f77b4; stroke-width: 1.5; stroke-linecap: square\"/>\n   </g>\n   <g id=\"line2d_36\">\n    <path d=\"M 49.633125 13.618592 \nL 69.163125 13.908465 \n\" clip-path=\"url(#p59ebf6a29c)\" style=\"fill: none; stroke-dasharray: 5.55,2.4; stroke-dashoffset: 0; stroke: #ff7f0e; stroke-width: 1.5\"/>\n   </g>\n   <g id=\"line2d_37\">\n    <path d=\"M 49.633125 139.5 \nL 69.163125 131.564805 \n\" clip-path=\"url(#p59ebf6a29c)\" style=\"fill: none; stroke-dasharray: 9.6,2.4,1.5,2.4; stroke-dashoffset: 0; stroke: #2ca02c; stroke-width: 1.5\"/>\n   </g>\n   <g id=\"line2d_38\">\n    <path d=\"M 34.954394 13.5 \nL 44.698573 13.566261 \nL 54.442752 13.665136 \nL 64.186931 13.791359 \nL 73.93111 14.080651 \nL 83.675289 14.827686 \n\" clip-path=\"url(#p59ebf6a29c)\" style=\"fill: none; stroke: #1f77b4; stroke-width: 1.5; stroke-linecap: square\"/>\n   </g>\n   <g id=\"line2d_39\">\n    <path d=\"M 49.633125 13.618592 \nL 69.163125 13.908465 \nL 88.693125 15.709584 \n\" clip-path=\"url(#p59ebf6a29c)\" style=\"fill: none; stroke-dasharray: 5.55,2.4; stroke-dashoffset: 0; stroke: #ff7f0e; stroke-width: 1.5\"/>\n   </g>\n   <g id=\"line2d_40\">\n    <path d=\"M 49.633125 139.5 \nL 69.163125 131.564805 \n\" clip-path=\"url(#p59ebf6a29c)\" style=\"fill: none; stroke-dasharray: 9.6,2.4,1.5,2.4; stroke-dashoffset: 0; stroke: #2ca02c; stroke-width: 1.5\"/>\n   </g>\n   <g id=\"line2d_41\">\n    <path d=\"M 34.954394 13.5 \nL 44.698573 13.566261 \nL 54.442752 13.665136 \nL 64.186931 13.791359 \nL 73.93111 14.080651 \nL 83.675289 14.827686 \n\" clip-path=\"url(#p59ebf6a29c)\" style=\"fill: none; stroke: #1f77b4; stroke-width: 1.5; stroke-linecap: square\"/>\n   </g>\n   <g id=\"line2d_42\">\n    <path d=\"M 49.633125 13.618592 \nL 69.163125 13.908465 \nL 88.693125 15.709584 \n\" clip-path=\"url(#p59ebf6a29c)\" style=\"fill: none; stroke-dasharray: 5.55,2.4; stroke-dashoffset: 0; stroke: #ff7f0e; stroke-width: 1.5\"/>\n   </g>\n   <g id=\"line2d_43\">\n    <path d=\"M 49.633125 139.5 \nL 69.163125 131.564805 \nL 88.693125 122.702045 \n\" clip-path=\"url(#p59ebf6a29c)\" style=\"fill: none; stroke-dasharray: 9.6,2.4,1.5,2.4; stroke-dashoffset: 0; stroke: #2ca02c; stroke-width: 1.5\"/>\n   </g>\n   <g id=\"line2d_44\">\n    <path d=\"M 34.954394 13.5 \nL 44.698573 13.566261 \nL 54.442752 13.665136 \nL 64.186931 13.791359 \nL 73.93111 14.080651 \nL 83.675289 14.827686 \nL 93.419468 18.952856 \n\" clip-path=\"url(#p59ebf6a29c)\" style=\"fill: none; stroke: #1f77b4; stroke-width: 1.5; stroke-linecap: square\"/>\n   </g>\n   <g id=\"line2d_45\">\n    <path d=\"M 49.633125 13.618592 \nL 69.163125 13.908465 \nL 88.693125 15.709584 \n\" clip-path=\"url(#p59ebf6a29c)\" style=\"fill: none; stroke-dasharray: 5.55,2.4; stroke-dashoffset: 0; stroke: #ff7f0e; stroke-width: 1.5\"/>\n   </g>\n   <g id=\"line2d_46\">\n    <path d=\"M 49.633125 139.5 \nL 69.163125 131.564805 \nL 88.693125 122.702045 \n\" clip-path=\"url(#p59ebf6a29c)\" style=\"fill: none; stroke-dasharray: 9.6,2.4,1.5,2.4; stroke-dashoffset: 0; stroke: #2ca02c; stroke-width: 1.5\"/>\n   </g>\n   <g id=\"line2d_47\">\n    <path d=\"M 34.954394 13.5 \nL 44.698573 13.566261 \nL 54.442752 13.665136 \nL 64.186931 13.791359 \nL 73.93111 14.080651 \nL 83.675289 14.827686 \nL 93.419468 18.952856 \nL 103.163647 46.623304 \n\" clip-path=\"url(#p59ebf6a29c)\" style=\"fill: none; stroke: #1f77b4; stroke-width: 1.5; stroke-linecap: square\"/>\n   </g>\n   <g id=\"line2d_48\">\n    <path d=\"M 49.633125 13.618592 \nL 69.163125 13.908465 \nL 88.693125 15.709584 \n\" clip-path=\"url(#p59ebf6a29c)\" style=\"fill: none; stroke-dasharray: 5.55,2.4; stroke-dashoffset: 0; stroke: #ff7f0e; stroke-width: 1.5\"/>\n   </g>\n   <g id=\"line2d_49\">\n    <path d=\"M 49.633125 139.5 \nL 69.163125 131.564805 \nL 88.693125 122.702045 \n\" clip-path=\"url(#p59ebf6a29c)\" style=\"fill: none; stroke-dasharray: 9.6,2.4,1.5,2.4; stroke-dashoffset: 0; stroke: #2ca02c; stroke-width: 1.5\"/>\n   </g>\n   <g id=\"line2d_50\">\n    <path d=\"M 34.954394 13.5 \nL 44.698573 13.566261 \nL 54.442752 13.665136 \nL 64.186931 13.791359 \nL 73.93111 14.080651 \nL 83.675289 14.827686 \nL 93.419468 18.952856 \nL 103.163647 46.623304 \n\" clip-path=\"url(#p59ebf6a29c)\" style=\"fill: none; stroke: #1f77b4; stroke-width: 1.5; stroke-linecap: square\"/>\n   </g>\n   <g id=\"line2d_51\">\n    <path d=\"M 49.633125 13.618592 \nL 69.163125 13.908465 \nL 88.693125 15.709584 \nL 108.223125 77.306351 \n\" clip-path=\"url(#p59ebf6a29c)\" style=\"fill: none; stroke-dasharray: 5.55,2.4; stroke-dashoffset: 0; stroke: #ff7f0e; stroke-width: 1.5\"/>\n   </g>\n   <g id=\"line2d_52\">\n    <path d=\"M 49.633125 139.5 \nL 69.163125 131.564805 \nL 88.693125 122.702045 \n\" clip-path=\"url(#p59ebf6a29c)\" style=\"fill: none; stroke-dasharray: 9.6,2.4,1.5,2.4; stroke-dashoffset: 0; stroke: #2ca02c; stroke-width: 1.5\"/>\n   </g>\n   <g id=\"line2d_53\">\n    <path d=\"M 34.954394 13.5 \nL 44.698573 13.566261 \nL 54.442752 13.665136 \nL 64.186931 13.791359 \nL 73.93111 14.080651 \nL 83.675289 14.827686 \nL 93.419468 18.952856 \nL 103.163647 46.623304 \n\" clip-path=\"url(#p59ebf6a29c)\" style=\"fill: none; stroke: #1f77b4; stroke-width: 1.5; stroke-linecap: square\"/>\n   </g>\n   <g id=\"line2d_54\">\n    <path d=\"M 49.633125 13.618592 \nL 69.163125 13.908465 \nL 88.693125 15.709584 \nL 108.223125 77.306351 \n\" clip-path=\"url(#p59ebf6a29c)\" style=\"fill: none; stroke-dasharray: 5.55,2.4; stroke-dashoffset: 0; stroke: #ff7f0e; stroke-width: 1.5\"/>\n   </g>\n   <g id=\"line2d_55\">\n    <path d=\"M 49.633125 139.5 \nL 69.163125 131.564805 \nL 88.693125 122.702045 \nL 108.223125 115.089235 \n\" clip-path=\"url(#p59ebf6a29c)\" style=\"fill: none; stroke-dasharray: 9.6,2.4,1.5,2.4; stroke-dashoffset: 0; stroke: #2ca02c; stroke-width: 1.5\"/>\n   </g>\n   <g id=\"line2d_56\">\n    <path d=\"M 34.954394 13.5 \nL 44.698573 13.566261 \nL 54.442752 13.665136 \nL 64.186931 13.791359 \nL 73.93111 14.080651 \nL 83.675289 14.827686 \nL 93.419468 18.952856 \nL 103.163647 46.623304 \nL 112.907826 82.907195 \n\" clip-path=\"url(#p59ebf6a29c)\" style=\"fill: none; stroke: #1f77b4; stroke-width: 1.5; stroke-linecap: square\"/>\n   </g>\n   <g id=\"line2d_57\">\n    <path d=\"M 49.633125 13.618592 \nL 69.163125 13.908465 \nL 88.693125 15.709584 \nL 108.223125 77.306351 \n\" clip-path=\"url(#p59ebf6a29c)\" style=\"fill: none; stroke-dasharray: 5.55,2.4; stroke-dashoffset: 0; stroke: #ff7f0e; stroke-width: 1.5\"/>\n   </g>\n   <g id=\"line2d_58\">\n    <path d=\"M 49.633125 139.5 \nL 69.163125 131.564805 \nL 88.693125 122.702045 \nL 108.223125 115.089235 \n\" clip-path=\"url(#p59ebf6a29c)\" style=\"fill: none; stroke-dasharray: 9.6,2.4,1.5,2.4; stroke-dashoffset: 0; stroke: #2ca02c; stroke-width: 1.5\"/>\n   </g>\n   <g id=\"line2d_59\">\n    <path d=\"M 34.954394 13.5 \nL 44.698573 13.566261 \nL 54.442752 13.665136 \nL 64.186931 13.791359 \nL 73.93111 14.080651 \nL 83.675289 14.827686 \nL 93.419468 18.952856 \nL 103.163647 46.623304 \nL 112.907826 82.907195 \nL 122.652006 95.591966 \n\" clip-path=\"url(#p59ebf6a29c)\" style=\"fill: none; stroke: #1f77b4; stroke-width: 1.5; stroke-linecap: square\"/>\n   </g>\n   <g id=\"line2d_60\">\n    <path d=\"M 49.633125 13.618592 \nL 69.163125 13.908465 \nL 88.693125 15.709584 \nL 108.223125 77.306351 \n\" clip-path=\"url(#p59ebf6a29c)\" style=\"fill: none; stroke-dasharray: 5.55,2.4; stroke-dashoffset: 0; stroke: #ff7f0e; stroke-width: 1.5\"/>\n   </g>\n   <g id=\"line2d_61\">\n    <path d=\"M 49.633125 139.5 \nL 69.163125 131.564805 \nL 88.693125 122.702045 \nL 108.223125 115.089235 \n\" clip-path=\"url(#p59ebf6a29c)\" style=\"fill: none; stroke-dasharray: 9.6,2.4,1.5,2.4; stroke-dashoffset: 0; stroke: #2ca02c; stroke-width: 1.5\"/>\n   </g>\n   <g id=\"line2d_62\">\n    <path d=\"M 34.954394 13.5 \nL 44.698573 13.566261 \nL 54.442752 13.665136 \nL 64.186931 13.791359 \nL 73.93111 14.080651 \nL 83.675289 14.827686 \nL 93.419468 18.952856 \nL 103.163647 46.623304 \nL 112.907826 82.907195 \nL 122.652006 95.591966 \n\" clip-path=\"url(#p59ebf6a29c)\" style=\"fill: none; stroke: #1f77b4; stroke-width: 1.5; stroke-linecap: square\"/>\n   </g>\n   <g id=\"line2d_63\">\n    <path d=\"M 49.633125 13.618592 \nL 69.163125 13.908465 \nL 88.693125 15.709584 \nL 108.223125 77.306351 \nL 127.753125 100.587602 \n\" clip-path=\"url(#p59ebf6a29c)\" style=\"fill: none; stroke-dasharray: 5.55,2.4; stroke-dashoffset: 0; stroke: #ff7f0e; stroke-width: 1.5\"/>\n   </g>\n   <g id=\"line2d_64\">\n    <path d=\"M 49.633125 139.5 \nL 69.163125 131.564805 \nL 88.693125 122.702045 \nL 108.223125 115.089235 \n\" clip-path=\"url(#p59ebf6a29c)\" style=\"fill: none; stroke-dasharray: 9.6,2.4,1.5,2.4; stroke-dashoffset: 0; stroke: #2ca02c; stroke-width: 1.5\"/>\n   </g>\n   <g id=\"line2d_65\">\n    <path d=\"M 34.954394 13.5 \nL 44.698573 13.566261 \nL 54.442752 13.665136 \nL 64.186931 13.791359 \nL 73.93111 14.080651 \nL 83.675289 14.827686 \nL 93.419468 18.952856 \nL 103.163647 46.623304 \nL 112.907826 82.907195 \nL 122.652006 95.591966 \n\" clip-path=\"url(#p59ebf6a29c)\" style=\"fill: none; stroke: #1f77b4; stroke-width: 1.5; stroke-linecap: square\"/>\n   </g>\n   <g id=\"line2d_66\">\n    <path d=\"M 49.633125 13.618592 \nL 69.163125 13.908465 \nL 88.693125 15.709584 \nL 108.223125 77.306351 \nL 127.753125 100.587602 \n\" clip-path=\"url(#p59ebf6a29c)\" style=\"fill: none; stroke-dasharray: 5.55,2.4; stroke-dashoffset: 0; stroke: #ff7f0e; stroke-width: 1.5\"/>\n   </g>\n   <g id=\"line2d_67\">\n    <path d=\"M 49.633125 139.5 \nL 69.163125 131.564805 \nL 88.693125 122.702045 \nL 108.223125 115.089235 \nL 127.753125 104.360036 \n\" clip-path=\"url(#p59ebf6a29c)\" style=\"fill: none; stroke-dasharray: 9.6,2.4,1.5,2.4; stroke-dashoffset: 0; stroke: #2ca02c; stroke-width: 1.5\"/>\n   </g>\n   <g id=\"line2d_68\">\n    <path d=\"M 34.954394 13.5 \nL 44.698573 13.566261 \nL 54.442752 13.665136 \nL 64.186931 13.791359 \nL 73.93111 14.080651 \nL 83.675289 14.827686 \nL 93.419468 18.952856 \nL 103.163647 46.623304 \nL 112.907826 82.907195 \nL 122.652006 95.591966 \nL 132.396185 102.233265 \n\" clip-path=\"url(#p59ebf6a29c)\" style=\"fill: none; stroke: #1f77b4; stroke-width: 1.5; stroke-linecap: square\"/>\n   </g>\n   <g id=\"line2d_69\">\n    <path d=\"M 49.633125 13.618592 \nL 69.163125 13.908465 \nL 88.693125 15.709584 \nL 108.223125 77.306351 \nL 127.753125 100.587602 \n\" clip-path=\"url(#p59ebf6a29c)\" style=\"fill: none; stroke-dasharray: 5.55,2.4; stroke-dashoffset: 0; stroke: #ff7f0e; stroke-width: 1.5\"/>\n   </g>\n   <g id=\"line2d_70\">\n    <path d=\"M 49.633125 139.5 \nL 69.163125 131.564805 \nL 88.693125 122.702045 \nL 108.223125 115.089235 \nL 127.753125 104.360036 \n\" clip-path=\"url(#p59ebf6a29c)\" style=\"fill: none; stroke-dasharray: 9.6,2.4,1.5,2.4; stroke-dashoffset: 0; stroke: #2ca02c; stroke-width: 1.5\"/>\n   </g>\n   <g id=\"line2d_71\">\n    <path d=\"M 34.954394 13.5 \nL 44.698573 13.566261 \nL 54.442752 13.665136 \nL 64.186931 13.791359 \nL 73.93111 14.080651 \nL 83.675289 14.827686 \nL 93.419468 18.952856 \nL 103.163647 46.623304 \nL 112.907826 82.907195 \nL 122.652006 95.591966 \nL 132.396185 102.233265 \nL 142.140364 106.429024 \n\" clip-path=\"url(#p59ebf6a29c)\" style=\"fill: none; stroke: #1f77b4; stroke-width: 1.5; stroke-linecap: square\"/>\n   </g>\n   <g id=\"line2d_72\">\n    <path d=\"M 49.633125 13.618592 \nL 69.163125 13.908465 \nL 88.693125 15.709584 \nL 108.223125 77.306351 \nL 127.753125 100.587602 \n\" clip-path=\"url(#p59ebf6a29c)\" style=\"fill: none; stroke-dasharray: 5.55,2.4; stroke-dashoffset: 0; stroke: #ff7f0e; stroke-width: 1.5\"/>\n   </g>\n   <g id=\"line2d_73\">\n    <path d=\"M 49.633125 139.5 \nL 69.163125 131.564805 \nL 88.693125 122.702045 \nL 108.223125 115.089235 \nL 127.753125 104.360036 \n\" clip-path=\"url(#p59ebf6a29c)\" style=\"fill: none; stroke-dasharray: 9.6,2.4,1.5,2.4; stroke-dashoffset: 0; stroke: #2ca02c; stroke-width: 1.5\"/>\n   </g>\n   <g id=\"line2d_74\">\n    <path d=\"M 34.954394 13.5 \nL 44.698573 13.566261 \nL 54.442752 13.665136 \nL 64.186931 13.791359 \nL 73.93111 14.080651 \nL 83.675289 14.827686 \nL 93.419468 18.952856 \nL 103.163647 46.623304 \nL 112.907826 82.907195 \nL 122.652006 95.591966 \nL 132.396185 102.233265 \nL 142.140364 106.429024 \n\" clip-path=\"url(#p59ebf6a29c)\" style=\"fill: none; stroke: #1f77b4; stroke-width: 1.5; stroke-linecap: square\"/>\n   </g>\n   <g id=\"line2d_75\">\n    <path d=\"M 49.633125 13.618592 \nL 69.163125 13.908465 \nL 88.693125 15.709584 \nL 108.223125 77.306351 \nL 127.753125 100.587602 \nL 147.283125 105.932088 \n\" clip-path=\"url(#p59ebf6a29c)\" style=\"fill: none; stroke-dasharray: 5.55,2.4; stroke-dashoffset: 0; stroke: #ff7f0e; stroke-width: 1.5\"/>\n   </g>\n   <g id=\"line2d_76\">\n    <path d=\"M 49.633125 139.5 \nL 69.163125 131.564805 \nL 88.693125 122.702045 \nL 108.223125 115.089235 \nL 127.753125 104.360036 \n\" clip-path=\"url(#p59ebf6a29c)\" style=\"fill: none; stroke-dasharray: 9.6,2.4,1.5,2.4; stroke-dashoffset: 0; stroke: #2ca02c; stroke-width: 1.5\"/>\n   </g>\n   <g id=\"line2d_77\">\n    <path d=\"M 34.954394 13.5 \nL 44.698573 13.566261 \nL 54.442752 13.665136 \nL 64.186931 13.791359 \nL 73.93111 14.080651 \nL 83.675289 14.827686 \nL 93.419468 18.952856 \nL 103.163647 46.623304 \nL 112.907826 82.907195 \nL 122.652006 95.591966 \nL 132.396185 102.233265 \nL 142.140364 106.429024 \n\" clip-path=\"url(#p59ebf6a29c)\" style=\"fill: none; stroke: #1f77b4; stroke-width: 1.5; stroke-linecap: square\"/>\n   </g>\n   <g id=\"line2d_78\">\n    <path d=\"M 49.633125 13.618592 \nL 69.163125 13.908465 \nL 88.693125 15.709584 \nL 108.223125 77.306351 \nL 127.753125 100.587602 \nL 147.283125 105.932088 \n\" clip-path=\"url(#p59ebf6a29c)\" style=\"fill: none; stroke-dasharray: 5.55,2.4; stroke-dashoffset: 0; stroke: #ff7f0e; stroke-width: 1.5\"/>\n   </g>\n   <g id=\"line2d_79\">\n    <path d=\"M 49.633125 139.5 \nL 69.163125 131.564805 \nL 88.693125 122.702045 \nL 108.223125 115.089235 \nL 127.753125 104.360036 \nL 147.283125 103.698298 \n\" clip-path=\"url(#p59ebf6a29c)\" style=\"fill: none; stroke-dasharray: 9.6,2.4,1.5,2.4; stroke-dashoffset: 0; stroke: #2ca02c; stroke-width: 1.5\"/>\n   </g>\n   <g id=\"line2d_80\">\n    <path d=\"M 34.954394 13.5 \nL 44.698573 13.566261 \nL 54.442752 13.665136 \nL 64.186931 13.791359 \nL 73.93111 14.080651 \nL 83.675289 14.827686 \nL 93.419468 18.952856 \nL 103.163647 46.623304 \nL 112.907826 82.907195 \nL 122.652006 95.591966 \nL 132.396185 102.233265 \nL 142.140364 106.429024 \nL 151.884543 109.782165 \n\" clip-path=\"url(#p59ebf6a29c)\" style=\"fill: none; stroke: #1f77b4; stroke-width: 1.5; stroke-linecap: square\"/>\n   </g>\n   <g id=\"line2d_81\">\n    <path d=\"M 49.633125 13.618592 \nL 69.163125 13.908465 \nL 88.693125 15.709584 \nL 108.223125 77.306351 \nL 127.753125 100.587602 \nL 147.283125 105.932088 \n\" clip-path=\"url(#p59ebf6a29c)\" style=\"fill: none; stroke-dasharray: 5.55,2.4; stroke-dashoffset: 0; stroke: #ff7f0e; stroke-width: 1.5\"/>\n   </g>\n   <g id=\"line2d_82\">\n    <path d=\"M 49.633125 139.5 \nL 69.163125 131.564805 \nL 88.693125 122.702045 \nL 108.223125 115.089235 \nL 127.753125 104.360036 \nL 147.283125 103.698298 \n\" clip-path=\"url(#p59ebf6a29c)\" style=\"fill: none; stroke-dasharray: 9.6,2.4,1.5,2.4; stroke-dashoffset: 0; stroke: #2ca02c; stroke-width: 1.5\"/>\n   </g>\n   <g id=\"line2d_83\">\n    <path d=\"M 34.954394 13.5 \nL 44.698573 13.566261 \nL 54.442752 13.665136 \nL 64.186931 13.791359 \nL 73.93111 14.080651 \nL 83.675289 14.827686 \nL 93.419468 18.952856 \nL 103.163647 46.623304 \nL 112.907826 82.907195 \nL 122.652006 95.591966 \nL 132.396185 102.233265 \nL 142.140364 106.429024 \nL 151.884543 109.782165 \nL 161.628722 109.537894 \n\" clip-path=\"url(#p59ebf6a29c)\" style=\"fill: none; stroke: #1f77b4; stroke-width: 1.5; stroke-linecap: square\"/>\n   </g>\n   <g id=\"line2d_84\">\n    <path d=\"M 49.633125 13.618592 \nL 69.163125 13.908465 \nL 88.693125 15.709584 \nL 108.223125 77.306351 \nL 127.753125 100.587602 \nL 147.283125 105.932088 \n\" clip-path=\"url(#p59ebf6a29c)\" style=\"fill: none; stroke-dasharray: 5.55,2.4; stroke-dashoffset: 0; stroke: #ff7f0e; stroke-width: 1.5\"/>\n   </g>\n   <g id=\"line2d_85\">\n    <path d=\"M 49.633125 139.5 \nL 69.163125 131.564805 \nL 88.693125 122.702045 \nL 108.223125 115.089235 \nL 127.753125 104.360036 \nL 147.283125 103.698298 \n\" clip-path=\"url(#p59ebf6a29c)\" style=\"fill: none; stroke-dasharray: 9.6,2.4,1.5,2.4; stroke-dashoffset: 0; stroke: #2ca02c; stroke-width: 1.5\"/>\n   </g>\n   <g id=\"line2d_86\">\n    <path d=\"M 34.954394 13.5 \nL 44.698573 13.566261 \nL 54.442752 13.665136 \nL 64.186931 13.791359 \nL 73.93111 14.080651 \nL 83.675289 14.827686 \nL 93.419468 18.952856 \nL 103.163647 46.623304 \nL 112.907826 82.907195 \nL 122.652006 95.591966 \nL 132.396185 102.233265 \nL 142.140364 106.429024 \nL 151.884543 109.782165 \nL 161.628722 109.537894 \n\" clip-path=\"url(#p59ebf6a29c)\" style=\"fill: none; stroke: #1f77b4; stroke-width: 1.5; stroke-linecap: square\"/>\n   </g>\n   <g id=\"line2d_87\">\n    <path d=\"M 49.633125 13.618592 \nL 69.163125 13.908465 \nL 88.693125 15.709584 \nL 108.223125 77.306351 \nL 127.753125 100.587602 \nL 147.283125 105.932088 \nL 166.813125 110.214112 \n\" clip-path=\"url(#p59ebf6a29c)\" style=\"fill: none; stroke-dasharray: 5.55,2.4; stroke-dashoffset: 0; stroke: #ff7f0e; stroke-width: 1.5\"/>\n   </g>\n   <g id=\"line2d_88\">\n    <path d=\"M 49.633125 139.5 \nL 69.163125 131.564805 \nL 88.693125 122.702045 \nL 108.223125 115.089235 \nL 127.753125 104.360036 \nL 147.283125 103.698298 \n\" clip-path=\"url(#p59ebf6a29c)\" style=\"fill: none; stroke-dasharray: 9.6,2.4,1.5,2.4; stroke-dashoffset: 0; stroke: #2ca02c; stroke-width: 1.5\"/>\n   </g>\n   <g id=\"line2d_89\">\n    <path d=\"M 34.954394 13.5 \nL 44.698573 13.566261 \nL 54.442752 13.665136 \nL 64.186931 13.791359 \nL 73.93111 14.080651 \nL 83.675289 14.827686 \nL 93.419468 18.952856 \nL 103.163647 46.623304 \nL 112.907826 82.907195 \nL 122.652006 95.591966 \nL 132.396185 102.233265 \nL 142.140364 106.429024 \nL 151.884543 109.782165 \nL 161.628722 109.537894 \n\" clip-path=\"url(#p59ebf6a29c)\" style=\"fill: none; stroke: #1f77b4; stroke-width: 1.5; stroke-linecap: square\"/>\n   </g>\n   <g id=\"line2d_90\">\n    <path d=\"M 49.633125 13.618592 \nL 69.163125 13.908465 \nL 88.693125 15.709584 \nL 108.223125 77.306351 \nL 127.753125 100.587602 \nL 147.283125 105.932088 \nL 166.813125 110.214112 \n\" clip-path=\"url(#p59ebf6a29c)\" style=\"fill: none; stroke-dasharray: 5.55,2.4; stroke-dashoffset: 0; stroke: #ff7f0e; stroke-width: 1.5\"/>\n   </g>\n   <g id=\"line2d_91\">\n    <path d=\"M 49.633125 139.5 \nL 69.163125 131.564805 \nL 88.693125 122.702045 \nL 108.223125 115.089235 \nL 127.753125 104.360036 \nL 147.283125 103.698298 \nL 166.813125 100.909951 \n\" clip-path=\"url(#p59ebf6a29c)\" style=\"fill: none; stroke-dasharray: 9.6,2.4,1.5,2.4; stroke-dashoffset: 0; stroke: #2ca02c; stroke-width: 1.5\"/>\n   </g>\n   <g id=\"line2d_92\">\n    <path d=\"M 34.954394 13.5 \nL 44.698573 13.566261 \nL 54.442752 13.665136 \nL 64.186931 13.791359 \nL 73.93111 14.080651 \nL 83.675289 14.827686 \nL 93.419468 18.952856 \nL 103.163647 46.623304 \nL 112.907826 82.907195 \nL 122.652006 95.591966 \nL 132.396185 102.233265 \nL 142.140364 106.429024 \nL 151.884543 109.782165 \nL 161.628722 109.537894 \nL 171.372901 112.740401 \n\" clip-path=\"url(#p59ebf6a29c)\" style=\"fill: none; stroke: #1f77b4; stroke-width: 1.5; stroke-linecap: square\"/>\n   </g>\n   <g id=\"line2d_93\">\n    <path d=\"M 49.633125 13.618592 \nL 69.163125 13.908465 \nL 88.693125 15.709584 \nL 108.223125 77.306351 \nL 127.753125 100.587602 \nL 147.283125 105.932088 \nL 166.813125 110.214112 \n\" clip-path=\"url(#p59ebf6a29c)\" style=\"fill: none; stroke-dasharray: 5.55,2.4; stroke-dashoffset: 0; stroke: #ff7f0e; stroke-width: 1.5\"/>\n   </g>\n   <g id=\"line2d_94\">\n    <path d=\"M 49.633125 139.5 \nL 69.163125 131.564805 \nL 88.693125 122.702045 \nL 108.223125 115.089235 \nL 127.753125 104.360036 \nL 147.283125 103.698298 \nL 166.813125 100.909951 \n\" clip-path=\"url(#p59ebf6a29c)\" style=\"fill: none; stroke-dasharray: 9.6,2.4,1.5,2.4; stroke-dashoffset: 0; stroke: #2ca02c; stroke-width: 1.5\"/>\n   </g>\n   <g id=\"line2d_95\">\n    <path d=\"M 34.954394 13.5 \nL 44.698573 13.566261 \nL 54.442752 13.665136 \nL 64.186931 13.791359 \nL 73.93111 14.080651 \nL 83.675289 14.827686 \nL 93.419468 18.952856 \nL 103.163647 46.623304 \nL 112.907826 82.907195 \nL 122.652006 95.591966 \nL 132.396185 102.233265 \nL 142.140364 106.429024 \nL 151.884543 109.782165 \nL 161.628722 109.537894 \nL 171.372901 112.740401 \nL 181.11708 115.759669 \n\" clip-path=\"url(#p59ebf6a29c)\" style=\"fill: none; stroke: #1f77b4; stroke-width: 1.5; stroke-linecap: square\"/>\n   </g>\n   <g id=\"line2d_96\">\n    <path d=\"M 49.633125 13.618592 \nL 69.163125 13.908465 \nL 88.693125 15.709584 \nL 108.223125 77.306351 \nL 127.753125 100.587602 \nL 147.283125 105.932088 \nL 166.813125 110.214112 \n\" clip-path=\"url(#p59ebf6a29c)\" style=\"fill: none; stroke-dasharray: 5.55,2.4; stroke-dashoffset: 0; stroke: #ff7f0e; stroke-width: 1.5\"/>\n   </g>\n   <g id=\"line2d_97\">\n    <path d=\"M 49.633125 139.5 \nL 69.163125 131.564805 \nL 88.693125 122.702045 \nL 108.223125 115.089235 \nL 127.753125 104.360036 \nL 147.283125 103.698298 \nL 166.813125 100.909951 \n\" clip-path=\"url(#p59ebf6a29c)\" style=\"fill: none; stroke-dasharray: 9.6,2.4,1.5,2.4; stroke-dashoffset: 0; stroke: #2ca02c; stroke-width: 1.5\"/>\n   </g>\n   <g id=\"line2d_98\">\n    <path d=\"M 34.954394 13.5 \nL 44.698573 13.566261 \nL 54.442752 13.665136 \nL 64.186931 13.791359 \nL 73.93111 14.080651 \nL 83.675289 14.827686 \nL 93.419468 18.952856 \nL 103.163647 46.623304 \nL 112.907826 82.907195 \nL 122.652006 95.591966 \nL 132.396185 102.233265 \nL 142.140364 106.429024 \nL 151.884543 109.782165 \nL 161.628722 109.537894 \nL 171.372901 112.740401 \nL 181.11708 115.759669 \n\" clip-path=\"url(#p59ebf6a29c)\" style=\"fill: none; stroke: #1f77b4; stroke-width: 1.5; stroke-linecap: square\"/>\n   </g>\n   <g id=\"line2d_99\">\n    <path d=\"M 49.633125 13.618592 \nL 69.163125 13.908465 \nL 88.693125 15.709584 \nL 108.223125 77.306351 \nL 127.753125 100.587602 \nL 147.283125 105.932088 \nL 166.813125 110.214112 \nL 186.343125 111.566326 \n\" clip-path=\"url(#p59ebf6a29c)\" style=\"fill: none; stroke-dasharray: 5.55,2.4; stroke-dashoffset: 0; stroke: #ff7f0e; stroke-width: 1.5\"/>\n   </g>\n   <g id=\"line2d_100\">\n    <path d=\"M 49.633125 139.5 \nL 69.163125 131.564805 \nL 88.693125 122.702045 \nL 108.223125 115.089235 \nL 127.753125 104.360036 \nL 147.283125 103.698298 \nL 166.813125 100.909951 \n\" clip-path=\"url(#p59ebf6a29c)\" style=\"fill: none; stroke-dasharray: 9.6,2.4,1.5,2.4; stroke-dashoffset: 0; stroke: #2ca02c; stroke-width: 1.5\"/>\n   </g>\n   <g id=\"line2d_101\">\n    <path d=\"M 34.954394 13.5 \nL 44.698573 13.566261 \nL 54.442752 13.665136 \nL 64.186931 13.791359 \nL 73.93111 14.080651 \nL 83.675289 14.827686 \nL 93.419468 18.952856 \nL 103.163647 46.623304 \nL 112.907826 82.907195 \nL 122.652006 95.591966 \nL 132.396185 102.233265 \nL 142.140364 106.429024 \nL 151.884543 109.782165 \nL 161.628722 109.537894 \nL 171.372901 112.740401 \nL 181.11708 115.759669 \n\" clip-path=\"url(#p59ebf6a29c)\" style=\"fill: none; stroke: #1f77b4; stroke-width: 1.5; stroke-linecap: square\"/>\n   </g>\n   <g id=\"line2d_102\">\n    <path d=\"M 49.633125 13.618592 \nL 69.163125 13.908465 \nL 88.693125 15.709584 \nL 108.223125 77.306351 \nL 127.753125 100.587602 \nL 147.283125 105.932088 \nL 166.813125 110.214112 \nL 186.343125 111.566326 \n\" clip-path=\"url(#p59ebf6a29c)\" style=\"fill: none; stroke-dasharray: 5.55,2.4; stroke-dashoffset: 0; stroke: #ff7f0e; stroke-width: 1.5\"/>\n   </g>\n   <g id=\"line2d_103\">\n    <path d=\"M 49.633125 139.5 \nL 69.163125 131.564805 \nL 88.693125 122.702045 \nL 108.223125 115.089235 \nL 127.753125 104.360036 \nL 147.283125 103.698298 \nL 166.813125 100.909951 \nL 186.343125 100.819457 \n\" clip-path=\"url(#p59ebf6a29c)\" style=\"fill: none; stroke-dasharray: 9.6,2.4,1.5,2.4; stroke-dashoffset: 0; stroke: #2ca02c; stroke-width: 1.5\"/>\n   </g>\n   <g id=\"line2d_104\">\n    <path d=\"M 34.954394 13.5 \nL 44.698573 13.566261 \nL 54.442752 13.665136 \nL 64.186931 13.791359 \nL 73.93111 14.080651 \nL 83.675289 14.827686 \nL 93.419468 18.952856 \nL 103.163647 46.623304 \nL 112.907826 82.907195 \nL 122.652006 95.591966 \nL 132.396185 102.233265 \nL 142.140364 106.429024 \nL 151.884543 109.782165 \nL 161.628722 109.537894 \nL 171.372901 112.740401 \nL 181.11708 115.759669 \nL 190.861259 117.000514 \n\" clip-path=\"url(#p59ebf6a29c)\" style=\"fill: none; stroke: #1f77b4; stroke-width: 1.5; stroke-linecap: square\"/>\n   </g>\n   <g id=\"line2d_105\">\n    <path d=\"M 49.633125 13.618592 \nL 69.163125 13.908465 \nL 88.693125 15.709584 \nL 108.223125 77.306351 \nL 127.753125 100.587602 \nL 147.283125 105.932088 \nL 166.813125 110.214112 \nL 186.343125 111.566326 \n\" clip-path=\"url(#p59ebf6a29c)\" style=\"fill: none; stroke-dasharray: 5.55,2.4; stroke-dashoffset: 0; stroke: #ff7f0e; stroke-width: 1.5\"/>\n   </g>\n   <g id=\"line2d_106\">\n    <path d=\"M 49.633125 139.5 \nL 69.163125 131.564805 \nL 88.693125 122.702045 \nL 108.223125 115.089235 \nL 127.753125 104.360036 \nL 147.283125 103.698298 \nL 166.813125 100.909951 \nL 186.343125 100.819457 \n\" clip-path=\"url(#p59ebf6a29c)\" style=\"fill: none; stroke-dasharray: 9.6,2.4,1.5,2.4; stroke-dashoffset: 0; stroke: #2ca02c; stroke-width: 1.5\"/>\n   </g>\n   <g id=\"line2d_107\">\n    <path d=\"M 34.954394 13.5 \nL 44.698573 13.566261 \nL 54.442752 13.665136 \nL 64.186931 13.791359 \nL 73.93111 14.080651 \nL 83.675289 14.827686 \nL 93.419468 18.952856 \nL 103.163647 46.623304 \nL 112.907826 82.907195 \nL 122.652006 95.591966 \nL 132.396185 102.233265 \nL 142.140364 106.429024 \nL 151.884543 109.782165 \nL 161.628722 109.537894 \nL 171.372901 112.740401 \nL 181.11708 115.759669 \nL 190.861259 117.000514 \nL 200.605438 117.949362 \n\" clip-path=\"url(#p59ebf6a29c)\" style=\"fill: none; stroke: #1f77b4; stroke-width: 1.5; stroke-linecap: square\"/>\n   </g>\n   <g id=\"line2d_108\">\n    <path d=\"M 49.633125 13.618592 \nL 69.163125 13.908465 \nL 88.693125 15.709584 \nL 108.223125 77.306351 \nL 127.753125 100.587602 \nL 147.283125 105.932088 \nL 166.813125 110.214112 \nL 186.343125 111.566326 \n\" clip-path=\"url(#p59ebf6a29c)\" style=\"fill: none; stroke-dasharray: 5.55,2.4; stroke-dashoffset: 0; stroke: #ff7f0e; stroke-width: 1.5\"/>\n   </g>\n   <g id=\"line2d_109\">\n    <path d=\"M 49.633125 139.5 \nL 69.163125 131.564805 \nL 88.693125 122.702045 \nL 108.223125 115.089235 \nL 127.753125 104.360036 \nL 147.283125 103.698298 \nL 166.813125 100.909951 \nL 186.343125 100.819457 \n\" clip-path=\"url(#p59ebf6a29c)\" style=\"fill: none; stroke-dasharray: 9.6,2.4,1.5,2.4; stroke-dashoffset: 0; stroke: #2ca02c; stroke-width: 1.5\"/>\n   </g>\n   <g id=\"line2d_110\">\n    <path d=\"M 34.954394 13.5 \nL 44.698573 13.566261 \nL 54.442752 13.665136 \nL 64.186931 13.791359 \nL 73.93111 14.080651 \nL 83.675289 14.827686 \nL 93.419468 18.952856 \nL 103.163647 46.623304 \nL 112.907826 82.907195 \nL 122.652006 95.591966 \nL 132.396185 102.233265 \nL 142.140364 106.429024 \nL 151.884543 109.782165 \nL 161.628722 109.537894 \nL 171.372901 112.740401 \nL 181.11708 115.759669 \nL 190.861259 117.000514 \nL 200.605438 117.949362 \n\" clip-path=\"url(#p59ebf6a29c)\" style=\"fill: none; stroke: #1f77b4; stroke-width: 1.5; stroke-linecap: square\"/>\n   </g>\n   <g id=\"line2d_111\">\n    <path d=\"M 49.633125 13.618592 \nL 69.163125 13.908465 \nL 88.693125 15.709584 \nL 108.223125 77.306351 \nL 127.753125 100.587602 \nL 147.283125 105.932088 \nL 166.813125 110.214112 \nL 186.343125 111.566326 \nL 205.873125 106.730729 \n\" clip-path=\"url(#p59ebf6a29c)\" style=\"fill: none; stroke-dasharray: 5.55,2.4; stroke-dashoffset: 0; stroke: #ff7f0e; stroke-width: 1.5\"/>\n   </g>\n   <g id=\"line2d_112\">\n    <path d=\"M 49.633125 139.5 \nL 69.163125 131.564805 \nL 88.693125 122.702045 \nL 108.223125 115.089235 \nL 127.753125 104.360036 \nL 147.283125 103.698298 \nL 166.813125 100.909951 \nL 186.343125 100.819457 \n\" clip-path=\"url(#p59ebf6a29c)\" style=\"fill: none; stroke-dasharray: 9.6,2.4,1.5,2.4; stroke-dashoffset: 0; stroke: #2ca02c; stroke-width: 1.5\"/>\n   </g>\n   <g id=\"line2d_113\">\n    <path d=\"M 34.954394 13.5 \nL 44.698573 13.566261 \nL 54.442752 13.665136 \nL 64.186931 13.791359 \nL 73.93111 14.080651 \nL 83.675289 14.827686 \nL 93.419468 18.952856 \nL 103.163647 46.623304 \nL 112.907826 82.907195 \nL 122.652006 95.591966 \nL 132.396185 102.233265 \nL 142.140364 106.429024 \nL 151.884543 109.782165 \nL 161.628722 109.537894 \nL 171.372901 112.740401 \nL 181.11708 115.759669 \nL 190.861259 117.000514 \nL 200.605438 117.949362 \n\" clip-path=\"url(#p59ebf6a29c)\" style=\"fill: none; stroke: #1f77b4; stroke-width: 1.5; stroke-linecap: square\"/>\n   </g>\n   <g id=\"line2d_114\">\n    <path d=\"M 49.633125 13.618592 \nL 69.163125 13.908465 \nL 88.693125 15.709584 \nL 108.223125 77.306351 \nL 127.753125 100.587602 \nL 147.283125 105.932088 \nL 166.813125 110.214112 \nL 186.343125 111.566326 \nL 205.873125 106.730729 \n\" clip-path=\"url(#p59ebf6a29c)\" style=\"fill: none; stroke-dasharray: 5.55,2.4; stroke-dashoffset: 0; stroke: #ff7f0e; stroke-width: 1.5\"/>\n   </g>\n   <g id=\"line2d_115\">\n    <path d=\"M 49.633125 139.5 \nL 69.163125 131.564805 \nL 88.693125 122.702045 \nL 108.223125 115.089235 \nL 127.753125 104.360036 \nL 147.283125 103.698298 \nL 166.813125 100.909951 \nL 186.343125 100.819457 \nL 205.873125 102.188179 \n\" clip-path=\"url(#p59ebf6a29c)\" style=\"fill: none; stroke-dasharray: 9.6,2.4,1.5,2.4; stroke-dashoffset: 0; stroke: #2ca02c; stroke-width: 1.5\"/>\n   </g>\n   <g id=\"line2d_116\">\n    <path d=\"M 34.954394 13.5 \nL 44.698573 13.566261 \nL 54.442752 13.665136 \nL 64.186931 13.791359 \nL 73.93111 14.080651 \nL 83.675289 14.827686 \nL 93.419468 18.952856 \nL 103.163647 46.623304 \nL 112.907826 82.907195 \nL 122.652006 95.591966 \nL 132.396185 102.233265 \nL 142.140364 106.429024 \nL 151.884543 109.782165 \nL 161.628722 109.537894 \nL 171.372901 112.740401 \nL 181.11708 115.759669 \nL 190.861259 117.000514 \nL 200.605438 117.949362 \nL 210.349618 119.327368 \n\" clip-path=\"url(#p59ebf6a29c)\" style=\"fill: none; stroke: #1f77b4; stroke-width: 1.5; stroke-linecap: square\"/>\n   </g>\n   <g id=\"line2d_117\">\n    <path d=\"M 49.633125 13.618592 \nL 69.163125 13.908465 \nL 88.693125 15.709584 \nL 108.223125 77.306351 \nL 127.753125 100.587602 \nL 147.283125 105.932088 \nL 166.813125 110.214112 \nL 186.343125 111.566326 \nL 205.873125 106.730729 \n\" clip-path=\"url(#p59ebf6a29c)\" style=\"fill: none; stroke-dasharray: 5.55,2.4; stroke-dashoffset: 0; stroke: #ff7f0e; stroke-width: 1.5\"/>\n   </g>\n   <g id=\"line2d_118\">\n    <path d=\"M 49.633125 139.5 \nL 69.163125 131.564805 \nL 88.693125 122.702045 \nL 108.223125 115.089235 \nL 127.753125 104.360036 \nL 147.283125 103.698298 \nL 166.813125 100.909951 \nL 186.343125 100.819457 \nL 205.873125 102.188179 \n\" clip-path=\"url(#p59ebf6a29c)\" style=\"fill: none; stroke-dasharray: 9.6,2.4,1.5,2.4; stroke-dashoffset: 0; stroke: #2ca02c; stroke-width: 1.5\"/>\n   </g>\n   <g id=\"line2d_119\">\n    <path d=\"M 34.954394 13.5 \nL 44.698573 13.566261 \nL 54.442752 13.665136 \nL 64.186931 13.791359 \nL 73.93111 14.080651 \nL 83.675289 14.827686 \nL 93.419468 18.952856 \nL 103.163647 46.623304 \nL 112.907826 82.907195 \nL 122.652006 95.591966 \nL 132.396185 102.233265 \nL 142.140364 106.429024 \nL 151.884543 109.782165 \nL 161.628722 109.537894 \nL 171.372901 112.740401 \nL 181.11708 115.759669 \nL 190.861259 117.000514 \nL 200.605438 117.949362 \nL 210.349618 119.327368 \nL 220.093797 120.048914 \n\" clip-path=\"url(#p59ebf6a29c)\" style=\"fill: none; stroke: #1f77b4; stroke-width: 1.5; stroke-linecap: square\"/>\n   </g>\n   <g id=\"line2d_120\">\n    <path d=\"M 49.633125 13.618592 \nL 69.163125 13.908465 \nL 88.693125 15.709584 \nL 108.223125 77.306351 \nL 127.753125 100.587602 \nL 147.283125 105.932088 \nL 166.813125 110.214112 \nL 186.343125 111.566326 \nL 205.873125 106.730729 \n\" clip-path=\"url(#p59ebf6a29c)\" style=\"fill: none; stroke-dasharray: 5.55,2.4; stroke-dashoffset: 0; stroke: #ff7f0e; stroke-width: 1.5\"/>\n   </g>\n   <g id=\"line2d_121\">\n    <path d=\"M 49.633125 139.5 \nL 69.163125 131.564805 \nL 88.693125 122.702045 \nL 108.223125 115.089235 \nL 127.753125 104.360036 \nL 147.283125 103.698298 \nL 166.813125 100.909951 \nL 186.343125 100.819457 \nL 205.873125 102.188179 \n\" clip-path=\"url(#p59ebf6a29c)\" style=\"fill: none; stroke-dasharray: 9.6,2.4,1.5,2.4; stroke-dashoffset: 0; stroke: #2ca02c; stroke-width: 1.5\"/>\n   </g>\n   <g id=\"line2d_122\">\n    <path d=\"M 34.954394 13.5 \nL 44.698573 13.566261 \nL 54.442752 13.665136 \nL 64.186931 13.791359 \nL 73.93111 14.080651 \nL 83.675289 14.827686 \nL 93.419468 18.952856 \nL 103.163647 46.623304 \nL 112.907826 82.907195 \nL 122.652006 95.591966 \nL 132.396185 102.233265 \nL 142.140364 106.429024 \nL 151.884543 109.782165 \nL 161.628722 109.537894 \nL 171.372901 112.740401 \nL 181.11708 115.759669 \nL 190.861259 117.000514 \nL 200.605438 117.949362 \nL 210.349618 119.327368 \nL 220.093797 120.048914 \n\" clip-path=\"url(#p59ebf6a29c)\" style=\"fill: none; stroke: #1f77b4; stroke-width: 1.5; stroke-linecap: square\"/>\n   </g>\n   <g id=\"line2d_123\">\n    <path d=\"M 49.633125 13.618592 \nL 69.163125 13.908465 \nL 88.693125 15.709584 \nL 108.223125 77.306351 \nL 127.753125 100.587602 \nL 147.283125 105.932088 \nL 166.813125 110.214112 \nL 186.343125 111.566326 \nL 205.873125 106.730729 \nL 225.403125 119.242744 \n\" clip-path=\"url(#p59ebf6a29c)\" style=\"fill: none; stroke-dasharray: 5.55,2.4; stroke-dashoffset: 0; stroke: #ff7f0e; stroke-width: 1.5\"/>\n   </g>\n   <g id=\"line2d_124\">\n    <path d=\"M 49.633125 139.5 \nL 69.163125 131.564805 \nL 88.693125 122.702045 \nL 108.223125 115.089235 \nL 127.753125 104.360036 \nL 147.283125 103.698298 \nL 166.813125 100.909951 \nL 186.343125 100.819457 \nL 205.873125 102.188179 \n\" clip-path=\"url(#p59ebf6a29c)\" style=\"fill: none; stroke-dasharray: 9.6,2.4,1.5,2.4; stroke-dashoffset: 0; stroke: #2ca02c; stroke-width: 1.5\"/>\n   </g>\n   <g id=\"line2d_125\">\n    <path d=\"M 34.954394 13.5 \nL 44.698573 13.566261 \nL 54.442752 13.665136 \nL 64.186931 13.791359 \nL 73.93111 14.080651 \nL 83.675289 14.827686 \nL 93.419468 18.952856 \nL 103.163647 46.623304 \nL 112.907826 82.907195 \nL 122.652006 95.591966 \nL 132.396185 102.233265 \nL 142.140364 106.429024 \nL 151.884543 109.782165 \nL 161.628722 109.537894 \nL 171.372901 112.740401 \nL 181.11708 115.759669 \nL 190.861259 117.000514 \nL 200.605438 117.949362 \nL 210.349618 119.327368 \nL 220.093797 120.048914 \n\" clip-path=\"url(#p59ebf6a29c)\" style=\"fill: none; stroke: #1f77b4; stroke-width: 1.5; stroke-linecap: square\"/>\n   </g>\n   <g id=\"line2d_126\">\n    <path d=\"M 49.633125 13.618592 \nL 69.163125 13.908465 \nL 88.693125 15.709584 \nL 108.223125 77.306351 \nL 127.753125 100.587602 \nL 147.283125 105.932088 \nL 166.813125 110.214112 \nL 186.343125 111.566326 \nL 205.873125 106.730729 \nL 225.403125 119.242744 \n\" clip-path=\"url(#p59ebf6a29c)\" style=\"fill: none; stroke-dasharray: 5.55,2.4; stroke-dashoffset: 0; stroke: #ff7f0e; stroke-width: 1.5\"/>\n   </g>\n   <g id=\"line2d_127\">\n    <path d=\"M 49.633125 139.5 \nL 69.163125 131.564805 \nL 88.693125 122.702045 \nL 108.223125 115.089235 \nL 127.753125 104.360036 \nL 147.283125 103.698298 \nL 166.813125 100.909951 \nL 186.343125 100.819457 \nL 205.873125 102.188179 \nL 225.403125 97.804875 \n\" clip-path=\"url(#p59ebf6a29c)\" style=\"fill: none; stroke-dasharray: 9.6,2.4,1.5,2.4; stroke-dashoffset: 0; stroke: #2ca02c; stroke-width: 1.5\"/>\n   </g>\n   <g id=\"patch_3\">\n    <path d=\"M 30.103125 145.8 \nL 30.103125 7.2 \n\" style=\"fill: none; stroke: #000000; stroke-width: 0.8; stroke-linejoin: miter; stroke-linecap: square\"/>\n   </g>\n   <g id=\"patch_4\">\n    <path d=\"M 225.403125 145.8 \nL 225.403125 7.2 \n\" style=\"fill: none; stroke: #000000; stroke-width: 0.8; stroke-linejoin: miter; stroke-linecap: square\"/>\n   </g>\n   <g id=\"patch_5\">\n    <path d=\"M 30.103125 145.8 \nL 225.403125 145.8 \n\" style=\"fill: none; stroke: #000000; stroke-width: 0.8; stroke-linejoin: miter; stroke-linecap: square\"/>\n   </g>\n   <g id=\"patch_6\">\n    <path d=\"M 30.103125 7.2 \nL 225.403125 7.2 \n\" style=\"fill: none; stroke: #000000; stroke-width: 0.8; stroke-linejoin: miter; stroke-linecap: square\"/>\n   </g>\n   <g id=\"legend_1\">\n    <g id=\"patch_7\">\n     <path d=\"M 138.8125 60.06875 \nL 218.403125 60.06875 \nQ 220.403125 60.06875 220.403125 58.06875 \nL 220.403125 14.2 \nQ 220.403125 12.2 218.403125 12.2 \nL 138.8125 12.2 \nQ 136.8125 12.2 136.8125 14.2 \nL 136.8125 58.06875 \nQ 136.8125 60.06875 138.8125 60.06875 \nz\n\" style=\"fill: #ffffff; opacity: 0.8; stroke: #cccccc; stroke-linejoin: miter\"/>\n    </g>\n    <g id=\"line2d_128\">\n     <path d=\"M 140.8125 20.298438 \nL 150.8125 20.298438 \nL 160.8125 20.298438 \n\" style=\"fill: none; stroke: #1f77b4; stroke-width: 1.5; stroke-linecap: square\"/>\n    </g>\n    <g id=\"text_13\">\n     <!-- train_loss -->\n     <g transform=\"translate(168.8125 23.798438) scale(0.1 -0.1)\">\n      <defs>\n       <path id=\"DejaVuSans-74\" d=\"M 1172 4494 \nL 1172 3500 \nL 2356 3500 \nL 2356 3053 \nL 1172 3053 \nL 1172 1153 \nQ 1172 725 1289 603 \nQ 1406 481 1766 481 \nL 2356 481 \nL 2356 0 \nL 1766 0 \nQ 1100 0 847 248 \nQ 594 497 594 1153 \nL 594 3053 \nL 172 3053 \nL 172 3500 \nL 594 3500 \nL 594 4494 \nL 1172 4494 \nz\n\" transform=\"scale(0.015625)\"/>\n       <path id=\"DejaVuSans-72\" d=\"M 2631 2963 \nQ 2534 3019 2420 3045 \nQ 2306 3072 2169 3072 \nQ 1681 3072 1420 2755 \nQ 1159 2438 1159 1844 \nL 1159 0 \nL 581 0 \nL 581 3500 \nL 1159 3500 \nL 1159 2956 \nQ 1341 3275 1631 3429 \nQ 1922 3584 2338 3584 \nQ 2397 3584 2469 3576 \nQ 2541 3569 2628 3553 \nL 2631 2963 \nz\n\" transform=\"scale(0.015625)\"/>\n       <path id=\"DejaVuSans-61\" d=\"M 2194 1759 \nQ 1497 1759 1228 1600 \nQ 959 1441 959 1056 \nQ 959 750 1161 570 \nQ 1363 391 1709 391 \nQ 2188 391 2477 730 \nQ 2766 1069 2766 1631 \nL 2766 1759 \nL 2194 1759 \nz\nM 3341 1997 \nL 3341 0 \nL 2766 0 \nL 2766 531 \nQ 2569 213 2275 61 \nQ 1981 -91 1556 -91 \nQ 1019 -91 701 211 \nQ 384 513 384 1019 \nQ 384 1609 779 1909 \nQ 1175 2209 1959 2209 \nL 2766 2209 \nL 2766 2266 \nQ 2766 2663 2505 2880 \nQ 2244 3097 1772 3097 \nQ 1472 3097 1187 3025 \nQ 903 2953 641 2809 \nL 641 3341 \nQ 956 3463 1253 3523 \nQ 1550 3584 1831 3584 \nQ 2591 3584 2966 3190 \nQ 3341 2797 3341 1997 \nz\n\" transform=\"scale(0.015625)\"/>\n       <path id=\"DejaVuSans-69\" d=\"M 603 3500 \nL 1178 3500 \nL 1178 0 \nL 603 0 \nL 603 3500 \nz\nM 603 4863 \nL 1178 4863 \nL 1178 4134 \nL 603 4134 \nL 603 4863 \nz\n\" transform=\"scale(0.015625)\"/>\n       <path id=\"DejaVuSans-6e\" d=\"M 3513 2113 \nL 3513 0 \nL 2938 0 \nL 2938 2094 \nQ 2938 2591 2744 2837 \nQ 2550 3084 2163 3084 \nQ 1697 3084 1428 2787 \nQ 1159 2491 1159 1978 \nL 1159 0 \nL 581 0 \nL 581 3500 \nL 1159 3500 \nL 1159 2956 \nQ 1366 3272 1645 3428 \nQ 1925 3584 2291 3584 \nQ 2894 3584 3203 3211 \nQ 3513 2838 3513 2113 \nz\n\" transform=\"scale(0.015625)\"/>\n       <path id=\"DejaVuSans-5f\" d=\"M 3263 -1063 \nL 3263 -1509 \nL -63 -1509 \nL -63 -1063 \nL 3263 -1063 \nz\n\" transform=\"scale(0.015625)\"/>\n       <path id=\"DejaVuSans-6c\" d=\"M 603 4863 \nL 1178 4863 \nL 1178 0 \nL 603 0 \nL 603 4863 \nz\n\" transform=\"scale(0.015625)\"/>\n       <path id=\"DejaVuSans-73\" d=\"M 2834 3397 \nL 2834 2853 \nQ 2591 2978 2328 3040 \nQ 2066 3103 1784 3103 \nQ 1356 3103 1142 2972 \nQ 928 2841 928 2578 \nQ 928 2378 1081 2264 \nQ 1234 2150 1697 2047 \nL 1894 2003 \nQ 2506 1872 2764 1633 \nQ 3022 1394 3022 966 \nQ 3022 478 2636 193 \nQ 2250 -91 1575 -91 \nQ 1294 -91 989 -36 \nQ 684 19 347 128 \nL 347 722 \nQ 666 556 975 473 \nQ 1284 391 1588 391 \nQ 1994 391 2212 530 \nQ 2431 669 2431 922 \nQ 2431 1156 2273 1281 \nQ 2116 1406 1581 1522 \nL 1381 1569 \nQ 847 1681 609 1914 \nQ 372 2147 372 2553 \nQ 372 3047 722 3315 \nQ 1072 3584 1716 3584 \nQ 2034 3584 2315 3537 \nQ 2597 3491 2834 3397 \nz\n\" transform=\"scale(0.015625)\"/>\n      </defs>\n      <use xlink:href=\"#DejaVuSans-74\"/>\n      <use xlink:href=\"#DejaVuSans-72\" x=\"39.208984\"/>\n      <use xlink:href=\"#DejaVuSans-61\" x=\"80.322266\"/>\n      <use xlink:href=\"#DejaVuSans-69\" x=\"141.601562\"/>\n      <use xlink:href=\"#DejaVuSans-6e\" x=\"169.384766\"/>\n      <use xlink:href=\"#DejaVuSans-5f\" x=\"232.763672\"/>\n      <use xlink:href=\"#DejaVuSans-6c\" x=\"282.763672\"/>\n      <use xlink:href=\"#DejaVuSans-6f\" x=\"310.546875\"/>\n      <use xlink:href=\"#DejaVuSans-73\" x=\"371.728516\"/>\n      <use xlink:href=\"#DejaVuSans-73\" x=\"423.828125\"/>\n     </g>\n    </g>\n    <g id=\"line2d_129\">\n     <path d=\"M 140.8125 35.254688 \nL 150.8125 35.254688 \nL 160.8125 35.254688 \n\" style=\"fill: none; stroke-dasharray: 5.55,2.4; stroke-dashoffset: 0; stroke: #ff7f0e; stroke-width: 1.5\"/>\n    </g>\n    <g id=\"text_14\">\n     <!-- val_loss -->\n     <g transform=\"translate(168.8125 38.754688) scale(0.1 -0.1)\">\n      <defs>\n       <path id=\"DejaVuSans-76\" d=\"M 191 3500 \nL 800 3500 \nL 1894 563 \nL 2988 3500 \nL 3597 3500 \nL 2284 0 \nL 1503 0 \nL 191 3500 \nz\n\" transform=\"scale(0.015625)\"/>\n      </defs>\n      <use xlink:href=\"#DejaVuSans-76\"/>\n      <use xlink:href=\"#DejaVuSans-61\" x=\"59.179688\"/>\n      <use xlink:href=\"#DejaVuSans-6c\" x=\"120.458984\"/>\n      <use xlink:href=\"#DejaVuSans-5f\" x=\"148.242188\"/>\n      <use xlink:href=\"#DejaVuSans-6c\" x=\"198.242188\"/>\n      <use xlink:href=\"#DejaVuSans-6f\" x=\"226.025391\"/>\n      <use xlink:href=\"#DejaVuSans-73\" x=\"287.207031\"/>\n      <use xlink:href=\"#DejaVuSans-73\" x=\"339.306641\"/>\n     </g>\n    </g>\n    <g id=\"line2d_130\">\n     <path d=\"M 140.8125 50.210938 \nL 150.8125 50.210938 \nL 160.8125 50.210938 \n\" style=\"fill: none; stroke-dasharray: 9.6,2.4,1.5,2.4; stroke-dashoffset: 0; stroke: #2ca02c; stroke-width: 1.5\"/>\n    </g>\n    <g id=\"text_15\">\n     <!-- val_acc -->\n     <g transform=\"translate(168.8125 53.710938) scale(0.1 -0.1)\">\n      <use xlink:href=\"#DejaVuSans-76\"/>\n      <use xlink:href=\"#DejaVuSans-61\" x=\"59.179688\"/>\n      <use xlink:href=\"#DejaVuSans-6c\" x=\"120.458984\"/>\n      <use xlink:href=\"#DejaVuSans-5f\" x=\"148.242188\"/>\n      <use xlink:href=\"#DejaVuSans-61\" x=\"198.242188\"/>\n      <use xlink:href=\"#DejaVuSans-63\" x=\"259.521484\"/>\n      <use xlink:href=\"#DejaVuSans-63\" x=\"314.501953\"/>\n     </g>\n    </g>\n   </g>\n  </g>\n </g>\n <defs>\n  <clipPath id=\"p59ebf6a29c\">\n   <rect x=\"30.103125\" y=\"7.2\" width=\"195.3\" height=\"138.6\"/>\n  </clipPath>\n </defs>\n</svg>\n"
          },
          "metadata": {}
        }
      ]
    },
    {
      "cell_type": "markdown",
      "source": [
        "## Exercises"
      ],
      "metadata": {
        "id": "JnvuR0BUZapH"
      }
    },
    {
      "cell_type": "markdown",
      "source": [
        "1. GoogLeNet was so successful that it went through a number of iterations, progressively improving speed and accuracy. Try to implement and run some of them. They include the following:\n",
        "\n",
        "* **Add a batch normalization layer (Ioffe and Szegedy, 2015), as described later in Section 8.5.**"
      ],
      "metadata": {
        "id": "olkdr0yoZdrJ"
      }
    },
    {
      "cell_type": "code",
      "source": [
        "class InceptionBlockWithBN(nn.Module):\n",
        "    def __init__(self, in_channels, out_channels):\n",
        "        super(InceptionBlockWithBN, self).__init__()\n",
        "        # 1x1 convolution with batch normalization\n",
        "        self.conv1x1 = nn.Sequential(\n",
        "            nn.Conv2d(in_channels, out_channels[0], kernel_size=1),\n",
        "            nn.BatchNorm2d(out_channels[0]),  # BatchNorm added\n",
        "            nn.ReLU()\n",
        "        )\n",
        "        # 3x3 convolution with batch normalization\n",
        "        self.conv3x3 = nn.Sequential(\n",
        "            nn.Conv2d(in_channels, out_channels[1], kernel_size=3, padding=1),\n",
        "            nn.BatchNorm2d(out_channels[1]),  # BatchNorm added\n",
        "            nn.ReLU()\n",
        "        )\n",
        "        # 5x5 convolution with batch normalization\n",
        "        self.conv5x5 = nn.Sequential(\n",
        "            nn.Conv2d(in_channels, out_channels[2], kernel_size=5, padding=2),\n",
        "            nn.BatchNorm2d(out_channels[2]),  # BatchNorm added\n",
        "            nn.ReLU()\n",
        "        )\n",
        "        # Max pooling with batch normalization\n",
        "        self.maxpool = nn.Sequential(\n",
        "            nn.MaxPool2d(kernel_size=3, stride=1, padding=1),\n",
        "            nn.Conv2d(in_channels, out_channels[3], kernel_size=1),\n",
        "            nn.BatchNorm2d(out_channels[3]),  # BatchNorm added\n",
        "            nn.ReLU()\n",
        "        )\n",
        "\n",
        "    def forward(self, x):\n",
        "        return torch.cat([self.conv1x1(x), self.conv3x3(x), self.conv5x5(x), self.maxpool(x)], dim=1)\n",
        "\n",
        "# Example usage with batch normalization\n",
        "inception_block_bn = InceptionBlockWithBN(in_channels=192, out_channels=[64, 128, 32, 32])\n"
      ],
      "metadata": {
        "id": "KfcuDi1Ya59X"
      },
      "execution_count": 49,
      "outputs": []
    },
    {
      "cell_type": "markdown",
      "source": [
        "* **Make adjustments to the Inception block (width, choice and order of convolutions), as described in Szegedy et al. (2016).**"
      ],
      "metadata": {
        "id": "dAwIV70cbFhi"
      }
    },
    {
      "cell_type": "code",
      "source": [
        "class InceptionBlockV2(nn.Module):\n",
        "    def __init__(self, in_channels, out_channels):\n",
        "        super(InceptionBlockV2, self).__init__()\n",
        "\n",
        "        # 1x1 convolution for dimensionality reduction\n",
        "        self.conv1x1 = nn.Sequential(\n",
        "            nn.Conv2d(in_channels, out_channels[0], kernel_size=1),\n",
        "            nn.BatchNorm2d(out_channels[0]),\n",
        "            nn.ReLU()\n",
        "        )\n",
        "\n",
        "        # Factorized 3x3 convolution replacing 5x5 (two stacked 3x3)\n",
        "        self.conv3x3_1 = nn.Sequential(\n",
        "            nn.Conv2d(in_channels, out_channels[1], kernel_size=3, padding=1),\n",
        "            nn.BatchNorm2d(out_channels[1]),\n",
        "            nn.ReLU()\n",
        "        )\n",
        "        self.conv3x3_2 = nn.Sequential(\n",
        "            nn.Conv2d(out_channels[1], out_channels[1], kernel_size=3, padding=1),\n",
        "            nn.BatchNorm2d(out_channels[1]),\n",
        "            nn.ReLU()\n",
        "        )\n",
        "\n",
        "        # Asymmetric convolutions (1x3 followed by 3x1)\n",
        "        self.conv1x3 = nn.Sequential(\n",
        "            nn.Conv2d(in_channels, out_channels[2], kernel_size=(1, 3), padding=(0, 1)),\n",
        "            nn.BatchNorm2d(out_channels[2]),\n",
        "            nn.ReLU()\n",
        "        )\n",
        "        self.conv3x1 = nn.Sequential(\n",
        "            nn.Conv2d(out_channels[2], out_channels[2], kernel_size=(3, 1), padding=(1, 0)),\n",
        "            nn.BatchNorm2d(out_channels[2]),\n",
        "            nn.ReLU()\n",
        "        )\n",
        "\n",
        "        # Max pooling branch\n",
        "        self.maxpool = nn.Sequential(\n",
        "            nn.MaxPool2d(kernel_size=3, stride=1, padding=1),\n",
        "            nn.Conv2d(in_channels, out_channels[3], kernel_size=1),\n",
        "            nn.BatchNorm2d(out_channels[3]),\n",
        "            nn.ReLU()\n",
        "        )\n",
        "\n",
        "    def forward(self, x):\n",
        "        # Apply all branches and concatenate the results\n",
        "        return torch.cat([\n",
        "            self.conv1x1(x),\n",
        "            self.conv3x3_2(self.conv3x3_1(x)),  # Stacked 3x3\n",
        "            self.conv3x1(self.conv1x3(x)),      # Asymmetric convolutions\n",
        "            self.maxpool(x)\n",
        "        ], dim=1)\n",
        "\n",
        "# Example usage\n",
        "inception_block_v2 = InceptionBlockV2(in_channels=192, out_channels=[64, 128, 32, 32])"
      ],
      "metadata": {
        "id": "1YQhyu1qb3ck"
      },
      "execution_count": 50,
      "outputs": []
    },
    {
      "cell_type": "markdown",
      "source": [
        "**Use label smoothing for model regularization, as described in Szegedy et al. (2016).**"
      ],
      "metadata": {
        "id": "gRrw6H_ob8eu"
      }
    },
    {
      "cell_type": "code",
      "source": [
        "import torch\n",
        "import torch.nn as nn\n",
        "\n",
        "class LabelSmoothingLoss(nn.Module):\n",
        "    def __init__(self, num_classes, smoothing=0.1):\n",
        "        super(LabelSmoothingLoss, self).__init__()\n",
        "        self.num_classes = num_classes\n",
        "        self.smoothing = smoothing\n",
        "        self.confidence = 1.0 - smoothing\n",
        "\n",
        "    def forward(self, pred, target):\n",
        "        with torch.no_grad():\n",
        "            true_dist = torch.zeros_like(pred)\n",
        "            true_dist.fill_(self.smoothing / (self.num_classes - 1))\n",
        "            true_dist.scatter_(1, target.data.unsqueeze(1), self.confidence)\n",
        "        return torch.mean(torch.sum(-true_dist * pred.log_softmax(dim=-1), dim=-1))\n",
        "\n",
        "# Example usage\n",
        "criterion = LabelSmoothingLoss(num_classes=1000, smoothing=0.1)\n",
        "\n",
        "# Dummy data for illustration\n",
        "preds = torch.randn(3, 1000)  # Example predictions (batch size of 3, 1000 classes)\n",
        "labels = torch.tensor([2, 3, 1])  # Example ground truth labels\n",
        "\n",
        "loss = criterion(preds, labels)\n",
        "print(loss)\n"
      ],
      "metadata": {
        "colab": {
          "base_uri": "https://localhost:8080/"
        },
        "id": "10GwAblDcDkr",
        "outputId": "b5a8369c-4c49-4984-e8f2-fdd628baa3c8"
      },
      "execution_count": 51,
      "outputs": [
        {
          "output_type": "stream",
          "name": "stdout",
          "text": [
            "tensor(7.2540)\n"
          ]
        }
      ]
    },
    {
      "cell_type": "markdown",
      "source": [
        "**Make further adjustments to the Inception block by adding residual connection (Szegedy et al., 2017), as described later in Section 8.6.**"
      ],
      "metadata": {
        "id": "2EOP39GucGsX"
      }
    },
    {
      "cell_type": "code",
      "source": [
        "class InceptionBlockWithResidual(nn.Module):\n",
        "    def __init__(self, in_channels, out_channels):\n",
        "        super(InceptionBlockWithResidual, self).__init__()\n",
        "\n",
        "        # 1x1, stacked 3x3, and asymmetric convolutions\n",
        "        self.branch1 = nn.Sequential(\n",
        "            nn.Conv2d(in_channels, out_channels[0], kernel_size=1),\n",
        "            nn.BatchNorm2d(out_channels[0]),\n",
        "            nn.ReLU()\n",
        "        )\n",
        "        self.branch2 = nn.Sequential(\n",
        "            nn.Conv2d(in_channels, out_channels[1], kernel_size=3, padding=1),\n",
        "            nn.BatchNorm2d(out_channels[1]),\n",
        "            nn.ReLU(),\n",
        "            nn.Conv2d(out_channels[1], out_channels[1], kernel_size=3, padding=1),\n",
        "            nn.BatchNorm2d(out_channels[1]),\n",
        "            nn.ReLU()\n",
        "        )\n",
        "        self.branch3 = nn.Sequential(\n",
        "            nn.Conv2d(in_channels, out_channels[2], kernel_size=(1, 3), padding=(0, 1)),\n",
        "            nn.BatchNorm2d(out_channels[2]),\n",
        "            nn.ReLU(),\n",
        "            nn.Conv2d(out_channels[2], out_channels[2], kernel_size=(3, 1), padding=(1, 0)),\n",
        "            nn.BatchNorm2d(out_channels[2]),\n",
        "            nn.ReLU()\n",
        "        )\n",
        "        self.maxpool = nn.Sequential(\n",
        "            nn.MaxPool2d(kernel_size=3, stride=1, padding=1),\n",
        "            nn.Conv2d(in_channels, out_channels[3], kernel_size=1),\n",
        "            nn.BatchNorm2d(out_channels[3]),\n",
        "            nn.ReLU()\n",
        "        )\n",
        "\n",
        "        # Projection for residual connection (if needed)\n",
        "        self.projection = nn.Conv2d(in_channels, sum(out_channels), kernel_size=1) if in_channels != sum(out_channels) else nn.Identity()\n",
        "\n",
        "    def forward(self, x):\n",
        "        # Apply inception branches\n",
        "        residual = self.projection(x)\n",
        "        out = torch.cat([self.branch1(x), self.branch2(x), self.branch3(x), self.maxpool(x)], dim=1)\n",
        "\n",
        "        # Add residual connection\n",
        "        return out + residual\n",
        "\n",
        "# Example usage\n",
        "inception_residual_block = InceptionBlockWithResidual(in_channels=192, out_channels=[64, 128, 32, 32])"
      ],
      "metadata": {
        "id": "_gNlT8LAcPcB"
      },
      "execution_count": 52,
      "outputs": []
    },
    {
      "cell_type": "markdown",
      "source": [
        "**2. What is the minimum image size needed for GoogLeNet to work?**"
      ],
      "metadata": {
        "id": "Is3RekApcTbF"
      }
    },
    {
      "cell_type": "markdown",
      "source": [
        "Ukuran gambar minimum yang diperlukan agar GoogLeNet dapat bekerja mengikuti desain standar arsitekturnya adalah 224 x 224 piksel, seperti yang digunakan pada dataset ImageNet karena GoogLeNet dirancang untuk menerima input gambar dengan resolusi tersebut dan lapisan-lapisan konvolusi serta pooling yang digunakan secara bertahap mengurangi dimensi spasial gambar."
      ],
      "metadata": {
        "id": "-pw1DkcYcr9n"
      }
    },
    {
      "cell_type": "markdown",
      "source": [
        "**3. Can you design a variant of GoogLeNet that works on Fashion-MNIST’s native resolution of 28 x 28 pixels? How would you need to change the stem, the body, and the head of the network, if anything at all?**"
      ],
      "metadata": {
        "id": "fGg-B-Xpcvvi"
      }
    },
    {
      "cell_type": "code",
      "source": [
        "class GoogLeNetFashionMNIST(nn.Module):\n",
        "    def __init__(self):\n",
        "        super(GoogLeNetFashionMNIST, self).__init__()\n",
        "        # Stem: Adjust input convolution\n",
        "        self.stem = nn.Sequential(\n",
        "            nn.Conv2d(1, 64, kernel_size=3, stride=1, padding=1),  # Adjusted for 28x28 input\n",
        "            nn.BatchNorm2d(64),\n",
        "            nn.ReLU(),\n",
        "            nn.MaxPool2d(kernel_size=2, stride=2)\n",
        "        )\n",
        "\n",
        "        # Inception block - use fewer blocks due to small input size\n",
        "        self.inception_block_1 = InceptionBlockWithResidual(in_channels=64, out_channels=[32, 64, 16, 16])\n",
        "        self.inception_block_2 = InceptionBlockWithResidual(in_channels=128, out_channels=[64, 128, 32, 32])\n",
        "\n",
        "        # Head: Global average pooling and fully connected layers\n",
        "        self.global_avg_pool = nn.AdaptiveAvgPool2d((1, 1))\n",
        "        self.fc = nn.Linear(256, 10)  # Output classes = 10 for Fashion-MNIST\n",
        "\n",
        "    def forward(self, x):\n",
        "        x = self.stem(x)\n",
        "        x = self.inception_block_1(x)\n",
        "        x = self.inception_block_2(x)\n",
        "        x = self.global_avg_pool(x)\n",
        "        x = torch.flatten(x, 1)\n",
        "        x = self.fc(x)\n",
        "        return x\n",
        "\n",
        "# Example usage\n",
        "model = GoogLeNetFashionMNIST()\n"
      ],
      "metadata": {
        "id": "jLGCDZ8Hc76B"
      },
      "execution_count": 53,
      "outputs": []
    },
    {
      "cell_type": "markdown",
      "source": [
        "**4. Compare the model parameter sizes of AlexNet, VGG, NiN, and GoogLeNet. How do the latter two network architectures significantly reduce the model parameter size?**"
      ],
      "metadata": {
        "id": "XEOe04r8c-y1"
      }
    },
    {
      "cell_type": "markdown",
      "source": [
        "**AlexNet:**\n",
        "\n",
        "Jumlah Parameter: 60 juta.\n",
        "Arsitektur ini menggunakan beberapa lapisan konvolusi diikuti oleh beberapa lapisan fully connected (FC), yang menyebabkan ukuran parameter yang cukup besar.\n",
        "VGG:\n",
        "\n",
        "Jumlah Parameter: 138 juta (untuk VGG16).\n",
        "VGG memiliki lebih banyak lapisan konvolusi dan FC yang membuatnya lebih dalam, tetapi karena penggunaan kernel 3x3 yang konsisten, ia cenderung memiliki lebih banyak parameter.\n",
        "NiN (Network in Network):\n",
        "\n",
        "Jumlah Parameter: 7 juta (untuk NiN-201).\n",
        "NiN menggunakan lapisan konvolusi yang lebih kecil dan lapisan global average pooling yang mengurangi ukuran parameter secara signifikan dibandingkan dengan lapisan FC yang besar.\n",
        "GoogLeNet:\n",
        "\n",
        "Jumlah Parameter: 5 juta.\n",
        "GoogLeNet menggunakan Inception blocks yang menggabungkan beberapa ukuran filter dalam satu blok, mengurangi jumlah parameter dengan efektif. Selain itu, penggunaan pooling dan pengurangan dimensi di dalam blok juga membantu menurunkan total parameter.\n",
        "Penjelasan Pengurangan Ukuran Parameter pada VGG dan NiN\n",
        "VGG:\n",
        "\n",
        "Menggunakan kernel konvolusi 3x3 secara berulang, yang mengurangi jumlah parameter dibandingkan dengan menggunakan kernel yang lebih besar (seperti 11x11 pada AlexNet). Hal ini mengurangi kompleksitas tanpa mengurangi kemampuan model untuk menangkap fitur yang kompleks.\n",
        "NiN:\n",
        "\n",
        "Menerapkan lapisan konvolusi yang lebih kecil dan menggunakan lapisan global average pooling alih-alih lapisan FC yang besar. Ini tidak hanya mengurangi ukuran parameter tetapi juga mempromosikan generalisasi yang lebih baik, karena mengurangi kemungkinan overfitting yang disebabkan oleh banyaknya parameter.\\\n",
        "Dengan arsitektur yang lebih cerdas dan efisien, baik VGG maupun NiN berhasil mengurangi jumlah parameter yang diperlukan untuk mencapai kinerja yang baik, sehingga mengoptimalkan penggunaan sumber daya dan meningkatkan kemampuan generalisasi model. GoogLeNet lebih lanjut mengembangkan konsep ini dengan menggabungkan berbagai ukuran filter dalam Inception blocks, yang memungkinkan model untuk belajar lebih banyak fitur tanpa harus meningkatkan jumlah parameter secara signifikan."
      ],
      "metadata": {
        "id": "ASvXqXerdGMg"
      }
    },
    {
      "cell_type": "markdown",
      "source": [
        "**5. Compare the amount of computation needed in GoogLeNet and AlexNet. How does this affect the design of an accelerator chip, e.g., in terms of memory size, memory bandwidth, cache size, the amount of computation, and the benefit of specialized operations?**"
      ],
      "metadata": {
        "id": "vPrj11TzdPYp"
      }
    },
    {
      "cell_type": "markdown",
      "source": [
        "**GoogLeNet** menawarkan arsitektur yang lebih dalam dan efisien dengan jumlah parameter yang lebih sedikit dibandingkan AlexNet, memungkinkan desain chip akselerator yang lebih hemat memori dan bandwidth serta lebih efisien dalam komputasi.\\\n",
        "**AlexNet**, dengan lapisan fully connected yang besar, memerlukan memori yang lebih besar dan bandwidth yang lebih tinggi, serta optimasi khusus untuk menangani operasi matriks besar.\\\n",
        "Desain Chip Akselerator harus disesuaikan dengan karakteristik masing-masing arsitektur, memanfaatkan efisiensi GoogLeNet dalam pengurangan parameter dan optimasi operasi khusus untuk meningkatkan performa dan efisiensi energi."
      ],
      "metadata": {
        "id": "hR8ZBd1TdTqP"
      }
    },
    {
      "cell_type": "markdown",
      "source": [
        "# 8.5. Batch Normalization"
      ],
      "metadata": {
        "id": "JZ5UuWxxjkxD"
      }
    },
    {
      "cell_type": "code",
      "source": [
        "import torch\n",
        "from torch import nn\n",
        "from d2l import torch as d2l"
      ],
      "metadata": {
        "id": "oEQWKO7HPO74"
      },
      "execution_count": 54,
      "outputs": []
    },
    {
      "cell_type": "markdown",
      "source": [
        "## Implementation from Scratch"
      ],
      "metadata": {
        "id": "vwyPRB59jnnw"
      }
    },
    {
      "cell_type": "code",
      "source": [
        "def batch_norm(X, gamma, beta, moving_mean, moving_var, eps, momentum):\n",
        "    # Use is_grad_enabled to determine whether we are in training mode\n",
        "    if not torch.is_grad_enabled():\n",
        "        # In prediction mode, use mean and variance obtained by moving average\n",
        "        X_hat = (X - moving_mean) / torch.sqrt(moving_var + eps)\n",
        "    else:\n",
        "        assert len(X.shape) in (2, 4)\n",
        "        if len(X.shape) == 2:\n",
        "            # When using a fully connected layer, calculate the mean and\n",
        "            # variance on the feature dimension\n",
        "            mean = X.mean(dim=0)\n",
        "            var = ((X - mean) ** 2).mean(dim=0)\n",
        "        else:\n",
        "            # When using a two-dimensional convolutional layer, calculate the\n",
        "            # mean and variance on the channel dimension (axis=1). Here we\n",
        "            # need to maintain the shape of X, so that the broadcasting\n",
        "            # operation can be carried out later\n",
        "            mean = X.mean(dim=(0, 2, 3), keepdim=True)\n",
        "            var = ((X - mean) ** 2).mean(dim=(0, 2, 3), keepdim=True)\n",
        "        # In training mode, the current mean and variance are used\n",
        "        X_hat = (X - mean) / torch.sqrt(var + eps)\n",
        "        # Update the mean and variance using moving average\n",
        "        moving_mean = (1.0 - momentum) * moving_mean + momentum * mean\n",
        "        moving_var = (1.0 - momentum) * moving_var + momentum * var\n",
        "    Y = gamma * X_hat + beta  # Scale and shift\n",
        "    return Y, moving_mean.data, moving_var.data"
      ],
      "metadata": {
        "id": "9fsyaDtEjpl-"
      },
      "execution_count": 55,
      "outputs": []
    },
    {
      "cell_type": "code",
      "source": [
        "class BatchNorm(nn.Module):\n",
        "    # num_features: the number of outputs for a fully connected layer or the\n",
        "    # number of output channels for a convolutional layer. num_dims: 2 for a\n",
        "    # fully connected layer and 4 for a convolutional layer\n",
        "    def __init__(self, num_features, num_dims):\n",
        "        super().__init__()\n",
        "        if num_dims == 2:\n",
        "            shape = (1, num_features)\n",
        "        else:\n",
        "            shape = (1, num_features, 1, 1)\n",
        "        # The scale parameter and the shift parameter (model parameters) are\n",
        "        # initialized to 1 and 0, respectively\n",
        "        self.gamma = nn.Parameter(torch.ones(shape))\n",
        "        self.beta = nn.Parameter(torch.zeros(shape))\n",
        "        # The variables that are not model parameters are initialized to 0 and\n",
        "        # 1\n",
        "        self.moving_mean = torch.zeros(shape)\n",
        "        self.moving_var = torch.ones(shape)\n",
        "\n",
        "    def forward(self, X):\n",
        "        # If X is not on the main memory, copy moving_mean and moving_var to\n",
        "        # the device where X is located\n",
        "        if self.moving_mean.device != X.device:\n",
        "            self.moving_mean = self.moving_mean.to(X.device)\n",
        "            self.moving_var = self.moving_var.to(X.device)\n",
        "        # Save the updated moving_mean and moving_var\n",
        "        Y, self.moving_mean, self.moving_var = batch_norm(\n",
        "            X, self.gamma, self.beta, self.moving_mean,\n",
        "            self.moving_var, eps=1e-5, momentum=0.1)\n",
        "        return Y"
      ],
      "metadata": {
        "id": "w7Fv4Ynkjqzn"
      },
      "execution_count": 56,
      "outputs": []
    },
    {
      "cell_type": "markdown",
      "source": [
        "## LeNet with Batch Normalization"
      ],
      "metadata": {
        "id": "MQM200BVjsEI"
      }
    },
    {
      "cell_type": "code",
      "source": [
        "class BNLeNetScratch(d2l.Classifier):\n",
        "    def __init__(self, lr=0.1, num_classes=10):\n",
        "        super().__init__()\n",
        "        self.save_hyperparameters()\n",
        "        self.net = nn.Sequential(\n",
        "            nn.LazyConv2d(6, kernel_size=5), BatchNorm(6, num_dims=4),\n",
        "            nn.Sigmoid(), nn.AvgPool2d(kernel_size=2, stride=2),\n",
        "            nn.LazyConv2d(16, kernel_size=5), BatchNorm(16, num_dims=4),\n",
        "            nn.Sigmoid(), nn.AvgPool2d(kernel_size=2, stride=2),\n",
        "            nn.Flatten(), nn.LazyLinear(120),\n",
        "            BatchNorm(120, num_dims=2), nn.Sigmoid(), nn.LazyLinear(84),\n",
        "            BatchNorm(84, num_dims=2), nn.Sigmoid(),\n",
        "            nn.LazyLinear(num_classes))"
      ],
      "metadata": {
        "id": "IiECctWbjtxF"
      },
      "execution_count": 57,
      "outputs": []
    },
    {
      "cell_type": "code",
      "source": [
        "trainer = d2l.Trainer(max_epochs=10, num_gpus=1)\n",
        "data = d2l.FashionMNIST(batch_size=128)\n",
        "model = BNLeNetScratch(lr=0.1)\n",
        "model.apply_init([next(iter(data.get_dataloader(True)))[0]], d2l.init_cnn)\n",
        "trainer.fit(model, data)"
      ],
      "metadata": {
        "id": "xN8dsd6Tju7Q",
        "colab": {
          "base_uri": "https://localhost:8080/",
          "height": 267
        },
        "outputId": "28d609c4-6ba5-4238-8a6f-c5f29de2f118"
      },
      "execution_count": 59,
      "outputs": [
        {
          "output_type": "display_data",
          "data": {
            "text/plain": [
              "<Figure size 350x250 with 1 Axes>"
            ],
            "image/svg+xml": "<?xml version=\"1.0\" encoding=\"utf-8\" standalone=\"no\"?>\n<!DOCTYPE svg PUBLIC \"-//W3C//DTD SVG 1.1//EN\"\n  \"http://www.w3.org/Graphics/SVG/1.1/DTD/svg11.dtd\">\n<svg xmlns:xlink=\"http://www.w3.org/1999/xlink\" width=\"238.965625pt\" height=\"183.68132pt\" viewBox=\"0 0 238.965625 183.68132\" xmlns=\"http://www.w3.org/2000/svg\" version=\"1.1\">\n <metadata>\n  <rdf:RDF xmlns:dc=\"http://purl.org/dc/elements/1.1/\" xmlns:cc=\"http://creativecommons.org/ns#\" xmlns:rdf=\"http://www.w3.org/1999/02/22-rdf-syntax-ns#\">\n   <cc:Work>\n    <dc:type rdf:resource=\"http://purl.org/dc/dcmitype/StillImage\"/>\n    <dc:date>2024-10-05T16:30:14.421453</dc:date>\n    <dc:format>image/svg+xml</dc:format>\n    <dc:creator>\n     <cc:Agent>\n      <dc:title>Matplotlib v3.7.2, https://matplotlib.org/</dc:title>\n     </cc:Agent>\n    </dc:creator>\n   </cc:Work>\n  </rdf:RDF>\n </metadata>\n <defs>\n  <style type=\"text/css\">*{stroke-linejoin: round; stroke-linecap: butt}</style>\n </defs>\n <g id=\"figure_1\">\n  <g id=\"patch_1\">\n   <path d=\"M 0 183.68132 \nL 238.965625 183.68132 \nL 238.965625 0 \nL 0 0 \nz\n\" style=\"fill: #ffffff\"/>\n  </g>\n  <g id=\"axes_1\">\n   <g id=\"patch_2\">\n    <path d=\"M 30.103125 146.12507 \nL 225.403125 146.12507 \nL 225.403125 7.52507 \nL 30.103125 7.52507 \nz\n\" style=\"fill: #ffffff\"/>\n   </g>\n   <g id=\"matplotlib.axis_1\">\n    <g id=\"xtick_1\">\n     <g id=\"line2d_1\">\n      <defs>\n       <path id=\"mbd4723f8f1\" d=\"M 0 0 \nL 0 3.5 \n\" style=\"stroke: #000000; stroke-width: 0.8\"/>\n      </defs>\n      <g>\n       <use xlink:href=\"#mbd4723f8f1\" x=\"30.103125\" y=\"146.12507\" style=\"stroke: #000000; stroke-width: 0.8\"/>\n      </g>\n     </g>\n     <g id=\"text_1\">\n      <!-- 0 -->\n      <g transform=\"translate(26.921875 160.723508) scale(0.1 -0.1)\">\n       <defs>\n        <path id=\"DejaVuSans-30\" d=\"M 2034 4250 \nQ 1547 4250 1301 3770 \nQ 1056 3291 1056 2328 \nQ 1056 1369 1301 889 \nQ 1547 409 2034 409 \nQ 2525 409 2770 889 \nQ 3016 1369 3016 2328 \nQ 3016 3291 2770 3770 \nQ 2525 4250 2034 4250 \nz\nM 2034 4750 \nQ 2819 4750 3233 4129 \nQ 3647 3509 3647 2328 \nQ 3647 1150 3233 529 \nQ 2819 -91 2034 -91 \nQ 1250 -91 836 529 \nQ 422 1150 422 2328 \nQ 422 3509 836 4129 \nQ 1250 4750 2034 4750 \nz\n\" transform=\"scale(0.015625)\"/>\n       </defs>\n       <use xlink:href=\"#DejaVuSans-30\"/>\n      </g>\n     </g>\n    </g>\n    <g id=\"xtick_2\">\n     <g id=\"line2d_2\">\n      <g>\n       <use xlink:href=\"#mbd4723f8f1\" x=\"69.163125\" y=\"146.12507\" style=\"stroke: #000000; stroke-width: 0.8\"/>\n      </g>\n     </g>\n     <g id=\"text_2\">\n      <!-- 2 -->\n      <g transform=\"translate(65.981875 160.723508) scale(0.1 -0.1)\">\n       <defs>\n        <path id=\"DejaVuSans-32\" d=\"M 1228 531 \nL 3431 531 \nL 3431 0 \nL 469 0 \nL 469 531 \nQ 828 903 1448 1529 \nQ 2069 2156 2228 2338 \nQ 2531 2678 2651 2914 \nQ 2772 3150 2772 3378 \nQ 2772 3750 2511 3984 \nQ 2250 4219 1831 4219 \nQ 1534 4219 1204 4116 \nQ 875 4013 500 3803 \nL 500 4441 \nQ 881 4594 1212 4672 \nQ 1544 4750 1819 4750 \nQ 2544 4750 2975 4387 \nQ 3406 4025 3406 3419 \nQ 3406 3131 3298 2873 \nQ 3191 2616 2906 2266 \nQ 2828 2175 2409 1742 \nQ 1991 1309 1228 531 \nz\n\" transform=\"scale(0.015625)\"/>\n       </defs>\n       <use xlink:href=\"#DejaVuSans-32\"/>\n      </g>\n     </g>\n    </g>\n    <g id=\"xtick_3\">\n     <g id=\"line2d_3\">\n      <g>\n       <use xlink:href=\"#mbd4723f8f1\" x=\"108.223125\" y=\"146.12507\" style=\"stroke: #000000; stroke-width: 0.8\"/>\n      </g>\n     </g>\n     <g id=\"text_3\">\n      <!-- 4 -->\n      <g transform=\"translate(105.041875 160.723508) scale(0.1 -0.1)\">\n       <defs>\n        <path id=\"DejaVuSans-34\" d=\"M 2419 4116 \nL 825 1625 \nL 2419 1625 \nL 2419 4116 \nz\nM 2253 4666 \nL 3047 4666 \nL 3047 1625 \nL 3713 1625 \nL 3713 1100 \nL 3047 1100 \nL 3047 0 \nL 2419 0 \nL 2419 1100 \nL 313 1100 \nL 313 1709 \nL 2253 4666 \nz\n\" transform=\"scale(0.015625)\"/>\n       </defs>\n       <use xlink:href=\"#DejaVuSans-34\"/>\n      </g>\n     </g>\n    </g>\n    <g id=\"xtick_4\">\n     <g id=\"line2d_4\">\n      <g>\n       <use xlink:href=\"#mbd4723f8f1\" x=\"147.283125\" y=\"146.12507\" style=\"stroke: #000000; stroke-width: 0.8\"/>\n      </g>\n     </g>\n     <g id=\"text_4\">\n      <!-- 6 -->\n      <g transform=\"translate(144.101875 160.723508) scale(0.1 -0.1)\">\n       <defs>\n        <path id=\"DejaVuSans-36\" d=\"M 2113 2584 \nQ 1688 2584 1439 2293 \nQ 1191 2003 1191 1497 \nQ 1191 994 1439 701 \nQ 1688 409 2113 409 \nQ 2538 409 2786 701 \nQ 3034 994 3034 1497 \nQ 3034 2003 2786 2293 \nQ 2538 2584 2113 2584 \nz\nM 3366 4563 \nL 3366 3988 \nQ 3128 4100 2886 4159 \nQ 2644 4219 2406 4219 \nQ 1781 4219 1451 3797 \nQ 1122 3375 1075 2522 \nQ 1259 2794 1537 2939 \nQ 1816 3084 2150 3084 \nQ 2853 3084 3261 2657 \nQ 3669 2231 3669 1497 \nQ 3669 778 3244 343 \nQ 2819 -91 2113 -91 \nQ 1303 -91 875 529 \nQ 447 1150 447 2328 \nQ 447 3434 972 4092 \nQ 1497 4750 2381 4750 \nQ 2619 4750 2861 4703 \nQ 3103 4656 3366 4563 \nz\n\" transform=\"scale(0.015625)\"/>\n       </defs>\n       <use xlink:href=\"#DejaVuSans-36\"/>\n      </g>\n     </g>\n    </g>\n    <g id=\"xtick_5\">\n     <g id=\"line2d_5\">\n      <g>\n       <use xlink:href=\"#mbd4723f8f1\" x=\"186.343125\" y=\"146.12507\" style=\"stroke: #000000; stroke-width: 0.8\"/>\n      </g>\n     </g>\n     <g id=\"text_5\">\n      <!-- 8 -->\n      <g transform=\"translate(183.161875 160.723508) scale(0.1 -0.1)\">\n       <defs>\n        <path id=\"DejaVuSans-38\" d=\"M 2034 2216 \nQ 1584 2216 1326 1975 \nQ 1069 1734 1069 1313 \nQ 1069 891 1326 650 \nQ 1584 409 2034 409 \nQ 2484 409 2743 651 \nQ 3003 894 3003 1313 \nQ 3003 1734 2745 1975 \nQ 2488 2216 2034 2216 \nz\nM 1403 2484 \nQ 997 2584 770 2862 \nQ 544 3141 544 3541 \nQ 544 4100 942 4425 \nQ 1341 4750 2034 4750 \nQ 2731 4750 3128 4425 \nQ 3525 4100 3525 3541 \nQ 3525 3141 3298 2862 \nQ 3072 2584 2669 2484 \nQ 3125 2378 3379 2068 \nQ 3634 1759 3634 1313 \nQ 3634 634 3220 271 \nQ 2806 -91 2034 -91 \nQ 1263 -91 848 271 \nQ 434 634 434 1313 \nQ 434 1759 690 2068 \nQ 947 2378 1403 2484 \nz\nM 1172 3481 \nQ 1172 3119 1398 2916 \nQ 1625 2713 2034 2713 \nQ 2441 2713 2670 2916 \nQ 2900 3119 2900 3481 \nQ 2900 3844 2670 4047 \nQ 2441 4250 2034 4250 \nQ 1625 4250 1398 4047 \nQ 1172 3844 1172 3481 \nz\n\" transform=\"scale(0.015625)\"/>\n       </defs>\n       <use xlink:href=\"#DejaVuSans-38\"/>\n      </g>\n     </g>\n    </g>\n    <g id=\"xtick_6\">\n     <g id=\"line2d_6\">\n      <g>\n       <use xlink:href=\"#mbd4723f8f1\" x=\"225.403125\" y=\"146.12507\" style=\"stroke: #000000; stroke-width: 0.8\"/>\n      </g>\n     </g>\n     <g id=\"text_6\">\n      <!-- 10 -->\n      <g transform=\"translate(219.040625 160.723508) scale(0.1 -0.1)\">\n       <defs>\n        <path id=\"DejaVuSans-31\" d=\"M 794 531 \nL 1825 531 \nL 1825 4091 \nL 703 3866 \nL 703 4441 \nL 1819 4666 \nL 2450 4666 \nL 2450 531 \nL 3481 531 \nL 3481 0 \nL 794 0 \nL 794 531 \nz\n\" transform=\"scale(0.015625)\"/>\n       </defs>\n       <use xlink:href=\"#DejaVuSans-31\"/>\n       <use xlink:href=\"#DejaVuSans-30\" x=\"63.623047\"/>\n      </g>\n     </g>\n    </g>\n    <g id=\"text_7\">\n     <!-- epoch -->\n     <g transform=\"translate(112.525 174.401633) scale(0.1 -0.1)\">\n      <defs>\n       <path id=\"DejaVuSans-65\" d=\"M 3597 1894 \nL 3597 1613 \nL 953 1613 \nQ 991 1019 1311 708 \nQ 1631 397 2203 397 \nQ 2534 397 2845 478 \nQ 3156 559 3463 722 \nL 3463 178 \nQ 3153 47 2828 -22 \nQ 2503 -91 2169 -91 \nQ 1331 -91 842 396 \nQ 353 884 353 1716 \nQ 353 2575 817 3079 \nQ 1281 3584 2069 3584 \nQ 2775 3584 3186 3129 \nQ 3597 2675 3597 1894 \nz\nM 3022 2063 \nQ 3016 2534 2758 2815 \nQ 2500 3097 2075 3097 \nQ 1594 3097 1305 2825 \nQ 1016 2553 972 2059 \nL 3022 2063 \nz\n\" transform=\"scale(0.015625)\"/>\n       <path id=\"DejaVuSans-70\" d=\"M 1159 525 \nL 1159 -1331 \nL 581 -1331 \nL 581 3500 \nL 1159 3500 \nL 1159 2969 \nQ 1341 3281 1617 3432 \nQ 1894 3584 2278 3584 \nQ 2916 3584 3314 3078 \nQ 3713 2572 3713 1747 \nQ 3713 922 3314 415 \nQ 2916 -91 2278 -91 \nQ 1894 -91 1617 61 \nQ 1341 213 1159 525 \nz\nM 3116 1747 \nQ 3116 2381 2855 2742 \nQ 2594 3103 2138 3103 \nQ 1681 3103 1420 2742 \nQ 1159 2381 1159 1747 \nQ 1159 1113 1420 752 \nQ 1681 391 2138 391 \nQ 2594 391 2855 752 \nQ 3116 1113 3116 1747 \nz\n\" transform=\"scale(0.015625)\"/>\n       <path id=\"DejaVuSans-6f\" d=\"M 1959 3097 \nQ 1497 3097 1228 2736 \nQ 959 2375 959 1747 \nQ 959 1119 1226 758 \nQ 1494 397 1959 397 \nQ 2419 397 2687 759 \nQ 2956 1122 2956 1747 \nQ 2956 2369 2687 2733 \nQ 2419 3097 1959 3097 \nz\nM 1959 3584 \nQ 2709 3584 3137 3096 \nQ 3566 2609 3566 1747 \nQ 3566 888 3137 398 \nQ 2709 -91 1959 -91 \nQ 1206 -91 779 398 \nQ 353 888 353 1747 \nQ 353 2609 779 3096 \nQ 1206 3584 1959 3584 \nz\n\" transform=\"scale(0.015625)\"/>\n       <path id=\"DejaVuSans-63\" d=\"M 3122 3366 \nL 3122 2828 \nQ 2878 2963 2633 3030 \nQ 2388 3097 2138 3097 \nQ 1578 3097 1268 2742 \nQ 959 2388 959 1747 \nQ 959 1106 1268 751 \nQ 1578 397 2138 397 \nQ 2388 397 2633 464 \nQ 2878 531 3122 666 \nL 3122 134 \nQ 2881 22 2623 -34 \nQ 2366 -91 2075 -91 \nQ 1284 -91 818 406 \nQ 353 903 353 1747 \nQ 353 2603 823 3093 \nQ 1294 3584 2113 3584 \nQ 2378 3584 2631 3529 \nQ 2884 3475 3122 3366 \nz\n\" transform=\"scale(0.015625)\"/>\n       <path id=\"DejaVuSans-68\" d=\"M 3513 2113 \nL 3513 0 \nL 2938 0 \nL 2938 2094 \nQ 2938 2591 2744 2837 \nQ 2550 3084 2163 3084 \nQ 1697 3084 1428 2787 \nQ 1159 2491 1159 1978 \nL 1159 0 \nL 581 0 \nL 581 4863 \nL 1159 4863 \nL 1159 2956 \nQ 1366 3272 1645 3428 \nQ 1925 3584 2291 3584 \nQ 2894 3584 3203 3211 \nQ 3513 2838 3513 2113 \nz\n\" transform=\"scale(0.015625)\"/>\n      </defs>\n      <use xlink:href=\"#DejaVuSans-65\"/>\n      <use xlink:href=\"#DejaVuSans-70\" x=\"61.523438\"/>\n      <use xlink:href=\"#DejaVuSans-6f\" x=\"125\"/>\n      <use xlink:href=\"#DejaVuSans-63\" x=\"186.181641\"/>\n      <use xlink:href=\"#DejaVuSans-68\" x=\"241.162109\"/>\n     </g>\n    </g>\n   </g>\n   <g id=\"matplotlib.axis_2\">\n    <g id=\"ytick_1\">\n     <g id=\"line2d_7\">\n      <defs>\n       <path id=\"me32c1aae3d\" d=\"M 0 0 \nL -3.5 0 \n\" style=\"stroke: #000000; stroke-width: 0.8\"/>\n      </defs>\n      <g>\n       <use xlink:href=\"#me32c1aae3d\" x=\"30.103125\" y=\"121.004753\" style=\"stroke: #000000; stroke-width: 0.8\"/>\n      </g>\n     </g>\n     <g id=\"text_8\">\n      <!-- 0.4 -->\n      <g transform=\"translate(7.2 124.803972) scale(0.1 -0.1)\">\n       <defs>\n        <path id=\"DejaVuSans-2e\" d=\"M 684 794 \nL 1344 794 \nL 1344 0 \nL 684 0 \nL 684 794 \nz\n\" transform=\"scale(0.015625)\"/>\n       </defs>\n       <use xlink:href=\"#DejaVuSans-30\"/>\n       <use xlink:href=\"#DejaVuSans-2e\" x=\"63.623047\"/>\n       <use xlink:href=\"#DejaVuSans-34\" x=\"95.410156\"/>\n      </g>\n     </g>\n    </g>\n    <g id=\"ytick_2\">\n     <g id=\"line2d_8\">\n      <g>\n       <use xlink:href=\"#me32c1aae3d\" x=\"30.103125\" y=\"84.336242\" style=\"stroke: #000000; stroke-width: 0.8\"/>\n      </g>\n     </g>\n     <g id=\"text_9\">\n      <!-- 0.6 -->\n      <g transform=\"translate(7.2 88.13546) scale(0.1 -0.1)\">\n       <use xlink:href=\"#DejaVuSans-30\"/>\n       <use xlink:href=\"#DejaVuSans-2e\" x=\"63.623047\"/>\n       <use xlink:href=\"#DejaVuSans-36\" x=\"95.410156\"/>\n      </g>\n     </g>\n    </g>\n    <g id=\"ytick_3\">\n     <g id=\"line2d_9\">\n      <g>\n       <use xlink:href=\"#me32c1aae3d\" x=\"30.103125\" y=\"47.66773\" style=\"stroke: #000000; stroke-width: 0.8\"/>\n      </g>\n     </g>\n     <g id=\"text_10\">\n      <!-- 0.8 -->\n      <g transform=\"translate(7.2 51.466949) scale(0.1 -0.1)\">\n       <use xlink:href=\"#DejaVuSans-30\"/>\n       <use xlink:href=\"#DejaVuSans-2e\" x=\"63.623047\"/>\n       <use xlink:href=\"#DejaVuSans-38\" x=\"95.410156\"/>\n      </g>\n     </g>\n    </g>\n    <g id=\"ytick_4\">\n     <g id=\"line2d_10\">\n      <g>\n       <use xlink:href=\"#me32c1aae3d\" x=\"30.103125\" y=\"10.999219\" style=\"stroke: #000000; stroke-width: 0.8\"/>\n      </g>\n     </g>\n     <g id=\"text_11\">\n      <!-- 1.0 -->\n      <g transform=\"translate(7.2 14.798437) scale(0.1 -0.1)\">\n       <use xlink:href=\"#DejaVuSans-31\"/>\n       <use xlink:href=\"#DejaVuSans-2e\" x=\"63.623047\"/>\n       <use xlink:href=\"#DejaVuSans-30\" x=\"95.410156\"/>\n      </g>\n     </g>\n    </g>\n   </g>\n   <g id=\"line2d_11\">\n    <path d=\"M 34.954394 20.54773 \n\" clip-path=\"url(#pa8923b2589)\" style=\"fill: none; stroke: #1f77b4; stroke-width: 1.5; stroke-linecap: square\"/>\n   </g>\n   <g id=\"line2d_12\">\n    <path d=\"M 34.954394 20.54773 \nL 44.698573 83.295791 \n\" clip-path=\"url(#pa8923b2589)\" style=\"fill: none; stroke: #1f77b4; stroke-width: 1.5; stroke-linecap: square\"/>\n   </g>\n   <g id=\"line2d_13\">\n    <path d=\"M 34.954394 20.54773 \nL 44.698573 83.295791 \n\" clip-path=\"url(#pa8923b2589)\" style=\"fill: none; stroke: #1f77b4; stroke-width: 1.5; stroke-linecap: square\"/>\n   </g>\n   <g id=\"line2d_14\">\n    <path d=\"M 49.633125 13.82507 \n\" clip-path=\"url(#pa8923b2589)\" style=\"fill: none; stroke-dasharray: 5.55,2.4; stroke-dashoffset: 0; stroke: #ff7f0e; stroke-width: 1.5\"/>\n   </g>\n   <g id=\"line2d_15\"/>\n   <g id=\"line2d_16\">\n    <path d=\"M 34.954394 20.54773 \nL 44.698573 83.295791 \n\" clip-path=\"url(#pa8923b2589)\" style=\"fill: none; stroke: #1f77b4; stroke-width: 1.5; stroke-linecap: square\"/>\n   </g>\n   <g id=\"line2d_17\">\n    <path d=\"M 49.633125 13.82507 \n\" clip-path=\"url(#pa8923b2589)\" style=\"fill: none; stroke-dasharray: 5.55,2.4; stroke-dashoffset: 0; stroke: #ff7f0e; stroke-width: 1.5\"/>\n   </g>\n   <g id=\"line2d_18\">\n    <path d=\"M 49.633125 80.459794 \n\" clip-path=\"url(#pa8923b2589)\" style=\"fill: none; stroke-dasharray: 9.6,2.4,1.5,2.4; stroke-dashoffset: 0; stroke: #2ca02c; stroke-width: 1.5\"/>\n   </g>\n   <g id=\"line2d_19\">\n    <path d=\"M 34.954394 20.54773 \nL 44.698573 83.295791 \nL 54.442752 97.523684 \n\" clip-path=\"url(#pa8923b2589)\" style=\"fill: none; stroke: #1f77b4; stroke-width: 1.5; stroke-linecap: square\"/>\n   </g>\n   <g id=\"line2d_20\">\n    <path d=\"M 49.633125 13.82507 \n\" clip-path=\"url(#pa8923b2589)\" style=\"fill: none; stroke-dasharray: 5.55,2.4; stroke-dashoffset: 0; stroke: #ff7f0e; stroke-width: 1.5\"/>\n   </g>\n   <g id=\"line2d_21\">\n    <path d=\"M 49.633125 80.459794 \n\" clip-path=\"url(#pa8923b2589)\" style=\"fill: none; stroke-dasharray: 9.6,2.4,1.5,2.4; stroke-dashoffset: 0; stroke: #2ca02c; stroke-width: 1.5\"/>\n   </g>\n   <g id=\"line2d_22\">\n    <path d=\"M 34.954394 20.54773 \nL 44.698573 83.295791 \nL 54.442752 97.523684 \nL 64.186931 105.59577 \n\" clip-path=\"url(#pa8923b2589)\" style=\"fill: none; stroke: #1f77b4; stroke-width: 1.5; stroke-linecap: square\"/>\n   </g>\n   <g id=\"line2d_23\">\n    <path d=\"M 49.633125 13.82507 \n\" clip-path=\"url(#pa8923b2589)\" style=\"fill: none; stroke-dasharray: 5.55,2.4; stroke-dashoffset: 0; stroke: #ff7f0e; stroke-width: 1.5\"/>\n   </g>\n   <g id=\"line2d_24\">\n    <path d=\"M 49.633125 80.459794 \n\" clip-path=\"url(#pa8923b2589)\" style=\"fill: none; stroke-dasharray: 9.6,2.4,1.5,2.4; stroke-dashoffset: 0; stroke: #2ca02c; stroke-width: 1.5\"/>\n   </g>\n   <g id=\"line2d_25\">\n    <path d=\"M 34.954394 20.54773 \nL 44.698573 83.295791 \nL 54.442752 97.523684 \nL 64.186931 105.59577 \n\" clip-path=\"url(#pa8923b2589)\" style=\"fill: none; stroke: #1f77b4; stroke-width: 1.5; stroke-linecap: square\"/>\n   </g>\n   <g id=\"line2d_26\">\n    <path d=\"M 49.633125 13.82507 \nL 69.163125 96.329812 \n\" clip-path=\"url(#pa8923b2589)\" style=\"fill: none; stroke-dasharray: 5.55,2.4; stroke-dashoffset: 0; stroke: #ff7f0e; stroke-width: 1.5\"/>\n   </g>\n   <g id=\"line2d_27\">\n    <path d=\"M 49.633125 80.459794 \n\" clip-path=\"url(#pa8923b2589)\" style=\"fill: none; stroke-dasharray: 9.6,2.4,1.5,2.4; stroke-dashoffset: 0; stroke: #2ca02c; stroke-width: 1.5\"/>\n   </g>\n   <g id=\"line2d_28\">\n    <path d=\"M 34.954394 20.54773 \nL 44.698573 83.295791 \nL 54.442752 97.523684 \nL 64.186931 105.59577 \n\" clip-path=\"url(#pa8923b2589)\" style=\"fill: none; stroke: #1f77b4; stroke-width: 1.5; stroke-linecap: square\"/>\n   </g>\n   <g id=\"line2d_29\">\n    <path d=\"M 49.633125 13.82507 \nL 69.163125 96.329812 \n\" clip-path=\"url(#pa8923b2589)\" style=\"fill: none; stroke-dasharray: 5.55,2.4; stroke-dashoffset: 0; stroke: #ff7f0e; stroke-width: 1.5\"/>\n   </g>\n   <g id=\"line2d_30\">\n    <path d=\"M 49.633125 80.459794 \nL 69.163125 45.394079 \n\" clip-path=\"url(#pa8923b2589)\" style=\"fill: none; stroke-dasharray: 9.6,2.4,1.5,2.4; stroke-dashoffset: 0; stroke: #2ca02c; stroke-width: 1.5\"/>\n   </g>\n   <g id=\"line2d_31\">\n    <path d=\"M 34.954394 20.54773 \nL 44.698573 83.295791 \nL 54.442752 97.523684 \nL 64.186931 105.59577 \nL 73.93111 111.58333 \n\" clip-path=\"url(#pa8923b2589)\" style=\"fill: none; stroke: #1f77b4; stroke-width: 1.5; stroke-linecap: square\"/>\n   </g>\n   <g id=\"line2d_32\">\n    <path d=\"M 49.633125 13.82507 \nL 69.163125 96.329812 \n\" clip-path=\"url(#pa8923b2589)\" style=\"fill: none; stroke-dasharray: 5.55,2.4; stroke-dashoffset: 0; stroke: #ff7f0e; stroke-width: 1.5\"/>\n   </g>\n   <g id=\"line2d_33\">\n    <path d=\"M 49.633125 80.459794 \nL 69.163125 45.394079 \n\" clip-path=\"url(#pa8923b2589)\" style=\"fill: none; stroke-dasharray: 9.6,2.4,1.5,2.4; stroke-dashoffset: 0; stroke: #2ca02c; stroke-width: 1.5\"/>\n   </g>\n   <g id=\"line2d_34\">\n    <path d=\"M 34.954394 20.54773 \nL 44.698573 83.295791 \nL 54.442752 97.523684 \nL 64.186931 105.59577 \nL 73.93111 111.58333 \nL 83.675289 116.222225 \n\" clip-path=\"url(#pa8923b2589)\" style=\"fill: none; stroke: #1f77b4; stroke-width: 1.5; stroke-linecap: square\"/>\n   </g>\n   <g id=\"line2d_35\">\n    <path d=\"M 49.633125 13.82507 \nL 69.163125 96.329812 \n\" clip-path=\"url(#pa8923b2589)\" style=\"fill: none; stroke-dasharray: 5.55,2.4; stroke-dashoffset: 0; stroke: #ff7f0e; stroke-width: 1.5\"/>\n   </g>\n   <g id=\"line2d_36\">\n    <path d=\"M 49.633125 80.459794 \nL 69.163125 45.394079 \n\" clip-path=\"url(#pa8923b2589)\" style=\"fill: none; stroke-dasharray: 9.6,2.4,1.5,2.4; stroke-dashoffset: 0; stroke: #2ca02c; stroke-width: 1.5\"/>\n   </g>\n   <g id=\"line2d_37\">\n    <path d=\"M 34.954394 20.54773 \nL 44.698573 83.295791 \nL 54.442752 97.523684 \nL 64.186931 105.59577 \nL 73.93111 111.58333 \nL 83.675289 116.222225 \n\" clip-path=\"url(#pa8923b2589)\" style=\"fill: none; stroke: #1f77b4; stroke-width: 1.5; stroke-linecap: square\"/>\n   </g>\n   <g id=\"line2d_38\">\n    <path d=\"M 49.633125 13.82507 \nL 69.163125 96.329812 \nL 88.693125 102.399633 \n\" clip-path=\"url(#pa8923b2589)\" style=\"fill: none; stroke-dasharray: 5.55,2.4; stroke-dashoffset: 0; stroke: #ff7f0e; stroke-width: 1.5\"/>\n   </g>\n   <g id=\"line2d_39\">\n    <path d=\"M 49.633125 80.459794 \nL 69.163125 45.394079 \n\" clip-path=\"url(#pa8923b2589)\" style=\"fill: none; stroke-dasharray: 9.6,2.4,1.5,2.4; stroke-dashoffset: 0; stroke: #2ca02c; stroke-width: 1.5\"/>\n   </g>\n   <g id=\"line2d_40\">\n    <path d=\"M 34.954394 20.54773 \nL 44.698573 83.295791 \nL 54.442752 97.523684 \nL 64.186931 105.59577 \nL 73.93111 111.58333 \nL 83.675289 116.222225 \n\" clip-path=\"url(#pa8923b2589)\" style=\"fill: none; stroke: #1f77b4; stroke-width: 1.5; stroke-linecap: square\"/>\n   </g>\n   <g id=\"line2d_41\">\n    <path d=\"M 49.633125 13.82507 \nL 69.163125 96.329812 \nL 88.693125 102.399633 \n\" clip-path=\"url(#pa8923b2589)\" style=\"fill: none; stroke-dasharray: 5.55,2.4; stroke-dashoffset: 0; stroke: #ff7f0e; stroke-width: 1.5\"/>\n   </g>\n   <g id=\"line2d_42\">\n    <path d=\"M 49.633125 80.459794 \nL 69.163125 45.394079 \nL 88.693125 44.541914 \n\" clip-path=\"url(#pa8923b2589)\" style=\"fill: none; stroke-dasharray: 9.6,2.4,1.5,2.4; stroke-dashoffset: 0; stroke: #2ca02c; stroke-width: 1.5\"/>\n   </g>\n   <g id=\"line2d_43\">\n    <path d=\"M 34.954394 20.54773 \nL 44.698573 83.295791 \nL 54.442752 97.523684 \nL 64.186931 105.59577 \nL 73.93111 111.58333 \nL 83.675289 116.222225 \nL 93.419468 119.702317 \n\" clip-path=\"url(#pa8923b2589)\" style=\"fill: none; stroke: #1f77b4; stroke-width: 1.5; stroke-linecap: square\"/>\n   </g>\n   <g id=\"line2d_44\">\n    <path d=\"M 49.633125 13.82507 \nL 69.163125 96.329812 \nL 88.693125 102.399633 \n\" clip-path=\"url(#pa8923b2589)\" style=\"fill: none; stroke-dasharray: 5.55,2.4; stroke-dashoffset: 0; stroke: #ff7f0e; stroke-width: 1.5\"/>\n   </g>\n   <g id=\"line2d_45\">\n    <path d=\"M 49.633125 80.459794 \nL 69.163125 45.394079 \nL 88.693125 44.541914 \n\" clip-path=\"url(#pa8923b2589)\" style=\"fill: none; stroke-dasharray: 9.6,2.4,1.5,2.4; stroke-dashoffset: 0; stroke: #2ca02c; stroke-width: 1.5\"/>\n   </g>\n   <g id=\"line2d_46\">\n    <path d=\"M 34.954394 20.54773 \nL 44.698573 83.295791 \nL 54.442752 97.523684 \nL 64.186931 105.59577 \nL 73.93111 111.58333 \nL 83.675289 116.222225 \nL 93.419468 119.702317 \nL 103.163647 122.172123 \n\" clip-path=\"url(#pa8923b2589)\" style=\"fill: none; stroke: #1f77b4; stroke-width: 1.5; stroke-linecap: square\"/>\n   </g>\n   <g id=\"line2d_47\">\n    <path d=\"M 49.633125 13.82507 \nL 69.163125 96.329812 \nL 88.693125 102.399633 \n\" clip-path=\"url(#pa8923b2589)\" style=\"fill: none; stroke-dasharray: 5.55,2.4; stroke-dashoffset: 0; stroke: #ff7f0e; stroke-width: 1.5\"/>\n   </g>\n   <g id=\"line2d_48\">\n    <path d=\"M 49.633125 80.459794 \nL 69.163125 45.394079 \nL 88.693125 44.541914 \n\" clip-path=\"url(#pa8923b2589)\" style=\"fill: none; stroke-dasharray: 9.6,2.4,1.5,2.4; stroke-dashoffset: 0; stroke: #2ca02c; stroke-width: 1.5\"/>\n   </g>\n   <g id=\"line2d_49\">\n    <path d=\"M 34.954394 20.54773 \nL 44.698573 83.295791 \nL 54.442752 97.523684 \nL 64.186931 105.59577 \nL 73.93111 111.58333 \nL 83.675289 116.222225 \nL 93.419468 119.702317 \nL 103.163647 122.172123 \n\" clip-path=\"url(#pa8923b2589)\" style=\"fill: none; stroke: #1f77b4; stroke-width: 1.5; stroke-linecap: square\"/>\n   </g>\n   <g id=\"line2d_50\">\n    <path d=\"M 49.633125 13.82507 \nL 69.163125 96.329812 \nL 88.693125 102.399633 \nL 108.223125 119.585346 \n\" clip-path=\"url(#pa8923b2589)\" style=\"fill: none; stroke-dasharray: 5.55,2.4; stroke-dashoffset: 0; stroke: #ff7f0e; stroke-width: 1.5\"/>\n   </g>\n   <g id=\"line2d_51\">\n    <path d=\"M 49.633125 80.459794 \nL 69.163125 45.394079 \nL 88.693125 44.541914 \n\" clip-path=\"url(#pa8923b2589)\" style=\"fill: none; stroke-dasharray: 9.6,2.4,1.5,2.4; stroke-dashoffset: 0; stroke: #2ca02c; stroke-width: 1.5\"/>\n   </g>\n   <g id=\"line2d_52\">\n    <path d=\"M 34.954394 20.54773 \nL 44.698573 83.295791 \nL 54.442752 97.523684 \nL 64.186931 105.59577 \nL 73.93111 111.58333 \nL 83.675289 116.222225 \nL 93.419468 119.702317 \nL 103.163647 122.172123 \n\" clip-path=\"url(#pa8923b2589)\" style=\"fill: none; stroke: #1f77b4; stroke-width: 1.5; stroke-linecap: square\"/>\n   </g>\n   <g id=\"line2d_53\">\n    <path d=\"M 49.633125 13.82507 \nL 69.163125 96.329812 \nL 88.693125 102.399633 \nL 108.223125 119.585346 \n\" clip-path=\"url(#pa8923b2589)\" style=\"fill: none; stroke-dasharray: 5.55,2.4; stroke-dashoffset: 0; stroke: #ff7f0e; stroke-width: 1.5\"/>\n   </g>\n   <g id=\"line2d_54\">\n    <path d=\"M 49.633125 80.459794 \nL 69.163125 45.394079 \nL 88.693125 44.541914 \nL 108.223125 37.543276 \n\" clip-path=\"url(#pa8923b2589)\" style=\"fill: none; stroke-dasharray: 9.6,2.4,1.5,2.4; stroke-dashoffset: 0; stroke: #2ca02c; stroke-width: 1.5\"/>\n   </g>\n   <g id=\"line2d_55\">\n    <path d=\"M 34.954394 20.54773 \nL 44.698573 83.295791 \nL 54.442752 97.523684 \nL 64.186931 105.59577 \nL 73.93111 111.58333 \nL 83.675289 116.222225 \nL 93.419468 119.702317 \nL 103.163647 122.172123 \nL 112.907826 124.578703 \n\" clip-path=\"url(#pa8923b2589)\" style=\"fill: none; stroke: #1f77b4; stroke-width: 1.5; stroke-linecap: square\"/>\n   </g>\n   <g id=\"line2d_56\">\n    <path d=\"M 49.633125 13.82507 \nL 69.163125 96.329812 \nL 88.693125 102.399633 \nL 108.223125 119.585346 \n\" clip-path=\"url(#pa8923b2589)\" style=\"fill: none; stroke-dasharray: 5.55,2.4; stroke-dashoffset: 0; stroke: #ff7f0e; stroke-width: 1.5\"/>\n   </g>\n   <g id=\"line2d_57\">\n    <path d=\"M 49.633125 80.459794 \nL 69.163125 45.394079 \nL 88.693125 44.541914 \nL 108.223125 37.543276 \n\" clip-path=\"url(#pa8923b2589)\" style=\"fill: none; stroke-dasharray: 9.6,2.4,1.5,2.4; stroke-dashoffset: 0; stroke: #2ca02c; stroke-width: 1.5\"/>\n   </g>\n   <g id=\"line2d_58\">\n    <path d=\"M 34.954394 20.54773 \nL 44.698573 83.295791 \nL 54.442752 97.523684 \nL 64.186931 105.59577 \nL 73.93111 111.58333 \nL 83.675289 116.222225 \nL 93.419468 119.702317 \nL 103.163647 122.172123 \nL 112.907826 124.578703 \nL 122.652006 127.107861 \n\" clip-path=\"url(#pa8923b2589)\" style=\"fill: none; stroke: #1f77b4; stroke-width: 1.5; stroke-linecap: square\"/>\n   </g>\n   <g id=\"line2d_59\">\n    <path d=\"M 49.633125 13.82507 \nL 69.163125 96.329812 \nL 88.693125 102.399633 \nL 108.223125 119.585346 \n\" clip-path=\"url(#pa8923b2589)\" style=\"fill: none; stroke-dasharray: 5.55,2.4; stroke-dashoffset: 0; stroke: #ff7f0e; stroke-width: 1.5\"/>\n   </g>\n   <g id=\"line2d_60\">\n    <path d=\"M 49.633125 80.459794 \nL 69.163125 45.394079 \nL 88.693125 44.541914 \nL 108.223125 37.543276 \n\" clip-path=\"url(#pa8923b2589)\" style=\"fill: none; stroke-dasharray: 9.6,2.4,1.5,2.4; stroke-dashoffset: 0; stroke: #2ca02c; stroke-width: 1.5\"/>\n   </g>\n   <g id=\"line2d_61\">\n    <path d=\"M 34.954394 20.54773 \nL 44.698573 83.295791 \nL 54.442752 97.523684 \nL 64.186931 105.59577 \nL 73.93111 111.58333 \nL 83.675289 116.222225 \nL 93.419468 119.702317 \nL 103.163647 122.172123 \nL 112.907826 124.578703 \nL 122.652006 127.107861 \n\" clip-path=\"url(#pa8923b2589)\" style=\"fill: none; stroke: #1f77b4; stroke-width: 1.5; stroke-linecap: square\"/>\n   </g>\n   <g id=\"line2d_62\">\n    <path d=\"M 49.633125 13.82507 \nL 69.163125 96.329812 \nL 88.693125 102.399633 \nL 108.223125 119.585346 \nL 127.753125 111.731975 \n\" clip-path=\"url(#pa8923b2589)\" style=\"fill: none; stroke-dasharray: 5.55,2.4; stroke-dashoffset: 0; stroke: #ff7f0e; stroke-width: 1.5\"/>\n   </g>\n   <g id=\"line2d_63\">\n    <path d=\"M 49.633125 80.459794 \nL 69.163125 45.394079 \nL 88.693125 44.541914 \nL 108.223125 37.543276 \n\" clip-path=\"url(#pa8923b2589)\" style=\"fill: none; stroke-dasharray: 9.6,2.4,1.5,2.4; stroke-dashoffset: 0; stroke: #2ca02c; stroke-width: 1.5\"/>\n   </g>\n   <g id=\"line2d_64\">\n    <path d=\"M 34.954394 20.54773 \nL 44.698573 83.295791 \nL 54.442752 97.523684 \nL 64.186931 105.59577 \nL 73.93111 111.58333 \nL 83.675289 116.222225 \nL 93.419468 119.702317 \nL 103.163647 122.172123 \nL 112.907826 124.578703 \nL 122.652006 127.107861 \n\" clip-path=\"url(#pa8923b2589)\" style=\"fill: none; stroke: #1f77b4; stroke-width: 1.5; stroke-linecap: square\"/>\n   </g>\n   <g id=\"line2d_65\">\n    <path d=\"M 49.633125 13.82507 \nL 69.163125 96.329812 \nL 88.693125 102.399633 \nL 108.223125 119.585346 \nL 127.753125 111.731975 \n\" clip-path=\"url(#pa8923b2589)\" style=\"fill: none; stroke-dasharray: 5.55,2.4; stroke-dashoffset: 0; stroke: #ff7f0e; stroke-width: 1.5\"/>\n   </g>\n   <g id=\"line2d_66\">\n    <path d=\"M 49.633125 80.459794 \nL 69.163125 45.394079 \nL 88.693125 44.541914 \nL 108.223125 37.543276 \nL 127.753125 40.35361 \n\" clip-path=\"url(#pa8923b2589)\" style=\"fill: none; stroke-dasharray: 9.6,2.4,1.5,2.4; stroke-dashoffset: 0; stroke: #2ca02c; stroke-width: 1.5\"/>\n   </g>\n   <g id=\"line2d_67\">\n    <path d=\"M 34.954394 20.54773 \nL 44.698573 83.295791 \nL 54.442752 97.523684 \nL 64.186931 105.59577 \nL 73.93111 111.58333 \nL 83.675289 116.222225 \nL 93.419468 119.702317 \nL 103.163647 122.172123 \nL 112.907826 124.578703 \nL 122.652006 127.107861 \nL 132.396185 129.444835 \n\" clip-path=\"url(#pa8923b2589)\" style=\"fill: none; stroke: #1f77b4; stroke-width: 1.5; stroke-linecap: square\"/>\n   </g>\n   <g id=\"line2d_68\">\n    <path d=\"M 49.633125 13.82507 \nL 69.163125 96.329812 \nL 88.693125 102.399633 \nL 108.223125 119.585346 \nL 127.753125 111.731975 \n\" clip-path=\"url(#pa8923b2589)\" style=\"fill: none; stroke-dasharray: 5.55,2.4; stroke-dashoffset: 0; stroke: #ff7f0e; stroke-width: 1.5\"/>\n   </g>\n   <g id=\"line2d_69\">\n    <path d=\"M 49.633125 80.459794 \nL 69.163125 45.394079 \nL 88.693125 44.541914 \nL 108.223125 37.543276 \nL 127.753125 40.35361 \n\" clip-path=\"url(#pa8923b2589)\" style=\"fill: none; stroke-dasharray: 9.6,2.4,1.5,2.4; stroke-dashoffset: 0; stroke: #2ca02c; stroke-width: 1.5\"/>\n   </g>\n   <g id=\"line2d_70\">\n    <path d=\"M 34.954394 20.54773 \nL 44.698573 83.295791 \nL 54.442752 97.523684 \nL 64.186931 105.59577 \nL 73.93111 111.58333 \nL 83.675289 116.222225 \nL 93.419468 119.702317 \nL 103.163647 122.172123 \nL 112.907826 124.578703 \nL 122.652006 127.107861 \nL 132.396185 129.444835 \nL 142.140364 130.785168 \n\" clip-path=\"url(#pa8923b2589)\" style=\"fill: none; stroke: #1f77b4; stroke-width: 1.5; stroke-linecap: square\"/>\n   </g>\n   <g id=\"line2d_71\">\n    <path d=\"M 49.633125 13.82507 \nL 69.163125 96.329812 \nL 88.693125 102.399633 \nL 108.223125 119.585346 \nL 127.753125 111.731975 \n\" clip-path=\"url(#pa8923b2589)\" style=\"fill: none; stroke-dasharray: 5.55,2.4; stroke-dashoffset: 0; stroke: #ff7f0e; stroke-width: 1.5\"/>\n   </g>\n   <g id=\"line2d_72\">\n    <path d=\"M 49.633125 80.459794 \nL 69.163125 45.394079 \nL 88.693125 44.541914 \nL 108.223125 37.543276 \nL 127.753125 40.35361 \n\" clip-path=\"url(#pa8923b2589)\" style=\"fill: none; stroke-dasharray: 9.6,2.4,1.5,2.4; stroke-dashoffset: 0; stroke: #2ca02c; stroke-width: 1.5\"/>\n   </g>\n   <g id=\"line2d_73\">\n    <path d=\"M 34.954394 20.54773 \nL 44.698573 83.295791 \nL 54.442752 97.523684 \nL 64.186931 105.59577 \nL 73.93111 111.58333 \nL 83.675289 116.222225 \nL 93.419468 119.702317 \nL 103.163647 122.172123 \nL 112.907826 124.578703 \nL 122.652006 127.107861 \nL 132.396185 129.444835 \nL 142.140364 130.785168 \n\" clip-path=\"url(#pa8923b2589)\" style=\"fill: none; stroke: #1f77b4; stroke-width: 1.5; stroke-linecap: square\"/>\n   </g>\n   <g id=\"line2d_74\">\n    <path d=\"M 49.633125 13.82507 \nL 69.163125 96.329812 \nL 88.693125 102.399633 \nL 108.223125 119.585346 \nL 127.753125 111.731975 \nL 147.283125 83.055635 \n\" clip-path=\"url(#pa8923b2589)\" style=\"fill: none; stroke-dasharray: 5.55,2.4; stroke-dashoffset: 0; stroke: #ff7f0e; stroke-width: 1.5\"/>\n   </g>\n   <g id=\"line2d_75\">\n    <path d=\"M 49.633125 80.459794 \nL 69.163125 45.394079 \nL 88.693125 44.541914 \nL 108.223125 37.543276 \nL 127.753125 40.35361 \n\" clip-path=\"url(#pa8923b2589)\" style=\"fill: none; stroke-dasharray: 9.6,2.4,1.5,2.4; stroke-dashoffset: 0; stroke: #2ca02c; stroke-width: 1.5\"/>\n   </g>\n   <g id=\"line2d_76\">\n    <path d=\"M 34.954394 20.54773 \nL 44.698573 83.295791 \nL 54.442752 97.523684 \nL 64.186931 105.59577 \nL 73.93111 111.58333 \nL 83.675289 116.222225 \nL 93.419468 119.702317 \nL 103.163647 122.172123 \nL 112.907826 124.578703 \nL 122.652006 127.107861 \nL 132.396185 129.444835 \nL 142.140364 130.785168 \n\" clip-path=\"url(#pa8923b2589)\" style=\"fill: none; stroke: #1f77b4; stroke-width: 1.5; stroke-linecap: square\"/>\n   </g>\n   <g id=\"line2d_77\">\n    <path d=\"M 49.633125 13.82507 \nL 69.163125 96.329812 \nL 88.693125 102.399633 \nL 108.223125 119.585346 \nL 127.753125 111.731975 \nL 147.283125 83.055635 \n\" clip-path=\"url(#pa8923b2589)\" style=\"fill: none; stroke-dasharray: 5.55,2.4; stroke-dashoffset: 0; stroke: #ff7f0e; stroke-width: 1.5\"/>\n   </g>\n   <g id=\"line2d_78\">\n    <path d=\"M 49.633125 80.459794 \nL 69.163125 45.394079 \nL 88.693125 44.541914 \nL 108.223125 37.543276 \nL 127.753125 40.35361 \nL 147.283125 50.362025 \n\" clip-path=\"url(#pa8923b2589)\" style=\"fill: none; stroke-dasharray: 9.6,2.4,1.5,2.4; stroke-dashoffset: 0; stroke: #2ca02c; stroke-width: 1.5\"/>\n   </g>\n   <g id=\"line2d_79\">\n    <path d=\"M 34.954394 20.54773 \nL 44.698573 83.295791 \nL 54.442752 97.523684 \nL 64.186931 105.59577 \nL 73.93111 111.58333 \nL 83.675289 116.222225 \nL 93.419468 119.702317 \nL 103.163647 122.172123 \nL 112.907826 124.578703 \nL 122.652006 127.107861 \nL 132.396185 129.444835 \nL 142.140364 130.785168 \nL 151.884543 132.417555 \n\" clip-path=\"url(#pa8923b2589)\" style=\"fill: none; stroke: #1f77b4; stroke-width: 1.5; stroke-linecap: square\"/>\n   </g>\n   <g id=\"line2d_80\">\n    <path d=\"M 49.633125 13.82507 \nL 69.163125 96.329812 \nL 88.693125 102.399633 \nL 108.223125 119.585346 \nL 127.753125 111.731975 \nL 147.283125 83.055635 \n\" clip-path=\"url(#pa8923b2589)\" style=\"fill: none; stroke-dasharray: 5.55,2.4; stroke-dashoffset: 0; stroke: #ff7f0e; stroke-width: 1.5\"/>\n   </g>\n   <g id=\"line2d_81\">\n    <path d=\"M 49.633125 80.459794 \nL 69.163125 45.394079 \nL 88.693125 44.541914 \nL 108.223125 37.543276 \nL 127.753125 40.35361 \nL 147.283125 50.362025 \n\" clip-path=\"url(#pa8923b2589)\" style=\"fill: none; stroke-dasharray: 9.6,2.4,1.5,2.4; stroke-dashoffset: 0; stroke: #2ca02c; stroke-width: 1.5\"/>\n   </g>\n   <g id=\"line2d_82\">\n    <path d=\"M 34.954394 20.54773 \nL 44.698573 83.295791 \nL 54.442752 97.523684 \nL 64.186931 105.59577 \nL 73.93111 111.58333 \nL 83.675289 116.222225 \nL 93.419468 119.702317 \nL 103.163647 122.172123 \nL 112.907826 124.578703 \nL 122.652006 127.107861 \nL 132.396185 129.444835 \nL 142.140364 130.785168 \nL 151.884543 132.417555 \nL 161.628722 133.393919 \n\" clip-path=\"url(#pa8923b2589)\" style=\"fill: none; stroke: #1f77b4; stroke-width: 1.5; stroke-linecap: square\"/>\n   </g>\n   <g id=\"line2d_83\">\n    <path d=\"M 49.633125 13.82507 \nL 69.163125 96.329812 \nL 88.693125 102.399633 \nL 108.223125 119.585346 \nL 127.753125 111.731975 \nL 147.283125 83.055635 \n\" clip-path=\"url(#pa8923b2589)\" style=\"fill: none; stroke-dasharray: 5.55,2.4; stroke-dashoffset: 0; stroke: #ff7f0e; stroke-width: 1.5\"/>\n   </g>\n   <g id=\"line2d_84\">\n    <path d=\"M 49.633125 80.459794 \nL 69.163125 45.394079 \nL 88.693125 44.541914 \nL 108.223125 37.543276 \nL 127.753125 40.35361 \nL 147.283125 50.362025 \n\" clip-path=\"url(#pa8923b2589)\" style=\"fill: none; stroke-dasharray: 9.6,2.4,1.5,2.4; stroke-dashoffset: 0; stroke: #2ca02c; stroke-width: 1.5\"/>\n   </g>\n   <g id=\"line2d_85\">\n    <path d=\"M 34.954394 20.54773 \nL 44.698573 83.295791 \nL 54.442752 97.523684 \nL 64.186931 105.59577 \nL 73.93111 111.58333 \nL 83.675289 116.222225 \nL 93.419468 119.702317 \nL 103.163647 122.172123 \nL 112.907826 124.578703 \nL 122.652006 127.107861 \nL 132.396185 129.444835 \nL 142.140364 130.785168 \nL 151.884543 132.417555 \nL 161.628722 133.393919 \n\" clip-path=\"url(#pa8923b2589)\" style=\"fill: none; stroke: #1f77b4; stroke-width: 1.5; stroke-linecap: square\"/>\n   </g>\n   <g id=\"line2d_86\">\n    <path d=\"M 49.633125 13.82507 \nL 69.163125 96.329812 \nL 88.693125 102.399633 \nL 108.223125 119.585346 \nL 127.753125 111.731975 \nL 147.283125 83.055635 \nL 166.813125 112.32742 \n\" clip-path=\"url(#pa8923b2589)\" style=\"fill: none; stroke-dasharray: 5.55,2.4; stroke-dashoffset: 0; stroke: #ff7f0e; stroke-width: 1.5\"/>\n   </g>\n   <g id=\"line2d_87\">\n    <path d=\"M 49.633125 80.459794 \nL 69.163125 45.394079 \nL 88.693125 44.541914 \nL 108.223125 37.543276 \nL 127.753125 40.35361 \nL 147.283125 50.362025 \n\" clip-path=\"url(#pa8923b2589)\" style=\"fill: none; stroke-dasharray: 9.6,2.4,1.5,2.4; stroke-dashoffset: 0; stroke: #2ca02c; stroke-width: 1.5\"/>\n   </g>\n   <g id=\"line2d_88\">\n    <path d=\"M 34.954394 20.54773 \nL 44.698573 83.295791 \nL 54.442752 97.523684 \nL 64.186931 105.59577 \nL 73.93111 111.58333 \nL 83.675289 116.222225 \nL 93.419468 119.702317 \nL 103.163647 122.172123 \nL 112.907826 124.578703 \nL 122.652006 127.107861 \nL 132.396185 129.444835 \nL 142.140364 130.785168 \nL 151.884543 132.417555 \nL 161.628722 133.393919 \n\" clip-path=\"url(#pa8923b2589)\" style=\"fill: none; stroke: #1f77b4; stroke-width: 1.5; stroke-linecap: square\"/>\n   </g>\n   <g id=\"line2d_89\">\n    <path d=\"M 49.633125 13.82507 \nL 69.163125 96.329812 \nL 88.693125 102.399633 \nL 108.223125 119.585346 \nL 127.753125 111.731975 \nL 147.283125 83.055635 \nL 166.813125 112.32742 \n\" clip-path=\"url(#pa8923b2589)\" style=\"fill: none; stroke-dasharray: 5.55,2.4; stroke-dashoffset: 0; stroke: #ff7f0e; stroke-width: 1.5\"/>\n   </g>\n   <g id=\"line2d_90\">\n    <path d=\"M 49.633125 80.459794 \nL 69.163125 45.394079 \nL 88.693125 44.541914 \nL 108.223125 37.543276 \nL 127.753125 40.35361 \nL 147.283125 50.362025 \nL 166.813125 40.281085 \n\" clip-path=\"url(#pa8923b2589)\" style=\"fill: none; stroke-dasharray: 9.6,2.4,1.5,2.4; stroke-dashoffset: 0; stroke: #2ca02c; stroke-width: 1.5\"/>\n   </g>\n   <g id=\"line2d_91\">\n    <path d=\"M 34.954394 20.54773 \nL 44.698573 83.295791 \nL 54.442752 97.523684 \nL 64.186931 105.59577 \nL 73.93111 111.58333 \nL 83.675289 116.222225 \nL 93.419468 119.702317 \nL 103.163647 122.172123 \nL 112.907826 124.578703 \nL 122.652006 127.107861 \nL 132.396185 129.444835 \nL 142.140364 130.785168 \nL 151.884543 132.417555 \nL 161.628722 133.393919 \nL 171.372901 133.807515 \n\" clip-path=\"url(#pa8923b2589)\" style=\"fill: none; stroke: #1f77b4; stroke-width: 1.5; stroke-linecap: square\"/>\n   </g>\n   <g id=\"line2d_92\">\n    <path d=\"M 49.633125 13.82507 \nL 69.163125 96.329812 \nL 88.693125 102.399633 \nL 108.223125 119.585346 \nL 127.753125 111.731975 \nL 147.283125 83.055635 \nL 166.813125 112.32742 \n\" clip-path=\"url(#pa8923b2589)\" style=\"fill: none; stroke-dasharray: 5.55,2.4; stroke-dashoffset: 0; stroke: #ff7f0e; stroke-width: 1.5\"/>\n   </g>\n   <g id=\"line2d_93\">\n    <path d=\"M 49.633125 80.459794 \nL 69.163125 45.394079 \nL 88.693125 44.541914 \nL 108.223125 37.543276 \nL 127.753125 40.35361 \nL 147.283125 50.362025 \nL 166.813125 40.281085 \n\" clip-path=\"url(#pa8923b2589)\" style=\"fill: none; stroke-dasharray: 9.6,2.4,1.5,2.4; stroke-dashoffset: 0; stroke: #2ca02c; stroke-width: 1.5\"/>\n   </g>\n   <g id=\"line2d_94\">\n    <path d=\"M 34.954394 20.54773 \nL 44.698573 83.295791 \nL 54.442752 97.523684 \nL 64.186931 105.59577 \nL 73.93111 111.58333 \nL 83.675289 116.222225 \nL 93.419468 119.702317 \nL 103.163647 122.172123 \nL 112.907826 124.578703 \nL 122.652006 127.107861 \nL 132.396185 129.444835 \nL 142.140364 130.785168 \nL 151.884543 132.417555 \nL 161.628722 133.393919 \nL 171.372901 133.807515 \nL 181.11708 137.4446 \n\" clip-path=\"url(#pa8923b2589)\" style=\"fill: none; stroke: #1f77b4; stroke-width: 1.5; stroke-linecap: square\"/>\n   </g>\n   <g id=\"line2d_95\">\n    <path d=\"M 49.633125 13.82507 \nL 69.163125 96.329812 \nL 88.693125 102.399633 \nL 108.223125 119.585346 \nL 127.753125 111.731975 \nL 147.283125 83.055635 \nL 166.813125 112.32742 \n\" clip-path=\"url(#pa8923b2589)\" style=\"fill: none; stroke-dasharray: 5.55,2.4; stroke-dashoffset: 0; stroke: #ff7f0e; stroke-width: 1.5\"/>\n   </g>\n   <g id=\"line2d_96\">\n    <path d=\"M 49.633125 80.459794 \nL 69.163125 45.394079 \nL 88.693125 44.541914 \nL 108.223125 37.543276 \nL 127.753125 40.35361 \nL 147.283125 50.362025 \nL 166.813125 40.281085 \n\" clip-path=\"url(#pa8923b2589)\" style=\"fill: none; stroke-dasharray: 9.6,2.4,1.5,2.4; stroke-dashoffset: 0; stroke: #2ca02c; stroke-width: 1.5\"/>\n   </g>\n   <g id=\"line2d_97\">\n    <path d=\"M 34.954394 20.54773 \nL 44.698573 83.295791 \nL 54.442752 97.523684 \nL 64.186931 105.59577 \nL 73.93111 111.58333 \nL 83.675289 116.222225 \nL 93.419468 119.702317 \nL 103.163647 122.172123 \nL 112.907826 124.578703 \nL 122.652006 127.107861 \nL 132.396185 129.444835 \nL 142.140364 130.785168 \nL 151.884543 132.417555 \nL 161.628722 133.393919 \nL 171.372901 133.807515 \nL 181.11708 137.4446 \n\" clip-path=\"url(#pa8923b2589)\" style=\"fill: none; stroke: #1f77b4; stroke-width: 1.5; stroke-linecap: square\"/>\n   </g>\n   <g id=\"line2d_98\">\n    <path d=\"M 49.633125 13.82507 \nL 69.163125 96.329812 \nL 88.693125 102.399633 \nL 108.223125 119.585346 \nL 127.753125 111.731975 \nL 147.283125 83.055635 \nL 166.813125 112.32742 \nL 186.343125 130.824806 \n\" clip-path=\"url(#pa8923b2589)\" style=\"fill: none; stroke-dasharray: 5.55,2.4; stroke-dashoffset: 0; stroke: #ff7f0e; stroke-width: 1.5\"/>\n   </g>\n   <g id=\"line2d_99\">\n    <path d=\"M 49.633125 80.459794 \nL 69.163125 45.394079 \nL 88.693125 44.541914 \nL 108.223125 37.543276 \nL 127.753125 40.35361 \nL 147.283125 50.362025 \nL 166.813125 40.281085 \n\" clip-path=\"url(#pa8923b2589)\" style=\"fill: none; stroke-dasharray: 9.6,2.4,1.5,2.4; stroke-dashoffset: 0; stroke: #2ca02c; stroke-width: 1.5\"/>\n   </g>\n   <g id=\"line2d_100\">\n    <path d=\"M 34.954394 20.54773 \nL 44.698573 83.295791 \nL 54.442752 97.523684 \nL 64.186931 105.59577 \nL 73.93111 111.58333 \nL 83.675289 116.222225 \nL 93.419468 119.702317 \nL 103.163647 122.172123 \nL 112.907826 124.578703 \nL 122.652006 127.107861 \nL 132.396185 129.444835 \nL 142.140364 130.785168 \nL 151.884543 132.417555 \nL 161.628722 133.393919 \nL 171.372901 133.807515 \nL 181.11708 137.4446 \n\" clip-path=\"url(#pa8923b2589)\" style=\"fill: none; stroke: #1f77b4; stroke-width: 1.5; stroke-linecap: square\"/>\n   </g>\n   <g id=\"line2d_101\">\n    <path d=\"M 49.633125 13.82507 \nL 69.163125 96.329812 \nL 88.693125 102.399633 \nL 108.223125 119.585346 \nL 127.753125 111.731975 \nL 147.283125 83.055635 \nL 166.813125 112.32742 \nL 186.343125 130.824806 \n\" clip-path=\"url(#pa8923b2589)\" style=\"fill: none; stroke-dasharray: 5.55,2.4; stroke-dashoffset: 0; stroke: #ff7f0e; stroke-width: 1.5\"/>\n   </g>\n   <g id=\"line2d_102\">\n    <path d=\"M 49.633125 80.459794 \nL 69.163125 45.394079 \nL 88.693125 44.541914 \nL 108.223125 37.543276 \nL 127.753125 40.35361 \nL 147.283125 50.362025 \nL 166.813125 40.281085 \nL 186.343125 33.681333 \n\" clip-path=\"url(#pa8923b2589)\" style=\"fill: none; stroke-dasharray: 9.6,2.4,1.5,2.4; stroke-dashoffset: 0; stroke: #2ca02c; stroke-width: 1.5\"/>\n   </g>\n   <g id=\"line2d_103\">\n    <path d=\"M 34.954394 20.54773 \nL 44.698573 83.295791 \nL 54.442752 97.523684 \nL 64.186931 105.59577 \nL 73.93111 111.58333 \nL 83.675289 116.222225 \nL 93.419468 119.702317 \nL 103.163647 122.172123 \nL 112.907826 124.578703 \nL 122.652006 127.107861 \nL 132.396185 129.444835 \nL 142.140364 130.785168 \nL 151.884543 132.417555 \nL 161.628722 133.393919 \nL 171.372901 133.807515 \nL 181.11708 137.4446 \nL 190.861259 137.756391 \n\" clip-path=\"url(#pa8923b2589)\" style=\"fill: none; stroke: #1f77b4; stroke-width: 1.5; stroke-linecap: square\"/>\n   </g>\n   <g id=\"line2d_104\">\n    <path d=\"M 49.633125 13.82507 \nL 69.163125 96.329812 \nL 88.693125 102.399633 \nL 108.223125 119.585346 \nL 127.753125 111.731975 \nL 147.283125 83.055635 \nL 166.813125 112.32742 \nL 186.343125 130.824806 \n\" clip-path=\"url(#pa8923b2589)\" style=\"fill: none; stroke-dasharray: 5.55,2.4; stroke-dashoffset: 0; stroke: #ff7f0e; stroke-width: 1.5\"/>\n   </g>\n   <g id=\"line2d_105\">\n    <path d=\"M 49.633125 80.459794 \nL 69.163125 45.394079 \nL 88.693125 44.541914 \nL 108.223125 37.543276 \nL 127.753125 40.35361 \nL 147.283125 50.362025 \nL 166.813125 40.281085 \nL 186.343125 33.681333 \n\" clip-path=\"url(#pa8923b2589)\" style=\"fill: none; stroke-dasharray: 9.6,2.4,1.5,2.4; stroke-dashoffset: 0; stroke: #2ca02c; stroke-width: 1.5\"/>\n   </g>\n   <g id=\"line2d_106\">\n    <path d=\"M 34.954394 20.54773 \nL 44.698573 83.295791 \nL 54.442752 97.523684 \nL 64.186931 105.59577 \nL 73.93111 111.58333 \nL 83.675289 116.222225 \nL 93.419468 119.702317 \nL 103.163647 122.172123 \nL 112.907826 124.578703 \nL 122.652006 127.107861 \nL 132.396185 129.444835 \nL 142.140364 130.785168 \nL 151.884543 132.417555 \nL 161.628722 133.393919 \nL 171.372901 133.807515 \nL 181.11708 137.4446 \nL 190.861259 137.756391 \nL 200.605438 137.440805 \n\" clip-path=\"url(#pa8923b2589)\" style=\"fill: none; stroke: #1f77b4; stroke-width: 1.5; stroke-linecap: square\"/>\n   </g>\n   <g id=\"line2d_107\">\n    <path d=\"M 49.633125 13.82507 \nL 69.163125 96.329812 \nL 88.693125 102.399633 \nL 108.223125 119.585346 \nL 127.753125 111.731975 \nL 147.283125 83.055635 \nL 166.813125 112.32742 \nL 186.343125 130.824806 \n\" clip-path=\"url(#pa8923b2589)\" style=\"fill: none; stroke-dasharray: 5.55,2.4; stroke-dashoffset: 0; stroke: #ff7f0e; stroke-width: 1.5\"/>\n   </g>\n   <g id=\"line2d_108\">\n    <path d=\"M 49.633125 80.459794 \nL 69.163125 45.394079 \nL 88.693125 44.541914 \nL 108.223125 37.543276 \nL 127.753125 40.35361 \nL 147.283125 50.362025 \nL 166.813125 40.281085 \nL 186.343125 33.681333 \n\" clip-path=\"url(#pa8923b2589)\" style=\"fill: none; stroke-dasharray: 9.6,2.4,1.5,2.4; stroke-dashoffset: 0; stroke: #2ca02c; stroke-width: 1.5\"/>\n   </g>\n   <g id=\"line2d_109\">\n    <path d=\"M 34.954394 20.54773 \nL 44.698573 83.295791 \nL 54.442752 97.523684 \nL 64.186931 105.59577 \nL 73.93111 111.58333 \nL 83.675289 116.222225 \nL 93.419468 119.702317 \nL 103.163647 122.172123 \nL 112.907826 124.578703 \nL 122.652006 127.107861 \nL 132.396185 129.444835 \nL 142.140364 130.785168 \nL 151.884543 132.417555 \nL 161.628722 133.393919 \nL 171.372901 133.807515 \nL 181.11708 137.4446 \nL 190.861259 137.756391 \nL 200.605438 137.440805 \n\" clip-path=\"url(#pa8923b2589)\" style=\"fill: none; stroke: #1f77b4; stroke-width: 1.5; stroke-linecap: square\"/>\n   </g>\n   <g id=\"line2d_110\">\n    <path d=\"M 49.633125 13.82507 \nL 69.163125 96.329812 \nL 88.693125 102.399633 \nL 108.223125 119.585346 \nL 127.753125 111.731975 \nL 147.283125 83.055635 \nL 166.813125 112.32742 \nL 186.343125 130.824806 \nL 205.873125 118.347265 \n\" clip-path=\"url(#pa8923b2589)\" style=\"fill: none; stroke-dasharray: 5.55,2.4; stroke-dashoffset: 0; stroke: #ff7f0e; stroke-width: 1.5\"/>\n   </g>\n   <g id=\"line2d_111\">\n    <path d=\"M 49.633125 80.459794 \nL 69.163125 45.394079 \nL 88.693125 44.541914 \nL 108.223125 37.543276 \nL 127.753125 40.35361 \nL 147.283125 50.362025 \nL 166.813125 40.281085 \nL 186.343125 33.681333 \n\" clip-path=\"url(#pa8923b2589)\" style=\"fill: none; stroke-dasharray: 9.6,2.4,1.5,2.4; stroke-dashoffset: 0; stroke: #2ca02c; stroke-width: 1.5\"/>\n   </g>\n   <g id=\"line2d_112\">\n    <path d=\"M 34.954394 20.54773 \nL 44.698573 83.295791 \nL 54.442752 97.523684 \nL 64.186931 105.59577 \nL 73.93111 111.58333 \nL 83.675289 116.222225 \nL 93.419468 119.702317 \nL 103.163647 122.172123 \nL 112.907826 124.578703 \nL 122.652006 127.107861 \nL 132.396185 129.444835 \nL 142.140364 130.785168 \nL 151.884543 132.417555 \nL 161.628722 133.393919 \nL 171.372901 133.807515 \nL 181.11708 137.4446 \nL 190.861259 137.756391 \nL 200.605438 137.440805 \n\" clip-path=\"url(#pa8923b2589)\" style=\"fill: none; stroke: #1f77b4; stroke-width: 1.5; stroke-linecap: square\"/>\n   </g>\n   <g id=\"line2d_113\">\n    <path d=\"M 49.633125 13.82507 \nL 69.163125 96.329812 \nL 88.693125 102.399633 \nL 108.223125 119.585346 \nL 127.753125 111.731975 \nL 147.283125 83.055635 \nL 166.813125 112.32742 \nL 186.343125 130.824806 \nL 205.873125 118.347265 \n\" clip-path=\"url(#pa8923b2589)\" style=\"fill: none; stroke-dasharray: 5.55,2.4; stroke-dashoffset: 0; stroke: #ff7f0e; stroke-width: 1.5\"/>\n   </g>\n   <g id=\"line2d_114\">\n    <path d=\"M 49.633125 80.459794 \nL 69.163125 45.394079 \nL 88.693125 44.541914 \nL 108.223125 37.543276 \nL 127.753125 40.35361 \nL 147.283125 50.362025 \nL 166.813125 40.281085 \nL 186.343125 33.681333 \nL 205.873125 37.289439 \n\" clip-path=\"url(#pa8923b2589)\" style=\"fill: none; stroke-dasharray: 9.6,2.4,1.5,2.4; stroke-dashoffset: 0; stroke: #2ca02c; stroke-width: 1.5\"/>\n   </g>\n   <g id=\"line2d_115\">\n    <path d=\"M 34.954394 20.54773 \nL 44.698573 83.295791 \nL 54.442752 97.523684 \nL 64.186931 105.59577 \nL 73.93111 111.58333 \nL 83.675289 116.222225 \nL 93.419468 119.702317 \nL 103.163647 122.172123 \nL 112.907826 124.578703 \nL 122.652006 127.107861 \nL 132.396185 129.444835 \nL 142.140364 130.785168 \nL 151.884543 132.417555 \nL 161.628722 133.393919 \nL 171.372901 133.807515 \nL 181.11708 137.4446 \nL 190.861259 137.756391 \nL 200.605438 137.440805 \nL 210.349618 138.661139 \n\" clip-path=\"url(#pa8923b2589)\" style=\"fill: none; stroke: #1f77b4; stroke-width: 1.5; stroke-linecap: square\"/>\n   </g>\n   <g id=\"line2d_116\">\n    <path d=\"M 49.633125 13.82507 \nL 69.163125 96.329812 \nL 88.693125 102.399633 \nL 108.223125 119.585346 \nL 127.753125 111.731975 \nL 147.283125 83.055635 \nL 166.813125 112.32742 \nL 186.343125 130.824806 \nL 205.873125 118.347265 \n\" clip-path=\"url(#pa8923b2589)\" style=\"fill: none; stroke-dasharray: 5.55,2.4; stroke-dashoffset: 0; stroke: #ff7f0e; stroke-width: 1.5\"/>\n   </g>\n   <g id=\"line2d_117\">\n    <path d=\"M 49.633125 80.459794 \nL 69.163125 45.394079 \nL 88.693125 44.541914 \nL 108.223125 37.543276 \nL 127.753125 40.35361 \nL 147.283125 50.362025 \nL 166.813125 40.281085 \nL 186.343125 33.681333 \nL 205.873125 37.289439 \n\" clip-path=\"url(#pa8923b2589)\" style=\"fill: none; stroke-dasharray: 9.6,2.4,1.5,2.4; stroke-dashoffset: 0; stroke: #2ca02c; stroke-width: 1.5\"/>\n   </g>\n   <g id=\"line2d_118\">\n    <path d=\"M 34.954394 20.54773 \nL 44.698573 83.295791 \nL 54.442752 97.523684 \nL 64.186931 105.59577 \nL 73.93111 111.58333 \nL 83.675289 116.222225 \nL 93.419468 119.702317 \nL 103.163647 122.172123 \nL 112.907826 124.578703 \nL 122.652006 127.107861 \nL 132.396185 129.444835 \nL 142.140364 130.785168 \nL 151.884543 132.417555 \nL 161.628722 133.393919 \nL 171.372901 133.807515 \nL 181.11708 137.4446 \nL 190.861259 137.756391 \nL 200.605438 137.440805 \nL 210.349618 138.661139 \nL 220.093797 139.82507 \n\" clip-path=\"url(#pa8923b2589)\" style=\"fill: none; stroke: #1f77b4; stroke-width: 1.5; stroke-linecap: square\"/>\n   </g>\n   <g id=\"line2d_119\">\n    <path d=\"M 49.633125 13.82507 \nL 69.163125 96.329812 \nL 88.693125 102.399633 \nL 108.223125 119.585346 \nL 127.753125 111.731975 \nL 147.283125 83.055635 \nL 166.813125 112.32742 \nL 186.343125 130.824806 \nL 205.873125 118.347265 \n\" clip-path=\"url(#pa8923b2589)\" style=\"fill: none; stroke-dasharray: 5.55,2.4; stroke-dashoffset: 0; stroke: #ff7f0e; stroke-width: 1.5\"/>\n   </g>\n   <g id=\"line2d_120\">\n    <path d=\"M 49.633125 80.459794 \nL 69.163125 45.394079 \nL 88.693125 44.541914 \nL 108.223125 37.543276 \nL 127.753125 40.35361 \nL 147.283125 50.362025 \nL 166.813125 40.281085 \nL 186.343125 33.681333 \nL 205.873125 37.289439 \n\" clip-path=\"url(#pa8923b2589)\" style=\"fill: none; stroke-dasharray: 9.6,2.4,1.5,2.4; stroke-dashoffset: 0; stroke: #2ca02c; stroke-width: 1.5\"/>\n   </g>\n   <g id=\"line2d_121\">\n    <path d=\"M 34.954394 20.54773 \nL 44.698573 83.295791 \nL 54.442752 97.523684 \nL 64.186931 105.59577 \nL 73.93111 111.58333 \nL 83.675289 116.222225 \nL 93.419468 119.702317 \nL 103.163647 122.172123 \nL 112.907826 124.578703 \nL 122.652006 127.107861 \nL 132.396185 129.444835 \nL 142.140364 130.785168 \nL 151.884543 132.417555 \nL 161.628722 133.393919 \nL 171.372901 133.807515 \nL 181.11708 137.4446 \nL 190.861259 137.756391 \nL 200.605438 137.440805 \nL 210.349618 138.661139 \nL 220.093797 139.82507 \n\" clip-path=\"url(#pa8923b2589)\" style=\"fill: none; stroke: #1f77b4; stroke-width: 1.5; stroke-linecap: square\"/>\n   </g>\n   <g id=\"line2d_122\">\n    <path d=\"M 49.633125 13.82507 \nL 69.163125 96.329812 \nL 88.693125 102.399633 \nL 108.223125 119.585346 \nL 127.753125 111.731975 \nL 147.283125 83.055635 \nL 166.813125 112.32742 \nL 186.343125 130.824806 \nL 205.873125 118.347265 \nL 225.403125 130.644509 \n\" clip-path=\"url(#pa8923b2589)\" style=\"fill: none; stroke-dasharray: 5.55,2.4; stroke-dashoffset: 0; stroke: #ff7f0e; stroke-width: 1.5\"/>\n   </g>\n   <g id=\"line2d_123\">\n    <path d=\"M 49.633125 80.459794 \nL 69.163125 45.394079 \nL 88.693125 44.541914 \nL 108.223125 37.543276 \nL 127.753125 40.35361 \nL 147.283125 50.362025 \nL 166.813125 40.281085 \nL 186.343125 33.681333 \nL 205.873125 37.289439 \n\" clip-path=\"url(#pa8923b2589)\" style=\"fill: none; stroke-dasharray: 9.6,2.4,1.5,2.4; stroke-dashoffset: 0; stroke: #2ca02c; stroke-width: 1.5\"/>\n   </g>\n   <g id=\"line2d_124\">\n    <path d=\"M 34.954394 20.54773 \nL 44.698573 83.295791 \nL 54.442752 97.523684 \nL 64.186931 105.59577 \nL 73.93111 111.58333 \nL 83.675289 116.222225 \nL 93.419468 119.702317 \nL 103.163647 122.172123 \nL 112.907826 124.578703 \nL 122.652006 127.107861 \nL 132.396185 129.444835 \nL 142.140364 130.785168 \nL 151.884543 132.417555 \nL 161.628722 133.393919 \nL 171.372901 133.807515 \nL 181.11708 137.4446 \nL 190.861259 137.756391 \nL 200.605438 137.440805 \nL 210.349618 138.661139 \nL 220.093797 139.82507 \n\" clip-path=\"url(#pa8923b2589)\" style=\"fill: none; stroke: #1f77b4; stroke-width: 1.5; stroke-linecap: square\"/>\n   </g>\n   <g id=\"line2d_125\">\n    <path d=\"M 49.633125 13.82507 \nL 69.163125 96.329812 \nL 88.693125 102.399633 \nL 108.223125 119.585346 \nL 127.753125 111.731975 \nL 147.283125 83.055635 \nL 166.813125 112.32742 \nL 186.343125 130.824806 \nL 205.873125 118.347265 \nL 225.403125 130.644509 \n\" clip-path=\"url(#pa8923b2589)\" style=\"fill: none; stroke-dasharray: 5.55,2.4; stroke-dashoffset: 0; stroke: #ff7f0e; stroke-width: 1.5\"/>\n   </g>\n   <g id=\"line2d_126\">\n    <path d=\"M 49.633125 80.459794 \nL 69.163125 45.394079 \nL 88.693125 44.541914 \nL 108.223125 37.543276 \nL 127.753125 40.35361 \nL 147.283125 50.362025 \nL 166.813125 40.281085 \nL 186.343125 33.681333 \nL 205.873125 37.289439 \nL 225.403125 33.898907 \n\" clip-path=\"url(#pa8923b2589)\" style=\"fill: none; stroke-dasharray: 9.6,2.4,1.5,2.4; stroke-dashoffset: 0; stroke: #2ca02c; stroke-width: 1.5\"/>\n   </g>\n   <g id=\"patch_3\">\n    <path d=\"M 30.103125 146.12507 \nL 30.103125 7.52507 \n\" style=\"fill: none; stroke: #000000; stroke-width: 0.8; stroke-linejoin: miter; stroke-linecap: square\"/>\n   </g>\n   <g id=\"patch_4\">\n    <path d=\"M 225.403125 146.12507 \nL 225.403125 7.52507 \n\" style=\"fill: none; stroke: #000000; stroke-width: 0.8; stroke-linejoin: miter; stroke-linecap: square\"/>\n   </g>\n   <g id=\"patch_5\">\n    <path d=\"M 30.103125 146.12507 \nL 225.403125 146.12507 \n\" style=\"fill: none; stroke: #000000; stroke-width: 0.8; stroke-linejoin: miter; stroke-linecap: square\"/>\n   </g>\n   <g id=\"patch_6\">\n    <path d=\"M 30.103125 7.52507 \nL 225.403125 7.52507 \n\" style=\"fill: none; stroke: #000000; stroke-width: 0.8; stroke-linejoin: miter; stroke-linecap: square\"/>\n   </g>\n   <g id=\"legend_1\">\n    <g id=\"patch_7\">\n     <path d=\"M 138.8125 100.759445 \nL 218.403125 100.759445 \nQ 220.403125 100.759445 220.403125 98.759445 \nL 220.403125 54.890695 \nQ 220.403125 52.890695 218.403125 52.890695 \nL 138.8125 52.890695 \nQ 136.8125 52.890695 136.8125 54.890695 \nL 136.8125 98.759445 \nQ 136.8125 100.759445 138.8125 100.759445 \nz\n\" style=\"fill: #ffffff; opacity: 0.8; stroke: #cccccc; stroke-linejoin: miter\"/>\n    </g>\n    <g id=\"line2d_127\">\n     <path d=\"M 140.8125 60.989133 \nL 150.8125 60.989133 \nL 160.8125 60.989133 \n\" style=\"fill: none; stroke: #1f77b4; stroke-width: 1.5; stroke-linecap: square\"/>\n    </g>\n    <g id=\"text_12\">\n     <!-- train_loss -->\n     <g transform=\"translate(168.8125 64.489133) scale(0.1 -0.1)\">\n      <defs>\n       <path id=\"DejaVuSans-74\" d=\"M 1172 4494 \nL 1172 3500 \nL 2356 3500 \nL 2356 3053 \nL 1172 3053 \nL 1172 1153 \nQ 1172 725 1289 603 \nQ 1406 481 1766 481 \nL 2356 481 \nL 2356 0 \nL 1766 0 \nQ 1100 0 847 248 \nQ 594 497 594 1153 \nL 594 3053 \nL 172 3053 \nL 172 3500 \nL 594 3500 \nL 594 4494 \nL 1172 4494 \nz\n\" transform=\"scale(0.015625)\"/>\n       <path id=\"DejaVuSans-72\" d=\"M 2631 2963 \nQ 2534 3019 2420 3045 \nQ 2306 3072 2169 3072 \nQ 1681 3072 1420 2755 \nQ 1159 2438 1159 1844 \nL 1159 0 \nL 581 0 \nL 581 3500 \nL 1159 3500 \nL 1159 2956 \nQ 1341 3275 1631 3429 \nQ 1922 3584 2338 3584 \nQ 2397 3584 2469 3576 \nQ 2541 3569 2628 3553 \nL 2631 2963 \nz\n\" transform=\"scale(0.015625)\"/>\n       <path id=\"DejaVuSans-61\" d=\"M 2194 1759 \nQ 1497 1759 1228 1600 \nQ 959 1441 959 1056 \nQ 959 750 1161 570 \nQ 1363 391 1709 391 \nQ 2188 391 2477 730 \nQ 2766 1069 2766 1631 \nL 2766 1759 \nL 2194 1759 \nz\nM 3341 1997 \nL 3341 0 \nL 2766 0 \nL 2766 531 \nQ 2569 213 2275 61 \nQ 1981 -91 1556 -91 \nQ 1019 -91 701 211 \nQ 384 513 384 1019 \nQ 384 1609 779 1909 \nQ 1175 2209 1959 2209 \nL 2766 2209 \nL 2766 2266 \nQ 2766 2663 2505 2880 \nQ 2244 3097 1772 3097 \nQ 1472 3097 1187 3025 \nQ 903 2953 641 2809 \nL 641 3341 \nQ 956 3463 1253 3523 \nQ 1550 3584 1831 3584 \nQ 2591 3584 2966 3190 \nQ 3341 2797 3341 1997 \nz\n\" transform=\"scale(0.015625)\"/>\n       <path id=\"DejaVuSans-69\" d=\"M 603 3500 \nL 1178 3500 \nL 1178 0 \nL 603 0 \nL 603 3500 \nz\nM 603 4863 \nL 1178 4863 \nL 1178 4134 \nL 603 4134 \nL 603 4863 \nz\n\" transform=\"scale(0.015625)\"/>\n       <path id=\"DejaVuSans-6e\" d=\"M 3513 2113 \nL 3513 0 \nL 2938 0 \nL 2938 2094 \nQ 2938 2591 2744 2837 \nQ 2550 3084 2163 3084 \nQ 1697 3084 1428 2787 \nQ 1159 2491 1159 1978 \nL 1159 0 \nL 581 0 \nL 581 3500 \nL 1159 3500 \nL 1159 2956 \nQ 1366 3272 1645 3428 \nQ 1925 3584 2291 3584 \nQ 2894 3584 3203 3211 \nQ 3513 2838 3513 2113 \nz\n\" transform=\"scale(0.015625)\"/>\n       <path id=\"DejaVuSans-5f\" d=\"M 3263 -1063 \nL 3263 -1509 \nL -63 -1509 \nL -63 -1063 \nL 3263 -1063 \nz\n\" transform=\"scale(0.015625)\"/>\n       <path id=\"DejaVuSans-6c\" d=\"M 603 4863 \nL 1178 4863 \nL 1178 0 \nL 603 0 \nL 603 4863 \nz\n\" transform=\"scale(0.015625)\"/>\n       <path id=\"DejaVuSans-73\" d=\"M 2834 3397 \nL 2834 2853 \nQ 2591 2978 2328 3040 \nQ 2066 3103 1784 3103 \nQ 1356 3103 1142 2972 \nQ 928 2841 928 2578 \nQ 928 2378 1081 2264 \nQ 1234 2150 1697 2047 \nL 1894 2003 \nQ 2506 1872 2764 1633 \nQ 3022 1394 3022 966 \nQ 3022 478 2636 193 \nQ 2250 -91 1575 -91 \nQ 1294 -91 989 -36 \nQ 684 19 347 128 \nL 347 722 \nQ 666 556 975 473 \nQ 1284 391 1588 391 \nQ 1994 391 2212 530 \nQ 2431 669 2431 922 \nQ 2431 1156 2273 1281 \nQ 2116 1406 1581 1522 \nL 1381 1569 \nQ 847 1681 609 1914 \nQ 372 2147 372 2553 \nQ 372 3047 722 3315 \nQ 1072 3584 1716 3584 \nQ 2034 3584 2315 3537 \nQ 2597 3491 2834 3397 \nz\n\" transform=\"scale(0.015625)\"/>\n      </defs>\n      <use xlink:href=\"#DejaVuSans-74\"/>\n      <use xlink:href=\"#DejaVuSans-72\" x=\"39.208984\"/>\n      <use xlink:href=\"#DejaVuSans-61\" x=\"80.322266\"/>\n      <use xlink:href=\"#DejaVuSans-69\" x=\"141.601562\"/>\n      <use xlink:href=\"#DejaVuSans-6e\" x=\"169.384766\"/>\n      <use xlink:href=\"#DejaVuSans-5f\" x=\"232.763672\"/>\n      <use xlink:href=\"#DejaVuSans-6c\" x=\"282.763672\"/>\n      <use xlink:href=\"#DejaVuSans-6f\" x=\"310.546875\"/>\n      <use xlink:href=\"#DejaVuSans-73\" x=\"371.728516\"/>\n      <use xlink:href=\"#DejaVuSans-73\" x=\"423.828125\"/>\n     </g>\n    </g>\n    <g id=\"line2d_128\">\n     <path d=\"M 140.8125 75.945383 \nL 150.8125 75.945383 \nL 160.8125 75.945383 \n\" style=\"fill: none; stroke-dasharray: 5.55,2.4; stroke-dashoffset: 0; stroke: #ff7f0e; stroke-width: 1.5\"/>\n    </g>\n    <g id=\"text_13\">\n     <!-- val_loss -->\n     <g transform=\"translate(168.8125 79.445383) scale(0.1 -0.1)\">\n      <defs>\n       <path id=\"DejaVuSans-76\" d=\"M 191 3500 \nL 800 3500 \nL 1894 563 \nL 2988 3500 \nL 3597 3500 \nL 2284 0 \nL 1503 0 \nL 191 3500 \nz\n\" transform=\"scale(0.015625)\"/>\n      </defs>\n      <use xlink:href=\"#DejaVuSans-76\"/>\n      <use xlink:href=\"#DejaVuSans-61\" x=\"59.179688\"/>\n      <use xlink:href=\"#DejaVuSans-6c\" x=\"120.458984\"/>\n      <use xlink:href=\"#DejaVuSans-5f\" x=\"148.242188\"/>\n      <use xlink:href=\"#DejaVuSans-6c\" x=\"198.242188\"/>\n      <use xlink:href=\"#DejaVuSans-6f\" x=\"226.025391\"/>\n      <use xlink:href=\"#DejaVuSans-73\" x=\"287.207031\"/>\n      <use xlink:href=\"#DejaVuSans-73\" x=\"339.306641\"/>\n     </g>\n    </g>\n    <g id=\"line2d_129\">\n     <path d=\"M 140.8125 90.901633 \nL 150.8125 90.901633 \nL 160.8125 90.901633 \n\" style=\"fill: none; stroke-dasharray: 9.6,2.4,1.5,2.4; stroke-dashoffset: 0; stroke: #2ca02c; stroke-width: 1.5\"/>\n    </g>\n    <g id=\"text_14\">\n     <!-- val_acc -->\n     <g transform=\"translate(168.8125 94.401633) scale(0.1 -0.1)\">\n      <use xlink:href=\"#DejaVuSans-76\"/>\n      <use xlink:href=\"#DejaVuSans-61\" x=\"59.179688\"/>\n      <use xlink:href=\"#DejaVuSans-6c\" x=\"120.458984\"/>\n      <use xlink:href=\"#DejaVuSans-5f\" x=\"148.242188\"/>\n      <use xlink:href=\"#DejaVuSans-61\" x=\"198.242188\"/>\n      <use xlink:href=\"#DejaVuSans-63\" x=\"259.521484\"/>\n      <use xlink:href=\"#DejaVuSans-63\" x=\"314.501953\"/>\n     </g>\n    </g>\n   </g>\n  </g>\n </g>\n <defs>\n  <clipPath id=\"pa8923b2589\">\n   <rect x=\"30.103125\" y=\"7.52507\" width=\"195.3\" height=\"138.6\"/>\n  </clipPath>\n </defs>\n</svg>\n"
          },
          "metadata": {}
        }
      ]
    },
    {
      "cell_type": "code",
      "source": [
        "model.net[1].gamma.reshape((-1,)), model.net[1].beta.reshape((-1,))"
      ],
      "metadata": {
        "id": "k8-X0oiCjv42",
        "colab": {
          "base_uri": "https://localhost:8080/"
        },
        "outputId": "17151bd5-21d5-41f8-c655-1a5529d16dcb"
      },
      "execution_count": 60,
      "outputs": [
        {
          "output_type": "execute_result",
          "data": {
            "text/plain": [
              "(tensor([1.4197, 1.4812, 2.4076, 2.0041, 1.8437, 2.2230], device='cuda:0',\n",
              "        grad_fn=<ViewBackward0>),\n",
              " tensor([ 1.0207, -1.2257,  1.5452, -0.4500,  0.5880, -1.2126], device='cuda:0',\n",
              "        grad_fn=<ViewBackward0>))"
            ]
          },
          "metadata": {},
          "execution_count": 60
        }
      ]
    },
    {
      "cell_type": "markdown",
      "source": [
        "## Concise Implementation"
      ],
      "metadata": {
        "id": "VGS3uSkrjxXK"
      }
    },
    {
      "cell_type": "code",
      "source": [
        "class BNLeNet(d2l.Classifier):\n",
        "    def __init__(self, lr=0.1, num_classes=10):\n",
        "        super().__init__()\n",
        "        self.save_hyperparameters()\n",
        "        self.net = nn.Sequential(\n",
        "            nn.LazyConv2d(6, kernel_size=5), nn.LazyBatchNorm2d(),\n",
        "            nn.Sigmoid(), nn.AvgPool2d(kernel_size=2, stride=2),\n",
        "            nn.LazyConv2d(16, kernel_size=5), nn.LazyBatchNorm2d(),\n",
        "            nn.Sigmoid(), nn.AvgPool2d(kernel_size=2, stride=2),\n",
        "            nn.Flatten(), nn.LazyLinear(120), nn.LazyBatchNorm1d(),\n",
        "            nn.Sigmoid(), nn.LazyLinear(84), nn.LazyBatchNorm1d(),\n",
        "            nn.Sigmoid(), nn.LazyLinear(num_classes))"
      ],
      "metadata": {
        "id": "Hh7ymoeRjycx"
      },
      "execution_count": 61,
      "outputs": []
    },
    {
      "cell_type": "code",
      "source": [
        "trainer = d2l.Trainer(max_epochs=10, num_gpus=1)\n",
        "data = d2l.FashionMNIST(batch_size=128)\n",
        "model = BNLeNet(lr=0.1)\n",
        "model.apply_init([next(iter(data.get_dataloader(True)))[0]], d2l.init_cnn)\n",
        "trainer.fit(model, data)"
      ],
      "metadata": {
        "id": "bEFgr7iYjzbS",
        "colab": {
          "base_uri": "https://localhost:8080/",
          "height": 266
        },
        "outputId": "85de3d6e-9176-4e79-d851-e4410902da5e"
      },
      "execution_count": null,
      "outputs": [
        {
          "output_type": "display_data",
          "data": {
            "text/plain": [
              "<Figure size 350x250 with 1 Axes>"
            ],
            "image/svg+xml": "<?xml version=\"1.0\" encoding=\"utf-8\" standalone=\"no\"?>\n<!DOCTYPE svg PUBLIC \"-//W3C//DTD SVG 1.1//EN\"\n  \"http://www.w3.org/Graphics/SVG/1.1/DTD/svg11.dtd\">\n<svg xmlns:xlink=\"http://www.w3.org/1999/xlink\" width=\"238.965625pt\" height=\"183.35625pt\" viewBox=\"0 0 238.965625 183.35625\" xmlns=\"http://www.w3.org/2000/svg\" version=\"1.1\">\n <metadata>\n  <rdf:RDF xmlns:dc=\"http://purl.org/dc/elements/1.1/\" xmlns:cc=\"http://creativecommons.org/ns#\" xmlns:rdf=\"http://www.w3.org/1999/02/22-rdf-syntax-ns#\">\n   <cc:Work>\n    <dc:type rdf:resource=\"http://purl.org/dc/dcmitype/StillImage\"/>\n    <dc:date>2024-10-05T01:22:11.468911</dc:date>\n    <dc:format>image/svg+xml</dc:format>\n    <dc:creator>\n     <cc:Agent>\n      <dc:title>Matplotlib v3.7.2, https://matplotlib.org/</dc:title>\n     </cc:Agent>\n    </dc:creator>\n   </cc:Work>\n  </rdf:RDF>\n </metadata>\n <defs>\n  <style type=\"text/css\">*{stroke-linejoin: round; stroke-linecap: butt}</style>\n </defs>\n <g id=\"figure_1\">\n  <g id=\"patch_1\">\n   <path d=\"M 0 183.35625 \nL 238.965625 183.35625 \nL 238.965625 0 \nL 0 0 \nz\n\" style=\"fill: #ffffff\"/>\n  </g>\n  <g id=\"axes_1\">\n   <g id=\"patch_2\">\n    <path d=\"M 30.103125 145.8 \nL 225.403125 145.8 \nL 225.403125 7.2 \nL 30.103125 7.2 \nz\n\" style=\"fill: #ffffff\"/>\n   </g>\n   <g id=\"matplotlib.axis_1\">\n    <g id=\"xtick_1\">\n     <g id=\"line2d_1\">\n      <defs>\n       <path id=\"m3f7ff49f94\" d=\"M 0 0 \nL 0 3.5 \n\" style=\"stroke: #000000; stroke-width: 0.8\"/>\n      </defs>\n      <g>\n       <use xlink:href=\"#m3f7ff49f94\" x=\"30.103125\" y=\"145.8\" style=\"stroke: #000000; stroke-width: 0.8\"/>\n      </g>\n     </g>\n     <g id=\"text_1\">\n      <!-- 0 -->\n      <g transform=\"translate(26.921875 160.398438) scale(0.1 -0.1)\">\n       <defs>\n        <path id=\"DejaVuSans-30\" d=\"M 2034 4250 \nQ 1547 4250 1301 3770 \nQ 1056 3291 1056 2328 \nQ 1056 1369 1301 889 \nQ 1547 409 2034 409 \nQ 2525 409 2770 889 \nQ 3016 1369 3016 2328 \nQ 3016 3291 2770 3770 \nQ 2525 4250 2034 4250 \nz\nM 2034 4750 \nQ 2819 4750 3233 4129 \nQ 3647 3509 3647 2328 \nQ 3647 1150 3233 529 \nQ 2819 -91 2034 -91 \nQ 1250 -91 836 529 \nQ 422 1150 422 2328 \nQ 422 3509 836 4129 \nQ 1250 4750 2034 4750 \nz\n\" transform=\"scale(0.015625)\"/>\n       </defs>\n       <use xlink:href=\"#DejaVuSans-30\"/>\n      </g>\n     </g>\n    </g>\n    <g id=\"xtick_2\">\n     <g id=\"line2d_2\">\n      <g>\n       <use xlink:href=\"#m3f7ff49f94\" x=\"69.163125\" y=\"145.8\" style=\"stroke: #000000; stroke-width: 0.8\"/>\n      </g>\n     </g>\n     <g id=\"text_2\">\n      <!-- 2 -->\n      <g transform=\"translate(65.981875 160.398438) scale(0.1 -0.1)\">\n       <defs>\n        <path id=\"DejaVuSans-32\" d=\"M 1228 531 \nL 3431 531 \nL 3431 0 \nL 469 0 \nL 469 531 \nQ 828 903 1448 1529 \nQ 2069 2156 2228 2338 \nQ 2531 2678 2651 2914 \nQ 2772 3150 2772 3378 \nQ 2772 3750 2511 3984 \nQ 2250 4219 1831 4219 \nQ 1534 4219 1204 4116 \nQ 875 4013 500 3803 \nL 500 4441 \nQ 881 4594 1212 4672 \nQ 1544 4750 1819 4750 \nQ 2544 4750 2975 4387 \nQ 3406 4025 3406 3419 \nQ 3406 3131 3298 2873 \nQ 3191 2616 2906 2266 \nQ 2828 2175 2409 1742 \nQ 1991 1309 1228 531 \nz\n\" transform=\"scale(0.015625)\"/>\n       </defs>\n       <use xlink:href=\"#DejaVuSans-32\"/>\n      </g>\n     </g>\n    </g>\n    <g id=\"xtick_3\">\n     <g id=\"line2d_3\">\n      <g>\n       <use xlink:href=\"#m3f7ff49f94\" x=\"108.223125\" y=\"145.8\" style=\"stroke: #000000; stroke-width: 0.8\"/>\n      </g>\n     </g>\n     <g id=\"text_3\">\n      <!-- 4 -->\n      <g transform=\"translate(105.041875 160.398438) scale(0.1 -0.1)\">\n       <defs>\n        <path id=\"DejaVuSans-34\" d=\"M 2419 4116 \nL 825 1625 \nL 2419 1625 \nL 2419 4116 \nz\nM 2253 4666 \nL 3047 4666 \nL 3047 1625 \nL 3713 1625 \nL 3713 1100 \nL 3047 1100 \nL 3047 0 \nL 2419 0 \nL 2419 1100 \nL 313 1100 \nL 313 1709 \nL 2253 4666 \nz\n\" transform=\"scale(0.015625)\"/>\n       </defs>\n       <use xlink:href=\"#DejaVuSans-34\"/>\n      </g>\n     </g>\n    </g>\n    <g id=\"xtick_4\">\n     <g id=\"line2d_4\">\n      <g>\n       <use xlink:href=\"#m3f7ff49f94\" x=\"147.283125\" y=\"145.8\" style=\"stroke: #000000; stroke-width: 0.8\"/>\n      </g>\n     </g>\n     <g id=\"text_4\">\n      <!-- 6 -->\n      <g transform=\"translate(144.101875 160.398438) scale(0.1 -0.1)\">\n       <defs>\n        <path id=\"DejaVuSans-36\" d=\"M 2113 2584 \nQ 1688 2584 1439 2293 \nQ 1191 2003 1191 1497 \nQ 1191 994 1439 701 \nQ 1688 409 2113 409 \nQ 2538 409 2786 701 \nQ 3034 994 3034 1497 \nQ 3034 2003 2786 2293 \nQ 2538 2584 2113 2584 \nz\nM 3366 4563 \nL 3366 3988 \nQ 3128 4100 2886 4159 \nQ 2644 4219 2406 4219 \nQ 1781 4219 1451 3797 \nQ 1122 3375 1075 2522 \nQ 1259 2794 1537 2939 \nQ 1816 3084 2150 3084 \nQ 2853 3084 3261 2657 \nQ 3669 2231 3669 1497 \nQ 3669 778 3244 343 \nQ 2819 -91 2113 -91 \nQ 1303 -91 875 529 \nQ 447 1150 447 2328 \nQ 447 3434 972 4092 \nQ 1497 4750 2381 4750 \nQ 2619 4750 2861 4703 \nQ 3103 4656 3366 4563 \nz\n\" transform=\"scale(0.015625)\"/>\n       </defs>\n       <use xlink:href=\"#DejaVuSans-36\"/>\n      </g>\n     </g>\n    </g>\n    <g id=\"xtick_5\">\n     <g id=\"line2d_5\">\n      <g>\n       <use xlink:href=\"#m3f7ff49f94\" x=\"186.343125\" y=\"145.8\" style=\"stroke: #000000; stroke-width: 0.8\"/>\n      </g>\n     </g>\n     <g id=\"text_5\">\n      <!-- 8 -->\n      <g transform=\"translate(183.161875 160.398438) scale(0.1 -0.1)\">\n       <defs>\n        <path id=\"DejaVuSans-38\" d=\"M 2034 2216 \nQ 1584 2216 1326 1975 \nQ 1069 1734 1069 1313 \nQ 1069 891 1326 650 \nQ 1584 409 2034 409 \nQ 2484 409 2743 651 \nQ 3003 894 3003 1313 \nQ 3003 1734 2745 1975 \nQ 2488 2216 2034 2216 \nz\nM 1403 2484 \nQ 997 2584 770 2862 \nQ 544 3141 544 3541 \nQ 544 4100 942 4425 \nQ 1341 4750 2034 4750 \nQ 2731 4750 3128 4425 \nQ 3525 4100 3525 3541 \nQ 3525 3141 3298 2862 \nQ 3072 2584 2669 2484 \nQ 3125 2378 3379 2068 \nQ 3634 1759 3634 1313 \nQ 3634 634 3220 271 \nQ 2806 -91 2034 -91 \nQ 1263 -91 848 271 \nQ 434 634 434 1313 \nQ 434 1759 690 2068 \nQ 947 2378 1403 2484 \nz\nM 1172 3481 \nQ 1172 3119 1398 2916 \nQ 1625 2713 2034 2713 \nQ 2441 2713 2670 2916 \nQ 2900 3119 2900 3481 \nQ 2900 3844 2670 4047 \nQ 2441 4250 2034 4250 \nQ 1625 4250 1398 4047 \nQ 1172 3844 1172 3481 \nz\n\" transform=\"scale(0.015625)\"/>\n       </defs>\n       <use xlink:href=\"#DejaVuSans-38\"/>\n      </g>\n     </g>\n    </g>\n    <g id=\"xtick_6\">\n     <g id=\"line2d_6\">\n      <g>\n       <use xlink:href=\"#m3f7ff49f94\" x=\"225.403125\" y=\"145.8\" style=\"stroke: #000000; stroke-width: 0.8\"/>\n      </g>\n     </g>\n     <g id=\"text_6\">\n      <!-- 10 -->\n      <g transform=\"translate(219.040625 160.398438) scale(0.1 -0.1)\">\n       <defs>\n        <path id=\"DejaVuSans-31\" d=\"M 794 531 \nL 1825 531 \nL 1825 4091 \nL 703 3866 \nL 703 4441 \nL 1819 4666 \nL 2450 4666 \nL 2450 531 \nL 3481 531 \nL 3481 0 \nL 794 0 \nL 794 531 \nz\n\" transform=\"scale(0.015625)\"/>\n       </defs>\n       <use xlink:href=\"#DejaVuSans-31\"/>\n       <use xlink:href=\"#DejaVuSans-30\" x=\"63.623047\"/>\n      </g>\n     </g>\n    </g>\n    <g id=\"text_7\">\n     <!-- epoch -->\n     <g transform=\"translate(112.525 174.076563) scale(0.1 -0.1)\">\n      <defs>\n       <path id=\"DejaVuSans-65\" d=\"M 3597 1894 \nL 3597 1613 \nL 953 1613 \nQ 991 1019 1311 708 \nQ 1631 397 2203 397 \nQ 2534 397 2845 478 \nQ 3156 559 3463 722 \nL 3463 178 \nQ 3153 47 2828 -22 \nQ 2503 -91 2169 -91 \nQ 1331 -91 842 396 \nQ 353 884 353 1716 \nQ 353 2575 817 3079 \nQ 1281 3584 2069 3584 \nQ 2775 3584 3186 3129 \nQ 3597 2675 3597 1894 \nz\nM 3022 2063 \nQ 3016 2534 2758 2815 \nQ 2500 3097 2075 3097 \nQ 1594 3097 1305 2825 \nQ 1016 2553 972 2059 \nL 3022 2063 \nz\n\" transform=\"scale(0.015625)\"/>\n       <path id=\"DejaVuSans-70\" d=\"M 1159 525 \nL 1159 -1331 \nL 581 -1331 \nL 581 3500 \nL 1159 3500 \nL 1159 2969 \nQ 1341 3281 1617 3432 \nQ 1894 3584 2278 3584 \nQ 2916 3584 3314 3078 \nQ 3713 2572 3713 1747 \nQ 3713 922 3314 415 \nQ 2916 -91 2278 -91 \nQ 1894 -91 1617 61 \nQ 1341 213 1159 525 \nz\nM 3116 1747 \nQ 3116 2381 2855 2742 \nQ 2594 3103 2138 3103 \nQ 1681 3103 1420 2742 \nQ 1159 2381 1159 1747 \nQ 1159 1113 1420 752 \nQ 1681 391 2138 391 \nQ 2594 391 2855 752 \nQ 3116 1113 3116 1747 \nz\n\" transform=\"scale(0.015625)\"/>\n       <path id=\"DejaVuSans-6f\" d=\"M 1959 3097 \nQ 1497 3097 1228 2736 \nQ 959 2375 959 1747 \nQ 959 1119 1226 758 \nQ 1494 397 1959 397 \nQ 2419 397 2687 759 \nQ 2956 1122 2956 1747 \nQ 2956 2369 2687 2733 \nQ 2419 3097 1959 3097 \nz\nM 1959 3584 \nQ 2709 3584 3137 3096 \nQ 3566 2609 3566 1747 \nQ 3566 888 3137 398 \nQ 2709 -91 1959 -91 \nQ 1206 -91 779 398 \nQ 353 888 353 1747 \nQ 353 2609 779 3096 \nQ 1206 3584 1959 3584 \nz\n\" transform=\"scale(0.015625)\"/>\n       <path id=\"DejaVuSans-63\" d=\"M 3122 3366 \nL 3122 2828 \nQ 2878 2963 2633 3030 \nQ 2388 3097 2138 3097 \nQ 1578 3097 1268 2742 \nQ 959 2388 959 1747 \nQ 959 1106 1268 751 \nQ 1578 397 2138 397 \nQ 2388 397 2633 464 \nQ 2878 531 3122 666 \nL 3122 134 \nQ 2881 22 2623 -34 \nQ 2366 -91 2075 -91 \nQ 1284 -91 818 406 \nQ 353 903 353 1747 \nQ 353 2603 823 3093 \nQ 1294 3584 2113 3584 \nQ 2378 3584 2631 3529 \nQ 2884 3475 3122 3366 \nz\n\" transform=\"scale(0.015625)\"/>\n       <path id=\"DejaVuSans-68\" d=\"M 3513 2113 \nL 3513 0 \nL 2938 0 \nL 2938 2094 \nQ 2938 2591 2744 2837 \nQ 2550 3084 2163 3084 \nQ 1697 3084 1428 2787 \nQ 1159 2491 1159 1978 \nL 1159 0 \nL 581 0 \nL 581 4863 \nL 1159 4863 \nL 1159 2956 \nQ 1366 3272 1645 3428 \nQ 1925 3584 2291 3584 \nQ 2894 3584 3203 3211 \nQ 3513 2838 3513 2113 \nz\n\" transform=\"scale(0.015625)\"/>\n      </defs>\n      <use xlink:href=\"#DejaVuSans-65\"/>\n      <use xlink:href=\"#DejaVuSans-70\" x=\"61.523438\"/>\n      <use xlink:href=\"#DejaVuSans-6f\" x=\"125\"/>\n      <use xlink:href=\"#DejaVuSans-63\" x=\"186.181641\"/>\n      <use xlink:href=\"#DejaVuSans-68\" x=\"241.162109\"/>\n     </g>\n    </g>\n   </g>\n   <g id=\"matplotlib.axis_2\">\n    <g id=\"ytick_1\">\n     <g id=\"line2d_7\">\n      <defs>\n       <path id=\"mb0a93898a3\" d=\"M 0 0 \nL -3.5 0 \n\" style=\"stroke: #000000; stroke-width: 0.8\"/>\n      </defs>\n      <g>\n       <use xlink:href=\"#mb0a93898a3\" x=\"30.103125\" y=\"121.420691\" style=\"stroke: #000000; stroke-width: 0.8\"/>\n      </g>\n     </g>\n     <g id=\"text_8\">\n      <!-- 0.4 -->\n      <g transform=\"translate(7.2 125.21991) scale(0.1 -0.1)\">\n       <defs>\n        <path id=\"DejaVuSans-2e\" d=\"M 684 794 \nL 1344 794 \nL 1344 0 \nL 684 0 \nL 684 794 \nz\n\" transform=\"scale(0.015625)\"/>\n       </defs>\n       <use xlink:href=\"#DejaVuSans-30\"/>\n       <use xlink:href=\"#DejaVuSans-2e\" x=\"63.623047\"/>\n       <use xlink:href=\"#DejaVuSans-34\" x=\"95.410156\"/>\n      </g>\n     </g>\n    </g>\n    <g id=\"ytick_2\">\n     <g id=\"line2d_8\">\n      <g>\n       <use xlink:href=\"#mb0a93898a3\" x=\"30.103125\" y=\"82.035109\" style=\"stroke: #000000; stroke-width: 0.8\"/>\n      </g>\n     </g>\n     <g id=\"text_9\">\n      <!-- 0.6 -->\n      <g transform=\"translate(7.2 85.834328) scale(0.1 -0.1)\">\n       <use xlink:href=\"#DejaVuSans-30\"/>\n       <use xlink:href=\"#DejaVuSans-2e\" x=\"63.623047\"/>\n       <use xlink:href=\"#DejaVuSans-36\" x=\"95.410156\"/>\n      </g>\n     </g>\n    </g>\n    <g id=\"ytick_3\">\n     <g id=\"line2d_9\">\n      <g>\n       <use xlink:href=\"#mb0a93898a3\" x=\"30.103125\" y=\"42.649528\" style=\"stroke: #000000; stroke-width: 0.8\"/>\n      </g>\n     </g>\n     <g id=\"text_10\">\n      <!-- 0.8 -->\n      <g transform=\"translate(7.2 46.448747) scale(0.1 -0.1)\">\n       <use xlink:href=\"#DejaVuSans-30\"/>\n       <use xlink:href=\"#DejaVuSans-2e\" x=\"63.623047\"/>\n       <use xlink:href=\"#DejaVuSans-38\" x=\"95.410156\"/>\n      </g>\n     </g>\n    </g>\n   </g>\n   <g id=\"line2d_10\">\n    <path d=\"M 34.954394 13.5 \n\" clip-path=\"url(#p6d84b0af7d)\" style=\"fill: none; stroke: #1f77b4; stroke-width: 1.5; stroke-linecap: square\"/>\n   </g>\n   <g id=\"line2d_11\">\n    <path d=\"M 34.954394 13.5 \nL 44.698573 81.133663 \n\" clip-path=\"url(#p6d84b0af7d)\" style=\"fill: none; stroke: #1f77b4; stroke-width: 1.5; stroke-linecap: square\"/>\n   </g>\n   <g id=\"line2d_12\">\n    <path d=\"M 34.954394 13.5 \nL 44.698573 81.133663 \n\" clip-path=\"url(#p6d84b0af7d)\" style=\"fill: none; stroke: #1f77b4; stroke-width: 1.5; stroke-linecap: square\"/>\n   </g>\n   <g id=\"line2d_13\">\n    <path d=\"M 49.633125 61.385815 \n\" clip-path=\"url(#p6d84b0af7d)\" style=\"fill: none; stroke-dasharray: 5.55,2.4; stroke-dashoffset: 0; stroke: #ff7f0e; stroke-width: 1.5\"/>\n   </g>\n   <g id=\"line2d_14\"/>\n   <g id=\"line2d_15\">\n    <path d=\"M 34.954394 13.5 \nL 44.698573 81.133663 \n\" clip-path=\"url(#p6d84b0af7d)\" style=\"fill: none; stroke: #1f77b4; stroke-width: 1.5; stroke-linecap: square\"/>\n   </g>\n   <g id=\"line2d_16\">\n    <path d=\"M 49.633125 61.385815 \n\" clip-path=\"url(#p6d84b0af7d)\" style=\"fill: none; stroke-dasharray: 5.55,2.4; stroke-dashoffset: 0; stroke: #ff7f0e; stroke-width: 1.5\"/>\n   </g>\n   <g id=\"line2d_17\">\n    <path d=\"M 49.633125 52.671195 \n\" clip-path=\"url(#p6d84b0af7d)\" style=\"fill: none; stroke-dasharray: 9.6,2.4,1.5,2.4; stroke-dashoffset: 0; stroke: #2ca02c; stroke-width: 1.5\"/>\n   </g>\n   <g id=\"line2d_18\">\n    <path d=\"M 34.954394 13.5 \nL 44.698573 81.133663 \nL 54.442752 96.93165 \n\" clip-path=\"url(#p6d84b0af7d)\" style=\"fill: none; stroke: #1f77b4; stroke-width: 1.5; stroke-linecap: square\"/>\n   </g>\n   <g id=\"line2d_19\">\n    <path d=\"M 49.633125 61.385815 \n\" clip-path=\"url(#p6d84b0af7d)\" style=\"fill: none; stroke-dasharray: 5.55,2.4; stroke-dashoffset: 0; stroke: #ff7f0e; stroke-width: 1.5\"/>\n   </g>\n   <g id=\"line2d_20\">\n    <path d=\"M 49.633125 52.671195 \n\" clip-path=\"url(#p6d84b0af7d)\" style=\"fill: none; stroke-dasharray: 9.6,2.4,1.5,2.4; stroke-dashoffset: 0; stroke: #2ca02c; stroke-width: 1.5\"/>\n   </g>\n   <g id=\"line2d_21\">\n    <path d=\"M 34.954394 13.5 \nL 44.698573 81.133663 \nL 54.442752 96.93165 \nL 64.186931 105.083804 \n\" clip-path=\"url(#p6d84b0af7d)\" style=\"fill: none; stroke: #1f77b4; stroke-width: 1.5; stroke-linecap: square\"/>\n   </g>\n   <g id=\"line2d_22\">\n    <path d=\"M 49.633125 61.385815 \n\" clip-path=\"url(#p6d84b0af7d)\" style=\"fill: none; stroke-dasharray: 5.55,2.4; stroke-dashoffset: 0; stroke: #ff7f0e; stroke-width: 1.5\"/>\n   </g>\n   <g id=\"line2d_23\">\n    <path d=\"M 49.633125 52.671195 \n\" clip-path=\"url(#p6d84b0af7d)\" style=\"fill: none; stroke-dasharray: 9.6,2.4,1.5,2.4; stroke-dashoffset: 0; stroke: #2ca02c; stroke-width: 1.5\"/>\n   </g>\n   <g id=\"line2d_24\">\n    <path d=\"M 34.954394 13.5 \nL 44.698573 81.133663 \nL 54.442752 96.93165 \nL 64.186931 105.083804 \n\" clip-path=\"url(#p6d84b0af7d)\" style=\"fill: none; stroke: #1f77b4; stroke-width: 1.5; stroke-linecap: square\"/>\n   </g>\n   <g id=\"line2d_25\">\n    <path d=\"M 49.633125 61.385815 \nL 69.163125 88.568578 \n\" clip-path=\"url(#p6d84b0af7d)\" style=\"fill: none; stroke-dasharray: 5.55,2.4; stroke-dashoffset: 0; stroke: #ff7f0e; stroke-width: 1.5\"/>\n   </g>\n   <g id=\"line2d_26\">\n    <path d=\"M 49.633125 52.671195 \n\" clip-path=\"url(#p6d84b0af7d)\" style=\"fill: none; stroke-dasharray: 9.6,2.4,1.5,2.4; stroke-dashoffset: 0; stroke: #2ca02c; stroke-width: 1.5\"/>\n   </g>\n   <g id=\"line2d_27\">\n    <path d=\"M 34.954394 13.5 \nL 44.698573 81.133663 \nL 54.442752 96.93165 \nL 64.186931 105.083804 \n\" clip-path=\"url(#p6d84b0af7d)\" style=\"fill: none; stroke: #1f77b4; stroke-width: 1.5; stroke-linecap: square\"/>\n   </g>\n   <g id=\"line2d_28\">\n    <path d=\"M 49.633125 61.385815 \nL 69.163125 88.568578 \n\" clip-path=\"url(#p6d84b0af7d)\" style=\"fill: none; stroke-dasharray: 5.55,2.4; stroke-dashoffset: 0; stroke: #ff7f0e; stroke-width: 1.5\"/>\n   </g>\n   <g id=\"line2d_29\">\n    <path d=\"M 49.633125 52.671195 \nL 69.163125 41.31746 \n\" clip-path=\"url(#p6d84b0af7d)\" style=\"fill: none; stroke-dasharray: 9.6,2.4,1.5,2.4; stroke-dashoffset: 0; stroke: #2ca02c; stroke-width: 1.5\"/>\n   </g>\n   <g id=\"line2d_30\">\n    <path d=\"M 34.954394 13.5 \nL 44.698573 81.133663 \nL 54.442752 96.93165 \nL 64.186931 105.083804 \nL 73.93111 112.261649 \n\" clip-path=\"url(#p6d84b0af7d)\" style=\"fill: none; stroke: #1f77b4; stroke-width: 1.5; stroke-linecap: square\"/>\n   </g>\n   <g id=\"line2d_31\">\n    <path d=\"M 49.633125 61.385815 \nL 69.163125 88.568578 \n\" clip-path=\"url(#p6d84b0af7d)\" style=\"fill: none; stroke-dasharray: 5.55,2.4; stroke-dashoffset: 0; stroke: #ff7f0e; stroke-width: 1.5\"/>\n   </g>\n   <g id=\"line2d_32\">\n    <path d=\"M 49.633125 52.671195 \nL 69.163125 41.31746 \n\" clip-path=\"url(#p6d84b0af7d)\" style=\"fill: none; stroke-dasharray: 9.6,2.4,1.5,2.4; stroke-dashoffset: 0; stroke: #2ca02c; stroke-width: 1.5\"/>\n   </g>\n   <g id=\"line2d_33\">\n    <path d=\"M 34.954394 13.5 \nL 44.698573 81.133663 \nL 54.442752 96.93165 \nL 64.186931 105.083804 \nL 73.93111 112.261649 \nL 83.675289 115.432696 \n\" clip-path=\"url(#p6d84b0af7d)\" style=\"fill: none; stroke: #1f77b4; stroke-width: 1.5; stroke-linecap: square\"/>\n   </g>\n   <g id=\"line2d_34\">\n    <path d=\"M 49.633125 61.385815 \nL 69.163125 88.568578 \n\" clip-path=\"url(#p6d84b0af7d)\" style=\"fill: none; stroke-dasharray: 5.55,2.4; stroke-dashoffset: 0; stroke: #ff7f0e; stroke-width: 1.5\"/>\n   </g>\n   <g id=\"line2d_35\">\n    <path d=\"M 49.633125 52.671195 \nL 69.163125 41.31746 \n\" clip-path=\"url(#p6d84b0af7d)\" style=\"fill: none; stroke-dasharray: 9.6,2.4,1.5,2.4; stroke-dashoffset: 0; stroke: #2ca02c; stroke-width: 1.5\"/>\n   </g>\n   <g id=\"line2d_36\">\n    <path d=\"M 34.954394 13.5 \nL 44.698573 81.133663 \nL 54.442752 96.93165 \nL 64.186931 105.083804 \nL 73.93111 112.261649 \nL 83.675289 115.432696 \n\" clip-path=\"url(#p6d84b0af7d)\" style=\"fill: none; stroke: #1f77b4; stroke-width: 1.5; stroke-linecap: square\"/>\n   </g>\n   <g id=\"line2d_37\">\n    <path d=\"M 49.633125 61.385815 \nL 69.163125 88.568578 \nL 88.693125 97.180298 \n\" clip-path=\"url(#p6d84b0af7d)\" style=\"fill: none; stroke-dasharray: 5.55,2.4; stroke-dashoffset: 0; stroke: #ff7f0e; stroke-width: 1.5\"/>\n   </g>\n   <g id=\"line2d_38\">\n    <path d=\"M 49.633125 52.671195 \nL 69.163125 41.31746 \n\" clip-path=\"url(#p6d84b0af7d)\" style=\"fill: none; stroke-dasharray: 9.6,2.4,1.5,2.4; stroke-dashoffset: 0; stroke: #2ca02c; stroke-width: 1.5\"/>\n   </g>\n   <g id=\"line2d_39\">\n    <path d=\"M 34.954394 13.5 \nL 44.698573 81.133663 \nL 54.442752 96.93165 \nL 64.186931 105.083804 \nL 73.93111 112.261649 \nL 83.675289 115.432696 \n\" clip-path=\"url(#p6d84b0af7d)\" style=\"fill: none; stroke: #1f77b4; stroke-width: 1.5; stroke-linecap: square\"/>\n   </g>\n   <g id=\"line2d_40\">\n    <path d=\"M 49.633125 61.385815 \nL 69.163125 88.568578 \nL 88.693125 97.180298 \n\" clip-path=\"url(#p6d84b0af7d)\" style=\"fill: none; stroke-dasharray: 5.55,2.4; stroke-dashoffset: 0; stroke: #ff7f0e; stroke-width: 1.5\"/>\n   </g>\n   <g id=\"line2d_41\">\n    <path d=\"M 49.633125 52.671195 \nL 69.163125 41.31746 \nL 88.693125 40.168454 \n\" clip-path=\"url(#p6d84b0af7d)\" style=\"fill: none; stroke-dasharray: 9.6,2.4,1.5,2.4; stroke-dashoffset: 0; stroke: #2ca02c; stroke-width: 1.5\"/>\n   </g>\n   <g id=\"line2d_42\">\n    <path d=\"M 34.954394 13.5 \nL 44.698573 81.133663 \nL 54.442752 96.93165 \nL 64.186931 105.083804 \nL 73.93111 112.261649 \nL 83.675289 115.432696 \nL 93.419468 119.411453 \n\" clip-path=\"url(#p6d84b0af7d)\" style=\"fill: none; stroke: #1f77b4; stroke-width: 1.5; stroke-linecap: square\"/>\n   </g>\n   <g id=\"line2d_43\">\n    <path d=\"M 49.633125 61.385815 \nL 69.163125 88.568578 \nL 88.693125 97.180298 \n\" clip-path=\"url(#p6d84b0af7d)\" style=\"fill: none; stroke-dasharray: 5.55,2.4; stroke-dashoffset: 0; stroke: #ff7f0e; stroke-width: 1.5\"/>\n   </g>\n   <g id=\"line2d_44\">\n    <path d=\"M 49.633125 52.671195 \nL 69.163125 41.31746 \nL 88.693125 40.168454 \n\" clip-path=\"url(#p6d84b0af7d)\" style=\"fill: none; stroke-dasharray: 9.6,2.4,1.5,2.4; stroke-dashoffset: 0; stroke: #2ca02c; stroke-width: 1.5\"/>\n   </g>\n   <g id=\"line2d_45\">\n    <path d=\"M 34.954394 13.5 \nL 44.698573 81.133663 \nL 54.442752 96.93165 \nL 64.186931 105.083804 \nL 73.93111 112.261649 \nL 83.675289 115.432696 \nL 93.419468 119.411453 \nL 103.163647 122.157815 \n\" clip-path=\"url(#p6d84b0af7d)\" style=\"fill: none; stroke: #1f77b4; stroke-width: 1.5; stroke-linecap: square\"/>\n   </g>\n   <g id=\"line2d_46\">\n    <path d=\"M 49.633125 61.385815 \nL 69.163125 88.568578 \nL 88.693125 97.180298 \n\" clip-path=\"url(#p6d84b0af7d)\" style=\"fill: none; stroke-dasharray: 5.55,2.4; stroke-dashoffset: 0; stroke: #ff7f0e; stroke-width: 1.5\"/>\n   </g>\n   <g id=\"line2d_47\">\n    <path d=\"M 49.633125 52.671195 \nL 69.163125 41.31746 \nL 88.693125 40.168454 \n\" clip-path=\"url(#p6d84b0af7d)\" style=\"fill: none; stroke-dasharray: 9.6,2.4,1.5,2.4; stroke-dashoffset: 0; stroke: #2ca02c; stroke-width: 1.5\"/>\n   </g>\n   <g id=\"line2d_48\">\n    <path d=\"M 34.954394 13.5 \nL 44.698573 81.133663 \nL 54.442752 96.93165 \nL 64.186931 105.083804 \nL 73.93111 112.261649 \nL 83.675289 115.432696 \nL 93.419468 119.411453 \nL 103.163647 122.157815 \n\" clip-path=\"url(#p6d84b0af7d)\" style=\"fill: none; stroke: #1f77b4; stroke-width: 1.5; stroke-linecap: square\"/>\n   </g>\n   <g id=\"line2d_49\">\n    <path d=\"M 49.633125 61.385815 \nL 69.163125 88.568578 \nL 88.693125 97.180298 \nL 108.223125 90.616222 \n\" clip-path=\"url(#p6d84b0af7d)\" style=\"fill: none; stroke-dasharray: 5.55,2.4; stroke-dashoffset: 0; stroke: #ff7f0e; stroke-width: 1.5\"/>\n   </g>\n   <g id=\"line2d_50\">\n    <path d=\"M 49.633125 52.671195 \nL 69.163125 41.31746 \nL 88.693125 40.168454 \n\" clip-path=\"url(#p6d84b0af7d)\" style=\"fill: none; stroke-dasharray: 9.6,2.4,1.5,2.4; stroke-dashoffset: 0; stroke: #2ca02c; stroke-width: 1.5\"/>\n   </g>\n   <g id=\"line2d_51\">\n    <path d=\"M 34.954394 13.5 \nL 44.698573 81.133663 \nL 54.442752 96.93165 \nL 64.186931 105.083804 \nL 73.93111 112.261649 \nL 83.675289 115.432696 \nL 93.419468 119.411453 \nL 103.163647 122.157815 \n\" clip-path=\"url(#p6d84b0af7d)\" style=\"fill: none; stroke: #1f77b4; stroke-width: 1.5; stroke-linecap: square\"/>\n   </g>\n   <g id=\"line2d_52\">\n    <path d=\"M 49.633125 61.385815 \nL 69.163125 88.568578 \nL 88.693125 97.180298 \nL 108.223125 90.616222 \n\" clip-path=\"url(#p6d84b0af7d)\" style=\"fill: none; stroke-dasharray: 5.55,2.4; stroke-dashoffset: 0; stroke: #ff7f0e; stroke-width: 1.5\"/>\n   </g>\n   <g id=\"line2d_53\">\n    <path d=\"M 49.633125 52.671195 \nL 69.163125 41.31746 \nL 88.693125 40.168454 \nL 108.223125 42.894909 \n\" clip-path=\"url(#p6d84b0af7d)\" style=\"fill: none; stroke-dasharray: 9.6,2.4,1.5,2.4; stroke-dashoffset: 0; stroke: #2ca02c; stroke-width: 1.5\"/>\n   </g>\n   <g id=\"line2d_54\">\n    <path d=\"M 34.954394 13.5 \nL 44.698573 81.133663 \nL 54.442752 96.93165 \nL 64.186931 105.083804 \nL 73.93111 112.261649 \nL 83.675289 115.432696 \nL 93.419468 119.411453 \nL 103.163647 122.157815 \nL 112.907826 124.729031 \n\" clip-path=\"url(#p6d84b0af7d)\" style=\"fill: none; stroke: #1f77b4; stroke-width: 1.5; stroke-linecap: square\"/>\n   </g>\n   <g id=\"line2d_55\">\n    <path d=\"M 49.633125 61.385815 \nL 69.163125 88.568578 \nL 88.693125 97.180298 \nL 108.223125 90.616222 \n\" clip-path=\"url(#p6d84b0af7d)\" style=\"fill: none; stroke-dasharray: 5.55,2.4; stroke-dashoffset: 0; stroke: #ff7f0e; stroke-width: 1.5\"/>\n   </g>\n   <g id=\"line2d_56\">\n    <path d=\"M 49.633125 52.671195 \nL 69.163125 41.31746 \nL 88.693125 40.168454 \nL 108.223125 42.894909 \n\" clip-path=\"url(#p6d84b0af7d)\" style=\"fill: none; stroke-dasharray: 9.6,2.4,1.5,2.4; stroke-dashoffset: 0; stroke: #2ca02c; stroke-width: 1.5\"/>\n   </g>\n   <g id=\"line2d_57\">\n    <path d=\"M 34.954394 13.5 \nL 44.698573 81.133663 \nL 54.442752 96.93165 \nL 64.186931 105.083804 \nL 73.93111 112.261649 \nL 83.675289 115.432696 \nL 93.419468 119.411453 \nL 103.163647 122.157815 \nL 112.907826 124.729031 \nL 122.652006 126.257894 \n\" clip-path=\"url(#p6d84b0af7d)\" style=\"fill: none; stroke: #1f77b4; stroke-width: 1.5; stroke-linecap: square\"/>\n   </g>\n   <g id=\"line2d_58\">\n    <path d=\"M 49.633125 61.385815 \nL 69.163125 88.568578 \nL 88.693125 97.180298 \nL 108.223125 90.616222 \n\" clip-path=\"url(#p6d84b0af7d)\" style=\"fill: none; stroke-dasharray: 5.55,2.4; stroke-dashoffset: 0; stroke: #ff7f0e; stroke-width: 1.5\"/>\n   </g>\n   <g id=\"line2d_59\">\n    <path d=\"M 49.633125 52.671195 \nL 69.163125 41.31746 \nL 88.693125 40.168454 \nL 108.223125 42.894909 \n\" clip-path=\"url(#p6d84b0af7d)\" style=\"fill: none; stroke-dasharray: 9.6,2.4,1.5,2.4; stroke-dashoffset: 0; stroke: #2ca02c; stroke-width: 1.5\"/>\n   </g>\n   <g id=\"line2d_60\">\n    <path d=\"M 34.954394 13.5 \nL 44.698573 81.133663 \nL 54.442752 96.93165 \nL 64.186931 105.083804 \nL 73.93111 112.261649 \nL 83.675289 115.432696 \nL 93.419468 119.411453 \nL 103.163647 122.157815 \nL 112.907826 124.729031 \nL 122.652006 126.257894 \n\" clip-path=\"url(#p6d84b0af7d)\" style=\"fill: none; stroke: #1f77b4; stroke-width: 1.5; stroke-linecap: square\"/>\n   </g>\n   <g id=\"line2d_61\">\n    <path d=\"M 49.633125 61.385815 \nL 69.163125 88.568578 \nL 88.693125 97.180298 \nL 108.223125 90.616222 \nL 127.753125 101.53484 \n\" clip-path=\"url(#p6d84b0af7d)\" style=\"fill: none; stroke-dasharray: 5.55,2.4; stroke-dashoffset: 0; stroke: #ff7f0e; stroke-width: 1.5\"/>\n   </g>\n   <g id=\"line2d_62\">\n    <path d=\"M 49.633125 52.671195 \nL 69.163125 41.31746 \nL 88.693125 40.168454 \nL 108.223125 42.894909 \n\" clip-path=\"url(#p6d84b0af7d)\" style=\"fill: none; stroke-dasharray: 9.6,2.4,1.5,2.4; stroke-dashoffset: 0; stroke: #2ca02c; stroke-width: 1.5\"/>\n   </g>\n   <g id=\"line2d_63\">\n    <path d=\"M 34.954394 13.5 \nL 44.698573 81.133663 \nL 54.442752 96.93165 \nL 64.186931 105.083804 \nL 73.93111 112.261649 \nL 83.675289 115.432696 \nL 93.419468 119.411453 \nL 103.163647 122.157815 \nL 112.907826 124.729031 \nL 122.652006 126.257894 \n\" clip-path=\"url(#p6d84b0af7d)\" style=\"fill: none; stroke: #1f77b4; stroke-width: 1.5; stroke-linecap: square\"/>\n   </g>\n   <g id=\"line2d_64\">\n    <path d=\"M 49.633125 61.385815 \nL 69.163125 88.568578 \nL 88.693125 97.180298 \nL 108.223125 90.616222 \nL 127.753125 101.53484 \n\" clip-path=\"url(#p6d84b0af7d)\" style=\"fill: none; stroke-dasharray: 5.55,2.4; stroke-dashoffset: 0; stroke: #ff7f0e; stroke-width: 1.5\"/>\n   </g>\n   <g id=\"line2d_65\">\n    <path d=\"M 49.633125 52.671195 \nL 69.163125 41.31746 \nL 88.693125 40.168454 \nL 108.223125 42.894909 \nL 127.753125 37.889917 \n\" clip-path=\"url(#p6d84b0af7d)\" style=\"fill: none; stroke-dasharray: 9.6,2.4,1.5,2.4; stroke-dashoffset: 0; stroke: #2ca02c; stroke-width: 1.5\"/>\n   </g>\n   <g id=\"line2d_66\">\n    <path d=\"M 34.954394 13.5 \nL 44.698573 81.133663 \nL 54.442752 96.93165 \nL 64.186931 105.083804 \nL 73.93111 112.261649 \nL 83.675289 115.432696 \nL 93.419468 119.411453 \nL 103.163647 122.157815 \nL 112.907826 124.729031 \nL 122.652006 126.257894 \nL 132.396185 128.160013 \n\" clip-path=\"url(#p6d84b0af7d)\" style=\"fill: none; stroke: #1f77b4; stroke-width: 1.5; stroke-linecap: square\"/>\n   </g>\n   <g id=\"line2d_67\">\n    <path d=\"M 49.633125 61.385815 \nL 69.163125 88.568578 \nL 88.693125 97.180298 \nL 108.223125 90.616222 \nL 127.753125 101.53484 \n\" clip-path=\"url(#p6d84b0af7d)\" style=\"fill: none; stroke-dasharray: 5.55,2.4; stroke-dashoffset: 0; stroke: #ff7f0e; stroke-width: 1.5\"/>\n   </g>\n   <g id=\"line2d_68\">\n    <path d=\"M 49.633125 52.671195 \nL 69.163125 41.31746 \nL 88.693125 40.168454 \nL 108.223125 42.894909 \nL 127.753125 37.889917 \n\" clip-path=\"url(#p6d84b0af7d)\" style=\"fill: none; stroke-dasharray: 9.6,2.4,1.5,2.4; stroke-dashoffset: 0; stroke: #2ca02c; stroke-width: 1.5\"/>\n   </g>\n   <g id=\"line2d_69\">\n    <path d=\"M 34.954394 13.5 \nL 44.698573 81.133663 \nL 54.442752 96.93165 \nL 64.186931 105.083804 \nL 73.93111 112.261649 \nL 83.675289 115.432696 \nL 93.419468 119.411453 \nL 103.163647 122.157815 \nL 112.907826 124.729031 \nL 122.652006 126.257894 \nL 132.396185 128.160013 \nL 142.140364 131.008397 \n\" clip-path=\"url(#p6d84b0af7d)\" style=\"fill: none; stroke: #1f77b4; stroke-width: 1.5; stroke-linecap: square\"/>\n   </g>\n   <g id=\"line2d_70\">\n    <path d=\"M 49.633125 61.385815 \nL 69.163125 88.568578 \nL 88.693125 97.180298 \nL 108.223125 90.616222 \nL 127.753125 101.53484 \n\" clip-path=\"url(#p6d84b0af7d)\" style=\"fill: none; stroke-dasharray: 5.55,2.4; stroke-dashoffset: 0; stroke: #ff7f0e; stroke-width: 1.5\"/>\n   </g>\n   <g id=\"line2d_71\">\n    <path d=\"M 49.633125 52.671195 \nL 69.163125 41.31746 \nL 88.693125 40.168454 \nL 108.223125 42.894909 \nL 127.753125 37.889917 \n\" clip-path=\"url(#p6d84b0af7d)\" style=\"fill: none; stroke-dasharray: 9.6,2.4,1.5,2.4; stroke-dashoffset: 0; stroke: #2ca02c; stroke-width: 1.5\"/>\n   </g>\n   <g id=\"line2d_72\">\n    <path d=\"M 34.954394 13.5 \nL 44.698573 81.133663 \nL 54.442752 96.93165 \nL 64.186931 105.083804 \nL 73.93111 112.261649 \nL 83.675289 115.432696 \nL 93.419468 119.411453 \nL 103.163647 122.157815 \nL 112.907826 124.729031 \nL 122.652006 126.257894 \nL 132.396185 128.160013 \nL 142.140364 131.008397 \n\" clip-path=\"url(#p6d84b0af7d)\" style=\"fill: none; stroke: #1f77b4; stroke-width: 1.5; stroke-linecap: square\"/>\n   </g>\n   <g id=\"line2d_73\">\n    <path d=\"M 49.633125 61.385815 \nL 69.163125 88.568578 \nL 88.693125 97.180298 \nL 108.223125 90.616222 \nL 127.753125 101.53484 \nL 147.283125 87.808 \n\" clip-path=\"url(#p6d84b0af7d)\" style=\"fill: none; stroke-dasharray: 5.55,2.4; stroke-dashoffset: 0; stroke: #ff7f0e; stroke-width: 1.5\"/>\n   </g>\n   <g id=\"line2d_74\">\n    <path d=\"M 49.633125 52.671195 \nL 69.163125 41.31746 \nL 88.693125 40.168454 \nL 108.223125 42.894909 \nL 127.753125 37.889917 \n\" clip-path=\"url(#p6d84b0af7d)\" style=\"fill: none; stroke-dasharray: 9.6,2.4,1.5,2.4; stroke-dashoffset: 0; stroke: #2ca02c; stroke-width: 1.5\"/>\n   </g>\n   <g id=\"line2d_75\">\n    <path d=\"M 34.954394 13.5 \nL 44.698573 81.133663 \nL 54.442752 96.93165 \nL 64.186931 105.083804 \nL 73.93111 112.261649 \nL 83.675289 115.432696 \nL 93.419468 119.411453 \nL 103.163647 122.157815 \nL 112.907826 124.729031 \nL 122.652006 126.257894 \nL 132.396185 128.160013 \nL 142.140364 131.008397 \n\" clip-path=\"url(#p6d84b0af7d)\" style=\"fill: none; stroke: #1f77b4; stroke-width: 1.5; stroke-linecap: square\"/>\n   </g>\n   <g id=\"line2d_76\">\n    <path d=\"M 49.633125 61.385815 \nL 69.163125 88.568578 \nL 88.693125 97.180298 \nL 108.223125 90.616222 \nL 127.753125 101.53484 \nL 147.283125 87.808 \n\" clip-path=\"url(#p6d84b0af7d)\" style=\"fill: none; stroke-dasharray: 5.55,2.4; stroke-dashoffset: 0; stroke: #ff7f0e; stroke-width: 1.5\"/>\n   </g>\n   <g id=\"line2d_77\">\n    <path d=\"M 49.633125 52.671195 \nL 69.163125 41.31746 \nL 88.693125 40.168454 \nL 108.223125 42.894909 \nL 127.753125 37.889917 \nL 147.283125 44.550256 \n\" clip-path=\"url(#p6d84b0af7d)\" style=\"fill: none; stroke-dasharray: 9.6,2.4,1.5,2.4; stroke-dashoffset: 0; stroke: #2ca02c; stroke-width: 1.5\"/>\n   </g>\n   <g id=\"line2d_78\">\n    <path d=\"M 34.954394 13.5 \nL 44.698573 81.133663 \nL 54.442752 96.93165 \nL 64.186931 105.083804 \nL 73.93111 112.261649 \nL 83.675289 115.432696 \nL 93.419468 119.411453 \nL 103.163647 122.157815 \nL 112.907826 124.729031 \nL 122.652006 126.257894 \nL 132.396185 128.160013 \nL 142.140364 131.008397 \nL 151.884543 130.097788 \n\" clip-path=\"url(#p6d84b0af7d)\" style=\"fill: none; stroke: #1f77b4; stroke-width: 1.5; stroke-linecap: square\"/>\n   </g>\n   <g id=\"line2d_79\">\n    <path d=\"M 49.633125 61.385815 \nL 69.163125 88.568578 \nL 88.693125 97.180298 \nL 108.223125 90.616222 \nL 127.753125 101.53484 \nL 147.283125 87.808 \n\" clip-path=\"url(#p6d84b0af7d)\" style=\"fill: none; stroke-dasharray: 5.55,2.4; stroke-dashoffset: 0; stroke: #ff7f0e; stroke-width: 1.5\"/>\n   </g>\n   <g id=\"line2d_80\">\n    <path d=\"M 49.633125 52.671195 \nL 69.163125 41.31746 \nL 88.693125 40.168454 \nL 108.223125 42.894909 \nL 127.753125 37.889917 \nL 147.283125 44.550256 \n\" clip-path=\"url(#p6d84b0af7d)\" style=\"fill: none; stroke-dasharray: 9.6,2.4,1.5,2.4; stroke-dashoffset: 0; stroke: #2ca02c; stroke-width: 1.5\"/>\n   </g>\n   <g id=\"line2d_81\">\n    <path d=\"M 34.954394 13.5 \nL 44.698573 81.133663 \nL 54.442752 96.93165 \nL 64.186931 105.083804 \nL 73.93111 112.261649 \nL 83.675289 115.432696 \nL 93.419468 119.411453 \nL 103.163647 122.157815 \nL 112.907826 124.729031 \nL 122.652006 126.257894 \nL 132.396185 128.160013 \nL 142.140364 131.008397 \nL 151.884543 130.097788 \nL 161.628722 133.949505 \n\" clip-path=\"url(#p6d84b0af7d)\" style=\"fill: none; stroke: #1f77b4; stroke-width: 1.5; stroke-linecap: square\"/>\n   </g>\n   <g id=\"line2d_82\">\n    <path d=\"M 49.633125 61.385815 \nL 69.163125 88.568578 \nL 88.693125 97.180298 \nL 108.223125 90.616222 \nL 127.753125 101.53484 \nL 147.283125 87.808 \n\" clip-path=\"url(#p6d84b0af7d)\" style=\"fill: none; stroke-dasharray: 5.55,2.4; stroke-dashoffset: 0; stroke: #ff7f0e; stroke-width: 1.5\"/>\n   </g>\n   <g id=\"line2d_83\">\n    <path d=\"M 49.633125 52.671195 \nL 69.163125 41.31746 \nL 88.693125 40.168454 \nL 108.223125 42.894909 \nL 127.753125 37.889917 \nL 147.283125 44.550256 \n\" clip-path=\"url(#p6d84b0af7d)\" style=\"fill: none; stroke-dasharray: 9.6,2.4,1.5,2.4; stroke-dashoffset: 0; stroke: #2ca02c; stroke-width: 1.5\"/>\n   </g>\n   <g id=\"line2d_84\">\n    <path d=\"M 34.954394 13.5 \nL 44.698573 81.133663 \nL 54.442752 96.93165 \nL 64.186931 105.083804 \nL 73.93111 112.261649 \nL 83.675289 115.432696 \nL 93.419468 119.411453 \nL 103.163647 122.157815 \nL 112.907826 124.729031 \nL 122.652006 126.257894 \nL 132.396185 128.160013 \nL 142.140364 131.008397 \nL 151.884543 130.097788 \nL 161.628722 133.949505 \n\" clip-path=\"url(#p6d84b0af7d)\" style=\"fill: none; stroke: #1f77b4; stroke-width: 1.5; stroke-linecap: square\"/>\n   </g>\n   <g id=\"line2d_85\">\n    <path d=\"M 49.633125 61.385815 \nL 69.163125 88.568578 \nL 88.693125 97.180298 \nL 108.223125 90.616222 \nL 127.753125 101.53484 \nL 147.283125 87.808 \nL 166.813125 119.309028 \n\" clip-path=\"url(#p6d84b0af7d)\" style=\"fill: none; stroke-dasharray: 5.55,2.4; stroke-dashoffset: 0; stroke: #ff7f0e; stroke-width: 1.5\"/>\n   </g>\n   <g id=\"line2d_86\">\n    <path d=\"M 49.633125 52.671195 \nL 69.163125 41.31746 \nL 88.693125 40.168454 \nL 108.223125 42.894909 \nL 127.753125 37.889917 \nL 147.283125 44.550256 \n\" clip-path=\"url(#p6d84b0af7d)\" style=\"fill: none; stroke-dasharray: 9.6,2.4,1.5,2.4; stroke-dashoffset: 0; stroke: #2ca02c; stroke-width: 1.5\"/>\n   </g>\n   <g id=\"line2d_87\">\n    <path d=\"M 34.954394 13.5 \nL 44.698573 81.133663 \nL 54.442752 96.93165 \nL 64.186931 105.083804 \nL 73.93111 112.261649 \nL 83.675289 115.432696 \nL 93.419468 119.411453 \nL 103.163647 122.157815 \nL 112.907826 124.729031 \nL 122.652006 126.257894 \nL 132.396185 128.160013 \nL 142.140364 131.008397 \nL 151.884543 130.097788 \nL 161.628722 133.949505 \n\" clip-path=\"url(#p6d84b0af7d)\" style=\"fill: none; stroke: #1f77b4; stroke-width: 1.5; stroke-linecap: square\"/>\n   </g>\n   <g id=\"line2d_88\">\n    <path d=\"M 49.633125 61.385815 \nL 69.163125 88.568578 \nL 88.693125 97.180298 \nL 108.223125 90.616222 \nL 127.753125 101.53484 \nL 147.283125 87.808 \nL 166.813125 119.309028 \n\" clip-path=\"url(#p6d84b0af7d)\" style=\"fill: none; stroke-dasharray: 5.55,2.4; stroke-dashoffset: 0; stroke: #ff7f0e; stroke-width: 1.5\"/>\n   </g>\n   <g id=\"line2d_89\">\n    <path d=\"M 49.633125 52.671195 \nL 69.163125 41.31746 \nL 88.693125 40.168454 \nL 108.223125 42.894909 \nL 127.753125 37.889917 \nL 147.283125 44.550256 \nL 166.813125 32.807027 \n\" clip-path=\"url(#p6d84b0af7d)\" style=\"fill: none; stroke-dasharray: 9.6,2.4,1.5,2.4; stroke-dashoffset: 0; stroke: #2ca02c; stroke-width: 1.5\"/>\n   </g>\n   <g id=\"line2d_90\">\n    <path d=\"M 34.954394 13.5 \nL 44.698573 81.133663 \nL 54.442752 96.93165 \nL 64.186931 105.083804 \nL 73.93111 112.261649 \nL 83.675289 115.432696 \nL 93.419468 119.411453 \nL 103.163647 122.157815 \nL 112.907826 124.729031 \nL 122.652006 126.257894 \nL 132.396185 128.160013 \nL 142.140364 131.008397 \nL 151.884543 130.097788 \nL 161.628722 133.949505 \nL 171.372901 134.861814 \n\" clip-path=\"url(#p6d84b0af7d)\" style=\"fill: none; stroke: #1f77b4; stroke-width: 1.5; stroke-linecap: square\"/>\n   </g>\n   <g id=\"line2d_91\">\n    <path d=\"M 49.633125 61.385815 \nL 69.163125 88.568578 \nL 88.693125 97.180298 \nL 108.223125 90.616222 \nL 127.753125 101.53484 \nL 147.283125 87.808 \nL 166.813125 119.309028 \n\" clip-path=\"url(#p6d84b0af7d)\" style=\"fill: none; stroke-dasharray: 5.55,2.4; stroke-dashoffset: 0; stroke: #ff7f0e; stroke-width: 1.5\"/>\n   </g>\n   <g id=\"line2d_92\">\n    <path d=\"M 49.633125 52.671195 \nL 69.163125 41.31746 \nL 88.693125 40.168454 \nL 108.223125 42.894909 \nL 127.753125 37.889917 \nL 147.283125 44.550256 \nL 166.813125 32.807027 \n\" clip-path=\"url(#p6d84b0af7d)\" style=\"fill: none; stroke-dasharray: 9.6,2.4,1.5,2.4; stroke-dashoffset: 0; stroke: #2ca02c; stroke-width: 1.5\"/>\n   </g>\n   <g id=\"line2d_93\">\n    <path d=\"M 34.954394 13.5 \nL 44.698573 81.133663 \nL 54.442752 96.93165 \nL 64.186931 105.083804 \nL 73.93111 112.261649 \nL 83.675289 115.432696 \nL 93.419468 119.411453 \nL 103.163647 122.157815 \nL 112.907826 124.729031 \nL 122.652006 126.257894 \nL 132.396185 128.160013 \nL 142.140364 131.008397 \nL 151.884543 130.097788 \nL 161.628722 133.949505 \nL 171.372901 134.861814 \nL 181.11708 134.013944 \n\" clip-path=\"url(#p6d84b0af7d)\" style=\"fill: none; stroke: #1f77b4; stroke-width: 1.5; stroke-linecap: square\"/>\n   </g>\n   <g id=\"line2d_94\">\n    <path d=\"M 49.633125 61.385815 \nL 69.163125 88.568578 \nL 88.693125 97.180298 \nL 108.223125 90.616222 \nL 127.753125 101.53484 \nL 147.283125 87.808 \nL 166.813125 119.309028 \n\" clip-path=\"url(#p6d84b0af7d)\" style=\"fill: none; stroke-dasharray: 5.55,2.4; stroke-dashoffset: 0; stroke: #ff7f0e; stroke-width: 1.5\"/>\n   </g>\n   <g id=\"line2d_95\">\n    <path d=\"M 49.633125 52.671195 \nL 69.163125 41.31746 \nL 88.693125 40.168454 \nL 108.223125 42.894909 \nL 127.753125 37.889917 \nL 147.283125 44.550256 \nL 166.813125 32.807027 \n\" clip-path=\"url(#p6d84b0af7d)\" style=\"fill: none; stroke-dasharray: 9.6,2.4,1.5,2.4; stroke-dashoffset: 0; stroke: #2ca02c; stroke-width: 1.5\"/>\n   </g>\n   <g id=\"line2d_96\">\n    <path d=\"M 34.954394 13.5 \nL 44.698573 81.133663 \nL 54.442752 96.93165 \nL 64.186931 105.083804 \nL 73.93111 112.261649 \nL 83.675289 115.432696 \nL 93.419468 119.411453 \nL 103.163647 122.157815 \nL 112.907826 124.729031 \nL 122.652006 126.257894 \nL 132.396185 128.160013 \nL 142.140364 131.008397 \nL 151.884543 130.097788 \nL 161.628722 133.949505 \nL 171.372901 134.861814 \nL 181.11708 134.013944 \n\" clip-path=\"url(#p6d84b0af7d)\" style=\"fill: none; stroke: #1f77b4; stroke-width: 1.5; stroke-linecap: square\"/>\n   </g>\n   <g id=\"line2d_97\">\n    <path d=\"M 49.633125 61.385815 \nL 69.163125 88.568578 \nL 88.693125 97.180298 \nL 108.223125 90.616222 \nL 127.753125 101.53484 \nL 147.283125 87.808 \nL 166.813125 119.309028 \nL 186.343125 111.045844 \n\" clip-path=\"url(#p6d84b0af7d)\" style=\"fill: none; stroke-dasharray: 5.55,2.4; stroke-dashoffset: 0; stroke: #ff7f0e; stroke-width: 1.5\"/>\n   </g>\n   <g id=\"line2d_98\">\n    <path d=\"M 49.633125 52.671195 \nL 69.163125 41.31746 \nL 88.693125 40.168454 \nL 108.223125 42.894909 \nL 127.753125 37.889917 \nL 147.283125 44.550256 \nL 166.813125 32.807027 \n\" clip-path=\"url(#p6d84b0af7d)\" style=\"fill: none; stroke-dasharray: 9.6,2.4,1.5,2.4; stroke-dashoffset: 0; stroke: #2ca02c; stroke-width: 1.5\"/>\n   </g>\n   <g id=\"line2d_99\">\n    <path d=\"M 34.954394 13.5 \nL 44.698573 81.133663 \nL 54.442752 96.93165 \nL 64.186931 105.083804 \nL 73.93111 112.261649 \nL 83.675289 115.432696 \nL 93.419468 119.411453 \nL 103.163647 122.157815 \nL 112.907826 124.729031 \nL 122.652006 126.257894 \nL 132.396185 128.160013 \nL 142.140364 131.008397 \nL 151.884543 130.097788 \nL 161.628722 133.949505 \nL 171.372901 134.861814 \nL 181.11708 134.013944 \n\" clip-path=\"url(#p6d84b0af7d)\" style=\"fill: none; stroke: #1f77b4; stroke-width: 1.5; stroke-linecap: square\"/>\n   </g>\n   <g id=\"line2d_100\">\n    <path d=\"M 49.633125 61.385815 \nL 69.163125 88.568578 \nL 88.693125 97.180298 \nL 108.223125 90.616222 \nL 127.753125 101.53484 \nL 147.283125 87.808 \nL 166.813125 119.309028 \nL 186.343125 111.045844 \n\" clip-path=\"url(#p6d84b0af7d)\" style=\"fill: none; stroke-dasharray: 5.55,2.4; stroke-dashoffset: 0; stroke: #ff7f0e; stroke-width: 1.5\"/>\n   </g>\n   <g id=\"line2d_101\">\n    <path d=\"M 49.633125 52.671195 \nL 69.163125 41.31746 \nL 88.693125 40.168454 \nL 108.223125 42.894909 \nL 127.753125 37.889917 \nL 147.283125 44.550256 \nL 166.813125 32.807027 \nL 186.343125 34.832394 \n\" clip-path=\"url(#p6d84b0af7d)\" style=\"fill: none; stroke-dasharray: 9.6,2.4,1.5,2.4; stroke-dashoffset: 0; stroke: #2ca02c; stroke-width: 1.5\"/>\n   </g>\n   <g id=\"line2d_102\">\n    <path d=\"M 34.954394 13.5 \nL 44.698573 81.133663 \nL 54.442752 96.93165 \nL 64.186931 105.083804 \nL 73.93111 112.261649 \nL 83.675289 115.432696 \nL 93.419468 119.411453 \nL 103.163647 122.157815 \nL 112.907826 124.729031 \nL 122.652006 126.257894 \nL 132.396185 128.160013 \nL 142.140364 131.008397 \nL 151.884543 130.097788 \nL 161.628722 133.949505 \nL 171.372901 134.861814 \nL 181.11708 134.013944 \nL 190.861259 137.135906 \n\" clip-path=\"url(#p6d84b0af7d)\" style=\"fill: none; stroke: #1f77b4; stroke-width: 1.5; stroke-linecap: square\"/>\n   </g>\n   <g id=\"line2d_103\">\n    <path d=\"M 49.633125 61.385815 \nL 69.163125 88.568578 \nL 88.693125 97.180298 \nL 108.223125 90.616222 \nL 127.753125 101.53484 \nL 147.283125 87.808 \nL 166.813125 119.309028 \nL 186.343125 111.045844 \n\" clip-path=\"url(#p6d84b0af7d)\" style=\"fill: none; stroke-dasharray: 5.55,2.4; stroke-dashoffset: 0; stroke: #ff7f0e; stroke-width: 1.5\"/>\n   </g>\n   <g id=\"line2d_104\">\n    <path d=\"M 49.633125 52.671195 \nL 69.163125 41.31746 \nL 88.693125 40.168454 \nL 108.223125 42.894909 \nL 127.753125 37.889917 \nL 147.283125 44.550256 \nL 166.813125 32.807027 \nL 186.343125 34.832394 \n\" clip-path=\"url(#p6d84b0af7d)\" style=\"fill: none; stroke-dasharray: 9.6,2.4,1.5,2.4; stroke-dashoffset: 0; stroke: #2ca02c; stroke-width: 1.5\"/>\n   </g>\n   <g id=\"line2d_105\">\n    <path d=\"M 34.954394 13.5 \nL 44.698573 81.133663 \nL 54.442752 96.93165 \nL 64.186931 105.083804 \nL 73.93111 112.261649 \nL 83.675289 115.432696 \nL 93.419468 119.411453 \nL 103.163647 122.157815 \nL 112.907826 124.729031 \nL 122.652006 126.257894 \nL 132.396185 128.160013 \nL 142.140364 131.008397 \nL 151.884543 130.097788 \nL 161.628722 133.949505 \nL 171.372901 134.861814 \nL 181.11708 134.013944 \nL 190.861259 137.135906 \nL 200.605438 137.386542 \n\" clip-path=\"url(#p6d84b0af7d)\" style=\"fill: none; stroke: #1f77b4; stroke-width: 1.5; stroke-linecap: square\"/>\n   </g>\n   <g id=\"line2d_106\">\n    <path d=\"M 49.633125 61.385815 \nL 69.163125 88.568578 \nL 88.693125 97.180298 \nL 108.223125 90.616222 \nL 127.753125 101.53484 \nL 147.283125 87.808 \nL 166.813125 119.309028 \nL 186.343125 111.045844 \n\" clip-path=\"url(#p6d84b0af7d)\" style=\"fill: none; stroke-dasharray: 5.55,2.4; stroke-dashoffset: 0; stroke: #ff7f0e; stroke-width: 1.5\"/>\n   </g>\n   <g id=\"line2d_107\">\n    <path d=\"M 49.633125 52.671195 \nL 69.163125 41.31746 \nL 88.693125 40.168454 \nL 108.223125 42.894909 \nL 127.753125 37.889917 \nL 147.283125 44.550256 \nL 166.813125 32.807027 \nL 186.343125 34.832394 \n\" clip-path=\"url(#p6d84b0af7d)\" style=\"fill: none; stroke-dasharray: 9.6,2.4,1.5,2.4; stroke-dashoffset: 0; stroke: #2ca02c; stroke-width: 1.5\"/>\n   </g>\n   <g id=\"line2d_108\">\n    <path d=\"M 34.954394 13.5 \nL 44.698573 81.133663 \nL 54.442752 96.93165 \nL 64.186931 105.083804 \nL 73.93111 112.261649 \nL 83.675289 115.432696 \nL 93.419468 119.411453 \nL 103.163647 122.157815 \nL 112.907826 124.729031 \nL 122.652006 126.257894 \nL 132.396185 128.160013 \nL 142.140364 131.008397 \nL 151.884543 130.097788 \nL 161.628722 133.949505 \nL 171.372901 134.861814 \nL 181.11708 134.013944 \nL 190.861259 137.135906 \nL 200.605438 137.386542 \n\" clip-path=\"url(#p6d84b0af7d)\" style=\"fill: none; stroke: #1f77b4; stroke-width: 1.5; stroke-linecap: square\"/>\n   </g>\n   <g id=\"line2d_109\">\n    <path d=\"M 49.633125 61.385815 \nL 69.163125 88.568578 \nL 88.693125 97.180298 \nL 108.223125 90.616222 \nL 127.753125 101.53484 \nL 147.283125 87.808 \nL 166.813125 119.309028 \nL 186.343125 111.045844 \nL 205.873125 116.496501 \n\" clip-path=\"url(#p6d84b0af7d)\" style=\"fill: none; stroke-dasharray: 5.55,2.4; stroke-dashoffset: 0; stroke: #ff7f0e; stroke-width: 1.5\"/>\n   </g>\n   <g id=\"line2d_110\">\n    <path d=\"M 49.633125 52.671195 \nL 69.163125 41.31746 \nL 88.693125 40.168454 \nL 108.223125 42.894909 \nL 127.753125 37.889917 \nL 147.283125 44.550256 \nL 166.813125 32.807027 \nL 186.343125 34.832394 \n\" clip-path=\"url(#p6d84b0af7d)\" style=\"fill: none; stroke-dasharray: 9.6,2.4,1.5,2.4; stroke-dashoffset: 0; stroke: #2ca02c; stroke-width: 1.5\"/>\n   </g>\n   <g id=\"line2d_111\">\n    <path d=\"M 34.954394 13.5 \nL 44.698573 81.133663 \nL 54.442752 96.93165 \nL 64.186931 105.083804 \nL 73.93111 112.261649 \nL 83.675289 115.432696 \nL 93.419468 119.411453 \nL 103.163647 122.157815 \nL 112.907826 124.729031 \nL 122.652006 126.257894 \nL 132.396185 128.160013 \nL 142.140364 131.008397 \nL 151.884543 130.097788 \nL 161.628722 133.949505 \nL 171.372901 134.861814 \nL 181.11708 134.013944 \nL 190.861259 137.135906 \nL 200.605438 137.386542 \n\" clip-path=\"url(#p6d84b0af7d)\" style=\"fill: none; stroke: #1f77b4; stroke-width: 1.5; stroke-linecap: square\"/>\n   </g>\n   <g id=\"line2d_112\">\n    <path d=\"M 49.633125 61.385815 \nL 69.163125 88.568578 \nL 88.693125 97.180298 \nL 108.223125 90.616222 \nL 127.753125 101.53484 \nL 147.283125 87.808 \nL 166.813125 119.309028 \nL 186.343125 111.045844 \nL 205.873125 116.496501 \n\" clip-path=\"url(#p6d84b0af7d)\" style=\"fill: none; stroke-dasharray: 5.55,2.4; stroke-dashoffset: 0; stroke: #ff7f0e; stroke-width: 1.5\"/>\n   </g>\n   <g id=\"line2d_113\">\n    <path d=\"M 49.633125 52.671195 \nL 69.163125 41.31746 \nL 88.693125 40.168454 \nL 108.223125 42.894909 \nL 127.753125 37.889917 \nL 147.283125 44.550256 \nL 166.813125 32.807027 \nL 186.343125 34.832394 \nL 205.873125 32.592806 \n\" clip-path=\"url(#p6d84b0af7d)\" style=\"fill: none; stroke-dasharray: 9.6,2.4,1.5,2.4; stroke-dashoffset: 0; stroke: #2ca02c; stroke-width: 1.5\"/>\n   </g>\n   <g id=\"line2d_114\">\n    <path d=\"M 34.954394 13.5 \nL 44.698573 81.133663 \nL 54.442752 96.93165 \nL 64.186931 105.083804 \nL 73.93111 112.261649 \nL 83.675289 115.432696 \nL 93.419468 119.411453 \nL 103.163647 122.157815 \nL 112.907826 124.729031 \nL 122.652006 126.257894 \nL 132.396185 128.160013 \nL 142.140364 131.008397 \nL 151.884543 130.097788 \nL 161.628722 133.949505 \nL 171.372901 134.861814 \nL 181.11708 134.013944 \nL 190.861259 137.135906 \nL 200.605438 137.386542 \nL 210.349618 138.287173 \n\" clip-path=\"url(#p6d84b0af7d)\" style=\"fill: none; stroke: #1f77b4; stroke-width: 1.5; stroke-linecap: square\"/>\n   </g>\n   <g id=\"line2d_115\">\n    <path d=\"M 49.633125 61.385815 \nL 69.163125 88.568578 \nL 88.693125 97.180298 \nL 108.223125 90.616222 \nL 127.753125 101.53484 \nL 147.283125 87.808 \nL 166.813125 119.309028 \nL 186.343125 111.045844 \nL 205.873125 116.496501 \n\" clip-path=\"url(#p6d84b0af7d)\" style=\"fill: none; stroke-dasharray: 5.55,2.4; stroke-dashoffset: 0; stroke: #ff7f0e; stroke-width: 1.5\"/>\n   </g>\n   <g id=\"line2d_116\">\n    <path d=\"M 49.633125 52.671195 \nL 69.163125 41.31746 \nL 88.693125 40.168454 \nL 108.223125 42.894909 \nL 127.753125 37.889917 \nL 147.283125 44.550256 \nL 166.813125 32.807027 \nL 186.343125 34.832394 \nL 205.873125 32.592806 \n\" clip-path=\"url(#p6d84b0af7d)\" style=\"fill: none; stroke-dasharray: 9.6,2.4,1.5,2.4; stroke-dashoffset: 0; stroke: #2ca02c; stroke-width: 1.5\"/>\n   </g>\n   <g id=\"line2d_117\">\n    <path d=\"M 34.954394 13.5 \nL 44.698573 81.133663 \nL 54.442752 96.93165 \nL 64.186931 105.083804 \nL 73.93111 112.261649 \nL 83.675289 115.432696 \nL 93.419468 119.411453 \nL 103.163647 122.157815 \nL 112.907826 124.729031 \nL 122.652006 126.257894 \nL 132.396185 128.160013 \nL 142.140364 131.008397 \nL 151.884543 130.097788 \nL 161.628722 133.949505 \nL 171.372901 134.861814 \nL 181.11708 134.013944 \nL 190.861259 137.135906 \nL 200.605438 137.386542 \nL 210.349618 138.287173 \nL 220.093797 139.5 \n\" clip-path=\"url(#p6d84b0af7d)\" style=\"fill: none; stroke: #1f77b4; stroke-width: 1.5; stroke-linecap: square\"/>\n   </g>\n   <g id=\"line2d_118\">\n    <path d=\"M 49.633125 61.385815 \nL 69.163125 88.568578 \nL 88.693125 97.180298 \nL 108.223125 90.616222 \nL 127.753125 101.53484 \nL 147.283125 87.808 \nL 166.813125 119.309028 \nL 186.343125 111.045844 \nL 205.873125 116.496501 \n\" clip-path=\"url(#p6d84b0af7d)\" style=\"fill: none; stroke-dasharray: 5.55,2.4; stroke-dashoffset: 0; stroke: #ff7f0e; stroke-width: 1.5\"/>\n   </g>\n   <g id=\"line2d_119\">\n    <path d=\"M 49.633125 52.671195 \nL 69.163125 41.31746 \nL 88.693125 40.168454 \nL 108.223125 42.894909 \nL 127.753125 37.889917 \nL 147.283125 44.550256 \nL 166.813125 32.807027 \nL 186.343125 34.832394 \nL 205.873125 32.592806 \n\" clip-path=\"url(#p6d84b0af7d)\" style=\"fill: none; stroke-dasharray: 9.6,2.4,1.5,2.4; stroke-dashoffset: 0; stroke: #2ca02c; stroke-width: 1.5\"/>\n   </g>\n   <g id=\"line2d_120\">\n    <path d=\"M 34.954394 13.5 \nL 44.698573 81.133663 \nL 54.442752 96.93165 \nL 64.186931 105.083804 \nL 73.93111 112.261649 \nL 83.675289 115.432696 \nL 93.419468 119.411453 \nL 103.163647 122.157815 \nL 112.907826 124.729031 \nL 122.652006 126.257894 \nL 132.396185 128.160013 \nL 142.140364 131.008397 \nL 151.884543 130.097788 \nL 161.628722 133.949505 \nL 171.372901 134.861814 \nL 181.11708 134.013944 \nL 190.861259 137.135906 \nL 200.605438 137.386542 \nL 210.349618 138.287173 \nL 220.093797 139.5 \n\" clip-path=\"url(#p6d84b0af7d)\" style=\"fill: none; stroke: #1f77b4; stroke-width: 1.5; stroke-linecap: square\"/>\n   </g>\n   <g id=\"line2d_121\">\n    <path d=\"M 49.633125 61.385815 \nL 69.163125 88.568578 \nL 88.693125 97.180298 \nL 108.223125 90.616222 \nL 127.753125 101.53484 \nL 147.283125 87.808 \nL 166.813125 119.309028 \nL 186.343125 111.045844 \nL 205.873125 116.496501 \nL 225.403125 110.685387 \n\" clip-path=\"url(#p6d84b0af7d)\" style=\"fill: none; stroke-dasharray: 5.55,2.4; stroke-dashoffset: 0; stroke: #ff7f0e; stroke-width: 1.5\"/>\n   </g>\n   <g id=\"line2d_122\">\n    <path d=\"M 49.633125 52.671195 \nL 69.163125 41.31746 \nL 88.693125 40.168454 \nL 108.223125 42.894909 \nL 127.753125 37.889917 \nL 147.283125 44.550256 \nL 166.813125 32.807027 \nL 186.343125 34.832394 \nL 205.873125 32.592806 \n\" clip-path=\"url(#p6d84b0af7d)\" style=\"fill: none; stroke-dasharray: 9.6,2.4,1.5,2.4; stroke-dashoffset: 0; stroke: #2ca02c; stroke-width: 1.5\"/>\n   </g>\n   <g id=\"line2d_123\">\n    <path d=\"M 34.954394 13.5 \nL 44.698573 81.133663 \nL 54.442752 96.93165 \nL 64.186931 105.083804 \nL 73.93111 112.261649 \nL 83.675289 115.432696 \nL 93.419468 119.411453 \nL 103.163647 122.157815 \nL 112.907826 124.729031 \nL 122.652006 126.257894 \nL 132.396185 128.160013 \nL 142.140364 131.008397 \nL 151.884543 130.097788 \nL 161.628722 133.949505 \nL 171.372901 134.861814 \nL 181.11708 134.013944 \nL 190.861259 137.135906 \nL 200.605438 137.386542 \nL 210.349618 138.287173 \nL 220.093797 139.5 \n\" clip-path=\"url(#p6d84b0af7d)\" style=\"fill: none; stroke: #1f77b4; stroke-width: 1.5; stroke-linecap: square\"/>\n   </g>\n   <g id=\"line2d_124\">\n    <path d=\"M 49.633125 61.385815 \nL 69.163125 88.568578 \nL 88.693125 97.180298 \nL 108.223125 90.616222 \nL 127.753125 101.53484 \nL 147.283125 87.808 \nL 166.813125 119.309028 \nL 186.343125 111.045844 \nL 205.873125 116.496501 \nL 225.403125 110.685387 \n\" clip-path=\"url(#p6d84b0af7d)\" style=\"fill: none; stroke-dasharray: 5.55,2.4; stroke-dashoffset: 0; stroke: #ff7f0e; stroke-width: 1.5\"/>\n   </g>\n   <g id=\"line2d_125\">\n    <path d=\"M 49.633125 52.671195 \nL 69.163125 41.31746 \nL 88.693125 40.168454 \nL 108.223125 42.894909 \nL 127.753125 37.889917 \nL 147.283125 44.550256 \nL 166.813125 32.807027 \nL 186.343125 34.832394 \nL 205.873125 32.592806 \nL 225.403125 36.701962 \n\" clip-path=\"url(#p6d84b0af7d)\" style=\"fill: none; stroke-dasharray: 9.6,2.4,1.5,2.4; stroke-dashoffset: 0; stroke: #2ca02c; stroke-width: 1.5\"/>\n   </g>\n   <g id=\"patch_3\">\n    <path d=\"M 30.103125 145.8 \nL 30.103125 7.2 \n\" style=\"fill: none; stroke: #000000; stroke-width: 0.8; stroke-linejoin: miter; stroke-linecap: square\"/>\n   </g>\n   <g id=\"patch_4\">\n    <path d=\"M 225.403125 145.8 \nL 225.403125 7.2 \n\" style=\"fill: none; stroke: #000000; stroke-width: 0.8; stroke-linejoin: miter; stroke-linecap: square\"/>\n   </g>\n   <g id=\"patch_5\">\n    <path d=\"M 30.103125 145.8 \nL 225.403125 145.8 \n\" style=\"fill: none; stroke: #000000; stroke-width: 0.8; stroke-linejoin: miter; stroke-linecap: square\"/>\n   </g>\n   <g id=\"patch_6\">\n    <path d=\"M 30.103125 7.2 \nL 225.403125 7.2 \n\" style=\"fill: none; stroke: #000000; stroke-width: 0.8; stroke-linejoin: miter; stroke-linecap: square\"/>\n   </g>\n   <g id=\"legend_1\">\n    <g id=\"patch_7\">\n     <path d=\"M 138.8125 100.434375 \nL 218.403125 100.434375 \nQ 220.403125 100.434375 220.403125 98.434375 \nL 220.403125 54.565625 \nQ 220.403125 52.565625 218.403125 52.565625 \nL 138.8125 52.565625 \nQ 136.8125 52.565625 136.8125 54.565625 \nL 136.8125 98.434375 \nQ 136.8125 100.434375 138.8125 100.434375 \nz\n\" style=\"fill: #ffffff; opacity: 0.8; stroke: #cccccc; stroke-linejoin: miter\"/>\n    </g>\n    <g id=\"line2d_126\">\n     <path d=\"M 140.8125 60.664063 \nL 150.8125 60.664063 \nL 160.8125 60.664063 \n\" style=\"fill: none; stroke: #1f77b4; stroke-width: 1.5; stroke-linecap: square\"/>\n    </g>\n    <g id=\"text_11\">\n     <!-- train_loss -->\n     <g transform=\"translate(168.8125 64.164063) scale(0.1 -0.1)\">\n      <defs>\n       <path id=\"DejaVuSans-74\" d=\"M 1172 4494 \nL 1172 3500 \nL 2356 3500 \nL 2356 3053 \nL 1172 3053 \nL 1172 1153 \nQ 1172 725 1289 603 \nQ 1406 481 1766 481 \nL 2356 481 \nL 2356 0 \nL 1766 0 \nQ 1100 0 847 248 \nQ 594 497 594 1153 \nL 594 3053 \nL 172 3053 \nL 172 3500 \nL 594 3500 \nL 594 4494 \nL 1172 4494 \nz\n\" transform=\"scale(0.015625)\"/>\n       <path id=\"DejaVuSans-72\" d=\"M 2631 2963 \nQ 2534 3019 2420 3045 \nQ 2306 3072 2169 3072 \nQ 1681 3072 1420 2755 \nQ 1159 2438 1159 1844 \nL 1159 0 \nL 581 0 \nL 581 3500 \nL 1159 3500 \nL 1159 2956 \nQ 1341 3275 1631 3429 \nQ 1922 3584 2338 3584 \nQ 2397 3584 2469 3576 \nQ 2541 3569 2628 3553 \nL 2631 2963 \nz\n\" transform=\"scale(0.015625)\"/>\n       <path id=\"DejaVuSans-61\" d=\"M 2194 1759 \nQ 1497 1759 1228 1600 \nQ 959 1441 959 1056 \nQ 959 750 1161 570 \nQ 1363 391 1709 391 \nQ 2188 391 2477 730 \nQ 2766 1069 2766 1631 \nL 2766 1759 \nL 2194 1759 \nz\nM 3341 1997 \nL 3341 0 \nL 2766 0 \nL 2766 531 \nQ 2569 213 2275 61 \nQ 1981 -91 1556 -91 \nQ 1019 -91 701 211 \nQ 384 513 384 1019 \nQ 384 1609 779 1909 \nQ 1175 2209 1959 2209 \nL 2766 2209 \nL 2766 2266 \nQ 2766 2663 2505 2880 \nQ 2244 3097 1772 3097 \nQ 1472 3097 1187 3025 \nQ 903 2953 641 2809 \nL 641 3341 \nQ 956 3463 1253 3523 \nQ 1550 3584 1831 3584 \nQ 2591 3584 2966 3190 \nQ 3341 2797 3341 1997 \nz\n\" transform=\"scale(0.015625)\"/>\n       <path id=\"DejaVuSans-69\" d=\"M 603 3500 \nL 1178 3500 \nL 1178 0 \nL 603 0 \nL 603 3500 \nz\nM 603 4863 \nL 1178 4863 \nL 1178 4134 \nL 603 4134 \nL 603 4863 \nz\n\" transform=\"scale(0.015625)\"/>\n       <path id=\"DejaVuSans-6e\" d=\"M 3513 2113 \nL 3513 0 \nL 2938 0 \nL 2938 2094 \nQ 2938 2591 2744 2837 \nQ 2550 3084 2163 3084 \nQ 1697 3084 1428 2787 \nQ 1159 2491 1159 1978 \nL 1159 0 \nL 581 0 \nL 581 3500 \nL 1159 3500 \nL 1159 2956 \nQ 1366 3272 1645 3428 \nQ 1925 3584 2291 3584 \nQ 2894 3584 3203 3211 \nQ 3513 2838 3513 2113 \nz\n\" transform=\"scale(0.015625)\"/>\n       <path id=\"DejaVuSans-5f\" d=\"M 3263 -1063 \nL 3263 -1509 \nL -63 -1509 \nL -63 -1063 \nL 3263 -1063 \nz\n\" transform=\"scale(0.015625)\"/>\n       <path id=\"DejaVuSans-6c\" d=\"M 603 4863 \nL 1178 4863 \nL 1178 0 \nL 603 0 \nL 603 4863 \nz\n\" transform=\"scale(0.015625)\"/>\n       <path id=\"DejaVuSans-73\" d=\"M 2834 3397 \nL 2834 2853 \nQ 2591 2978 2328 3040 \nQ 2066 3103 1784 3103 \nQ 1356 3103 1142 2972 \nQ 928 2841 928 2578 \nQ 928 2378 1081 2264 \nQ 1234 2150 1697 2047 \nL 1894 2003 \nQ 2506 1872 2764 1633 \nQ 3022 1394 3022 966 \nQ 3022 478 2636 193 \nQ 2250 -91 1575 -91 \nQ 1294 -91 989 -36 \nQ 684 19 347 128 \nL 347 722 \nQ 666 556 975 473 \nQ 1284 391 1588 391 \nQ 1994 391 2212 530 \nQ 2431 669 2431 922 \nQ 2431 1156 2273 1281 \nQ 2116 1406 1581 1522 \nL 1381 1569 \nQ 847 1681 609 1914 \nQ 372 2147 372 2553 \nQ 372 3047 722 3315 \nQ 1072 3584 1716 3584 \nQ 2034 3584 2315 3537 \nQ 2597 3491 2834 3397 \nz\n\" transform=\"scale(0.015625)\"/>\n      </defs>\n      <use xlink:href=\"#DejaVuSans-74\"/>\n      <use xlink:href=\"#DejaVuSans-72\" x=\"39.208984\"/>\n      <use xlink:href=\"#DejaVuSans-61\" x=\"80.322266\"/>\n      <use xlink:href=\"#DejaVuSans-69\" x=\"141.601562\"/>\n      <use xlink:href=\"#DejaVuSans-6e\" x=\"169.384766\"/>\n      <use xlink:href=\"#DejaVuSans-5f\" x=\"232.763672\"/>\n      <use xlink:href=\"#DejaVuSans-6c\" x=\"282.763672\"/>\n      <use xlink:href=\"#DejaVuSans-6f\" x=\"310.546875\"/>\n      <use xlink:href=\"#DejaVuSans-73\" x=\"371.728516\"/>\n      <use xlink:href=\"#DejaVuSans-73\" x=\"423.828125\"/>\n     </g>\n    </g>\n    <g id=\"line2d_127\">\n     <path d=\"M 140.8125 75.620313 \nL 150.8125 75.620313 \nL 160.8125 75.620313 \n\" style=\"fill: none; stroke-dasharray: 5.55,2.4; stroke-dashoffset: 0; stroke: #ff7f0e; stroke-width: 1.5\"/>\n    </g>\n    <g id=\"text_12\">\n     <!-- val_loss -->\n     <g transform=\"translate(168.8125 79.120313) scale(0.1 -0.1)\">\n      <defs>\n       <path id=\"DejaVuSans-76\" d=\"M 191 3500 \nL 800 3500 \nL 1894 563 \nL 2988 3500 \nL 3597 3500 \nL 2284 0 \nL 1503 0 \nL 191 3500 \nz\n\" transform=\"scale(0.015625)\"/>\n      </defs>\n      <use xlink:href=\"#DejaVuSans-76\"/>\n      <use xlink:href=\"#DejaVuSans-61\" x=\"59.179688\"/>\n      <use xlink:href=\"#DejaVuSans-6c\" x=\"120.458984\"/>\n      <use xlink:href=\"#DejaVuSans-5f\" x=\"148.242188\"/>\n      <use xlink:href=\"#DejaVuSans-6c\" x=\"198.242188\"/>\n      <use xlink:href=\"#DejaVuSans-6f\" x=\"226.025391\"/>\n      <use xlink:href=\"#DejaVuSans-73\" x=\"287.207031\"/>\n      <use xlink:href=\"#DejaVuSans-73\" x=\"339.306641\"/>\n     </g>\n    </g>\n    <g id=\"line2d_128\">\n     <path d=\"M 140.8125 90.576563 \nL 150.8125 90.576563 \nL 160.8125 90.576563 \n\" style=\"fill: none; stroke-dasharray: 9.6,2.4,1.5,2.4; stroke-dashoffset: 0; stroke: #2ca02c; stroke-width: 1.5\"/>\n    </g>\n    <g id=\"text_13\">\n     <!-- val_acc -->\n     <g transform=\"translate(168.8125 94.076563) scale(0.1 -0.1)\">\n      <use xlink:href=\"#DejaVuSans-76\"/>\n      <use xlink:href=\"#DejaVuSans-61\" x=\"59.179688\"/>\n      <use xlink:href=\"#DejaVuSans-6c\" x=\"120.458984\"/>\n      <use xlink:href=\"#DejaVuSans-5f\" x=\"148.242188\"/>\n      <use xlink:href=\"#DejaVuSans-61\" x=\"198.242188\"/>\n      <use xlink:href=\"#DejaVuSans-63\" x=\"259.521484\"/>\n      <use xlink:href=\"#DejaVuSans-63\" x=\"314.501953\"/>\n     </g>\n    </g>\n   </g>\n  </g>\n </g>\n <defs>\n  <clipPath id=\"p6d84b0af7d\">\n   <rect x=\"30.103125\" y=\"7.2\" width=\"195.3\" height=\"138.6\"/>\n  </clipPath>\n </defs>\n</svg>\n"
          },
          "metadata": {}
        }
      ]
    },
    {
      "cell_type": "markdown",
      "source": [
        "## Exercises"
      ],
      "metadata": {
        "id": "jSttshkQQyPI"
      }
    },
    {
      "cell_type": "markdown",
      "source": [
        "**1. Should we remove the bias parameter from the fully connected layer or the convolutional layer before the batch normalization? Why?**"
      ],
      "metadata": {
        "id": "NhbbjclwQwDY"
      }
    },
    {
      "cell_type": "markdown",
      "source": [
        "\n",
        "Yes, it is generally recommended to remove the bias parameter from both the fully connected layer and the convolutional layer before batch normalization.\n",
        "\n",
        "Reason:\n",
        "Batch normalization (BN) subtracts the mean and divides by the standard deviation of the inputs, which effectively normalizes the input activations. Since the bias term (learned offset) in the layer is nullified by this normalization, the bias becomes redundant and can be safely removed. This reduces the number of parameters and speeds up training without impacting the model's performance.\n",
        "\n",
        "Thus, removing the bias prevents redundancy and unnecessary computations."
      ],
      "metadata": {
        "id": "1-WMkXYVQ62c"
      }
    },
    {
      "cell_type": "markdown",
      "source": [
        "**2. Compare the learning rates for LeNet with and without batch normalization.**\n",
        "\n",
        "* **Plot the increase in validation accuracy.**"
      ],
      "metadata": {
        "id": "vRCW0WwtRAIc"
      }
    },
    {
      "cell_type": "code",
      "source": [
        "import matplotlib.pyplot as plt\n",
        "\n",
        "# Data hipotesis untuk akurasi validasi pada berbagai learning rate\n",
        "lr_range = [0.001, 0.01, 0.05, 0.1, 0.2]\n",
        "val_acc_bn = [0.85, 0.88, 0.90, 0.92, 0.80]  # LeNet dengan Batch Norm\n",
        "val_acc_no_bn = [0.80, 0.82, 0.83, 0.78, 0.65]  # LeNet tanpa Batch Norm\n",
        "\n",
        "# Plot Akurasi Validasi\n",
        "plt.figure(figsize=(8, 6))\n",
        "plt.plot(lr_range, val_acc_bn, label='Dengan Batch Norm', marker='o')\n",
        "plt.plot(lr_range, val_acc_no_bn, label='Tanpa Batch Norm', marker='x')\n",
        "plt.xlabel('Learning Rate')\n",
        "plt.ylabel('Akurasi Validasi')\n",
        "plt.title('Learning Rate vs Akurasi Validasi untuk LeNet')\n",
        "plt.legend()\n",
        "plt.grid(True)\n",
        "plt.show()\n"
      ],
      "metadata": {
        "colab": {
          "base_uri": "https://localhost:8080/",
          "height": 545
        },
        "id": "Tm3-p9_jdb01",
        "outputId": "23f65501-648a-4548-b0f4-fc8366f5f918"
      },
      "execution_count": 62,
      "outputs": [
        {
          "output_type": "display_data",
          "data": {
            "text/plain": [
              "<Figure size 800x600 with 1 Axes>"
            ],
            "image/svg+xml": "<?xml version=\"1.0\" encoding=\"utf-8\" standalone=\"no\"?>\n<!DOCTYPE svg PUBLIC \"-//W3C//DTD SVG 1.1//EN\"\n  \"http://www.w3.org/Graphics/SVG/1.1/DTD/svg11.dtd\">\n<svg xmlns:xlink=\"http://www.w3.org/1999/xlink\" width=\"503.74375pt\" height=\"392.514375pt\" viewBox=\"0 0 503.74375 392.514375\" xmlns=\"http://www.w3.org/2000/svg\" version=\"1.1\">\n <metadata>\n  <rdf:RDF xmlns:dc=\"http://purl.org/dc/elements/1.1/\" xmlns:cc=\"http://creativecommons.org/ns#\" xmlns:rdf=\"http://www.w3.org/1999/02/22-rdf-syntax-ns#\">\n   <cc:Work>\n    <dc:type rdf:resource=\"http://purl.org/dc/dcmitype/StillImage\"/>\n    <dc:date>2024-10-05T16:30:34.515352</dc:date>\n    <dc:format>image/svg+xml</dc:format>\n    <dc:creator>\n     <cc:Agent>\n      <dc:title>Matplotlib v3.7.2, https://matplotlib.org/</dc:title>\n     </cc:Agent>\n    </dc:creator>\n   </cc:Work>\n  </rdf:RDF>\n </metadata>\n <defs>\n  <style type=\"text/css\">*{stroke-linejoin: round; stroke-linecap: butt}</style>\n </defs>\n <g id=\"figure_1\">\n  <g id=\"patch_1\">\n   <path d=\"M 0 392.514375 \nL 503.74375 392.514375 \nL 503.74375 0 \nL 0 0 \nz\n\" style=\"fill: #ffffff\"/>\n  </g>\n  <g id=\"axes_1\">\n   <g id=\"patch_2\">\n    <path d=\"M 50.14375 354.958125 \nL 496.54375 354.958125 \nL 496.54375 22.318125 \nL 50.14375 22.318125 \nz\n\" style=\"fill: #ffffff\"/>\n   </g>\n   <g id=\"matplotlib.axis_1\">\n    <g id=\"xtick_1\">\n     <g id=\"line2d_1\">\n      <path d=\"M 68.395372 354.958125 \nL 68.395372 22.318125 \n\" clip-path=\"url(#pbc6f1c2f73)\" style=\"fill: none; stroke: #b0b0b0; stroke-width: 0.8; stroke-linecap: square\"/>\n     </g>\n     <g id=\"line2d_2\">\n      <defs>\n       <path id=\"m6f531fc870\" d=\"M 0 0 \nL 0 3.5 \n\" style=\"stroke: #000000; stroke-width: 0.8\"/>\n      </defs>\n      <g>\n       <use xlink:href=\"#m6f531fc870\" x=\"68.395372\" y=\"354.958125\" style=\"stroke: #000000; stroke-width: 0.8\"/>\n      </g>\n     </g>\n     <g id=\"text_1\">\n      <!-- 0.000 -->\n      <g transform=\"translate(54.081309 369.556562) scale(0.1 -0.1)\">\n       <defs>\n        <path id=\"DejaVuSans-30\" d=\"M 2034 4250 \nQ 1547 4250 1301 3770 \nQ 1056 3291 1056 2328 \nQ 1056 1369 1301 889 \nQ 1547 409 2034 409 \nQ 2525 409 2770 889 \nQ 3016 1369 3016 2328 \nQ 3016 3291 2770 3770 \nQ 2525 4250 2034 4250 \nz\nM 2034 4750 \nQ 2819 4750 3233 4129 \nQ 3647 3509 3647 2328 \nQ 3647 1150 3233 529 \nQ 2819 -91 2034 -91 \nQ 1250 -91 836 529 \nQ 422 1150 422 2328 \nQ 422 3509 836 4129 \nQ 1250 4750 2034 4750 \nz\n\" transform=\"scale(0.015625)\"/>\n        <path id=\"DejaVuSans-2e\" d=\"M 684 794 \nL 1344 794 \nL 1344 0 \nL 684 0 \nL 684 794 \nz\n\" transform=\"scale(0.015625)\"/>\n       </defs>\n       <use xlink:href=\"#DejaVuSans-30\"/>\n       <use xlink:href=\"#DejaVuSans-2e\" x=\"63.623047\"/>\n       <use xlink:href=\"#DejaVuSans-30\" x=\"95.410156\"/>\n       <use xlink:href=\"#DejaVuSans-30\" x=\"159.033203\"/>\n       <use xlink:href=\"#DejaVuSans-30\" x=\"222.65625\"/>\n      </g>\n     </g>\n    </g>\n    <g id=\"xtick_2\">\n     <g id=\"line2d_3\">\n      <path d=\"M 119.377555 354.958125 \nL 119.377555 22.318125 \n\" clip-path=\"url(#pbc6f1c2f73)\" style=\"fill: none; stroke: #b0b0b0; stroke-width: 0.8; stroke-linecap: square\"/>\n     </g>\n     <g id=\"line2d_4\">\n      <g>\n       <use xlink:href=\"#m6f531fc870\" x=\"119.377555\" y=\"354.958125\" style=\"stroke: #000000; stroke-width: 0.8\"/>\n      </g>\n     </g>\n     <g id=\"text_2\">\n      <!-- 0.025 -->\n      <g transform=\"translate(105.063493 369.556562) scale(0.1 -0.1)\">\n       <defs>\n        <path id=\"DejaVuSans-32\" d=\"M 1228 531 \nL 3431 531 \nL 3431 0 \nL 469 0 \nL 469 531 \nQ 828 903 1448 1529 \nQ 2069 2156 2228 2338 \nQ 2531 2678 2651 2914 \nQ 2772 3150 2772 3378 \nQ 2772 3750 2511 3984 \nQ 2250 4219 1831 4219 \nQ 1534 4219 1204 4116 \nQ 875 4013 500 3803 \nL 500 4441 \nQ 881 4594 1212 4672 \nQ 1544 4750 1819 4750 \nQ 2544 4750 2975 4387 \nQ 3406 4025 3406 3419 \nQ 3406 3131 3298 2873 \nQ 3191 2616 2906 2266 \nQ 2828 2175 2409 1742 \nQ 1991 1309 1228 531 \nz\n\" transform=\"scale(0.015625)\"/>\n        <path id=\"DejaVuSans-35\" d=\"M 691 4666 \nL 3169 4666 \nL 3169 4134 \nL 1269 4134 \nL 1269 2991 \nQ 1406 3038 1543 3061 \nQ 1681 3084 1819 3084 \nQ 2600 3084 3056 2656 \nQ 3513 2228 3513 1497 \nQ 3513 744 3044 326 \nQ 2575 -91 1722 -91 \nQ 1428 -91 1123 -41 \nQ 819 9 494 109 \nL 494 744 \nQ 775 591 1075 516 \nQ 1375 441 1709 441 \nQ 2250 441 2565 725 \nQ 2881 1009 2881 1497 \nQ 2881 1984 2565 2268 \nQ 2250 2553 1709 2553 \nQ 1456 2553 1204 2497 \nQ 953 2441 691 2322 \nL 691 4666 \nz\n\" transform=\"scale(0.015625)\"/>\n       </defs>\n       <use xlink:href=\"#DejaVuSans-30\"/>\n       <use xlink:href=\"#DejaVuSans-2e\" x=\"63.623047\"/>\n       <use xlink:href=\"#DejaVuSans-30\" x=\"95.410156\"/>\n       <use xlink:href=\"#DejaVuSans-32\" x=\"159.033203\"/>\n       <use xlink:href=\"#DejaVuSans-35\" x=\"222.65625\"/>\n      </g>\n     </g>\n    </g>\n    <g id=\"xtick_3\">\n     <g id=\"line2d_5\">\n      <path d=\"M 170.359739 354.958125 \nL 170.359739 22.318125 \n\" clip-path=\"url(#pbc6f1c2f73)\" style=\"fill: none; stroke: #b0b0b0; stroke-width: 0.8; stroke-linecap: square\"/>\n     </g>\n     <g id=\"line2d_6\">\n      <g>\n       <use xlink:href=\"#m6f531fc870\" x=\"170.359739\" y=\"354.958125\" style=\"stroke: #000000; stroke-width: 0.8\"/>\n      </g>\n     </g>\n     <g id=\"text_3\">\n      <!-- 0.050 -->\n      <g transform=\"translate(156.045677 369.556562) scale(0.1 -0.1)\">\n       <use xlink:href=\"#DejaVuSans-30\"/>\n       <use xlink:href=\"#DejaVuSans-2e\" x=\"63.623047\"/>\n       <use xlink:href=\"#DejaVuSans-30\" x=\"95.410156\"/>\n       <use xlink:href=\"#DejaVuSans-35\" x=\"159.033203\"/>\n       <use xlink:href=\"#DejaVuSans-30\" x=\"222.65625\"/>\n      </g>\n     </g>\n    </g>\n    <g id=\"xtick_4\">\n     <g id=\"line2d_7\">\n      <path d=\"M 221.341923 354.958125 \nL 221.341923 22.318125 \n\" clip-path=\"url(#pbc6f1c2f73)\" style=\"fill: none; stroke: #b0b0b0; stroke-width: 0.8; stroke-linecap: square\"/>\n     </g>\n     <g id=\"line2d_8\">\n      <g>\n       <use xlink:href=\"#m6f531fc870\" x=\"221.341923\" y=\"354.958125\" style=\"stroke: #000000; stroke-width: 0.8\"/>\n      </g>\n     </g>\n     <g id=\"text_4\">\n      <!-- 0.075 -->\n      <g transform=\"translate(207.02786 369.556562) scale(0.1 -0.1)\">\n       <defs>\n        <path id=\"DejaVuSans-37\" d=\"M 525 4666 \nL 3525 4666 \nL 3525 4397 \nL 1831 0 \nL 1172 0 \nL 2766 4134 \nL 525 4134 \nL 525 4666 \nz\n\" transform=\"scale(0.015625)\"/>\n       </defs>\n       <use xlink:href=\"#DejaVuSans-30\"/>\n       <use xlink:href=\"#DejaVuSans-2e\" x=\"63.623047\"/>\n       <use xlink:href=\"#DejaVuSans-30\" x=\"95.410156\"/>\n       <use xlink:href=\"#DejaVuSans-37\" x=\"159.033203\"/>\n       <use xlink:href=\"#DejaVuSans-35\" x=\"222.65625\"/>\n      </g>\n     </g>\n    </g>\n    <g id=\"xtick_5\">\n     <g id=\"line2d_9\">\n      <path d=\"M 272.324106 354.958125 \nL 272.324106 22.318125 \n\" clip-path=\"url(#pbc6f1c2f73)\" style=\"fill: none; stroke: #b0b0b0; stroke-width: 0.8; stroke-linecap: square\"/>\n     </g>\n     <g id=\"line2d_10\">\n      <g>\n       <use xlink:href=\"#m6f531fc870\" x=\"272.324106\" y=\"354.958125\" style=\"stroke: #000000; stroke-width: 0.8\"/>\n      </g>\n     </g>\n     <g id=\"text_5\">\n      <!-- 0.100 -->\n      <g transform=\"translate(258.010044 369.556562) scale(0.1 -0.1)\">\n       <defs>\n        <path id=\"DejaVuSans-31\" d=\"M 794 531 \nL 1825 531 \nL 1825 4091 \nL 703 3866 \nL 703 4441 \nL 1819 4666 \nL 2450 4666 \nL 2450 531 \nL 3481 531 \nL 3481 0 \nL 794 0 \nL 794 531 \nz\n\" transform=\"scale(0.015625)\"/>\n       </defs>\n       <use xlink:href=\"#DejaVuSans-30\"/>\n       <use xlink:href=\"#DejaVuSans-2e\" x=\"63.623047\"/>\n       <use xlink:href=\"#DejaVuSans-31\" x=\"95.410156\"/>\n       <use xlink:href=\"#DejaVuSans-30\" x=\"159.033203\"/>\n       <use xlink:href=\"#DejaVuSans-30\" x=\"222.65625\"/>\n      </g>\n     </g>\n    </g>\n    <g id=\"xtick_6\">\n     <g id=\"line2d_11\">\n      <path d=\"M 323.30629 354.958125 \nL 323.30629 22.318125 \n\" clip-path=\"url(#pbc6f1c2f73)\" style=\"fill: none; stroke: #b0b0b0; stroke-width: 0.8; stroke-linecap: square\"/>\n     </g>\n     <g id=\"line2d_12\">\n      <g>\n       <use xlink:href=\"#m6f531fc870\" x=\"323.30629\" y=\"354.958125\" style=\"stroke: #000000; stroke-width: 0.8\"/>\n      </g>\n     </g>\n     <g id=\"text_6\">\n      <!-- 0.125 -->\n      <g transform=\"translate(308.992227 369.556562) scale(0.1 -0.1)\">\n       <use xlink:href=\"#DejaVuSans-30\"/>\n       <use xlink:href=\"#DejaVuSans-2e\" x=\"63.623047\"/>\n       <use xlink:href=\"#DejaVuSans-31\" x=\"95.410156\"/>\n       <use xlink:href=\"#DejaVuSans-32\" x=\"159.033203\"/>\n       <use xlink:href=\"#DejaVuSans-35\" x=\"222.65625\"/>\n      </g>\n     </g>\n    </g>\n    <g id=\"xtick_7\">\n     <g id=\"line2d_13\">\n      <path d=\"M 374.288474 354.958125 \nL 374.288474 22.318125 \n\" clip-path=\"url(#pbc6f1c2f73)\" style=\"fill: none; stroke: #b0b0b0; stroke-width: 0.8; stroke-linecap: square\"/>\n     </g>\n     <g id=\"line2d_14\">\n      <g>\n       <use xlink:href=\"#m6f531fc870\" x=\"374.288474\" y=\"354.958125\" style=\"stroke: #000000; stroke-width: 0.8\"/>\n      </g>\n     </g>\n     <g id=\"text_7\">\n      <!-- 0.150 -->\n      <g transform=\"translate(359.974411 369.556562) scale(0.1 -0.1)\">\n       <use xlink:href=\"#DejaVuSans-30\"/>\n       <use xlink:href=\"#DejaVuSans-2e\" x=\"63.623047\"/>\n       <use xlink:href=\"#DejaVuSans-31\" x=\"95.410156\"/>\n       <use xlink:href=\"#DejaVuSans-35\" x=\"159.033203\"/>\n       <use xlink:href=\"#DejaVuSans-30\" x=\"222.65625\"/>\n      </g>\n     </g>\n    </g>\n    <g id=\"xtick_8\">\n     <g id=\"line2d_15\">\n      <path d=\"M 425.270657 354.958125 \nL 425.270657 22.318125 \n\" clip-path=\"url(#pbc6f1c2f73)\" style=\"fill: none; stroke: #b0b0b0; stroke-width: 0.8; stroke-linecap: square\"/>\n     </g>\n     <g id=\"line2d_16\">\n      <g>\n       <use xlink:href=\"#m6f531fc870\" x=\"425.270657\" y=\"354.958125\" style=\"stroke: #000000; stroke-width: 0.8\"/>\n      </g>\n     </g>\n     <g id=\"text_8\">\n      <!-- 0.175 -->\n      <g transform=\"translate(410.956595 369.556562) scale(0.1 -0.1)\">\n       <use xlink:href=\"#DejaVuSans-30\"/>\n       <use xlink:href=\"#DejaVuSans-2e\" x=\"63.623047\"/>\n       <use xlink:href=\"#DejaVuSans-31\" x=\"95.410156\"/>\n       <use xlink:href=\"#DejaVuSans-37\" x=\"159.033203\"/>\n       <use xlink:href=\"#DejaVuSans-35\" x=\"222.65625\"/>\n      </g>\n     </g>\n    </g>\n    <g id=\"xtick_9\">\n     <g id=\"line2d_17\">\n      <path d=\"M 476.252841 354.958125 \nL 476.252841 22.318125 \n\" clip-path=\"url(#pbc6f1c2f73)\" style=\"fill: none; stroke: #b0b0b0; stroke-width: 0.8; stroke-linecap: square\"/>\n     </g>\n     <g id=\"line2d_18\">\n      <g>\n       <use xlink:href=\"#m6f531fc870\" x=\"476.252841\" y=\"354.958125\" style=\"stroke: #000000; stroke-width: 0.8\"/>\n      </g>\n     </g>\n     <g id=\"text_9\">\n      <!-- 0.200 -->\n      <g transform=\"translate(461.938778 369.556562) scale(0.1 -0.1)\">\n       <use xlink:href=\"#DejaVuSans-30\"/>\n       <use xlink:href=\"#DejaVuSans-2e\" x=\"63.623047\"/>\n       <use xlink:href=\"#DejaVuSans-32\" x=\"95.410156\"/>\n       <use xlink:href=\"#DejaVuSans-30\" x=\"159.033203\"/>\n       <use xlink:href=\"#DejaVuSans-30\" x=\"222.65625\"/>\n      </g>\n     </g>\n    </g>\n    <g id=\"text_10\">\n     <!-- Learning Rate -->\n     <g transform=\"translate(238.584375 383.234687) scale(0.1 -0.1)\">\n      <defs>\n       <path id=\"DejaVuSans-4c\" d=\"M 628 4666 \nL 1259 4666 \nL 1259 531 \nL 3531 531 \nL 3531 0 \nL 628 0 \nL 628 4666 \nz\n\" transform=\"scale(0.015625)\"/>\n       <path id=\"DejaVuSans-65\" d=\"M 3597 1894 \nL 3597 1613 \nL 953 1613 \nQ 991 1019 1311 708 \nQ 1631 397 2203 397 \nQ 2534 397 2845 478 \nQ 3156 559 3463 722 \nL 3463 178 \nQ 3153 47 2828 -22 \nQ 2503 -91 2169 -91 \nQ 1331 -91 842 396 \nQ 353 884 353 1716 \nQ 353 2575 817 3079 \nQ 1281 3584 2069 3584 \nQ 2775 3584 3186 3129 \nQ 3597 2675 3597 1894 \nz\nM 3022 2063 \nQ 3016 2534 2758 2815 \nQ 2500 3097 2075 3097 \nQ 1594 3097 1305 2825 \nQ 1016 2553 972 2059 \nL 3022 2063 \nz\n\" transform=\"scale(0.015625)\"/>\n       <path id=\"DejaVuSans-61\" d=\"M 2194 1759 \nQ 1497 1759 1228 1600 \nQ 959 1441 959 1056 \nQ 959 750 1161 570 \nQ 1363 391 1709 391 \nQ 2188 391 2477 730 \nQ 2766 1069 2766 1631 \nL 2766 1759 \nL 2194 1759 \nz\nM 3341 1997 \nL 3341 0 \nL 2766 0 \nL 2766 531 \nQ 2569 213 2275 61 \nQ 1981 -91 1556 -91 \nQ 1019 -91 701 211 \nQ 384 513 384 1019 \nQ 384 1609 779 1909 \nQ 1175 2209 1959 2209 \nL 2766 2209 \nL 2766 2266 \nQ 2766 2663 2505 2880 \nQ 2244 3097 1772 3097 \nQ 1472 3097 1187 3025 \nQ 903 2953 641 2809 \nL 641 3341 \nQ 956 3463 1253 3523 \nQ 1550 3584 1831 3584 \nQ 2591 3584 2966 3190 \nQ 3341 2797 3341 1997 \nz\n\" transform=\"scale(0.015625)\"/>\n       <path id=\"DejaVuSans-72\" d=\"M 2631 2963 \nQ 2534 3019 2420 3045 \nQ 2306 3072 2169 3072 \nQ 1681 3072 1420 2755 \nQ 1159 2438 1159 1844 \nL 1159 0 \nL 581 0 \nL 581 3500 \nL 1159 3500 \nL 1159 2956 \nQ 1341 3275 1631 3429 \nQ 1922 3584 2338 3584 \nQ 2397 3584 2469 3576 \nQ 2541 3569 2628 3553 \nL 2631 2963 \nz\n\" transform=\"scale(0.015625)\"/>\n       <path id=\"DejaVuSans-6e\" d=\"M 3513 2113 \nL 3513 0 \nL 2938 0 \nL 2938 2094 \nQ 2938 2591 2744 2837 \nQ 2550 3084 2163 3084 \nQ 1697 3084 1428 2787 \nQ 1159 2491 1159 1978 \nL 1159 0 \nL 581 0 \nL 581 3500 \nL 1159 3500 \nL 1159 2956 \nQ 1366 3272 1645 3428 \nQ 1925 3584 2291 3584 \nQ 2894 3584 3203 3211 \nQ 3513 2838 3513 2113 \nz\n\" transform=\"scale(0.015625)\"/>\n       <path id=\"DejaVuSans-69\" d=\"M 603 3500 \nL 1178 3500 \nL 1178 0 \nL 603 0 \nL 603 3500 \nz\nM 603 4863 \nL 1178 4863 \nL 1178 4134 \nL 603 4134 \nL 603 4863 \nz\n\" transform=\"scale(0.015625)\"/>\n       <path id=\"DejaVuSans-67\" d=\"M 2906 1791 \nQ 2906 2416 2648 2759 \nQ 2391 3103 1925 3103 \nQ 1463 3103 1205 2759 \nQ 947 2416 947 1791 \nQ 947 1169 1205 825 \nQ 1463 481 1925 481 \nQ 2391 481 2648 825 \nQ 2906 1169 2906 1791 \nz\nM 3481 434 \nQ 3481 -459 3084 -895 \nQ 2688 -1331 1869 -1331 \nQ 1566 -1331 1297 -1286 \nQ 1028 -1241 775 -1147 \nL 775 -588 \nQ 1028 -725 1275 -790 \nQ 1522 -856 1778 -856 \nQ 2344 -856 2625 -561 \nQ 2906 -266 2906 331 \nL 2906 616 \nQ 2728 306 2450 153 \nQ 2172 0 1784 0 \nQ 1141 0 747 490 \nQ 353 981 353 1791 \nQ 353 2603 747 3093 \nQ 1141 3584 1784 3584 \nQ 2172 3584 2450 3431 \nQ 2728 3278 2906 2969 \nL 2906 3500 \nL 3481 3500 \nL 3481 434 \nz\n\" transform=\"scale(0.015625)\"/>\n       <path id=\"DejaVuSans-20\" transform=\"scale(0.015625)\"/>\n       <path id=\"DejaVuSans-52\" d=\"M 2841 2188 \nQ 3044 2119 3236 1894 \nQ 3428 1669 3622 1275 \nL 4263 0 \nL 3584 0 \nL 2988 1197 \nQ 2756 1666 2539 1819 \nQ 2322 1972 1947 1972 \nL 1259 1972 \nL 1259 0 \nL 628 0 \nL 628 4666 \nL 2053 4666 \nQ 2853 4666 3247 4331 \nQ 3641 3997 3641 3322 \nQ 3641 2881 3436 2590 \nQ 3231 2300 2841 2188 \nz\nM 1259 4147 \nL 1259 2491 \nL 2053 2491 \nQ 2509 2491 2742 2702 \nQ 2975 2913 2975 3322 \nQ 2975 3731 2742 3939 \nQ 2509 4147 2053 4147 \nL 1259 4147 \nz\n\" transform=\"scale(0.015625)\"/>\n       <path id=\"DejaVuSans-74\" d=\"M 1172 4494 \nL 1172 3500 \nL 2356 3500 \nL 2356 3053 \nL 1172 3053 \nL 1172 1153 \nQ 1172 725 1289 603 \nQ 1406 481 1766 481 \nL 2356 481 \nL 2356 0 \nL 1766 0 \nQ 1100 0 847 248 \nQ 594 497 594 1153 \nL 594 3053 \nL 172 3053 \nL 172 3500 \nL 594 3500 \nL 594 4494 \nL 1172 4494 \nz\n\" transform=\"scale(0.015625)\"/>\n      </defs>\n      <use xlink:href=\"#DejaVuSans-4c\"/>\n      <use xlink:href=\"#DejaVuSans-65\" x=\"53.962891\"/>\n      <use xlink:href=\"#DejaVuSans-61\" x=\"115.486328\"/>\n      <use xlink:href=\"#DejaVuSans-72\" x=\"176.765625\"/>\n      <use xlink:href=\"#DejaVuSans-6e\" x=\"216.128906\"/>\n      <use xlink:href=\"#DejaVuSans-69\" x=\"279.507812\"/>\n      <use xlink:href=\"#DejaVuSans-6e\" x=\"307.291016\"/>\n      <use xlink:href=\"#DejaVuSans-67\" x=\"370.669922\"/>\n      <use xlink:href=\"#DejaVuSans-20\" x=\"434.146484\"/>\n      <use xlink:href=\"#DejaVuSans-52\" x=\"465.933594\"/>\n      <use xlink:href=\"#DejaVuSans-61\" x=\"533.166016\"/>\n      <use xlink:href=\"#DejaVuSans-74\" x=\"594.445312\"/>\n      <use xlink:href=\"#DejaVuSans-65\" x=\"633.654297\"/>\n     </g>\n    </g>\n   </g>\n   <g id=\"matplotlib.axis_2\">\n    <g id=\"ytick_1\">\n     <g id=\"line2d_19\">\n      <path d=\"M 50.14375 339.838125 \nL 496.54375 339.838125 \n\" clip-path=\"url(#pbc6f1c2f73)\" style=\"fill: none; stroke: #b0b0b0; stroke-width: 0.8; stroke-linecap: square\"/>\n     </g>\n     <g id=\"line2d_20\">\n      <defs>\n       <path id=\"m68095cdac2\" d=\"M 0 0 \nL -3.5 0 \n\" style=\"stroke: #000000; stroke-width: 0.8\"/>\n      </defs>\n      <g>\n       <use xlink:href=\"#m68095cdac2\" x=\"50.14375\" y=\"339.838125\" style=\"stroke: #000000; stroke-width: 0.8\"/>\n      </g>\n     </g>\n     <g id=\"text_11\">\n      <!-- 0.65 -->\n      <g transform=\"translate(20.878125 343.637344) scale(0.1 -0.1)\">\n       <defs>\n        <path id=\"DejaVuSans-36\" d=\"M 2113 2584 \nQ 1688 2584 1439 2293 \nQ 1191 2003 1191 1497 \nQ 1191 994 1439 701 \nQ 1688 409 2113 409 \nQ 2538 409 2786 701 \nQ 3034 994 3034 1497 \nQ 3034 2003 2786 2293 \nQ 2538 2584 2113 2584 \nz\nM 3366 4563 \nL 3366 3988 \nQ 3128 4100 2886 4159 \nQ 2644 4219 2406 4219 \nQ 1781 4219 1451 3797 \nQ 1122 3375 1075 2522 \nQ 1259 2794 1537 2939 \nQ 1816 3084 2150 3084 \nQ 2853 3084 3261 2657 \nQ 3669 2231 3669 1497 \nQ 3669 778 3244 343 \nQ 2819 -91 2113 -91 \nQ 1303 -91 875 529 \nQ 447 1150 447 2328 \nQ 447 3434 972 4092 \nQ 1497 4750 2381 4750 \nQ 2619 4750 2861 4703 \nQ 3103 4656 3366 4563 \nz\n\" transform=\"scale(0.015625)\"/>\n       </defs>\n       <use xlink:href=\"#DejaVuSans-30\"/>\n       <use xlink:href=\"#DejaVuSans-2e\" x=\"63.623047\"/>\n       <use xlink:href=\"#DejaVuSans-36\" x=\"95.410156\"/>\n       <use xlink:href=\"#DejaVuSans-35\" x=\"159.033203\"/>\n      </g>\n     </g>\n    </g>\n    <g id=\"ytick_2\">\n     <g id=\"line2d_21\">\n      <path d=\"M 50.14375 283.838125 \nL 496.54375 283.838125 \n\" clip-path=\"url(#pbc6f1c2f73)\" style=\"fill: none; stroke: #b0b0b0; stroke-width: 0.8; stroke-linecap: square\"/>\n     </g>\n     <g id=\"line2d_22\">\n      <g>\n       <use xlink:href=\"#m68095cdac2\" x=\"50.14375\" y=\"283.838125\" style=\"stroke: #000000; stroke-width: 0.8\"/>\n      </g>\n     </g>\n     <g id=\"text_12\">\n      <!-- 0.70 -->\n      <g transform=\"translate(20.878125 287.637344) scale(0.1 -0.1)\">\n       <use xlink:href=\"#DejaVuSans-30\"/>\n       <use xlink:href=\"#DejaVuSans-2e\" x=\"63.623047\"/>\n       <use xlink:href=\"#DejaVuSans-37\" x=\"95.410156\"/>\n       <use xlink:href=\"#DejaVuSans-30\" x=\"159.033203\"/>\n      </g>\n     </g>\n    </g>\n    <g id=\"ytick_3\">\n     <g id=\"line2d_23\">\n      <path d=\"M 50.14375 227.838125 \nL 496.54375 227.838125 \n\" clip-path=\"url(#pbc6f1c2f73)\" style=\"fill: none; stroke: #b0b0b0; stroke-width: 0.8; stroke-linecap: square\"/>\n     </g>\n     <g id=\"line2d_24\">\n      <g>\n       <use xlink:href=\"#m68095cdac2\" x=\"50.14375\" y=\"227.838125\" style=\"stroke: #000000; stroke-width: 0.8\"/>\n      </g>\n     </g>\n     <g id=\"text_13\">\n      <!-- 0.75 -->\n      <g transform=\"translate(20.878125 231.637344) scale(0.1 -0.1)\">\n       <use xlink:href=\"#DejaVuSans-30\"/>\n       <use xlink:href=\"#DejaVuSans-2e\" x=\"63.623047\"/>\n       <use xlink:href=\"#DejaVuSans-37\" x=\"95.410156\"/>\n       <use xlink:href=\"#DejaVuSans-35\" x=\"159.033203\"/>\n      </g>\n     </g>\n    </g>\n    <g id=\"ytick_4\">\n     <g id=\"line2d_25\">\n      <path d=\"M 50.14375 171.838125 \nL 496.54375 171.838125 \n\" clip-path=\"url(#pbc6f1c2f73)\" style=\"fill: none; stroke: #b0b0b0; stroke-width: 0.8; stroke-linecap: square\"/>\n     </g>\n     <g id=\"line2d_26\">\n      <g>\n       <use xlink:href=\"#m68095cdac2\" x=\"50.14375\" y=\"171.838125\" style=\"stroke: #000000; stroke-width: 0.8\"/>\n      </g>\n     </g>\n     <g id=\"text_14\">\n      <!-- 0.80 -->\n      <g transform=\"translate(20.878125 175.637344) scale(0.1 -0.1)\">\n       <defs>\n        <path id=\"DejaVuSans-38\" d=\"M 2034 2216 \nQ 1584 2216 1326 1975 \nQ 1069 1734 1069 1313 \nQ 1069 891 1326 650 \nQ 1584 409 2034 409 \nQ 2484 409 2743 651 \nQ 3003 894 3003 1313 \nQ 3003 1734 2745 1975 \nQ 2488 2216 2034 2216 \nz\nM 1403 2484 \nQ 997 2584 770 2862 \nQ 544 3141 544 3541 \nQ 544 4100 942 4425 \nQ 1341 4750 2034 4750 \nQ 2731 4750 3128 4425 \nQ 3525 4100 3525 3541 \nQ 3525 3141 3298 2862 \nQ 3072 2584 2669 2484 \nQ 3125 2378 3379 2068 \nQ 3634 1759 3634 1313 \nQ 3634 634 3220 271 \nQ 2806 -91 2034 -91 \nQ 1263 -91 848 271 \nQ 434 634 434 1313 \nQ 434 1759 690 2068 \nQ 947 2378 1403 2484 \nz\nM 1172 3481 \nQ 1172 3119 1398 2916 \nQ 1625 2713 2034 2713 \nQ 2441 2713 2670 2916 \nQ 2900 3119 2900 3481 \nQ 2900 3844 2670 4047 \nQ 2441 4250 2034 4250 \nQ 1625 4250 1398 4047 \nQ 1172 3844 1172 3481 \nz\n\" transform=\"scale(0.015625)\"/>\n       </defs>\n       <use xlink:href=\"#DejaVuSans-30\"/>\n       <use xlink:href=\"#DejaVuSans-2e\" x=\"63.623047\"/>\n       <use xlink:href=\"#DejaVuSans-38\" x=\"95.410156\"/>\n       <use xlink:href=\"#DejaVuSans-30\" x=\"159.033203\"/>\n      </g>\n     </g>\n    </g>\n    <g id=\"ytick_5\">\n     <g id=\"line2d_27\">\n      <path d=\"M 50.14375 115.838125 \nL 496.54375 115.838125 \n\" clip-path=\"url(#pbc6f1c2f73)\" style=\"fill: none; stroke: #b0b0b0; stroke-width: 0.8; stroke-linecap: square\"/>\n     </g>\n     <g id=\"line2d_28\">\n      <g>\n       <use xlink:href=\"#m68095cdac2\" x=\"50.14375\" y=\"115.838125\" style=\"stroke: #000000; stroke-width: 0.8\"/>\n      </g>\n     </g>\n     <g id=\"text_15\">\n      <!-- 0.85 -->\n      <g transform=\"translate(20.878125 119.637344) scale(0.1 -0.1)\">\n       <use xlink:href=\"#DejaVuSans-30\"/>\n       <use xlink:href=\"#DejaVuSans-2e\" x=\"63.623047\"/>\n       <use xlink:href=\"#DejaVuSans-38\" x=\"95.410156\"/>\n       <use xlink:href=\"#DejaVuSans-35\" x=\"159.033203\"/>\n      </g>\n     </g>\n    </g>\n    <g id=\"ytick_6\">\n     <g id=\"line2d_29\">\n      <path d=\"M 50.14375 59.838125 \nL 496.54375 59.838125 \n\" clip-path=\"url(#pbc6f1c2f73)\" style=\"fill: none; stroke: #b0b0b0; stroke-width: 0.8; stroke-linecap: square\"/>\n     </g>\n     <g id=\"line2d_30\">\n      <g>\n       <use xlink:href=\"#m68095cdac2\" x=\"50.14375\" y=\"59.838125\" style=\"stroke: #000000; stroke-width: 0.8\"/>\n      </g>\n     </g>\n     <g id=\"text_16\">\n      <!-- 0.90 -->\n      <g transform=\"translate(20.878125 63.637344) scale(0.1 -0.1)\">\n       <defs>\n        <path id=\"DejaVuSans-39\" d=\"M 703 97 \nL 703 672 \nQ 941 559 1184 500 \nQ 1428 441 1663 441 \nQ 2288 441 2617 861 \nQ 2947 1281 2994 2138 \nQ 2813 1869 2534 1725 \nQ 2256 1581 1919 1581 \nQ 1219 1581 811 2004 \nQ 403 2428 403 3163 \nQ 403 3881 828 4315 \nQ 1253 4750 1959 4750 \nQ 2769 4750 3195 4129 \nQ 3622 3509 3622 2328 \nQ 3622 1225 3098 567 \nQ 2575 -91 1691 -91 \nQ 1453 -91 1209 -44 \nQ 966 3 703 97 \nz\nM 1959 2075 \nQ 2384 2075 2632 2365 \nQ 2881 2656 2881 3163 \nQ 2881 3666 2632 3958 \nQ 2384 4250 1959 4250 \nQ 1534 4250 1286 3958 \nQ 1038 3666 1038 3163 \nQ 1038 2656 1286 2365 \nQ 1534 2075 1959 2075 \nz\n\" transform=\"scale(0.015625)\"/>\n       </defs>\n       <use xlink:href=\"#DejaVuSans-30\"/>\n       <use xlink:href=\"#DejaVuSans-2e\" x=\"63.623047\"/>\n       <use xlink:href=\"#DejaVuSans-39\" x=\"95.410156\"/>\n       <use xlink:href=\"#DejaVuSans-30\" x=\"159.033203\"/>\n      </g>\n     </g>\n    </g>\n    <g id=\"text_17\">\n     <!-- Akurasi Validasi -->\n     <g transform=\"translate(14.798437 227.775625) rotate(-90) scale(0.1 -0.1)\">\n      <defs>\n       <path id=\"DejaVuSans-41\" d=\"M 2188 4044 \nL 1331 1722 \nL 3047 1722 \nL 2188 4044 \nz\nM 1831 4666 \nL 2547 4666 \nL 4325 0 \nL 3669 0 \nL 3244 1197 \nL 1141 1197 \nL 716 0 \nL 50 0 \nL 1831 4666 \nz\n\" transform=\"scale(0.015625)\"/>\n       <path id=\"DejaVuSans-6b\" d=\"M 581 4863 \nL 1159 4863 \nL 1159 1991 \nL 2875 3500 \nL 3609 3500 \nL 1753 1863 \nL 3688 0 \nL 2938 0 \nL 1159 1709 \nL 1159 0 \nL 581 0 \nL 581 4863 \nz\n\" transform=\"scale(0.015625)\"/>\n       <path id=\"DejaVuSans-75\" d=\"M 544 1381 \nL 544 3500 \nL 1119 3500 \nL 1119 1403 \nQ 1119 906 1312 657 \nQ 1506 409 1894 409 \nQ 2359 409 2629 706 \nQ 2900 1003 2900 1516 \nL 2900 3500 \nL 3475 3500 \nL 3475 0 \nL 2900 0 \nL 2900 538 \nQ 2691 219 2414 64 \nQ 2138 -91 1772 -91 \nQ 1169 -91 856 284 \nQ 544 659 544 1381 \nz\nM 1991 3584 \nL 1991 3584 \nz\n\" transform=\"scale(0.015625)\"/>\n       <path id=\"DejaVuSans-73\" d=\"M 2834 3397 \nL 2834 2853 \nQ 2591 2978 2328 3040 \nQ 2066 3103 1784 3103 \nQ 1356 3103 1142 2972 \nQ 928 2841 928 2578 \nQ 928 2378 1081 2264 \nQ 1234 2150 1697 2047 \nL 1894 2003 \nQ 2506 1872 2764 1633 \nQ 3022 1394 3022 966 \nQ 3022 478 2636 193 \nQ 2250 -91 1575 -91 \nQ 1294 -91 989 -36 \nQ 684 19 347 128 \nL 347 722 \nQ 666 556 975 473 \nQ 1284 391 1588 391 \nQ 1994 391 2212 530 \nQ 2431 669 2431 922 \nQ 2431 1156 2273 1281 \nQ 2116 1406 1581 1522 \nL 1381 1569 \nQ 847 1681 609 1914 \nQ 372 2147 372 2553 \nQ 372 3047 722 3315 \nQ 1072 3584 1716 3584 \nQ 2034 3584 2315 3537 \nQ 2597 3491 2834 3397 \nz\n\" transform=\"scale(0.015625)\"/>\n       <path id=\"DejaVuSans-56\" d=\"M 1831 0 \nL 50 4666 \nL 709 4666 \nL 2188 738 \nL 3669 4666 \nL 4325 4666 \nL 2547 0 \nL 1831 0 \nz\n\" transform=\"scale(0.015625)\"/>\n       <path id=\"DejaVuSans-6c\" d=\"M 603 4863 \nL 1178 4863 \nL 1178 0 \nL 603 0 \nL 603 4863 \nz\n\" transform=\"scale(0.015625)\"/>\n       <path id=\"DejaVuSans-64\" d=\"M 2906 2969 \nL 2906 4863 \nL 3481 4863 \nL 3481 0 \nL 2906 0 \nL 2906 525 \nQ 2725 213 2448 61 \nQ 2172 -91 1784 -91 \nQ 1150 -91 751 415 \nQ 353 922 353 1747 \nQ 353 2572 751 3078 \nQ 1150 3584 1784 3584 \nQ 2172 3584 2448 3432 \nQ 2725 3281 2906 2969 \nz\nM 947 1747 \nQ 947 1113 1208 752 \nQ 1469 391 1925 391 \nQ 2381 391 2643 752 \nQ 2906 1113 2906 1747 \nQ 2906 2381 2643 2742 \nQ 2381 3103 1925 3103 \nQ 1469 3103 1208 2742 \nQ 947 2381 947 1747 \nz\n\" transform=\"scale(0.015625)\"/>\n      </defs>\n      <use xlink:href=\"#DejaVuSans-41\"/>\n      <use xlink:href=\"#DejaVuSans-6b\" x=\"68.408203\"/>\n      <use xlink:href=\"#DejaVuSans-75\" x=\"123.193359\"/>\n      <use xlink:href=\"#DejaVuSans-72\" x=\"186.572266\"/>\n      <use xlink:href=\"#DejaVuSans-61\" x=\"227.685547\"/>\n      <use xlink:href=\"#DejaVuSans-73\" x=\"288.964844\"/>\n      <use xlink:href=\"#DejaVuSans-69\" x=\"341.064453\"/>\n      <use xlink:href=\"#DejaVuSans-20\" x=\"368.847656\"/>\n      <use xlink:href=\"#DejaVuSans-56\" x=\"400.634766\"/>\n      <use xlink:href=\"#DejaVuSans-61\" x=\"461.292969\"/>\n      <use xlink:href=\"#DejaVuSans-6c\" x=\"522.572266\"/>\n      <use xlink:href=\"#DejaVuSans-69\" x=\"550.355469\"/>\n      <use xlink:href=\"#DejaVuSans-64\" x=\"578.138672\"/>\n      <use xlink:href=\"#DejaVuSans-61\" x=\"641.615234\"/>\n      <use xlink:href=\"#DejaVuSans-73\" x=\"702.894531\"/>\n      <use xlink:href=\"#DejaVuSans-69\" x=\"754.994141\"/>\n     </g>\n    </g>\n   </g>\n   <g id=\"line2d_31\">\n    <path d=\"M 70.434659 115.838125 \nL 88.788245 82.238125 \nL 170.359739 59.838125 \nL 272.324106 37.438125 \nL 476.252841 171.838125 \n\" clip-path=\"url(#pbc6f1c2f73)\" style=\"fill: none; stroke: #1f77b4; stroke-width: 1.5; stroke-linecap: square\"/>\n    <defs>\n     <path id=\"m0c8e11b8e7\" d=\"M 0 3 \nC 0.795609 3 1.55874 2.683901 2.12132 2.12132 \nC 2.683901 1.55874 3 0.795609 3 0 \nC 3 -0.795609 2.683901 -1.55874 2.12132 -2.12132 \nC 1.55874 -2.683901 0.795609 -3 0 -3 \nC -0.795609 -3 -1.55874 -2.683901 -2.12132 -2.12132 \nC -2.683901 -1.55874 -3 -0.795609 -3 0 \nC -3 0.795609 -2.683901 1.55874 -2.12132 2.12132 \nC -1.55874 2.683901 -0.795609 3 0 3 \nz\n\" style=\"stroke: #1f77b4\"/>\n    </defs>\n    <g clip-path=\"url(#pbc6f1c2f73)\">\n     <use xlink:href=\"#m0c8e11b8e7\" x=\"70.434659\" y=\"115.838125\" style=\"fill: #1f77b4; stroke: #1f77b4\"/>\n     <use xlink:href=\"#m0c8e11b8e7\" x=\"88.788245\" y=\"82.238125\" style=\"fill: #1f77b4; stroke: #1f77b4\"/>\n     <use xlink:href=\"#m0c8e11b8e7\" x=\"170.359739\" y=\"59.838125\" style=\"fill: #1f77b4; stroke: #1f77b4\"/>\n     <use xlink:href=\"#m0c8e11b8e7\" x=\"272.324106\" y=\"37.438125\" style=\"fill: #1f77b4; stroke: #1f77b4\"/>\n     <use xlink:href=\"#m0c8e11b8e7\" x=\"476.252841\" y=\"171.838125\" style=\"fill: #1f77b4; stroke: #1f77b4\"/>\n    </g>\n   </g>\n   <g id=\"line2d_32\">\n    <path d=\"M 70.434659 171.838125 \nL 88.788245 149.438125 \nL 170.359739 138.238125 \nL 272.324106 194.238125 \nL 476.252841 339.838125 \n\" clip-path=\"url(#pbc6f1c2f73)\" style=\"fill: none; stroke: #ff7f0e; stroke-width: 1.5; stroke-linecap: square\"/>\n    <defs>\n     <path id=\"mc759160993\" d=\"M -3 3 \nL 3 -3 \nM -3 -3 \nL 3 3 \n\" style=\"stroke: #ff7f0e\"/>\n    </defs>\n    <g clip-path=\"url(#pbc6f1c2f73)\">\n     <use xlink:href=\"#mc759160993\" x=\"70.434659\" y=\"171.838125\" style=\"fill: #ff7f0e; stroke: #ff7f0e\"/>\n     <use xlink:href=\"#mc759160993\" x=\"88.788245\" y=\"149.438125\" style=\"fill: #ff7f0e; stroke: #ff7f0e\"/>\n     <use xlink:href=\"#mc759160993\" x=\"170.359739\" y=\"138.238125\" style=\"fill: #ff7f0e; stroke: #ff7f0e\"/>\n     <use xlink:href=\"#mc759160993\" x=\"272.324106\" y=\"194.238125\" style=\"fill: #ff7f0e; stroke: #ff7f0e\"/>\n     <use xlink:href=\"#mc759160993\" x=\"476.252841\" y=\"339.838125\" style=\"fill: #ff7f0e; stroke: #ff7f0e\"/>\n    </g>\n   </g>\n   <g id=\"patch_3\">\n    <path d=\"M 50.14375 354.958125 \nL 50.14375 22.318125 \n\" style=\"fill: none; stroke: #000000; stroke-width: 0.8; stroke-linejoin: miter; stroke-linecap: square\"/>\n   </g>\n   <g id=\"patch_4\">\n    <path d=\"M 496.54375 354.958125 \nL 496.54375 22.318125 \n\" style=\"fill: none; stroke: #000000; stroke-width: 0.8; stroke-linejoin: miter; stroke-linecap: square\"/>\n   </g>\n   <g id=\"patch_5\">\n    <path d=\"M 50.14375 354.958125 \nL 496.54375 354.958125 \n\" style=\"fill: none; stroke: #000000; stroke-width: 0.8; stroke-linejoin: miter; stroke-linecap: square\"/>\n   </g>\n   <g id=\"patch_6\">\n    <path d=\"M 50.14375 22.318125 \nL 496.54375 22.318125 \n\" style=\"fill: none; stroke: #000000; stroke-width: 0.8; stroke-linejoin: miter; stroke-linecap: square\"/>\n   </g>\n   <g id=\"text_18\">\n    <!-- Learning Rate vs Akurasi Validasi untuk LeNet -->\n    <g transform=\"translate(135.66625 16.318125) scale(0.12 -0.12)\">\n     <defs>\n      <path id=\"DejaVuSans-76\" d=\"M 191 3500 \nL 800 3500 \nL 1894 563 \nL 2988 3500 \nL 3597 3500 \nL 2284 0 \nL 1503 0 \nL 191 3500 \nz\n\" transform=\"scale(0.015625)\"/>\n      <path id=\"DejaVuSans-4e\" d=\"M 628 4666 \nL 1478 4666 \nL 3547 763 \nL 3547 4666 \nL 4159 4666 \nL 4159 0 \nL 3309 0 \nL 1241 3903 \nL 1241 0 \nL 628 0 \nL 628 4666 \nz\n\" transform=\"scale(0.015625)\"/>\n     </defs>\n     <use xlink:href=\"#DejaVuSans-4c\"/>\n     <use xlink:href=\"#DejaVuSans-65\" x=\"53.962891\"/>\n     <use xlink:href=\"#DejaVuSans-61\" x=\"115.486328\"/>\n     <use xlink:href=\"#DejaVuSans-72\" x=\"176.765625\"/>\n     <use xlink:href=\"#DejaVuSans-6e\" x=\"216.128906\"/>\n     <use xlink:href=\"#DejaVuSans-69\" x=\"279.507812\"/>\n     <use xlink:href=\"#DejaVuSans-6e\" x=\"307.291016\"/>\n     <use xlink:href=\"#DejaVuSans-67\" x=\"370.669922\"/>\n     <use xlink:href=\"#DejaVuSans-20\" x=\"434.146484\"/>\n     <use xlink:href=\"#DejaVuSans-52\" x=\"465.933594\"/>\n     <use xlink:href=\"#DejaVuSans-61\" x=\"533.166016\"/>\n     <use xlink:href=\"#DejaVuSans-74\" x=\"594.445312\"/>\n     <use xlink:href=\"#DejaVuSans-65\" x=\"633.654297\"/>\n     <use xlink:href=\"#DejaVuSans-20\" x=\"695.177734\"/>\n     <use xlink:href=\"#DejaVuSans-76\" x=\"726.964844\"/>\n     <use xlink:href=\"#DejaVuSans-73\" x=\"786.144531\"/>\n     <use xlink:href=\"#DejaVuSans-20\" x=\"838.244141\"/>\n     <use xlink:href=\"#DejaVuSans-41\" x=\"870.03125\"/>\n     <use xlink:href=\"#DejaVuSans-6b\" x=\"938.439453\"/>\n     <use xlink:href=\"#DejaVuSans-75\" x=\"993.224609\"/>\n     <use xlink:href=\"#DejaVuSans-72\" x=\"1056.603516\"/>\n     <use xlink:href=\"#DejaVuSans-61\" x=\"1097.716797\"/>\n     <use xlink:href=\"#DejaVuSans-73\" x=\"1158.996094\"/>\n     <use xlink:href=\"#DejaVuSans-69\" x=\"1211.095703\"/>\n     <use xlink:href=\"#DejaVuSans-20\" x=\"1238.878906\"/>\n     <use xlink:href=\"#DejaVuSans-56\" x=\"1270.666016\"/>\n     <use xlink:href=\"#DejaVuSans-61\" x=\"1331.324219\"/>\n     <use xlink:href=\"#DejaVuSans-6c\" x=\"1392.603516\"/>\n     <use xlink:href=\"#DejaVuSans-69\" x=\"1420.386719\"/>\n     <use xlink:href=\"#DejaVuSans-64\" x=\"1448.169922\"/>\n     <use xlink:href=\"#DejaVuSans-61\" x=\"1511.646484\"/>\n     <use xlink:href=\"#DejaVuSans-73\" x=\"1572.925781\"/>\n     <use xlink:href=\"#DejaVuSans-69\" x=\"1625.025391\"/>\n     <use xlink:href=\"#DejaVuSans-20\" x=\"1652.808594\"/>\n     <use xlink:href=\"#DejaVuSans-75\" x=\"1684.595703\"/>\n     <use xlink:href=\"#DejaVuSans-6e\" x=\"1747.974609\"/>\n     <use xlink:href=\"#DejaVuSans-74\" x=\"1811.353516\"/>\n     <use xlink:href=\"#DejaVuSans-75\" x=\"1850.5625\"/>\n     <use xlink:href=\"#DejaVuSans-6b\" x=\"1913.941406\"/>\n     <use xlink:href=\"#DejaVuSans-20\" x=\"1971.851562\"/>\n     <use xlink:href=\"#DejaVuSans-4c\" x=\"2003.638672\"/>\n     <use xlink:href=\"#DejaVuSans-65\" x=\"2057.601562\"/>\n     <use xlink:href=\"#DejaVuSans-4e\" x=\"2119.125\"/>\n     <use xlink:href=\"#DejaVuSans-65\" x=\"2193.929688\"/>\n     <use xlink:href=\"#DejaVuSans-74\" x=\"2255.453125\"/>\n    </g>\n   </g>\n   <g id=\"legend_1\">\n    <g id=\"patch_7\">\n     <path d=\"M 356.160937 59.674375 \nL 489.54375 59.674375 \nQ 491.54375 59.674375 491.54375 57.674375 \nL 491.54375 29.318125 \nQ 491.54375 27.318125 489.54375 27.318125 \nL 356.160937 27.318125 \nQ 354.160937 27.318125 354.160937 29.318125 \nL 354.160937 57.674375 \nQ 354.160937 59.674375 356.160937 59.674375 \nz\n\" style=\"fill: #ffffff; opacity: 0.8; stroke: #cccccc; stroke-linejoin: miter\"/>\n    </g>\n    <g id=\"line2d_33\">\n     <path d=\"M 358.160937 35.416562 \nL 368.160937 35.416562 \nL 378.160937 35.416562 \n\" style=\"fill: none; stroke: #1f77b4; stroke-width: 1.5; stroke-linecap: square\"/>\n     <g>\n      <use xlink:href=\"#m0c8e11b8e7\" x=\"368.160937\" y=\"35.416562\" style=\"fill: #1f77b4; stroke: #1f77b4\"/>\n     </g>\n    </g>\n    <g id=\"text_19\">\n     <!-- Dengan Batch Norm -->\n     <g transform=\"translate(386.160937 38.916562) scale(0.1 -0.1)\">\n      <defs>\n       <path id=\"DejaVuSans-44\" d=\"M 1259 4147 \nL 1259 519 \nL 2022 519 \nQ 2988 519 3436 956 \nQ 3884 1394 3884 2338 \nQ 3884 3275 3436 3711 \nQ 2988 4147 2022 4147 \nL 1259 4147 \nz\nM 628 4666 \nL 1925 4666 \nQ 3281 4666 3915 4102 \nQ 4550 3538 4550 2338 \nQ 4550 1131 3912 565 \nQ 3275 0 1925 0 \nL 628 0 \nL 628 4666 \nz\n\" transform=\"scale(0.015625)\"/>\n       <path id=\"DejaVuSans-42\" d=\"M 1259 2228 \nL 1259 519 \nL 2272 519 \nQ 2781 519 3026 730 \nQ 3272 941 3272 1375 \nQ 3272 1813 3026 2020 \nQ 2781 2228 2272 2228 \nL 1259 2228 \nz\nM 1259 4147 \nL 1259 2741 \nL 2194 2741 \nQ 2656 2741 2882 2914 \nQ 3109 3088 3109 3444 \nQ 3109 3797 2882 3972 \nQ 2656 4147 2194 4147 \nL 1259 4147 \nz\nM 628 4666 \nL 2241 4666 \nQ 2963 4666 3353 4366 \nQ 3744 4066 3744 3513 \nQ 3744 3084 3544 2831 \nQ 3344 2578 2956 2516 \nQ 3422 2416 3680 2098 \nQ 3938 1781 3938 1306 \nQ 3938 681 3513 340 \nQ 3088 0 2303 0 \nL 628 0 \nL 628 4666 \nz\n\" transform=\"scale(0.015625)\"/>\n       <path id=\"DejaVuSans-63\" d=\"M 3122 3366 \nL 3122 2828 \nQ 2878 2963 2633 3030 \nQ 2388 3097 2138 3097 \nQ 1578 3097 1268 2742 \nQ 959 2388 959 1747 \nQ 959 1106 1268 751 \nQ 1578 397 2138 397 \nQ 2388 397 2633 464 \nQ 2878 531 3122 666 \nL 3122 134 \nQ 2881 22 2623 -34 \nQ 2366 -91 2075 -91 \nQ 1284 -91 818 406 \nQ 353 903 353 1747 \nQ 353 2603 823 3093 \nQ 1294 3584 2113 3584 \nQ 2378 3584 2631 3529 \nQ 2884 3475 3122 3366 \nz\n\" transform=\"scale(0.015625)\"/>\n       <path id=\"DejaVuSans-68\" d=\"M 3513 2113 \nL 3513 0 \nL 2938 0 \nL 2938 2094 \nQ 2938 2591 2744 2837 \nQ 2550 3084 2163 3084 \nQ 1697 3084 1428 2787 \nQ 1159 2491 1159 1978 \nL 1159 0 \nL 581 0 \nL 581 4863 \nL 1159 4863 \nL 1159 2956 \nQ 1366 3272 1645 3428 \nQ 1925 3584 2291 3584 \nQ 2894 3584 3203 3211 \nQ 3513 2838 3513 2113 \nz\n\" transform=\"scale(0.015625)\"/>\n       <path id=\"DejaVuSans-6f\" d=\"M 1959 3097 \nQ 1497 3097 1228 2736 \nQ 959 2375 959 1747 \nQ 959 1119 1226 758 \nQ 1494 397 1959 397 \nQ 2419 397 2687 759 \nQ 2956 1122 2956 1747 \nQ 2956 2369 2687 2733 \nQ 2419 3097 1959 3097 \nz\nM 1959 3584 \nQ 2709 3584 3137 3096 \nQ 3566 2609 3566 1747 \nQ 3566 888 3137 398 \nQ 2709 -91 1959 -91 \nQ 1206 -91 779 398 \nQ 353 888 353 1747 \nQ 353 2609 779 3096 \nQ 1206 3584 1959 3584 \nz\n\" transform=\"scale(0.015625)\"/>\n       <path id=\"DejaVuSans-6d\" d=\"M 3328 2828 \nQ 3544 3216 3844 3400 \nQ 4144 3584 4550 3584 \nQ 5097 3584 5394 3201 \nQ 5691 2819 5691 2113 \nL 5691 0 \nL 5113 0 \nL 5113 2094 \nQ 5113 2597 4934 2840 \nQ 4756 3084 4391 3084 \nQ 3944 3084 3684 2787 \nQ 3425 2491 3425 1978 \nL 3425 0 \nL 2847 0 \nL 2847 2094 \nQ 2847 2600 2669 2842 \nQ 2491 3084 2119 3084 \nQ 1678 3084 1418 2786 \nQ 1159 2488 1159 1978 \nL 1159 0 \nL 581 0 \nL 581 3500 \nL 1159 3500 \nL 1159 2956 \nQ 1356 3278 1631 3431 \nQ 1906 3584 2284 3584 \nQ 2666 3584 2933 3390 \nQ 3200 3197 3328 2828 \nz\n\" transform=\"scale(0.015625)\"/>\n      </defs>\n      <use xlink:href=\"#DejaVuSans-44\"/>\n      <use xlink:href=\"#DejaVuSans-65\" x=\"77.001953\"/>\n      <use xlink:href=\"#DejaVuSans-6e\" x=\"138.525391\"/>\n      <use xlink:href=\"#DejaVuSans-67\" x=\"201.904297\"/>\n      <use xlink:href=\"#DejaVuSans-61\" x=\"265.380859\"/>\n      <use xlink:href=\"#DejaVuSans-6e\" x=\"326.660156\"/>\n      <use xlink:href=\"#DejaVuSans-20\" x=\"390.039062\"/>\n      <use xlink:href=\"#DejaVuSans-42\" x=\"421.826172\"/>\n      <use xlink:href=\"#DejaVuSans-61\" x=\"490.429688\"/>\n      <use xlink:href=\"#DejaVuSans-74\" x=\"551.708984\"/>\n      <use xlink:href=\"#DejaVuSans-63\" x=\"590.917969\"/>\n      <use xlink:href=\"#DejaVuSans-68\" x=\"645.898438\"/>\n      <use xlink:href=\"#DejaVuSans-20\" x=\"709.277344\"/>\n      <use xlink:href=\"#DejaVuSans-4e\" x=\"741.064453\"/>\n      <use xlink:href=\"#DejaVuSans-6f\" x=\"815.869141\"/>\n      <use xlink:href=\"#DejaVuSans-72\" x=\"877.050781\"/>\n      <use xlink:href=\"#DejaVuSans-6d\" x=\"916.414062\"/>\n     </g>\n    </g>\n    <g id=\"line2d_34\">\n     <path d=\"M 358.160937 50.094687 \nL 368.160937 50.094687 \nL 378.160937 50.094687 \n\" style=\"fill: none; stroke: #ff7f0e; stroke-width: 1.5; stroke-linecap: square\"/>\n     <g>\n      <use xlink:href=\"#mc759160993\" x=\"368.160937\" y=\"50.094687\" style=\"fill: #ff7f0e; stroke: #ff7f0e\"/>\n     </g>\n    </g>\n    <g id=\"text_20\">\n     <!-- Tanpa Batch Norm -->\n     <g transform=\"translate(386.160937 53.594687) scale(0.1 -0.1)\">\n      <defs>\n       <path id=\"DejaVuSans-54\" d=\"M -19 4666 \nL 3928 4666 \nL 3928 4134 \nL 2272 4134 \nL 2272 0 \nL 1638 0 \nL 1638 4134 \nL -19 4134 \nL -19 4666 \nz\n\" transform=\"scale(0.015625)\"/>\n       <path id=\"DejaVuSans-70\" d=\"M 1159 525 \nL 1159 -1331 \nL 581 -1331 \nL 581 3500 \nL 1159 3500 \nL 1159 2969 \nQ 1341 3281 1617 3432 \nQ 1894 3584 2278 3584 \nQ 2916 3584 3314 3078 \nQ 3713 2572 3713 1747 \nQ 3713 922 3314 415 \nQ 2916 -91 2278 -91 \nQ 1894 -91 1617 61 \nQ 1341 213 1159 525 \nz\nM 3116 1747 \nQ 3116 2381 2855 2742 \nQ 2594 3103 2138 3103 \nQ 1681 3103 1420 2742 \nQ 1159 2381 1159 1747 \nQ 1159 1113 1420 752 \nQ 1681 391 2138 391 \nQ 2594 391 2855 752 \nQ 3116 1113 3116 1747 \nz\n\" transform=\"scale(0.015625)\"/>\n      </defs>\n      <use xlink:href=\"#DejaVuSans-54\"/>\n      <use xlink:href=\"#DejaVuSans-61\" x=\"44.583984\"/>\n      <use xlink:href=\"#DejaVuSans-6e\" x=\"105.863281\"/>\n      <use xlink:href=\"#DejaVuSans-70\" x=\"169.242188\"/>\n      <use xlink:href=\"#DejaVuSans-61\" x=\"232.71875\"/>\n      <use xlink:href=\"#DejaVuSans-20\" x=\"293.998047\"/>\n      <use xlink:href=\"#DejaVuSans-42\" x=\"325.785156\"/>\n      <use xlink:href=\"#DejaVuSans-61\" x=\"394.388672\"/>\n      <use xlink:href=\"#DejaVuSans-74\" x=\"455.667969\"/>\n      <use xlink:href=\"#DejaVuSans-63\" x=\"494.876953\"/>\n      <use xlink:href=\"#DejaVuSans-68\" x=\"549.857422\"/>\n      <use xlink:href=\"#DejaVuSans-20\" x=\"613.236328\"/>\n      <use xlink:href=\"#DejaVuSans-4e\" x=\"645.023438\"/>\n      <use xlink:href=\"#DejaVuSans-6f\" x=\"719.828125\"/>\n      <use xlink:href=\"#DejaVuSans-72\" x=\"781.009766\"/>\n      <use xlink:href=\"#DejaVuSans-6d\" x=\"820.373047\"/>\n     </g>\n    </g>\n   </g>\n  </g>\n </g>\n <defs>\n  <clipPath id=\"pbc6f1c2f73\">\n   <rect x=\"50.14375\" y=\"22.318125\" width=\"446.4\" height=\"332.64\"/>\n  </clipPath>\n </defs>\n</svg>\n"
          },
          "metadata": {}
        }
      ]
    },
    {
      "cell_type": "markdown",
      "source": [
        "* **How large can you make the learning rate before the optimization fails in both cases?**"
      ],
      "metadata": {
        "id": "gYtbB3E_RC5l"
      }
    },
    {
      "cell_type": "markdown",
      "source": [
        "Untuk menentukan seberapa besar learning rate sebelum optimisasi gagal pada kedua kasus (LeNet dengan dan tanpa Batch Normalization), kita perlu memahami batas kestabilan dari kedua model. Berikut penjelasan dan ekspektasi hasilnya:\n",
        "\n",
        "1. LeNet dengan Batch Normalization (BN)\n",
        "Batch normalization membantu menjaga distribusi aktivasi stabil di setiap lapisan jaringan selama pelatihan, yang memungkinkan penggunaan learning rate yang lebih besar.\n",
        "Ekspektasi: Model dengan BN bisa bertahan dengan learning rate yang lebih tinggi, hingga sekitar 0.1 atau 0.2 sebelum mulai gagal.\n",
        "Di sekitar learning rate 0.1, model mungkin masih mencapai konvergensi, namun jika dinaikkan lebih jauh (misalnya 0.3 atau lebih), optimisasi mulai tidak stabil dan bisa gagal.\n",
        "2. LeNet tanpa Batch Normalization (tanpa BN)\n",
        "Tanpa batch normalization, model tidak memiliki mekanisme yang menstabilkan distribusi aktivasi, sehingga lebih rentan terhadap over-shooting atau divergensi pada learning rate yang besar.\n",
        "Ekspektasi: Model tanpa BN akan mulai mengalami kegagalan pada learning rate yang lebih rendah, kemungkinan sekitar 0.05 hingga 0.1.\n",
        "Pada learning rate di atas 0.05, model biasanya mulai menunjukkan tanda-tanda ketidakstabilan, seperti lonjakan dalam nilai loss dan penurunan akurasi yang tajam.\n",
        "Optimisasi Gagal:\n",
        "Optimisasi dianggap gagal ketika:\n",
        "\n",
        "Loss meningkat secara tajam alih-alih berkurang.\n",
        "Akurasi menurun, bahkan setelah beberapa epoch pelatihan.\n",
        "Divergensi: Model tidak konvergen sama sekali dan performanya semakin memburuk."
      ],
      "metadata": {
        "id": "wKvvkQezds9y"
      }
    },
    {
      "cell_type": "markdown",
      "source": [
        "**3. Do we need batch normalization in every layer? Experiment with it.**"
      ],
      "metadata": {
        "id": "AzCXwBTtdxSn"
      }
    },
    {
      "cell_type": "code",
      "source": [
        "import torch\n",
        "import torch.nn as nn\n",
        "import torch.optim as optim\n",
        "from torchvision import datasets, transforms\n",
        "\n",
        "# Definisi LeNet dengan Batch Norm opsional\n",
        "class LeNetBN(nn.Module):\n",
        "    def __init__(self, use_bn=True):\n",
        "        super(LeNetBN, self).__init__()\n",
        "        self.use_bn = use_bn\n",
        "        self.conv1 = nn.Conv2d(1, 6, kernel_size=5)\n",
        "        self.conv2 = nn.Conv2d(6, 16, kernel_size=5)\n",
        "        self.fc1 = nn.Linear(16 * 4 * 4, 120)\n",
        "        self.fc2 = nn.Linear(120, 84)\n",
        "        self.fc3 = nn.Linear(84, 10)\n",
        "\n",
        "        # Jika batch norm digunakan\n",
        "        if self.use_bn:\n",
        "            self.bn1 = nn.BatchNorm2d(6)\n",
        "            self.bn2 = nn.BatchNorm2d(16)\n",
        "            self.bn_fc1 = nn.BatchNorm1d(120)\n",
        "\n",
        "    def forward(self, x):\n",
        "        x = self.conv1(x)\n",
        "        if self.use_bn: x = self.bn1(x)\n",
        "        x = torch.relu(x)\n",
        "        x = torch.max_pool2d(x, 2)\n",
        "\n",
        "        x = self.conv2(x)\n",
        "        if self.use_bn: x = self.bn2(x)\n",
        "        x = torch.relu(x)\n",
        "        x = torch.max_pool2d(x, 2)\n",
        "\n",
        "        x = x.view(-1, 16 * 4 * 4)\n",
        "        x = self.fc1(x)\n",
        "        if self.use_bn: x = self.bn_fc1(x)\n",
        "        x = torch.relu(x)\n",
        "\n",
        "        x = self.fc2(x)\n",
        "        x = torch.relu(x)\n",
        "\n",
        "        x = self.fc3(x)\n",
        "        return x\n",
        "\n",
        "# Dataset dan DataLoader\n",
        "transform = transforms.Compose([transforms.ToTensor()])\n",
        "train_dataset = datasets.MNIST(root='./data', train=True, transform=transform, download=True)\n",
        "train_loader = torch.utils.data.DataLoader(dataset=train_dataset, batch_size=64, shuffle=True)\n",
        "\n",
        "# Fungsi training sederhana\n",
        "def train(model, optimizer, criterion, epochs=5):\n",
        "    model.train()\n",
        "    for epoch in range(epochs):\n",
        "        running_loss = 0.0\n",
        "        for data, target in train_loader:\n",
        "            optimizer.zero_grad()\n",
        "            output = model(data)\n",
        "            loss = criterion(output, target)\n",
        "            loss.backward()\n",
        "            optimizer.step()\n",
        "            running_loss += loss.item()\n",
        "        print(f'Epoch [{epoch+1}/{epochs}], Loss: {running_loss/len(train_loader):.4f}')\n",
        "\n",
        "# Eksperimen\n",
        "model_with_bn = LeNetBN(use_bn=True)\n",
        "model_without_bn = LeNetBN(use_bn=False)\n",
        "\n",
        "optimizer_with_bn = optim.Adam(model_with_bn.parameters(), lr=0.001)\n",
        "optimizer_without_bn = optim.Adam(model_without_bn.parameters(), lr=0.001)\n",
        "\n",
        "criterion = nn.CrossEntropyLoss()\n",
        "\n",
        "# Training model dengan dan tanpa BN\n",
        "print(\"Training model dengan BN:\")\n",
        "train(model_with_bn, optimizer_with_bn, criterion)\n",
        "\n",
        "print(\"\\nTraining model tanpa BN:\")\n",
        "train(model_without_bn, optimizer_without_bn, criterion)\n"
      ],
      "metadata": {
        "colab": {
          "base_uri": "https://localhost:8080/"
        },
        "id": "BQClxETvd_HF",
        "outputId": "81445d9c-7bb8-402e-d5a4-8cf0ea13e29b"
      },
      "execution_count": 63,
      "outputs": [
        {
          "output_type": "stream",
          "name": "stdout",
          "text": [
            "Downloading http://yann.lecun.com/exdb/mnist/train-images-idx3-ubyte.gz\n",
            "Failed to download (trying next):\n",
            "HTTP Error 403: Forbidden\n",
            "\n",
            "Downloading https://ossci-datasets.s3.amazonaws.com/mnist/train-images-idx3-ubyte.gz\n",
            "Downloading https://ossci-datasets.s3.amazonaws.com/mnist/train-images-idx3-ubyte.gz to ./data/MNIST/raw/train-images-idx3-ubyte.gz\n"
          ]
        },
        {
          "output_type": "stream",
          "name": "stderr",
          "text": [
            "100%|██████████| 9912422/9912422 [00:00<00:00, 17669055.33it/s]\n"
          ]
        },
        {
          "output_type": "stream",
          "name": "stdout",
          "text": [
            "Extracting ./data/MNIST/raw/train-images-idx3-ubyte.gz to ./data/MNIST/raw\n",
            "\n",
            "Downloading http://yann.lecun.com/exdb/mnist/train-labels-idx1-ubyte.gz\n",
            "Failed to download (trying next):\n",
            "HTTP Error 403: Forbidden\n",
            "\n",
            "Downloading https://ossci-datasets.s3.amazonaws.com/mnist/train-labels-idx1-ubyte.gz\n",
            "Downloading https://ossci-datasets.s3.amazonaws.com/mnist/train-labels-idx1-ubyte.gz to ./data/MNIST/raw/train-labels-idx1-ubyte.gz\n"
          ]
        },
        {
          "output_type": "stream",
          "name": "stderr",
          "text": [
            "100%|██████████| 28881/28881 [00:00<00:00, 483817.05it/s]\n"
          ]
        },
        {
          "output_type": "stream",
          "name": "stdout",
          "text": [
            "Extracting ./data/MNIST/raw/train-labels-idx1-ubyte.gz to ./data/MNIST/raw\n",
            "\n",
            "Downloading http://yann.lecun.com/exdb/mnist/t10k-images-idx3-ubyte.gz\n",
            "Failed to download (trying next):\n",
            "HTTP Error 403: Forbidden\n",
            "\n",
            "Downloading https://ossci-datasets.s3.amazonaws.com/mnist/t10k-images-idx3-ubyte.gz\n",
            "Downloading https://ossci-datasets.s3.amazonaws.com/mnist/t10k-images-idx3-ubyte.gz to ./data/MNIST/raw/t10k-images-idx3-ubyte.gz\n"
          ]
        },
        {
          "output_type": "stream",
          "name": "stderr",
          "text": [
            "100%|██████████| 1648877/1648877 [00:00<00:00, 4405708.27it/s]\n"
          ]
        },
        {
          "output_type": "stream",
          "name": "stdout",
          "text": [
            "Extracting ./data/MNIST/raw/t10k-images-idx3-ubyte.gz to ./data/MNIST/raw\n",
            "\n",
            "Downloading http://yann.lecun.com/exdb/mnist/t10k-labels-idx1-ubyte.gz\n",
            "Failed to download (trying next):\n",
            "HTTP Error 403: Forbidden\n",
            "\n",
            "Downloading https://ossci-datasets.s3.amazonaws.com/mnist/t10k-labels-idx1-ubyte.gz\n",
            "Downloading https://ossci-datasets.s3.amazonaws.com/mnist/t10k-labels-idx1-ubyte.gz to ./data/MNIST/raw/t10k-labels-idx1-ubyte.gz\n"
          ]
        },
        {
          "output_type": "stream",
          "name": "stderr",
          "text": [
            "100%|██████████| 4542/4542 [00:00<00:00, 12566311.85it/s]\n"
          ]
        },
        {
          "output_type": "stream",
          "name": "stdout",
          "text": [
            "Extracting ./data/MNIST/raw/t10k-labels-idx1-ubyte.gz to ./data/MNIST/raw\n",
            "\n",
            "Training model dengan BN:\n",
            "Epoch [1/5], Loss: 0.1647\n",
            "Epoch [2/5], Loss: 0.0517\n",
            "Epoch [3/5], Loss: 0.0373\n",
            "Epoch [4/5], Loss: 0.0313\n",
            "Epoch [5/5], Loss: 0.0260\n",
            "\n",
            "Training model tanpa BN:\n",
            "Epoch [1/5], Loss: 0.3129\n",
            "Epoch [2/5], Loss: 0.0828\n",
            "Epoch [3/5], Loss: 0.0558\n",
            "Epoch [4/5], Loss: 0.0449\n",
            "Epoch [5/5], Loss: 0.0381\n"
          ]
        }
      ]
    },
    {
      "cell_type": "markdown",
      "source": [
        "**4. Implement a “lite” version of batch normalization that only removes the mean, or alternatively one that only removes the variance. How does it behave?**"
      ],
      "metadata": {
        "id": "djFm6Zc-ejqe"
      }
    },
    {
      "cell_type": "code",
      "source": [
        "# Menghapus Mean\n",
        "\n",
        "import torch\n",
        "import torch.nn as nn\n",
        "\n",
        "class MeanNormalization(nn.Module):\n",
        "    def __init__(self):\n",
        "        super(MeanNormalization, self).__init__()\n",
        "\n",
        "    def forward(self, x):\n",
        "        mean = x.mean(dim=0, keepdim=True)\n",
        "        return x - mean"
      ],
      "metadata": {
        "id": "y5yzvFFceTT3"
      },
      "execution_count": 64,
      "outputs": []
    },
    {
      "cell_type": "code",
      "source": [
        "# Menghapus Varians\n",
        "\n",
        "class VarianceNormalization(nn.Module):\n",
        "    def __init__(self):\n",
        "        super(VarianceNormalization, self).__init__()\n",
        "\n",
        "    def forward(self, x):\n",
        "        std = x.std(dim=0, keepdim=True)\n",
        "        return x / (std + 1e-5)  # Menambahkan epsilon kecil untuk menghindari pembagian dengan nol\n"
      ],
      "metadata": {
        "id": "4-_9nUzveaGN"
      },
      "execution_count": 65,
      "outputs": []
    },
    {
      "cell_type": "markdown",
      "source": [
        "Teknik normalisasi \"lite\" ini dapat memberikan wawasan tentang bagaimana setiap komponen dari batch normalization berkontribusi terhadap stabilitas dan performa model.\\\n",
        "Mean normalization dapat membantu dengan memusatkan data, sedangkan variance normalization dapat membantu dengan mengatasi skala data.\\\n",
        "Kombinasi dari kedua teknik ini dalam Batch Normalization secara umum memberikan hasil yang lebih baik karena menggabungkan manfaat dari pemusatan dan penskalaan, meningkatkan performa dan stabilitas model."
      ],
      "metadata": {
        "id": "FpIEeTLTerNP"
      }
    },
    {
      "cell_type": "markdown",
      "source": [
        "**5. Fix the parameters beta and gamma. Observe and analyze the results.**"
      ],
      "metadata": {
        "id": "NuS2J4uTes83"
      }
    },
    {
      "cell_type": "code",
      "source": [
        "class FixedBatchNorm(nn.Module):\n",
        "    def __init__(self, num_features, beta=0.0, gamma=1.0):\n",
        "        super(FixedBatchNorm, self).__init__()\n",
        "        self.beta = beta\n",
        "        self.gamma = gamma\n",
        "        self.num_features = num_features\n",
        "\n",
        "    def forward(self, x):\n",
        "        mean = x.mean(dim=0, keepdim=True)\n",
        "        std = x.std(dim=0, keepdim=True) + 1e-5  # Prevent division by zero\n",
        "        normalized_x = (x - mean) / std\n",
        "        return self.gamma * normalized_x + self.beta"
      ],
      "metadata": {
        "id": "i9npiRqZe3w0"
      },
      "execution_count": 66,
      "outputs": []
    },
    {
      "cell_type": "code",
      "source": [
        "class SimpleNetFixed(nn.Module):\n",
        "    def __init__(self, beta=0.0, gamma=1.0):\n",
        "        super(SimpleNetFixed, self).__init__()\n",
        "        self.conv1 = nn.Conv2d(1, 16, kernel_size=5)\n",
        "        self.conv2 = nn.Conv2d(16, 32, kernel_size=5)\n",
        "        self.fc1 = nn.Linear(32 * 4 * 4, 120)\n",
        "        self.fc2 = nn.Linear(120, 84)\n",
        "        self.fc3 = nn.Linear(84, 10)\n",
        "\n",
        "        # Using fixed batch normalization with specified beta and gamma\n",
        "        self.norm1 = FixedBatchNorm(16, beta=beta, gamma=gamma)\n",
        "        self.norm2 = FixedBatchNorm(32, beta=beta, gamma=gamma)\n",
        "        self.norm3 = FixedBatchNorm(120, beta=beta, gamma=gamma)\n",
        "\n",
        "    def forward(self, x):\n",
        "        x = self.conv1(x)\n",
        "        x = self.norm1(x)\n",
        "        x = torch.relu(x)\n",
        "        x = torch.max_pool2d(x, 2)\n",
        "\n",
        "        x = self.conv2(x)\n",
        "        x = self.norm2(x)\n",
        "        x = torch.relu(x)\n",
        "        x = torch.max_pool2d(x, 2)\n",
        "\n",
        "        x = x.view(-1, 32 * 4 * 4)\n",
        "        x = self.fc1(x)\n",
        "        x = self.norm3(x)\n",
        "        x = torch.relu(x)\n",
        "\n",
        "        x = self.fc2(x)\n",
        "        x = torch.relu(x)\n",
        "\n",
        "        x = self.fc3(x)\n",
        "        return x"
      ],
      "metadata": {
        "id": "eU8n-KxYe7bh"
      },
      "execution_count": 67,
      "outputs": []
    },
    {
      "cell_type": "markdown",
      "source": [
        "Memperbaiki nilai parameter 𝛽 dan 𝛾 dapat memberikan pemahaman yang lebih baik mengenai seberapa penting fungsi kedua parameter ini dalam proses batch normalization. Melalui eksperimen ini, kita dapat menentukan apakah memberikan kebebasan kepada model untuk belajar nilai 𝛽 dan 𝛾 dari data akan lebih efektif dalam meningkatkan kinerja model dibandingkan dengan menetapkannya secara manual pada nilai tertentu."
      ],
      "metadata": {
        "id": "gRf86Ff5e_sD"
      }
    },
    {
      "cell_type": "markdown",
      "source": [
        "**6. Can you replace dropout by batch normalization? How does the behavior change?**"
      ],
      "metadata": {
        "id": "GbHPQxfkflK3"
      }
    },
    {
      "cell_type": "code",
      "source": [
        "# Asli dengan Dropoout\n",
        "\n",
        "import torch\n",
        "import torch.nn as nn\n",
        "\n",
        "class ModelDenganDropout(nn.Module):\n",
        "    def __init__(self):\n",
        "        super(ModelDenganDropout, self).__init__()\n",
        "        self.fc1 = nn.Linear(784, 256)\n",
        "        self.dropout = nn.Dropout(p=0.5)\n",
        "        self.fc2 = nn.Linear(256, 10)\n",
        "\n",
        "    def forward(self, x):\n",
        "        x = torch.relu(self.fc1(x))\n",
        "        x = self.dropout(x)\n",
        "        x = self.fc2(x)\n",
        "        return x"
      ],
      "metadata": {
        "id": "-NyeSBQZfwuL"
      },
      "execution_count": 68,
      "outputs": []
    },
    {
      "cell_type": "code",
      "source": [
        "# Dimodifikasi dengan Batch Normalization\n",
        "\n",
        "class ModelDenganBatchNorm(nn.Module):\n",
        "    def __init__(self):\n",
        "        super(ModelDenganBatchNorm, self).__init__()\n",
        "        self.fc1 = nn.Linear(784, 256)\n",
        "        self.batch_norm = nn.BatchNorm1d(256)\n",
        "        self.fc2 = nn.Linear(256, 10)\n",
        "\n",
        "    def forward(self, x):\n",
        "        x = torch.relu(self.fc1(x))\n",
        "        x = self.batch_norm(x)\n",
        "        x = self.fc2(x)\n",
        "        return x"
      ],
      "metadata": {
        "id": "r6Vq63uif2U2"
      },
      "execution_count": 69,
      "outputs": []
    },
    {
      "cell_type": "markdown",
      "source": [
        "Mengganti dropout dengan batch normalization dapat meningkatkan kecepatan konvergensi dan stabilitas pelatihan, tetapi dapat meningkatkan risiko overfitting. Pemilihan ini tergantung pada karakteristik spesifik dari masalah, kedalaman jaringan, dan jumlah data pelatihan yang tersedia."
      ],
      "metadata": {
        "id": "uk3zha8if96X"
      }
    },
    {
      "cell_type": "markdown",
      "source": [
        "**7. Research ideas: think of other normalization transforms that you can apply:**\n",
        "\n",
        "*  **Can you apply the probability integral transform?**"
      ],
      "metadata": {
        "id": "uBef-rWlgO2i"
      }
    },
    {
      "cell_type": "markdown",
      "source": [
        "Ya, transformasi integral probabilitas (Probability Integral Transform) dapat diterapkan. Transformasi ini mengubah data yang terdistribusi tidak normal menjadi data yang terdistribusi normal dengan menggunakan fungsi distribusi kumulatif. Dengan menerapkan transformasi ini, kita dapat memperoleh distribusi yang lebih mendekati normal, yang dapat meningkatkan kinerja algoritma pembelajaran mesin yang mengasumsikan normalitas data."
      ],
      "metadata": {
        "id": "1Co0bnbugynT"
      }
    },
    {
      "cell_type": "markdown",
      "source": [
        "*  **Can you use a full-rank covariance estimate? Why should you probably not do that?**"
      ],
      "metadata": {
        "id": "Smxnr9t4gVzY"
      }
    },
    {
      "cell_type": "markdown",
      "source": [
        "Meskipun estimasi kovarians penuh dapat memberikan informasi lengkap tentang hubungan antar variabel, penggunaannya mungkin tidak disarankan dalam banyak situasi. Ini karena estimasi kovarians penuh memerlukan estimasi yang akurat dari semua elemen matriks kovarians, yang dapat menjadi mahal dalam hal komputasi dan memori, terutama untuk dataset dengan banyak fitur. Selain itu, matriks kovarians penuh dapat menjadi tidak stabil jika data mengandung noise yang tinggi atau memiliki dimensionalitas yang sangat tinggi, yang dapat menyebabkan overfitting."
      ],
      "metadata": {
        "id": "KQauwt_FhEjg"
      }
    },
    {
      "cell_type": "markdown",
      "source": [
        "* **Can you use other compact matrix variants (block-diagonal, low-displacement rank, Monarch, etc.)?**"
      ],
      "metadata": {
        "id": "7XAy5mqhgY4A"
      }
    },
    {
      "cell_type": "markdown",
      "source": [
        "Ya, varian matriks kompak seperti blok-diagonal, peringkat-displacement rendah, atau jenis matriks khusus lainnya dapat digunakan. Penggunaan matriks kompak ini dapat mengurangi kompleksitas komputasi dan memori yang dibutuhkan. Misalnya, matriks blok-diagonal dapat membantu memodelkan hubungan antar fitur yang tidak saling terkait, sehingga memungkinkan untuk optimasi yang lebih efisien. Namun, pemilihan tipe matriks yang tepat tergantung pada karakteristik data dan masalah yang ingin diselesaikan."
      ],
      "metadata": {
        "id": "NUDJ4LTehInZ"
      }
    },
    {
      "cell_type": "markdown",
      "source": [
        "* **Does a sparsification compression act as a regularizer?**"
      ],
      "metadata": {
        "id": "-PPJose6gbxv"
      }
    },
    {
      "cell_type": "markdown",
      "source": [
        "Ya, kompresi sparsifikasi dapat bertindak sebagai regulator. Dengan mengurangi jumlah parameter dalam model, sparsifikasi dapat membantu mencegah overfitting dan meningkatkan generalisasi model. Sparsifikasi memaksa model untuk mempelajari representasi yang lebih efisien dan relevan, karena hanya fitur-fitur penting yang dipertahankan. Hal ini dapat meningkatkan kinerja pada data yang tidak terlihat."
      ],
      "metadata": {
        "id": "V21nePnZhLbd"
      }
    },
    {
      "cell_type": "markdown",
      "source": [
        "* **Are there other projections (e.g., convex cone, symmetry group-specific transforms) that you can use?**"
      ],
      "metadata": {
        "id": "G5a6Ntx8gdTc"
      }
    },
    {
      "cell_type": "markdown",
      "source": [
        "Ya, terdapat berbagai proyeksi lain yang dapat digunakan, seperti proyeksi ke kerucut konveks atau transformasi yang mempertimbangkan struktur simetri. Proyeksi ke kerucut konveks dapat membantu dalam memodelkan masalah optimasi dengan batasan tertentu, sedangkan transformasi grup simetri dapat digunakan untuk menjaga struktur invariansi pada data. Penggunaan proyeksi ini tergantung pada konteks masalah yang sedang dihadapi dan dapat membantu meningkatkan kinerja model dengan memanfaatkan struktur khusus dari data."
      ],
      "metadata": {
        "id": "UaNkWsIhhOE3"
      }
    },
    {
      "cell_type": "markdown",
      "source": [
        "# 8.6. Residual Networks (ResNet) and ResNeXt"
      ],
      "metadata": {
        "id": "2PE2sWFOj3m7"
      }
    },
    {
      "cell_type": "code",
      "source": [
        "from torch.nn import functional as F"
      ],
      "metadata": {
        "id": "Yo9epYg6j7PE"
      },
      "execution_count": 70,
      "outputs": []
    },
    {
      "cell_type": "markdown",
      "source": [
        "## Residual Blocks"
      ],
      "metadata": {
        "id": "wRfhrIRGkCaS"
      }
    },
    {
      "cell_type": "code",
      "source": [
        "class Residual(nn.Module):  #save\n",
        "    \"\"\"The Residual block of ResNet models.\"\"\"\n",
        "    def __init__(self, num_channels, use_1x1conv=False, strides=1):\n",
        "        super().__init__()\n",
        "        self.conv1 = nn.LazyConv2d(num_channels, kernel_size=3, padding=1,\n",
        "                                   stride=strides)\n",
        "        self.conv2 = nn.LazyConv2d(num_channels, kernel_size=3, padding=1)\n",
        "        if use_1x1conv:\n",
        "            self.conv3 = nn.LazyConv2d(num_channels, kernel_size=1,\n",
        "                                       stride=strides)\n",
        "        else:\n",
        "            self.conv3 = None\n",
        "        self.bn1 = nn.LazyBatchNorm2d()\n",
        "        self.bn2 = nn.LazyBatchNorm2d()\n",
        "\n",
        "    def forward(self, X):\n",
        "        Y = F.relu(self.bn1(self.conv1(X)))\n",
        "        Y = self.bn2(self.conv2(Y))\n",
        "        if self.conv3:\n",
        "            X = self.conv3(X)\n",
        "        Y += X\n",
        "        return F.relu(Y)"
      ],
      "metadata": {
        "id": "eMRa32jEj_qK"
      },
      "execution_count": 71,
      "outputs": []
    },
    {
      "cell_type": "code",
      "source": [
        "blk = Residual(3)\n",
        "X = torch.randn(4, 3, 6, 6)\n",
        "blk(X).shape"
      ],
      "metadata": {
        "id": "0foA3awekHjK",
        "colab": {
          "base_uri": "https://localhost:8080/"
        },
        "outputId": "07e3ba0b-2811-4b8d-8466-231084e396f2"
      },
      "execution_count": 72,
      "outputs": [
        {
          "output_type": "execute_result",
          "data": {
            "text/plain": [
              "torch.Size([4, 3, 6, 6])"
            ]
          },
          "metadata": {},
          "execution_count": 72
        }
      ]
    },
    {
      "cell_type": "code",
      "source": [
        "blk = Residual(6, use_1x1conv=True, strides=2)\n",
        "blk(X).shape"
      ],
      "metadata": {
        "id": "XHK_ibglkIo9",
        "colab": {
          "base_uri": "https://localhost:8080/"
        },
        "outputId": "c58a2817-dc29-469e-8841-3110f9176474"
      },
      "execution_count": 73,
      "outputs": [
        {
          "output_type": "execute_result",
          "data": {
            "text/plain": [
              "torch.Size([4, 6, 3, 3])"
            ]
          },
          "metadata": {},
          "execution_count": 73
        }
      ]
    },
    {
      "cell_type": "markdown",
      "source": [
        "## ResNet Model"
      ],
      "metadata": {
        "id": "RTXPOJtjkJWA"
      }
    },
    {
      "cell_type": "code",
      "source": [
        "class ResNet(d2l.Classifier):\n",
        "    def b1(self):\n",
        "        return nn.Sequential(\n",
        "            nn.LazyConv2d(64, kernel_size=7, stride=2, padding=3),\n",
        "            nn.LazyBatchNorm2d(), nn.ReLU(),\n",
        "            nn.MaxPool2d(kernel_size=3, stride=2, padding=1))"
      ],
      "metadata": {
        "id": "dHwMgw9bkK8I"
      },
      "execution_count": 74,
      "outputs": []
    },
    {
      "cell_type": "code",
      "source": [
        "@d2l.add_to_class(ResNet)\n",
        "def block(self, num_residuals, num_channels, first_block=False):\n",
        "    blk = []\n",
        "    for i in range(num_residuals):\n",
        "        if i == 0 and not first_block:\n",
        "            blk.append(Residual(num_channels, use_1x1conv=True, strides=2))\n",
        "        else:\n",
        "            blk.append(Residual(num_channels))\n",
        "    return nn.Sequential(*blk)"
      ],
      "metadata": {
        "id": "pcDZrox6kL0f"
      },
      "execution_count": 75,
      "outputs": []
    },
    {
      "cell_type": "code",
      "source": [
        "@d2l.add_to_class(ResNet)\n",
        "def __init__(self, arch, lr=0.1, num_classes=10):\n",
        "    super(ResNet, self).__init__()\n",
        "    self.save_hyperparameters()\n",
        "    self.net = nn.Sequential(self.b1())\n",
        "    for i, b in enumerate(arch):\n",
        "        self.net.add_module(f'b{i+2}', self.block(*b, first_block=(i==0)))\n",
        "    self.net.add_module('last', nn.Sequential(\n",
        "        nn.AdaptiveAvgPool2d((1, 1)), nn.Flatten(),\n",
        "        nn.LazyLinear(num_classes)))\n",
        "    self.net.apply(d2l.init_cnn)"
      ],
      "metadata": {
        "id": "WOGjml57kMoa"
      },
      "execution_count": 76,
      "outputs": []
    },
    {
      "cell_type": "code",
      "source": [
        "class ResNet18(ResNet):\n",
        "    def __init__(self, lr=0.1, num_classes=10):\n",
        "        super().__init__(((2, 64), (2, 128), (2, 256), (2, 512)),\n",
        "                       lr, num_classes)\n",
        "\n",
        "ResNet18().layer_summary((1, 1, 96, 96))"
      ],
      "metadata": {
        "id": "-Xx_pdS9kNoX",
        "colab": {
          "base_uri": "https://localhost:8080/"
        },
        "outputId": "72df0265-3aee-4acd-f650-644f47753ae9"
      },
      "execution_count": 77,
      "outputs": [
        {
          "output_type": "stream",
          "name": "stdout",
          "text": [
            "Sequential output shape:\t torch.Size([1, 64, 24, 24])\n",
            "Sequential output shape:\t torch.Size([1, 64, 24, 24])\n",
            "Sequential output shape:\t torch.Size([1, 128, 12, 12])\n",
            "Sequential output shape:\t torch.Size([1, 256, 6, 6])\n",
            "Sequential output shape:\t torch.Size([1, 512, 3, 3])\n",
            "Sequential output shape:\t torch.Size([1, 10])\n"
          ]
        }
      ]
    },
    {
      "cell_type": "markdown",
      "source": [
        "## Training"
      ],
      "metadata": {
        "id": "l_92sb_kkOZR"
      }
    },
    {
      "cell_type": "code",
      "source": [
        "model = ResNet18(lr=0.01)\n",
        "trainer = d2l.Trainer(max_epochs=10, num_gpus=1)\n",
        "data = d2l.FashionMNIST(batch_size=128, resize=(96, 96))\n",
        "model.apply_init([next(iter(data.get_dataloader(True)))[0]], d2l.init_cnn)\n",
        "trainer.fit(model, data)"
      ],
      "metadata": {
        "id": "YXX5jp95kPok"
      },
      "execution_count": null,
      "outputs": []
    },
    {
      "cell_type": "markdown",
      "source": [
        "## ResNeXt"
      ],
      "metadata": {
        "id": "JX3KuuqnkRKM"
      }
    },
    {
      "cell_type": "code",
      "source": [
        "class ResNeXtBlock(nn.Module):  #save\n",
        "    \"\"\"The ResNeXt block.\"\"\"\n",
        "    def __init__(self, num_channels, groups, bot_mul, use_1x1conv=False,\n",
        "                 strides=1):\n",
        "        super().__init__()\n",
        "        bot_channels = int(round(num_channels * bot_mul))\n",
        "        self.conv1 = nn.LazyConv2d(bot_channels, kernel_size=1, stride=1)\n",
        "        self.conv2 = nn.LazyConv2d(bot_channels, kernel_size=3,\n",
        "                                   stride=strides, padding=1,\n",
        "                                   groups=bot_channels//groups)\n",
        "        self.conv3 = nn.LazyConv2d(num_channels, kernel_size=1, stride=1)\n",
        "        self.bn1 = nn.LazyBatchNorm2d()\n",
        "        self.bn2 = nn.LazyBatchNorm2d()\n",
        "        self.bn3 = nn.LazyBatchNorm2d()\n",
        "        if use_1x1conv:\n",
        "            self.conv4 = nn.LazyConv2d(num_channels, kernel_size=1,\n",
        "                                       stride=strides)\n",
        "            self.bn4 = nn.LazyBatchNorm2d()\n",
        "        else:\n",
        "            self.conv4 = None\n",
        "\n",
        "    def forward(self, X):\n",
        "        Y = F.relu(self.bn1(self.conv1(X)))\n",
        "        Y = F.relu(self.bn2(self.conv2(Y)))\n",
        "        Y = self.bn3(self.conv3(Y))\n",
        "        if self.conv4:\n",
        "            X = self.bn4(self.conv4(X))\n",
        "        return F.relu(Y + X)"
      ],
      "metadata": {
        "id": "E9ddodmQkTUx"
      },
      "execution_count": 78,
      "outputs": []
    },
    {
      "cell_type": "code",
      "source": [
        "blk = ResNeXtBlock(32, 16, 1)\n",
        "X = torch.randn(4, 32, 96, 96)\n",
        "blk(X).shape"
      ],
      "metadata": {
        "id": "2jpA1LiRkVsM",
        "colab": {
          "base_uri": "https://localhost:8080/"
        },
        "outputId": "4c17f821-f870-41d6-c674-e490c2fcd5e6"
      },
      "execution_count": 79,
      "outputs": [
        {
          "output_type": "execute_result",
          "data": {
            "text/plain": [
              "torch.Size([4, 32, 96, 96])"
            ]
          },
          "metadata": {},
          "execution_count": 79
        }
      ]
    },
    {
      "cell_type": "markdown",
      "source": [
        "## Exercises"
      ],
      "metadata": {
        "id": "bOFJEdtjhrdN"
      }
    },
    {
      "cell_type": "markdown",
      "source": [
        "**1. What are the major differences between the Inception block in Fig. 8.4.1 and the residual block? How do they compare in terms of computation, accuracy, and the classes of functions they can describe?**"
      ],
      "metadata": {
        "id": "ANF8AmX2htBS"
      }
    },
    {
      "cell_type": "markdown",
      "source": [
        "Komputasi: Inception block lebih kompleks dalam komputasi dibandingkan residual block karena memiliki banyak jalur paralel dengan operasi yang berbeda. Residual block lebih efisien karena hanya menambahkan koneksi shortcut yang tidak menambah beban komputasi signifikan.\\\n",
        "Akurasi: Kedua block dapat meningkatkan akurasi, tetapi residual block lebih unggul dalam jaringan yang sangat dalam karena mengatasi masalah degradasi performa. Inception block lebih unggul dalam menangkap fitur multi-skala.\\\n",
        "Jenis Fungsi: Inception block mampu mewakili fungsi kompleks dengan berbagai skala fitur, sementara residual block lebih unggul dalam membantu jaringan belajar fungsi identitas pada kedalaman yang lebih besar."
      ],
      "metadata": {
        "id": "nESpPPhlJWSy"
      }
    },
    {
      "cell_type": "markdown",
      "source": [
        "**2. Refer to Table 1 in the ResNet paper (He et al., 2016) to implement different variants of the network.**\n"
      ],
      "metadata": {
        "id": "g1sKBWRrhumu"
      }
    },
    {
      "cell_type": "code",
      "source": [
        "import torch\n",
        "import torch.nn as nn\n",
        "\n",
        "class BasicBlock(nn.Module):\n",
        "    def __init__(self, in_channels, out_channels, stride=1, downsample=None):\n",
        "        super(BasicBlock, self).__init__()\n",
        "        self.conv1 = nn.Conv2d(in_channels, out_channels, kernel_size=3, stride=stride, padding=1)\n",
        "        self.bn1 = nn.BatchNorm2d(out_channels)\n",
        "        self.relu = nn.ReLU(inplace=True)\n",
        "        self.conv2 = nn.Conv2d(out_channels, out_channels, kernel_size=3, padding=1)\n",
        "        self.bn2 = nn.BatchNorm2d(out_channels)\n",
        "        self.downsample = downsample\n",
        "\n",
        "    def forward(self, x):\n",
        "        identity = x\n",
        "        if self.downsample is not None:\n",
        "            identity = self.downsample(x)\n",
        "        out = self.conv1(x)\n",
        "        out = self.bn1(out)\n",
        "        out = self.relu(out)\n",
        "        out = self.conv2(out)\n",
        "        out = self.bn2(out)\n",
        "        out += identity\n",
        "        out = self.relu(out)\n",
        "        return out\n",
        "\n",
        "class ResNet(nn.Module):\n",
        "    def __init__(self, block, layers, num_classes=1000):\n",
        "        super(ResNet, self).__init__()\n",
        "        self.in_channels = 64\n",
        "        self.conv1 = nn.Conv2d(3, 64, kernel_size=7, stride=2, padding=3)\n",
        "        self.bn1 = nn.BatchNorm2d(64)\n",
        "        self.relu = nn.ReLU(inplace=True)\n",
        "        self.maxpool = nn.MaxPool2d(kernel_size=3, stride=2, padding=1)\n",
        "        self.layer1 = self._make_layer(block, 64, layers[0])\n",
        "        self.layer2 = self._make_layer(block, 128, layers[1], stride=2)\n",
        "        self.layer3 = self._make_layer(block, 256, layers[2], stride=2)\n",
        "        self.layer4 = self._make_layer(block, 512, layers[3], stride=2)\n",
        "        self.avgpool = nn.AdaptiveAvgPool2d((1, 1))\n",
        "        self.fc = nn.Linear(512, num_classes)\n",
        "\n",
        "    def _make_layer(self, block, out_channels, blocks, stride=1):\n",
        "        downsample = None\n",
        "        if stride != 1 or self.in_channels != out_channels:\n",
        "            downsample = nn.Sequential(\n",
        "                nn.Conv2d(self.in_channels, out_channels, kernel_size=1, stride=stride),\n",
        "                nn.BatchNorm2d(out_channels),\n",
        "            )\n",
        "        layers = []\n",
        "        layers.append(block(self.in_channels, out_channels, stride, downsample))\n",
        "        self.in_channels = out_channels\n",
        "        for _ in range(1, blocks):\n",
        "            layers.append(block(out_channels, out_channels))\n",
        "        return nn.Sequential(*layers)\n",
        "\n",
        "    def forward(self, x):\n",
        "        x = self.conv1(x)\n",
        "        x = self.bn1(x)\n",
        "        x = self.relu(x)\n",
        "        x = self.maxpool(x)\n",
        "        x = self.layer1(x)\n",
        "        x = self.layer2(x)\n",
        "        x = self.layer3(x)\n",
        "        x = self.layer4(x)\n",
        "        x = self.avgpool(x)\n",
        "        x = torch.flatten(x, 1)\n",
        "        x = self.fc(x)\n",
        "        return x\n",
        "\n",
        "def resnet18():\n",
        "    return ResNet(BasicBlock, [2, 2, 2, 2])\n",
        "\n",
        "# Instantiate ResNet-18\n",
        "model = resnet18()\n",
        "print(model)"
      ],
      "metadata": {
        "colab": {
          "base_uri": "https://localhost:8080/"
        },
        "id": "skmDkm9LJ-V9",
        "outputId": "0653e9c3-f941-4f0b-c89d-eca2d41795a9"
      },
      "execution_count": 80,
      "outputs": [
        {
          "output_type": "stream",
          "name": "stdout",
          "text": [
            "ResNet(\n",
            "  (conv1): Conv2d(3, 64, kernel_size=(7, 7), stride=(2, 2), padding=(3, 3))\n",
            "  (bn1): BatchNorm2d(64, eps=1e-05, momentum=0.1, affine=True, track_running_stats=True)\n",
            "  (relu): ReLU(inplace=True)\n",
            "  (maxpool): MaxPool2d(kernel_size=3, stride=2, padding=1, dilation=1, ceil_mode=False)\n",
            "  (layer1): Sequential(\n",
            "    (0): BasicBlock(\n",
            "      (conv1): Conv2d(64, 64, kernel_size=(3, 3), stride=(1, 1), padding=(1, 1))\n",
            "      (bn1): BatchNorm2d(64, eps=1e-05, momentum=0.1, affine=True, track_running_stats=True)\n",
            "      (relu): ReLU(inplace=True)\n",
            "      (conv2): Conv2d(64, 64, kernel_size=(3, 3), stride=(1, 1), padding=(1, 1))\n",
            "      (bn2): BatchNorm2d(64, eps=1e-05, momentum=0.1, affine=True, track_running_stats=True)\n",
            "    )\n",
            "    (1): BasicBlock(\n",
            "      (conv1): Conv2d(64, 64, kernel_size=(3, 3), stride=(1, 1), padding=(1, 1))\n",
            "      (bn1): BatchNorm2d(64, eps=1e-05, momentum=0.1, affine=True, track_running_stats=True)\n",
            "      (relu): ReLU(inplace=True)\n",
            "      (conv2): Conv2d(64, 64, kernel_size=(3, 3), stride=(1, 1), padding=(1, 1))\n",
            "      (bn2): BatchNorm2d(64, eps=1e-05, momentum=0.1, affine=True, track_running_stats=True)\n",
            "    )\n",
            "  )\n",
            "  (layer2): Sequential(\n",
            "    (0): BasicBlock(\n",
            "      (conv1): Conv2d(64, 128, kernel_size=(3, 3), stride=(2, 2), padding=(1, 1))\n",
            "      (bn1): BatchNorm2d(128, eps=1e-05, momentum=0.1, affine=True, track_running_stats=True)\n",
            "      (relu): ReLU(inplace=True)\n",
            "      (conv2): Conv2d(128, 128, kernel_size=(3, 3), stride=(1, 1), padding=(1, 1))\n",
            "      (bn2): BatchNorm2d(128, eps=1e-05, momentum=0.1, affine=True, track_running_stats=True)\n",
            "      (downsample): Sequential(\n",
            "        (0): Conv2d(64, 128, kernel_size=(1, 1), stride=(2, 2))\n",
            "        (1): BatchNorm2d(128, eps=1e-05, momentum=0.1, affine=True, track_running_stats=True)\n",
            "      )\n",
            "    )\n",
            "    (1): BasicBlock(\n",
            "      (conv1): Conv2d(128, 128, kernel_size=(3, 3), stride=(1, 1), padding=(1, 1))\n",
            "      (bn1): BatchNorm2d(128, eps=1e-05, momentum=0.1, affine=True, track_running_stats=True)\n",
            "      (relu): ReLU(inplace=True)\n",
            "      (conv2): Conv2d(128, 128, kernel_size=(3, 3), stride=(1, 1), padding=(1, 1))\n",
            "      (bn2): BatchNorm2d(128, eps=1e-05, momentum=0.1, affine=True, track_running_stats=True)\n",
            "    )\n",
            "  )\n",
            "  (layer3): Sequential(\n",
            "    (0): BasicBlock(\n",
            "      (conv1): Conv2d(128, 256, kernel_size=(3, 3), stride=(2, 2), padding=(1, 1))\n",
            "      (bn1): BatchNorm2d(256, eps=1e-05, momentum=0.1, affine=True, track_running_stats=True)\n",
            "      (relu): ReLU(inplace=True)\n",
            "      (conv2): Conv2d(256, 256, kernel_size=(3, 3), stride=(1, 1), padding=(1, 1))\n",
            "      (bn2): BatchNorm2d(256, eps=1e-05, momentum=0.1, affine=True, track_running_stats=True)\n",
            "      (downsample): Sequential(\n",
            "        (0): Conv2d(128, 256, kernel_size=(1, 1), stride=(2, 2))\n",
            "        (1): BatchNorm2d(256, eps=1e-05, momentum=0.1, affine=True, track_running_stats=True)\n",
            "      )\n",
            "    )\n",
            "    (1): BasicBlock(\n",
            "      (conv1): Conv2d(256, 256, kernel_size=(3, 3), stride=(1, 1), padding=(1, 1))\n",
            "      (bn1): BatchNorm2d(256, eps=1e-05, momentum=0.1, affine=True, track_running_stats=True)\n",
            "      (relu): ReLU(inplace=True)\n",
            "      (conv2): Conv2d(256, 256, kernel_size=(3, 3), stride=(1, 1), padding=(1, 1))\n",
            "      (bn2): BatchNorm2d(256, eps=1e-05, momentum=0.1, affine=True, track_running_stats=True)\n",
            "    )\n",
            "  )\n",
            "  (layer4): Sequential(\n",
            "    (0): BasicBlock(\n",
            "      (conv1): Conv2d(256, 512, kernel_size=(3, 3), stride=(2, 2), padding=(1, 1))\n",
            "      (bn1): BatchNorm2d(512, eps=1e-05, momentum=0.1, affine=True, track_running_stats=True)\n",
            "      (relu): ReLU(inplace=True)\n",
            "      (conv2): Conv2d(512, 512, kernel_size=(3, 3), stride=(1, 1), padding=(1, 1))\n",
            "      (bn2): BatchNorm2d(512, eps=1e-05, momentum=0.1, affine=True, track_running_stats=True)\n",
            "      (downsample): Sequential(\n",
            "        (0): Conv2d(256, 512, kernel_size=(1, 1), stride=(2, 2))\n",
            "        (1): BatchNorm2d(512, eps=1e-05, momentum=0.1, affine=True, track_running_stats=True)\n",
            "      )\n",
            "    )\n",
            "    (1): BasicBlock(\n",
            "      (conv1): Conv2d(512, 512, kernel_size=(3, 3), stride=(1, 1), padding=(1, 1))\n",
            "      (bn1): BatchNorm2d(512, eps=1e-05, momentum=0.1, affine=True, track_running_stats=True)\n",
            "      (relu): ReLU(inplace=True)\n",
            "      (conv2): Conv2d(512, 512, kernel_size=(3, 3), stride=(1, 1), padding=(1, 1))\n",
            "      (bn2): BatchNorm2d(512, eps=1e-05, momentum=0.1, affine=True, track_running_stats=True)\n",
            "    )\n",
            "  )\n",
            "  (avgpool): AdaptiveAvgPool2d(output_size=(1, 1))\n",
            "  (fc): Linear(in_features=512, out_features=1000, bias=True)\n",
            ")\n"
          ]
        }
      ]
    },
    {
      "cell_type": "code",
      "source": [
        "class Bottleneck(nn.Module):\n",
        "    expansion = 4\n",
        "\n",
        "    def __init__(self, in_channels, out_channels, stride=1, downsample=None):\n",
        "        super(Bottleneck, self).__init__()\n",
        "        self.conv1 = nn.Conv2d(in_channels, out_channels, kernel_size=1, stride=1)\n",
        "        self.bn1 = nn.BatchNorm2d(out_channels)\n",
        "        self.conv2 = nn.Conv2d(out_channels, out_channels, kernel_size=3, stride=stride, padding=1)\n",
        "        self.bn2 = nn.BatchNorm2d(out_channels)\n",
        "        self.conv3 = nn.Conv2d(out_channels, out_channels * 4, kernel_size=1)\n",
        "        self.bn3 = nn.BatchNorm2d(out_channels * 4)\n",
        "        self.relu = nn.ReLU(inplace=True)\n",
        "        self.downsample = downsample\n",
        "\n",
        "    def forward(self, x):\n",
        "        identity = x\n",
        "        if self.downsample is not None:\n",
        "            identity = self.downsample(x)\n",
        "        out = self.conv1(x)\n",
        "        out = self.bn1(out)\n",
        "        out = self.relu(out)\n",
        "        out = self.conv2(out)\n",
        "        out = self.bn2(out)\n",
        "        out = self.relu(out)\n",
        "        out = self.conv3(out)\n",
        "        out = self.bn3(out)\n",
        "        out += identity\n",
        "        out = self.relu(out)\n",
        "        return out\n",
        "\n",
        "def resnet50():\n",
        "    return ResNet(Bottleneck, [3, 4, 6, 3])\n",
        "\n",
        "# Instantiate ResNet-50\n",
        "model = resnet50()\n",
        "print(model)"
      ],
      "metadata": {
        "colab": {
          "base_uri": "https://localhost:8080/"
        },
        "id": "CpYYZ2ntKKoc",
        "outputId": "2a678d3c-7487-450a-9099-8ad2650bcb40"
      },
      "execution_count": 5,
      "outputs": [
        {
          "output_type": "stream",
          "name": "stdout",
          "text": [
            "ResNet(\n",
            "  (conv1): Conv2d(3, 64, kernel_size=(7, 7), stride=(2, 2), padding=(3, 3))\n",
            "  (bn1): BatchNorm2d(64, eps=1e-05, momentum=0.1, affine=True, track_running_stats=True)\n",
            "  (relu): ReLU(inplace=True)\n",
            "  (maxpool): MaxPool2d(kernel_size=3, stride=2, padding=1, dilation=1, ceil_mode=False)\n",
            "  (layer1): Sequential(\n",
            "    (0): Bottleneck(\n",
            "      (conv1): Conv2d(64, 64, kernel_size=(1, 1), stride=(1, 1))\n",
            "      (bn1): BatchNorm2d(64, eps=1e-05, momentum=0.1, affine=True, track_running_stats=True)\n",
            "      (conv2): Conv2d(64, 64, kernel_size=(3, 3), stride=(1, 1), padding=(1, 1))\n",
            "      (bn2): BatchNorm2d(64, eps=1e-05, momentum=0.1, affine=True, track_running_stats=True)\n",
            "      (conv3): Conv2d(64, 256, kernel_size=(1, 1), stride=(1, 1))\n",
            "      (bn3): BatchNorm2d(256, eps=1e-05, momentum=0.1, affine=True, track_running_stats=True)\n",
            "      (relu): ReLU(inplace=True)\n",
            "    )\n",
            "    (1): Bottleneck(\n",
            "      (conv1): Conv2d(64, 64, kernel_size=(1, 1), stride=(1, 1))\n",
            "      (bn1): BatchNorm2d(64, eps=1e-05, momentum=0.1, affine=True, track_running_stats=True)\n",
            "      (conv2): Conv2d(64, 64, kernel_size=(3, 3), stride=(1, 1), padding=(1, 1))\n",
            "      (bn2): BatchNorm2d(64, eps=1e-05, momentum=0.1, affine=True, track_running_stats=True)\n",
            "      (conv3): Conv2d(64, 256, kernel_size=(1, 1), stride=(1, 1))\n",
            "      (bn3): BatchNorm2d(256, eps=1e-05, momentum=0.1, affine=True, track_running_stats=True)\n",
            "      (relu): ReLU(inplace=True)\n",
            "    )\n",
            "    (2): Bottleneck(\n",
            "      (conv1): Conv2d(64, 64, kernel_size=(1, 1), stride=(1, 1))\n",
            "      (bn1): BatchNorm2d(64, eps=1e-05, momentum=0.1, affine=True, track_running_stats=True)\n",
            "      (conv2): Conv2d(64, 64, kernel_size=(3, 3), stride=(1, 1), padding=(1, 1))\n",
            "      (bn2): BatchNorm2d(64, eps=1e-05, momentum=0.1, affine=True, track_running_stats=True)\n",
            "      (conv3): Conv2d(64, 256, kernel_size=(1, 1), stride=(1, 1))\n",
            "      (bn3): BatchNorm2d(256, eps=1e-05, momentum=0.1, affine=True, track_running_stats=True)\n",
            "      (relu): ReLU(inplace=True)\n",
            "    )\n",
            "  )\n",
            "  (layer2): Sequential(\n",
            "    (0): Bottleneck(\n",
            "      (conv1): Conv2d(64, 128, kernel_size=(1, 1), stride=(1, 1))\n",
            "      (bn1): BatchNorm2d(128, eps=1e-05, momentum=0.1, affine=True, track_running_stats=True)\n",
            "      (conv2): Conv2d(128, 128, kernel_size=(3, 3), stride=(2, 2), padding=(1, 1))\n",
            "      (bn2): BatchNorm2d(128, eps=1e-05, momentum=0.1, affine=True, track_running_stats=True)\n",
            "      (conv3): Conv2d(128, 512, kernel_size=(1, 1), stride=(1, 1))\n",
            "      (bn3): BatchNorm2d(512, eps=1e-05, momentum=0.1, affine=True, track_running_stats=True)\n",
            "      (relu): ReLU(inplace=True)\n",
            "      (downsample): Sequential(\n",
            "        (0): Conv2d(64, 128, kernel_size=(1, 1), stride=(2, 2))\n",
            "        (1): BatchNorm2d(128, eps=1e-05, momentum=0.1, affine=True, track_running_stats=True)\n",
            "      )\n",
            "    )\n",
            "    (1): Bottleneck(\n",
            "      (conv1): Conv2d(128, 128, kernel_size=(1, 1), stride=(1, 1))\n",
            "      (bn1): BatchNorm2d(128, eps=1e-05, momentum=0.1, affine=True, track_running_stats=True)\n",
            "      (conv2): Conv2d(128, 128, kernel_size=(3, 3), stride=(1, 1), padding=(1, 1))\n",
            "      (bn2): BatchNorm2d(128, eps=1e-05, momentum=0.1, affine=True, track_running_stats=True)\n",
            "      (conv3): Conv2d(128, 512, kernel_size=(1, 1), stride=(1, 1))\n",
            "      (bn3): BatchNorm2d(512, eps=1e-05, momentum=0.1, affine=True, track_running_stats=True)\n",
            "      (relu): ReLU(inplace=True)\n",
            "    )\n",
            "    (2): Bottleneck(\n",
            "      (conv1): Conv2d(128, 128, kernel_size=(1, 1), stride=(1, 1))\n",
            "      (bn1): BatchNorm2d(128, eps=1e-05, momentum=0.1, affine=True, track_running_stats=True)\n",
            "      (conv2): Conv2d(128, 128, kernel_size=(3, 3), stride=(1, 1), padding=(1, 1))\n",
            "      (bn2): BatchNorm2d(128, eps=1e-05, momentum=0.1, affine=True, track_running_stats=True)\n",
            "      (conv3): Conv2d(128, 512, kernel_size=(1, 1), stride=(1, 1))\n",
            "      (bn3): BatchNorm2d(512, eps=1e-05, momentum=0.1, affine=True, track_running_stats=True)\n",
            "      (relu): ReLU(inplace=True)\n",
            "    )\n",
            "    (3): Bottleneck(\n",
            "      (conv1): Conv2d(128, 128, kernel_size=(1, 1), stride=(1, 1))\n",
            "      (bn1): BatchNorm2d(128, eps=1e-05, momentum=0.1, affine=True, track_running_stats=True)\n",
            "      (conv2): Conv2d(128, 128, kernel_size=(3, 3), stride=(1, 1), padding=(1, 1))\n",
            "      (bn2): BatchNorm2d(128, eps=1e-05, momentum=0.1, affine=True, track_running_stats=True)\n",
            "      (conv3): Conv2d(128, 512, kernel_size=(1, 1), stride=(1, 1))\n",
            "      (bn3): BatchNorm2d(512, eps=1e-05, momentum=0.1, affine=True, track_running_stats=True)\n",
            "      (relu): ReLU(inplace=True)\n",
            "    )\n",
            "  )\n",
            "  (layer3): Sequential(\n",
            "    (0): Bottleneck(\n",
            "      (conv1): Conv2d(128, 256, kernel_size=(1, 1), stride=(1, 1))\n",
            "      (bn1): BatchNorm2d(256, eps=1e-05, momentum=0.1, affine=True, track_running_stats=True)\n",
            "      (conv2): Conv2d(256, 256, kernel_size=(3, 3), stride=(2, 2), padding=(1, 1))\n",
            "      (bn2): BatchNorm2d(256, eps=1e-05, momentum=0.1, affine=True, track_running_stats=True)\n",
            "      (conv3): Conv2d(256, 1024, kernel_size=(1, 1), stride=(1, 1))\n",
            "      (bn3): BatchNorm2d(1024, eps=1e-05, momentum=0.1, affine=True, track_running_stats=True)\n",
            "      (relu): ReLU(inplace=True)\n",
            "      (downsample): Sequential(\n",
            "        (0): Conv2d(128, 256, kernel_size=(1, 1), stride=(2, 2))\n",
            "        (1): BatchNorm2d(256, eps=1e-05, momentum=0.1, affine=True, track_running_stats=True)\n",
            "      )\n",
            "    )\n",
            "    (1): Bottleneck(\n",
            "      (conv1): Conv2d(256, 256, kernel_size=(1, 1), stride=(1, 1))\n",
            "      (bn1): BatchNorm2d(256, eps=1e-05, momentum=0.1, affine=True, track_running_stats=True)\n",
            "      (conv2): Conv2d(256, 256, kernel_size=(3, 3), stride=(1, 1), padding=(1, 1))\n",
            "      (bn2): BatchNorm2d(256, eps=1e-05, momentum=0.1, affine=True, track_running_stats=True)\n",
            "      (conv3): Conv2d(256, 1024, kernel_size=(1, 1), stride=(1, 1))\n",
            "      (bn3): BatchNorm2d(1024, eps=1e-05, momentum=0.1, affine=True, track_running_stats=True)\n",
            "      (relu): ReLU(inplace=True)\n",
            "    )\n",
            "    (2): Bottleneck(\n",
            "      (conv1): Conv2d(256, 256, kernel_size=(1, 1), stride=(1, 1))\n",
            "      (bn1): BatchNorm2d(256, eps=1e-05, momentum=0.1, affine=True, track_running_stats=True)\n",
            "      (conv2): Conv2d(256, 256, kernel_size=(3, 3), stride=(1, 1), padding=(1, 1))\n",
            "      (bn2): BatchNorm2d(256, eps=1e-05, momentum=0.1, affine=True, track_running_stats=True)\n",
            "      (conv3): Conv2d(256, 1024, kernel_size=(1, 1), stride=(1, 1))\n",
            "      (bn3): BatchNorm2d(1024, eps=1e-05, momentum=0.1, affine=True, track_running_stats=True)\n",
            "      (relu): ReLU(inplace=True)\n",
            "    )\n",
            "    (3): Bottleneck(\n",
            "      (conv1): Conv2d(256, 256, kernel_size=(1, 1), stride=(1, 1))\n",
            "      (bn1): BatchNorm2d(256, eps=1e-05, momentum=0.1, affine=True, track_running_stats=True)\n",
            "      (conv2): Conv2d(256, 256, kernel_size=(3, 3), stride=(1, 1), padding=(1, 1))\n",
            "      (bn2): BatchNorm2d(256, eps=1e-05, momentum=0.1, affine=True, track_running_stats=True)\n",
            "      (conv3): Conv2d(256, 1024, kernel_size=(1, 1), stride=(1, 1))\n",
            "      (bn3): BatchNorm2d(1024, eps=1e-05, momentum=0.1, affine=True, track_running_stats=True)\n",
            "      (relu): ReLU(inplace=True)\n",
            "    )\n",
            "    (4): Bottleneck(\n",
            "      (conv1): Conv2d(256, 256, kernel_size=(1, 1), stride=(1, 1))\n",
            "      (bn1): BatchNorm2d(256, eps=1e-05, momentum=0.1, affine=True, track_running_stats=True)\n",
            "      (conv2): Conv2d(256, 256, kernel_size=(3, 3), stride=(1, 1), padding=(1, 1))\n",
            "      (bn2): BatchNorm2d(256, eps=1e-05, momentum=0.1, affine=True, track_running_stats=True)\n",
            "      (conv3): Conv2d(256, 1024, kernel_size=(1, 1), stride=(1, 1))\n",
            "      (bn3): BatchNorm2d(1024, eps=1e-05, momentum=0.1, affine=True, track_running_stats=True)\n",
            "      (relu): ReLU(inplace=True)\n",
            "    )\n",
            "    (5): Bottleneck(\n",
            "      (conv1): Conv2d(256, 256, kernel_size=(1, 1), stride=(1, 1))\n",
            "      (bn1): BatchNorm2d(256, eps=1e-05, momentum=0.1, affine=True, track_running_stats=True)\n",
            "      (conv2): Conv2d(256, 256, kernel_size=(3, 3), stride=(1, 1), padding=(1, 1))\n",
            "      (bn2): BatchNorm2d(256, eps=1e-05, momentum=0.1, affine=True, track_running_stats=True)\n",
            "      (conv3): Conv2d(256, 1024, kernel_size=(1, 1), stride=(1, 1))\n",
            "      (bn3): BatchNorm2d(1024, eps=1e-05, momentum=0.1, affine=True, track_running_stats=True)\n",
            "      (relu): ReLU(inplace=True)\n",
            "    )\n",
            "  )\n",
            "  (layer4): Sequential(\n",
            "    (0): Bottleneck(\n",
            "      (conv1): Conv2d(256, 512, kernel_size=(1, 1), stride=(1, 1))\n",
            "      (bn1): BatchNorm2d(512, eps=1e-05, momentum=0.1, affine=True, track_running_stats=True)\n",
            "      (conv2): Conv2d(512, 512, kernel_size=(3, 3), stride=(2, 2), padding=(1, 1))\n",
            "      (bn2): BatchNorm2d(512, eps=1e-05, momentum=0.1, affine=True, track_running_stats=True)\n",
            "      (conv3): Conv2d(512, 2048, kernel_size=(1, 1), stride=(1, 1))\n",
            "      (bn3): BatchNorm2d(2048, eps=1e-05, momentum=0.1, affine=True, track_running_stats=True)\n",
            "      (relu): ReLU(inplace=True)\n",
            "      (downsample): Sequential(\n",
            "        (0): Conv2d(256, 512, kernel_size=(1, 1), stride=(2, 2))\n",
            "        (1): BatchNorm2d(512, eps=1e-05, momentum=0.1, affine=True, track_running_stats=True)\n",
            "      )\n",
            "    )\n",
            "    (1): Bottleneck(\n",
            "      (conv1): Conv2d(512, 512, kernel_size=(1, 1), stride=(1, 1))\n",
            "      (bn1): BatchNorm2d(512, eps=1e-05, momentum=0.1, affine=True, track_running_stats=True)\n",
            "      (conv2): Conv2d(512, 512, kernel_size=(3, 3), stride=(1, 1), padding=(1, 1))\n",
            "      (bn2): BatchNorm2d(512, eps=1e-05, momentum=0.1, affine=True, track_running_stats=True)\n",
            "      (conv3): Conv2d(512, 2048, kernel_size=(1, 1), stride=(1, 1))\n",
            "      (bn3): BatchNorm2d(2048, eps=1e-05, momentum=0.1, affine=True, track_running_stats=True)\n",
            "      (relu): ReLU(inplace=True)\n",
            "    )\n",
            "    (2): Bottleneck(\n",
            "      (conv1): Conv2d(512, 512, kernel_size=(1, 1), stride=(1, 1))\n",
            "      (bn1): BatchNorm2d(512, eps=1e-05, momentum=0.1, affine=True, track_running_stats=True)\n",
            "      (conv2): Conv2d(512, 512, kernel_size=(3, 3), stride=(1, 1), padding=(1, 1))\n",
            "      (bn2): BatchNorm2d(512, eps=1e-05, momentum=0.1, affine=True, track_running_stats=True)\n",
            "      (conv3): Conv2d(512, 2048, kernel_size=(1, 1), stride=(1, 1))\n",
            "      (bn3): BatchNorm2d(2048, eps=1e-05, momentum=0.1, affine=True, track_running_stats=True)\n",
            "      (relu): ReLU(inplace=True)\n",
            "    )\n",
            "  )\n",
            "  (avgpool): AdaptiveAvgPool2d(output_size=(1, 1))\n",
            "  (fc): Linear(in_features=512, out_features=1000, bias=True)\n",
            ")\n"
          ]
        }
      ]
    },
    {
      "cell_type": "markdown",
      "source": [
        "**3. For deeper networks, ResNet introduces a “bottleneck” architecture to reduce model complexity. Try to implement it.**"
      ],
      "metadata": {
        "id": "WkMH4ZnAJRGK"
      }
    },
    {
      "cell_type": "code",
      "source": [
        "import torch\n",
        "import torch.nn as nn\n",
        "\n",
        "class Bottleneck(nn.Module):\n",
        "    expansion = 4  # Faktor ekspansi, output channels diperluas 4 kali lipat\n",
        "\n",
        "    def __init__(self, in_channels, out_channels, stride=1, downsample=None):\n",
        "        super(Bottleneck, self).__init__()\n",
        "\n",
        "        # Konvolusi 1x1 untuk mengurangi dimensi\n",
        "        self.conv1 = nn.Conv2d(in_channels, out_channels, kernel_size=1, stride=1, bias=False)\n",
        "        self.bn1 = nn.BatchNorm2d(out_channels)\n",
        "\n",
        "        # Konvolusi 3x3 untuk pemrosesan sebenarnya\n",
        "        self.conv2 = nn.Conv2d(out_channels, out_channels, kernel_size=3, stride=stride, padding=1, bias=False)\n",
        "        self.bn2 = nn.BatchNorm2d(out_channels)\n",
        "\n",
        "        # Konvolusi 1x1 untuk mengembalikan dimensi\n",
        "        self.conv3 = nn.Conv2d(out_channels, out_channels * self.expansion, kernel_size=1, bias=False)\n",
        "        self.bn3 = nn.BatchNorm2d(out_channels * self.expansion)\n",
        "\n",
        "        self.relu = nn.ReLU(inplace=True)\n",
        "        self.downsample = downsample  # Menyesuaikan dimensi input jika perlu\n",
        "\n",
        "    def forward(self, x):\n",
        "        identity = x\n",
        "\n",
        "        # Jika perlu downsample, terapkan pada input\n",
        "        if self.downsample is not None:\n",
        "            identity = self.downsample(x)\n",
        "\n",
        "        # Forward pass untuk blok bottleneck\n",
        "        out = self.conv1(x)\n",
        "        out = self.bn1(out)\n",
        "        out = self.relu(out)\n",
        "\n",
        "        out = self.conv2(out)\n",
        "        out = self.bn2(out)\n",
        "        out = self.relu(out)\n",
        "\n",
        "        out = self.conv3(out)\n",
        "        out = self.bn3(out)\n",
        "\n",
        "        # Tambahkan shortcut connection\n",
        "        out += identity\n",
        "        out = self.relu(out)\n",
        "\n",
        "        return out"
      ],
      "metadata": {
        "id": "SOybao26Kfjs"
      },
      "execution_count": 6,
      "outputs": []
    },
    {
      "cell_type": "code",
      "source": [
        "class ResNet(nn.Module):\n",
        "    def __init__(self, block, layers, num_classes=1000):\n",
        "        super(ResNet, self).__init__()\n",
        "        self.in_channels = 64\n",
        "\n",
        "        # Lapisan awal: Conv 7x7 diikuti MaxPool\n",
        "        self.conv1 = nn.Conv2d(3, 64, kernel_size=7, stride=2, padding=3, bias=False)\n",
        "        self.bn1 = nn.BatchNorm2d(64)\n",
        "        self.relu = nn.ReLU(inplace=True)\n",
        "        self.maxpool = nn.MaxPool2d(kernel_size=3, stride=2, padding=1)\n",
        "\n",
        "        # Layer residual (conv2_x, conv3_x, conv4_x, conv5_x)\n",
        "        self.layer1 = self._make_layer(block, 64, layers[0])\n",
        "        self.layer2 = self._make_layer(block, 128, layers[1], stride=2)\n",
        "        self.layer3 = self._make_layer(block, 256, layers[2], stride=2)\n",
        "        self.layer4 = self._make_layer(block, 512, layers[3], stride=2)\n",
        "\n",
        "        # Lapisan pooling dan fully connected\n",
        "        self.avgpool = nn.AdaptiveAvgPool2d((1, 1))\n",
        "        self.fc = nn.Linear(512 * block.expansion, num_classes)\n",
        "\n",
        "    def _make_layer(self, block, out_channels, blocks, stride=1):\n",
        "        downsample = None\n",
        "\n",
        "        # Jika ukuran input harus diubah (dimensi atau stride berbeda)\n",
        "        if stride != 1 or self.in_channels != out_channels * block.expansion:\n",
        "            downsample = nn.Sequential(\n",
        "                nn.Conv2d(self.in_channels, out_channels * block.expansion, kernel_size=1, stride=stride, bias=False),\n",
        "                nn.BatchNorm2d(out_channels * block.expansion),\n",
        "            )\n",
        "\n",
        "        layers = []\n",
        "        layers.append(block(self.in_channels, out_channels, stride, downsample))\n",
        "        self.in_channels = out_channels * block.expansion\n",
        "\n",
        "        # Tambahkan blok tambahan\n",
        "        for _ in range(1, blocks):\n",
        "            layers.append(block(self.in_channels, out_channels))\n",
        "\n",
        "        return nn.Sequential(*layers)\n",
        "\n",
        "    def forward(self, x):\n",
        "        x = self.conv1(x)\n",
        "        x = self.bn1(x)\n",
        "        x = self.relu(x)\n",
        "        x = self.maxpool(x)\n",
        "\n",
        "        x = self.layer1(x)\n",
        "        x = self.layer2(x)\n",
        "        x = self.layer3(x)\n",
        "        x = self.layer4(x)\n",
        "\n",
        "        x = self.avgpool(x)\n",
        "        x = torch.flatten(x, 1)\n",
        "        x = self.fc(x)\n",
        "\n",
        "        return x"
      ],
      "metadata": {
        "id": "WfBFbT-oKkCi"
      },
      "execution_count": 7,
      "outputs": []
    },
    {
      "cell_type": "code",
      "source": [
        "def resnet50():\n",
        "    return ResNet(Bottleneck, [3, 4, 6, 3])\n",
        "\n",
        "# Instantiate model ResNet-50\n",
        "model = resnet50()\n",
        "print(model)"
      ],
      "metadata": {
        "colab": {
          "base_uri": "https://localhost:8080/"
        },
        "id": "L7SV5WREKmwk",
        "outputId": "5d80c88f-9091-43e9-d0d5-84ebee956b38"
      },
      "execution_count": 8,
      "outputs": [
        {
          "output_type": "stream",
          "name": "stdout",
          "text": [
            "ResNet(\n",
            "  (conv1): Conv2d(3, 64, kernel_size=(7, 7), stride=(2, 2), padding=(3, 3), bias=False)\n",
            "  (bn1): BatchNorm2d(64, eps=1e-05, momentum=0.1, affine=True, track_running_stats=True)\n",
            "  (relu): ReLU(inplace=True)\n",
            "  (maxpool): MaxPool2d(kernel_size=3, stride=2, padding=1, dilation=1, ceil_mode=False)\n",
            "  (layer1): Sequential(\n",
            "    (0): Bottleneck(\n",
            "      (conv1): Conv2d(64, 64, kernel_size=(1, 1), stride=(1, 1), bias=False)\n",
            "      (bn1): BatchNorm2d(64, eps=1e-05, momentum=0.1, affine=True, track_running_stats=True)\n",
            "      (conv2): Conv2d(64, 64, kernel_size=(3, 3), stride=(1, 1), padding=(1, 1), bias=False)\n",
            "      (bn2): BatchNorm2d(64, eps=1e-05, momentum=0.1, affine=True, track_running_stats=True)\n",
            "      (conv3): Conv2d(64, 256, kernel_size=(1, 1), stride=(1, 1), bias=False)\n",
            "      (bn3): BatchNorm2d(256, eps=1e-05, momentum=0.1, affine=True, track_running_stats=True)\n",
            "      (relu): ReLU(inplace=True)\n",
            "      (downsample): Sequential(\n",
            "        (0): Conv2d(64, 256, kernel_size=(1, 1), stride=(1, 1), bias=False)\n",
            "        (1): BatchNorm2d(256, eps=1e-05, momentum=0.1, affine=True, track_running_stats=True)\n",
            "      )\n",
            "    )\n",
            "    (1): Bottleneck(\n",
            "      (conv1): Conv2d(256, 64, kernel_size=(1, 1), stride=(1, 1), bias=False)\n",
            "      (bn1): BatchNorm2d(64, eps=1e-05, momentum=0.1, affine=True, track_running_stats=True)\n",
            "      (conv2): Conv2d(64, 64, kernel_size=(3, 3), stride=(1, 1), padding=(1, 1), bias=False)\n",
            "      (bn2): BatchNorm2d(64, eps=1e-05, momentum=0.1, affine=True, track_running_stats=True)\n",
            "      (conv3): Conv2d(64, 256, kernel_size=(1, 1), stride=(1, 1), bias=False)\n",
            "      (bn3): BatchNorm2d(256, eps=1e-05, momentum=0.1, affine=True, track_running_stats=True)\n",
            "      (relu): ReLU(inplace=True)\n",
            "    )\n",
            "    (2): Bottleneck(\n",
            "      (conv1): Conv2d(256, 64, kernel_size=(1, 1), stride=(1, 1), bias=False)\n",
            "      (bn1): BatchNorm2d(64, eps=1e-05, momentum=0.1, affine=True, track_running_stats=True)\n",
            "      (conv2): Conv2d(64, 64, kernel_size=(3, 3), stride=(1, 1), padding=(1, 1), bias=False)\n",
            "      (bn2): BatchNorm2d(64, eps=1e-05, momentum=0.1, affine=True, track_running_stats=True)\n",
            "      (conv3): Conv2d(64, 256, kernel_size=(1, 1), stride=(1, 1), bias=False)\n",
            "      (bn3): BatchNorm2d(256, eps=1e-05, momentum=0.1, affine=True, track_running_stats=True)\n",
            "      (relu): ReLU(inplace=True)\n",
            "    )\n",
            "  )\n",
            "  (layer2): Sequential(\n",
            "    (0): Bottleneck(\n",
            "      (conv1): Conv2d(256, 128, kernel_size=(1, 1), stride=(1, 1), bias=False)\n",
            "      (bn1): BatchNorm2d(128, eps=1e-05, momentum=0.1, affine=True, track_running_stats=True)\n",
            "      (conv2): Conv2d(128, 128, kernel_size=(3, 3), stride=(2, 2), padding=(1, 1), bias=False)\n",
            "      (bn2): BatchNorm2d(128, eps=1e-05, momentum=0.1, affine=True, track_running_stats=True)\n",
            "      (conv3): Conv2d(128, 512, kernel_size=(1, 1), stride=(1, 1), bias=False)\n",
            "      (bn3): BatchNorm2d(512, eps=1e-05, momentum=0.1, affine=True, track_running_stats=True)\n",
            "      (relu): ReLU(inplace=True)\n",
            "      (downsample): Sequential(\n",
            "        (0): Conv2d(256, 512, kernel_size=(1, 1), stride=(2, 2), bias=False)\n",
            "        (1): BatchNorm2d(512, eps=1e-05, momentum=0.1, affine=True, track_running_stats=True)\n",
            "      )\n",
            "    )\n",
            "    (1): Bottleneck(\n",
            "      (conv1): Conv2d(512, 128, kernel_size=(1, 1), stride=(1, 1), bias=False)\n",
            "      (bn1): BatchNorm2d(128, eps=1e-05, momentum=0.1, affine=True, track_running_stats=True)\n",
            "      (conv2): Conv2d(128, 128, kernel_size=(3, 3), stride=(1, 1), padding=(1, 1), bias=False)\n",
            "      (bn2): BatchNorm2d(128, eps=1e-05, momentum=0.1, affine=True, track_running_stats=True)\n",
            "      (conv3): Conv2d(128, 512, kernel_size=(1, 1), stride=(1, 1), bias=False)\n",
            "      (bn3): BatchNorm2d(512, eps=1e-05, momentum=0.1, affine=True, track_running_stats=True)\n",
            "      (relu): ReLU(inplace=True)\n",
            "    )\n",
            "    (2): Bottleneck(\n",
            "      (conv1): Conv2d(512, 128, kernel_size=(1, 1), stride=(1, 1), bias=False)\n",
            "      (bn1): BatchNorm2d(128, eps=1e-05, momentum=0.1, affine=True, track_running_stats=True)\n",
            "      (conv2): Conv2d(128, 128, kernel_size=(3, 3), stride=(1, 1), padding=(1, 1), bias=False)\n",
            "      (bn2): BatchNorm2d(128, eps=1e-05, momentum=0.1, affine=True, track_running_stats=True)\n",
            "      (conv3): Conv2d(128, 512, kernel_size=(1, 1), stride=(1, 1), bias=False)\n",
            "      (bn3): BatchNorm2d(512, eps=1e-05, momentum=0.1, affine=True, track_running_stats=True)\n",
            "      (relu): ReLU(inplace=True)\n",
            "    )\n",
            "    (3): Bottleneck(\n",
            "      (conv1): Conv2d(512, 128, kernel_size=(1, 1), stride=(1, 1), bias=False)\n",
            "      (bn1): BatchNorm2d(128, eps=1e-05, momentum=0.1, affine=True, track_running_stats=True)\n",
            "      (conv2): Conv2d(128, 128, kernel_size=(3, 3), stride=(1, 1), padding=(1, 1), bias=False)\n",
            "      (bn2): BatchNorm2d(128, eps=1e-05, momentum=0.1, affine=True, track_running_stats=True)\n",
            "      (conv3): Conv2d(128, 512, kernel_size=(1, 1), stride=(1, 1), bias=False)\n",
            "      (bn3): BatchNorm2d(512, eps=1e-05, momentum=0.1, affine=True, track_running_stats=True)\n",
            "      (relu): ReLU(inplace=True)\n",
            "    )\n",
            "  )\n",
            "  (layer3): Sequential(\n",
            "    (0): Bottleneck(\n",
            "      (conv1): Conv2d(512, 256, kernel_size=(1, 1), stride=(1, 1), bias=False)\n",
            "      (bn1): BatchNorm2d(256, eps=1e-05, momentum=0.1, affine=True, track_running_stats=True)\n",
            "      (conv2): Conv2d(256, 256, kernel_size=(3, 3), stride=(2, 2), padding=(1, 1), bias=False)\n",
            "      (bn2): BatchNorm2d(256, eps=1e-05, momentum=0.1, affine=True, track_running_stats=True)\n",
            "      (conv3): Conv2d(256, 1024, kernel_size=(1, 1), stride=(1, 1), bias=False)\n",
            "      (bn3): BatchNorm2d(1024, eps=1e-05, momentum=0.1, affine=True, track_running_stats=True)\n",
            "      (relu): ReLU(inplace=True)\n",
            "      (downsample): Sequential(\n",
            "        (0): Conv2d(512, 1024, kernel_size=(1, 1), stride=(2, 2), bias=False)\n",
            "        (1): BatchNorm2d(1024, eps=1e-05, momentum=0.1, affine=True, track_running_stats=True)\n",
            "      )\n",
            "    )\n",
            "    (1): Bottleneck(\n",
            "      (conv1): Conv2d(1024, 256, kernel_size=(1, 1), stride=(1, 1), bias=False)\n",
            "      (bn1): BatchNorm2d(256, eps=1e-05, momentum=0.1, affine=True, track_running_stats=True)\n",
            "      (conv2): Conv2d(256, 256, kernel_size=(3, 3), stride=(1, 1), padding=(1, 1), bias=False)\n",
            "      (bn2): BatchNorm2d(256, eps=1e-05, momentum=0.1, affine=True, track_running_stats=True)\n",
            "      (conv3): Conv2d(256, 1024, kernel_size=(1, 1), stride=(1, 1), bias=False)\n",
            "      (bn3): BatchNorm2d(1024, eps=1e-05, momentum=0.1, affine=True, track_running_stats=True)\n",
            "      (relu): ReLU(inplace=True)\n",
            "    )\n",
            "    (2): Bottleneck(\n",
            "      (conv1): Conv2d(1024, 256, kernel_size=(1, 1), stride=(1, 1), bias=False)\n",
            "      (bn1): BatchNorm2d(256, eps=1e-05, momentum=0.1, affine=True, track_running_stats=True)\n",
            "      (conv2): Conv2d(256, 256, kernel_size=(3, 3), stride=(1, 1), padding=(1, 1), bias=False)\n",
            "      (bn2): BatchNorm2d(256, eps=1e-05, momentum=0.1, affine=True, track_running_stats=True)\n",
            "      (conv3): Conv2d(256, 1024, kernel_size=(1, 1), stride=(1, 1), bias=False)\n",
            "      (bn3): BatchNorm2d(1024, eps=1e-05, momentum=0.1, affine=True, track_running_stats=True)\n",
            "      (relu): ReLU(inplace=True)\n",
            "    )\n",
            "    (3): Bottleneck(\n",
            "      (conv1): Conv2d(1024, 256, kernel_size=(1, 1), stride=(1, 1), bias=False)\n",
            "      (bn1): BatchNorm2d(256, eps=1e-05, momentum=0.1, affine=True, track_running_stats=True)\n",
            "      (conv2): Conv2d(256, 256, kernel_size=(3, 3), stride=(1, 1), padding=(1, 1), bias=False)\n",
            "      (bn2): BatchNorm2d(256, eps=1e-05, momentum=0.1, affine=True, track_running_stats=True)\n",
            "      (conv3): Conv2d(256, 1024, kernel_size=(1, 1), stride=(1, 1), bias=False)\n",
            "      (bn3): BatchNorm2d(1024, eps=1e-05, momentum=0.1, affine=True, track_running_stats=True)\n",
            "      (relu): ReLU(inplace=True)\n",
            "    )\n",
            "    (4): Bottleneck(\n",
            "      (conv1): Conv2d(1024, 256, kernel_size=(1, 1), stride=(1, 1), bias=False)\n",
            "      (bn1): BatchNorm2d(256, eps=1e-05, momentum=0.1, affine=True, track_running_stats=True)\n",
            "      (conv2): Conv2d(256, 256, kernel_size=(3, 3), stride=(1, 1), padding=(1, 1), bias=False)\n",
            "      (bn2): BatchNorm2d(256, eps=1e-05, momentum=0.1, affine=True, track_running_stats=True)\n",
            "      (conv3): Conv2d(256, 1024, kernel_size=(1, 1), stride=(1, 1), bias=False)\n",
            "      (bn3): BatchNorm2d(1024, eps=1e-05, momentum=0.1, affine=True, track_running_stats=True)\n",
            "      (relu): ReLU(inplace=True)\n",
            "    )\n",
            "    (5): Bottleneck(\n",
            "      (conv1): Conv2d(1024, 256, kernel_size=(1, 1), stride=(1, 1), bias=False)\n",
            "      (bn1): BatchNorm2d(256, eps=1e-05, momentum=0.1, affine=True, track_running_stats=True)\n",
            "      (conv2): Conv2d(256, 256, kernel_size=(3, 3), stride=(1, 1), padding=(1, 1), bias=False)\n",
            "      (bn2): BatchNorm2d(256, eps=1e-05, momentum=0.1, affine=True, track_running_stats=True)\n",
            "      (conv3): Conv2d(256, 1024, kernel_size=(1, 1), stride=(1, 1), bias=False)\n",
            "      (bn3): BatchNorm2d(1024, eps=1e-05, momentum=0.1, affine=True, track_running_stats=True)\n",
            "      (relu): ReLU(inplace=True)\n",
            "    )\n",
            "  )\n",
            "  (layer4): Sequential(\n",
            "    (0): Bottleneck(\n",
            "      (conv1): Conv2d(1024, 512, kernel_size=(1, 1), stride=(1, 1), bias=False)\n",
            "      (bn1): BatchNorm2d(512, eps=1e-05, momentum=0.1, affine=True, track_running_stats=True)\n",
            "      (conv2): Conv2d(512, 512, kernel_size=(3, 3), stride=(2, 2), padding=(1, 1), bias=False)\n",
            "      (bn2): BatchNorm2d(512, eps=1e-05, momentum=0.1, affine=True, track_running_stats=True)\n",
            "      (conv3): Conv2d(512, 2048, kernel_size=(1, 1), stride=(1, 1), bias=False)\n",
            "      (bn3): BatchNorm2d(2048, eps=1e-05, momentum=0.1, affine=True, track_running_stats=True)\n",
            "      (relu): ReLU(inplace=True)\n",
            "      (downsample): Sequential(\n",
            "        (0): Conv2d(1024, 2048, kernel_size=(1, 1), stride=(2, 2), bias=False)\n",
            "        (1): BatchNorm2d(2048, eps=1e-05, momentum=0.1, affine=True, track_running_stats=True)\n",
            "      )\n",
            "    )\n",
            "    (1): Bottleneck(\n",
            "      (conv1): Conv2d(2048, 512, kernel_size=(1, 1), stride=(1, 1), bias=False)\n",
            "      (bn1): BatchNorm2d(512, eps=1e-05, momentum=0.1, affine=True, track_running_stats=True)\n",
            "      (conv2): Conv2d(512, 512, kernel_size=(3, 3), stride=(1, 1), padding=(1, 1), bias=False)\n",
            "      (bn2): BatchNorm2d(512, eps=1e-05, momentum=0.1, affine=True, track_running_stats=True)\n",
            "      (conv3): Conv2d(512, 2048, kernel_size=(1, 1), stride=(1, 1), bias=False)\n",
            "      (bn3): BatchNorm2d(2048, eps=1e-05, momentum=0.1, affine=True, track_running_stats=True)\n",
            "      (relu): ReLU(inplace=True)\n",
            "    )\n",
            "    (2): Bottleneck(\n",
            "      (conv1): Conv2d(2048, 512, kernel_size=(1, 1), stride=(1, 1), bias=False)\n",
            "      (bn1): BatchNorm2d(512, eps=1e-05, momentum=0.1, affine=True, track_running_stats=True)\n",
            "      (conv2): Conv2d(512, 512, kernel_size=(3, 3), stride=(1, 1), padding=(1, 1), bias=False)\n",
            "      (bn2): BatchNorm2d(512, eps=1e-05, momentum=0.1, affine=True, track_running_stats=True)\n",
            "      (conv3): Conv2d(512, 2048, kernel_size=(1, 1), stride=(1, 1), bias=False)\n",
            "      (bn3): BatchNorm2d(2048, eps=1e-05, momentum=0.1, affine=True, track_running_stats=True)\n",
            "      (relu): ReLU(inplace=True)\n",
            "    )\n",
            "  )\n",
            "  (avgpool): AdaptiveAvgPool2d(output_size=(1, 1))\n",
            "  (fc): Linear(in_features=2048, out_features=1000, bias=True)\n",
            ")\n"
          ]
        }
      ]
    },
    {
      "cell_type": "markdown",
      "source": [
        "Dengan arsitektur bottleneck, ResNet mampu meningkatkan kedalaman jaringan (seperti di ResNet-50, ResNet-101, ResNet-152) tanpa meningkatkan jumlah parameter secara signifikan, menjaga efisiensi komputasi dan memori. Bottleneck memanfaatkan konvolusi 1x1 untuk mengurangi dimensi, yang menurunkan jumlah operasi, sekaligus mempertahankan performa yang tinggi."
      ],
      "metadata": {
        "id": "Qg_GDM5oKqd-"
      }
    },
    {
      "cell_type": "markdown",
      "source": [
        "**4. In subsequent versions of ResNet, the authors changed the “convolution, batch normalization, and activation” structure to the “batch normalization, activation, and convolution” structure. Make this improvement yourself. See Figure 1 in He et al. (2016) for details.**"
      ],
      "metadata": {
        "id": "4S1-BRseJg2x"
      }
    },
    {
      "cell_type": "code",
      "source": [
        "# Implementasi Pre-activation ResNet Bottleneck Block\n",
        "\n",
        "import torch\n",
        "import torch.nn as nn\n",
        "\n",
        "class PreActBottleneck(nn.Module):\n",
        "    expansion = 4  # Faktor ekspansi, output channels diperluas 4 kali lipat\n",
        "\n",
        "    def __init__(self, in_channels, out_channels, stride=1, downsample=None):\n",
        "        super(PreActBottleneck, self).__init__()\n",
        "\n",
        "        # Pre-activation structure (BatchNorm -> ReLU -> Conv)\n",
        "        self.bn1 = nn.BatchNorm2d(in_channels)\n",
        "        self.relu = nn.ReLU(inplace=True)\n",
        "        self.conv1 = nn.Conv2d(in_channels, out_channels, kernel_size=1, bias=False)\n",
        "\n",
        "        self.bn2 = nn.BatchNorm2d(out_channels)\n",
        "        self.conv2 = nn.Conv2d(out_channels, out_channels, kernel_size=3, stride=stride, padding=1, bias=False)\n",
        "\n",
        "        self.bn3 = nn.BatchNorm2d(out_channels)\n",
        "        self.conv3 = nn.Conv2d(out_channels, out_channels * self.expansion, kernel_size=1, bias=False)\n",
        "\n",
        "        self.downsample = downsample  # Menyesuaikan dimensi input jika perlu\n",
        "\n",
        "    def forward(self, x):\n",
        "        identity = x\n",
        "\n",
        "        # Jika perlu downsample, terapkan pada input\n",
        "        if self.downsample is not None:\n",
        "            identity = self.downsample(x)\n",
        "\n",
        "        # Pre-activation before each convolution\n",
        "        out = self.bn1(x)\n",
        "        out = self.relu(out)\n",
        "        out = self.conv1(out)\n",
        "\n",
        "        out = self.bn2(out)\n",
        "        out = self.relu(out)\n",
        "        out = self.conv2(out)\n",
        "\n",
        "        out = self.bn3(out)\n",
        "        out = self.relu(out)\n",
        "        out = self.conv3(out)\n",
        "\n",
        "        # Tambahkan shortcut connection\n",
        "        out += identity\n",
        "\n",
        "        return out"
      ],
      "metadata": {
        "id": "W-0rwxL6K15t"
      },
      "execution_count": 11,
      "outputs": []
    },
    {
      "cell_type": "code",
      "source": [
        "class PreActResNet(nn.Module):\n",
        "    def __init__(self, block, layers, num_classes=1000):\n",
        "        super(PreActResNet, self).__init__()\n",
        "        self.in_channels = 64\n",
        "\n",
        "        # Lapisan awal: Conv 7x7 diikuti MaxPool\n",
        "        self.conv1 = nn.Conv2d(3, 64, kernel_size=7, stride=2, padding=3, bias=False)\n",
        "        self.bn1 = nn.BatchNorm2d(64)\n",
        "        self.relu = nn.ReLU(inplace=True)\n",
        "        self.maxpool = nn.MaxPool2d(kernel_size=3, stride=2, padding=1)\n",
        "\n",
        "        # Layer residual (pre-activation)\n",
        "        self.layer1 = self._make_layer(block, 64, layers[0])\n",
        "        self.layer2 = self._make_layer(block, 128, layers[1], stride=2)\n",
        "        self.layer3 = self._make_layer(block, 256, layers[2], stride=2)\n",
        "        self.layer4 = self._make_layer(block, 512, layers[3], stride=2)\n",
        "\n",
        "        # Lapisan pooling dan fully connected\n",
        "        self.avgpool = nn.AdaptiveAvgPool2d((1, 1))\n",
        "        self.fc = nn.Linear(512 * block.expansion, num_classes)\n",
        "\n",
        "    def _make_layer(self, block, out_channels, blocks, stride=1):\n",
        "        downsample = None\n",
        "\n",
        "        # Jika ukuran input harus diubah (dimensi atau stride berbeda)\n",
        "        if stride != 1 or self.in_channels != out_channels * block.expansion:\n",
        "            downsample = nn.Sequential(\n",
        "                nn.Conv2d(self.in_channels, out_channels * block.expansion, kernel_size=1, stride=stride, bias=False),\n",
        "                nn.BatchNorm2d(out_channels * block.expansion),\n",
        "            )\n",
        "\n",
        "        layers = []\n",
        "        layers.append(block(self.in_channels, out_channels, stride, downsample))\n",
        "        self.in_channels = out_channels * block.expansion\n",
        "\n",
        "        # Tambahkan blok tambahan\n",
        "        for _ in range(1, blocks):\n",
        "            layers.append(block(self.in_channels, out_channels))\n",
        "\n",
        "        return nn.Sequential(*layers)\n",
        "\n",
        "    def forward(self, x):\n",
        "        x = self.conv1(x)\n",
        "        x = self.bn1(x)\n",
        "        x = self.relu(x)\n",
        "        x = self.maxpool(x)\n",
        "\n",
        "        x = self.layer1(x)\n",
        "        x = self.layer2(x)\n",
        "        x = self.layer3(x)\n",
        "        x = self.layer4(x)\n",
        "\n",
        "        x = self.avgpool(x)\n",
        "        x = torch.flatten(x, 1)\n",
        "        x = self.fc(x)\n",
        "\n",
        "        return x"
      ],
      "metadata": {
        "id": "ZpHRRj3AK96N"
      },
      "execution_count": 12,
      "outputs": []
    },
    {
      "cell_type": "code",
      "source": [
        "def preact_resnet50():\n",
        "    return PreActResNet(PreActBottleneck, [3, 4, 6, 3])\n",
        "\n",
        "# Instantiate model PreActResNet-50\n",
        "model = preact_resnet50()\n",
        "print(model)"
      ],
      "metadata": {
        "colab": {
          "base_uri": "https://localhost:8080/"
        },
        "id": "LGMSeq6fLAo8",
        "outputId": "5a8afe93-b26b-4776-b07e-a9f9b96f3f07"
      },
      "execution_count": 13,
      "outputs": [
        {
          "output_type": "stream",
          "name": "stdout",
          "text": [
            "PreActResNet(\n",
            "  (conv1): Conv2d(3, 64, kernel_size=(7, 7), stride=(2, 2), padding=(3, 3), bias=False)\n",
            "  (bn1): BatchNorm2d(64, eps=1e-05, momentum=0.1, affine=True, track_running_stats=True)\n",
            "  (relu): ReLU(inplace=True)\n",
            "  (maxpool): MaxPool2d(kernel_size=3, stride=2, padding=1, dilation=1, ceil_mode=False)\n",
            "  (layer1): Sequential(\n",
            "    (0): PreActBottleneck(\n",
            "      (bn1): BatchNorm2d(64, eps=1e-05, momentum=0.1, affine=True, track_running_stats=True)\n",
            "      (relu): ReLU(inplace=True)\n",
            "      (conv1): Conv2d(64, 64, kernel_size=(1, 1), stride=(1, 1), bias=False)\n",
            "      (bn2): BatchNorm2d(64, eps=1e-05, momentum=0.1, affine=True, track_running_stats=True)\n",
            "      (conv2): Conv2d(64, 64, kernel_size=(3, 3), stride=(1, 1), padding=(1, 1), bias=False)\n",
            "      (bn3): BatchNorm2d(64, eps=1e-05, momentum=0.1, affine=True, track_running_stats=True)\n",
            "      (conv3): Conv2d(64, 256, kernel_size=(1, 1), stride=(1, 1), bias=False)\n",
            "      (downsample): Sequential(\n",
            "        (0): Conv2d(64, 256, kernel_size=(1, 1), stride=(1, 1), bias=False)\n",
            "        (1): BatchNorm2d(256, eps=1e-05, momentum=0.1, affine=True, track_running_stats=True)\n",
            "      )\n",
            "    )\n",
            "    (1): PreActBottleneck(\n",
            "      (bn1): BatchNorm2d(256, eps=1e-05, momentum=0.1, affine=True, track_running_stats=True)\n",
            "      (relu): ReLU(inplace=True)\n",
            "      (conv1): Conv2d(256, 64, kernel_size=(1, 1), stride=(1, 1), bias=False)\n",
            "      (bn2): BatchNorm2d(64, eps=1e-05, momentum=0.1, affine=True, track_running_stats=True)\n",
            "      (conv2): Conv2d(64, 64, kernel_size=(3, 3), stride=(1, 1), padding=(1, 1), bias=False)\n",
            "      (bn3): BatchNorm2d(64, eps=1e-05, momentum=0.1, affine=True, track_running_stats=True)\n",
            "      (conv3): Conv2d(64, 256, kernel_size=(1, 1), stride=(1, 1), bias=False)\n",
            "    )\n",
            "    (2): PreActBottleneck(\n",
            "      (bn1): BatchNorm2d(256, eps=1e-05, momentum=0.1, affine=True, track_running_stats=True)\n",
            "      (relu): ReLU(inplace=True)\n",
            "      (conv1): Conv2d(256, 64, kernel_size=(1, 1), stride=(1, 1), bias=False)\n",
            "      (bn2): BatchNorm2d(64, eps=1e-05, momentum=0.1, affine=True, track_running_stats=True)\n",
            "      (conv2): Conv2d(64, 64, kernel_size=(3, 3), stride=(1, 1), padding=(1, 1), bias=False)\n",
            "      (bn3): BatchNorm2d(64, eps=1e-05, momentum=0.1, affine=True, track_running_stats=True)\n",
            "      (conv3): Conv2d(64, 256, kernel_size=(1, 1), stride=(1, 1), bias=False)\n",
            "    )\n",
            "  )\n",
            "  (layer2): Sequential(\n",
            "    (0): PreActBottleneck(\n",
            "      (bn1): BatchNorm2d(256, eps=1e-05, momentum=0.1, affine=True, track_running_stats=True)\n",
            "      (relu): ReLU(inplace=True)\n",
            "      (conv1): Conv2d(256, 128, kernel_size=(1, 1), stride=(1, 1), bias=False)\n",
            "      (bn2): BatchNorm2d(128, eps=1e-05, momentum=0.1, affine=True, track_running_stats=True)\n",
            "      (conv2): Conv2d(128, 128, kernel_size=(3, 3), stride=(2, 2), padding=(1, 1), bias=False)\n",
            "      (bn3): BatchNorm2d(128, eps=1e-05, momentum=0.1, affine=True, track_running_stats=True)\n",
            "      (conv3): Conv2d(128, 512, kernel_size=(1, 1), stride=(1, 1), bias=False)\n",
            "      (downsample): Sequential(\n",
            "        (0): Conv2d(256, 512, kernel_size=(1, 1), stride=(2, 2), bias=False)\n",
            "        (1): BatchNorm2d(512, eps=1e-05, momentum=0.1, affine=True, track_running_stats=True)\n",
            "      )\n",
            "    )\n",
            "    (1): PreActBottleneck(\n",
            "      (bn1): BatchNorm2d(512, eps=1e-05, momentum=0.1, affine=True, track_running_stats=True)\n",
            "      (relu): ReLU(inplace=True)\n",
            "      (conv1): Conv2d(512, 128, kernel_size=(1, 1), stride=(1, 1), bias=False)\n",
            "      (bn2): BatchNorm2d(128, eps=1e-05, momentum=0.1, affine=True, track_running_stats=True)\n",
            "      (conv2): Conv2d(128, 128, kernel_size=(3, 3), stride=(1, 1), padding=(1, 1), bias=False)\n",
            "      (bn3): BatchNorm2d(128, eps=1e-05, momentum=0.1, affine=True, track_running_stats=True)\n",
            "      (conv3): Conv2d(128, 512, kernel_size=(1, 1), stride=(1, 1), bias=False)\n",
            "    )\n",
            "    (2): PreActBottleneck(\n",
            "      (bn1): BatchNorm2d(512, eps=1e-05, momentum=0.1, affine=True, track_running_stats=True)\n",
            "      (relu): ReLU(inplace=True)\n",
            "      (conv1): Conv2d(512, 128, kernel_size=(1, 1), stride=(1, 1), bias=False)\n",
            "      (bn2): BatchNorm2d(128, eps=1e-05, momentum=0.1, affine=True, track_running_stats=True)\n",
            "      (conv2): Conv2d(128, 128, kernel_size=(3, 3), stride=(1, 1), padding=(1, 1), bias=False)\n",
            "      (bn3): BatchNorm2d(128, eps=1e-05, momentum=0.1, affine=True, track_running_stats=True)\n",
            "      (conv3): Conv2d(128, 512, kernel_size=(1, 1), stride=(1, 1), bias=False)\n",
            "    )\n",
            "    (3): PreActBottleneck(\n",
            "      (bn1): BatchNorm2d(512, eps=1e-05, momentum=0.1, affine=True, track_running_stats=True)\n",
            "      (relu): ReLU(inplace=True)\n",
            "      (conv1): Conv2d(512, 128, kernel_size=(1, 1), stride=(1, 1), bias=False)\n",
            "      (bn2): BatchNorm2d(128, eps=1e-05, momentum=0.1, affine=True, track_running_stats=True)\n",
            "      (conv2): Conv2d(128, 128, kernel_size=(3, 3), stride=(1, 1), padding=(1, 1), bias=False)\n",
            "      (bn3): BatchNorm2d(128, eps=1e-05, momentum=0.1, affine=True, track_running_stats=True)\n",
            "      (conv3): Conv2d(128, 512, kernel_size=(1, 1), stride=(1, 1), bias=False)\n",
            "    )\n",
            "  )\n",
            "  (layer3): Sequential(\n",
            "    (0): PreActBottleneck(\n",
            "      (bn1): BatchNorm2d(512, eps=1e-05, momentum=0.1, affine=True, track_running_stats=True)\n",
            "      (relu): ReLU(inplace=True)\n",
            "      (conv1): Conv2d(512, 256, kernel_size=(1, 1), stride=(1, 1), bias=False)\n",
            "      (bn2): BatchNorm2d(256, eps=1e-05, momentum=0.1, affine=True, track_running_stats=True)\n",
            "      (conv2): Conv2d(256, 256, kernel_size=(3, 3), stride=(2, 2), padding=(1, 1), bias=False)\n",
            "      (bn3): BatchNorm2d(256, eps=1e-05, momentum=0.1, affine=True, track_running_stats=True)\n",
            "      (conv3): Conv2d(256, 1024, kernel_size=(1, 1), stride=(1, 1), bias=False)\n",
            "      (downsample): Sequential(\n",
            "        (0): Conv2d(512, 1024, kernel_size=(1, 1), stride=(2, 2), bias=False)\n",
            "        (1): BatchNorm2d(1024, eps=1e-05, momentum=0.1, affine=True, track_running_stats=True)\n",
            "      )\n",
            "    )\n",
            "    (1): PreActBottleneck(\n",
            "      (bn1): BatchNorm2d(1024, eps=1e-05, momentum=0.1, affine=True, track_running_stats=True)\n",
            "      (relu): ReLU(inplace=True)\n",
            "      (conv1): Conv2d(1024, 256, kernel_size=(1, 1), stride=(1, 1), bias=False)\n",
            "      (bn2): BatchNorm2d(256, eps=1e-05, momentum=0.1, affine=True, track_running_stats=True)\n",
            "      (conv2): Conv2d(256, 256, kernel_size=(3, 3), stride=(1, 1), padding=(1, 1), bias=False)\n",
            "      (bn3): BatchNorm2d(256, eps=1e-05, momentum=0.1, affine=True, track_running_stats=True)\n",
            "      (conv3): Conv2d(256, 1024, kernel_size=(1, 1), stride=(1, 1), bias=False)\n",
            "    )\n",
            "    (2): PreActBottleneck(\n",
            "      (bn1): BatchNorm2d(1024, eps=1e-05, momentum=0.1, affine=True, track_running_stats=True)\n",
            "      (relu): ReLU(inplace=True)\n",
            "      (conv1): Conv2d(1024, 256, kernel_size=(1, 1), stride=(1, 1), bias=False)\n",
            "      (bn2): BatchNorm2d(256, eps=1e-05, momentum=0.1, affine=True, track_running_stats=True)\n",
            "      (conv2): Conv2d(256, 256, kernel_size=(3, 3), stride=(1, 1), padding=(1, 1), bias=False)\n",
            "      (bn3): BatchNorm2d(256, eps=1e-05, momentum=0.1, affine=True, track_running_stats=True)\n",
            "      (conv3): Conv2d(256, 1024, kernel_size=(1, 1), stride=(1, 1), bias=False)\n",
            "    )\n",
            "    (3): PreActBottleneck(\n",
            "      (bn1): BatchNorm2d(1024, eps=1e-05, momentum=0.1, affine=True, track_running_stats=True)\n",
            "      (relu): ReLU(inplace=True)\n",
            "      (conv1): Conv2d(1024, 256, kernel_size=(1, 1), stride=(1, 1), bias=False)\n",
            "      (bn2): BatchNorm2d(256, eps=1e-05, momentum=0.1, affine=True, track_running_stats=True)\n",
            "      (conv2): Conv2d(256, 256, kernel_size=(3, 3), stride=(1, 1), padding=(1, 1), bias=False)\n",
            "      (bn3): BatchNorm2d(256, eps=1e-05, momentum=0.1, affine=True, track_running_stats=True)\n",
            "      (conv3): Conv2d(256, 1024, kernel_size=(1, 1), stride=(1, 1), bias=False)\n",
            "    )\n",
            "    (4): PreActBottleneck(\n",
            "      (bn1): BatchNorm2d(1024, eps=1e-05, momentum=0.1, affine=True, track_running_stats=True)\n",
            "      (relu): ReLU(inplace=True)\n",
            "      (conv1): Conv2d(1024, 256, kernel_size=(1, 1), stride=(1, 1), bias=False)\n",
            "      (bn2): BatchNorm2d(256, eps=1e-05, momentum=0.1, affine=True, track_running_stats=True)\n",
            "      (conv2): Conv2d(256, 256, kernel_size=(3, 3), stride=(1, 1), padding=(1, 1), bias=False)\n",
            "      (bn3): BatchNorm2d(256, eps=1e-05, momentum=0.1, affine=True, track_running_stats=True)\n",
            "      (conv3): Conv2d(256, 1024, kernel_size=(1, 1), stride=(1, 1), bias=False)\n",
            "    )\n",
            "    (5): PreActBottleneck(\n",
            "      (bn1): BatchNorm2d(1024, eps=1e-05, momentum=0.1, affine=True, track_running_stats=True)\n",
            "      (relu): ReLU(inplace=True)\n",
            "      (conv1): Conv2d(1024, 256, kernel_size=(1, 1), stride=(1, 1), bias=False)\n",
            "      (bn2): BatchNorm2d(256, eps=1e-05, momentum=0.1, affine=True, track_running_stats=True)\n",
            "      (conv2): Conv2d(256, 256, kernel_size=(3, 3), stride=(1, 1), padding=(1, 1), bias=False)\n",
            "      (bn3): BatchNorm2d(256, eps=1e-05, momentum=0.1, affine=True, track_running_stats=True)\n",
            "      (conv3): Conv2d(256, 1024, kernel_size=(1, 1), stride=(1, 1), bias=False)\n",
            "    )\n",
            "  )\n",
            "  (layer4): Sequential(\n",
            "    (0): PreActBottleneck(\n",
            "      (bn1): BatchNorm2d(1024, eps=1e-05, momentum=0.1, affine=True, track_running_stats=True)\n",
            "      (relu): ReLU(inplace=True)\n",
            "      (conv1): Conv2d(1024, 512, kernel_size=(1, 1), stride=(1, 1), bias=False)\n",
            "      (bn2): BatchNorm2d(512, eps=1e-05, momentum=0.1, affine=True, track_running_stats=True)\n",
            "      (conv2): Conv2d(512, 512, kernel_size=(3, 3), stride=(2, 2), padding=(1, 1), bias=False)\n",
            "      (bn3): BatchNorm2d(512, eps=1e-05, momentum=0.1, affine=True, track_running_stats=True)\n",
            "      (conv3): Conv2d(512, 2048, kernel_size=(1, 1), stride=(1, 1), bias=False)\n",
            "      (downsample): Sequential(\n",
            "        (0): Conv2d(1024, 2048, kernel_size=(1, 1), stride=(2, 2), bias=False)\n",
            "        (1): BatchNorm2d(2048, eps=1e-05, momentum=0.1, affine=True, track_running_stats=True)\n",
            "      )\n",
            "    )\n",
            "    (1): PreActBottleneck(\n",
            "      (bn1): BatchNorm2d(2048, eps=1e-05, momentum=0.1, affine=True, track_running_stats=True)\n",
            "      (relu): ReLU(inplace=True)\n",
            "      (conv1): Conv2d(2048, 512, kernel_size=(1, 1), stride=(1, 1), bias=False)\n",
            "      (bn2): BatchNorm2d(512, eps=1e-05, momentum=0.1, affine=True, track_running_stats=True)\n",
            "      (conv2): Conv2d(512, 512, kernel_size=(3, 3), stride=(1, 1), padding=(1, 1), bias=False)\n",
            "      (bn3): BatchNorm2d(512, eps=1e-05, momentum=0.1, affine=True, track_running_stats=True)\n",
            "      (conv3): Conv2d(512, 2048, kernel_size=(1, 1), stride=(1, 1), bias=False)\n",
            "    )\n",
            "    (2): PreActBottleneck(\n",
            "      (bn1): BatchNorm2d(2048, eps=1e-05, momentum=0.1, affine=True, track_running_stats=True)\n",
            "      (relu): ReLU(inplace=True)\n",
            "      (conv1): Conv2d(2048, 512, kernel_size=(1, 1), stride=(1, 1), bias=False)\n",
            "      (bn2): BatchNorm2d(512, eps=1e-05, momentum=0.1, affine=True, track_running_stats=True)\n",
            "      (conv2): Conv2d(512, 512, kernel_size=(3, 3), stride=(1, 1), padding=(1, 1), bias=False)\n",
            "      (bn3): BatchNorm2d(512, eps=1e-05, momentum=0.1, affine=True, track_running_stats=True)\n",
            "      (conv3): Conv2d(512, 2048, kernel_size=(1, 1), stride=(1, 1), bias=False)\n",
            "    )\n",
            "  )\n",
            "  (avgpool): AdaptiveAvgPool2d(output_size=(1, 1))\n",
            "  (fc): Linear(in_features=2048, out_features=1000, bias=True)\n",
            ")\n"
          ]
        }
      ]
    },
    {
      "cell_type": "markdown",
      "source": [
        "**5. Why can’t we just increase the complexity of functions without bound, even if the function classes are nested?**"
      ],
      "metadata": {
        "id": "nDc8S6IvJm9V"
      }
    },
    {
      "cell_type": "markdown",
      "source": [
        "\n",
        "Kita tidak bisa meningkatkan kompleksitas fungsi tanpa batas meskipun kelas fungsi bersarang karena:\n",
        "\n",
        "Overfitting: Model akan belajar detail yang tidak relevan dari data pelatihan dan gagal untuk generalisasi pada data baru.\\\n",
        "Biaya Komputasi: Model yang lebih kompleks memerlukan lebih banyak sumber daya komputasi.\\\n",
        "Vanishing/Exploding Gradients: Pada jaringan dalam, peningkatan kompleksitas dapat menyebabkan kesulitan dalam pelatihan karena masalah gradien yang sangat kecil atau besar.\\\n",
        "Generalization: Kapasitas model yang terlalu besar dapat menyebabkan memorisasi daripada pembelajaran yang baik."
      ],
      "metadata": {
        "id": "50ypBZOLLK-a"
      }
    },
    {
      "cell_type": "markdown",
      "source": [
        "# 8.7. Densely Connected Networks (DenseNet)"
      ],
      "metadata": {
        "id": "RMhrHD74kcyo"
      }
    },
    {
      "cell_type": "markdown",
      "source": [
        "## Dense Blocks"
      ],
      "metadata": {
        "id": "oJmPysxakeNf"
      }
    },
    {
      "cell_type": "code",
      "source": [
        "def conv_block(num_channels):\n",
        "    return nn.Sequential(\n",
        "        nn.LazyBatchNorm2d(), nn.ReLU(),\n",
        "        nn.LazyConv2d(num_channels, kernel_size=3, padding=1))"
      ],
      "metadata": {
        "id": "hF54V-Fqkfwf"
      },
      "execution_count": null,
      "outputs": []
    },
    {
      "cell_type": "code",
      "source": [
        "class DenseBlock(nn.Module):\n",
        "    def __init__(self, num_convs, num_channels):\n",
        "        super(DenseBlock, self).__init__()\n",
        "        layer = []\n",
        "        for i in range(num_convs):\n",
        "            layer.append(conv_block(num_channels))\n",
        "        self.net = nn.Sequential(*layer)\n",
        "\n",
        "    def forward(self, X):\n",
        "        for blk in self.net:\n",
        "            Y = blk(X)\n",
        "            # Concatenate input and output of each block along the channels\n",
        "            X = torch.cat((X, Y), dim=1)\n",
        "        return X"
      ],
      "metadata": {
        "id": "CBUmNSQCkgkL"
      },
      "execution_count": null,
      "outputs": []
    },
    {
      "cell_type": "code",
      "source": [
        "blk = DenseBlock(2, 10)\n",
        "X = torch.randn(4, 3, 8, 8)\n",
        "Y = blk(X)\n",
        "Y.shape"
      ],
      "metadata": {
        "id": "OOHC0YJVkhnX"
      },
      "execution_count": null,
      "outputs": []
    },
    {
      "cell_type": "markdown",
      "source": [
        "## Transition Layers"
      ],
      "metadata": {
        "id": "KbbGoXMJkiB9"
      }
    },
    {
      "cell_type": "code",
      "source": [
        "def transition_block(num_channels):\n",
        "    return nn.Sequential(\n",
        "        nn.LazyBatchNorm2d(), nn.ReLU(),\n",
        "        nn.LazyConv2d(num_channels, kernel_size=1),\n",
        "        nn.AvgPool2d(kernel_size=2, stride=2))"
      ],
      "metadata": {
        "id": "IZorme5Xkj6X"
      },
      "execution_count": null,
      "outputs": []
    },
    {
      "cell_type": "code",
      "source": [
        "blk = transition_block(10)\n",
        "blk(Y).shape"
      ],
      "metadata": {
        "id": "f9R_9-WAklDP"
      },
      "execution_count": null,
      "outputs": []
    },
    {
      "cell_type": "markdown",
      "source": [
        "## DenseNet Model"
      ],
      "metadata": {
        "id": "s9at3buRkl7D"
      }
    },
    {
      "cell_type": "code",
      "source": [
        "class DenseNet(d2l.Classifier):\n",
        "    def b1(self):\n",
        "        return nn.Sequential(\n",
        "            nn.LazyConv2d(64, kernel_size=7, stride=2, padding=3),\n",
        "            nn.LazyBatchNorm2d(), nn.ReLU(),\n",
        "            nn.MaxPool2d(kernel_size=3, stride=2, padding=1))"
      ],
      "metadata": {
        "id": "mIFYTxL1kntw"
      },
      "execution_count": null,
      "outputs": []
    },
    {
      "cell_type": "code",
      "source": [
        "@d2l.add_to_class(DenseNet)\n",
        "def __init__(self, num_channels=64, growth_rate=32, arch=(4, 4, 4, 4),\n",
        "             lr=0.1, num_classes=10):\n",
        "    super(DenseNet, self).__init__()\n",
        "    self.save_hyperparameters()\n",
        "    self.net = nn.Sequential(self.b1())\n",
        "    for i, num_convs in enumerate(arch):\n",
        "        self.net.add_module(f'dense_blk{i+1}', DenseBlock(num_convs,\n",
        "                                                          growth_rate))\n",
        "        # The number of output channels in the previous dense block\n",
        "        num_channels += num_convs * growth_rate\n",
        "        # A transition layer that halves the number of channels is added\n",
        "        # between the dense blocks\n",
        "        if i != len(arch) - 1:\n",
        "            num_channels //= 2\n",
        "            self.net.add_module(f'tran_blk{i+1}', transition_block(\n",
        "                num_channels))\n",
        "    self.net.add_module('last', nn.Sequential(\n",
        "        nn.LazyBatchNorm2d(), nn.ReLU(),\n",
        "        nn.AdaptiveAvgPool2d((1, 1)), nn.Flatten(),\n",
        "        nn.LazyLinear(num_classes)))\n",
        "    self.net.apply(d2l.init_cnn)"
      ],
      "metadata": {
        "id": "LIq6qM80ko7O"
      },
      "execution_count": null,
      "outputs": []
    },
    {
      "cell_type": "markdown",
      "source": [
        "## Training"
      ],
      "metadata": {
        "id": "1jA0C93vkp-r"
      }
    },
    {
      "cell_type": "code",
      "source": [
        "model = DenseNet(lr=0.01)\n",
        "trainer = d2l.Trainer(max_epochs=10, num_gpus=1)\n",
        "data = d2l.FashionMNIST(batch_size=128, resize=(96, 96))\n",
        "trainer.fit(model, data)"
      ],
      "metadata": {
        "id": "0qNHjfENkrPW"
      },
      "execution_count": null,
      "outputs": []
    },
    {
      "cell_type": "markdown",
      "source": [
        "## Exercises"
      ],
      "metadata": {
        "id": "vhcs-X7KYCAf"
      }
    },
    {
      "cell_type": "markdown",
      "source": [
        "**1. Why do we use average pooling rather than max-pooling in the transition layer?**"
      ],
      "metadata": {
        "id": "RlzVHOBUYEEG"
      }
    },
    {
      "cell_type": "markdown",
      "source": [
        "*  ***Feature Map* yang lebih halus**:\n",
        "\n",
        "*Average pooling* menghitung nilai rata-rata dari\n",
        "elemen-elemen di *pooling window*, sehingga menghasilkan *feature map* yang lebih halus dan umum, juga kurang sensitif terhadap noise atau pola spesifik dibandingkan *max pooling*. Pada *transition layer*, hal ini membantu mencegah model dari overfitting pada detail kecil di *layer* awal dan lebih fokus pada struktur keseluruhan input.\n",
        "\n",
        "*  **Mempertahankan informasi dengan lebih baik**:\n",
        "\n",
        "*Max pooling* hanya menyimpan fitur yang paling dominan di setiap area, yang dapat menyebabkan hilangnya informasi penting. Sedangkan, *Average pooling* menangkap distribusi fitur yang lebih luas, yang bisa menghasilkan representasi yang lebih baik.\n",
        "\n",
        "*  ***Gradient Flow***:\n",
        "\n",
        "Dalam beberapa arsitektur, seperti DenseNet, *average pooling* lebih sering dipakai di *transition layer* karena memungkinkan *gradient flow* yang lebih baik selama *backpropagation*. Sifat *average pooling* yang lebih seimbang (dibandingkan *max pooling*) memastikan *gradien* cenderung tidak menghilang, sehingga pelatihan menjadi lebih stabil.\n",
        "\n",
        "*  **Reduksi Dimensi**:\n",
        "\n",
        "Baik *max pooling* maupun *average pooling*, keduanya dimensi spasial dari *feature map*, tetapi *average pooling* melakukannya dengan cara lebih menjaga pola-pola halus dalam gambar, yang dapat berguna dalam mempertahankan integritas data saat melewati *transition layer*."
      ],
      "metadata": {
        "id": "rTIpEnb6YHLO"
      }
    },
    {
      "cell_type": "markdown",
      "source": [
        "**2. One of the advantages mentioned in the DenseNet paper is that its model parameters are smaller than those of ResNet. Why is this the case?**"
      ],
      "metadata": {
        "id": "v5KmOS1qYKiU"
      }
    },
    {
      "cell_type": "markdown",
      "source": [
        "DenseNet memiliki parameter yang lebih kecil daripada ResNet karena pemakaian ulang fitur. Setiap *layer* DenseNet menerima input dari semua *layer* sebelumnya, sehingga fitur tidak perlu dipelajari ulang di setiap *layer*. Selain itu, DenseNet menggunakan *convolutional layer* yang lebih kecil, tanpa *bottleneck* yang berat seperti di ResNet, dan konektivitas antar lapisan yang lebih efisien, sehingga mengurangi jumlah parameter secara keseluruhan."
      ],
      "metadata": {
        "id": "U1B335PVYO-T"
      }
    },
    {
      "cell_type": "markdown",
      "source": [
        "**3. One problem for which DenseNet has been criticized is its high memory consumption.**\n",
        "\n",
        "* **Is this really the case? Try to change the input shape to compare the actual GPU memory consumption empirically.**\n",
        "\n",
        "* **Can you think of an alternative means of reducing the memory consumption? How would you need to change the framework?**"
      ],
      "metadata": {
        "id": "6hq3hz6DcQKI"
      }
    },
    {
      "cell_type": "markdown",
      "source": [
        "DenseNet memiliki konsumsi memori yang tinggi karena setiap *layer* terhubung dengan semua *layer* sebelumnya, yang menyebabkan setiap *layer* harus menyimpan banyak fitur dari semua *layer* sebelumnya."
      ],
      "metadata": {
        "id": "yZMUFjxTcuVG"
      }
    },
    {
      "cell_type": "markdown",
      "source": [
        "Untuk membandingkan penggunaan memori GPU antara DenseNet dan model lain (misalnya, ResNet), kita dapat mengubah input shape dan mengukur penggunaan memori GPU. Berikut langkah-langkah umum untuk melakukan eksperimen ini:\n",
        "\n",
        "1.  Jalankan DenseNet dan ResNet dengan input yang sama, misalnya input dengan ukuran 224x224.\n",
        "2.  Ukur penggunaan memori GPU menggunakan alat seperti nvidia-smi atau melalui framework seperti PyTorch yang memungkinkan kita untuk melacak penggunaan memori GPU.\n",
        "3.  Ubah ukuran input (misalnya, dari 224x224 menjadi 512x512) dan ulangi pengukuran.\n",
        "4.  Bandingkan penggunaan memori GPU untuk setiap ukuran input pada DenseNet dan ResNet untuk melihat perbedaannya."
      ],
      "metadata": {
        "id": "7ax6l2q4cxGA"
      }
    },
    {
      "cell_type": "markdown",
      "source": [
        "Beberapa alternatif untuk mengurangi konsumsi memori DenseNet adalah:\n",
        "\n",
        "*  Gradient Checkpointing\n",
        "*  Mengurangi Growth Rate\n",
        "*  Pruning\n",
        "*  Menggunakan 1x1 Convolutions\n",
        "\n",
        "Untuk mengimplementasikan solusi-solusi ini, *framework* Deep Learning seperti PyTorch atau TensorFlow perlu mendukung beberapa fitur:\n",
        "\n",
        "Gradient Checkpointing: Framework ini sudah mendukung teknik gradient checkpointing secara native, jadi pengguna hanya perlu mengaktifkan fitur ini.\n",
        "\n",
        "Pruning: Framework perlu mendukung algoritma pruning atau menyediakan API yang memungkinkan pengurangan koneksi antar-lapisan.\n",
        "\n",
        "Dynamic Growth Rate: Framework bisa mendukung pengaturan growth rate yang lebih adaptif, memungkinkan penyesuaian growth rate secara otomatis berdasarkan kebutuhan memori atau komputasi."
      ],
      "metadata": {
        "id": "2o6q-n3Kczlh"
      }
    },
    {
      "cell_type": "markdown",
      "source": [
        "**4.  Implement the various DenseNet versions presented in Table 1 of the DenseNet paper (Huang et al., 2017).**"
      ],
      "metadata": {
        "id": "268ahkkkc2Vf"
      }
    },
    {
      "cell_type": "code",
      "source": [
        "import torch\n",
        "import torchvision.models as models\n",
        "from torchsummary import summary"
      ],
      "metadata": {
        "id": "Ac67WukRc5GG"
      },
      "execution_count": null,
      "outputs": []
    },
    {
      "cell_type": "code",
      "source": [
        "def conv_block(num_channels, kernel_size, padding):\n",
        "    return nn.Sequential(\n",
        "        nn.LazyBatchNorm2d(), nn.ReLU(),\n",
        "        nn.LazyConv2d(num_channels, kernel_size=kernel_size, padding=padding))\n",
        "\n",
        "def transition_block(num_channels):\n",
        "    return nn.Sequential(\n",
        "        nn.LazyBatchNorm2d(), nn.ReLU(),\n",
        "        nn.LazyConv2d(num_channels, kernel_size=1),\n",
        "        nn.AvgPool2d(kernel_size=2, stride=2))\n",
        "\n",
        "class DenseBlock(nn.Module):\n",
        "    def __init__(self, convs, num_channels):\n",
        "        super(DenseBlock, self).__init__()\n",
        "        layer = []\n",
        "        for kernel_size, padding in convs:\n",
        "            layer.append(conv_block(num_channels, kernel_size, padding))\n",
        "        self.net = nn.Sequential(*layer)\n",
        "\n",
        "    def forward(self, X):\n",
        "        for blk in self.net:\n",
        "            Y = blk(X)\n",
        "            # Concatenate input and output of each block along the channels\n",
        "            X = torch.cat((X, Y), dim=1)\n",
        "        return X\n",
        "\n",
        "class DenseNet(d2l.Classifier):\n",
        "    def b1(self):\n",
        "        return nn.Sequential(\n",
        "            nn.LazyConv2d(64, kernel_size=7, stride=2, padding=3),\n",
        "            nn.LazyBatchNorm2d(), nn.ReLU(),\n",
        "            nn.MaxPool2d(kernel_size=3, stride=2, padding=1))\n",
        "\n",
        "    def __init__(self, num_channels=64, growth_rate=32, arch=[[[3,1],[3,1]],[[3,1],[3,1]]],lr=0.1, num_classes=10):\n",
        "        super(DenseNet, self).__init__()\n",
        "        self.save_hyperparameters()\n",
        "        self.net = nn.Sequential(self.b1())\n",
        "        for i, convs in enumerate(arch):\n",
        "            self.net.add_module(f'dense_blk{i+1}', DenseBlock(convs, growth_rate))\n",
        "            # The number of output channels in the previous dense block\n",
        "            num_channels += len(convs) * growth_rate\n",
        "            # A transition layer that halves the number of channels is added\n",
        "            # between the dense blocks\n",
        "            if i != len(arch) - 1:\n",
        "                num_channels //= 2\n",
        "                self.net.add_module(f'tran_blk{i+1}', transition_block(\n",
        "                    num_channels))\n",
        "        self.net.add_module('last', nn.Sequential(\n",
        "            nn.LazyBatchNorm2d(), nn.ReLU(),\n",
        "            nn.AdaptiveAvgPool2d((1, 1)), nn.Flatten(),\n",
        "            nn.LazyLinear(num_classes)))\n",
        "        self.net.apply(d2l.init_cnn)"
      ],
      "metadata": {
        "id": "gjJDWiLlc9rn"
      },
      "execution_count": null,
      "outputs": []
    },
    {
      "cell_type": "code",
      "source": [
        "data = d2l.FashionMNIST(batch_size=32, resize=(224, 224))\n",
        "arch121 = ([[[1,0],[3,1]]*6,[[1,0],[3,1]]*12,[[1,0],[3,1]]*24,[[1,0],[3,1]]*16])\n",
        "densenet121 = DenseNet(lr=0.01, arch=arch121)\n",
        "densenet121.apply_init([next(iter(data.get_dataloader(True)))[0]], d2l.init_cnn)\n",
        "# print(count_parameters(model))\n",
        "summary(densenet121, (1, 224, 224))"
      ],
      "metadata": {
        "id": "sUTW3b0Oc_ug"
      },
      "execution_count": null,
      "outputs": []
    },
    {
      "cell_type": "markdown",
      "source": [
        "**5.  Design an MLP-based model by applying the DenseNet idea. Apply it to the housing price prediction task in Section 5.7.**"
      ],
      "metadata": {
        "id": "-eCvbUt_dC6E"
      }
    },
    {
      "cell_type": "markdown",
      "source": [
        "1. Inspirasi dari DenseNet:\n",
        "\n",
        "*  Memanfaatkan konsep dari dense connections di antara layer-layer, di mana setiap layer menerima input dari semua layer sebelumnya.\n",
        "\n",
        "2. Model Architecture:\n",
        "\n",
        "*  Mulai dengan layer input yang menerima fitur-fitur informasi.\n",
        "*  Tambahkan beberapa layer tersembunyi dengan jumlah neuron yang bervariasi.\n",
        "*  Setiap layer baru menggabungkan output dari semua lapisan sebelumnya.\n",
        "\n",
        "3. Data Processing:\n",
        "\n",
        "*  Siapkan dataset dengan membagi data menjadi set pelatihan dan set pengujian.\n",
        "*  Normalisasi atau standarisasi fitur untuk meningkatkan performa model.\n",
        "\n",
        "4. Model Training:\n",
        "\n",
        "*  Gunakan metode optimasi seperti gradient descent untuk melatih model.\n",
        "*  Minimalkan kesalahan prediksi menggunakan fungsi loss, seperti Mean Squared Error (MSE).\n",
        "\n",
        "5. Model Evaluation:\n",
        "\n",
        "*  Uji model pada set pengujian untuk menilai akurasi prediksi.)\n",
        "*  Bandingkan hasil dengan model lain untuk mengevaluasi keefektifan pendekatan DenseNet."
      ],
      "metadata": {
        "id": "XawNqoJtdGGO"
      }
    },
    {
      "cell_type": "markdown",
      "source": [
        "# 8.8. Designing Convolution Network Architectures"
      ],
      "metadata": {
        "id": "tQ70Hjxikun4"
      }
    },
    {
      "cell_type": "markdown",
      "source": [
        "## The AnyNet Design Space"
      ],
      "metadata": {
        "id": "KVxR7SHwky4L"
      }
    },
    {
      "cell_type": "code",
      "source": [
        "class AnyNet(d2l.Classifier):\n",
        "    def stem(self, num_channels):\n",
        "        return nn.Sequential(\n",
        "            nn.LazyConv2d(num_channels, kernel_size=3, stride=2, padding=1),\n",
        "            nn.LazyBatchNorm2d(), nn.ReLU())"
      ],
      "metadata": {
        "id": "qLkEMehDk0oM"
      },
      "execution_count": null,
      "outputs": []
    },
    {
      "cell_type": "code",
      "source": [
        "@d2l.add_to_class(AnyNet)\n",
        "def stage(self, depth, num_channels, groups, bot_mul):\n",
        "    blk = []\n",
        "    for i in range(depth):\n",
        "        if i == 0:\n",
        "            blk.append(d2l.ResNeXtBlock(num_channels, groups, bot_mul,\n",
        "                use_1x1conv=True, strides=2))\n",
        "        else:\n",
        "            blk.append(d2l.ResNeXtBlock(num_channels, groups, bot_mul))\n",
        "    return nn.Sequential(*blk)"
      ],
      "metadata": {
        "id": "KtFudvlNk1c7"
      },
      "execution_count": null,
      "outputs": []
    },
    {
      "cell_type": "code",
      "source": [
        "@d2l.add_to_class(AnyNet)\n",
        "def __init__(self, arch, stem_channels, lr=0.1, num_classes=10):\n",
        "    super(AnyNet, self).__init__()\n",
        "    self.save_hyperparameters()\n",
        "    self.net = nn.Sequential(self.stem(stem_channels))\n",
        "    for i, s in enumerate(arch):\n",
        "        self.net.add_module(f'stage{i+1}', self.stage(*s))\n",
        "    self.net.add_module('head', nn.Sequential(\n",
        "        nn.AdaptiveAvgPool2d((1, 1)), nn.Flatten(),\n",
        "        nn.LazyLinear(num_classes)))\n",
        "    self.net.apply(d2l.init_cnn)"
      ],
      "metadata": {
        "id": "vcB1p_tHk2MD"
      },
      "execution_count": null,
      "outputs": []
    },
    {
      "cell_type": "markdown",
      "source": [
        "## RegNet"
      ],
      "metadata": {
        "id": "HG1iIwifk4Ym"
      }
    },
    {
      "cell_type": "code",
      "source": [
        "class RegNetX32(AnyNet):\n",
        "    def __init__(self, lr=0.1, num_classes=10):\n",
        "        stem_channels, groups, bot_mul = 32, 16, 1\n",
        "        depths, channels = (4, 6), (32, 80)\n",
        "        super().__init__(\n",
        "            ((depths[0], channels[0], groups, bot_mul),\n",
        "             (depths[1], channels[1], groups, bot_mul)),\n",
        "            stem_channels, lr, num_classes)"
      ],
      "metadata": {
        "id": "0iinsILjk6SN"
      },
      "execution_count": null,
      "outputs": []
    },
    {
      "cell_type": "code",
      "source": [
        "RegNetX32().layer_summary((1, 1, 96, 96))"
      ],
      "metadata": {
        "id": "Y7KjZnw3k7J-"
      },
      "execution_count": null,
      "outputs": []
    },
    {
      "cell_type": "markdown",
      "source": [
        "## Training"
      ],
      "metadata": {
        "id": "yWGknHqUk7g6"
      }
    },
    {
      "cell_type": "code",
      "source": [
        "model = RegNetX32(lr=0.05)\n",
        "trainer = d2l.Trainer(max_epochs=10, num_gpus=1)\n",
        "data = d2l.FashionMNIST(batch_size=128, resize=(96, 96))\n",
        "trainer.fit(model, data)"
      ],
      "metadata": {
        "id": "yBuuVbCqk9Jr"
      },
      "execution_count": null,
      "outputs": []
    },
    {
      "cell_type": "markdown",
      "source": [
        "## Exercises"
      ],
      "metadata": {
        "id": "6f_mksscdJez"
      }
    },
    {
      "cell_type": "markdown",
      "source": [
        "**1.  Increase the number of stages to four. Can you design a deeper RegNetX that performs better?**"
      ],
      "metadata": {
        "id": "2yP5IVyAdLGB"
      }
    },
    {
      "cell_type": "code",
      "source": [
        "import torch\n",
        "import torch.nn as nn\n",
        "import torch.nn.functional as F\n",
        "from torchsummary import summary\n",
        "\n",
        "class AnyNet(nn.Module):\n",
        "    def stem(self, num_channels):\n",
        "        return nn.Sequential(\n",
        "            nn.Conv2d(3, num_channels, kernel_size=3, stride=2, padding=1),\n",
        "            nn.BatchNorm2d(num_channels), nn.ReLU())\n",
        "\n",
        "    def stage(self, depth, num_channels, prev_channels, groups, bot_mul):\n",
        "        blk = []\n",
        "        if num_channels != prev_channels:  # Jika jumlah channels berubah, tambahkan 1x1 convolution\n",
        "            blk.append(nn.Conv2d(prev_channels, num_channels, kernel_size=1, stride=1))\n",
        "        for i in range(depth):\n",
        "            if i == 0:\n",
        "                blk.append(self.ResNeXtBlock(num_channels, groups, bot_mul, use_1x1conv=True, strides=2))\n",
        "            else:\n",
        "                blk.append(self.ResNeXtBlock(num_channels, groups, bot_mul))\n",
        "        return nn.Sequential(*blk)\n",
        "\n",
        "    def __init__(self, arch, stem_channels, lr=0.1, num_classes=10):\n",
        "        super(AnyNet, self).__init__()\n",
        "        self.net = nn.Sequential(self.stem(stem_channels))\n",
        "        prev_channels = stem_channels  # Menyimpan jumlah channel sebelumnya untuk peralihan stage\n",
        "        for i, s in enumerate(arch):\n",
        "            self.net.add_module(f'stage{i+1}', self.stage(s[0], s[1], prev_channels, s[2], s[3]))\n",
        "            prev_channels = s[1]  # Update jumlah channels setelah stage\n",
        "        self.net.add_module('head', nn.Sequential(\n",
        "            nn.AdaptiveAvgPool2d((1, 1)), nn.Flatten(),\n",
        "            nn.Linear(prev_channels, num_classes)))  # Menggunakan channels dari stage terakhir\n",
        "        self.init_weights()\n",
        "\n",
        "    def init_weights(self):\n",
        "        for m in self.modules():\n",
        "            if isinstance(m, nn.Conv2d):\n",
        "                nn.init.kaiming_normal_(m.weight, mode='fan_out', nonlinearity='relu')\n",
        "            elif isinstance(m, nn.BatchNorm2d):\n",
        "                nn.init.constant_(m.weight, 1)\n",
        "                nn.init.constant_(m.bias, 0)\n",
        "\n",
        "    class ResNeXtBlock(nn.Module):\n",
        "        def __init__(self, num_channels, groups, bot_mul, use_1x1conv=False, strides=1):\n",
        "            super().__init__()\n",
        "            mid_channels = int(num_channels * bot_mul)\n",
        "            self.conv1 = nn.Conv2d(num_channels, mid_channels, kernel_size=1, bias=False)\n",
        "            self.bn1 = nn.BatchNorm2d(mid_channels)\n",
        "            self.conv2 = nn.Conv2d(mid_channels, mid_channels, kernel_size=3, stride=strides,\n",
        "                                   padding=1, groups=groups, bias=False)\n",
        "            self.bn2 = nn.BatchNorm2d(mid_channels)\n",
        "            self.conv3 = nn.Conv2d(mid_channels, num_channels, kernel_size=1, bias=False)\n",
        "            self.bn3 = nn.BatchNorm2d(num_channels)\n",
        "            if use_1x1conv:\n",
        "                self.conv1x1 = nn.Conv2d(num_channels, num_channels, kernel_size=1, stride=strides, bias=False)\n",
        "                self.bn1x1 = nn.BatchNorm2d(num_channels)\n",
        "            else:\n",
        "                self.conv1x1 = None\n",
        "\n",
        "        def forward(self, x):\n",
        "            residual = x\n",
        "            out = F.relu(self.bn1(self.conv1(x)))\n",
        "            out = F.relu(self.bn2(self.conv2(out)))\n",
        "            out = self.bn3(self.conv3(out))\n",
        "\n",
        "            if self.conv1x1:\n",
        "                residual = self.bn1x1(self.conv1x1(x))\n",
        "\n",
        "            return F.relu(out + residual)\n",
        "\n",
        "    def forward(self, x):\n",
        "        return self.net(x)\n",
        "\n",
        "# Definisikan RegNetX yang lebih dalam\n",
        "class RegNetXDeep(AnyNet):\n",
        "    def __init__(self, lr=0.1, num_classes=10):\n",
        "        stem_channels, groups, bot_mul = 32, 16, 1\n",
        "        # Kedalaman dan jumlah channel meningkat pada empat stages\n",
        "        depths, channels = (6, 8, 12, 18), (32, 80, 128, 256)\n",
        "        super().__init__(\n",
        "            [(depths[i], channels[i], groups, bot_mul) for i in range(len(depths))],\n",
        "            stem_channels, lr, num_classes)\n",
        "\n",
        "# Contoh untuk mengecek model\n",
        "model = RegNetXDeep()\n",
        "summary(model, (3, 224, 224))  # Ukuran input 3x224x224"
      ],
      "metadata": {
        "id": "nACu7RObdSSs"
      },
      "execution_count": null,
      "outputs": []
    },
    {
      "cell_type": "markdown",
      "source": [
        "**2. De-ResNeXt-ify RegNets by replacing the ResNeXt block with the ResNet block. How does your new model perform?**"
      ],
      "metadata": {
        "id": "DxkPTJZedWTr"
      }
    },
    {
      "cell_type": "code",
      "source": [
        "import torch\n",
        "import torch.nn as nn\n",
        "import torch.nn.functional as F\n",
        "from torchsummary import summary\n",
        "\n",
        "class AnyNet(nn.Module):\n",
        "    def stem(self, num_channels):\n",
        "        return nn.Sequential(\n",
        "            nn.Conv2d(3, num_channels, kernel_size=3, stride=2, padding=1),\n",
        "            nn.BatchNorm2d(num_channels), nn.ReLU())\n",
        "\n",
        "    def stage(self, depth, num_channels, prev_channels, use_1x1conv=False):\n",
        "        blk = []\n",
        "        if num_channels != prev_channels:  # Jika jumlah channels berubah, tambahkan 1x1 convolution\n",
        "            blk.append(nn.Conv2d(prev_channels, num_channels, kernel_size=1, stride=1))\n",
        "        for i in range(depth):\n",
        "            if i == 0:\n",
        "                blk.append(self.ResNetBlock(num_channels, use_1x1conv=True, strides=2))\n",
        "            else:\n",
        "                blk.append(self.ResNetBlock(num_channels))\n",
        "        return nn.Sequential(*blk)\n",
        "\n",
        "    def __init__(self, arch, stem_channels, lr=0.1, num_classes=10):\n",
        "        super(AnyNet, self).__init__()\n",
        "        self.net = nn.Sequential(self.stem(stem_channels))\n",
        "        prev_channels = stem_channels  # Menyimpan jumlah channel sebelumnya untuk peralihan stage\n",
        "        for i, s in enumerate(arch):\n",
        "            self.net.add_module(f'stage{i+1}', self.stage(s[0], s[1], prev_channels))\n",
        "            prev_channels = s[1]  # Update jumlah channels setelah stage\n",
        "        self.net.add_module('head', nn.Sequential(\n",
        "            nn.AdaptiveAvgPool2d((1, 1)), nn.Flatten(),\n",
        "            nn.Linear(prev_channels, num_classes)))  # Menggunakan channels dari stage terakhir\n",
        "        self.init_weights()\n",
        "\n",
        "    def init_weights(self):\n",
        "        for m in self.modules():\n",
        "            if isinstance(m, nn.Conv2d):\n",
        "                nn.init.kaiming_normal_(m.weight, mode='fan_out', nonlinearity='relu')\n",
        "            elif isinstance(m, nn.BatchNorm2d):\n",
        "                nn.init.constant_(m.weight, 1)\n",
        "                nn.init.constant_(m.bias, 0)\n",
        "\n",
        "    class ResNetBlock(nn.Module):\n",
        "        def __init__(self, num_channels, use_1x1conv=False, strides=1):\n",
        "            super().__init__()\n",
        "            self.conv1 = nn.Conv2d(num_channels, num_channels, kernel_size=3, stride=strides, padding=1, bias=False)\n",
        "            self.bn1 = nn.BatchNorm2d(num_channels)\n",
        "            self.conv2 = nn.Conv2d(num_channels, num_channels, kernel_size=3, stride=1, padding=1, bias=False)\n",
        "            self.bn2 = nn.BatchNorm2d(num_channels)\n",
        "            if use_1x1conv:\n",
        "                self.conv1x1 = nn.Conv2d(num_channels, num_channels, kernel_size=1, stride=strides, bias=False)\n",
        "                self.bn1x1 = nn.BatchNorm2d(num_channels)\n",
        "            else:\n",
        "                self.conv1x1 = None\n",
        "\n",
        "        def forward(self, x):\n",
        "            residual = x\n",
        "            out = F.relu(self.bn1(self.conv1(x)))\n",
        "            out = self.bn2(self.conv2(out))\n",
        "\n",
        "            if self.conv1x1:\n",
        "                residual = self.bn1x1(self.conv1x1(x))\n",
        "\n",
        "            return F.relu(out + residual)\n",
        "\n",
        "    def forward(self, x):\n",
        "        return self.net(x)\n",
        "\n",
        "# Definisikan RegNet yang lebih dalam dengan ResNetBlock\n",
        "class RegNetXResNet(AnyNet):\n",
        "    def __init__(self, lr=0.1, num_classes=10):\n",
        "        stem_channels = 32\n",
        "        # Kedalaman dan jumlah channel meningkat pada empat stages\n",
        "        depths, channels = (6, 8, 12, 18), (32, 80, 128, 256)\n",
        "        super().__init__(\n",
        "            [(depths[i], channels[i], False) for i in range(len(depths))],\n",
        "            stem_channels, lr, num_classes)\n",
        "\n",
        "# Contoh untuk mengecek model\n",
        "model = RegNetXResNet()\n",
        "summary(model, (3, 224, 224))  # Ukuran input 3x224x224"
      ],
      "metadata": {
        "id": "TtT6cVbJdZql"
      },
      "execution_count": null,
      "outputs": []
    },
    {
      "cell_type": "markdown",
      "source": [
        "![image.png](data:image/png;base64,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)"
      ],
      "metadata": {
        "id": "JNAFxJj-dd_h"
      }
    },
    {
      "cell_type": "code",
      "source": [
        "import torch\n",
        "import torch.nn as nn\n",
        "import torch.nn.functional as F\n",
        "from torchsummary import summary\n",
        "\n",
        "class VioNetBlock(nn.Module):\n",
        "    def __init__(self, num_channels, kernel_size=3, use_1x1conv=False, strides=1, skip_connections=True):\n",
        "        super().__init__()\n",
        "        self.conv1 = nn.Conv2d(num_channels, num_channels, kernel_size=kernel_size, stride=strides, padding=kernel_size//2)\n",
        "        self.bn1 = nn.BatchNorm2d(num_channels)\n",
        "        self.conv2 = nn.Conv2d(num_channels, num_channels, kernel_size=kernel_size, stride=1, padding=kernel_size//2)\n",
        "        self.bn2 = nn.BatchNorm2d(num_channels)\n",
        "        self.skip_connections = skip_connections\n",
        "        if use_1x1conv:\n",
        "            self.conv1x1 = nn.Conv2d(num_channels, num_channels, kernel_size=1, stride=strides)\n",
        "        else:\n",
        "            self.conv1x1 = None\n",
        "\n",
        "    def forward(self, x):\n",
        "        residual = x\n",
        "        out = F.relu(self.bn1(self.conv1(x)))\n",
        "        out = self.bn2(self.conv2(out))\n",
        "\n",
        "        if self.skip_connections and self.conv1x1:\n",
        "            residual = self.conv1x1(x)\n",
        "\n",
        "        if self.skip_connections:\n",
        "            return F.relu(out + residual)\n",
        "        else:\n",
        "            return F.relu(out)\n",
        "\n",
        "class VioNet(nn.Module):\n",
        "    def __init__(self, arch, stem_channels, lr=0.1, num_classes=10):\n",
        "        super(VioNet, self).__init__()\n",
        "        self.net = nn.Sequential(self.stem(stem_channels))\n",
        "        prev_channels = stem_channels\n",
        "        for i, s in enumerate(arch):\n",
        "            self.net.add_module(f'stage{i+1}', self.stage(s[0], s[1], s[2], prev_channels))\n",
        "            prev_channels = s[1]\n",
        "        self.net.add_module('head', nn.Sequential(\n",
        "            nn.AdaptiveAvgPool2d((1, 1)), nn.Flatten(),\n",
        "            nn.Linear(prev_channels, num_classes)))\n",
        "        self.init_weights()\n",
        "\n",
        "    def stem(self, num_channels):\n",
        "        return nn.Sequential(\n",
        "            nn.Conv2d(3, num_channels, kernel_size=3, stride=2, padding=1),\n",
        "            nn.BatchNorm2d(num_channels), nn.ReLU())\n",
        "\n",
        "    def stage(self, depth, num_channels, kernel_size, prev_channels):\n",
        "        blk = []\n",
        "        if num_channels != prev_channels:\n",
        "            blk.append(nn.Conv2d(prev_channels, num_channels, kernel_size=1))\n",
        "        for i in range(depth):\n",
        "            blk.append(VioNetBlock(num_channels, kernel_size=kernel_size, use_1x1conv=(i == 0)))\n",
        "        return nn.Sequential(*blk)\n",
        "\n",
        "    def init_weights(self):\n",
        "        for m in self.modules():\n",
        "            if isinstance(m, nn.Conv2d):\n",
        "                nn.init.kaiming_normal_(m.weight, mode='fan_out', nonlinearity='relu')\n",
        "            elif isinstance(m, nn.BatchNorm2d):\n",
        "                nn.init.constant_(m.weight, 1)\n",
        "                nn.init.constant_(m.bias, 0)\n",
        "\n",
        "    def forward(self, x):\n",
        "        return self.net(x)\n",
        "\n",
        "# Desain beberapa model VioNet dengan pelanggaran yang berbeda\n",
        "# (depth, num_channels, kernel_size) per stage\n",
        "vioNet1 = VioNet([(4, 32, 3), (2, 64, 5), (6, 128, 1), (2, 256, 3)], stem_channels=16)\n",
        "vioNet2 = VioNet([(3, 32, 1), (4, 80, 3), (5, 160, 5), (3, 320, 3)], stem_channels=32)\n",
        "\n",
        "# Cek model\n",
        "summary(vioNet1, (3, 224, 224))\n",
        "summary(vioNet2, (3, 224, 224))"
      ],
      "metadata": {
        "id": "Vnm7hpoHde4x"
      },
      "execution_count": null,
      "outputs": []
    },
    {
      "cell_type": "markdown",
      "source": [
        "**4. Your goal is to design the “perfect” MLP. Can you use the design principles introduced above to find good architectures? Is it possible to extrapolate from small to large networks?**"
      ],
      "metadata": {
        "id": "1YX6MHbWdk01"
      }
    },
    {
      "cell_type": "code",
      "source": [
        "# 1. Mulai dengan arsitektur dasar:\n",
        "\n",
        "import torch\n",
        "import torch.nn as nn\n",
        "import torch.nn.functional as F\n",
        "\n",
        "class SimpleMLP(nn.Module):\n",
        "    def __init__(self, input_size, hidden_size, num_classes):\n",
        "        super(SimpleMLP, self).__init__()\n",
        "        self.fc1 = nn.Linear(input_size, hidden_size)\n",
        "        self.fc2 = nn.Linear(hidden_size, hidden_size)\n",
        "        self.fc3 = nn.Linear(hidden_size, num_classes)\n",
        "\n",
        "    def forward(self, x):\n",
        "        x = F.relu(self.fc1(x))\n",
        "        x = F.relu(self.fc2(x))\n",
        "        x = self.fc3(x)\n",
        "        return x\n",
        "\n",
        "# 2. Tambahkan kedalaman dan regularization:\n",
        "\n",
        "class DeepMLP(nn.Module):\n",
        "    def __init__(self, input_size, hidden_size, num_classes, depth):\n",
        "        super(DeepMLP, self).__init__()\n",
        "        self.layers = nn.ModuleList()\n",
        "        self.layers.append(nn.Linear(input_size, hidden_size))\n",
        "        for _ in range(depth):\n",
        "            self.layers.append(nn.Linear(hidden_size, hidden_size))\n",
        "            self.layers.append(nn.Dropout(p=0.5))  # Regularization\n",
        "        self.layers.append(nn.Linear(hidden_size, num_classes))\n",
        "\n",
        "    def forward(self, x):\n",
        "        for layer in self.layers:\n",
        "            x = F.relu(layer(x))\n",
        "        return x\n",
        "\n",
        "# 3. Eksperimen dengan skip connections:\n",
        "\n",
        "class SkipMLP(nn.Module):\n",
        "    def __init__(self, input_size, hidden_size, num_classes, depth):\n",
        "        super(SkipMLP, self).__init__()\n",
        "        self.layers = nn.ModuleList()\n",
        "        self.layers.append(nn.Linear(input_size, hidden_size))\n",
        "        for _ in range(depth):\n",
        "            self.layers.append(nn.Linear(hidden_size, hidden_size))\n",
        "        self.layers.append(nn.Linear(hidden_size, num_classes))\n",
        "\n",
        "    def forward(self, x):\n",
        "        skip = x\n",
        "        for layer in self.layers:\n",
        "            x = F.relu(layer(x))\n",
        "        return x + skip  # Skip connection"
      ],
      "metadata": {
        "id": "1K7fUDxldoIf"
      },
      "execution_count": null,
      "outputs": []
    }
  ]
}